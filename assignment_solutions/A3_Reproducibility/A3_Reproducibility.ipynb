{
 "cells": [
  {
   "cell_type": "markdown",
   "id": "53030e82",
   "metadata": {},
   "source": [
    "# Content\n",
    "#### 1. Tasks\n",
    "#### 2. Brainstorming on Dataset\n",
    "#### 3. Reproducible Model Training\n",
    "#### (4. Optimization of Model)\n",
    "#### 5. Documentation and Reflection\n",
    "#### 6. Summary"
   ]
  },
  {
   "cell_type": "markdown",
   "id": "4c651467",
   "metadata": {},
   "source": [
    "# 1. Tasks "
   ]
  },
  {
   "cell_type": "markdown",
   "id": "9ba43364",
   "metadata": {},
   "source": [
    "<ol>\n",
    "    <li> Build a model that is predicting the creditworthiness of applicants. Make use of the pre-processed South German Credit dataset </li>\n",
    "    <li> Optimize your model, until you are satisfied </li>\n",
    "    <li> Reflect on what made you satisfied with the model's performance </li>\n",
    "</ol>\n",
    "\n",
    "Make sure that..\n",
    "   <ul>\n",
    "        <li> .. you have a clear directory structure. </li> \n",
    "        <li> .. you have a file (e.g. README.txt) documenting all your data, files and folders. </li> \n",
    "        <li> .. you document your code and the steps you did </li> \n",
    "        <li> .. your results are completely reproducible by using the `run all cells` command in your jupyter notebook </li> \n",
    "   </ul>\n",
    "   "
   ]
  },
  {
   "cell_type": "markdown",
   "id": "08c178a1",
   "metadata": {},
   "source": [
    "# 2. Brainstorming on Dataset"
   ]
  },
  {
   "cell_type": "markdown",
   "id": "401b6c56",
   "metadata": {},
   "source": [
    "**[Contextualization](https://github.com/FUB-HCC/hcds-summer-2022/blob/main/lecture/HCDS22-03_Reproducibility.pdf)**: The dataset is from the 1970's, therefore we can assume that [moral and social implications](https://github.com/FUB-HCC/hcds-summer-2022/blob/main/lecture/HCDS22-05_Bias_Discrimination.pdf) that matched the general opinion of the average soceity will have impact on the dataset.\n",
    "\n",
    "_We assume_: \n",
    "<ul> \n",
    "    <li> The data was not collected manually (no computers) </li>\n",
    "    <li> Data contains biases connected to data </li>\n",
    "    <li> Not every household had a car or telephone </li>\n",
    "</ul>\n",
    "\n",
    "\n"
   ]
  },
  {
   "cell_type": "markdown",
   "id": "df09f867",
   "metadata": {},
   "source": [
    "# 3. Reproducible Model Training"
   ]
  },
  {
   "cell_type": "markdown",
   "id": "55e46080",
   "metadata": {},
   "source": [
    "### 3.1. Pipenv"
   ]
  },
  {
   "cell_type": "code",
   "execution_count": 63,
   "id": "185a6cd9",
   "metadata": {},
   "outputs": [],
   "source": [
    "##############TODO"
   ]
  },
  {
   "cell_type": "markdown",
   "id": "a0d1968b",
   "metadata": {},
   "source": [
    "### 3.2. Model"
   ]
  },
  {
   "cell_type": "code",
   "execution_count": 145,
   "id": "0f9fa7ce",
   "metadata": {},
   "outputs": [],
   "source": [
    "# import necessary libraries\n",
    "import pandas as pd\n",
    "import numpy as np\n",
    "import seaborn as sns\n",
    "import matplotlib.pyplot as plt\n",
    "from sklearn import tree\n",
    "from sklearn.model_selection import train_test_split\n",
    "from sklearn.tree import DecisionTreeClassifier\n",
    "from sklearn.ensemble import RandomForestClassifier\n",
    "from sklearn.model_selection import train_test_split\n",
    "from sklearn.linear_model import LogisticRegression\n",
    "from sklearn import metrics\n",
    "from sklearn import svm"
   ]
  },
  {
   "cell_type": "code",
   "execution_count": 146,
   "id": "061f918c",
   "metadata": {},
   "outputs": [],
   "source": [
    "df = pd.read_csv('south_german_credit_data_preprocessed.csv')"
   ]
  },
  {
   "cell_type": "markdown",
   "id": "d06351c3",
   "metadata": {},
   "source": [
    "##### Data Preparation"
   ]
  },
  {
   "cell_type": "code",
   "execution_count": 147,
   "id": "1239088f",
   "metadata": {
    "scrolled": true
   },
   "outputs": [
    {
     "data": {
      "text/html": [
       "<div>\n",
       "<style scoped>\n",
       "    .dataframe tbody tr th:only-of-type {\n",
       "        vertical-align: middle;\n",
       "    }\n",
       "\n",
       "    .dataframe tbody tr th {\n",
       "        vertical-align: top;\n",
       "    }\n",
       "\n",
       "    .dataframe thead th {\n",
       "        text-align: right;\n",
       "    }\n",
       "</style>\n",
       "<table border=\"1\" class=\"dataframe\">\n",
       "  <thead>\n",
       "    <tr style=\"text-align: right;\">\n",
       "      <th></th>\n",
       "      <th>checking account</th>\n",
       "      <th>duration in month</th>\n",
       "      <th>credit history</th>\n",
       "      <th>credit purpose</th>\n",
       "      <th>credit amount</th>\n",
       "      <th>savings account</th>\n",
       "      <th>employment since..</th>\n",
       "      <th>installment rate</th>\n",
       "      <th>status : sex</th>\n",
       "      <th>other debtors / guarantors</th>\n",
       "      <th>...</th>\n",
       "      <th>property</th>\n",
       "      <th>relationship : age</th>\n",
       "      <th>other installment plans</th>\n",
       "      <th>housing</th>\n",
       "      <th>existing credits</th>\n",
       "      <th>job</th>\n",
       "      <th>people to provide maintenance for</th>\n",
       "      <th>telephone</th>\n",
       "      <th>foreign worker</th>\n",
       "      <th>goodness</th>\n",
       "    </tr>\n",
       "  </thead>\n",
       "  <tbody>\n",
       "    <tr>\n",
       "      <th>1</th>\n",
       "      <td>No Account</td>\n",
       "      <td>18</td>\n",
       "      <td>fully paid back</td>\n",
       "      <td>car (used)</td>\n",
       "      <td>1049</td>\n",
       "      <td>unknown/no savings account</td>\n",
       "      <td>&lt;1 yr</td>\n",
       "      <td>&lt;20</td>\n",
       "      <td>female: non-single or male: single</td>\n",
       "      <td>none</td>\n",
       "      <td>...</td>\n",
       "      <td>car or other</td>\n",
       "      <td>21</td>\n",
       "      <td>none</td>\n",
       "      <td>for free</td>\n",
       "      <td>1</td>\n",
       "      <td>skilled employee/official</td>\n",
       "      <td>0 to 2</td>\n",
       "      <td>no</td>\n",
       "      <td>no</td>\n",
       "      <td>good</td>\n",
       "    </tr>\n",
       "    <tr>\n",
       "      <th>2</th>\n",
       "      <td>No Account</td>\n",
       "      <td>9</td>\n",
       "      <td>fully paid back</td>\n",
       "      <td>others</td>\n",
       "      <td>2799</td>\n",
       "      <td>unknown/no savings account</td>\n",
       "      <td>1-3 yrs</td>\n",
       "      <td>25-34</td>\n",
       "      <td>male : married/widowed</td>\n",
       "      <td>none</td>\n",
       "      <td>...</td>\n",
       "      <td>unknown / no property</td>\n",
       "      <td>36</td>\n",
       "      <td>none</td>\n",
       "      <td>for free</td>\n",
       "      <td>2</td>\n",
       "      <td>skilled employee/official</td>\n",
       "      <td>3 or more</td>\n",
       "      <td>no</td>\n",
       "      <td>no</td>\n",
       "      <td>good</td>\n",
       "    </tr>\n",
       "    <tr>\n",
       "      <th>3</th>\n",
       "      <td>&lt;0 DM</td>\n",
       "      <td>12</td>\n",
       "      <td>none open</td>\n",
       "      <td>retraining</td>\n",
       "      <td>841</td>\n",
       "      <td>&lt;100 DM</td>\n",
       "      <td>4-6 yrs</td>\n",
       "      <td>25-34</td>\n",
       "      <td>female: non-single or male: single</td>\n",
       "      <td>none</td>\n",
       "      <td>...</td>\n",
       "      <td>unknown / no property</td>\n",
       "      <td>23</td>\n",
       "      <td>none</td>\n",
       "      <td>for free</td>\n",
       "      <td>1</td>\n",
       "      <td>unskilled - resident</td>\n",
       "      <td>0 to 2</td>\n",
       "      <td>no</td>\n",
       "      <td>no</td>\n",
       "      <td>good</td>\n",
       "    </tr>\n",
       "    <tr>\n",
       "      <th>4</th>\n",
       "      <td>No Account</td>\n",
       "      <td>12</td>\n",
       "      <td>fully paid back</td>\n",
       "      <td>others</td>\n",
       "      <td>2122</td>\n",
       "      <td>unknown/no savings account</td>\n",
       "      <td>1-3 yrs</td>\n",
       "      <td>20-24</td>\n",
       "      <td>male : married/widowed</td>\n",
       "      <td>none</td>\n",
       "      <td>...</td>\n",
       "      <td>unknown / no property</td>\n",
       "      <td>39</td>\n",
       "      <td>none</td>\n",
       "      <td>for free</td>\n",
       "      <td>2</td>\n",
       "      <td>unskilled - resident</td>\n",
       "      <td>3 or more</td>\n",
       "      <td>no</td>\n",
       "      <td>yes</td>\n",
       "      <td>good</td>\n",
       "    </tr>\n",
       "    <tr>\n",
       "      <th>5</th>\n",
       "      <td>No Account</td>\n",
       "      <td>12</td>\n",
       "      <td>fully paid back</td>\n",
       "      <td>others</td>\n",
       "      <td>2171</td>\n",
       "      <td>unknown/no savings account</td>\n",
       "      <td>1-3 yrs</td>\n",
       "      <td>&lt;20</td>\n",
       "      <td>male : married/widowed</td>\n",
       "      <td>none</td>\n",
       "      <td>...</td>\n",
       "      <td>car or other</td>\n",
       "      <td>38</td>\n",
       "      <td>bank</td>\n",
       "      <td>rent</td>\n",
       "      <td>2</td>\n",
       "      <td>unskilled - resident</td>\n",
       "      <td>0 to 2</td>\n",
       "      <td>no</td>\n",
       "      <td>yes</td>\n",
       "      <td>good</td>\n",
       "    </tr>\n",
       "  </tbody>\n",
       "</table>\n",
       "<p>5 rows × 21 columns</p>\n",
       "</div>"
      ],
      "text/plain": [
       "  checking account duration in month   credit history credit purpose  \\\n",
       "1       No Account                18  fully paid back     car (used)   \n",
       "2       No Account                 9  fully paid back         others   \n",
       "3            <0 DM                12        none open     retraining   \n",
       "4       No Account                12  fully paid back         others   \n",
       "5       No Account                12  fully paid back         others   \n",
       "\n",
       "  credit amount             savings account employment since..  \\\n",
       "1          1049  unknown/no savings account              <1 yr   \n",
       "2          2799  unknown/no savings account            1-3 yrs   \n",
       "3           841                     <100 DM            4-6 yrs   \n",
       "4          2122  unknown/no savings account            1-3 yrs   \n",
       "5          2171  unknown/no savings account            1-3 yrs   \n",
       "\n",
       "  installment rate                        status : sex  \\\n",
       "1              <20  female: non-single or male: single   \n",
       "2            25-34              male : married/widowed   \n",
       "3            25-34  female: non-single or male: single   \n",
       "4            20-24              male : married/widowed   \n",
       "5              <20              male : married/widowed   \n",
       "\n",
       "  other debtors / guarantors  ...               property relationship : age  \\\n",
       "1                       none  ...           car or other                 21   \n",
       "2                       none  ...  unknown / no property                 36   \n",
       "3                       none  ...  unknown / no property                 23   \n",
       "4                       none  ...  unknown / no property                 39   \n",
       "5                       none  ...           car or other                 38   \n",
       "\n",
       "  other installment plans   housing existing credits  \\\n",
       "1                    none  for free                1   \n",
       "2                    none  for free                2   \n",
       "3                    none  for free                1   \n",
       "4                    none  for free                2   \n",
       "5                    bank      rent                2   \n",
       "\n",
       "                         job people to provide maintenance for telephone  \\\n",
       "1  skilled employee/official                            0 to 2        no   \n",
       "2  skilled employee/official                         3 or more        no   \n",
       "3       unskilled - resident                            0 to 2        no   \n",
       "4       unskilled - resident                         3 or more        no   \n",
       "5       unskilled - resident                            0 to 2        no   \n",
       "\n",
       "  foreign worker goodness  \n",
       "1             no     good  \n",
       "2             no     good  \n",
       "3             no     good  \n",
       "4            yes     good  \n",
       "5            yes     good  \n",
       "\n",
       "[5 rows x 21 columns]"
      ]
     },
     "execution_count": 147,
     "metadata": {},
     "output_type": "execute_result"
    }
   ],
   "source": [
    "# remove first line, because it contains unnecessary content\n",
    "df.drop(index=df.index[0], \n",
    "        axis=0, \n",
    "        inplace=True)\n",
    "\n",
    "# rename categorical coloumns to human readable values\n",
    "df_readable = df.replace( {'checking account':   {'1': 'No Account', '2':'<0 DM', '3':'0-200 DM', '4':'>=200 DM'},\n",
    "             'credit history':     {'0': 'past delay', '1':'critical/open', '2':'none open', '3':'paid open rates', '4': 'fully paid back'},\n",
    "             'credit purpose':     {'0': 'others', '1': 'car (new)','2' : 'car (used)','3' : 'furniture/equipment','4' : 'radio/television','5': 'domestic appliances','6':'repairs','7':'education','8':'vacation','9':'retraining','10':'business'},\n",
    "             'savings account':    {'1': 'unknown/no savings account','2': '<100 DM','3':'100-500 DM','4':'500-1000 DM','5':'>=1000 DM'},\n",
    "             'employment since..': {'1': 'unemployed','2':'<1 yr','3': '1-3 yrs','4' :'4-6 yrs','5': '>= 7 yrs'},\n",
    "             'installment rate':   {'1': '>= 35', '2': '25-34','3' : '20-24','4' : '<20'},\n",
    "             'status : sex':       {'1': 'male : divorced/separated','2': 'female: non-single or male: single','3': 'male : married/widowed','4': 'female : single'},\n",
    "             'other debtors / guarantors': { '1' : 'none', '2': 'co-applicant','3' : 'guarantor'},\n",
    "             'residence since':    {'1': '< 1 yr','2' : '1-3 yrs','3' : '4-6 yrs','4' : '>= 7 yrs'},\n",
    "             'property':           {'1': 'unknown / no property','2' : 'car or other','3' : 'building soc. savings agr./life insurance','4' : 'real estate'},\n",
    "             'other installment plans': {'1' : 'bank','2' : 'stores','3' : 'none'},\n",
    "             'housing':            {'1': 'for free', '2' : 'rent','3' : 'own'},\n",
    "             'job':                {'1': 'unemployed/unskilled - non-resident','2' : 'unskilled - resident','3' : 'skilled employee/official','4' : 'manager/self-empl./highly qualif'},\n",
    "             'people to provide maintenance for': {'1' : '3 or more','2' : '0 to 2'},\n",
    "             'telephone':          {'1': 'no', '2':'yes'},\n",
    "             'foreign worker':     {'1':'yes','2':'no'},\n",
    "             'goodness':           {'0':'bad', '1':'good'}\n",
    "             })\n",
    "\n",
    "#df.head()\n",
    "df_readable.head()"
   ]
  },
  {
   "cell_type": "code",
   "execution_count": 148,
   "id": "abc11d53",
   "metadata": {},
   "outputs": [],
   "source": [
    "# save processed CSV file\n",
    "df_readable.to_csv('../A3_Reproducibility/df_germanData_readable.csv', index = False)"
   ]
  },
  {
   "cell_type": "code",
   "execution_count": 149,
   "id": "5f749127",
   "metadata": {},
   "outputs": [],
   "source": [
    "# exclude sex as factor, because we assume the highest bias in this category\n",
    "df = df.drop(columns=['status : sex'])\n",
    "\n",
    "# shuffle data, because all 'good' scores are in the top of the table\n",
    "df = df.sample(frac=1).reset_index(drop=True)\n",
    "n = len(df)"
   ]
  },
  {
   "cell_type": "code",
   "execution_count": 150,
   "id": "2be0576b",
   "metadata": {},
   "outputs": [],
   "source": [
    "# Split the data in test data and training data\n",
    "X = df.drop(columns = 'goodness', axis = 1) \n",
    "y = df['goodness']\n",
    "X_train, X_test, y_train, y_test = train_test_split(X, y, test_size = 0.3,random_state=42)"
   ]
  },
  {
   "cell_type": "markdown",
   "id": "aade1011",
   "metadata": {},
   "source": [
    "##### Training: Logistic Regression"
   ]
  },
  {
   "cell_type": "code",
   "execution_count": 151,
   "id": "8d73324b",
   "metadata": {},
   "outputs": [],
   "source": [
    "logisticRegr = LogisticRegression(max_iter=10000)\n",
    "logisticRegr.fit(X_train, y_train)\n",
    "predictions = logisticRegr.predict(X_test)\n",
    "score = logisticRegr.score(X_test, y_test)"
   ]
  },
  {
   "cell_type": "code",
   "execution_count": 152,
   "id": "ea8d8ea5",
   "metadata": {},
   "outputs": [
    {
     "name": "stdout",
     "output_type": "stream",
     "text": [
      "Accuracy: 0.5966666666666667\n"
     ]
    }
   ],
   "source": [
    "# Model Accuracy\n",
    "accur_score = accuracy_score(y_test, pred)\n",
    "print(\"Accuracy:\", metrics.accuracy_score(y_test, pred))\n",
    "\n",
    "#### TODO:\n",
    "# Model Precision\n",
    "#print(\"Precision:\", metrics.precision_score(y_test, pred))\n"
   ]
  },
  {
   "cell_type": "code",
   "execution_count": 154,
   "id": "c9b423b8",
   "metadata": {},
   "outputs": [
    {
     "name": "stdout",
     "output_type": "stream",
     "text": [
      "Accuracy: 0.5966666666666667\n"
     ]
    }
   ],
   "source": [
    "# Create a Support Vector Machine Classifier with a Linear Kernel\n",
    "SVM = svm.SVC(kernel='linear')\n",
    "\n",
    "# Training\n",
    "SVM.fit(X_train, y_train)\n",
    "\n",
    "# Prediction for test dataset\n",
    "y_pred = SVM.predict(X_test)\n",
    "\n",
    "# Model Accuracy\n",
    "accur_score = accuracy_score(y_test, pred)\n",
    "print(\"Accuracy:\", metrics.accuracy_score(y_test, pred))\n",
    "\n",
    "#### TODO:\n",
    "# Model Precision\n",
    "#print(\"Precision:\", metrics.precision_score(y_test, pred))"
   ]
  },
  {
   "cell_type": "markdown",
   "id": "4dac76d7",
   "metadata": {},
   "source": [
    "##### Training: [Decision Tree](https://scikit-learn.org/stable/modules/tree.html) Modeling "
   ]
  },
  {
   "cell_type": "code",
   "execution_count": 155,
   "id": "f06efd68",
   "metadata": {},
   "outputs": [
    {
     "name": "stdout",
     "output_type": "stream",
     "text": [
      "Accuracy: 1.0\n"
     ]
    }
   ],
   "source": [
    "clf = tree.DecisionTreeClassifier()\n",
    "clf = clf.fit(X, y)\n",
    "\n",
    "# Predicting values for test data\n",
    "pred=clf.predict(X_test)\n",
    "\n",
    "# Finding accuracy score of model\n",
    "accur_score = accuracy_score(y_test, pred)\n",
    "print(\"Accuracy:\", metrics.accuracy_score(y_test, pred))"
   ]
  },
  {
   "cell_type": "markdown",
   "id": "e22c2329",
   "metadata": {},
   "source": [
    "##### Training [Random Forest](https://scikit-learn.org/stable/modules/generated/sklearn.ensemble.RandomForestClassifier.html) Modeling "
   ]
  },
  {
   "cell_type": "code",
   "execution_count": null,
   "id": "508eaca7",
   "metadata": {},
   "outputs": [],
   "source": [
    "rfc = RandomForestClassifier()\n",
    "rfc.fit(X_train, y_train)\n",
    "y_pred = clf.predict(X_test)\n",
    "acurr_score = accuracy_score(y_test, y_pred)\n",
    "print(accur_score)"
   ]
  },
  {
   "cell_type": "markdown",
   "id": "bef29112",
   "metadata": {},
   "source": [
    "#### Plotting"
   ]
  },
  {
   "cell_type": "code",
   "execution_count": null,
   "id": "54e7aa89",
   "metadata": {},
   "outputs": [],
   "source": [
    "######## TODO\n",
    "# Plotting the decision tree\n",
    "#tree.plot_tree(clf)"
   ]
  },
  {
   "cell_type": "code",
   "execution_count": null,
   "id": "f130e54b",
   "metadata": {},
   "outputs": [],
   "source": [
    "# Export tree as PDF\n",
    "# TODO: change the size of the nodes\n",
    "#fig, ax = plt.subplots(nrows = 1, ncols = 1, figsize = (10,10),dpi=300)\n",
    "#tree.plot_tree(clf, feature_names=list(df.columns),class_names=\"01\",filled =True)\n",
    "#fig.savefig(\"SGCD_decisionTree.pdf\")"
   ]
  },
  {
   "cell_type": "code",
   "execution_count": null,
   "id": "d6d78004",
   "metadata": {},
   "outputs": [],
   "source": []
  },
  {
   "cell_type": "code",
   "execution_count": null,
   "id": "cd530dab",
   "metadata": {},
   "outputs": [],
   "source": []
  },
  {
   "cell_type": "markdown",
   "id": "25be9df0",
   "metadata": {},
   "source": [
    "# 5. Documentation and Reflection"
   ]
  },
  {
   "cell_type": "markdown",
   "id": "923d85d7",
   "metadata": {},
   "source": [
    "#### 1. Tasks: \n",
    "        The tasks are taken from the assignment sheet.\n",
    "        \n",
    "#### 2. Brainstorming on Dataset\n",
    "        In this section, we apply some social scientific considerations on our data sciences task. Our approach follows the arguments and theories from the lecture and are linked if there are any direct connections to contents of the lecture. \n",
    "        \n",
    "#### 3. Reproducible Model Training\n",
    "\n",
    "##### 3.1. Local dependencies created\n",
    "         The environment that a project is created in has a large impact on the reproducibility [1] of the results on another computer. Therefore we use Pipenv, so the next user can install all the dependencies from the file created.\n",
    "         \n",
    "###### 3.2. Model\n",
    "        During assignment 2, we did an exploratory data analysis and calculated a logistic regression, which follows a state-of-the-art approach to data sciences. \n",
    "        We test that logistic regression model on accuracy and precision, and compare it with two others: Decision tree model and random forest model. \n",
    "        \n",
    "        Logistic Regression is a great model to start mastering a classification problem. Accuracy tests how often a classifier is correct. Precision shows to what percentage positive tuples are labeled as such.\n",
    "        RESULTS: An accuracy of .59 is quite bad. We see what happens if we try to improve trough applying support vector machines (SVM) [3].\n",
    "        \n",
    "        Decision Trees are a fairly simple and explainable algorithm. They are applicable for classification problems (that we find here) as well as for regression problems. We decide to use this method because it is a common tool to use for creditworthiness, because they are easy to reads, easy to prepare and require less data cleaning [2]. From the lecture we learned that a clean data set is essential for the goodness of our model and since we don't know for this task if the results of our modelling will be used by data sciences experts, we assume the base case of someone with little data sciences expertise will need our model. \n",
    "        RESULTS: \n",
    "            ACCURACY: We get an accuracy of the model of 1.0 which is explained: We use a part of the \n",
    "            testdata set for the training, therefor the accuracy must be really high. In a next step \n",
    "            we should evaluate the model on a true holdout sample that is independent of the training \n",
    "            data. \n",
    "            \n",
    "      Random Forests help to bring robustness to the model [4]. Random forests are a Bagging model, which brings stability to different models. Bagging is a method to combine predictions of different classificationmodells (with high variance of the prediction). By that, the variance is lowered. [5] \n",
    "        \n",
    "\n",
    "###### Further remarks: Unittesting for Code. \n",
    "\n",
    "#### (4. Optimization of Model)\n",
    "#### 5. Documentation and Reflection\n",
    "#### (6. Summary)"
   ]
  },
  {
   "cell_type": "markdown",
   "id": "c16096a9",
   "metadata": {},
   "source": [
    "Material we used: [1](https://towardsdatascience.com/5-tools-for-reproducible-data-science-c099c6b881e5), [2](https://corporatefinanceinstitute.com/resources/knowledge/other/decision-tree/), [3](https://www.geeksforgeeks.org/introduction-to-support-vector-machines-svm/), [4](https://towardsdatascience.com/6-predictive-models-models-every-beginner-data-scientist-should-master-7a37ec8da76d), [5](https://de.wikipedia.org/wiki/Bootstrap_aggregating)\n"
   ]
  },
  {
   "cell_type": "markdown",
   "id": "ceee0220",
   "metadata": {},
   "source": [
    "# 6. Summary"
   ]
  },
  {
   "cell_type": "code",
   "execution_count": null,
   "id": "a6bba5e5",
   "metadata": {},
   "outputs": [],
   "source": []
  }
 ],
 "metadata": {
  "kernelspec": {
   "display_name": "Python 3 (ipykernel)",
   "language": "python",
   "name": "python3"
  },
  "language_info": {
   "codemirror_mode": {
    "name": "ipython",
    "version": 3
   },
   "file_extension": ".py",
   "mimetype": "text/x-python",
   "name": "python",
   "nbconvert_exporter": "python",
   "pygments_lexer": "ipython3",
   "version": "3.8.13"
  }
 },
 "nbformat": 4,
 "nbformat_minor": 5
}
