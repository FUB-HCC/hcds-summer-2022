{
 "cells": [
  {
   "cell_type": "markdown",
   "id": "73f9455a",
   "metadata": {},
   "source": [
    "# Content-wise notes"
   ]
  },
  {
   "cell_type": "markdown",
   "id": "f82b64cd",
   "metadata": {},
   "source": [
    "Goals of AIF360:\n",
    "<ul> \n",
    "    <li> Fairness metrics => check for bias in machine-learning workflow </li>\n",
    "    <li> Bias mitigators => overcome bias in the workflow to produce a more fair outcome </li>\n",
    "</ul> \n",
    "\n",
    "On the way: \n",
    "<ul> \n",
    "<li> Detection and/or mitigation toolkit needs to know the attributes => protected attributes, that are of interest (f.e. Ethnicity, age) </li>\n",
    "<li>Supervised machine learning, biases: \n",
    "    <ol>\n",
    "<li>Training data: outcomes may be biased towards particliar kinds of instances \n",
    "=> pre-processing </li>\n",
    "<li>Algorithm: bay generate models that are weights towards particliar features in the input\n",
    "=> in-processing </li>\n",
    "<li>Test data: has expectations on correct answers that may be biased\n",
    "=> post-processing</li>\n",
    "    </ol>\n",
    "    </ul> \n",
    "\n"
   ]
  },
  {
   "cell_type": "code",
   "execution_count": null,
   "id": "6e12320b",
   "metadata": {},
   "outputs": [],
   "source": []
  }
 ],
 "metadata": {
  "kernelspec": {
   "display_name": "Python 3 (ipykernel)",
   "language": "python",
   "name": "python3"
  },
  "language_info": {
   "codemirror_mode": {
    "name": "ipython",
    "version": 3
   },
   "file_extension": ".py",
   "mimetype": "text/x-python",
   "name": "python",
   "nbconvert_exporter": "python",
   "pygments_lexer": "ipython3",
   "version": "3.9.12"
  }
 },
 "nbformat": 4,
 "nbformat_minor": 5
}
