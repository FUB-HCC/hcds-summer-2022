{
 "cells": [
  {
   "cell_type": "markdown",
   "metadata": {},
   "source": [
    "Human-Centrerd Data Science ([HCDS](https://www.mi.fu-berlin.de/en/inf/groups/hcc/teaching/Summer-Term-2022/course_human_centered_data_science.html)) - Summer Term 2022 - [HCC](https://www.mi.fu-berlin.de/en/inf/groups/hcc/index.html) | [Freie Universität Berlin](https://www.fu-berlin.de/)\n",
    "***\n",
    "# A1 - WarumUP"
   ]
  },
  {
   "cell_type": "markdown",
   "metadata": {},
   "source": [
    "During the exercises you will be reading and writing Python code in Jupyter notebooks. Let's unpack this a bit!\n",
    "\n",
    "🐍 Python is a programming language that has gained considerable traction over the last years, in various contexts, including data science and the digital humanities. If you have never written any Python before, it would be useful for you to familiarize yourself with the language, its basic constructs and conventions. It is popular for its versatility and readability. Speaking of which…\n",
    "\n",
    "📗 Jupyter notebooks are hybrid documents that contain both code and markup. So it becomes easy to mix programming and documentation. What you are looking at now is a text cell written in the markup language Markdown, further below you see code cells written in the programming language Python (note the light grey background), which contain computable code! When viewing the notebooks in Jupyter, you can double-click on any text cell to see its source.\n",
    "\n",
    "In this exercise you will get a bit acquainted with Python and Jupyter, and get to know a few handy libraries for working with data. If you already have experience, then it's still a good recap!"
   ]
  },
  {
   "cell_type": "markdown",
   "metadata": {},
   "source": [
    "## 🌍 Hello world \n",
    "\n",
    "Okay, enough words. Let's dive right into it and start with a classic:"
   ]
  },
  {
   "cell_type": "code",
   "execution_count": 1,
   "metadata": {},
   "outputs": [
    {
     "name": "stdout",
     "output_type": "stream",
     "text": [
      "hello world\n"
     ]
    }
   ],
   "source": [
    "print(\"hello world\")"
   ]
  },
  {
   "cell_type": "markdown",
   "metadata": {},
   "source": [
    "The above code cell can be executed (i.e., run) by clicking `Shift + Enter`. Check out some CheatSheets [[1](https://www.edureka.co/blog/wp-content/uploads/2018/10/Jupyter_Notebook_CheatSheet_Edureka.pdf)] or [[2](https://cheatography.com/weidadeyue/cheat-sheets/jupyter-notebook/pdf_bw/)]❗\n",
    "\n",
    "Of course we can set variables and extend them. Feel free to change the message:"
   ]
  },
  {
   "cell_type": "code",
   "execution_count": 2,
   "metadata": {},
   "outputs": [
    {
     "data": {
      "text/plain": [
       "'hello world how are you!'"
      ]
     },
     "execution_count": 2,
     "metadata": {},
     "output_type": "execute_result"
    }
   ],
   "source": [
    "hello = \"hello world\"\n",
    "hello = hello + \" how are you!\"\n",
    "hello"
   ]
  },
  {
   "cell_type": "markdown",
   "metadata": {},
   "source": [
    "Now that we have our first variable `hello` we can perform some string tricks, for example, we could change the capitalization. Please note: This will not change the variable `hello` itself , but will just return a capitalized new string."
   ]
  },
  {
   "cell_type": "code",
   "execution_count": 3,
   "metadata": {},
   "outputs": [
    {
     "data": {
      "text/plain": [
       "'Hello World How Are You!'"
      ]
     },
     "execution_count": 3,
     "metadata": {},
     "output_type": "execute_result"
    }
   ],
   "source": [
    "hello.title()"
   ]
  },
  {
   "cell_type": "code",
   "execution_count": 4,
   "metadata": {},
   "outputs": [
    {
     "data": {
      "text/plain": [
       "'HELLO WORLD HOW ARE YOU!'"
      ]
     },
     "execution_count": 4,
     "metadata": {},
     "output_type": "execute_result"
    }
   ],
   "source": [
    "hello.upper()"
   ]
  },
  {
   "cell_type": "markdown",
   "metadata": {},
   "source": [
    "✏️ *Now it's your turn! The pencil stands for a small hands-on activity!*\n",
    "\n",
    "Try some string manipulations yourself. To get some inspiration, have a look at the [string methods](https://docs.python.org/3/library/stdtypes.html?#string-methods) that Python has built-in. Read the docs."
   ]
  },
  {
   "cell_type": "code",
   "execution_count": 5,
   "metadata": {
    "scrolled": false
   },
   "outputs": [],
   "source": [
    "# Hands-on inspirations, check out the following!\n",
    "# hello.center(30,'#')\n",
    "# hello.count('o')\n",
    "# hello.find('w')\n",
    "# hello.swapcase()\n",
    "# hello.startswith('hello')\n",
    "# hello.endswith('hello')\n",
    "# hello.split(' ')\n",
    "# hello.rjust(40, '_')"
   ]
  },
  {
   "cell_type": "markdown",
   "metadata": {},
   "source": [
    "## 📦 Let's get some packages\n",
    "\n",
    "Python itself provides only limited methods for working with more complex data. One of the main reasons for Python's (and  Jupyter's) popularity is the wide availability of software packages that provide powerful means for preparing, processing, presenting, and probing data. Throughout the exercises you will get to know a few packages, some of them highly specific tools and others more general-purpose libraries."
   ]
  },
  {
   "cell_type": "code",
   "execution_count": 6,
   "metadata": {},
   "outputs": [],
   "source": [
    "import pandas as pd"
   ]
  },
  {
   "cell_type": "markdown",
   "metadata": {},
   "source": [
    "Now the powerful `pandas` package is loaded and will answer to its nickname `pd`.\n",
    "\n",
    "🐼 [Pandas](https://pandas.pydata.org) really is a data analysis workhorse with the DataFrame data structure being one of its main muscles. You will learn to love it! With pandas you can do simple and sophisticated operations over small and sizable datasets.\n",
    "\n",
    "Let's create a little toy dataset to give you a sense of how it works:"
   ]
  },
  {
   "cell_type": "code",
   "execution_count": 7,
   "metadata": {},
   "outputs": [],
   "source": [
    "edits_data = pd.read_csv(\"page-edits-data.csv\", index_col=0)"
   ]
  },
  {
   "cell_type": "markdown",
   "metadata": {},
   "source": [
    "This sample data `edits_data` contains the page edits of the Wikipedia article `COVID-19_pandemic` from 2020 differentiated by `editor-type`.\n",
    "\n",
    "To check whether the DataFrame was created successfully, we can type the variable name `edits_data`, to display its content as an output:"
   ]
  },
  {
   "cell_type": "code",
   "execution_count": 8,
   "metadata": {},
   "outputs": [
    {
     "data": {
      "text/html": [
       "<div>\n",
       "<style scoped>\n",
       "    .dataframe tbody tr th:only-of-type {\n",
       "        vertical-align: middle;\n",
       "    }\n",
       "\n",
       "    .dataframe tbody tr th {\n",
       "        vertical-align: top;\n",
       "    }\n",
       "\n",
       "    .dataframe thead th {\n",
       "        text-align: right;\n",
       "    }\n",
       "</style>\n",
       "<table border=\"1\" class=\"dataframe\">\n",
       "  <thead>\n",
       "    <tr style=\"text-align: right;\">\n",
       "      <th></th>\n",
       "      <th>timestamp</th>\n",
       "      <th>all-editor-types</th>\n",
       "      <th>anonymous</th>\n",
       "      <th>group-bot</th>\n",
       "      <th>name-bot</th>\n",
       "      <th>user</th>\n",
       "    </tr>\n",
       "  </thead>\n",
       "  <tbody>\n",
       "    <tr>\n",
       "      <th>0</th>\n",
       "      <td>2020-01-01T00:00:00.000Z</td>\n",
       "      <td>0</td>\n",
       "      <td>0</td>\n",
       "      <td>0</td>\n",
       "      <td>0</td>\n",
       "      <td>0</td>\n",
       "    </tr>\n",
       "    <tr>\n",
       "      <th>1</th>\n",
       "      <td>2020-01-02T00:00:00.000Z</td>\n",
       "      <td>0</td>\n",
       "      <td>0</td>\n",
       "      <td>0</td>\n",
       "      <td>0</td>\n",
       "      <td>0</td>\n",
       "    </tr>\n",
       "    <tr>\n",
       "      <th>2</th>\n",
       "      <td>2020-01-03T00:00:00.000Z</td>\n",
       "      <td>0</td>\n",
       "      <td>0</td>\n",
       "      <td>0</td>\n",
       "      <td>0</td>\n",
       "      <td>0</td>\n",
       "    </tr>\n",
       "    <tr>\n",
       "      <th>3</th>\n",
       "      <td>2020-01-04T00:00:00.000Z</td>\n",
       "      <td>0</td>\n",
       "      <td>0</td>\n",
       "      <td>0</td>\n",
       "      <td>0</td>\n",
       "      <td>0</td>\n",
       "    </tr>\n",
       "    <tr>\n",
       "      <th>4</th>\n",
       "      <td>2020-01-05T00:00:00.000Z</td>\n",
       "      <td>3</td>\n",
       "      <td>0</td>\n",
       "      <td>0</td>\n",
       "      <td>0</td>\n",
       "      <td>3</td>\n",
       "    </tr>\n",
       "    <tr>\n",
       "      <th>...</th>\n",
       "      <td>...</td>\n",
       "      <td>...</td>\n",
       "      <td>...</td>\n",
       "      <td>...</td>\n",
       "      <td>...</td>\n",
       "      <td>...</td>\n",
       "    </tr>\n",
       "    <tr>\n",
       "      <th>269</th>\n",
       "      <td>2020-09-26T00:00:00.000Z</td>\n",
       "      <td>6</td>\n",
       "      <td>0</td>\n",
       "      <td>0</td>\n",
       "      <td>0</td>\n",
       "      <td>6</td>\n",
       "    </tr>\n",
       "    <tr>\n",
       "      <th>270</th>\n",
       "      <td>2020-09-27T00:00:00.000Z</td>\n",
       "      <td>10</td>\n",
       "      <td>0</td>\n",
       "      <td>0</td>\n",
       "      <td>0</td>\n",
       "      <td>10</td>\n",
       "    </tr>\n",
       "    <tr>\n",
       "      <th>271</th>\n",
       "      <td>2020-09-28T00:00:00.000Z</td>\n",
       "      <td>12</td>\n",
       "      <td>0</td>\n",
       "      <td>0</td>\n",
       "      <td>0</td>\n",
       "      <td>12</td>\n",
       "    </tr>\n",
       "    <tr>\n",
       "      <th>272</th>\n",
       "      <td>2020-09-29T00:00:00.000Z</td>\n",
       "      <td>7</td>\n",
       "      <td>0</td>\n",
       "      <td>0</td>\n",
       "      <td>0</td>\n",
       "      <td>7</td>\n",
       "    </tr>\n",
       "    <tr>\n",
       "      <th>273</th>\n",
       "      <td>2020-09-30T00:00:00.000Z</td>\n",
       "      <td>9</td>\n",
       "      <td>0</td>\n",
       "      <td>0</td>\n",
       "      <td>0</td>\n",
       "      <td>9</td>\n",
       "    </tr>\n",
       "  </tbody>\n",
       "</table>\n",
       "<p>274 rows × 6 columns</p>\n",
       "</div>"
      ],
      "text/plain": [
       "                    timestamp  all-editor-types  anonymous  group-bot  \\\n",
       "0    2020-01-01T00:00:00.000Z                 0          0          0   \n",
       "1    2020-01-02T00:00:00.000Z                 0          0          0   \n",
       "2    2020-01-03T00:00:00.000Z                 0          0          0   \n",
       "3    2020-01-04T00:00:00.000Z                 0          0          0   \n",
       "4    2020-01-05T00:00:00.000Z                 3          0          0   \n",
       "..                        ...               ...        ...        ...   \n",
       "269  2020-09-26T00:00:00.000Z                 6          0          0   \n",
       "270  2020-09-27T00:00:00.000Z                10          0          0   \n",
       "271  2020-09-28T00:00:00.000Z                12          0          0   \n",
       "272  2020-09-29T00:00:00.000Z                 7          0          0   \n",
       "273  2020-09-30T00:00:00.000Z                 9          0          0   \n",
       "\n",
       "     name-bot  user  \n",
       "0           0     0  \n",
       "1           0     0  \n",
       "2           0     0  \n",
       "3           0     0  \n",
       "4           0     3  \n",
       "..        ...   ...  \n",
       "269         0     6  \n",
       "270         0    10  \n",
       "271         0    12  \n",
       "272         0     7  \n",
       "273         0     9  \n",
       "\n",
       "[274 rows x 6 columns]"
      ]
     },
     "execution_count": 8,
     "metadata": {},
     "output_type": "execute_result"
    }
   ],
   "source": [
    "edits_data"
   ]
  },
  {
   "cell_type": "markdown",
   "metadata": {},
   "source": [
    "The output generated by a code cell is printed right below it. In the case of a DataFrame we get a table. By convention, the rows are the data entries and the columns are the data dimensions. The first column on the left side is the index. You can also use `.info()` to get a summary of that dataframe."
   ]
  },
  {
   "cell_type": "code",
   "execution_count": 9,
   "metadata": {},
   "outputs": [
    {
     "name": "stdout",
     "output_type": "stream",
     "text": [
      "<class 'pandas.core.frame.DataFrame'>\n",
      "Int64Index: 274 entries, 0 to 273\n",
      "Data columns (total 6 columns):\n",
      " #   Column            Non-Null Count  Dtype \n",
      "---  ------            --------------  ----- \n",
      " 0   timestamp         274 non-null    object\n",
      " 1   all-editor-types  274 non-null    int64 \n",
      " 2   anonymous         274 non-null    int64 \n",
      " 3   group-bot         274 non-null    int64 \n",
      " 4   name-bot          274 non-null    int64 \n",
      " 5   user              274 non-null    int64 \n",
      "dtypes: int64(5), object(1)\n",
      "memory usage: 15.0+ KB\n"
     ]
    }
   ],
   "source": [
    "edits_data.info()"
   ]
  },
  {
   "cell_type": "markdown",
   "metadata": {},
   "source": [
    "Now let's do something with our newly created DataFrame. For example, we could get the largest amount of edits by editor-type `user` using the ```max``` method."
   ]
  },
  {
   "cell_type": "code",
   "execution_count": 10,
   "metadata": {},
   "outputs": [
    {
     "data": {
      "text/plain": [
       "702"
      ]
     },
     "execution_count": 10,
     "metadata": {},
     "output_type": "execute_result"
    }
   ],
   "source": [
    "edits_data[\"user\"].max()"
   ]
  },
  {
   "cell_type": "markdown",
   "metadata": {},
   "source": [
    "*✏️ What would it take to get the highest value of anonymous users?*"
   ]
  },
  {
   "cell_type": "code",
   "execution_count": 11,
   "metadata": {},
   "outputs": [
    {
     "data": {
      "text/plain": [
       "201"
      ]
     },
     "execution_count": 11,
     "metadata": {},
     "output_type": "execute_result"
    }
   ],
   "source": [
    "edits_data[\"anonymous\"].max()"
   ]
  },
  {
   "cell_type": "markdown",
   "metadata": {},
   "source": [
    "To get the entry belonging to the biggest amount of anonymous user, one needs to `loc`ate it via its index:"
   ]
  },
  {
   "cell_type": "code",
   "execution_count": 12,
   "metadata": {},
   "outputs": [
    {
     "data": {
      "text/plain": [
       "timestamp           2020-01-26T00:00:00.000Z\n",
       "all-editor-types                         904\n",
       "anonymous                                201\n",
       "group-bot                                  1\n",
       "name-bot                                   0\n",
       "user                                     702\n",
       "Name: 25, dtype: object"
      ]
     },
     "execution_count": 12,
     "metadata": {},
     "output_type": "execute_result"
    }
   ],
   "source": [
    "edits_data.loc[edits_data.anonymous.idxmax()]"
   ]
  },
  {
   "cell_type": "markdown",
   "metadata": {},
   "source": [
    "Note: To access a specific column you can use (1) the dot operator (as with `.anonymous`) or passing a string to the indexing operator (as with `[\"users\"]`)."
   ]
  },
  {
   "cell_type": "markdown",
   "metadata": {},
   "source": [
    "We can also calculate averages for each numeric column by selecting them first and then calculating the mean:"
   ]
  },
  {
   "cell_type": "code",
   "execution_count": 13,
   "metadata": {},
   "outputs": [
    {
     "data": {
      "text/plain": [
       "user         78.642336\n",
       "anonymous     2.671533\n",
       "group-bot     0.616788\n",
       "name-bot      0.018248\n",
       "dtype: float64"
      ]
     },
     "execution_count": 13,
     "metadata": {},
     "output_type": "execute_result"
    }
   ],
   "source": [
    "edits_data[['user', 'anonymous', 'group-bot', 'name-bot']].mean(axis=0)"
   ]
  },
  {
   "cell_type": "markdown",
   "metadata": {},
   "source": [
    "There is so much more to discover, some of which you will do over the course of the exercise. The [DataFrame page](https://pandas.pydata.org/pandas-docs/stable/reference/api/pandas.DataFrame.html) in the pandas reference gives a complete (long) list of all methods provided by the data structure. \n",
    "\n",
    "If you want to do something specific, but do not know the particular method name, a well-formulated search query in your favorite seach engine can help. In particular, the discussions on Stack Overflow contain various helpful entries. Quite often it is the case that somebody else has had a similar problem that you're trying to solve. The key then is to precisely formulate your query. For this, it is good to understand the basic terminology of Python, pandas, etc."
   ]
  },
  {
   "cell_type": "markdown",
   "metadata": {},
   "source": []
  },
  {
   "cell_type": "markdown",
   "metadata": {},
   "source": [
    "## 🌠 Let's reach for the stars ... \n",
    "\n",
    "... and plot some data. For data visualization we now just use the library `Matplotlib`. You can use any other library for plotting you are familiar with ([plotly](https://plotly.com/python/), [seaborn](https://seaborn.pydata.org/), [ggpot(2)](https://plotnine.readthedocs.io/en/stable/index.html), [altair](https://altair-viz.github.io/), [pygal](http://www.pygal.org/en/stable/)) or just use the one, which comes with pandas.\n",
    "\n",
    "We will visualize the ratio of editor types using different kinds of charts, first using `pandas` itself and then `matplotlib`. First, we have to prepare the data a bit. Second, we calculate the `sum()` per column, make a Dataframe `to_frame()` out of it (cause it returns a `Series`), and then drop the first three rows using `iloc[]`, cause we don't need them."
   ]
  },
  {
   "cell_type": "code",
   "execution_count": 14,
   "metadata": {},
   "outputs": [],
   "source": [
    "plot_data = edits_data.sum().to_frame(name=\"groups\").iloc[2:]"
   ]
  },
  {
   "cell_type": "code",
   "execution_count": 15,
   "metadata": {},
   "outputs": [
    {
     "data": {
      "text/html": [
       "<div>\n",
       "<style scoped>\n",
       "    .dataframe tbody tr th:only-of-type {\n",
       "        vertical-align: middle;\n",
       "    }\n",
       "\n",
       "    .dataframe tbody tr th {\n",
       "        vertical-align: top;\n",
       "    }\n",
       "\n",
       "    .dataframe thead th {\n",
       "        text-align: right;\n",
       "    }\n",
       "</style>\n",
       "<table border=\"1\" class=\"dataframe\">\n",
       "  <thead>\n",
       "    <tr style=\"text-align: right;\">\n",
       "      <th></th>\n",
       "      <th>groups</th>\n",
       "    </tr>\n",
       "  </thead>\n",
       "  <tbody>\n",
       "    <tr>\n",
       "      <th>anonymous</th>\n",
       "      <td>732</td>\n",
       "    </tr>\n",
       "    <tr>\n",
       "      <th>group-bot</th>\n",
       "      <td>169</td>\n",
       "    </tr>\n",
       "    <tr>\n",
       "      <th>name-bot</th>\n",
       "      <td>5</td>\n",
       "    </tr>\n",
       "    <tr>\n",
       "      <th>user</th>\n",
       "      <td>21548</td>\n",
       "    </tr>\n",
       "  </tbody>\n",
       "</table>\n",
       "</div>"
      ],
      "text/plain": [
       "          groups\n",
       "anonymous    732\n",
       "group-bot    169\n",
       "name-bot       5\n",
       "user       21548"
      ]
     },
     "execution_count": 15,
     "metadata": {},
     "output_type": "execute_result"
    }
   ],
   "source": [
    "plot_data"
   ]
  },
  {
   "cell_type": "markdown",
   "metadata": {},
   "source": [
    "Let's create some basic bar plot:"
   ]
  },
  {
   "cell_type": "code",
   "execution_count": 16,
   "metadata": {},
   "outputs": [
    {
     "data": {
      "image/png": "[encoded data removed]",
      "text/plain": [
       "<Figure size 432x288 with 1 Axes>"
      ]
     },
     "metadata": {
      "needs_background": "light"
     },
     "output_type": "display_data"
    }
   ],
   "source": [
    "import matplotlib.pyplot as plt\n",
    "from matplotlib.colors import ListedColormap\n",
    "\n",
    "ax = plot_data.plot.bar()\n",
    "\n",
    "ax.set_xlabel('Editor Types')\n",
    "ax.set_ylabel('Number of Edits')\n",
    "ax.set_title('Number of edits of article XY')\n",
    "\n",
    "plt.show()"
   ]
  },
  {
   "cell_type": "markdown",
   "metadata": {},
   "source": [
    "*✏️ Plot a horizontal bar chart.*"
   ]
  },
  {
   "cell_type": "code",
   "execution_count": null,
   "metadata": {},
   "outputs": [],
   "source": []
  },
  {
   "cell_type": "markdown",
   "metadata": {},
   "source": [
    "*✏️ Now, plot a pie chart using your own color map!*"
   ]
  },
  {
   "cell_type": "code",
   "execution_count": null,
   "metadata": {},
   "outputs": [],
   "source": []
  },
  {
   "cell_type": "markdown",
   "metadata": {},
   "source": [
    "## 👀 Data wrangling\n",
    "This part of the exercise shows you a few tricks for preparing data for visualization. You will see how data can be loaded, parsed, and examined. For this we will continue to work with the **Pandas** package, in particular with the DataFrame data structure, and get to know a few additional helpers. "
   ]
  },
  {
   "cell_type": "markdown",
   "metadata": {},
   "source": [
    "### Loading \n",
    "\n",
    "The first step is to bring the data into the purview of your notebook. So regardless of data structure and format, you need to have access to the data set. We will briefly cover four common ways of loading data into your Jupyter notebook."
   ]
  },
  {
   "cell_type": "markdown",
   "metadata": {},
   "source": [
    "#### Enter data directly\n",
    "\n",
    "The simplest way to add data to your notebook is to enter it verbatim into the notebook as we have seen with the capital cities in the first tutorial:"
   ]
  },
  {
   "cell_type": "code",
   "execution_count": 19,
   "metadata": {},
   "outputs": [
    {
     "data": {
      "text/html": [
       "<div>\n",
       "<style scoped>\n",
       "    .dataframe tbody tr th:only-of-type {\n",
       "        vertical-align: middle;\n",
       "    }\n",
       "\n",
       "    .dataframe tbody tr th {\n",
       "        vertical-align: top;\n",
       "    }\n",
       "\n",
       "    .dataframe thead th {\n",
       "        text-align: right;\n",
       "    }\n",
       "</style>\n",
       "<table border=\"1\" class=\"dataframe\">\n",
       "  <thead>\n",
       "    <tr style=\"text-align: right;\">\n",
       "      <th></th>\n",
       "      <th>name</th>\n",
       "      <th>area</th>\n",
       "      <th>elevation</th>\n",
       "      <th>population</th>\n",
       "    </tr>\n",
       "  </thead>\n",
       "  <tbody>\n",
       "    <tr>\n",
       "      <th>0</th>\n",
       "      <td>Athens</td>\n",
       "      <td>39.0</td>\n",
       "      <td>170</td>\n",
       "      <td>664046</td>\n",
       "    </tr>\n",
       "    <tr>\n",
       "      <th>1</th>\n",
       "      <td>Bratislava</td>\n",
       "      <td>367.6</td>\n",
       "      <td>152</td>\n",
       "      <td>429564</td>\n",
       "    </tr>\n",
       "    <tr>\n",
       "      <th>2</th>\n",
       "      <td>Copenhagen</td>\n",
       "      <td>86.2</td>\n",
       "      <td>14</td>\n",
       "      <td>602481</td>\n",
       "    </tr>\n",
       "    <tr>\n",
       "      <th>3</th>\n",
       "      <td>Dublin</td>\n",
       "      <td>115.0</td>\n",
       "      <td>20</td>\n",
       "      <td>553165</td>\n",
       "    </tr>\n",
       "  </tbody>\n",
       "</table>\n",
       "</div>"
      ],
      "text/plain": [
       "         name   area  elevation  population\n",
       "0      Athens   39.0        170      664046\n",
       "1  Bratislava  367.6        152      429564\n",
       "2  Copenhagen   86.2         14      602481\n",
       "3      Dublin  115.0         20      553165"
      ]
     },
     "execution_count": 19,
     "metadata": {},
     "output_type": "execute_result"
    }
   ],
   "source": [
    "cities = pd.DataFrame({\n",
    "  \"name\": [\"Athens\", \"Bratislava\", \"Copenhagen\", \"Dublin\"],\n",
    "  \"area\": [39, 367.6, 86.2, 115],\n",
    "  \"elevation\": [170, 152, 14, 20],\n",
    "  \"population\": [664046, 429564, 602481, 553165]\n",
    "  }\n",
    ")\n",
    "\n",
    "cities"
   ]
  },
  {
   "cell_type": "markdown",
   "metadata": {},
   "source": [
    "✏️ *Add a column for years when you have visited or plan to visit these cities*\n"
   ]
  },
  {
   "cell_type": "code",
   "execution_count": null,
   "metadata": {},
   "outputs": [],
   "source": []
  },
  {
   "cell_type": "markdown",
   "metadata": {},
   "source": [
    "#### Open a local file\n",
    "\n",
    "You might also want to open a local file. We can open a file using Python's built-in `Zipfile` method in a context manager, after which we can `read()` its contents into the variable `covid_json`. The file is automatically closed when the context manager block is left. In this case the data is in the JSON format, which we will need to parse. We'll get to this later. You can open all kinds of formats. Here we know that we are dealing with a JSON file because of its extension."
   ]
  },
  {
   "cell_type": "code",
   "execution_count": 20,
   "metadata": {},
   "outputs": [],
   "source": [
    "from zipfile import ZipFile\n",
    "\n",
    "with ZipFile(\"owid-covid-data.zip\", 'r') as file:\n",
    "    covid_json = file.read('owid-covid-data.json')"
   ]
  },
  {
   "cell_type": "code",
   "execution_count": 21,
   "metadata": {},
   "outputs": [
    {
     "data": {
      "text/plain": [
       "b'{\\n    \"AFG\": {\\n        \"continent\": \"Asia\",\\n        \"location\": \"Afghanistan\",\\n        \"population\": 38928341.0,\\n        \"population_density\": 54.422,\\n        \"median_age\": 18.6,\\n        \"aged_65_older\": 2.581,\\n        \"aged_70_older\": 1.337,\\n        \"gdp_per_capita\": 1803.987,\\n        \"cardiovasc_death_rate\": 597.029,\\n        \"diabetes_prevalence\": 9.59,\\n        \"handwashing_facilities\": 37.746,\\n        \"hospital_beds_per_thousand\": 0.5,\\n        \"life_expectancy\": 64.83,\\n        \"human_developm'"
      ]
     },
     "execution_count": 21,
     "metadata": {},
     "output_type": "execute_result"
    }
   ],
   "source": [
    "covid_json[:500] # this displays the first 500 characters"
   ]
  },
  {
   "cell_type": "markdown",
   "metadata": {},
   "source": [
    "#### Get data via a URL\n",
    "\n",
    "There are some methods that can directly load a dataset via a URL, i.e., a web address. For others you might have to retrieve the file first to continue parsing it. The `requests` package helps you to send HTTP requests and retrieve the responses. \n",
    "\n",
    "In the following, the news feed of Tagesschau is retrieved via an HTTP GET request. Note that the news feed is made available as an XML format; of course, you can retrieve all kinds of file formats using this method:"
   ]
  },
  {
   "cell_type": "code",
   "execution_count": 22,
   "metadata": {},
   "outputs": [
    {
     "data": {
      "text/plain": [
       "'<?xml version=\\'1.0\\' encoding=\\'UTF-8\\'?>\\n<rss version=\"2.0\" xmlns:content=\"http://purl.org/rss/1.0/modules/content/\">\\n  <channel>\\n    <title>tagesschau.de - Die Nachrichten der ARD</title>\\n    <link>https://www.tagesschau.de</link>\\n    <description>tagesschau.de</description>\\n    <language>de</language>\\n    <copyright>ARD-aktuell / tagesschau.de</copyright>\\n    <lastBuildDate>Sun, 24 Apr 2022 14:28:39 +0200</lastBuildDate>\\n    <docs>http://blogs.law.harvard.edu/tech/rss</docs>\\n    <ttl>10</ttl>\\n  '"
      ]
     },
     "execution_count": 22,
     "metadata": {},
     "output_type": "execute_result"
    }
   ],
   "source": [
    "import requests\n",
    "\n",
    "response = requests.get('https://www.tagesschau.de/xml/rss2/')\n",
    "tagesschau_xml = response.text\n",
    "tagesschau_xml[:500]"
   ]
  },
  {
   "cell_type": "markdown",
   "metadata": {},
   "source": [
    "✏️ *Find the news feed for another webpage and try to load it!*"
   ]
  },
  {
   "cell_type": "code",
   "execution_count": null,
   "metadata": {},
   "outputs": [],
   "source": []
  },
  {
   "cell_type": "markdown",
   "metadata": {},
   "source": [
    "#### Use an API\n",
    "\n",
    "Some web platforms require the use of an API (application programming interface) to get access to their data. An API is a structured way to request and retrieve data. Oftentimes it is just a specific way to format the URL. The wikipedia edits data set we used in the beginning of this exercise was retrieved by using the [Wikimedia API](https://wikimedia.org/api/rest_v1/)."
   ]
  },
  {
   "cell_type": "code",
   "execution_count": 23,
   "metadata": {},
   "outputs": [],
   "source": [
    "headers = {\n",
    "    'User-Agent': 'https://github.com/aschle',\n",
    "    'From': 'alexa.schlegel@fu-berlin.de'\n",
    "}\n",
    "\n",
    "# Edpoint for getting Edits per Page\n",
    "ep = 'https://wikimedia.org/api/rest_v1/metrics/edits/per-page/en.wikipedia/Amy_Coney_Barrett/all-editor-types/daily/20200101/20201030'\n",
    "\n",
    "call = requests.get(ep, headers=headers)\n",
    "response = call.json()"
   ]
  },
  {
   "cell_type": "code",
   "execution_count": 24,
   "metadata": {},
   "outputs": [
    {
     "data": {
      "text/plain": [
       "{'items': [{'project': 'en.wikipedia',\n",
       "   'editor-type': 'all-editor-types',\n",
       "   'page-title': 'Amy_Coney_Barrett',\n",
       "   'granularity': 'daily',\n",
       "   'results': [{'timestamp': '2020-01-01T00:00:00.000Z', 'edits': 0},\n",
       "    {'timestamp': '2020-01-02T00:00:00.000Z', 'edits': 0},\n",
       "    {'timestamp': '2020-01-03T00:00:00.000Z', 'edits': 0},\n",
       "    {'timestamp': '2020-01-04T00:00:00.000Z', 'edits': 0},\n",
       "    {'timestamp': '2020-01-05T00:00:00.000Z', 'edits': 0},\n",
       "    {'timestamp': '2020-01-06T00:00:00.000Z', 'edits': 0},\n",
       "    {'timestamp': '2020-01-07T00:00:00.000Z', 'edits': 0},\n",
       "    {'timestamp': '2020-01-08T00:00:00.000Z', 'edits': 0},\n",
       "    {'timestamp': '2020-01-09T00:00:00.000Z', 'edits': 0},\n",
       "    {'timestamp': '2020-01-10T00:00:00.000Z', 'edits': 0},\n",
       "    {'timestamp': '2020-01-11T00:00:00.000Z', 'edits': 0},\n",
       "    {'timestamp': '2020-01-12T00:00:00.000Z', 'edits': 0},\n",
       "    {'timestamp': '2020-01-13T00:00:00.000Z', 'edits': 0},\n",
       "    {'timestamp': '2020-01-14T00:00:00.000Z', 'edits': 0},\n",
       "    {'timestamp': '2020-01-15T00:00:00.000Z', 'edits': 0},\n",
       "    {'timestamp': '2020-01-16T00:00:00.000Z', 'edits': 0},\n",
       "    {'timestamp': '2020-01-17T00:00:00.000Z', 'edits': 0},\n",
       "    {'timestamp': '2020-01-18T00:00:00.000Z', 'edits': 0},\n",
       "    {'timestamp': '2020-01-19T00:00:00.000Z', 'edits': 0},\n",
       "    {'timestamp': '2020-01-20T00:00:00.000Z', 'edits': 0},\n",
       "    {'timestamp': '2020-01-21T00:00:00.000Z', 'edits': 0},\n",
       "    {'timestamp': '2020-01-22T00:00:00.000Z', 'edits': 0},\n",
       "    {'timestamp': '2020-01-23T00:00:00.000Z', 'edits': 0},\n",
       "    {'timestamp': '2020-01-24T00:00:00.000Z', 'edits': 0},\n",
       "    {'timestamp': '2020-01-25T00:00:00.000Z', 'edits': 0},\n",
       "    {'timestamp': '2020-01-26T00:00:00.000Z', 'edits': 0},\n",
       "    {'timestamp': '2020-01-27T00:00:00.000Z', 'edits': 0},\n",
       "    {'timestamp': '2020-01-28T00:00:00.000Z', 'edits': 1},\n",
       "    {'timestamp': '2020-01-29T00:00:00.000Z', 'edits': 0},\n",
       "    {'timestamp': '2020-01-30T00:00:00.000Z', 'edits': 0},\n",
       "    {'timestamp': '2020-01-31T00:00:00.000Z', 'edits': 0},\n",
       "    {'timestamp': '2020-02-01T00:00:00.000Z', 'edits': 0},\n",
       "    {'timestamp': '2020-02-02T00:00:00.000Z', 'edits': 1},\n",
       "    {'timestamp': '2020-02-03T00:00:00.000Z', 'edits': 0},\n",
       "    {'timestamp': '2020-02-04T00:00:00.000Z', 'edits': 0},\n",
       "    {'timestamp': '2020-02-05T00:00:00.000Z', 'edits': 0},\n",
       "    {'timestamp': '2020-02-06T00:00:00.000Z', 'edits': 0},\n",
       "    {'timestamp': '2020-02-07T00:00:00.000Z', 'edits': 0},\n",
       "    {'timestamp': '2020-02-08T00:00:00.000Z', 'edits': 0},\n",
       "    {'timestamp': '2020-02-09T00:00:00.000Z', 'edits': 0},\n",
       "    {'timestamp': '2020-02-10T00:00:00.000Z', 'edits': 0},\n",
       "    {'timestamp': '2020-02-11T00:00:00.000Z', 'edits': 0},\n",
       "    {'timestamp': '2020-02-12T00:00:00.000Z', 'edits': 0},\n",
       "    {'timestamp': '2020-02-13T00:00:00.000Z', 'edits': 0},\n",
       "    {'timestamp': '2020-02-14T00:00:00.000Z', 'edits': 0},\n",
       "    {'timestamp': '2020-02-15T00:00:00.000Z', 'edits': 0},\n",
       "    {'timestamp': '2020-02-16T00:00:00.000Z', 'edits': 0},\n",
       "    {'timestamp': '2020-02-17T00:00:00.000Z', 'edits': 0},\n",
       "    {'timestamp': '2020-02-18T00:00:00.000Z', 'edits': 1},\n",
       "    {'timestamp': '2020-02-19T00:00:00.000Z', 'edits': 0},\n",
       "    {'timestamp': '2020-02-20T00:00:00.000Z', 'edits': 0},\n",
       "    {'timestamp': '2020-02-21T00:00:00.000Z', 'edits': 0},\n",
       "    {'timestamp': '2020-02-22T00:00:00.000Z', 'edits': 0},\n",
       "    {'timestamp': '2020-02-23T00:00:00.000Z', 'edits': 0},\n",
       "    {'timestamp': '2020-02-24T00:00:00.000Z', 'edits': 0},\n",
       "    {'timestamp': '2020-02-25T00:00:00.000Z', 'edits': 0},\n",
       "    {'timestamp': '2020-02-26T00:00:00.000Z', 'edits': 0},\n",
       "    {'timestamp': '2020-02-27T00:00:00.000Z', 'edits': 0},\n",
       "    {'timestamp': '2020-02-28T00:00:00.000Z', 'edits': 0},\n",
       "    {'timestamp': '2020-02-29T00:00:00.000Z', 'edits': 0},\n",
       "    {'timestamp': '2020-03-01T00:00:00.000Z', 'edits': 0},\n",
       "    {'timestamp': '2020-03-02T00:00:00.000Z', 'edits': 0},\n",
       "    {'timestamp': '2020-03-03T00:00:00.000Z', 'edits': 0},\n",
       "    {'timestamp': '2020-03-04T00:00:00.000Z', 'edits': 0},\n",
       "    {'timestamp': '2020-03-05T00:00:00.000Z', 'edits': 0},\n",
       "    {'timestamp': '2020-03-06T00:00:00.000Z', 'edits': 0},\n",
       "    {'timestamp': '2020-03-07T00:00:00.000Z', 'edits': 0},\n",
       "    {'timestamp': '2020-03-08T00:00:00.000Z', 'edits': 0},\n",
       "    {'timestamp': '2020-03-09T00:00:00.000Z', 'edits': 0},\n",
       "    {'timestamp': '2020-03-10T00:00:00.000Z', 'edits': 0},\n",
       "    {'timestamp': '2020-03-11T00:00:00.000Z', 'edits': 0},\n",
       "    {'timestamp': '2020-03-12T00:00:00.000Z', 'edits': 0},\n",
       "    {'timestamp': '2020-03-13T00:00:00.000Z', 'edits': 0},\n",
       "    {'timestamp': '2020-03-14T00:00:00.000Z', 'edits': 0},\n",
       "    {'timestamp': '2020-03-15T00:00:00.000Z', 'edits': 0},\n",
       "    {'timestamp': '2020-03-16T00:00:00.000Z', 'edits': 0},\n",
       "    {'timestamp': '2020-03-17T00:00:00.000Z', 'edits': 0},\n",
       "    {'timestamp': '2020-03-18T00:00:00.000Z', 'edits': 0},\n",
       "    {'timestamp': '2020-03-19T00:00:00.000Z', 'edits': 0},\n",
       "    {'timestamp': '2020-03-20T00:00:00.000Z', 'edits': 0},\n",
       "    {'timestamp': '2020-03-21T00:00:00.000Z', 'edits': 0},\n",
       "    {'timestamp': '2020-03-22T00:00:00.000Z', 'edits': 0},\n",
       "    {'timestamp': '2020-03-23T00:00:00.000Z', 'edits': 0},\n",
       "    {'timestamp': '2020-03-24T00:00:00.000Z', 'edits': 0},\n",
       "    {'timestamp': '2020-03-25T00:00:00.000Z', 'edits': 0},\n",
       "    {'timestamp': '2020-03-26T00:00:00.000Z', 'edits': 0},\n",
       "    {'timestamp': '2020-03-27T00:00:00.000Z', 'edits': 0},\n",
       "    {'timestamp': '2020-03-28T00:00:00.000Z', 'edits': 0},\n",
       "    {'timestamp': '2020-03-29T00:00:00.000Z', 'edits': 0},\n",
       "    {'timestamp': '2020-03-30T00:00:00.000Z', 'edits': 0},\n",
       "    {'timestamp': '2020-03-31T00:00:00.000Z', 'edits': 0},\n",
       "    {'timestamp': '2020-04-01T00:00:00.000Z', 'edits': 0},\n",
       "    {'timestamp': '2020-04-02T00:00:00.000Z', 'edits': 0},\n",
       "    {'timestamp': '2020-04-03T00:00:00.000Z', 'edits': 0},\n",
       "    {'timestamp': '2020-04-04T00:00:00.000Z', 'edits': 0},\n",
       "    {'timestamp': '2020-04-05T00:00:00.000Z', 'edits': 0},\n",
       "    {'timestamp': '2020-04-06T00:00:00.000Z', 'edits': 0},\n",
       "    {'timestamp': '2020-04-07T00:00:00.000Z', 'edits': 0},\n",
       "    {'timestamp': '2020-04-08T00:00:00.000Z', 'edits': 2},\n",
       "    {'timestamp': '2020-04-09T00:00:00.000Z', 'edits': 0},\n",
       "    {'timestamp': '2020-04-10T00:00:00.000Z', 'edits': 0},\n",
       "    {'timestamp': '2020-04-11T00:00:00.000Z', 'edits': 0},\n",
       "    {'timestamp': '2020-04-12T00:00:00.000Z', 'edits': 0},\n",
       "    {'timestamp': '2020-04-13T00:00:00.000Z', 'edits': 0},\n",
       "    {'timestamp': '2020-04-14T00:00:00.000Z', 'edits': 0},\n",
       "    {'timestamp': '2020-04-15T00:00:00.000Z', 'edits': 0},\n",
       "    {'timestamp': '2020-04-16T00:00:00.000Z', 'edits': 0},\n",
       "    {'timestamp': '2020-04-17T00:00:00.000Z', 'edits': 0},\n",
       "    {'timestamp': '2020-04-18T00:00:00.000Z', 'edits': 0},\n",
       "    {'timestamp': '2020-04-19T00:00:00.000Z', 'edits': 0},\n",
       "    {'timestamp': '2020-04-20T00:00:00.000Z', 'edits': 0},\n",
       "    {'timestamp': '2020-04-21T00:00:00.000Z', 'edits': 0},\n",
       "    {'timestamp': '2020-04-22T00:00:00.000Z', 'edits': 0},\n",
       "    {'timestamp': '2020-04-23T00:00:00.000Z', 'edits': 0},\n",
       "    {'timestamp': '2020-04-24T00:00:00.000Z', 'edits': 0},\n",
       "    {'timestamp': '2020-04-25T00:00:00.000Z', 'edits': 0},\n",
       "    {'timestamp': '2020-04-26T00:00:00.000Z', 'edits': 0},\n",
       "    {'timestamp': '2020-04-27T00:00:00.000Z', 'edits': 0},\n",
       "    {'timestamp': '2020-04-28T00:00:00.000Z', 'edits': 0},\n",
       "    {'timestamp': '2020-04-29T00:00:00.000Z', 'edits': 0},\n",
       "    {'timestamp': '2020-04-30T00:00:00.000Z', 'edits': 0},\n",
       "    {'timestamp': '2020-05-01T00:00:00.000Z', 'edits': 0},\n",
       "    {'timestamp': '2020-05-02T00:00:00.000Z', 'edits': 0},\n",
       "    {'timestamp': '2020-05-03T00:00:00.000Z', 'edits': 0},\n",
       "    {'timestamp': '2020-05-04T00:00:00.000Z', 'edits': 0},\n",
       "    {'timestamp': '2020-05-05T00:00:00.000Z', 'edits': 0},\n",
       "    {'timestamp': '2020-05-06T00:00:00.000Z', 'edits': 0},\n",
       "    {'timestamp': '2020-05-07T00:00:00.000Z', 'edits': 0},\n",
       "    {'timestamp': '2020-05-08T00:00:00.000Z', 'edits': 0},\n",
       "    {'timestamp': '2020-05-09T00:00:00.000Z', 'edits': 0},\n",
       "    {'timestamp': '2020-05-10T00:00:00.000Z', 'edits': 0},\n",
       "    {'timestamp': '2020-05-11T00:00:00.000Z', 'edits': 0},\n",
       "    {'timestamp': '2020-05-12T00:00:00.000Z', 'edits': 0},\n",
       "    {'timestamp': '2020-05-13T00:00:00.000Z', 'edits': 0},\n",
       "    {'timestamp': '2020-05-14T00:00:00.000Z', 'edits': 0},\n",
       "    {'timestamp': '2020-05-15T00:00:00.000Z', 'edits': 0},\n",
       "    {'timestamp': '2020-05-16T00:00:00.000Z', 'edits': 0},\n",
       "    {'timestamp': '2020-05-17T00:00:00.000Z', 'edits': 0},\n",
       "    {'timestamp': '2020-05-18T00:00:00.000Z', 'edits': 0},\n",
       "    {'timestamp': '2020-05-19T00:00:00.000Z', 'edits': 1},\n",
       "    {'timestamp': '2020-05-20T00:00:00.000Z', 'edits': 0},\n",
       "    {'timestamp': '2020-05-21T00:00:00.000Z', 'edits': 0},\n",
       "    {'timestamp': '2020-05-22T00:00:00.000Z', 'edits': 0},\n",
       "    {'timestamp': '2020-05-23T00:00:00.000Z', 'edits': 0},\n",
       "    {'timestamp': '2020-05-24T00:00:00.000Z', 'edits': 0},\n",
       "    {'timestamp': '2020-05-25T00:00:00.000Z', 'edits': 0},\n",
       "    {'timestamp': '2020-05-26T00:00:00.000Z', 'edits': 0},\n",
       "    {'timestamp': '2020-05-27T00:00:00.000Z', 'edits': 0},\n",
       "    {'timestamp': '2020-05-28T00:00:00.000Z', 'edits': 0},\n",
       "    {'timestamp': '2020-05-29T00:00:00.000Z', 'edits': 1},\n",
       "    {'timestamp': '2020-05-30T00:00:00.000Z', 'edits': 0},\n",
       "    {'timestamp': '2020-05-31T00:00:00.000Z', 'edits': 1},\n",
       "    {'timestamp': '2020-06-01T00:00:00.000Z', 'edits': 1},\n",
       "    {'timestamp': '2020-06-02T00:00:00.000Z', 'edits': 0},\n",
       "    {'timestamp': '2020-06-03T00:00:00.000Z', 'edits': 0},\n",
       "    {'timestamp': '2020-06-04T00:00:00.000Z', 'edits': 0},\n",
       "    {'timestamp': '2020-06-05T00:00:00.000Z', 'edits': 0},\n",
       "    {'timestamp': '2020-06-06T00:00:00.000Z', 'edits': 0},\n",
       "    {'timestamp': '2020-06-07T00:00:00.000Z', 'edits': 0},\n",
       "    {'timestamp': '2020-06-08T00:00:00.000Z', 'edits': 0},\n",
       "    {'timestamp': '2020-06-09T00:00:00.000Z', 'edits': 0},\n",
       "    {'timestamp': '2020-06-10T00:00:00.000Z', 'edits': 0},\n",
       "    {'timestamp': '2020-06-11T00:00:00.000Z', 'edits': 0},\n",
       "    {'timestamp': '2020-06-12T00:00:00.000Z', 'edits': 1},\n",
       "    {'timestamp': '2020-06-13T00:00:00.000Z', 'edits': 0},\n",
       "    {'timestamp': '2020-06-14T00:00:00.000Z', 'edits': 0},\n",
       "    {'timestamp': '2020-06-15T00:00:00.000Z', 'edits': 0},\n",
       "    {'timestamp': '2020-06-16T00:00:00.000Z', 'edits': 1},\n",
       "    {'timestamp': '2020-06-17T00:00:00.000Z', 'edits': 0},\n",
       "    {'timestamp': '2020-06-18T00:00:00.000Z', 'edits': 0},\n",
       "    {'timestamp': '2020-06-19T00:00:00.000Z', 'edits': 0},\n",
       "    {'timestamp': '2020-06-20T00:00:00.000Z', 'edits': 0},\n",
       "    {'timestamp': '2020-06-21T00:00:00.000Z', 'edits': 0},\n",
       "    {'timestamp': '2020-06-22T00:00:00.000Z', 'edits': 0},\n",
       "    {'timestamp': '2020-06-23T00:00:00.000Z', 'edits': 0},\n",
       "    {'timestamp': '2020-06-24T00:00:00.000Z', 'edits': 0},\n",
       "    {'timestamp': '2020-06-25T00:00:00.000Z', 'edits': 1},\n",
       "    {'timestamp': '2020-06-26T00:00:00.000Z', 'edits': 0},\n",
       "    {'timestamp': '2020-06-27T00:00:00.000Z', 'edits': 0},\n",
       "    {'timestamp': '2020-06-28T00:00:00.000Z', 'edits': 0},\n",
       "    {'timestamp': '2020-06-29T00:00:00.000Z', 'edits': 0},\n",
       "    {'timestamp': '2020-06-30T00:00:00.000Z', 'edits': 0},\n",
       "    {'timestamp': '2020-07-01T00:00:00.000Z', 'edits': 0},\n",
       "    {'timestamp': '2020-07-02T00:00:00.000Z', 'edits': 1},\n",
       "    {'timestamp': '2020-07-03T00:00:00.000Z', 'edits': 0},\n",
       "    {'timestamp': '2020-07-04T00:00:00.000Z', 'edits': 0},\n",
       "    {'timestamp': '2020-07-05T00:00:00.000Z', 'edits': 0},\n",
       "    {'timestamp': '2020-07-06T00:00:00.000Z', 'edits': 0},\n",
       "    {'timestamp': '2020-07-07T00:00:00.000Z', 'edits': 0},\n",
       "    {'timestamp': '2020-07-08T00:00:00.000Z', 'edits': 1},\n",
       "    {'timestamp': '2020-07-09T00:00:00.000Z', 'edits': 1},\n",
       "    {'timestamp': '2020-07-10T00:00:00.000Z', 'edits': 0},\n",
       "    {'timestamp': '2020-07-11T00:00:00.000Z', 'edits': 2},\n",
       "    {'timestamp': '2020-07-12T00:00:00.000Z', 'edits': 0},\n",
       "    {'timestamp': '2020-07-13T00:00:00.000Z', 'edits': 0},\n",
       "    {'timestamp': '2020-07-14T00:00:00.000Z', 'edits': 0},\n",
       "    {'timestamp': '2020-07-15T00:00:00.000Z', 'edits': 0},\n",
       "    {'timestamp': '2020-07-16T00:00:00.000Z', 'edits': 0},\n",
       "    {'timestamp': '2020-07-17T00:00:00.000Z', 'edits': 0},\n",
       "    {'timestamp': '2020-07-18T00:00:00.000Z', 'edits': 0},\n",
       "    {'timestamp': '2020-07-19T00:00:00.000Z', 'edits': 0},\n",
       "    {'timestamp': '2020-07-20T00:00:00.000Z', 'edits': 0},\n",
       "    {'timestamp': '2020-07-21T00:00:00.000Z', 'edits': 0},\n",
       "    {'timestamp': '2020-07-22T00:00:00.000Z', 'edits': 0},\n",
       "    {'timestamp': '2020-07-23T00:00:00.000Z', 'edits': 0},\n",
       "    {'timestamp': '2020-07-24T00:00:00.000Z', 'edits': 0},\n",
       "    {'timestamp': '2020-07-25T00:00:00.000Z', 'edits': 0},\n",
       "    {'timestamp': '2020-07-26T00:00:00.000Z', 'edits': 0},\n",
       "    {'timestamp': '2020-07-27T00:00:00.000Z', 'edits': 0},\n",
       "    {'timestamp': '2020-07-28T00:00:00.000Z', 'edits': 0},\n",
       "    {'timestamp': '2020-07-29T00:00:00.000Z', 'edits': 0},\n",
       "    {'timestamp': '2020-07-30T00:00:00.000Z', 'edits': 0},\n",
       "    {'timestamp': '2020-07-31T00:00:00.000Z', 'edits': 0},\n",
       "    {'timestamp': '2020-08-01T00:00:00.000Z', 'edits': 0},\n",
       "    {'timestamp': '2020-08-02T00:00:00.000Z', 'edits': 0},\n",
       "    {'timestamp': '2020-08-03T00:00:00.000Z', 'edits': 0},\n",
       "    {'timestamp': '2020-08-04T00:00:00.000Z', 'edits': 8},\n",
       "    {'timestamp': '2020-08-05T00:00:00.000Z', 'edits': 4},\n",
       "    {'timestamp': '2020-08-06T00:00:00.000Z', 'edits': 1},\n",
       "    {'timestamp': '2020-08-07T00:00:00.000Z', 'edits': 0},\n",
       "    {'timestamp': '2020-08-08T00:00:00.000Z', 'edits': 9},\n",
       "    {'timestamp': '2020-08-09T00:00:00.000Z', 'edits': 0},\n",
       "    {'timestamp': '2020-08-10T00:00:00.000Z', 'edits': 0},\n",
       "    {'timestamp': '2020-08-11T00:00:00.000Z', 'edits': 0},\n",
       "    {'timestamp': '2020-08-12T00:00:00.000Z', 'edits': 1},\n",
       "    {'timestamp': '2020-08-13T00:00:00.000Z', 'edits': 0},\n",
       "    {'timestamp': '2020-08-14T00:00:00.000Z', 'edits': 0},\n",
       "    {'timestamp': '2020-08-15T00:00:00.000Z', 'edits': 18},\n",
       "    {'timestamp': '2020-08-16T00:00:00.000Z', 'edits': 0},\n",
       "    {'timestamp': '2020-08-17T00:00:00.000Z', 'edits': 0},\n",
       "    {'timestamp': '2020-08-18T00:00:00.000Z', 'edits': 9},\n",
       "    {'timestamp': '2020-08-19T00:00:00.000Z', 'edits': 28},\n",
       "    {'timestamp': '2020-08-20T00:00:00.000Z', 'edits': 14},\n",
       "    {'timestamp': '2020-08-21T00:00:00.000Z', 'edits': 0},\n",
       "    {'timestamp': '2020-08-22T00:00:00.000Z', 'edits': 0},\n",
       "    {'timestamp': '2020-08-23T00:00:00.000Z', 'edits': 0},\n",
       "    {'timestamp': '2020-08-24T00:00:00.000Z', 'edits': 0},\n",
       "    {'timestamp': '2020-08-25T00:00:00.000Z', 'edits': 0},\n",
       "    {'timestamp': '2020-08-26T00:00:00.000Z', 'edits': 0},\n",
       "    {'timestamp': '2020-08-27T00:00:00.000Z', 'edits': 0},\n",
       "    {'timestamp': '2020-08-28T00:00:00.000Z', 'edits': 14},\n",
       "    {'timestamp': '2020-08-29T00:00:00.000Z', 'edits': 0},\n",
       "    {'timestamp': '2020-08-30T00:00:00.000Z', 'edits': 0},\n",
       "    {'timestamp': '2020-08-31T00:00:00.000Z', 'edits': 0},\n",
       "    {'timestamp': '2020-09-01T00:00:00.000Z', 'edits': 1},\n",
       "    {'timestamp': '2020-09-02T00:00:00.000Z', 'edits': 0},\n",
       "    {'timestamp': '2020-09-03T00:00:00.000Z', 'edits': 0},\n",
       "    {'timestamp': '2020-09-04T00:00:00.000Z', 'edits': 2},\n",
       "    {'timestamp': '2020-09-05T00:00:00.000Z', 'edits': 0},\n",
       "    {'timestamp': '2020-09-06T00:00:00.000Z', 'edits': 0},\n",
       "    {'timestamp': '2020-09-07T00:00:00.000Z', 'edits': 0},\n",
       "    {'timestamp': '2020-09-08T00:00:00.000Z', 'edits': 0},\n",
       "    {'timestamp': '2020-09-09T00:00:00.000Z', 'edits': 4},\n",
       "    {'timestamp': '2020-09-10T00:00:00.000Z', 'edits': 0},\n",
       "    {'timestamp': '2020-09-11T00:00:00.000Z', 'edits': 0},\n",
       "    {'timestamp': '2020-09-12T00:00:00.000Z', 'edits': 0},\n",
       "    {'timestamp': '2020-09-13T00:00:00.000Z', 'edits': 2},\n",
       "    {'timestamp': '2020-09-14T00:00:00.000Z', 'edits': 0},\n",
       "    {'timestamp': '2020-09-15T00:00:00.000Z', 'edits': 1},\n",
       "    {'timestamp': '2020-09-16T00:00:00.000Z', 'edits': 0},\n",
       "    {'timestamp': '2020-09-17T00:00:00.000Z', 'edits': 0},\n",
       "    {'timestamp': '2020-09-18T00:00:00.000Z', 'edits': 1},\n",
       "    {'timestamp': '2020-09-19T00:00:00.000Z', 'edits': 81},\n",
       "    {'timestamp': '2020-09-20T00:00:00.000Z', 'edits': 33},\n",
       "    {'timestamp': '2020-09-21T00:00:00.000Z', 'edits': 59},\n",
       "    {'timestamp': '2020-09-22T00:00:00.000Z', 'edits': 142},\n",
       "    {'timestamp': '2020-09-23T00:00:00.000Z', 'edits': 59},\n",
       "    {'timestamp': '2020-09-24T00:00:00.000Z', 'edits': 49},\n",
       "    {'timestamp': '2020-09-25T00:00:00.000Z', 'edits': 42},\n",
       "    {'timestamp': '2020-09-26T00:00:00.000Z', 'edits': 130},\n",
       "    {'timestamp': '2020-09-27T00:00:00.000Z', 'edits': 114},\n",
       "    {'timestamp': '2020-09-28T00:00:00.000Z', 'edits': 32},\n",
       "    {'timestamp': '2020-09-29T00:00:00.000Z', 'edits': 47},\n",
       "    {'timestamp': '2020-09-30T00:00:00.000Z', 'edits': 40},\n",
       "    {'timestamp': '2020-10-01T00:00:00.000Z', 'edits': 68},\n",
       "    {'timestamp': '2020-10-02T00:00:00.000Z', 'edits': 88},\n",
       "    {'timestamp': '2020-10-03T00:00:00.000Z', 'edits': 28},\n",
       "    {'timestamp': '2020-10-04T00:00:00.000Z', 'edits': 14},\n",
       "    {'timestamp': '2020-10-05T00:00:00.000Z', 'edits': 17},\n",
       "    {'timestamp': '2020-10-06T00:00:00.000Z', 'edits': 40},\n",
       "    {'timestamp': '2020-10-07T00:00:00.000Z', 'edits': 20},\n",
       "    {'timestamp': '2020-10-08T00:00:00.000Z', 'edits': 13},\n",
       "    {'timestamp': '2020-10-09T00:00:00.000Z', 'edits': 17},\n",
       "    {'timestamp': '2020-10-10T00:00:00.000Z', 'edits': 23},\n",
       "    {'timestamp': '2020-10-11T00:00:00.000Z', 'edits': 5},\n",
       "    {'timestamp': '2020-10-12T00:00:00.000Z', 'edits': 17},\n",
       "    {'timestamp': '2020-10-13T00:00:00.000Z', 'edits': 31},\n",
       "    {'timestamp': '2020-10-14T00:00:00.000Z', 'edits': 12},\n",
       "    {'timestamp': '2020-10-15T00:00:00.000Z', 'edits': 15},\n",
       "    {'timestamp': '2020-10-16T00:00:00.000Z', 'edits': 8},\n",
       "    {'timestamp': '2020-10-17T00:00:00.000Z', 'edits': 2},\n",
       "    {'timestamp': '2020-10-18T00:00:00.000Z', 'edits': 8},\n",
       "    {'timestamp': '2020-10-19T00:00:00.000Z', 'edits': 6},\n",
       "    {'timestamp': '2020-10-20T00:00:00.000Z', 'edits': 6},\n",
       "    {'timestamp': '2020-10-21T00:00:00.000Z', 'edits': 2},\n",
       "    {'timestamp': '2020-10-22T00:00:00.000Z', 'edits': 16},\n",
       "    {'timestamp': '2020-10-23T00:00:00.000Z', 'edits': 8},\n",
       "    {'timestamp': '2020-10-24T00:00:00.000Z', 'edits': 8},\n",
       "    {'timestamp': '2020-10-25T00:00:00.000Z', 'edits': 11},\n",
       "    {'timestamp': '2020-10-26T00:00:00.000Z', 'edits': 43},\n",
       "    {'timestamp': '2020-10-27T00:00:00.000Z', 'edits': 257},\n",
       "    {'timestamp': '2020-10-28T00:00:00.000Z', 'edits': 19},\n",
       "    {'timestamp': '2020-10-29T00:00:00.000Z', 'edits': 21}]}]}"
      ]
     },
     "execution_count": 24,
     "metadata": {},
     "output_type": "execute_result"
    }
   ],
   "source": [
    "response"
   ]
  },
  {
   "cell_type": "markdown",
   "metadata": {},
   "source": [
    "✏️ *Prepare an API request to get the edits of some page in the german wikipedia.*"
   ]
  },
  {
   "cell_type": "code",
   "execution_count": null,
   "metadata": {},
   "outputs": [],
   "source": []
  },
  {
   "cell_type": "markdown",
   "metadata": {},
   "source": [
    "### Parsing \n",
    "\n",
    "Apart from our little cities example, so far we have only loaded the data into unstructured strings. To be able to analyze the data, we have to turn the unstructured strings of symbols into a practical data structure of the DataFrame that we can work with. This process is commonly referred to as ‘parsing’. \n",
    "\n",
    "As we have seen above, data can come in various file formats, which are in turn more or less appropriate for particular data structures. We'll cover four typical ones in the following section, but we will see more over the course of the tutorials to come.\n",
    "\n",
    "The different ways of loading data (e.g., by file path or URL) are independent from the particular data formats provided. For example, you can load CSV data from a local file or from a web address. While the files typically indicate with the extension what format they have, URLs or APIs may not have these. If it is not clear, you may have to check the documentation or take a peek into the file."
   ]
  },
  {
   "cell_type": "markdown",
   "metadata": {},
   "source": [
    "#### CSV\n",
    "\n",
    "The CSV format is probably the most common file format in the context of data analysis and visualization. CSV files contain tabular data that can be viewed and edited in a spreadsheet software such as Excel. CSV stands for [comma-separated values](https://en.wikipedia.org/wiki/Comma-separated_values), which seems to say it all: the data values are separated by commas and each row represents one item. However, there are also CSV files that use separators other than commas, such as tabs and semicolons. \n",
    "\n",
    "Let's load a CSV file! Thankfully Pandas has the convenient `read_csv()` method ready for us, which can open CSV data via a file path or URL, and turns it directly into a DataFrame object.\n",
    "\n",
    "A good source for CSV data is [Our world in Data](https://ourworldindata.org/), the datasets you find on [GitHub](https://github.com/owid/owid-datasets). As an exmple we will load the \"A Century of Work and Leisure\" dataset.\n"
   ]
  },
  {
   "cell_type": "code",
   "execution_count": 25,
   "metadata": {},
   "outputs": [
    {
     "data": {
      "text/html": [
       "<div>\n",
       "<style scoped>\n",
       "    .dataframe tbody tr th:only-of-type {\n",
       "        vertical-align: middle;\n",
       "    }\n",
       "\n",
       "    .dataframe tbody tr th {\n",
       "        vertical-align: top;\n",
       "    }\n",
       "\n",
       "    .dataframe thead th {\n",
       "        text-align: right;\n",
       "    }\n",
       "</style>\n",
       "<table border=\"1\" class=\"dataframe\">\n",
       "  <thead>\n",
       "    <tr style=\"text-align: right;\">\n",
       "      <th></th>\n",
       "      <th>Entity</th>\n",
       "      <th>Year</th>\n",
       "      <th>Average weekly hours worked per person by demographic group (Ramey and Francis (2009))</th>\n",
       "      <th>Average weekly hours devoted to school (Ramey and Francis (2009))</th>\n",
       "      <th>Weekly home production time by demographic group (Ramey and Francis (2009))</th>\n",
       "      <th>Average weekly leisure estimates by age (Ramey and Francis (2009))</th>\n",
       "    </tr>\n",
       "  </thead>\n",
       "  <tbody>\n",
       "    <tr>\n",
       "      <th>0</th>\n",
       "      <td>Ages 10 to 13 (male)</td>\n",
       "      <td>1900</td>\n",
       "      <td>7.7</td>\n",
       "      <td>NaN</td>\n",
       "      <td>NaN</td>\n",
       "      <td>NaN</td>\n",
       "    </tr>\n",
       "    <tr>\n",
       "      <th>1</th>\n",
       "      <td>Ages 10 to 13 (male)</td>\n",
       "      <td>1910</td>\n",
       "      <td>5.4</td>\n",
       "      <td>NaN</td>\n",
       "      <td>NaN</td>\n",
       "      <td>NaN</td>\n",
       "    </tr>\n",
       "    <tr>\n",
       "      <th>2</th>\n",
       "      <td>Ages 10 to 13 (male)</td>\n",
       "      <td>1920</td>\n",
       "      <td>2.1</td>\n",
       "      <td>NaN</td>\n",
       "      <td>NaN</td>\n",
       "      <td>NaN</td>\n",
       "    </tr>\n",
       "    <tr>\n",
       "      <th>3</th>\n",
       "      <td>Ages 10 to 13 (male)</td>\n",
       "      <td>1930</td>\n",
       "      <td>1.2</td>\n",
       "      <td>NaN</td>\n",
       "      <td>NaN</td>\n",
       "      <td>NaN</td>\n",
       "    </tr>\n",
       "    <tr>\n",
       "      <th>4</th>\n",
       "      <td>Ages 10 to 13 (male)</td>\n",
       "      <td>1940</td>\n",
       "      <td>0.0</td>\n",
       "      <td>NaN</td>\n",
       "      <td>NaN</td>\n",
       "      <td>NaN</td>\n",
       "    </tr>\n",
       "  </tbody>\n",
       "</table>\n",
       "</div>"
      ],
      "text/plain": [
       "                 Entity  Year  \\\n",
       "0  Ages 10 to 13 (male)  1900   \n",
       "1  Ages 10 to 13 (male)  1910   \n",
       "2  Ages 10 to 13 (male)  1920   \n",
       "3  Ages 10 to 13 (male)  1930   \n",
       "4  Ages 10 to 13 (male)  1940   \n",
       "\n",
       "   Average weekly hours worked per person by demographic group (Ramey and Francis (2009))  \\\n",
       "0                                                7.7                                        \n",
       "1                                                5.4                                        \n",
       "2                                                2.1                                        \n",
       "3                                                1.2                                        \n",
       "4                                                0.0                                        \n",
       "\n",
       "   Average weekly hours devoted to school (Ramey and Francis (2009))  \\\n",
       "0                                                NaN                   \n",
       "1                                                NaN                   \n",
       "2                                                NaN                   \n",
       "3                                                NaN                   \n",
       "4                                                NaN                   \n",
       "\n",
       "   Weekly home production time by demographic group (Ramey and Francis (2009))  \\\n",
       "0                                                NaN                             \n",
       "1                                                NaN                             \n",
       "2                                                NaN                             \n",
       "3                                                NaN                             \n",
       "4                                                NaN                             \n",
       "\n",
       "   Average weekly leisure estimates by age (Ramey and Francis (2009))  \n",
       "0                                                NaN                   \n",
       "1                                                NaN                   \n",
       "2                                                NaN                   \n",
       "3                                                NaN                   \n",
       "4                                                NaN                   "
      ]
     },
     "execution_count": 25,
     "metadata": {},
     "output_type": "execute_result"
    }
   ],
   "source": [
    "owid_data = pd.read_csv(\"https://raw.githubusercontent.com/owid/owid-datasets/9e0249459233f8ef303eab7ed2d56ebbcf01e64c/datasets/A%20Century%20of%20Work%20and%20Leisure%20-%20Ramey%20and%20Francis%20(2009)/A%20Century%20of%20Work%20and%20Leisure%20-%20Ramey%20and%20Francis%20(2009).csv\")\n",
    "owid_data.head()"
   ]
  },
  {
   "cell_type": "markdown",
   "metadata": {},
   "source": [
    "✏️ *Try loading another CSV dataset from [GovData](https://www.govdata.de/)!*"
   ]
  },
  {
   "cell_type": "code",
   "execution_count": null,
   "metadata": {},
   "outputs": [],
   "source": []
  },
  {
   "cell_type": "markdown",
   "metadata": {},
   "source": [
    "#### XML\n",
    "\n",
    "[XML](https://en.wikipedia.org/wiki/XML) (Extensible Markup Language) is a data format, which can have very different kinds of hierarchical structures. XML files are common in a wide variety of contexts, including libraries, and especially in situations, in which the interoperability of multiple systems by several vendors needs to be ensured.\n",
    "\n",
    "The 🌲 **ElementTree** module will help us to parse the elements contained in an XML file."
   ]
  },
  {
   "cell_type": "code",
   "execution_count": 26,
   "metadata": {},
   "outputs": [],
   "source": [
    "import xml.etree.ElementTree as ET"
   ]
  },
  {
   "cell_type": "markdown",
   "metadata": {},
   "source": [
    "As we have already retrieved the XML feed from Tagesschau (and saved it in the variable `tagesschau_xml`), we can now parse it directly from the string, i.e., using the method `ET.fromstring()`:"
   ]
  },
  {
   "cell_type": "code",
   "execution_count": 27,
   "metadata": {},
   "outputs": [
    {
     "data": {
      "text/plain": [
       "<Element 'rss' at 0x7fd410b521d0>"
      ]
     },
     "execution_count": 27,
     "metadata": {},
     "output_type": "execute_result"
    }
   ],
   "source": [
    "tagesschau = ET.fromstring(tagesschau_xml)\n",
    "tagesschau"
   ]
  },
  {
   "cell_type": "markdown",
   "metadata": {},
   "source": [
    "This gives the root element of the XML feed (and all its children) in the variable `tagesschau`. \n",
    "\n",
    "Going through all items with `findall` and within these with `find` for specific sub-elements, we can extract the publication date and time and the title of the respective item. In the following these elements are put together into the DataFrame `tagesschau_df`. Note that it helps to peek into the XML source of the feed to know the specific element names."
   ]
  },
  {
   "cell_type": "code",
   "execution_count": 28,
   "metadata": {},
   "outputs": [
    {
     "data": {
      "text/html": [
       "<div>\n",
       "<style scoped>\n",
       "    .dataframe tbody tr th:only-of-type {\n",
       "        vertical-align: middle;\n",
       "    }\n",
       "\n",
       "    .dataframe tbody tr th {\n",
       "        vertical-align: top;\n",
       "    }\n",
       "\n",
       "    .dataframe thead th {\n",
       "        text-align: right;\n",
       "    }\n",
       "</style>\n",
       "<table border=\"1\" class=\"dataframe\">\n",
       "  <thead>\n",
       "    <tr style=\"text-align: right;\">\n",
       "      <th></th>\n",
       "      <th>date</th>\n",
       "      <th>title</th>\n",
       "    </tr>\n",
       "  </thead>\n",
       "  <tbody>\n",
       "    <tr>\n",
       "      <th>0</th>\n",
       "      <td>Sun, 24 Apr 2022 13:35:42 +0200</td>\n",
       "      <td>EU-Sanktionen: Muss Oligarch-Sein strafbar wer...</td>\n",
       "    </tr>\n",
       "    <tr>\n",
       "      <th>1</th>\n",
       "      <td>Sun, 24 Apr 2022 13:09:05 +0200</td>\n",
       "      <td>Frankreich: Bisher niedrigere Wahlbeteiligung ...</td>\n",
       "    </tr>\n",
       "    <tr>\n",
       "      <th>2</th>\n",
       "      <td>Sun, 24 Apr 2022 12:20:42 +0200</td>\n",
       "      <td>Palmer lässt Mitgliedschaft bei den Grünen bis...</td>\n",
       "    </tr>\n",
       "    <tr>\n",
       "      <th>3</th>\n",
       "      <td>Sun, 24 Apr 2022 12:07:19 +0200</td>\n",
       "      <td>Krieg gegen die Ukraine: Viele Kämpfe statt Os...</td>\n",
       "    </tr>\n",
       "    <tr>\n",
       "      <th>4</th>\n",
       "      <td>Sun, 24 Apr 2022 11:18:11 +0200</td>\n",
       "      <td>Linkspartei wählt im Juni gesamten Parteivorst...</td>\n",
       "    </tr>\n",
       "    <tr>\n",
       "      <th>5</th>\n",
       "      <td>Sun, 24 Apr 2022 10:07:21 +0200</td>\n",
       "      <td>Nigeria: Dutzende Tote bei Explosion illegaler...</td>\n",
       "    </tr>\n",
       "    <tr>\n",
       "      <th>6</th>\n",
       "      <td>Sun, 24 Apr 2022 10:05:36 +0200</td>\n",
       "      <td>FDP-Generalsekretär Djir-Sarai: Mann mit beson...</td>\n",
       "    </tr>\n",
       "    <tr>\n",
       "      <th>7</th>\n",
       "      <td>Sun, 24 Apr 2022 09:41:28 +0200</td>\n",
       "      <td>Nord Stream 2: Klingbeil nimmt Schwesig in Schutz</td>\n",
       "    </tr>\n",
       "    <tr>\n",
       "      <th>8</th>\n",
       "      <td>Sun, 24 Apr 2022 08:26:57 +0200</td>\n",
       "      <td>Wie Spanien die Jugendarbeitslosigkeit bekämpft</td>\n",
       "    </tr>\n",
       "    <tr>\n",
       "      <th>9</th>\n",
       "      <td>Sun, 24 Apr 2022 08:25:41 +0200</td>\n",
       "      <td>Slowenien: Verdrängt ein Newcomer \"Marshall Tw...</td>\n",
       "    </tr>\n",
       "    <tr>\n",
       "      <th>10</th>\n",
       "      <td>Sun, 24 Apr 2022 05:33:41 +0200</td>\n",
       "      <td>Krieg gegen die Ukraine: US-Minister in Kiew e...</td>\n",
       "    </tr>\n",
       "    <tr>\n",
       "      <th>11</th>\n",
       "      <td>Sun, 24 Apr 2022 05:04:33 +0200</td>\n",
       "      <td>Frankreich vor der Wahl: Links denken - aber w...</td>\n",
       "    </tr>\n",
       "    <tr>\n",
       "      <th>12</th>\n",
       "      <td>Sun, 24 Apr 2022 04:42:32 +0200</td>\n",
       "      <td>Corona-Pandemie: Inzidenz sinkt auf 807</td>\n",
       "    </tr>\n",
       "    <tr>\n",
       "      <th>13</th>\n",
       "      <td>Sun, 24 Apr 2022 04:06:56 +0200</td>\n",
       "      <td>Tausende Liter Diesel vor Galápagos-Inseln aus...</td>\n",
       "    </tr>\n",
       "    <tr>\n",
       "      <th>14</th>\n",
       "      <td>Sun, 24 Apr 2022 01:39:14 +0200</td>\n",
       "      <td>Merz kritisiert Regierungskurs: \"Deutschland i...</td>\n",
       "    </tr>\n",
       "    <tr>\n",
       "      <th>15</th>\n",
       "      <td>Sun, 24 Apr 2022 01:02:48 +0200</td>\n",
       "      <td>Liveblog: ++ Sofortige Waffenruhe für Mariupol...</td>\n",
       "    </tr>\n",
       "    <tr>\n",
       "      <th>16</th>\n",
       "      <td>Sun, 24 Apr 2022 00:29:00 +0200</td>\n",
       "      <td>Parlamentswahl in Slowenien: Zeit für etwas Ne...</td>\n",
       "    </tr>\n",
       "    <tr>\n",
       "      <th>17</th>\n",
       "      <td>Sat, 23 Apr 2022 21:26:05 +0200</td>\n",
       "      <td>FDP-Parteitag fordert Lieferung schwerer Waffe...</td>\n",
       "    </tr>\n",
       "    <tr>\n",
       "      <th>18</th>\n",
       "      <td>Sat, 23 Apr 2022 20:26:14 +0200</td>\n",
       "      <td>Bayern zum zehnten Mal in Serie deutscher Fußb...</td>\n",
       "    </tr>\n",
       "    <tr>\n",
       "      <th>19</th>\n",
       "      <td>Sat, 23 Apr 2022 20:23:02 +0200</td>\n",
       "      <td>Ukraine-Krieg: Altkanzler Schröder bietet erne...</td>\n",
       "    </tr>\n",
       "    <tr>\n",
       "      <th>20</th>\n",
       "      <td>Sat, 23 Apr 2022 17:55:49 +0200</td>\n",
       "      <td>Grüne: Schiedsgericht schlägt Vergleich mit Pa...</td>\n",
       "    </tr>\n",
       "    <tr>\n",
       "      <th>21</th>\n",
       "      <td>Sat, 23 Apr 2022 17:42:40 +0200</td>\n",
       "      <td>Statt Öl- oder Gasheizung: Für wen Wärmepumpen...</td>\n",
       "    </tr>\n",
       "    <tr>\n",
       "      <th>22</th>\n",
       "      <td>Sat, 23 Apr 2022 17:39:00 +0200</td>\n",
       "      <td>Fußball-Bundesliga: Greuther Fürth steht als A...</td>\n",
       "    </tr>\n",
       "    <tr>\n",
       "      <th>23</th>\n",
       "      <td>Sat, 23 Apr 2022 17:34:34 +0200</td>\n",
       "      <td>Ukraine: Tote bei Luftangriffen auf Odessa</td>\n",
       "    </tr>\n",
       "    <tr>\n",
       "      <th>24</th>\n",
       "      <td>Sat, 23 Apr 2022 16:55:26 +0200</td>\n",
       "      <td>Djir-Sarai zum FDP-Generalsekretär gewählt</td>\n",
       "    </tr>\n",
       "    <tr>\n",
       "      <th>25</th>\n",
       "      <td>Sat, 23 Apr 2022 16:31:49 +0200</td>\n",
       "      <td>Nostalgie in Kastenform: 75 Jahre VW-Bus</td>\n",
       "    </tr>\n",
       "    <tr>\n",
       "      <th>26</th>\n",
       "      <td>Sat, 23 Apr 2022 16:02:49 +0200</td>\n",
       "      <td>Was das neue EU-Digitalgesetz besagt</td>\n",
       "    </tr>\n",
       "    <tr>\n",
       "      <th>27</th>\n",
       "      <td>Sat, 23 Apr 2022 15:25:08 +0200</td>\n",
       "      <td>Ukraine meldet neue Angriffe auf Stahlwerk in ...</td>\n",
       "    </tr>\n",
       "    <tr>\n",
       "      <th>28</th>\n",
       "      <td>Sat, 23 Apr 2022 14:45:51 +0200</td>\n",
       "      <td>EU-Perspektive auf Le Pen: Die Albtraum-Kandid...</td>\n",
       "    </tr>\n",
       "    <tr>\n",
       "      <th>29</th>\n",
       "      <td>Sat, 23 Apr 2022 13:37:34 +0200</td>\n",
       "      <td>Sexismus-Vorwürfe in Linkspartei: Wissler will...</td>\n",
       "    </tr>\n",
       "    <tr>\n",
       "      <th>30</th>\n",
       "      <td>Sat, 23 Apr 2022 12:57:16 +0200</td>\n",
       "      <td>FDP-Chef Lindner \"Die Ukraine wird diesen Krie...</td>\n",
       "    </tr>\n",
       "    <tr>\n",
       "      <th>31</th>\n",
       "      <td>Sat, 23 Apr 2022 12:03:38 +0200</td>\n",
       "      <td>Erneut Grubenunglück in Polen - zehn Vermisste</td>\n",
       "    </tr>\n",
       "    <tr>\n",
       "      <th>32</th>\n",
       "      <td>Sat, 23 Apr 2022 11:25:14 +0200</td>\n",
       "      <td>Corona: Fachleute rechnen trotz Lockerungen ni...</td>\n",
       "    </tr>\n",
       "    <tr>\n",
       "      <th>33</th>\n",
       "      <td>Sat, 23 Apr 2022 11:18:10 +0200</td>\n",
       "      <td>Israel schließt Grenzübergang für Gaza-Arbeiter</td>\n",
       "    </tr>\n",
       "    <tr>\n",
       "      <th>34</th>\n",
       "      <td>Sat, 23 Apr 2022 10:58:07 +0200</td>\n",
       "      <td>Erster Karneval seit zwei Jahren: Rios Boden b...</td>\n",
       "    </tr>\n",
       "    <tr>\n",
       "      <th>35</th>\n",
       "      <td>Sat, 23 Apr 2022 09:41:40 +0200</td>\n",
       "      <td>Günstig Einkaufen trotz steigender Preise</td>\n",
       "    </tr>\n",
       "    <tr>\n",
       "      <th>36</th>\n",
       "      <td>Sat, 23 Apr 2022 09:24:58 +0200</td>\n",
       "      <td>Moldau bestellt russischen Botschafter ein</td>\n",
       "    </tr>\n",
       "    <tr>\n",
       "      <th>37</th>\n",
       "      <td>Sat, 23 Apr 2022 08:54:54 +0200</td>\n",
       "      <td>Liveblog: ++ Blinken und Austin in Kiew erwart...</td>\n",
       "    </tr>\n",
       "    <tr>\n",
       "      <th>38</th>\n",
       "      <td>Sat, 23 Apr 2022 08:30:22 +0200</td>\n",
       "      <td>Präsidentschaftswahl in Frankreich: Nervöser B...</td>\n",
       "    </tr>\n",
       "  </tbody>\n",
       "</table>\n",
       "</div>"
      ],
      "text/plain": [
       "                               date  \\\n",
       "0   Sun, 24 Apr 2022 13:35:42 +0200   \n",
       "1   Sun, 24 Apr 2022 13:09:05 +0200   \n",
       "2   Sun, 24 Apr 2022 12:20:42 +0200   \n",
       "3   Sun, 24 Apr 2022 12:07:19 +0200   \n",
       "4   Sun, 24 Apr 2022 11:18:11 +0200   \n",
       "5   Sun, 24 Apr 2022 10:07:21 +0200   \n",
       "6   Sun, 24 Apr 2022 10:05:36 +0200   \n",
       "7   Sun, 24 Apr 2022 09:41:28 +0200   \n",
       "8   Sun, 24 Apr 2022 08:26:57 +0200   \n",
       "9   Sun, 24 Apr 2022 08:25:41 +0200   \n",
       "10  Sun, 24 Apr 2022 05:33:41 +0200   \n",
       "11  Sun, 24 Apr 2022 05:04:33 +0200   \n",
       "12  Sun, 24 Apr 2022 04:42:32 +0200   \n",
       "13  Sun, 24 Apr 2022 04:06:56 +0200   \n",
       "14  Sun, 24 Apr 2022 01:39:14 +0200   \n",
       "15  Sun, 24 Apr 2022 01:02:48 +0200   \n",
       "16  Sun, 24 Apr 2022 00:29:00 +0200   \n",
       "17  Sat, 23 Apr 2022 21:26:05 +0200   \n",
       "18  Sat, 23 Apr 2022 20:26:14 +0200   \n",
       "19  Sat, 23 Apr 2022 20:23:02 +0200   \n",
       "20  Sat, 23 Apr 2022 17:55:49 +0200   \n",
       "21  Sat, 23 Apr 2022 17:42:40 +0200   \n",
       "22  Sat, 23 Apr 2022 17:39:00 +0200   \n",
       "23  Sat, 23 Apr 2022 17:34:34 +0200   \n",
       "24  Sat, 23 Apr 2022 16:55:26 +0200   \n",
       "25  Sat, 23 Apr 2022 16:31:49 +0200   \n",
       "26  Sat, 23 Apr 2022 16:02:49 +0200   \n",
       "27  Sat, 23 Apr 2022 15:25:08 +0200   \n",
       "28  Sat, 23 Apr 2022 14:45:51 +0200   \n",
       "29  Sat, 23 Apr 2022 13:37:34 +0200   \n",
       "30  Sat, 23 Apr 2022 12:57:16 +0200   \n",
       "31  Sat, 23 Apr 2022 12:03:38 +0200   \n",
       "32  Sat, 23 Apr 2022 11:25:14 +0200   \n",
       "33  Sat, 23 Apr 2022 11:18:10 +0200   \n",
       "34  Sat, 23 Apr 2022 10:58:07 +0200   \n",
       "35  Sat, 23 Apr 2022 09:41:40 +0200   \n",
       "36  Sat, 23 Apr 2022 09:24:58 +0200   \n",
       "37  Sat, 23 Apr 2022 08:54:54 +0200   \n",
       "38  Sat, 23 Apr 2022 08:30:22 +0200   \n",
       "\n",
       "                                                title  \n",
       "0   EU-Sanktionen: Muss Oligarch-Sein strafbar wer...  \n",
       "1   Frankreich: Bisher niedrigere Wahlbeteiligung ...  \n",
       "2   Palmer lässt Mitgliedschaft bei den Grünen bis...  \n",
       "3   Krieg gegen die Ukraine: Viele Kämpfe statt Os...  \n",
       "4   Linkspartei wählt im Juni gesamten Parteivorst...  \n",
       "5   Nigeria: Dutzende Tote bei Explosion illegaler...  \n",
       "6   FDP-Generalsekretär Djir-Sarai: Mann mit beson...  \n",
       "7   Nord Stream 2: Klingbeil nimmt Schwesig in Schutz  \n",
       "8     Wie Spanien die Jugendarbeitslosigkeit bekämpft  \n",
       "9   Slowenien: Verdrängt ein Newcomer \"Marshall Tw...  \n",
       "10  Krieg gegen die Ukraine: US-Minister in Kiew e...  \n",
       "11  Frankreich vor der Wahl: Links denken - aber w...  \n",
       "12            Corona-Pandemie: Inzidenz sinkt auf 807  \n",
       "13  Tausende Liter Diesel vor Galápagos-Inseln aus...  \n",
       "14  Merz kritisiert Regierungskurs: \"Deutschland i...  \n",
       "15  Liveblog: ++ Sofortige Waffenruhe für Mariupol...  \n",
       "16  Parlamentswahl in Slowenien: Zeit für etwas Ne...  \n",
       "17  FDP-Parteitag fordert Lieferung schwerer Waffe...  \n",
       "18  Bayern zum zehnten Mal in Serie deutscher Fußb...  \n",
       "19  Ukraine-Krieg: Altkanzler Schröder bietet erne...  \n",
       "20  Grüne: Schiedsgericht schlägt Vergleich mit Pa...  \n",
       "21  Statt Öl- oder Gasheizung: Für wen Wärmepumpen...  \n",
       "22  Fußball-Bundesliga: Greuther Fürth steht als A...  \n",
       "23         Ukraine: Tote bei Luftangriffen auf Odessa  \n",
       "24         Djir-Sarai zum FDP-Generalsekretär gewählt  \n",
       "25           Nostalgie in Kastenform: 75 Jahre VW-Bus  \n",
       "26               Was das neue EU-Digitalgesetz besagt  \n",
       "27  Ukraine meldet neue Angriffe auf Stahlwerk in ...  \n",
       "28  EU-Perspektive auf Le Pen: Die Albtraum-Kandid...  \n",
       "29  Sexismus-Vorwürfe in Linkspartei: Wissler will...  \n",
       "30  FDP-Chef Lindner \"Die Ukraine wird diesen Krie...  \n",
       "31     Erneut Grubenunglück in Polen - zehn Vermisste  \n",
       "32  Corona: Fachleute rechnen trotz Lockerungen ni...  \n",
       "33    Israel schließt Grenzübergang für Gaza-Arbeiter  \n",
       "34  Erster Karneval seit zwei Jahren: Rios Boden b...  \n",
       "35          Günstig Einkaufen trotz steigender Preise  \n",
       "36         Moldau bestellt russischen Botschafter ein  \n",
       "37  Liveblog: ++ Blinken und Austin in Kiew erwart...  \n",
       "38  Präsidentschaftswahl in Frankreich: Nervöser B...  "
      ]
     },
     "execution_count": 28,
     "metadata": {},
     "output_type": "execute_result"
    }
   ],
   "source": [
    "# create two empty lists\n",
    "dates = []\n",
    "titles = []\n",
    "\n",
    "# go through all item elements in the tree\n",
    "for item in tagesschau.findall('.//item'):\n",
    "  # extract date information and titles\n",
    "  dates.append( item.find('.//pubDate').text )\n",
    "  titles.append( item.find('.//title').text )\n",
    "\n",
    "# create a dataframe containing the two columns\n",
    "tagesschau_df = pd.DataFrame(    \n",
    "    {'date': dates,\n",
    "     'title': titles,\n",
    "    })  \n",
    "\n",
    "tagesschau_df"
   ]
  },
  {
   "cell_type": "markdown",
   "metadata": {},
   "source": [
    "✏️ *Each news item also contains a `description` element. Why not add a third column to the DataFrame?*"
   ]
  },
  {
   "cell_type": "code",
   "execution_count": null,
   "metadata": {},
   "outputs": [],
   "source": []
  },
  {
   "cell_type": "markdown",
   "metadata": {},
   "source": [
    "✏️ *If you are curious you can also try out 🥣 **BeautifulSoup** to create the same DataFrame.*"
   ]
  },
  {
   "cell_type": "code",
   "execution_count": 29,
   "metadata": {},
   "outputs": [],
   "source": [
    "from bs4 import BeautifulSoup"
   ]
  },
  {
   "cell_type": "code",
   "execution_count": null,
   "metadata": {},
   "outputs": [],
   "source": []
  },
  {
   "cell_type": "markdown",
   "metadata": {},
   "source": [
    "### Examining\n",
    "\n",
    "You are now able to load and parse data from several formats. At this point, there are plenty of ways to inspect these datasets. We are going to try some simple methods to peek around the datasets. Once you have a tabular dataset ready as a DataFrame, there are quite a few convenient methods to view and explore its contents."
   ]
  },
  {
   "cell_type": "markdown",
   "metadata": {},
   "source": [
    "#### Head & tail\n",
    "\n",
    "You could start with looking at the beginning of the dataset with `head()`:"
   ]
  },
  {
   "cell_type": "code",
   "execution_count": 30,
   "metadata": {},
   "outputs": [
    {
     "data": {
      "text/html": [
       "<div>\n",
       "<style scoped>\n",
       "    .dataframe tbody tr th:only-of-type {\n",
       "        vertical-align: middle;\n",
       "    }\n",
       "\n",
       "    .dataframe tbody tr th {\n",
       "        vertical-align: top;\n",
       "    }\n",
       "\n",
       "    .dataframe thead th {\n",
       "        text-align: right;\n",
       "    }\n",
       "</style>\n",
       "<table border=\"1\" class=\"dataframe\">\n",
       "  <thead>\n",
       "    <tr style=\"text-align: right;\">\n",
       "      <th></th>\n",
       "      <th>Entity</th>\n",
       "      <th>Year</th>\n",
       "      <th>Average weekly hours worked per person by demographic group (Ramey and Francis (2009))</th>\n",
       "      <th>Average weekly hours devoted to school (Ramey and Francis (2009))</th>\n",
       "      <th>Weekly home production time by demographic group (Ramey and Francis (2009))</th>\n",
       "      <th>Average weekly leisure estimates by age (Ramey and Francis (2009))</th>\n",
       "    </tr>\n",
       "  </thead>\n",
       "  <tbody>\n",
       "    <tr>\n",
       "      <th>0</th>\n",
       "      <td>Ages 10 to 13 (male)</td>\n",
       "      <td>1900</td>\n",
       "      <td>7.7</td>\n",
       "      <td>NaN</td>\n",
       "      <td>NaN</td>\n",
       "      <td>NaN</td>\n",
       "    </tr>\n",
       "    <tr>\n",
       "      <th>1</th>\n",
       "      <td>Ages 10 to 13 (male)</td>\n",
       "      <td>1910</td>\n",
       "      <td>5.4</td>\n",
       "      <td>NaN</td>\n",
       "      <td>NaN</td>\n",
       "      <td>NaN</td>\n",
       "    </tr>\n",
       "    <tr>\n",
       "      <th>2</th>\n",
       "      <td>Ages 10 to 13 (male)</td>\n",
       "      <td>1920</td>\n",
       "      <td>2.1</td>\n",
       "      <td>NaN</td>\n",
       "      <td>NaN</td>\n",
       "      <td>NaN</td>\n",
       "    </tr>\n",
       "    <tr>\n",
       "      <th>3</th>\n",
       "      <td>Ages 10 to 13 (male)</td>\n",
       "      <td>1930</td>\n",
       "      <td>1.2</td>\n",
       "      <td>NaN</td>\n",
       "      <td>NaN</td>\n",
       "      <td>NaN</td>\n",
       "    </tr>\n",
       "    <tr>\n",
       "      <th>4</th>\n",
       "      <td>Ages 10 to 13 (male)</td>\n",
       "      <td>1940</td>\n",
       "      <td>0.0</td>\n",
       "      <td>NaN</td>\n",
       "      <td>NaN</td>\n",
       "      <td>NaN</td>\n",
       "    </tr>\n",
       "  </tbody>\n",
       "</table>\n",
       "</div>"
      ],
      "text/plain": [
       "                 Entity  Year  \\\n",
       "0  Ages 10 to 13 (male)  1900   \n",
       "1  Ages 10 to 13 (male)  1910   \n",
       "2  Ages 10 to 13 (male)  1920   \n",
       "3  Ages 10 to 13 (male)  1930   \n",
       "4  Ages 10 to 13 (male)  1940   \n",
       "\n",
       "   Average weekly hours worked per person by demographic group (Ramey and Francis (2009))  \\\n",
       "0                                                7.7                                        \n",
       "1                                                5.4                                        \n",
       "2                                                2.1                                        \n",
       "3                                                1.2                                        \n",
       "4                                                0.0                                        \n",
       "\n",
       "   Average weekly hours devoted to school (Ramey and Francis (2009))  \\\n",
       "0                                                NaN                   \n",
       "1                                                NaN                   \n",
       "2                                                NaN                   \n",
       "3                                                NaN                   \n",
       "4                                                NaN                   \n",
       "\n",
       "   Weekly home production time by demographic group (Ramey and Francis (2009))  \\\n",
       "0                                                NaN                             \n",
       "1                                                NaN                             \n",
       "2                                                NaN                             \n",
       "3                                                NaN                             \n",
       "4                                                NaN                             \n",
       "\n",
       "   Average weekly leisure estimates by age (Ramey and Francis (2009))  \n",
       "0                                                NaN                   \n",
       "1                                                NaN                   \n",
       "2                                                NaN                   \n",
       "3                                                NaN                   \n",
       "4                                                NaN                   "
      ]
     },
     "execution_count": 30,
     "metadata": {},
     "output_type": "execute_result"
    }
   ],
   "source": [
    "owid_data.head()"
   ]
  },
  {
   "cell_type": "markdown",
   "metadata": {},
   "source": [
    "✏️ *What do you think happens, when you replace `head()` with `tail()` ?*"
   ]
  },
  {
   "cell_type": "code",
   "execution_count": null,
   "metadata": {},
   "outputs": [],
   "source": []
  },
  {
   "cell_type": "markdown",
   "metadata": {},
   "source": [
    "#### Describe & info\n",
    "\n",
    "You can also ask Pandas to provide some statistical descriptions (which are only applied to the columns containing numeric data):"
   ]
  },
  {
   "cell_type": "code",
   "execution_count": 31,
   "metadata": {},
   "outputs": [
    {
     "data": {
      "text/html": [
       "<div>\n",
       "<style scoped>\n",
       "    .dataframe tbody tr th:only-of-type {\n",
       "        vertical-align: middle;\n",
       "    }\n",
       "\n",
       "    .dataframe tbody tr th {\n",
       "        vertical-align: top;\n",
       "    }\n",
       "\n",
       "    .dataframe thead th {\n",
       "        text-align: right;\n",
       "    }\n",
       "</style>\n",
       "<table border=\"1\" class=\"dataframe\">\n",
       "  <thead>\n",
       "    <tr style=\"text-align: right;\">\n",
       "      <th></th>\n",
       "      <th>Year</th>\n",
       "      <th>Average weekly hours worked per person by demographic group (Ramey and Francis (2009))</th>\n",
       "      <th>Average weekly hours devoted to school (Ramey and Francis (2009))</th>\n",
       "      <th>Weekly home production time by demographic group (Ramey and Francis (2009))</th>\n",
       "      <th>Average weekly leisure estimates by age (Ramey and Francis (2009))</th>\n",
       "    </tr>\n",
       "  </thead>\n",
       "  <tbody>\n",
       "    <tr>\n",
       "      <th>count</th>\n",
       "      <td>300.000000</td>\n",
       "      <td>252.000000</td>\n",
       "      <td>60.000000</td>\n",
       "      <td>216.000000</td>\n",
       "      <td>72.000000</td>\n",
       "    </tr>\n",
       "    <tr>\n",
       "      <th>mean</th>\n",
       "      <td>1954.583333</td>\n",
       "      <td>17.164682</td>\n",
       "      <td>6.671667</td>\n",
       "      <td>20.767593</td>\n",
       "      <td>43.893056</td>\n",
       "    </tr>\n",
       "    <tr>\n",
       "      <th>std</th>\n",
       "      <td>33.934962</td>\n",
       "      <td>13.301397</td>\n",
       "      <td>6.604880</td>\n",
       "      <td>11.844738</td>\n",
       "      <td>8.441570</td>\n",
       "    </tr>\n",
       "    <tr>\n",
       "      <th>min</th>\n",
       "      <td>1900.000000</td>\n",
       "      <td>0.000000</td>\n",
       "      <td>0.800000</td>\n",
       "      <td>3.700000</td>\n",
       "      <td>31.600000</td>\n",
       "    </tr>\n",
       "    <tr>\n",
       "      <th>25%</th>\n",
       "      <td>1927.500000</td>\n",
       "      <td>4.500000</td>\n",
       "      <td>2.075000</td>\n",
       "      <td>10.400000</td>\n",
       "      <td>37.325001</td>\n",
       "    </tr>\n",
       "    <tr>\n",
       "      <th>50%</th>\n",
       "      <td>1955.000000</td>\n",
       "      <td>16.400000</td>\n",
       "      <td>3.800000</td>\n",
       "      <td>20.950000</td>\n",
       "      <td>41.400002</td>\n",
       "    </tr>\n",
       "    <tr>\n",
       "      <th>75%</th>\n",
       "      <td>1982.500000</td>\n",
       "      <td>26.799999</td>\n",
       "      <td>8.150000</td>\n",
       "      <td>27.750001</td>\n",
       "      <td>50.925000</td>\n",
       "    </tr>\n",
       "    <tr>\n",
       "      <th>max</th>\n",
       "      <td>2005.000000</td>\n",
       "      <td>50.799999</td>\n",
       "      <td>24.000000</td>\n",
       "      <td>50.400002</td>\n",
       "      <td>63.400002</td>\n",
       "    </tr>\n",
       "  </tbody>\n",
       "</table>\n",
       "</div>"
      ],
      "text/plain": [
       "              Year  \\\n",
       "count   300.000000   \n",
       "mean   1954.583333   \n",
       "std      33.934962   \n",
       "min    1900.000000   \n",
       "25%    1927.500000   \n",
       "50%    1955.000000   \n",
       "75%    1982.500000   \n",
       "max    2005.000000   \n",
       "\n",
       "       Average weekly hours worked per person by demographic group (Ramey and Francis (2009))  \\\n",
       "count                                         252.000000                                        \n",
       "mean                                           17.164682                                        \n",
       "std                                            13.301397                                        \n",
       "min                                             0.000000                                        \n",
       "25%                                             4.500000                                        \n",
       "50%                                            16.400000                                        \n",
       "75%                                            26.799999                                        \n",
       "max                                            50.799999                                        \n",
       "\n",
       "       Average weekly hours devoted to school (Ramey and Francis (2009))  \\\n",
       "count                                          60.000000                   \n",
       "mean                                            6.671667                   \n",
       "std                                             6.604880                   \n",
       "min                                             0.800000                   \n",
       "25%                                             2.075000                   \n",
       "50%                                             3.800000                   \n",
       "75%                                             8.150000                   \n",
       "max                                            24.000000                   \n",
       "\n",
       "       Weekly home production time by demographic group (Ramey and Francis (2009))  \\\n",
       "count                                         216.000000                             \n",
       "mean                                           20.767593                             \n",
       "std                                            11.844738                             \n",
       "min                                             3.700000                             \n",
       "25%                                            10.400000                             \n",
       "50%                                            20.950000                             \n",
       "75%                                            27.750001                             \n",
       "max                                            50.400002                             \n",
       "\n",
       "       Average weekly leisure estimates by age (Ramey and Francis (2009))  \n",
       "count                                          72.000000                   \n",
       "mean                                           43.893056                   \n",
       "std                                             8.441570                   \n",
       "min                                            31.600000                   \n",
       "25%                                            37.325001                   \n",
       "50%                                            41.400002                   \n",
       "75%                                            50.925000                   \n",
       "max                                            63.400002                   "
      ]
     },
     "execution_count": 31,
     "metadata": {},
     "output_type": "execute_result"
    }
   ],
   "source": [
    "owid_data.describe()"
   ]
  },
  {
   "cell_type": "markdown",
   "metadata": {},
   "source": [
    "This may not seem that useful to you yet. You may want to know what kind of datatypes the different columns contain and how many values are present. For this the `info()` method will be of help:"
   ]
  },
  {
   "cell_type": "code",
   "execution_count": 32,
   "metadata": {},
   "outputs": [
    {
     "name": "stdout",
     "output_type": "stream",
     "text": [
      "<class 'pandas.core.frame.DataFrame'>\n",
      "RangeIndex: 300 entries, 0 to 299\n",
      "Data columns (total 6 columns):\n",
      " #   Column                                                                                  Non-Null Count  Dtype  \n",
      "---  ------                                                                                  --------------  -----  \n",
      " 0   Entity                                                                                  300 non-null    object \n",
      " 1   Year                                                                                    300 non-null    int64  \n",
      " 2   Average weekly hours worked per person by demographic group (Ramey and Francis (2009))  252 non-null    float64\n",
      " 3   Average weekly hours devoted to school (Ramey and Francis (2009))                       60 non-null     float64\n",
      " 4   Weekly home production time by demographic group (Ramey and Francis (2009))             216 non-null    float64\n",
      " 5   Average weekly leisure estimates by age (Ramey and Francis (2009))                      72 non-null     float64\n",
      "dtypes: float64(4), int64(1), object(1)\n",
      "memory usage: 14.2+ KB\n"
     ]
    }
   ],
   "source": [
    "owid_data.info()"
   ]
  },
  {
   "cell_type": "markdown",
   "metadata": {},
   "source": [
    "With this it is now possible to access specific columns by using their names.  But did you notice the long label for the first column? Let's rename the column `Retail & Recreation` into something short and sweet such as: `RR`:"
   ]
  },
  {
   "cell_type": "code",
   "execution_count": 33,
   "metadata": {},
   "outputs": [],
   "source": [
    "owid_data = owid_data.rename(columns={\"Average weekly leisure estimates by age (Ramey and Francis (2009))\": \"leisure\"})"
   ]
  },
  {
   "cell_type": "markdown",
   "metadata": {},
   "source": [
    "✏️ *Do you want to rename any other columns?*"
   ]
  },
  {
   "cell_type": "code",
   "execution_count": null,
   "metadata": {},
   "outputs": [],
   "source": []
  },
  {
   "cell_type": "markdown",
   "metadata": {},
   "source": [
    "### Select & query\n",
    "We can select an individual column using single `[`square brackets`]`:"
   ]
  },
  {
   "cell_type": "code",
   "execution_count": 34,
   "metadata": {},
   "outputs": [
    {
     "data": {
      "text/plain": [
       "0            NaN\n",
       "1            NaN\n",
       "2            NaN\n",
       "3            NaN\n",
       "4            NaN\n",
       "         ...    \n",
       "295    59.500000\n",
       "296    63.400002\n",
       "297    62.400002\n",
       "298    60.900002\n",
       "299    61.700001\n",
       "Name: leisure, Length: 300, dtype: float64"
      ]
     },
     "execution_count": 34,
     "metadata": {},
     "output_type": "execute_result"
    }
   ],
   "source": [
    "owid_data[\"leisure\"]"
   ]
  },
  {
   "cell_type": "markdown",
   "metadata": {},
   "source": [
    "… and we can select multiple columns using nested `[[`square brackets`]]`:"
   ]
  },
  {
   "cell_type": "code",
   "execution_count": 35,
   "metadata": {},
   "outputs": [
    {
     "data": {
      "text/html": [
       "<div>\n",
       "<style scoped>\n",
       "    .dataframe tbody tr th:only-of-type {\n",
       "        vertical-align: middle;\n",
       "    }\n",
       "\n",
       "    .dataframe tbody tr th {\n",
       "        vertical-align: top;\n",
       "    }\n",
       "\n",
       "    .dataframe thead th {\n",
       "        text-align: right;\n",
       "    }\n",
       "</style>\n",
       "<table border=\"1\" class=\"dataframe\">\n",
       "  <thead>\n",
       "    <tr style=\"text-align: right;\">\n",
       "      <th></th>\n",
       "      <th>leisure</th>\n",
       "      <th>Year</th>\n",
       "    </tr>\n",
       "  </thead>\n",
       "  <tbody>\n",
       "    <tr>\n",
       "      <th>0</th>\n",
       "      <td>NaN</td>\n",
       "      <td>1900</td>\n",
       "    </tr>\n",
       "    <tr>\n",
       "      <th>1</th>\n",
       "      <td>NaN</td>\n",
       "      <td>1910</td>\n",
       "    </tr>\n",
       "    <tr>\n",
       "      <th>2</th>\n",
       "      <td>NaN</td>\n",
       "      <td>1920</td>\n",
       "    </tr>\n",
       "    <tr>\n",
       "      <th>3</th>\n",
       "      <td>NaN</td>\n",
       "      <td>1930</td>\n",
       "    </tr>\n",
       "    <tr>\n",
       "      <th>4</th>\n",
       "      <td>NaN</td>\n",
       "      <td>1940</td>\n",
       "    </tr>\n",
       "    <tr>\n",
       "      <th>...</th>\n",
       "      <td>...</td>\n",
       "      <td>...</td>\n",
       "    </tr>\n",
       "    <tr>\n",
       "      <th>295</th>\n",
       "      <td>59.500000</td>\n",
       "      <td>1970</td>\n",
       "    </tr>\n",
       "    <tr>\n",
       "      <th>296</th>\n",
       "      <td>63.400002</td>\n",
       "      <td>1980</td>\n",
       "    </tr>\n",
       "    <tr>\n",
       "      <th>297</th>\n",
       "      <td>62.400002</td>\n",
       "      <td>1990</td>\n",
       "    </tr>\n",
       "    <tr>\n",
       "      <th>298</th>\n",
       "      <td>60.900002</td>\n",
       "      <td>2000</td>\n",
       "    </tr>\n",
       "    <tr>\n",
       "      <th>299</th>\n",
       "      <td>61.700001</td>\n",
       "      <td>2005</td>\n",
       "    </tr>\n",
       "  </tbody>\n",
       "</table>\n",
       "<p>300 rows × 2 columns</p>\n",
       "</div>"
      ],
      "text/plain": [
       "       leisure  Year\n",
       "0          NaN  1900\n",
       "1          NaN  1910\n",
       "2          NaN  1920\n",
       "3          NaN  1930\n",
       "4          NaN  1940\n",
       "..         ...   ...\n",
       "295  59.500000  1970\n",
       "296  63.400002  1980\n",
       "297  62.400002  1990\n",
       "298  60.900002  2000\n",
       "299  61.700001  2005\n",
       "\n",
       "[300 rows x 2 columns]"
      ]
     },
     "execution_count": 35,
     "metadata": {},
     "output_type": "execute_result"
    }
   ],
   "source": [
    "owid_data[[\"leisure\", \"Year\"]]"
   ]
  },
  {
   "cell_type": "markdown",
   "metadata": {},
   "source": [
    "✏️ *Which columns interest you? Replace `RR` and `Entity` with other column labels* "
   ]
  },
  {
   "cell_type": "code",
   "execution_count": null,
   "metadata": {},
   "outputs": [],
   "source": []
  },
  {
   "cell_type": "markdown",
   "metadata": {},
   "source": [
    "Note that the `leisure` column contains a lot of `NaN` - this stands for \"Not a Number\" and it means here that values are missing.\n",
    "\n",
    "In order to focus on the rows which do have missing data, we can squeeze in a requirement that we only want those rows, where the values in both above used columns are not missing, i.e., `notnull()`:"
   ]
  },
  {
   "cell_type": "code",
   "execution_count": 36,
   "metadata": {},
   "outputs": [
    {
     "data": {
      "text/html": [
       "<div>\n",
       "<style scoped>\n",
       "    .dataframe tbody tr th:only-of-type {\n",
       "        vertical-align: middle;\n",
       "    }\n",
       "\n",
       "    .dataframe tbody tr th {\n",
       "        vertical-align: top;\n",
       "    }\n",
       "\n",
       "    .dataframe thead th {\n",
       "        text-align: right;\n",
       "    }\n",
       "</style>\n",
       "<table border=\"1\" class=\"dataframe\">\n",
       "  <thead>\n",
       "    <tr style=\"text-align: right;\">\n",
       "      <th></th>\n",
       "      <th>leisure</th>\n",
       "      <th>Year</th>\n",
       "    </tr>\n",
       "  </thead>\n",
       "  <tbody>\n",
       "    <tr>\n",
       "      <th>72</th>\n",
       "      <td>36.900002</td>\n",
       "      <td>1900</td>\n",
       "    </tr>\n",
       "    <tr>\n",
       "      <th>73</th>\n",
       "      <td>36.099998</td>\n",
       "      <td>1910</td>\n",
       "    </tr>\n",
       "    <tr>\n",
       "      <th>74</th>\n",
       "      <td>37.000000</td>\n",
       "      <td>1920</td>\n",
       "    </tr>\n",
       "    <tr>\n",
       "      <th>75</th>\n",
       "      <td>39.500000</td>\n",
       "      <td>1930</td>\n",
       "    </tr>\n",
       "    <tr>\n",
       "      <th>76</th>\n",
       "      <td>41.599998</td>\n",
       "      <td>1940</td>\n",
       "    </tr>\n",
       "    <tr>\n",
       "      <th>...</th>\n",
       "      <td>...</td>\n",
       "      <td>...</td>\n",
       "    </tr>\n",
       "    <tr>\n",
       "      <th>295</th>\n",
       "      <td>59.500000</td>\n",
       "      <td>1970</td>\n",
       "    </tr>\n",
       "    <tr>\n",
       "      <th>296</th>\n",
       "      <td>63.400002</td>\n",
       "      <td>1980</td>\n",
       "    </tr>\n",
       "    <tr>\n",
       "      <th>297</th>\n",
       "      <td>62.400002</td>\n",
       "      <td>1990</td>\n",
       "    </tr>\n",
       "    <tr>\n",
       "      <th>298</th>\n",
       "      <td>60.900002</td>\n",
       "      <td>2000</td>\n",
       "    </tr>\n",
       "    <tr>\n",
       "      <th>299</th>\n",
       "      <td>61.700001</td>\n",
       "      <td>2005</td>\n",
       "    </tr>\n",
       "  </tbody>\n",
       "</table>\n",
       "<p>72 rows × 2 columns</p>\n",
       "</div>"
      ],
      "text/plain": [
       "       leisure  Year\n",
       "72   36.900002  1900\n",
       "73   36.099998  1910\n",
       "74   37.000000  1920\n",
       "75   39.500000  1930\n",
       "76   41.599998  1940\n",
       "..         ...   ...\n",
       "295  59.500000  1970\n",
       "296  63.400002  1980\n",
       "297  62.400002  1990\n",
       "298  60.900002  2000\n",
       "299  61.700001  2005\n",
       "\n",
       "[72 rows x 2 columns]"
      ]
     },
     "execution_count": 36,
     "metadata": {},
     "output_type": "execute_result"
    }
   ],
   "source": [
    "owid_data [owid_data[[\"leisure\", \"Year\"]].notnull().all(1) ] [[\"leisure\", \"Year\"]]"
   ]
  },
  {
   "cell_type": "markdown",
   "metadata": {},
   "source": [
    "✏️ *Formulate a query on another column:*"
   ]
  },
  {
   "cell_type": "code",
   "execution_count": null,
   "metadata": {},
   "outputs": [],
   "source": []
  },
  {
   "cell_type": "markdown",
   "metadata": {},
   "source": [
    "There are four related methods for accessing rows, columns, and specific values, either by integer positons (iloc and iat) or by the labels (that is what is displayed in bold above).\n",
    "\n",
    "- `loc`: access rows and columns by label\n",
    "- `iloc`: access rows and columns by integer position \n",
    "- `at`: access a single value for a row/column label pair\n",
    "- `iat`: access a single value for a row/column pair by integer position \n",
    "\n",
    "For example, this way we can get the first entry in the `owid_data` DataFrame: "
   ]
  },
  {
   "cell_type": "code",
   "execution_count": 37,
   "metadata": {},
   "outputs": [
    {
     "data": {
      "text/plain": [
       "Entity                                                                                    Ages 10 to 13 (male)\n",
       "Year                                                                                                      1900\n",
       "Average weekly hours worked per person by demographic group (Ramey and Francis (2009))                     7.7\n",
       "Average weekly hours devoted to school (Ramey and Francis (2009))                                          NaN\n",
       "Weekly home production time by demographic group (Ramey and Francis (2009))                                NaN\n",
       "leisure                                                                                                    NaN\n",
       "Name: 0, dtype: object"
      ]
     },
     "execution_count": 37,
     "metadata": {},
     "output_type": "execute_result"
    }
   ],
   "source": [
    "owid_data.loc[0]\n",
    "\n",
    "# because the index here uses integers, iloc and loc do the same"
   ]
  },
  {
   "cell_type": "markdown",
   "metadata": {},
   "source": [
    "Finally, you can also retrieve rows that match a query. With this we are retrieving the rows for women:"
   ]
  },
  {
   "cell_type": "code",
   "execution_count": 38,
   "metadata": {},
   "outputs": [
    {
     "data": {
      "text/html": [
       "<div>\n",
       "<style scoped>\n",
       "    .dataframe tbody tr th:only-of-type {\n",
       "        vertical-align: middle;\n",
       "    }\n",
       "\n",
       "    .dataframe tbody tr th {\n",
       "        vertical-align: top;\n",
       "    }\n",
       "\n",
       "    .dataframe thead th {\n",
       "        text-align: right;\n",
       "    }\n",
       "</style>\n",
       "<table border=\"1\" class=\"dataframe\">\n",
       "  <thead>\n",
       "    <tr style=\"text-align: right;\">\n",
       "      <th></th>\n",
       "      <th>Entity</th>\n",
       "      <th>Year</th>\n",
       "      <th>Average weekly hours worked per person by demographic group (Ramey and Francis (2009))</th>\n",
       "    </tr>\n",
       "  </thead>\n",
       "  <tbody>\n",
       "    <tr>\n",
       "      <th>12</th>\n",
       "      <td>Ages 10-13 (female)</td>\n",
       "      <td>1900</td>\n",
       "      <td>2.8</td>\n",
       "    </tr>\n",
       "    <tr>\n",
       "      <th>13</th>\n",
       "      <td>Ages 10-13 (female)</td>\n",
       "      <td>1910</td>\n",
       "      <td>2.2</td>\n",
       "    </tr>\n",
       "    <tr>\n",
       "      <th>14</th>\n",
       "      <td>Ages 10-13 (female)</td>\n",
       "      <td>1920</td>\n",
       "      <td>1.0</td>\n",
       "    </tr>\n",
       "    <tr>\n",
       "      <th>15</th>\n",
       "      <td>Ages 10-13 (female)</td>\n",
       "      <td>1930</td>\n",
       "      <td>0.5</td>\n",
       "    </tr>\n",
       "    <tr>\n",
       "      <th>16</th>\n",
       "      <td>Ages 10-13 (female)</td>\n",
       "      <td>1940</td>\n",
       "      <td>0.0</td>\n",
       "    </tr>\n",
       "    <tr>\n",
       "      <th>...</th>\n",
       "      <td>...</td>\n",
       "      <td>...</td>\n",
       "      <td>...</td>\n",
       "    </tr>\n",
       "    <tr>\n",
       "      <th>271</th>\n",
       "      <td>Ages 65+ (female)</td>\n",
       "      <td>1970</td>\n",
       "      <td>2.7</td>\n",
       "    </tr>\n",
       "    <tr>\n",
       "      <th>272</th>\n",
       "      <td>Ages 65+ (female)</td>\n",
       "      <td>1980</td>\n",
       "      <td>1.9</td>\n",
       "    </tr>\n",
       "    <tr>\n",
       "      <th>273</th>\n",
       "      <td>Ages 65+ (female)</td>\n",
       "      <td>1990</td>\n",
       "      <td>2.2</td>\n",
       "    </tr>\n",
       "    <tr>\n",
       "      <th>274</th>\n",
       "      <td>Ages 65+ (female)</td>\n",
       "      <td>2000</td>\n",
       "      <td>2.4</td>\n",
       "    </tr>\n",
       "    <tr>\n",
       "      <th>275</th>\n",
       "      <td>Ages 65+ (female)</td>\n",
       "      <td>2005</td>\n",
       "      <td>2.9</td>\n",
       "    </tr>\n",
       "  </tbody>\n",
       "</table>\n",
       "<p>84 rows × 3 columns</p>\n",
       "</div>"
      ],
      "text/plain": [
       "                  Entity  Year  \\\n",
       "12   Ages 10-13 (female)  1900   \n",
       "13   Ages 10-13 (female)  1910   \n",
       "14   Ages 10-13 (female)  1920   \n",
       "15   Ages 10-13 (female)  1930   \n",
       "16   Ages 10-13 (female)  1940   \n",
       "..                   ...   ...   \n",
       "271    Ages 65+ (female)  1970   \n",
       "272    Ages 65+ (female)  1980   \n",
       "273    Ages 65+ (female)  1990   \n",
       "274    Ages 65+ (female)  2000   \n",
       "275    Ages 65+ (female)  2005   \n",
       "\n",
       "     Average weekly hours worked per person by demographic group (Ramey and Francis (2009))  \n",
       "12                                                 2.8                                       \n",
       "13                                                 2.2                                       \n",
       "14                                                 1.0                                       \n",
       "15                                                 0.5                                       \n",
       "16                                                 0.0                                       \n",
       "..                                                 ...                                       \n",
       "271                                                2.7                                       \n",
       "272                                                1.9                                       \n",
       "273                                                2.2                                       \n",
       "274                                                2.4                                       \n",
       "275                                                2.9                                       \n",
       "\n",
       "[84 rows x 3 columns]"
      ]
     },
     "execution_count": 38,
     "metadata": {},
     "output_type": "execute_result"
    }
   ],
   "source": [
    "owid_data[owid_data['Entity'].str.contains('female')] [['Entity', \"Year\", \"Average weekly hours worked per person by demographic group (Ramey and Francis (2009))\"]]"
   ]
  },
  {
   "cell_type": "markdown",
   "metadata": {},
   "source": [
    "### Merge DataFrames"
   ]
  },
  {
   "cell_type": "markdown",
   "metadata": {},
   "source": [
    "Let's join some DataFrames. Lets look closer at the *anonymous* and *user* edits of the wikipedia article of `Amy_Coney_Barrett`."
   ]
  },
  {
   "cell_type": "code",
   "execution_count": 39,
   "metadata": {},
   "outputs": [],
   "source": [
    "import json\n",
    "import matplotlib.pyplot as plt\n",
    "import datetime\n",
    "\n",
    "headers = {\n",
    "    'User-Agent': 'https://github.com/aschle',\n",
    "    'From': 'alexa.schlegel@fu-berlin.de'\n",
    "}\n",
    "\n",
    "# Edpoint for getting Edits per Page\n",
    "ep1 = 'https://wikimedia.org/api/rest_v1/metrics/edits/per-page/en.wikipedia/Amy_Coney_Barrett/anonymous/daily/20200901/20201030'\n",
    "ep2 = 'https://wikimedia.org/api/rest_v1/metrics/edits/per-page/en.wikipedia/Amy_Coney_Barrett/user/daily/20200901/20201030'\n",
    "\n",
    "call1 = requests.get(ep1, headers=headers)\n",
    "response1 = call1.json()\n",
    "\n",
    "call2 = requests.get(ep2, headers=headers)\n",
    "response2 = call2.json()"
   ]
  },
  {
   "cell_type": "markdown",
   "metadata": {},
   "source": [
    "Now as we have the data, we need to extract the actual results and then `merge` the DataFrames. Check out what is meant by `left`, `right`, `inner` and `outer` -->  https://pandas.pydata.org/pandas-docs/stable/reference/api/pandas.DataFrame.merge.html"
   ]
  },
  {
   "cell_type": "code",
   "execution_count": 40,
   "metadata": {},
   "outputs": [],
   "source": [
    "anon_data = pd.json_normalize(response1, ['items', 'results'])\n",
    "user_data = pd.json_normalize(response2, ['items', 'results'])"
   ]
  },
  {
   "cell_type": "code",
   "execution_count": 41,
   "metadata": {},
   "outputs": [],
   "source": [
    "merged_data = pd.merge(anon_data, user_data, on='timestamp', how='outer')\n",
    "merged_data = merged_data.rename(columns={\"edits_x\": \"anonymous edits\", \"edits_y\": \"user edits\"})"
   ]
  },
  {
   "cell_type": "code",
   "execution_count": 42,
   "metadata": {},
   "outputs": [],
   "source": [
    "merged_data['timestamp'] = pd.to_datetime(merged_data['timestamp'])"
   ]
  },
  {
   "cell_type": "code",
   "execution_count": 43,
   "metadata": {},
   "outputs": [
    {
     "data": {
      "image/png": "[encoded data removed]",
      "text/plain": [
       "<Figure size 432x288 with 1 Axes>"
      ]
     },
     "metadata": {
      "needs_background": "light"
     },
     "output_type": "display_data"
    }
   ],
   "source": [
    "plt.plot(merged_data['timestamp'], merged_data['user edits'], color=\"gray\")\n",
    "plt.plot(merged_data['timestamp'], merged_data['anonymous edits'], color=\"red\")\n",
    "plt.xticks(rotation=90)\n",
    "plt.legend([\"user edits\", \"anonymous edits\"])\n",
    "plt.show()"
   ]
  },
  {
   "cell_type": "markdown",
   "metadata": {},
   "source": [
    "# ⚠️ Wikipedia Edits Plot\n",
    "✏️ *Now it's time for a challenge!*\n",
    "\n",
    "Try to visualize user edits and anonymous edits of two Wikipedia language versions of an article of your choice. We probably use more Wikipedia and wikidata during the next exercises, so it's worse getting familiar."
   ]
  },
  {
   "cell_type": "code",
   "execution_count": null,
   "metadata": {},
   "outputs": [],
   "source": []
  },
  {
   "cell_type": "markdown",
   "metadata": {},
   "source": [
    "✏️ *Optional task using `covid_json`:*\n",
    "\n",
    "Try to visualize the positive cases per million over time for three countries of your choosing! There are several steps to it: First you need to convert the date column to a pandas date column using ```pd.to_datetime```, then you filter by the countries and finally you can visualize it."
   ]
  },
  {
   "cell_type": "code",
   "execution_count": null,
   "metadata": {},
   "outputs": [],
   "source": []
  },
  {
   "cell_type": "markdown",
   "metadata": {},
   "source": [
    "***\n",
    "\n",
    "#### Sources\n",
    "- [Pandas Tutorial: DataFrames in Python - DataCamp](https://www.datacamp.com/community/tutorials/pandas-tutorial-dataframe-python)\n",
    "- [Introduction to Pandas\n",
    "](https://www.ritchieng.com/pandas-introduction/)\n",
    "- [The ElementTree XML API](https://docs.python.org/2/library/xml.etree.elementtree.html)\n",
    "- [Where do Mayors Come From? Querying Wikidata with Python and SPARQL - Towards Data Science](https://towardsdatascience.com/where-do-mayors-come-from-querying-wikidata-with-python-and-sparql-91f3c0af22e2)\n",
    "- [Loading data: Drive, Sheets, and Google Cloud Storage](https://colab.research.google.com/notebooks/io.ipynb) \n",
    "- [Examining Data Using Pandas | Linux Journal](https://www.linuxjournal.com/content/examining-data-using-pandas)\n",
    "- [Wikimedia API](https://wikimedia.org/api/rest_v1/#/)\n",
    "- [The 7 most popular ways to plot data in Python](https://opensource.com/article/20/4/plot-data-python)\n",
    "- [Beautiful Soup Documentation](https://www.crummy.com/software/BeautifulSoup/bs4/doc/)"
   ]
  },
  {
   "cell_type": "markdown",
   "metadata": {},
   "source": [
    "***\n",
    "\n",
    "#### Credits\n",
    "\n",
    "This tutorial is adapted from the course [Data Visualization - Winter Term 2020/21](https://github.com/FUB-HCC/dataviz_course_2020) of HCC of Freie Universität Berlin. Many thanks to [Dr. Christoph Kinkeldey](https://www.mi.fu-berlin.de/en/inf/groups/hcc/members/postdocs/kinkeldey.html) and [Tim korjakow](https://github.com/wittenator). Please note: Originally, the couse was adapted from [Information Visualization - Summer Term 2020](https://infovis.fh-potsdam.de/tutorials/) of Marian Dörk by [Fachhochschule Potsdam](https://www.fh-potsdam.de/).\n",
    "\n",
    "Same as the original inventors, we release the notebooks under the [Creative Commons Attribution license (CC BY 4.0)](https://creativecommons.org/licenses/by/4.0/)."
   ]
  }
 ],
 "metadata": {
  "kernelspec": {
   "display_name": "Python 3 (ipykernel)",
   "language": "python",
   "name": "python3"
  },
  "language_info": {
   "codemirror_mode": {
    "name": "ipython",
    "version": 3
   },
   "file_extension": ".py",
   "mimetype": "text/x-python",
   "name": "python",
   "nbconvert_exporter": "python",
   "pygments_lexer": "ipython3",
   "version": "3.9.7"
  }
 },
 "nbformat": 4,
 "nbformat_minor": 4
}
