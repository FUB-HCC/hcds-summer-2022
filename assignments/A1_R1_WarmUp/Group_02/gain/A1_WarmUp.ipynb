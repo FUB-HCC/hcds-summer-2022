{
 "cells": [
  {
   "cell_type": "markdown",
   "metadata": {},
   "source": [
    "Human-Centrerd Data Science ([HCDS](https://www.mi.fu-berlin.de/en/inf/groups/hcc/teaching/Summer-Term-2022/course_human_centered_data_science.html)) - Summer Term 2022 - [HCC](https://www.mi.fu-berlin.de/en/inf/groups/hcc/index.html) | [Freie Universität Berlin](https://www.fu-berlin.de/)\n",
    "***\n",
    "# A1 - WarumUP"
   ]
  },
  {
   "cell_type": "markdown",
   "metadata": {},
   "source": [
    "During the exercises you will be reading and writing Python code in Jupyter notebooks. Let's unpack this a bit!\n",
    "\n",
    "🐍 Python is a programming language that has gained considerable traction over the last years, in various contexts, including data science and the digital humanities. If you have never written any Python before, it would be useful for you to familiarize yourself with the language, its basic constructs and conventions. It is popular for its versatility and readability. Speaking of which…\n",
    "\n",
    "📗 Jupyter notebooks are hybrid documents that contain both code and markup. So it becomes easy to mix programming and documentation. What you are looking at now is a text cell written in the markup language Markdown, further below you see code cells written in the programming language Python (note the light grey background), which contain computable code! When viewing the notebooks in Jupyter, you can double-click on any text cell to see its source.\n",
    "\n",
    "In this exercise you will get a bit acquainted with Python and Jupyter, and get to know a few handy libraries for working with data. If you already have experience, then it's still a good recap!"
   ]
  },
  {
   "cell_type": "markdown",
   "metadata": {},
   "source": [
    "## 🌍 Hello world \n",
    "\n",
    "Okay, enough words. Let's dive right into it and start with a classic:"
   ]
  },
  {
   "cell_type": "code",
   "execution_count": 36,
   "metadata": {},
   "outputs": [
    {
     "name": "stdout",
     "output_type": "stream",
     "text": [
      "hello world\n"
     ]
    }
   ],
   "source": [
    "print(\"hello world\")"
   ]
  },
  {
   "cell_type": "markdown",
   "metadata": {},
   "source": [
    "The above code cell can be executed (i.e., run) by clicking `Shift + Enter`. Check out some CheatSheets [[1](https://www.edureka.co/blog/wp-content/uploads/2018/10/Jupyter_Notebook_CheatSheet_Edureka.pdf)] or [[2](https://cheatography.com/weidadeyue/cheat-sheets/jupyter-notebook/pdf_bw/)]❗\n",
    "\n",
    "Of course we can set variables and extend them. Feel free to change the message:"
   ]
  },
  {
   "cell_type": "code",
   "execution_count": 37,
   "metadata": {},
   "outputs": [
    {
     "data": {
      "text/plain": "'hello world how are you!'"
     },
     "execution_count": 37,
     "metadata": {},
     "output_type": "execute_result"
    }
   ],
   "source": [
    "hello = \"hello world\"\n",
    "hello = hello + \" how are you!\"\n",
    "hello"
   ]
  },
  {
   "cell_type": "markdown",
   "metadata": {},
   "source": [
    "Now that we have our first variable `hello` we can perform some string tricks, for example, we could change the capitalization. Please note: This will not change the variable `hello` itself , but will just return a capitalized new string."
   ]
  },
  {
   "cell_type": "code",
   "execution_count": 38,
   "metadata": {},
   "outputs": [
    {
     "data": {
      "text/plain": "'Hello World How Are You!'"
     },
     "execution_count": 38,
     "metadata": {},
     "output_type": "execute_result"
    }
   ],
   "source": [
    "hello.title()"
   ]
  },
  {
   "cell_type": "code",
   "execution_count": 39,
   "metadata": {},
   "outputs": [
    {
     "data": {
      "text/plain": "'HELLO WORLD HOW ARE YOU!'"
     },
     "execution_count": 39,
     "metadata": {},
     "output_type": "execute_result"
    }
   ],
   "source": [
    "hello.upper()"
   ]
  },
  {
   "cell_type": "markdown",
   "metadata": {},
   "source": [
    "✏️ *Now it's your turn! The pencil stands for a small hands-on activity!*\n",
    "\n",
    "Try some string manipulations yourself. To get some inspiration, have a look at the [string methods](https://docs.python.org/3/library/stdtypes.html?#string-methods) that Python has built-in. Read the docs."
   ]
  },
  {
   "cell_type": "code",
   "execution_count": 40,
   "metadata": {
    "scrolled": false
   },
   "outputs": [
    {
     "name": "stdout",
     "output_type": "stream",
     "text": [
      "###hello world how are you!###\n",
      "4\n",
      "6\n",
      "HELLO WORLD HOW ARE YOU!\n",
      "True\n",
      "False\n",
      "['hello', 'world', 'how', 'are', 'you!']\n",
      "________________hello world how are you!\n"
     ]
    }
   ],
   "source": [
    "# Hands-on inspirations, check out the following!\n",
    "print(hello.center(30,'#'))\n",
    "print(hello.count('o'))\n",
    "print(hello.find('w'))\n",
    "print(hello.swapcase())\n",
    "print(hello.startswith('hello'))\n",
    "print(hello.endswith('hello'))\n",
    "print(hello.split(' '))\n",
    "print(hello.rjust(40, '_'))"
   ]
  },
  {
   "cell_type": "markdown",
   "metadata": {},
   "source": [
    "## 📦 Let's get some packages\n",
    "\n",
    "Python itself provides only limited methods for working with more complex data. One of the main reasons for Python's (and  Jupyter's) popularity is the wide availability of software packages that provide powerful means for preparing, processing, presenting, and probing data. Throughout the exercises you will get to know a few packages, some of them highly specific tools and others more general-purpose libraries."
   ]
  },
  {
   "cell_type": "code",
   "execution_count": 41,
   "metadata": {},
   "outputs": [],
   "source": [
    "import pandas as pd"
   ]
  },
  {
   "cell_type": "markdown",
   "metadata": {},
   "source": [
    "Now the powerful `pandas` package is loaded and will answer to its nickname `pd`.\n",
    "\n",
    "🐼 [Pandas](https://pandas.pydata.org) really is a data analysis workhorse with the DataFrame data structure being one of its main muscles. You will learn to love it! With pandas you can do simple and sophisticated operations over small and sizable datasets.\n",
    "\n",
    "Let's create a little toy dataset to give you a sense of how it works:"
   ]
  },
  {
   "cell_type": "code",
   "execution_count": 42,
   "metadata": {},
   "outputs": [],
   "source": [
    "#edits_data = pd.read_csv(\"../assignments/A1_R1_WarmUp/page-edits-data.csv\", index_col=0)\n",
    "edits_data = pd.read_csv(\"/Users/gabriele/PycharmProjects/pythonProject/hcds-summer-2022/assignments/A1_R1_WarmUp/page-edits-data.csv\", index_col=0)\n"
   ]
  },
  {
   "cell_type": "markdown",
   "metadata": {},
   "source": [
    "This sample data `edits_data` contains the page edits of the Wikipedia article `COVID-19_pandemic` from 2020 differentiated by `editor-type`.\n",
    "\n",
    "To check whether the DataFrame was created successfully, we can type the variable name `edits_data`, to display its content as an output:"
   ]
  },
  {
   "cell_type": "code",
   "execution_count": 43,
   "metadata": {},
   "outputs": [
    {
     "data": {
      "text/plain": "                    timestamp  all-editor-types  anonymous  group-bot  \\\n0    2020-01-01T00:00:00.000Z                 0          0          0   \n1    2020-01-02T00:00:00.000Z                 0          0          0   \n2    2020-01-03T00:00:00.000Z                 0          0          0   \n3    2020-01-04T00:00:00.000Z                 0          0          0   \n4    2020-01-05T00:00:00.000Z                 3          0          0   \n..                        ...               ...        ...        ...   \n269  2020-09-26T00:00:00.000Z                 6          0          0   \n270  2020-09-27T00:00:00.000Z                10          0          0   \n271  2020-09-28T00:00:00.000Z                12          0          0   \n272  2020-09-29T00:00:00.000Z                 7          0          0   \n273  2020-09-30T00:00:00.000Z                 9          0          0   \n\n     name-bot  user  \n0           0     0  \n1           0     0  \n2           0     0  \n3           0     0  \n4           0     3  \n..        ...   ...  \n269         0     6  \n270         0    10  \n271         0    12  \n272         0     7  \n273         0     9  \n\n[274 rows x 6 columns]",
      "text/html": "<div>\n<style scoped>\n    .dataframe tbody tr th:only-of-type {\n        vertical-align: middle;\n    }\n\n    .dataframe tbody tr th {\n        vertical-align: top;\n    }\n\n    .dataframe thead th {\n        text-align: right;\n    }\n</style>\n<table border=\"1\" class=\"dataframe\">\n  <thead>\n    <tr style=\"text-align: right;\">\n      <th></th>\n      <th>timestamp</th>\n      <th>all-editor-types</th>\n      <th>anonymous</th>\n      <th>group-bot</th>\n      <th>name-bot</th>\n      <th>user</th>\n    </tr>\n  </thead>\n  <tbody>\n    <tr>\n      <th>0</th>\n      <td>2020-01-01T00:00:00.000Z</td>\n      <td>0</td>\n      <td>0</td>\n      <td>0</td>\n      <td>0</td>\n      <td>0</td>\n    </tr>\n    <tr>\n      <th>1</th>\n      <td>2020-01-02T00:00:00.000Z</td>\n      <td>0</td>\n      <td>0</td>\n      <td>0</td>\n      <td>0</td>\n      <td>0</td>\n    </tr>\n    <tr>\n      <th>2</th>\n      <td>2020-01-03T00:00:00.000Z</td>\n      <td>0</td>\n      <td>0</td>\n      <td>0</td>\n      <td>0</td>\n      <td>0</td>\n    </tr>\n    <tr>\n      <th>3</th>\n      <td>2020-01-04T00:00:00.000Z</td>\n      <td>0</td>\n      <td>0</td>\n      <td>0</td>\n      <td>0</td>\n      <td>0</td>\n    </tr>\n    <tr>\n      <th>4</th>\n      <td>2020-01-05T00:00:00.000Z</td>\n      <td>3</td>\n      <td>0</td>\n      <td>0</td>\n      <td>0</td>\n      <td>3</td>\n    </tr>\n    <tr>\n      <th>...</th>\n      <td>...</td>\n      <td>...</td>\n      <td>...</td>\n      <td>...</td>\n      <td>...</td>\n      <td>...</td>\n    </tr>\n    <tr>\n      <th>269</th>\n      <td>2020-09-26T00:00:00.000Z</td>\n      <td>6</td>\n      <td>0</td>\n      <td>0</td>\n      <td>0</td>\n      <td>6</td>\n    </tr>\n    <tr>\n      <th>270</th>\n      <td>2020-09-27T00:00:00.000Z</td>\n      <td>10</td>\n      <td>0</td>\n      <td>0</td>\n      <td>0</td>\n      <td>10</td>\n    </tr>\n    <tr>\n      <th>271</th>\n      <td>2020-09-28T00:00:00.000Z</td>\n      <td>12</td>\n      <td>0</td>\n      <td>0</td>\n      <td>0</td>\n      <td>12</td>\n    </tr>\n    <tr>\n      <th>272</th>\n      <td>2020-09-29T00:00:00.000Z</td>\n      <td>7</td>\n      <td>0</td>\n      <td>0</td>\n      <td>0</td>\n      <td>7</td>\n    </tr>\n    <tr>\n      <th>273</th>\n      <td>2020-09-30T00:00:00.000Z</td>\n      <td>9</td>\n      <td>0</td>\n      <td>0</td>\n      <td>0</td>\n      <td>9</td>\n    </tr>\n  </tbody>\n</table>\n<p>274 rows × 6 columns</p>\n</div>"
     },
     "execution_count": 43,
     "metadata": {},
     "output_type": "execute_result"
    }
   ],
   "source": [
    "edits_data"
   ]
  },
  {
   "cell_type": "markdown",
   "metadata": {},
   "source": [
    "The output generated by a code cell is printed right below it. In the case of a DataFrame we get a table. By convention, the rows are the data entries and the columns are the data dimensions. The first column on the left side is the index. You can also use `.info()` to get a summary of that dataframe."
   ]
  },
  {
   "cell_type": "code",
   "execution_count": 44,
   "metadata": {},
   "outputs": [
    {
     "name": "stdout",
     "output_type": "stream",
     "text": [
      "<class 'pandas.core.frame.DataFrame'>\n",
      "Int64Index: 274 entries, 0 to 273\n",
      "Data columns (total 6 columns):\n",
      " #   Column            Non-Null Count  Dtype \n",
      "---  ------            --------------  ----- \n",
      " 0   timestamp         274 non-null    object\n",
      " 1   all-editor-types  274 non-null    int64 \n",
      " 2   anonymous         274 non-null    int64 \n",
      " 3   group-bot         274 non-null    int64 \n",
      " 4   name-bot          274 non-null    int64 \n",
      " 5   user              274 non-null    int64 \n",
      "dtypes: int64(5), object(1)\n",
      "memory usage: 15.0+ KB\n"
     ]
    }
   ],
   "source": [
    "edits_data.info()"
   ]
  },
  {
   "cell_type": "markdown",
   "metadata": {},
   "source": [
    "Now let's do something with our newly created DataFrame. For example, we could get the largest amount of edits by editor-type `user` using the ```max``` method."
   ]
  },
  {
   "cell_type": "code",
   "execution_count": 45,
   "metadata": {},
   "outputs": [
    {
     "data": {
      "text/plain": "702"
     },
     "execution_count": 45,
     "metadata": {},
     "output_type": "execute_result"
    }
   ],
   "source": [
    "edits_data[\"user\"].max()"
   ]
  },
  {
   "cell_type": "markdown",
   "metadata": {},
   "source": [
    "*✏️ What would it take to get the highest value of anonymous users?*"
   ]
  },
  {
   "cell_type": "code",
   "execution_count": 46,
   "metadata": {},
   "outputs": [
    {
     "data": {
      "text/plain": "201"
     },
     "execution_count": 46,
     "metadata": {},
     "output_type": "execute_result"
    }
   ],
   "source": [
    "edits_data[\"anonymous\"].max() #max value\n",
    "#edits_data.anonymous.max()"
   ]
  },
  {
   "cell_type": "markdown",
   "metadata": {},
   "source": [
    "To get the entry belonging to the biggest amount of anonymous user, one needs to `loc`ate it via its index:"
   ]
  },
  {
   "cell_type": "code",
   "execution_count": 47,
   "metadata": {},
   "outputs": [
    {
     "data": {
      "text/plain": "timestamp           2020-01-26T00:00:00.000Z\nall-editor-types                         904\nanonymous                                201\ngroup-bot                                  1\nname-bot                                   0\nuser                                     702\nName: 25, dtype: object"
     },
     "execution_count": 47,
     "metadata": {},
     "output_type": "execute_result"
    }
   ],
   "source": [
    "edits_data.loc[edits_data.anonymous.idxmax()] #row idx of max value\n",
    "#edits_data.loc[edits_data[\"anonymous\"].idxmax()]"
   ]
  },
  {
   "cell_type": "markdown",
   "metadata": {},
   "source": [
    "Note: To access a specific column you can use (1) the dot operator (as with `.anonymous`) or passing a string to the indexing operator (as with `[\"users\"]`)."
   ]
  },
  {
   "cell_type": "markdown",
   "metadata": {},
   "source": [
    "We can also calculate averages for each numeric column by selecting them first and then calculating the mean:"
   ]
  },
  {
   "cell_type": "code",
   "execution_count": 48,
   "metadata": {},
   "outputs": [
    {
     "data": {
      "text/plain": "user         78.642336\nanonymous     2.671533\ngroup-bot     0.616788\nname-bot      0.018248\ndtype: float64"
     },
     "execution_count": 48,
     "metadata": {},
     "output_type": "execute_result"
    }
   ],
   "source": [
    "edits_data[['user', 'anonymous', 'group-bot', 'name-bot']].mean(axis=0)"
   ]
  },
  {
   "cell_type": "markdown",
   "metadata": {},
   "source": [
    "There is so much more to discover, some of which you will do over the course of the exercise. The [DataFrame page](https://pandas.pydata.org/pandas-docs/stable/reference/api/pandas.DataFrame.html) in the pandas reference gives a complete (long) list of all methods provided by the data structure. \n",
    "\n",
    "If you want to do something specific, but do not know the particular method name, a well-formulated search query in your favorite seach engine can help. In particular, the discussions on Stack Overflow contain various helpful entries. Quite often it is the case that somebody else has had a similar problem that you're trying to solve. The key then is to precisely formulate your query. For this, it is good to understand the basic terminology of Python, pandas, etc."
   ]
  },
  {
   "cell_type": "markdown",
   "metadata": {},
   "source": []
  },
  {
   "cell_type": "markdown",
   "metadata": {},
   "source": [
    "## 🌠 Let's reach for the stars ... \n",
    "\n",
    "... and plot some data. For data visualization we now just use the library `Matplotlib`. You can use any other library for plotting you are familiar with ([plotly](https://plotly.com/python/), [seaborn](https://seaborn.pydata.org/), [ggpot(2)](https://plotnine.readthedocs.io/en/stable/index.html), [altair](https://altair-viz.github.io/), [pygal](http://www.pygal.org/en/stable/)) or just use the one, which comes with pandas.\n",
    "\n",
    "We will visualize the ratio of editor types using different kinds of charts, first using `pandas` itself and then `matplotlib`. First, we have to prepare the data a bit. Second, we calculate the `sum()` per column, make a Dataframe `to_frame()` out of it (cause it returns a `Series`), and then drop the first three rows using `iloc[]`, cause we don't need them."
   ]
  },
  {
   "cell_type": "code",
   "execution_count": 49,
   "metadata": {},
   "outputs": [],
   "source": [
    "plot_data = edits_data.sum().to_frame(name=\"groups\").iloc[2:]"
   ]
  },
  {
   "cell_type": "code",
   "execution_count": 50,
   "metadata": {},
   "outputs": [
    {
     "data": {
      "text/plain": "          groups\nanonymous    732\ngroup-bot    169\nname-bot       5\nuser       21548",
      "text/html": "<div>\n<style scoped>\n    .dataframe tbody tr th:only-of-type {\n        vertical-align: middle;\n    }\n\n    .dataframe tbody tr th {\n        vertical-align: top;\n    }\n\n    .dataframe thead th {\n        text-align: right;\n    }\n</style>\n<table border=\"1\" class=\"dataframe\">\n  <thead>\n    <tr style=\"text-align: right;\">\n      <th></th>\n      <th>groups</th>\n    </tr>\n  </thead>\n  <tbody>\n    <tr>\n      <th>anonymous</th>\n      <td>732</td>\n    </tr>\n    <tr>\n      <th>group-bot</th>\n      <td>169</td>\n    </tr>\n    <tr>\n      <th>name-bot</th>\n      <td>5</td>\n    </tr>\n    <tr>\n      <th>user</th>\n      <td>21548</td>\n    </tr>\n  </tbody>\n</table>\n</div>"
     },
     "execution_count": 50,
     "metadata": {},
     "output_type": "execute_result"
    }
   ],
   "source": [
    "plot_data"
   ]
  },
  {
   "cell_type": "markdown",
   "metadata": {},
   "source": [
    "Let's create some basic bar plot:"
   ]
  },
  {
   "cell_type": "code",
   "execution_count": 51,
   "metadata": {},
   "outputs": [
    {
     "data": {
      "text/plain": "<Figure size 432x288 with 1 Axes>",
      "image/png": "[encoded data removed]"
     },
     "metadata": {
      "needs_background": "light"
     },
     "output_type": "display_data"
    }
   ],
   "source": [
    "import matplotlib.pyplot as plt\n",
    "from matplotlib.colors import ListedColormap\n",
    "\n",
    "ax = plot_data.plot.bar()\n",
    "\n",
    "ax.set_xlabel('Editor Types')\n",
    "ax.set_ylabel('Number of Edits')\n",
    "ax.set_title('Number of edits of article XY')\n",
    "\n",
    "plt.show()"
   ]
  },
  {
   "cell_type": "markdown",
   "metadata": {},
   "source": [
    "*✏️ Plot a horizontal bar chart.*"
   ]
  },
  {
   "cell_type": "code",
   "execution_count": 52,
   "metadata": {},
   "outputs": [
    {
     "data": {
      "text/plain": "<Figure size 432x288 with 1 Axes>",
      "image/png": "[encoded data removed]"
     },
     "metadata": {
      "needs_background": "light"
     },
     "output_type": "display_data"
    }
   ],
   "source": [
    "ax = plot_data.plot.barh()\n",
    "\n",
    "ax.set_xlabel('Editor Types')\n",
    "ax.set_ylabel('Number of Edits')\n",
    "ax.set_title('Number of edits of article XY')\n",
    "\n",
    "plt.show()"
   ]
  },
  {
   "cell_type": "markdown",
   "metadata": {},
   "source": [
    "*✏️ Now, plot a pie chart using your own color map!*"
   ]
  },
  {
   "cell_type": "code",
   "execution_count": 53,
   "outputs": [
    {
     "data": {
      "text/plain": "<Figure size 432x432 with 1 Axes>",
      "image/png": "[encoded data removed]"
     },
     "metadata": {},
     "output_type": "display_data"
    }
   ],
   "source": [
    "ax = plot_data.plot.pie(y='groups', figsize=(6, 6), cmap = \"Pastel1\", labels = None, shadow = True)\n",
    "\n",
    "ax.set_ylabel('Number of Edits')\n",
    "ax.set_title('Number of edits of article XY')\n",
    "\n",
    "ax.legend(plot_data.index,\n",
    "          title=\"Editor Types\",\n",
    "          bbox_to_anchor=(0.65, 0, 0.5, 1))\n",
    "\n",
    "plt.show()"
   ],
   "metadata": {
    "collapsed": false,
    "pycharm": {
     "name": "#%%\n"
    }
   }
  },
  {
   "cell_type": "markdown",
   "metadata": {},
   "source": [
    "## 👀 Data wrangling\n",
    "This part of the exercise shows you a few tricks for preparing data for visualization. You will see how data can be loaded, parsed, and examined. For this we will continue to work with the **Pandas** package, in particular with the DataFrame data structure, and get to know a few additional helpers. "
   ]
  },
  {
   "cell_type": "markdown",
   "metadata": {},
   "source": [
    "### Loading \n",
    "\n",
    "The first step is to bring the data into the purview of your notebook. So regardless of data structure and format, you need to have access to the data set. We will briefly cover four common ways of loading data into your Jupyter notebook."
   ]
  },
  {
   "cell_type": "markdown",
   "metadata": {},
   "source": [
    "#### Enter data directly\n",
    "\n",
    "The simplest way to add data to your notebook is to enter it verbatim into the notebook as we have seen with the capital cities in the first tutorial:"
   ]
  },
  {
   "cell_type": "code",
   "execution_count": 54,
   "metadata": {},
   "outputs": [
    {
     "data": {
      "text/plain": "         name   area  elevation  population\n0      Athens   39.0        170      664046\n1  Bratislava  367.6        152      429564\n2  Copenhagen   86.2         14      602481\n3      Dublin  115.0         20      553165",
      "text/html": "<div>\n<style scoped>\n    .dataframe tbody tr th:only-of-type {\n        vertical-align: middle;\n    }\n\n    .dataframe tbody tr th {\n        vertical-align: top;\n    }\n\n    .dataframe thead th {\n        text-align: right;\n    }\n</style>\n<table border=\"1\" class=\"dataframe\">\n  <thead>\n    <tr style=\"text-align: right;\">\n      <th></th>\n      <th>name</th>\n      <th>area</th>\n      <th>elevation</th>\n      <th>population</th>\n    </tr>\n  </thead>\n  <tbody>\n    <tr>\n      <th>0</th>\n      <td>Athens</td>\n      <td>39.0</td>\n      <td>170</td>\n      <td>664046</td>\n    </tr>\n    <tr>\n      <th>1</th>\n      <td>Bratislava</td>\n      <td>367.6</td>\n      <td>152</td>\n      <td>429564</td>\n    </tr>\n    <tr>\n      <th>2</th>\n      <td>Copenhagen</td>\n      <td>86.2</td>\n      <td>14</td>\n      <td>602481</td>\n    </tr>\n    <tr>\n      <th>3</th>\n      <td>Dublin</td>\n      <td>115.0</td>\n      <td>20</td>\n      <td>553165</td>\n    </tr>\n  </tbody>\n</table>\n</div>"
     },
     "execution_count": 54,
     "metadata": {},
     "output_type": "execute_result"
    }
   ],
   "source": [
    "cities = pd.DataFrame({\n",
    "  \"name\": [\"Athens\", \"Bratislava\", \"Copenhagen\", \"Dublin\"],\n",
    "  \"area\": [39, 367.6, 86.2, 115],\n",
    "  \"elevation\": [170, 152, 14, 20],\n",
    "  \"population\": [664046, 429564, 602481, 553165]\n",
    "  }\n",
    ")\n",
    "\n",
    "cities"
   ]
  },
  {
   "cell_type": "markdown",
   "metadata": {},
   "source": [
    "✏️ *Add a column for years when you have visited or plan to visit these cities*\n"
   ]
  },
  {
   "cell_type": "code",
   "execution_count": 55,
   "metadata": {},
   "outputs": [
    {
     "data": {
      "text/plain": "         name   area  elevation  population  visit\n0      Athens   39.0        170      664046   2022\n1  Bratislava  367.6        152      429564   2026\n2  Copenhagen   86.2         14      602481   2025\n3      Dublin  115.0         20      553165   2027",
      "text/html": "<div>\n<style scoped>\n    .dataframe tbody tr th:only-of-type {\n        vertical-align: middle;\n    }\n\n    .dataframe tbody tr th {\n        vertical-align: top;\n    }\n\n    .dataframe thead th {\n        text-align: right;\n    }\n</style>\n<table border=\"1\" class=\"dataframe\">\n  <thead>\n    <tr style=\"text-align: right;\">\n      <th></th>\n      <th>name</th>\n      <th>area</th>\n      <th>elevation</th>\n      <th>population</th>\n      <th>visit</th>\n    </tr>\n  </thead>\n  <tbody>\n    <tr>\n      <th>0</th>\n      <td>Athens</td>\n      <td>39.0</td>\n      <td>170</td>\n      <td>664046</td>\n      <td>2022</td>\n    </tr>\n    <tr>\n      <th>1</th>\n      <td>Bratislava</td>\n      <td>367.6</td>\n      <td>152</td>\n      <td>429564</td>\n      <td>2026</td>\n    </tr>\n    <tr>\n      <th>2</th>\n      <td>Copenhagen</td>\n      <td>86.2</td>\n      <td>14</td>\n      <td>602481</td>\n      <td>2025</td>\n    </tr>\n    <tr>\n      <th>3</th>\n      <td>Dublin</td>\n      <td>115.0</td>\n      <td>20</td>\n      <td>553165</td>\n      <td>2027</td>\n    </tr>\n  </tbody>\n</table>\n</div>"
     },
     "execution_count": 55,
     "metadata": {},
     "output_type": "execute_result"
    }
   ],
   "source": [
    "cities['visit'] = [2022, 2026, 2025, 2027]\n",
    "\n",
    "cities"
   ]
  },
  {
   "cell_type": "markdown",
   "metadata": {},
   "source": [
    "#### Open a local file\n",
    "\n",
    "You might also want to open a local file. We can open a file using Python's built-in `Zipfile` method in a context manager, after which we can `read()` its contents into the variable `covid_json`. The file is automatically closed when the context manager block is left. In this case the data is in the JSON format, which we will need to parse. We'll get to this later. You can open all kinds of formats. Here we know that we are dealing with a JSON file because of its extension."
   ]
  },
  {
   "cell_type": "code",
   "execution_count": 56,
   "metadata": {},
   "outputs": [],
   "source": [
    "from zipfile import ZipFile\n",
    "\n",
    "with ZipFile(\"/Users/gabriele/PycharmProjects/pythonProject/hcds-summer-2022/assignments/A1_R1_WarmUp/owid-covid-data.zip\", 'r') as file:\n",
    "    covid_json = file.read('owid-covid-data.json')"
   ]
  },
  {
   "cell_type": "code",
   "execution_count": 57,
   "metadata": {},
   "outputs": [
    {
     "data": {
      "text/plain": "b'{\\n    \"AFG\": {\\n        \"continent\": \"Asia\",\\n        \"location\": \"Afghanistan\",\\n        \"population\": 38928341.0,\\n        \"population_density\": 54.422,\\n        \"median_age\": 18.6,\\n        \"aged_65_older\": 2.581,\\n        \"aged_70_older\": 1.337,\\n        \"gdp_per_capita\": 1803.987,\\n        \"cardiovasc_death_rate\": 597.029,\\n        \"diabetes_prevalence\": 9.59,\\n        \"handwashing_facilities\": 37.746,\\n        \"hospital_beds_per_thousand\": 0.5,\\n        \"life_expectancy\": 64.83,\\n        \"human_developm'"
     },
     "execution_count": 57,
     "metadata": {},
     "output_type": "execute_result"
    }
   ],
   "source": [
    "covid_json[:500] # this displays the first 500 characters"
   ]
  },
  {
   "cell_type": "markdown",
   "metadata": {},
   "source": [
    "#### Get data via a URL\n",
    "\n",
    "There are some methods that can directly load a dataset via a URL, i.e., a web address. For others you might have to retrieve the file first to continue parsing it. The `requests` package helps you to send HTTP requests and retrieve the responses. \n",
    "\n",
    "In the following, the news feed of Tagesschau is retrieved via an HTTP GET request. Note that the news feed is made available as an XML format; of course, you can retrieve all kinds of file formats using this method:"
   ]
  },
  {
   "cell_type": "code",
   "execution_count": 58,
   "metadata": {},
   "outputs": [
    {
     "data": {
      "text/plain": "'<?xml version=\\'1.0\\' encoding=\\'UTF-8\\'?>\\n<rss version=\"2.0\" xmlns:content=\"http://purl.org/rss/1.0/modules/content/\">\\n  <channel>\\n    <title>tagesschau.de - Die Nachrichten der ARD</title>\\n    <link>https://www.tagesschau.de</link>\\n    <description>tagesschau.de</description>\\n    <language>de</language>\\n    <copyright>ARD-aktuell / tagesschau.de</copyright>\\n    <lastBuildDate>Mon, 09 May 2022 22:13:56 +0200</lastBuildDate>\\n    <docs>http://blogs.law.harvard.edu/tech/rss</docs>\\n    <ttl>10</ttl>\\n  '"
     },
     "execution_count": 58,
     "metadata": {},
     "output_type": "execute_result"
    }
   ],
   "source": [
    "import requests\n",
    "\n",
    "response = requests.get('https://www.tagesschau.de/xml/rss2/')\n",
    "tagesschau_xml = response.text\n",
    "tagesschau_xml[:500]"
   ]
  },
  {
   "cell_type": "markdown",
   "metadata": {},
   "source": [
    "✏️ *Find the news feed for another webpage and try to load it!*"
   ]
  },
  {
   "cell_type": "code",
   "execution_count": 59,
   "metadata": {},
   "outputs": [
    {
     "data": {
      "text/plain": "'<?xml version=\"1.0\" encoding=\"utf-8\"?>\\r\\n<rss xmlns:media=\"http://search.yahoo.com/mrss/\" xmlns:dc=\"http://purl.org/dc/elements/1.1/\" version=\"2.0\">\\r\\n  <channel>\\r\\n    <title>The Guardian</title>\\r\\n    <link>https://www.theguardian.com/uk</link>\\r\\n    <description>Latest news, sport, business, comment, analysis and reviews from the Guardian, the world\\'s leading liberal voice</description>\\r\\n    <language>en-gb</language>\\r\\n    <copyright>Guardian News and Media Limited or its affiliated companies. All'"
     },
     "execution_count": 59,
     "metadata": {},
     "output_type": "execute_result"
    }
   ],
   "source": [
    "response = requests.get('https://www.theguardian.com/uk/rss')\n",
    "guardian_xml = response.text\n",
    "guardian_xml[:500]"
   ]
  },
  {
   "cell_type": "markdown",
   "metadata": {},
   "source": [
    "#### Use an API\n",
    "\n",
    "Some web platforms require the use of an API (application programming interface) to get access to their data. An API is a structured way to request and retrieve data. Oftentimes it is just a specific way to format the URL. The wikipedia edits data set we used in the beginning of this exercise was retrieved by using the [Wikimedia API](https://wikimedia.org/api/rest_v1/)."
   ]
  },
  {
   "cell_type": "code",
   "execution_count": 60,
   "metadata": {},
   "outputs": [],
   "source": [
    "headers = {\n",
    "    'User-Agent': 'https://github.com/YOURUSERNAME',\n",
    "    'From': 'YOURMAIL'\n",
    "}\n",
    "\n",
    "# Edpoint for getting Edits per Page\n",
    "ep = 'https://wikimedia.org/api/rest_v1/metrics/edits/per-page/en.wikipedia/Amy_Coney_Barrett/all-editor-types/daily/20200101/20201030'\n",
    "\n",
    "call = requests.get(ep, headers=headers)\n",
    "response = call.json()"
   ]
  },
  {
   "cell_type": "code",
   "execution_count": 61,
   "metadata": {},
   "outputs": [
    {
     "data": {
      "text/plain": "{'items': [{'project': 'en.wikipedia',\n   'editor-type': 'all-editor-types',\n   'page-title': 'Amy_Coney_Barrett',\n   'granularity': 'daily',\n   'results': [{'timestamp': '2020-01-01T00:00:00.000Z', 'edits': 0},\n    {'timestamp': '2020-01-02T00:00:00.000Z', 'edits': 0},\n    {'timestamp': '2020-01-03T00:00:00.000Z', 'edits': 0},\n    {'timestamp': '2020-01-04T00:00:00.000Z', 'edits': 0},\n    {'timestamp': '2020-01-05T00:00:00.000Z', 'edits': 0},\n    {'timestamp': '2020-01-06T00:00:00.000Z', 'edits': 0},\n    {'timestamp': '2020-01-07T00:00:00.000Z', 'edits': 0},\n    {'timestamp': '2020-01-08T00:00:00.000Z', 'edits': 0},\n    {'timestamp': '2020-01-09T00:00:00.000Z', 'edits': 0},\n    {'timestamp': '2020-01-10T00:00:00.000Z', 'edits': 0},\n    {'timestamp': '2020-01-11T00:00:00.000Z', 'edits': 0},\n    {'timestamp': '2020-01-12T00:00:00.000Z', 'edits': 0},\n    {'timestamp': '2020-01-13T00:00:00.000Z', 'edits': 0},\n    {'timestamp': '2020-01-14T00:00:00.000Z', 'edits': 0},\n    {'timestamp': '2020-01-15T00:00:00.000Z', 'edits': 0},\n    {'timestamp': '2020-01-16T00:00:00.000Z', 'edits': 0},\n    {'timestamp': '2020-01-17T00:00:00.000Z', 'edits': 0},\n    {'timestamp': '2020-01-18T00:00:00.000Z', 'edits': 0},\n    {'timestamp': '2020-01-19T00:00:00.000Z', 'edits': 0},\n    {'timestamp': '2020-01-20T00:00:00.000Z', 'edits': 0},\n    {'timestamp': '2020-01-21T00:00:00.000Z', 'edits': 0},\n    {'timestamp': '2020-01-22T00:00:00.000Z', 'edits': 0},\n    {'timestamp': '2020-01-23T00:00:00.000Z', 'edits': 0},\n    {'timestamp': '2020-01-24T00:00:00.000Z', 'edits': 0},\n    {'timestamp': '2020-01-25T00:00:00.000Z', 'edits': 0},\n    {'timestamp': '2020-01-26T00:00:00.000Z', 'edits': 0},\n    {'timestamp': '2020-01-27T00:00:00.000Z', 'edits': 0},\n    {'timestamp': '2020-01-28T00:00:00.000Z', 'edits': 1},\n    {'timestamp': '2020-01-29T00:00:00.000Z', 'edits': 0},\n    {'timestamp': '2020-01-30T00:00:00.000Z', 'edits': 0},\n    {'timestamp': '2020-01-31T00:00:00.000Z', 'edits': 0},\n    {'timestamp': '2020-02-01T00:00:00.000Z', 'edits': 0},\n    {'timestamp': '2020-02-02T00:00:00.000Z', 'edits': 1},\n    {'timestamp': '2020-02-03T00:00:00.000Z', 'edits': 0},\n    {'timestamp': '2020-02-04T00:00:00.000Z', 'edits': 0},\n    {'timestamp': '2020-02-05T00:00:00.000Z', 'edits': 0},\n    {'timestamp': '2020-02-06T00:00:00.000Z', 'edits': 0},\n    {'timestamp': '2020-02-07T00:00:00.000Z', 'edits': 0},\n    {'timestamp': '2020-02-08T00:00:00.000Z', 'edits': 0},\n    {'timestamp': '2020-02-09T00:00:00.000Z', 'edits': 0},\n    {'timestamp': '2020-02-10T00:00:00.000Z', 'edits': 0},\n    {'timestamp': '2020-02-11T00:00:00.000Z', 'edits': 0},\n    {'timestamp': '2020-02-12T00:00:00.000Z', 'edits': 0},\n    {'timestamp': '2020-02-13T00:00:00.000Z', 'edits': 0},\n    {'timestamp': '2020-02-14T00:00:00.000Z', 'edits': 0},\n    {'timestamp': '2020-02-15T00:00:00.000Z', 'edits': 0},\n    {'timestamp': '2020-02-16T00:00:00.000Z', 'edits': 0},\n    {'timestamp': '2020-02-17T00:00:00.000Z', 'edits': 0},\n    {'timestamp': '2020-02-18T00:00:00.000Z', 'edits': 1},\n    {'timestamp': '2020-02-19T00:00:00.000Z', 'edits': 0},\n    {'timestamp': '2020-02-20T00:00:00.000Z', 'edits': 0},\n    {'timestamp': '2020-02-21T00:00:00.000Z', 'edits': 0},\n    {'timestamp': '2020-02-22T00:00:00.000Z', 'edits': 0},\n    {'timestamp': '2020-02-23T00:00:00.000Z', 'edits': 0},\n    {'timestamp': '2020-02-24T00:00:00.000Z', 'edits': 0},\n    {'timestamp': '2020-02-25T00:00:00.000Z', 'edits': 0},\n    {'timestamp': '2020-02-26T00:00:00.000Z', 'edits': 0},\n    {'timestamp': '2020-02-27T00:00:00.000Z', 'edits': 0},\n    {'timestamp': '2020-02-28T00:00:00.000Z', 'edits': 0},\n    {'timestamp': '2020-02-29T00:00:00.000Z', 'edits': 0},\n    {'timestamp': '2020-03-01T00:00:00.000Z', 'edits': 0},\n    {'timestamp': '2020-03-02T00:00:00.000Z', 'edits': 0},\n    {'timestamp': '2020-03-03T00:00:00.000Z', 'edits': 0},\n    {'timestamp': '2020-03-04T00:00:00.000Z', 'edits': 0},\n    {'timestamp': '2020-03-05T00:00:00.000Z', 'edits': 0},\n    {'timestamp': '2020-03-06T00:00:00.000Z', 'edits': 0},\n    {'timestamp': '2020-03-07T00:00:00.000Z', 'edits': 0},\n    {'timestamp': '2020-03-08T00:00:00.000Z', 'edits': 0},\n    {'timestamp': '2020-03-09T00:00:00.000Z', 'edits': 0},\n    {'timestamp': '2020-03-10T00:00:00.000Z', 'edits': 0},\n    {'timestamp': '2020-03-11T00:00:00.000Z', 'edits': 0},\n    {'timestamp': '2020-03-12T00:00:00.000Z', 'edits': 0},\n    {'timestamp': '2020-03-13T00:00:00.000Z', 'edits': 0},\n    {'timestamp': '2020-03-14T00:00:00.000Z', 'edits': 0},\n    {'timestamp': '2020-03-15T00:00:00.000Z', 'edits': 0},\n    {'timestamp': '2020-03-16T00:00:00.000Z', 'edits': 0},\n    {'timestamp': '2020-03-17T00:00:00.000Z', 'edits': 0},\n    {'timestamp': '2020-03-18T00:00:00.000Z', 'edits': 0},\n    {'timestamp': '2020-03-19T00:00:00.000Z', 'edits': 0},\n    {'timestamp': '2020-03-20T00:00:00.000Z', 'edits': 0},\n    {'timestamp': '2020-03-21T00:00:00.000Z', 'edits': 0},\n    {'timestamp': '2020-03-22T00:00:00.000Z', 'edits': 0},\n    {'timestamp': '2020-03-23T00:00:00.000Z', 'edits': 0},\n    {'timestamp': '2020-03-24T00:00:00.000Z', 'edits': 0},\n    {'timestamp': '2020-03-25T00:00:00.000Z', 'edits': 0},\n    {'timestamp': '2020-03-26T00:00:00.000Z', 'edits': 0},\n    {'timestamp': '2020-03-27T00:00:00.000Z', 'edits': 0},\n    {'timestamp': '2020-03-28T00:00:00.000Z', 'edits': 0},\n    {'timestamp': '2020-03-29T00:00:00.000Z', 'edits': 0},\n    {'timestamp': '2020-03-30T00:00:00.000Z', 'edits': 0},\n    {'timestamp': '2020-03-31T00:00:00.000Z', 'edits': 0},\n    {'timestamp': '2020-04-01T00:00:00.000Z', 'edits': 0},\n    {'timestamp': '2020-04-02T00:00:00.000Z', 'edits': 0},\n    {'timestamp': '2020-04-03T00:00:00.000Z', 'edits': 0},\n    {'timestamp': '2020-04-04T00:00:00.000Z', 'edits': 0},\n    {'timestamp': '2020-04-05T00:00:00.000Z', 'edits': 0},\n    {'timestamp': '2020-04-06T00:00:00.000Z', 'edits': 0},\n    {'timestamp': '2020-04-07T00:00:00.000Z', 'edits': 0},\n    {'timestamp': '2020-04-08T00:00:00.000Z', 'edits': 2},\n    {'timestamp': '2020-04-09T00:00:00.000Z', 'edits': 0},\n    {'timestamp': '2020-04-10T00:00:00.000Z', 'edits': 0},\n    {'timestamp': '2020-04-11T00:00:00.000Z', 'edits': 0},\n    {'timestamp': '2020-04-12T00:00:00.000Z', 'edits': 0},\n    {'timestamp': '2020-04-13T00:00:00.000Z', 'edits': 0},\n    {'timestamp': '2020-04-14T00:00:00.000Z', 'edits': 0},\n    {'timestamp': '2020-04-15T00:00:00.000Z', 'edits': 0},\n    {'timestamp': '2020-04-16T00:00:00.000Z', 'edits': 0},\n    {'timestamp': '2020-04-17T00:00:00.000Z', 'edits': 0},\n    {'timestamp': '2020-04-18T00:00:00.000Z', 'edits': 0},\n    {'timestamp': '2020-04-19T00:00:00.000Z', 'edits': 0},\n    {'timestamp': '2020-04-20T00:00:00.000Z', 'edits': 0},\n    {'timestamp': '2020-04-21T00:00:00.000Z', 'edits': 0},\n    {'timestamp': '2020-04-22T00:00:00.000Z', 'edits': 0},\n    {'timestamp': '2020-04-23T00:00:00.000Z', 'edits': 0},\n    {'timestamp': '2020-04-24T00:00:00.000Z', 'edits': 0},\n    {'timestamp': '2020-04-25T00:00:00.000Z', 'edits': 0},\n    {'timestamp': '2020-04-26T00:00:00.000Z', 'edits': 0},\n    {'timestamp': '2020-04-27T00:00:00.000Z', 'edits': 0},\n    {'timestamp': '2020-04-28T00:00:00.000Z', 'edits': 0},\n    {'timestamp': '2020-04-29T00:00:00.000Z', 'edits': 0},\n    {'timestamp': '2020-04-30T00:00:00.000Z', 'edits': 0},\n    {'timestamp': '2020-05-01T00:00:00.000Z', 'edits': 0},\n    {'timestamp': '2020-05-02T00:00:00.000Z', 'edits': 0},\n    {'timestamp': '2020-05-03T00:00:00.000Z', 'edits': 0},\n    {'timestamp': '2020-05-04T00:00:00.000Z', 'edits': 0},\n    {'timestamp': '2020-05-05T00:00:00.000Z', 'edits': 0},\n    {'timestamp': '2020-05-06T00:00:00.000Z', 'edits': 0},\n    {'timestamp': '2020-05-07T00:00:00.000Z', 'edits': 0},\n    {'timestamp': '2020-05-08T00:00:00.000Z', 'edits': 0},\n    {'timestamp': '2020-05-09T00:00:00.000Z', 'edits': 0},\n    {'timestamp': '2020-05-10T00:00:00.000Z', 'edits': 0},\n    {'timestamp': '2020-05-11T00:00:00.000Z', 'edits': 0},\n    {'timestamp': '2020-05-12T00:00:00.000Z', 'edits': 0},\n    {'timestamp': '2020-05-13T00:00:00.000Z', 'edits': 0},\n    {'timestamp': '2020-05-14T00:00:00.000Z', 'edits': 0},\n    {'timestamp': '2020-05-15T00:00:00.000Z', 'edits': 0},\n    {'timestamp': '2020-05-16T00:00:00.000Z', 'edits': 0},\n    {'timestamp': '2020-05-17T00:00:00.000Z', 'edits': 0},\n    {'timestamp': '2020-05-18T00:00:00.000Z', 'edits': 0},\n    {'timestamp': '2020-05-19T00:00:00.000Z', 'edits': 1},\n    {'timestamp': '2020-05-20T00:00:00.000Z', 'edits': 0},\n    {'timestamp': '2020-05-21T00:00:00.000Z', 'edits': 0},\n    {'timestamp': '2020-05-22T00:00:00.000Z', 'edits': 0},\n    {'timestamp': '2020-05-23T00:00:00.000Z', 'edits': 0},\n    {'timestamp': '2020-05-24T00:00:00.000Z', 'edits': 0},\n    {'timestamp': '2020-05-25T00:00:00.000Z', 'edits': 0},\n    {'timestamp': '2020-05-26T00:00:00.000Z', 'edits': 0},\n    {'timestamp': '2020-05-27T00:00:00.000Z', 'edits': 0},\n    {'timestamp': '2020-05-28T00:00:00.000Z', 'edits': 0},\n    {'timestamp': '2020-05-29T00:00:00.000Z', 'edits': 1},\n    {'timestamp': '2020-05-30T00:00:00.000Z', 'edits': 0},\n    {'timestamp': '2020-05-31T00:00:00.000Z', 'edits': 1},\n    {'timestamp': '2020-06-01T00:00:00.000Z', 'edits': 1},\n    {'timestamp': '2020-06-02T00:00:00.000Z', 'edits': 0},\n    {'timestamp': '2020-06-03T00:00:00.000Z', 'edits': 0},\n    {'timestamp': '2020-06-04T00:00:00.000Z', 'edits': 0},\n    {'timestamp': '2020-06-05T00:00:00.000Z', 'edits': 0},\n    {'timestamp': '2020-06-06T00:00:00.000Z', 'edits': 0},\n    {'timestamp': '2020-06-07T00:00:00.000Z', 'edits': 0},\n    {'timestamp': '2020-06-08T00:00:00.000Z', 'edits': 0},\n    {'timestamp': '2020-06-09T00:00:00.000Z', 'edits': 0},\n    {'timestamp': '2020-06-10T00:00:00.000Z', 'edits': 0},\n    {'timestamp': '2020-06-11T00:00:00.000Z', 'edits': 0},\n    {'timestamp': '2020-06-12T00:00:00.000Z', 'edits': 1},\n    {'timestamp': '2020-06-13T00:00:00.000Z', 'edits': 0},\n    {'timestamp': '2020-06-14T00:00:00.000Z', 'edits': 0},\n    {'timestamp': '2020-06-15T00:00:00.000Z', 'edits': 0},\n    {'timestamp': '2020-06-16T00:00:00.000Z', 'edits': 1},\n    {'timestamp': '2020-06-17T00:00:00.000Z', 'edits': 0},\n    {'timestamp': '2020-06-18T00:00:00.000Z', 'edits': 0},\n    {'timestamp': '2020-06-19T00:00:00.000Z', 'edits': 0},\n    {'timestamp': '2020-06-20T00:00:00.000Z', 'edits': 0},\n    {'timestamp': '2020-06-21T00:00:00.000Z', 'edits': 0},\n    {'timestamp': '2020-06-22T00:00:00.000Z', 'edits': 0},\n    {'timestamp': '2020-06-23T00:00:00.000Z', 'edits': 0},\n    {'timestamp': '2020-06-24T00:00:00.000Z', 'edits': 0},\n    {'timestamp': '2020-06-25T00:00:00.000Z', 'edits': 1},\n    {'timestamp': '2020-06-26T00:00:00.000Z', 'edits': 0},\n    {'timestamp': '2020-06-27T00:00:00.000Z', 'edits': 0},\n    {'timestamp': '2020-06-28T00:00:00.000Z', 'edits': 0},\n    {'timestamp': '2020-06-29T00:00:00.000Z', 'edits': 0},\n    {'timestamp': '2020-06-30T00:00:00.000Z', 'edits': 0},\n    {'timestamp': '2020-07-01T00:00:00.000Z', 'edits': 0},\n    {'timestamp': '2020-07-02T00:00:00.000Z', 'edits': 1},\n    {'timestamp': '2020-07-03T00:00:00.000Z', 'edits': 0},\n    {'timestamp': '2020-07-04T00:00:00.000Z', 'edits': 0},\n    {'timestamp': '2020-07-05T00:00:00.000Z', 'edits': 0},\n    {'timestamp': '2020-07-06T00:00:00.000Z', 'edits': 0},\n    {'timestamp': '2020-07-07T00:00:00.000Z', 'edits': 0},\n    {'timestamp': '2020-07-08T00:00:00.000Z', 'edits': 1},\n    {'timestamp': '2020-07-09T00:00:00.000Z', 'edits': 1},\n    {'timestamp': '2020-07-10T00:00:00.000Z', 'edits': 0},\n    {'timestamp': '2020-07-11T00:00:00.000Z', 'edits': 2},\n    {'timestamp': '2020-07-12T00:00:00.000Z', 'edits': 0},\n    {'timestamp': '2020-07-13T00:00:00.000Z', 'edits': 0},\n    {'timestamp': '2020-07-14T00:00:00.000Z', 'edits': 0},\n    {'timestamp': '2020-07-15T00:00:00.000Z', 'edits': 0},\n    {'timestamp': '2020-07-16T00:00:00.000Z', 'edits': 0},\n    {'timestamp': '2020-07-17T00:00:00.000Z', 'edits': 0},\n    {'timestamp': '2020-07-18T00:00:00.000Z', 'edits': 0},\n    {'timestamp': '2020-07-19T00:00:00.000Z', 'edits': 0},\n    {'timestamp': '2020-07-20T00:00:00.000Z', 'edits': 0},\n    {'timestamp': '2020-07-21T00:00:00.000Z', 'edits': 0},\n    {'timestamp': '2020-07-22T00:00:00.000Z', 'edits': 0},\n    {'timestamp': '2020-07-23T00:00:00.000Z', 'edits': 0},\n    {'timestamp': '2020-07-24T00:00:00.000Z', 'edits': 0},\n    {'timestamp': '2020-07-25T00:00:00.000Z', 'edits': 0},\n    {'timestamp': '2020-07-26T00:00:00.000Z', 'edits': 0},\n    {'timestamp': '2020-07-27T00:00:00.000Z', 'edits': 0},\n    {'timestamp': '2020-07-28T00:00:00.000Z', 'edits': 0},\n    {'timestamp': '2020-07-29T00:00:00.000Z', 'edits': 0},\n    {'timestamp': '2020-07-30T00:00:00.000Z', 'edits': 0},\n    {'timestamp': '2020-07-31T00:00:00.000Z', 'edits': 0},\n    {'timestamp': '2020-08-01T00:00:00.000Z', 'edits': 0},\n    {'timestamp': '2020-08-02T00:00:00.000Z', 'edits': 0},\n    {'timestamp': '2020-08-03T00:00:00.000Z', 'edits': 0},\n    {'timestamp': '2020-08-04T00:00:00.000Z', 'edits': 8},\n    {'timestamp': '2020-08-05T00:00:00.000Z', 'edits': 4},\n    {'timestamp': '2020-08-06T00:00:00.000Z', 'edits': 1},\n    {'timestamp': '2020-08-07T00:00:00.000Z', 'edits': 0},\n    {'timestamp': '2020-08-08T00:00:00.000Z', 'edits': 9},\n    {'timestamp': '2020-08-09T00:00:00.000Z', 'edits': 0},\n    {'timestamp': '2020-08-10T00:00:00.000Z', 'edits': 0},\n    {'timestamp': '2020-08-11T00:00:00.000Z', 'edits': 0},\n    {'timestamp': '2020-08-12T00:00:00.000Z', 'edits': 1},\n    {'timestamp': '2020-08-13T00:00:00.000Z', 'edits': 0},\n    {'timestamp': '2020-08-14T00:00:00.000Z', 'edits': 0},\n    {'timestamp': '2020-08-15T00:00:00.000Z', 'edits': 18},\n    {'timestamp': '2020-08-16T00:00:00.000Z', 'edits': 0},\n    {'timestamp': '2020-08-17T00:00:00.000Z', 'edits': 0},\n    {'timestamp': '2020-08-18T00:00:00.000Z', 'edits': 9},\n    {'timestamp': '2020-08-19T00:00:00.000Z', 'edits': 28},\n    {'timestamp': '2020-08-20T00:00:00.000Z', 'edits': 14},\n    {'timestamp': '2020-08-21T00:00:00.000Z', 'edits': 0},\n    {'timestamp': '2020-08-22T00:00:00.000Z', 'edits': 0},\n    {'timestamp': '2020-08-23T00:00:00.000Z', 'edits': 0},\n    {'timestamp': '2020-08-24T00:00:00.000Z', 'edits': 0},\n    {'timestamp': '2020-08-25T00:00:00.000Z', 'edits': 0},\n    {'timestamp': '2020-08-26T00:00:00.000Z', 'edits': 0},\n    {'timestamp': '2020-08-27T00:00:00.000Z', 'edits': 0},\n    {'timestamp': '2020-08-28T00:00:00.000Z', 'edits': 14},\n    {'timestamp': '2020-08-29T00:00:00.000Z', 'edits': 0},\n    {'timestamp': '2020-08-30T00:00:00.000Z', 'edits': 0},\n    {'timestamp': '2020-08-31T00:00:00.000Z', 'edits': 0},\n    {'timestamp': '2020-09-01T00:00:00.000Z', 'edits': 1},\n    {'timestamp': '2020-09-02T00:00:00.000Z', 'edits': 0},\n    {'timestamp': '2020-09-03T00:00:00.000Z', 'edits': 0},\n    {'timestamp': '2020-09-04T00:00:00.000Z', 'edits': 2},\n    {'timestamp': '2020-09-05T00:00:00.000Z', 'edits': 0},\n    {'timestamp': '2020-09-06T00:00:00.000Z', 'edits': 0},\n    {'timestamp': '2020-09-07T00:00:00.000Z', 'edits': 0},\n    {'timestamp': '2020-09-08T00:00:00.000Z', 'edits': 0},\n    {'timestamp': '2020-09-09T00:00:00.000Z', 'edits': 4},\n    {'timestamp': '2020-09-10T00:00:00.000Z', 'edits': 0},\n    {'timestamp': '2020-09-11T00:00:00.000Z', 'edits': 0},\n    {'timestamp': '2020-09-12T00:00:00.000Z', 'edits': 0},\n    {'timestamp': '2020-09-13T00:00:00.000Z', 'edits': 2},\n    {'timestamp': '2020-09-14T00:00:00.000Z', 'edits': 0},\n    {'timestamp': '2020-09-15T00:00:00.000Z', 'edits': 1},\n    {'timestamp': '2020-09-16T00:00:00.000Z', 'edits': 0},\n    {'timestamp': '2020-09-17T00:00:00.000Z', 'edits': 0},\n    {'timestamp': '2020-09-18T00:00:00.000Z', 'edits': 1},\n    {'timestamp': '2020-09-19T00:00:00.000Z', 'edits': 81},\n    {'timestamp': '2020-09-20T00:00:00.000Z', 'edits': 33},\n    {'timestamp': '2020-09-21T00:00:00.000Z', 'edits': 59},\n    {'timestamp': '2020-09-22T00:00:00.000Z', 'edits': 142},\n    {'timestamp': '2020-09-23T00:00:00.000Z', 'edits': 59},\n    {'timestamp': '2020-09-24T00:00:00.000Z', 'edits': 49},\n    {'timestamp': '2020-09-25T00:00:00.000Z', 'edits': 42},\n    {'timestamp': '2020-09-26T00:00:00.000Z', 'edits': 130},\n    {'timestamp': '2020-09-27T00:00:00.000Z', 'edits': 114},\n    {'timestamp': '2020-09-28T00:00:00.000Z', 'edits': 32},\n    {'timestamp': '2020-09-29T00:00:00.000Z', 'edits': 47},\n    {'timestamp': '2020-09-30T00:00:00.000Z', 'edits': 40},\n    {'timestamp': '2020-10-01T00:00:00.000Z', 'edits': 68},\n    {'timestamp': '2020-10-02T00:00:00.000Z', 'edits': 88},\n    {'timestamp': '2020-10-03T00:00:00.000Z', 'edits': 28},\n    {'timestamp': '2020-10-04T00:00:00.000Z', 'edits': 14},\n    {'timestamp': '2020-10-05T00:00:00.000Z', 'edits': 17},\n    {'timestamp': '2020-10-06T00:00:00.000Z', 'edits': 40},\n    {'timestamp': '2020-10-07T00:00:00.000Z', 'edits': 20},\n    {'timestamp': '2020-10-08T00:00:00.000Z', 'edits': 13},\n    {'timestamp': '2020-10-09T00:00:00.000Z', 'edits': 17},\n    {'timestamp': '2020-10-10T00:00:00.000Z', 'edits': 23},\n    {'timestamp': '2020-10-11T00:00:00.000Z', 'edits': 5},\n    {'timestamp': '2020-10-12T00:00:00.000Z', 'edits': 17},\n    {'timestamp': '2020-10-13T00:00:00.000Z', 'edits': 31},\n    {'timestamp': '2020-10-14T00:00:00.000Z', 'edits': 12},\n    {'timestamp': '2020-10-15T00:00:00.000Z', 'edits': 15},\n    {'timestamp': '2020-10-16T00:00:00.000Z', 'edits': 8},\n    {'timestamp': '2020-10-17T00:00:00.000Z', 'edits': 2},\n    {'timestamp': '2020-10-18T00:00:00.000Z', 'edits': 8},\n    {'timestamp': '2020-10-19T00:00:00.000Z', 'edits': 6},\n    {'timestamp': '2020-10-20T00:00:00.000Z', 'edits': 6},\n    {'timestamp': '2020-10-21T00:00:00.000Z', 'edits': 2},\n    {'timestamp': '2020-10-22T00:00:00.000Z', 'edits': 16},\n    {'timestamp': '2020-10-23T00:00:00.000Z', 'edits': 8},\n    {'timestamp': '2020-10-24T00:00:00.000Z', 'edits': 8},\n    {'timestamp': '2020-10-25T00:00:00.000Z', 'edits': 11},\n    {'timestamp': '2020-10-26T00:00:00.000Z', 'edits': 43},\n    {'timestamp': '2020-10-27T00:00:00.000Z', 'edits': 257},\n    {'timestamp': '2020-10-28T00:00:00.000Z', 'edits': 19},\n    {'timestamp': '2020-10-29T00:00:00.000Z', 'edits': 21}]}]}"
     },
     "execution_count": 61,
     "metadata": {},
     "output_type": "execute_result"
    }
   ],
   "source": [
    "response"
   ]
  },
  {
   "cell_type": "markdown",
   "metadata": {},
   "source": [
    "✏️ *Prepare an API request to get the edits of some page in the german wikipedia.*"
   ]
  },
  {
   "cell_type": "code",
   "execution_count": 62,
   "metadata": {},
   "outputs": [
    {
     "data": {
      "text/plain": "{'items': [{'project': 'de.wikipedia',\n   'editor-type': 'all-editor-types',\n   'page-title': 'ZDF_Magazin_Royale',\n   'granularity': 'daily',\n   'results': [{'timestamp': '2022-01-01T00:00:00.000Z', 'edits': 0},\n    {'timestamp': '2022-01-02T00:00:00.000Z', 'edits': 0},\n    {'timestamp': '2022-01-03T00:00:00.000Z', 'edits': 0},\n    {'timestamp': '2022-01-04T00:00:00.000Z', 'edits': 0},\n    {'timestamp': '2022-01-05T00:00:00.000Z', 'edits': 0},\n    {'timestamp': '2022-01-06T00:00:00.000Z', 'edits': 0},\n    {'timestamp': '2022-01-07T00:00:00.000Z', 'edits': 0},\n    {'timestamp': '2022-01-08T00:00:00.000Z', 'edits': 0},\n    {'timestamp': '2022-01-09T00:00:00.000Z', 'edits': 0},\n    {'timestamp': '2022-01-10T00:00:00.000Z', 'edits': 0},\n    {'timestamp': '2022-01-11T00:00:00.000Z', 'edits': 0},\n    {'timestamp': '2022-01-12T00:00:00.000Z', 'edits': 0},\n    {'timestamp': '2022-01-13T00:00:00.000Z', 'edits': 0},\n    {'timestamp': '2022-01-14T00:00:00.000Z', 'edits': 0},\n    {'timestamp': '2022-01-15T00:00:00.000Z', 'edits': 0},\n    {'timestamp': '2022-01-16T00:00:00.000Z', 'edits': 0},\n    {'timestamp': '2022-01-17T00:00:00.000Z', 'edits': 0},\n    {'timestamp': '2022-01-18T00:00:00.000Z', 'edits': 0},\n    {'timestamp': '2022-01-19T00:00:00.000Z', 'edits': 0},\n    {'timestamp': '2022-01-20T00:00:00.000Z', 'edits': 0},\n    {'timestamp': '2022-01-21T00:00:00.000Z', 'edits': 0},\n    {'timestamp': '2022-01-22T00:00:00.000Z', 'edits': 0},\n    {'timestamp': '2022-01-23T00:00:00.000Z', 'edits': 0},\n    {'timestamp': '2022-01-24T00:00:00.000Z', 'edits': 0},\n    {'timestamp': '2022-01-25T00:00:00.000Z', 'edits': 0},\n    {'timestamp': '2022-01-26T00:00:00.000Z', 'edits': 0},\n    {'timestamp': '2022-01-27T00:00:00.000Z', 'edits': 0},\n    {'timestamp': '2022-01-28T00:00:00.000Z', 'edits': 3},\n    {'timestamp': '2022-01-29T00:00:00.000Z', 'edits': 0},\n    {'timestamp': '2022-01-30T00:00:00.000Z', 'edits': 0},\n    {'timestamp': '2022-01-31T00:00:00.000Z', 'edits': 1},\n    {'timestamp': '2022-02-01T00:00:00.000Z', 'edits': 0},\n    {'timestamp': '2022-02-02T00:00:00.000Z', 'edits': 0},\n    {'timestamp': '2022-02-03T00:00:00.000Z', 'edits': 0},\n    {'timestamp': '2022-02-04T00:00:00.000Z', 'edits': 0},\n    {'timestamp': '2022-02-05T00:00:00.000Z', 'edits': 0},\n    {'timestamp': '2022-02-06T00:00:00.000Z', 'edits': 1},\n    {'timestamp': '2022-02-07T00:00:00.000Z', 'edits': 1},\n    {'timestamp': '2022-02-08T00:00:00.000Z', 'edits': 0},\n    {'timestamp': '2022-02-09T00:00:00.000Z', 'edits': 0},\n    {'timestamp': '2022-02-10T00:00:00.000Z', 'edits': 0},\n    {'timestamp': '2022-02-11T00:00:00.000Z', 'edits': 0},\n    {'timestamp': '2022-02-12T00:00:00.000Z', 'edits': 0},\n    {'timestamp': '2022-02-13T00:00:00.000Z', 'edits': 3},\n    {'timestamp': '2022-02-14T00:00:00.000Z', 'edits': 0},\n    {'timestamp': '2022-02-15T00:00:00.000Z', 'edits': 0},\n    {'timestamp': '2022-02-16T00:00:00.000Z', 'edits': 0},\n    {'timestamp': '2022-02-17T00:00:00.000Z', 'edits': 0},\n    {'timestamp': '2022-02-18T00:00:00.000Z', 'edits': 0},\n    {'timestamp': '2022-02-19T00:00:00.000Z', 'edits': 0},\n    {'timestamp': '2022-02-20T00:00:00.000Z', 'edits': 0},\n    {'timestamp': '2022-02-21T00:00:00.000Z', 'edits': 0},\n    {'timestamp': '2022-02-22T00:00:00.000Z', 'edits': 0},\n    {'timestamp': '2022-02-23T00:00:00.000Z', 'edits': 0},\n    {'timestamp': '2022-02-24T00:00:00.000Z', 'edits': 0},\n    {'timestamp': '2022-02-25T00:00:00.000Z', 'edits': 0},\n    {'timestamp': '2022-02-26T00:00:00.000Z', 'edits': 0},\n    {'timestamp': '2022-02-27T00:00:00.000Z', 'edits': 0},\n    {'timestamp': '2022-02-28T00:00:00.000Z', 'edits': 0},\n    {'timestamp': '2022-03-01T00:00:00.000Z', 'edits': 0},\n    {'timestamp': '2022-03-02T00:00:00.000Z', 'edits': 0},\n    {'timestamp': '2022-03-03T00:00:00.000Z', 'edits': 0},\n    {'timestamp': '2022-03-04T00:00:00.000Z', 'edits': 0},\n    {'timestamp': '2022-03-05T00:00:00.000Z', 'edits': 0},\n    {'timestamp': '2022-03-06T00:00:00.000Z', 'edits': 0},\n    {'timestamp': '2022-03-07T00:00:00.000Z', 'edits': 0},\n    {'timestamp': '2022-03-08T00:00:00.000Z', 'edits': 0},\n    {'timestamp': '2022-03-09T00:00:00.000Z', 'edits': 0},\n    {'timestamp': '2022-03-10T00:00:00.000Z', 'edits': 0},\n    {'timestamp': '2022-03-11T00:00:00.000Z', 'edits': 3},\n    {'timestamp': '2022-03-12T00:00:00.000Z', 'edits': 0},\n    {'timestamp': '2022-03-13T00:00:00.000Z', 'edits': 0},\n    {'timestamp': '2022-03-14T00:00:00.000Z', 'edits': 0},\n    {'timestamp': '2022-03-15T00:00:00.000Z', 'edits': 0},\n    {'timestamp': '2022-03-16T00:00:00.000Z', 'edits': 0},\n    {'timestamp': '2022-03-17T00:00:00.000Z', 'edits': 0},\n    {'timestamp': '2022-03-18T00:00:00.000Z', 'edits': 1},\n    {'timestamp': '2022-03-19T00:00:00.000Z', 'edits': 0},\n    {'timestamp': '2022-03-20T00:00:00.000Z', 'edits': 0},\n    {'timestamp': '2022-03-21T00:00:00.000Z', 'edits': 0},\n    {'timestamp': '2022-03-22T00:00:00.000Z', 'edits': 0},\n    {'timestamp': '2022-03-23T00:00:00.000Z', 'edits': 0},\n    {'timestamp': '2022-03-24T00:00:00.000Z', 'edits': 0},\n    {'timestamp': '2022-03-25T00:00:00.000Z', 'edits': 0},\n    {'timestamp': '2022-03-26T00:00:00.000Z', 'edits': 0},\n    {'timestamp': '2022-03-27T00:00:00.000Z', 'edits': 0},\n    {'timestamp': '2022-03-28T00:00:00.000Z', 'edits': 0},\n    {'timestamp': '2022-03-29T00:00:00.000Z', 'edits': 0},\n    {'timestamp': '2022-03-30T00:00:00.000Z', 'edits': 0},\n    {'timestamp': '2022-03-31T00:00:00.000Z', 'edits': 0},\n    {'timestamp': '2022-04-01T00:00:00.000Z', 'edits': 0},\n    {'timestamp': '2022-04-02T00:00:00.000Z', 'edits': 0},\n    {'timestamp': '2022-04-03T00:00:00.000Z', 'edits': 0},\n    {'timestamp': '2022-04-04T00:00:00.000Z', 'edits': 2},\n    {'timestamp': '2022-04-05T00:00:00.000Z', 'edits': 0},\n    {'timestamp': '2022-04-06T00:00:00.000Z', 'edits': 0},\n    {'timestamp': '2022-04-07T00:00:00.000Z', 'edits': 0},\n    {'timestamp': '2022-04-08T00:00:00.000Z', 'edits': 0},\n    {'timestamp': '2022-04-09T00:00:00.000Z', 'edits': 0},\n    {'timestamp': '2022-04-10T00:00:00.000Z', 'edits': 0},\n    {'timestamp': '2022-04-11T00:00:00.000Z', 'edits': 1},\n    {'timestamp': '2022-04-12T00:00:00.000Z', 'edits': 1},\n    {'timestamp': '2022-04-13T00:00:00.000Z', 'edits': 0},\n    {'timestamp': '2022-04-14T00:00:00.000Z', 'edits': 0},\n    {'timestamp': '2022-04-15T00:00:00.000Z', 'edits': 0},\n    {'timestamp': '2022-04-16T00:00:00.000Z', 'edits': 0},\n    {'timestamp': '2022-04-17T00:00:00.000Z', 'edits': 0},\n    {'timestamp': '2022-04-18T00:00:00.000Z', 'edits': 0},\n    {'timestamp': '2022-04-19T00:00:00.000Z', 'edits': 0},\n    {'timestamp': '2022-04-20T00:00:00.000Z', 'edits': 0},\n    {'timestamp': '2022-04-21T00:00:00.000Z', 'edits': 0},\n    {'timestamp': '2022-04-22T00:00:00.000Z', 'edits': 0},\n    {'timestamp': '2022-04-23T00:00:00.000Z', 'edits': 0},\n    {'timestamp': '2022-04-24T00:00:00.000Z', 'edits': 0},\n    {'timestamp': '2022-04-25T00:00:00.000Z', 'edits': 0},\n    {'timestamp': '2022-04-26T00:00:00.000Z', 'edits': 0},\n    {'timestamp': '2022-04-27T00:00:00.000Z', 'edits': 0},\n    {'timestamp': '2022-04-28T00:00:00.000Z', 'edits': 0},\n    {'timestamp': '2022-04-29T00:00:00.000Z', 'edits': 0},\n    {'timestamp': '2022-04-30T00:00:00.000Z', 'edits': 0}]}]}"
     },
     "execution_count": 62,
     "metadata": {},
     "output_type": "execute_result"
    }
   ],
   "source": [
    "headers = {\n",
    "    'User-Agent': 'https://github.com/YOURUSERNAME',\n",
    "    'From': 'YOURMAIL'\n",
    "}\n",
    "\n",
    "# Edpoint for getting Edits per Page\n",
    "ep = 'https://wikimedia.org/api/rest_v1/metrics/edits/per-page/de.wikipedia/ZDF_Magazin_Royale/all-editor-types/daily/20220101/20221231'\n",
    "\n",
    "call = requests.get(ep, headers=headers)\n",
    "response = call.json()\n",
    "\n",
    "response"
   ]
  },
  {
   "cell_type": "markdown",
   "metadata": {},
   "source": [
    "### Parsing \n",
    "\n",
    "Apart from our little cities example, so far we have only loaded the data into unstructured strings. To be able to analyze the data, we have to turn the unstructured strings of symbols into a practical data structure of the DataFrame that we can work with. This process is commonly referred to as ‘parsing’. \n",
    "\n",
    "As we have seen above, data can come in various file formats, which are in turn more or less appropriate for particular data structures. We'll cover four typical ones in the following section, but we will see more over the course of the tutorials to come.\n",
    "\n",
    "The different ways of loading data (e.g., by file path or URL) are independent from the particular data formats provided. For example, you can load CSV data from a local file or from a web address. While the files typically indicate with the extension what format they have, URLs or APIs may not have these. If it is not clear, you may have to check the documentation or take a peek into the file."
   ]
  },
  {
   "cell_type": "markdown",
   "metadata": {},
   "source": [
    "#### CSV\n",
    "\n",
    "The CSV format is probably the most common file format in the context of data analysis and visualization. CSV files contain tabular data that can be viewed and edited in a spreadsheet software such as Excel. CSV stands for [comma-separated values](https://en.wikipedia.org/wiki/Comma-separated_values), which seems to say it all: the data values are separated by commas and each row represents one item. However, there are also CSV files that use separators other than commas, such as tabs and semicolons. \n",
    "\n",
    "Let's load a CSV file! Thankfully Pandas has the convenient `read_csv()` method ready for us, which can open CSV data via a file path or URL, and turns it directly into a DataFrame object.\n",
    "\n",
    "A good source for CSV data is [Our world in Data](https://ourworldindata.org/), the datasets you find on [GitHub](https://github.com/owid/owid-datasets). As an exmple we will load the \"A Century of Work and Leisure\" dataset.\n"
   ]
  },
  {
   "cell_type": "code",
   "execution_count": 88,
   "metadata": {},
   "outputs": [
    {
     "data": {
      "text/plain": "                 Entity  Year  \\\n0  Ages 10 to 13 (male)  1900   \n1  Ages 10 to 13 (male)  1910   \n2  Ages 10 to 13 (male)  1920   \n3  Ages 10 to 13 (male)  1930   \n4  Ages 10 to 13 (male)  1940   \n\n   Average weekly hours worked per person by demographic group (Ramey and Francis (2009))  \\\n0                                                7.7                                        \n1                                                5.4                                        \n2                                                2.1                                        \n3                                                1.2                                        \n4                                                0.0                                        \n\n   Average weekly hours devoted to school (Ramey and Francis (2009))  \\\n0                                                NaN                   \n1                                                NaN                   \n2                                                NaN                   \n3                                                NaN                   \n4                                                NaN                   \n\n   Weekly home production time by demographic group (Ramey and Francis (2009))  \\\n0                                                NaN                             \n1                                                NaN                             \n2                                                NaN                             \n3                                                NaN                             \n4                                                NaN                             \n\n   Average weekly leisure estimates by age (Ramey and Francis (2009))  \n0                                                NaN                   \n1                                                NaN                   \n2                                                NaN                   \n3                                                NaN                   \n4                                                NaN                   ",
      "text/html": "<div>\n<style scoped>\n    .dataframe tbody tr th:only-of-type {\n        vertical-align: middle;\n    }\n\n    .dataframe tbody tr th {\n        vertical-align: top;\n    }\n\n    .dataframe thead th {\n        text-align: right;\n    }\n</style>\n<table border=\"1\" class=\"dataframe\">\n  <thead>\n    <tr style=\"text-align: right;\">\n      <th></th>\n      <th>Entity</th>\n      <th>Year</th>\n      <th>Average weekly hours worked per person by demographic group (Ramey and Francis (2009))</th>\n      <th>Average weekly hours devoted to school (Ramey and Francis (2009))</th>\n      <th>Weekly home production time by demographic group (Ramey and Francis (2009))</th>\n      <th>Average weekly leisure estimates by age (Ramey and Francis (2009))</th>\n    </tr>\n  </thead>\n  <tbody>\n    <tr>\n      <th>0</th>\n      <td>Ages 10 to 13 (male)</td>\n      <td>1900</td>\n      <td>7.7</td>\n      <td>NaN</td>\n      <td>NaN</td>\n      <td>NaN</td>\n    </tr>\n    <tr>\n      <th>1</th>\n      <td>Ages 10 to 13 (male)</td>\n      <td>1910</td>\n      <td>5.4</td>\n      <td>NaN</td>\n      <td>NaN</td>\n      <td>NaN</td>\n    </tr>\n    <tr>\n      <th>2</th>\n      <td>Ages 10 to 13 (male)</td>\n      <td>1920</td>\n      <td>2.1</td>\n      <td>NaN</td>\n      <td>NaN</td>\n      <td>NaN</td>\n    </tr>\n    <tr>\n      <th>3</th>\n      <td>Ages 10 to 13 (male)</td>\n      <td>1930</td>\n      <td>1.2</td>\n      <td>NaN</td>\n      <td>NaN</td>\n      <td>NaN</td>\n    </tr>\n    <tr>\n      <th>4</th>\n      <td>Ages 10 to 13 (male)</td>\n      <td>1940</td>\n      <td>0.0</td>\n      <td>NaN</td>\n      <td>NaN</td>\n      <td>NaN</td>\n    </tr>\n  </tbody>\n</table>\n</div>"
     },
     "execution_count": 88,
     "metadata": {},
     "output_type": "execute_result"
    }
   ],
   "source": [
    "import ssl # for URLs on my system\n",
    "ssl._create_default_https_context = ssl._create_unverified_context # for URLs on my system\n",
    "\n",
    "owid_data = pd.read_csv(\"https://raw.githubusercontent.com/owid/owid-datasets/9e0249459233f8ef303eab7ed2d56ebbcf01e64c/datasets/A%20Century%20of%20Work%20and%20Leisure%20-%20Ramey%20and%20Francis%20(2009)/A%20Century%20of%20Work%20and%20Leisure%20-%20Ramey%20and%20Francis%20(2009).csv\")\n",
    "owid_data.head()"
   ]
  },
  {
   "cell_type": "markdown",
   "metadata": {},
   "source": [
    "✏️ *Try loading another CSV dataset from [GovData](https://www.govdata.de/)!*"
   ]
  },
  {
   "cell_type": "code",
   "execution_count": 89,
   "metadata": {},
   "outputs": [
    {
     "data": {
      "text/plain": "        Entity  Year  Aviation and shipping  \\\n0  Afghanistan  1990                   0.02   \n1  Afghanistan  1991                   0.02   \n2  Afghanistan  1992                   0.02   \n3  Afghanistan  1993                   0.02   \n4  Afghanistan  1994                   0.02   \n\n   Aviation and shipping (per capita)  Buildings  Buildings (per capita)  \\\n0                            0.001611       0.08                0.006445   \n1                            0.001504       0.07                0.005264   \n2                            0.001381       0.03                0.002071   \n3                            0.001264       0.03                0.001897   \n4                            0.001171       0.02                0.001171   \n\n   Electricity and heat  Electricity and heat (per capita)  Energy  \\\n0                  0.27                           0.021753    2.92   \n1                  0.27                           0.020302    2.69   \n2                  0.16                           0.011045    1.38   \n3                  0.16                           0.010116    1.31   \n4                  0.16                           0.009370    1.26   \n\n   Energy (per capita)  ...  Manufacturing and construction  \\\n0             0.235250  ...                            0.57   \n1             0.202271  ...                            0.53   \n2             0.095267  ...                            0.39   \n3             0.082824  ...                            0.38   \n4             0.073789  ...                            0.36   \n\n   Manufacturing and construction (per capita)  Other fuel combustion  \\\n0                                     0.045922                    0.0   \n1                                     0.039853                    0.0   \n2                                     0.026923                    0.0   \n3                                     0.024025                    0.0   \n4                                     0.021083                    0.0   \n\n   Other fuel combustion (per capita)  Total excluding LUCF  \\\n0                                 0.0                  2.96   \n1                                 0.0                  2.74   \n2                                 0.0                  1.43   \n3                                 0.0                  1.36   \n4                                 0.0                  1.30   \n\n   Total excluding LUCF (per capita)  Total including LUCF  \\\n0                           0.238473                  0.58   \n1                           0.206030                  0.35   \n2                           0.098719                 -0.96   \n3                           0.085986                 -1.03   \n4                           0.076131                 -1.08   \n\n   Total including LUCF (per capita)  Transport  Transport (per capita)  \n0                           0.046728       1.67                0.134544  \n1                           0.026318       1.55                0.116550  \n2                          -0.066273       0.77                0.053156  \n3                          -0.065121       0.74                0.046786  \n4                          -0.063248       0.71                0.041579  \n\n[5 rows x 26 columns]",
      "text/html": "<div>\n<style scoped>\n    .dataframe tbody tr th:only-of-type {\n        vertical-align: middle;\n    }\n\n    .dataframe tbody tr th {\n        vertical-align: top;\n    }\n\n    .dataframe thead th {\n        text-align: right;\n    }\n</style>\n<table border=\"1\" class=\"dataframe\">\n  <thead>\n    <tr style=\"text-align: right;\">\n      <th></th>\n      <th>Entity</th>\n      <th>Year</th>\n      <th>Aviation and shipping</th>\n      <th>Aviation and shipping (per capita)</th>\n      <th>Buildings</th>\n      <th>Buildings (per capita)</th>\n      <th>Electricity and heat</th>\n      <th>Electricity and heat (per capita)</th>\n      <th>Energy</th>\n      <th>Energy (per capita)</th>\n      <th>...</th>\n      <th>Manufacturing and construction</th>\n      <th>Manufacturing and construction (per capita)</th>\n      <th>Other fuel combustion</th>\n      <th>Other fuel combustion (per capita)</th>\n      <th>Total excluding LUCF</th>\n      <th>Total excluding LUCF (per capita)</th>\n      <th>Total including LUCF</th>\n      <th>Total including LUCF (per capita)</th>\n      <th>Transport</th>\n      <th>Transport (per capita)</th>\n    </tr>\n  </thead>\n  <tbody>\n    <tr>\n      <th>0</th>\n      <td>Afghanistan</td>\n      <td>1990</td>\n      <td>0.02</td>\n      <td>0.001611</td>\n      <td>0.08</td>\n      <td>0.006445</td>\n      <td>0.27</td>\n      <td>0.021753</td>\n      <td>2.92</td>\n      <td>0.235250</td>\n      <td>...</td>\n      <td>0.57</td>\n      <td>0.045922</td>\n      <td>0.0</td>\n      <td>0.0</td>\n      <td>2.96</td>\n      <td>0.238473</td>\n      <td>0.58</td>\n      <td>0.046728</td>\n      <td>1.67</td>\n      <td>0.134544</td>\n    </tr>\n    <tr>\n      <th>1</th>\n      <td>Afghanistan</td>\n      <td>1991</td>\n      <td>0.02</td>\n      <td>0.001504</td>\n      <td>0.07</td>\n      <td>0.005264</td>\n      <td>0.27</td>\n      <td>0.020302</td>\n      <td>2.69</td>\n      <td>0.202271</td>\n      <td>...</td>\n      <td>0.53</td>\n      <td>0.039853</td>\n      <td>0.0</td>\n      <td>0.0</td>\n      <td>2.74</td>\n      <td>0.206030</td>\n      <td>0.35</td>\n      <td>0.026318</td>\n      <td>1.55</td>\n      <td>0.116550</td>\n    </tr>\n    <tr>\n      <th>2</th>\n      <td>Afghanistan</td>\n      <td>1992</td>\n      <td>0.02</td>\n      <td>0.001381</td>\n      <td>0.03</td>\n      <td>0.002071</td>\n      <td>0.16</td>\n      <td>0.011045</td>\n      <td>1.38</td>\n      <td>0.095267</td>\n      <td>...</td>\n      <td>0.39</td>\n      <td>0.026923</td>\n      <td>0.0</td>\n      <td>0.0</td>\n      <td>1.43</td>\n      <td>0.098719</td>\n      <td>-0.96</td>\n      <td>-0.066273</td>\n      <td>0.77</td>\n      <td>0.053156</td>\n    </tr>\n    <tr>\n      <th>3</th>\n      <td>Afghanistan</td>\n      <td>1993</td>\n      <td>0.02</td>\n      <td>0.001264</td>\n      <td>0.03</td>\n      <td>0.001897</td>\n      <td>0.16</td>\n      <td>0.010116</td>\n      <td>1.31</td>\n      <td>0.082824</td>\n      <td>...</td>\n      <td>0.38</td>\n      <td>0.024025</td>\n      <td>0.0</td>\n      <td>0.0</td>\n      <td>1.36</td>\n      <td>0.085986</td>\n      <td>-1.03</td>\n      <td>-0.065121</td>\n      <td>0.74</td>\n      <td>0.046786</td>\n    </tr>\n    <tr>\n      <th>4</th>\n      <td>Afghanistan</td>\n      <td>1994</td>\n      <td>0.02</td>\n      <td>0.001171</td>\n      <td>0.02</td>\n      <td>0.001171</td>\n      <td>0.16</td>\n      <td>0.009370</td>\n      <td>1.26</td>\n      <td>0.073789</td>\n      <td>...</td>\n      <td>0.36</td>\n      <td>0.021083</td>\n      <td>0.0</td>\n      <td>0.0</td>\n      <td>1.30</td>\n      <td>0.076131</td>\n      <td>-1.08</td>\n      <td>-0.063248</td>\n      <td>0.71</td>\n      <td>0.041579</td>\n    </tr>\n  </tbody>\n</table>\n<p>5 rows × 26 columns</p>\n</div>"
     },
     "execution_count": 89,
     "metadata": {},
     "output_type": "execute_result"
    }
   ],
   "source": [
    "owid_data_co2 = pd.read_csv(\"https://raw.githubusercontent.com/owid/owid-datasets/master/datasets/CO2%20emissions%20by%20sector%20(CAIT%2C%202021)/CO2%20emissions%20by%20sector%20(CAIT%2C%202021).csv\")\n",
    "owid_data_co2.head()"
   ]
  },
  {
   "cell_type": "markdown",
   "metadata": {},
   "source": [
    "#### XML\n",
    "\n",
    "[XML](https://en.wikipedia.org/wiki/XML) (Extensible Markup Language) is a data format, which can have very different kinds of hierarchical structures. XML files are common in a wide variety of contexts, including libraries, and especially in situations, in which the interoperability of multiple systems by several vendors needs to be ensured.\n",
    "\n",
    "The 🌲 **ElementTree** module will help us to parse the elements contained in an XML file."
   ]
  },
  {
   "cell_type": "code",
   "execution_count": 90,
   "metadata": {},
   "outputs": [],
   "source": [
    "import xml.etree.ElementTree as ET"
   ]
  },
  {
   "cell_type": "markdown",
   "metadata": {},
   "source": [
    "As we have already retrieved the XML feed from Tagesschau (and saved it in the variable `tagesschau_xml`), we can now parse it directly from the string, i.e., using the method `ET.fromstring()`:"
   ]
  },
  {
   "cell_type": "code",
   "execution_count": 91,
   "metadata": {},
   "outputs": [
    {
     "data": {
      "text/plain": "<Element 'rss' at 0x7ff65cd60d60>"
     },
     "execution_count": 91,
     "metadata": {},
     "output_type": "execute_result"
    }
   ],
   "source": [
    "tagesschau = ET.fromstring(tagesschau_xml)\n",
    "tagesschau"
   ]
  },
  {
   "cell_type": "markdown",
   "metadata": {},
   "source": [
    "This gives the root element of the XML feed (and all its children) in the variable `tagesschau`. \n",
    "\n",
    "Going through all items with `findall` and within these with `find` for specific sub-elements, we can extract the publication date and time and the title of the respective item. In the following these elements are put together into the DataFrame `tagesschau_df`. Note that it helps to peek into the XML source of the feed to know the specific element names."
   ]
  },
  {
   "cell_type": "code",
   "execution_count": 92,
   "metadata": {},
   "outputs": [
    {
     "data": {
      "text/plain": "                               date  \\\n0   Mon, 09 May 2022 22:13:31 +0200   \n1   Mon, 09 May 2022 22:11:24 +0200   \n2   Mon, 09 May 2022 21:36:04 +0200   \n3   Mon, 09 May 2022 20:32:11 +0200   \n4   Mon, 09 May 2022 20:01:52 +0200   \n5   Mon, 09 May 2022 18:50:24 +0200   \n6   Mon, 09 May 2022 18:20:08 +0200   \n7   Mon, 09 May 2022 18:00:07 +0200   \n8   Mon, 09 May 2022 17:59:04 +0200   \n9   Mon, 09 May 2022 17:45:01 +0200   \n10  Mon, 09 May 2022 17:28:58 +0200   \n11  Mon, 09 May 2022 16:59:05 +0200   \n12  Mon, 09 May 2022 16:40:59 +0200   \n13  Mon, 09 May 2022 16:35:35 +0200   \n14  Mon, 09 May 2022 15:56:49 +0200   \n15  Mon, 09 May 2022 15:44:02 +0200   \n16  Mon, 09 May 2022 15:23:09 +0200   \n17  Mon, 09 May 2022 15:19:10 +0200   \n18  Mon, 09 May 2022 14:54:03 +0200   \n19  Mon, 09 May 2022 14:35:55 +0200   \n20  Mon, 09 May 2022 13:58:11 +0200   \n21  Mon, 09 May 2022 13:53:35 +0200   \n22  Mon, 09 May 2022 13:45:37 +0200   \n23  Mon, 09 May 2022 13:44:18 +0200   \n24  Mon, 09 May 2022 12:59:22 +0200   \n25  Mon, 09 May 2022 12:27:51 +0200   \n26  Mon, 09 May 2022 12:15:35 +0200   \n27  Mon, 09 May 2022 12:05:30 +0200   \n28  Mon, 09 May 2022 11:55:23 +0200   \n29  Mon, 09 May 2022 11:41:51 +0200   \n30  Mon, 09 May 2022 11:17:46 +0200   \n31  Mon, 09 May 2022 10:51:07 +0200   \n32  Mon, 09 May 2022 10:31:36 +0200   \n33  Mon, 09 May 2022 10:21:46 +0200   \n34  Mon, 09 May 2022 10:21:22 +0200   \n35  Mon, 09 May 2022 10:04:36 +0200   \n36  Mon, 09 May 2022 09:28:58 +0200   \n37  Mon, 09 May 2022 09:14:15 +0200   \n38  Mon, 09 May 2022 08:55:19 +0200   \n39  Mon, 09 May 2022 08:47:23 +0200   \n\n                                                title  \n0            Marktbericht: Kein Silberstreif in Sicht  \n1   Mindestens 41 Tote bei Gefängnisaufstand in Ec...  \n2   Ein Toter und viele Verletzte bei Zugunglück i...  \n3   Wahl auf den Philippinen: Marcos Jr. steuert a...  \n4   Überraschende Rücktritte: \"Minister-Beben\" in ...  \n5   Lagebericht des BKA: Cyberattacken nehmen weit...  \n6   Sanktionen gegen Russland: Ungarn kündigt Veto...  \n7   Übergriffe auf Gedenkstätten - Chronik des Hasses  \n8   DFB ermittelt nach Platzstürmen in Gelsenkirch...  \n9   AfD nach Schleswig-Holstein-Wahl: Gegenseitige...  \n10  NATO-Beitritt Schwedens und Finnlands im Eilte...  \n11  SPD vor der NRW-Wahl: Mit wenig Rückenwind wei...  \n12  Zukunftskonferenz: Wie die EU handlungsfähiger...  \n13  Wissings E-Auto-Pläne stoßen in der Koalition ...  \n14      Trauer um Comiczeichner: George Pérez ist tot  \n15  Bundesregierung bestätigt Hacker-Angriffe auf ...  \n16            BioNTech verdreifacht Gewinn und Umsatz  \n17  Fernzüge der Deutschen Bahn im April häufig ve...  \n18  Interview zur Putin-Rede: \"Interessant, was er...  \n19  Beitrittsantrag aus Kiew: EU will der Ukraine ...  \n20  Schleswig-Holstein: Wer darf mit Günther regie...  \n21  Putin begründet Angriff auf Ukraine als Selbst...  \n22  Weltkriegs-Gedenken in Berlin: Flaggen-Verbot ...  \n23  Nach Protesten: Regierungschef von Sri Lanka t...  \n24  Foodwatch fordert Maßnahmen gegen Rohstoffspek...  \n25  Bundesliga: Haaland wechselt offenbar zu Manch...  \n26        Wahl in Südossetien - Denkzettel für Moskau  \n27  Produktion von Fleischersatzprodukten wächst w...  \n28  Schleswig-Holstein: Erleichterung über Aussche...  \n29  Deutsche Schiffe retten 122 Menschen im Mittel...  \n30  Warum US-Streamingdienst Netflix in der Krise ...  \n31  Ende des Zweiten Weltkriegs: Wie die Ukraine a...  \n32  Ukraine-Liveblog: ++ Litauens Außenminister fo...  \n33  Wahl auf den Philippinen: Tote bei Anschlag au...  \n34  Rede zum \"Tag des Sieges\": \"Der Westen plante ...  \n35                    Der Homeoffice-Boom geht weiter  \n36  Kaufverhalten der Deutschen seit Kriegsausbruc...  \n37  Reaktionen auf Scholz-Rede: Kritik und eine Ve...  \n38  Wachstum stark verlangsamt: Chinas Außenhandel...  \n39  Verkehrsminister lässt längere E-Auto-Kaufpräm...  ",
      "text/html": "<div>\n<style scoped>\n    .dataframe tbody tr th:only-of-type {\n        vertical-align: middle;\n    }\n\n    .dataframe tbody tr th {\n        vertical-align: top;\n    }\n\n    .dataframe thead th {\n        text-align: right;\n    }\n</style>\n<table border=\"1\" class=\"dataframe\">\n  <thead>\n    <tr style=\"text-align: right;\">\n      <th></th>\n      <th>date</th>\n      <th>title</th>\n    </tr>\n  </thead>\n  <tbody>\n    <tr>\n      <th>0</th>\n      <td>Mon, 09 May 2022 22:13:31 +0200</td>\n      <td>Marktbericht: Kein Silberstreif in Sicht</td>\n    </tr>\n    <tr>\n      <th>1</th>\n      <td>Mon, 09 May 2022 22:11:24 +0200</td>\n      <td>Mindestens 41 Tote bei Gefängnisaufstand in Ec...</td>\n    </tr>\n    <tr>\n      <th>2</th>\n      <td>Mon, 09 May 2022 21:36:04 +0200</td>\n      <td>Ein Toter und viele Verletzte bei Zugunglück i...</td>\n    </tr>\n    <tr>\n      <th>3</th>\n      <td>Mon, 09 May 2022 20:32:11 +0200</td>\n      <td>Wahl auf den Philippinen: Marcos Jr. steuert a...</td>\n    </tr>\n    <tr>\n      <th>4</th>\n      <td>Mon, 09 May 2022 20:01:52 +0200</td>\n      <td>Überraschende Rücktritte: \"Minister-Beben\" in ...</td>\n    </tr>\n    <tr>\n      <th>5</th>\n      <td>Mon, 09 May 2022 18:50:24 +0200</td>\n      <td>Lagebericht des BKA: Cyberattacken nehmen weit...</td>\n    </tr>\n    <tr>\n      <th>6</th>\n      <td>Mon, 09 May 2022 18:20:08 +0200</td>\n      <td>Sanktionen gegen Russland: Ungarn kündigt Veto...</td>\n    </tr>\n    <tr>\n      <th>7</th>\n      <td>Mon, 09 May 2022 18:00:07 +0200</td>\n      <td>Übergriffe auf Gedenkstätten - Chronik des Hasses</td>\n    </tr>\n    <tr>\n      <th>8</th>\n      <td>Mon, 09 May 2022 17:59:04 +0200</td>\n      <td>DFB ermittelt nach Platzstürmen in Gelsenkirch...</td>\n    </tr>\n    <tr>\n      <th>9</th>\n      <td>Mon, 09 May 2022 17:45:01 +0200</td>\n      <td>AfD nach Schleswig-Holstein-Wahl: Gegenseitige...</td>\n    </tr>\n    <tr>\n      <th>10</th>\n      <td>Mon, 09 May 2022 17:28:58 +0200</td>\n      <td>NATO-Beitritt Schwedens und Finnlands im Eilte...</td>\n    </tr>\n    <tr>\n      <th>11</th>\n      <td>Mon, 09 May 2022 16:59:05 +0200</td>\n      <td>SPD vor der NRW-Wahl: Mit wenig Rückenwind wei...</td>\n    </tr>\n    <tr>\n      <th>12</th>\n      <td>Mon, 09 May 2022 16:40:59 +0200</td>\n      <td>Zukunftskonferenz: Wie die EU handlungsfähiger...</td>\n    </tr>\n    <tr>\n      <th>13</th>\n      <td>Mon, 09 May 2022 16:35:35 +0200</td>\n      <td>Wissings E-Auto-Pläne stoßen in der Koalition ...</td>\n    </tr>\n    <tr>\n      <th>14</th>\n      <td>Mon, 09 May 2022 15:56:49 +0200</td>\n      <td>Trauer um Comiczeichner: George Pérez ist tot</td>\n    </tr>\n    <tr>\n      <th>15</th>\n      <td>Mon, 09 May 2022 15:44:02 +0200</td>\n      <td>Bundesregierung bestätigt Hacker-Angriffe auf ...</td>\n    </tr>\n    <tr>\n      <th>16</th>\n      <td>Mon, 09 May 2022 15:23:09 +0200</td>\n      <td>BioNTech verdreifacht Gewinn und Umsatz</td>\n    </tr>\n    <tr>\n      <th>17</th>\n      <td>Mon, 09 May 2022 15:19:10 +0200</td>\n      <td>Fernzüge der Deutschen Bahn im April häufig ve...</td>\n    </tr>\n    <tr>\n      <th>18</th>\n      <td>Mon, 09 May 2022 14:54:03 +0200</td>\n      <td>Interview zur Putin-Rede: \"Interessant, was er...</td>\n    </tr>\n    <tr>\n      <th>19</th>\n      <td>Mon, 09 May 2022 14:35:55 +0200</td>\n      <td>Beitrittsantrag aus Kiew: EU will der Ukraine ...</td>\n    </tr>\n    <tr>\n      <th>20</th>\n      <td>Mon, 09 May 2022 13:58:11 +0200</td>\n      <td>Schleswig-Holstein: Wer darf mit Günther regie...</td>\n    </tr>\n    <tr>\n      <th>21</th>\n      <td>Mon, 09 May 2022 13:53:35 +0200</td>\n      <td>Putin begründet Angriff auf Ukraine als Selbst...</td>\n    </tr>\n    <tr>\n      <th>22</th>\n      <td>Mon, 09 May 2022 13:45:37 +0200</td>\n      <td>Weltkriegs-Gedenken in Berlin: Flaggen-Verbot ...</td>\n    </tr>\n    <tr>\n      <th>23</th>\n      <td>Mon, 09 May 2022 13:44:18 +0200</td>\n      <td>Nach Protesten: Regierungschef von Sri Lanka t...</td>\n    </tr>\n    <tr>\n      <th>24</th>\n      <td>Mon, 09 May 2022 12:59:22 +0200</td>\n      <td>Foodwatch fordert Maßnahmen gegen Rohstoffspek...</td>\n    </tr>\n    <tr>\n      <th>25</th>\n      <td>Mon, 09 May 2022 12:27:51 +0200</td>\n      <td>Bundesliga: Haaland wechselt offenbar zu Manch...</td>\n    </tr>\n    <tr>\n      <th>26</th>\n      <td>Mon, 09 May 2022 12:15:35 +0200</td>\n      <td>Wahl in Südossetien - Denkzettel für Moskau</td>\n    </tr>\n    <tr>\n      <th>27</th>\n      <td>Mon, 09 May 2022 12:05:30 +0200</td>\n      <td>Produktion von Fleischersatzprodukten wächst w...</td>\n    </tr>\n    <tr>\n      <th>28</th>\n      <td>Mon, 09 May 2022 11:55:23 +0200</td>\n      <td>Schleswig-Holstein: Erleichterung über Aussche...</td>\n    </tr>\n    <tr>\n      <th>29</th>\n      <td>Mon, 09 May 2022 11:41:51 +0200</td>\n      <td>Deutsche Schiffe retten 122 Menschen im Mittel...</td>\n    </tr>\n    <tr>\n      <th>30</th>\n      <td>Mon, 09 May 2022 11:17:46 +0200</td>\n      <td>Warum US-Streamingdienst Netflix in der Krise ...</td>\n    </tr>\n    <tr>\n      <th>31</th>\n      <td>Mon, 09 May 2022 10:51:07 +0200</td>\n      <td>Ende des Zweiten Weltkriegs: Wie die Ukraine a...</td>\n    </tr>\n    <tr>\n      <th>32</th>\n      <td>Mon, 09 May 2022 10:31:36 +0200</td>\n      <td>Ukraine-Liveblog: ++ Litauens Außenminister fo...</td>\n    </tr>\n    <tr>\n      <th>33</th>\n      <td>Mon, 09 May 2022 10:21:46 +0200</td>\n      <td>Wahl auf den Philippinen: Tote bei Anschlag au...</td>\n    </tr>\n    <tr>\n      <th>34</th>\n      <td>Mon, 09 May 2022 10:21:22 +0200</td>\n      <td>Rede zum \"Tag des Sieges\": \"Der Westen plante ...</td>\n    </tr>\n    <tr>\n      <th>35</th>\n      <td>Mon, 09 May 2022 10:04:36 +0200</td>\n      <td>Der Homeoffice-Boom geht weiter</td>\n    </tr>\n    <tr>\n      <th>36</th>\n      <td>Mon, 09 May 2022 09:28:58 +0200</td>\n      <td>Kaufverhalten der Deutschen seit Kriegsausbruc...</td>\n    </tr>\n    <tr>\n      <th>37</th>\n      <td>Mon, 09 May 2022 09:14:15 +0200</td>\n      <td>Reaktionen auf Scholz-Rede: Kritik und eine Ve...</td>\n    </tr>\n    <tr>\n      <th>38</th>\n      <td>Mon, 09 May 2022 08:55:19 +0200</td>\n      <td>Wachstum stark verlangsamt: Chinas Außenhandel...</td>\n    </tr>\n    <tr>\n      <th>39</th>\n      <td>Mon, 09 May 2022 08:47:23 +0200</td>\n      <td>Verkehrsminister lässt längere E-Auto-Kaufpräm...</td>\n    </tr>\n  </tbody>\n</table>\n</div>"
     },
     "execution_count": 92,
     "metadata": {},
     "output_type": "execute_result"
    }
   ],
   "source": [
    "# create two empty lists\n",
    "dates = []\n",
    "titles = []\n",
    "\n",
    "# go through all item elements in the tree\n",
    "for item in tagesschau.findall('.//item'):\n",
    "  # extract date information and titles\n",
    "  dates.append( item.find('.//pubDate').text )\n",
    "  titles.append( item.find('.//title').text )\n",
    "\n",
    "# create a dataframe containing the two columns\n",
    "tagesschau_df = pd.DataFrame(    \n",
    "    {'date': dates,\n",
    "     'title': titles,\n",
    "    })  \n",
    "\n",
    "tagesschau_df"
   ]
  },
  {
   "cell_type": "markdown",
   "metadata": {},
   "source": [
    "✏️ *Each news item also contains a `description` element. Why not add a third column to the DataFrame?*"
   ]
  },
  {
   "cell_type": "code",
   "execution_count": 93,
   "metadata": {},
   "outputs": [
    {
     "data": {
      "text/plain": "                               date  \\\n0   Mon, 09 May 2022 22:13:31 +0200   \n1   Mon, 09 May 2022 22:11:24 +0200   \n2   Mon, 09 May 2022 21:36:04 +0200   \n3   Mon, 09 May 2022 20:32:11 +0200   \n4   Mon, 09 May 2022 20:01:52 +0200   \n5   Mon, 09 May 2022 18:50:24 +0200   \n6   Mon, 09 May 2022 18:20:08 +0200   \n7   Mon, 09 May 2022 18:00:07 +0200   \n8   Mon, 09 May 2022 17:59:04 +0200   \n9   Mon, 09 May 2022 17:45:01 +0200   \n10  Mon, 09 May 2022 17:28:58 +0200   \n11  Mon, 09 May 2022 16:59:05 +0200   \n12  Mon, 09 May 2022 16:40:59 +0200   \n13  Mon, 09 May 2022 16:35:35 +0200   \n14  Mon, 09 May 2022 15:56:49 +0200   \n15  Mon, 09 May 2022 15:44:02 +0200   \n16  Mon, 09 May 2022 15:23:09 +0200   \n17  Mon, 09 May 2022 15:19:10 +0200   \n18  Mon, 09 May 2022 14:54:03 +0200   \n19  Mon, 09 May 2022 14:35:55 +0200   \n20  Mon, 09 May 2022 13:58:11 +0200   \n21  Mon, 09 May 2022 13:53:35 +0200   \n22  Mon, 09 May 2022 13:45:37 +0200   \n23  Mon, 09 May 2022 13:44:18 +0200   \n24  Mon, 09 May 2022 12:59:22 +0200   \n25  Mon, 09 May 2022 12:27:51 +0200   \n26  Mon, 09 May 2022 12:15:35 +0200   \n27  Mon, 09 May 2022 12:05:30 +0200   \n28  Mon, 09 May 2022 11:55:23 +0200   \n29  Mon, 09 May 2022 11:41:51 +0200   \n30  Mon, 09 May 2022 11:17:46 +0200   \n31  Mon, 09 May 2022 10:51:07 +0200   \n32  Mon, 09 May 2022 10:31:36 +0200   \n33  Mon, 09 May 2022 10:21:46 +0200   \n34  Mon, 09 May 2022 10:21:22 +0200   \n35  Mon, 09 May 2022 10:04:36 +0200   \n36  Mon, 09 May 2022 09:28:58 +0200   \n37  Mon, 09 May 2022 09:14:15 +0200   \n38  Mon, 09 May 2022 08:55:19 +0200   \n39  Mon, 09 May 2022 08:47:23 +0200   \n\n                                                title  \\\n0            Marktbericht: Kein Silberstreif in Sicht   \n1   Mindestens 41 Tote bei Gefängnisaufstand in Ec...   \n2   Ein Toter und viele Verletzte bei Zugunglück i...   \n3   Wahl auf den Philippinen: Marcos Jr. steuert a...   \n4   Überraschende Rücktritte: \"Minister-Beben\" in ...   \n5   Lagebericht des BKA: Cyberattacken nehmen weit...   \n6   Sanktionen gegen Russland: Ungarn kündigt Veto...   \n7   Übergriffe auf Gedenkstätten - Chronik des Hasses   \n8   DFB ermittelt nach Platzstürmen in Gelsenkirch...   \n9   AfD nach Schleswig-Holstein-Wahl: Gegenseitige...   \n10  NATO-Beitritt Schwedens und Finnlands im Eilte...   \n11  SPD vor der NRW-Wahl: Mit wenig Rückenwind wei...   \n12  Zukunftskonferenz: Wie die EU handlungsfähiger...   \n13  Wissings E-Auto-Pläne stoßen in der Koalition ...   \n14      Trauer um Comiczeichner: George Pérez ist tot   \n15  Bundesregierung bestätigt Hacker-Angriffe auf ...   \n16            BioNTech verdreifacht Gewinn und Umsatz   \n17  Fernzüge der Deutschen Bahn im April häufig ve...   \n18  Interview zur Putin-Rede: \"Interessant, was er...   \n19  Beitrittsantrag aus Kiew: EU will der Ukraine ...   \n20  Schleswig-Holstein: Wer darf mit Günther regie...   \n21  Putin begründet Angriff auf Ukraine als Selbst...   \n22  Weltkriegs-Gedenken in Berlin: Flaggen-Verbot ...   \n23  Nach Protesten: Regierungschef von Sri Lanka t...   \n24  Foodwatch fordert Maßnahmen gegen Rohstoffspek...   \n25  Bundesliga: Haaland wechselt offenbar zu Manch...   \n26        Wahl in Südossetien - Denkzettel für Moskau   \n27  Produktion von Fleischersatzprodukten wächst w...   \n28  Schleswig-Holstein: Erleichterung über Aussche...   \n29  Deutsche Schiffe retten 122 Menschen im Mittel...   \n30  Warum US-Streamingdienst Netflix in der Krise ...   \n31  Ende des Zweiten Weltkriegs: Wie die Ukraine a...   \n32  Ukraine-Liveblog: ++ Litauens Außenminister fo...   \n33  Wahl auf den Philippinen: Tote bei Anschlag au...   \n34  Rede zum \"Tag des Sieges\": \"Der Westen plante ...   \n35                    Der Homeoffice-Boom geht weiter   \n36  Kaufverhalten der Deutschen seit Kriegsausbruc...   \n37  Reaktionen auf Scholz-Rede: Kritik und eine Ve...   \n38  Wachstum stark verlangsamt: Chinas Außenhandel...   \n39  Verkehrsminister lässt längere E-Auto-Kaufpräm...   \n\n                                         descriptions  \n0   Sorgen, wohin man blickt: Das trübe Zins- und ...  \n1   Erneut sind in einem ecuadorianischen Gefängni...  \n2   In der Nähe von Wien hat sich ein schweres Zug...  \n3   Auf den Philippinen hat der Sohn des früheren ...  \n4   Die österreichischen Ministerinnen Köstinger u...  \n5   Cyberstraftaten haben im vergangenen Jahr weit...  \n6   Der Brüsseler Vorschlag komme einer Atombombe ...  \n7   Gedenkstätten zur Erinnerung an die Opfer der ...  \n8   Erst ein Platzsturm in Frankfurt, dann in Gels...  \n9   Zum ersten Mal ist die AfD wieder aus einem La...  \n10  Noch in dieser Woche wollen die Regierungspart...  \n11  Trotz der Schlappe in Schleswig-Holstein versu...  \n12  Rund ein Jahr lang tagte die EU-Zukunftskonfer...  \n13  Der Vorstoß von Verkehrsminister Wissing, die ...  \n14  Er arbeitete für die namhaftesten Comicverlage...  \n15  Die Bundesregierung hat eine Serie von Cyberan...  \n16  BioNTech profitiert weiter von der starken Nac...  \n17  Der Anteil pünktlicher ICE- und IC-Züge der De...  \n18  Putins Rede zum 9. Mai sei \"bemerkenswert\" gew...  \n19  Die Ukraine strebt eine schnelle EU-Mitgliedsc...  \n20  Nach dem deutlichen Sieg der CDU bei der Landt...  \n21  Schuld am Einmarsch in der Ukraine ist der Wes...  \n22  Beim Gedenken an die Opfer des Zweiten Weltkri...  \n23  Der Ministerpräsident des Inselstaats Sri Lank...  \n24  Weltweit steigen die Preise für Lebensmittel r...  \n25  Jetzt ist der Transfer wohl nicht mehr zu verh...  \n26  In der von Georgien abtrünnigen Region Südosse...  \n27  Der Markt für vegetarische oder vegane Alterna...  \n28  Die AfD ist in Schleswig-Holstein an der Fünf-...  \n29  Zwei deutsche Rettungsschiffe haben am Wochene...  \n30  Die Zahl der Netflix-Abonnenten ist erstmals s...  \n31  In der Ukraine erinnern sich die Menschen an d...  \n32  Der litauische Außenminister Landsbergis forde...  \n33  Bei einem Angriff auf ein Wahllokal auf den Ph...  \n34  Bei seiner Rede zum \"Tag des Sieges\" in Moskau...  \n35  Auch nach der Lockerung vieler Corona-Maßnahme...  \n36  Das Kaufverhalten der Deutschen hat sich durch...  \n37  Nichts Neues und wenig Konkretes - der ukraini...  \n38  Der chinesische Außenhandel wächst so langsam ...  \n39  Damit die Verkehrswende in Deutschland gelingt...  ",
      "text/html": "<div>\n<style scoped>\n    .dataframe tbody tr th:only-of-type {\n        vertical-align: middle;\n    }\n\n    .dataframe tbody tr th {\n        vertical-align: top;\n    }\n\n    .dataframe thead th {\n        text-align: right;\n    }\n</style>\n<table border=\"1\" class=\"dataframe\">\n  <thead>\n    <tr style=\"text-align: right;\">\n      <th></th>\n      <th>date</th>\n      <th>title</th>\n      <th>descriptions</th>\n    </tr>\n  </thead>\n  <tbody>\n    <tr>\n      <th>0</th>\n      <td>Mon, 09 May 2022 22:13:31 +0200</td>\n      <td>Marktbericht: Kein Silberstreif in Sicht</td>\n      <td>Sorgen, wohin man blickt: Das trübe Zins- und ...</td>\n    </tr>\n    <tr>\n      <th>1</th>\n      <td>Mon, 09 May 2022 22:11:24 +0200</td>\n      <td>Mindestens 41 Tote bei Gefängnisaufstand in Ec...</td>\n      <td>Erneut sind in einem ecuadorianischen Gefängni...</td>\n    </tr>\n    <tr>\n      <th>2</th>\n      <td>Mon, 09 May 2022 21:36:04 +0200</td>\n      <td>Ein Toter und viele Verletzte bei Zugunglück i...</td>\n      <td>In der Nähe von Wien hat sich ein schweres Zug...</td>\n    </tr>\n    <tr>\n      <th>3</th>\n      <td>Mon, 09 May 2022 20:32:11 +0200</td>\n      <td>Wahl auf den Philippinen: Marcos Jr. steuert a...</td>\n      <td>Auf den Philippinen hat der Sohn des früheren ...</td>\n    </tr>\n    <tr>\n      <th>4</th>\n      <td>Mon, 09 May 2022 20:01:52 +0200</td>\n      <td>Überraschende Rücktritte: \"Minister-Beben\" in ...</td>\n      <td>Die österreichischen Ministerinnen Köstinger u...</td>\n    </tr>\n    <tr>\n      <th>5</th>\n      <td>Mon, 09 May 2022 18:50:24 +0200</td>\n      <td>Lagebericht des BKA: Cyberattacken nehmen weit...</td>\n      <td>Cyberstraftaten haben im vergangenen Jahr weit...</td>\n    </tr>\n    <tr>\n      <th>6</th>\n      <td>Mon, 09 May 2022 18:20:08 +0200</td>\n      <td>Sanktionen gegen Russland: Ungarn kündigt Veto...</td>\n      <td>Der Brüsseler Vorschlag komme einer Atombombe ...</td>\n    </tr>\n    <tr>\n      <th>7</th>\n      <td>Mon, 09 May 2022 18:00:07 +0200</td>\n      <td>Übergriffe auf Gedenkstätten - Chronik des Hasses</td>\n      <td>Gedenkstätten zur Erinnerung an die Opfer der ...</td>\n    </tr>\n    <tr>\n      <th>8</th>\n      <td>Mon, 09 May 2022 17:59:04 +0200</td>\n      <td>DFB ermittelt nach Platzstürmen in Gelsenkirch...</td>\n      <td>Erst ein Platzsturm in Frankfurt, dann in Gels...</td>\n    </tr>\n    <tr>\n      <th>9</th>\n      <td>Mon, 09 May 2022 17:45:01 +0200</td>\n      <td>AfD nach Schleswig-Holstein-Wahl: Gegenseitige...</td>\n      <td>Zum ersten Mal ist die AfD wieder aus einem La...</td>\n    </tr>\n    <tr>\n      <th>10</th>\n      <td>Mon, 09 May 2022 17:28:58 +0200</td>\n      <td>NATO-Beitritt Schwedens und Finnlands im Eilte...</td>\n      <td>Noch in dieser Woche wollen die Regierungspart...</td>\n    </tr>\n    <tr>\n      <th>11</th>\n      <td>Mon, 09 May 2022 16:59:05 +0200</td>\n      <td>SPD vor der NRW-Wahl: Mit wenig Rückenwind wei...</td>\n      <td>Trotz der Schlappe in Schleswig-Holstein versu...</td>\n    </tr>\n    <tr>\n      <th>12</th>\n      <td>Mon, 09 May 2022 16:40:59 +0200</td>\n      <td>Zukunftskonferenz: Wie die EU handlungsfähiger...</td>\n      <td>Rund ein Jahr lang tagte die EU-Zukunftskonfer...</td>\n    </tr>\n    <tr>\n      <th>13</th>\n      <td>Mon, 09 May 2022 16:35:35 +0200</td>\n      <td>Wissings E-Auto-Pläne stoßen in der Koalition ...</td>\n      <td>Der Vorstoß von Verkehrsminister Wissing, die ...</td>\n    </tr>\n    <tr>\n      <th>14</th>\n      <td>Mon, 09 May 2022 15:56:49 +0200</td>\n      <td>Trauer um Comiczeichner: George Pérez ist tot</td>\n      <td>Er arbeitete für die namhaftesten Comicverlage...</td>\n    </tr>\n    <tr>\n      <th>15</th>\n      <td>Mon, 09 May 2022 15:44:02 +0200</td>\n      <td>Bundesregierung bestätigt Hacker-Angriffe auf ...</td>\n      <td>Die Bundesregierung hat eine Serie von Cyberan...</td>\n    </tr>\n    <tr>\n      <th>16</th>\n      <td>Mon, 09 May 2022 15:23:09 +0200</td>\n      <td>BioNTech verdreifacht Gewinn und Umsatz</td>\n      <td>BioNTech profitiert weiter von der starken Nac...</td>\n    </tr>\n    <tr>\n      <th>17</th>\n      <td>Mon, 09 May 2022 15:19:10 +0200</td>\n      <td>Fernzüge der Deutschen Bahn im April häufig ve...</td>\n      <td>Der Anteil pünktlicher ICE- und IC-Züge der De...</td>\n    </tr>\n    <tr>\n      <th>18</th>\n      <td>Mon, 09 May 2022 14:54:03 +0200</td>\n      <td>Interview zur Putin-Rede: \"Interessant, was er...</td>\n      <td>Putins Rede zum 9. Mai sei \"bemerkenswert\" gew...</td>\n    </tr>\n    <tr>\n      <th>19</th>\n      <td>Mon, 09 May 2022 14:35:55 +0200</td>\n      <td>Beitrittsantrag aus Kiew: EU will der Ukraine ...</td>\n      <td>Die Ukraine strebt eine schnelle EU-Mitgliedsc...</td>\n    </tr>\n    <tr>\n      <th>20</th>\n      <td>Mon, 09 May 2022 13:58:11 +0200</td>\n      <td>Schleswig-Holstein: Wer darf mit Günther regie...</td>\n      <td>Nach dem deutlichen Sieg der CDU bei der Landt...</td>\n    </tr>\n    <tr>\n      <th>21</th>\n      <td>Mon, 09 May 2022 13:53:35 +0200</td>\n      <td>Putin begründet Angriff auf Ukraine als Selbst...</td>\n      <td>Schuld am Einmarsch in der Ukraine ist der Wes...</td>\n    </tr>\n    <tr>\n      <th>22</th>\n      <td>Mon, 09 May 2022 13:45:37 +0200</td>\n      <td>Weltkriegs-Gedenken in Berlin: Flaggen-Verbot ...</td>\n      <td>Beim Gedenken an die Opfer des Zweiten Weltkri...</td>\n    </tr>\n    <tr>\n      <th>23</th>\n      <td>Mon, 09 May 2022 13:44:18 +0200</td>\n      <td>Nach Protesten: Regierungschef von Sri Lanka t...</td>\n      <td>Der Ministerpräsident des Inselstaats Sri Lank...</td>\n    </tr>\n    <tr>\n      <th>24</th>\n      <td>Mon, 09 May 2022 12:59:22 +0200</td>\n      <td>Foodwatch fordert Maßnahmen gegen Rohstoffspek...</td>\n      <td>Weltweit steigen die Preise für Lebensmittel r...</td>\n    </tr>\n    <tr>\n      <th>25</th>\n      <td>Mon, 09 May 2022 12:27:51 +0200</td>\n      <td>Bundesliga: Haaland wechselt offenbar zu Manch...</td>\n      <td>Jetzt ist der Transfer wohl nicht mehr zu verh...</td>\n    </tr>\n    <tr>\n      <th>26</th>\n      <td>Mon, 09 May 2022 12:15:35 +0200</td>\n      <td>Wahl in Südossetien - Denkzettel für Moskau</td>\n      <td>In der von Georgien abtrünnigen Region Südosse...</td>\n    </tr>\n    <tr>\n      <th>27</th>\n      <td>Mon, 09 May 2022 12:05:30 +0200</td>\n      <td>Produktion von Fleischersatzprodukten wächst w...</td>\n      <td>Der Markt für vegetarische oder vegane Alterna...</td>\n    </tr>\n    <tr>\n      <th>28</th>\n      <td>Mon, 09 May 2022 11:55:23 +0200</td>\n      <td>Schleswig-Holstein: Erleichterung über Aussche...</td>\n      <td>Die AfD ist in Schleswig-Holstein an der Fünf-...</td>\n    </tr>\n    <tr>\n      <th>29</th>\n      <td>Mon, 09 May 2022 11:41:51 +0200</td>\n      <td>Deutsche Schiffe retten 122 Menschen im Mittel...</td>\n      <td>Zwei deutsche Rettungsschiffe haben am Wochene...</td>\n    </tr>\n    <tr>\n      <th>30</th>\n      <td>Mon, 09 May 2022 11:17:46 +0200</td>\n      <td>Warum US-Streamingdienst Netflix in der Krise ...</td>\n      <td>Die Zahl der Netflix-Abonnenten ist erstmals s...</td>\n    </tr>\n    <tr>\n      <th>31</th>\n      <td>Mon, 09 May 2022 10:51:07 +0200</td>\n      <td>Ende des Zweiten Weltkriegs: Wie die Ukraine a...</td>\n      <td>In der Ukraine erinnern sich die Menschen an d...</td>\n    </tr>\n    <tr>\n      <th>32</th>\n      <td>Mon, 09 May 2022 10:31:36 +0200</td>\n      <td>Ukraine-Liveblog: ++ Litauens Außenminister fo...</td>\n      <td>Der litauische Außenminister Landsbergis forde...</td>\n    </tr>\n    <tr>\n      <th>33</th>\n      <td>Mon, 09 May 2022 10:21:46 +0200</td>\n      <td>Wahl auf den Philippinen: Tote bei Anschlag au...</td>\n      <td>Bei einem Angriff auf ein Wahllokal auf den Ph...</td>\n    </tr>\n    <tr>\n      <th>34</th>\n      <td>Mon, 09 May 2022 10:21:22 +0200</td>\n      <td>Rede zum \"Tag des Sieges\": \"Der Westen plante ...</td>\n      <td>Bei seiner Rede zum \"Tag des Sieges\" in Moskau...</td>\n    </tr>\n    <tr>\n      <th>35</th>\n      <td>Mon, 09 May 2022 10:04:36 +0200</td>\n      <td>Der Homeoffice-Boom geht weiter</td>\n      <td>Auch nach der Lockerung vieler Corona-Maßnahme...</td>\n    </tr>\n    <tr>\n      <th>36</th>\n      <td>Mon, 09 May 2022 09:28:58 +0200</td>\n      <td>Kaufverhalten der Deutschen seit Kriegsausbruc...</td>\n      <td>Das Kaufverhalten der Deutschen hat sich durch...</td>\n    </tr>\n    <tr>\n      <th>37</th>\n      <td>Mon, 09 May 2022 09:14:15 +0200</td>\n      <td>Reaktionen auf Scholz-Rede: Kritik und eine Ve...</td>\n      <td>Nichts Neues und wenig Konkretes - der ukraini...</td>\n    </tr>\n    <tr>\n      <th>38</th>\n      <td>Mon, 09 May 2022 08:55:19 +0200</td>\n      <td>Wachstum stark verlangsamt: Chinas Außenhandel...</td>\n      <td>Der chinesische Außenhandel wächst so langsam ...</td>\n    </tr>\n    <tr>\n      <th>39</th>\n      <td>Mon, 09 May 2022 08:47:23 +0200</td>\n      <td>Verkehrsminister lässt längere E-Auto-Kaufpräm...</td>\n      <td>Damit die Verkehrswende in Deutschland gelingt...</td>\n    </tr>\n  </tbody>\n</table>\n</div>"
     },
     "execution_count": 93,
     "metadata": {},
     "output_type": "execute_result"
    }
   ],
   "source": [
    "# create two empty lists\n",
    "descriptions = []\n",
    "\n",
    "# go through all item elements in the tree\n",
    "for item in tagesschau.findall('.//item'):\n",
    "  # extract descriptions\n",
    "  descriptions.append( item.find('.//description').text )\n",
    "\n",
    "# create a dataframe containing the two columns\n",
    "tagesschau_df[\"descriptions\"] = descriptions\n",
    "\n",
    "tagesschau_df"
   ]
  },
  {
   "cell_type": "markdown",
   "metadata": {},
   "source": [
    "✏️ *If you are curious you can also try out 🥣 **BeautifulSoup** to create the same DataFrame.*"
   ]
  },
  {
   "cell_type": "code",
   "execution_count": 94,
   "metadata": {},
   "outputs": [
    {
     "data": {
      "text/plain": "'content = []\\n# Read the XML file\\nwith open(tagesschau_xml) as fp:\\n    soup = BeautifulSoup(fp, \\'lxml\\')\\n\\nresult = content.find_all(\"pubDate\")\\nprint(result)'"
     },
     "execution_count": 94,
     "metadata": {},
     "output_type": "execute_result"
    }
   ],
   "source": [
    "from bs4 import BeautifulSoup\n",
    "\n",
    "#for later\n",
    "\"\"\"content = []\n",
    "# Read the XML file\n",
    "with open(tagesschau_xml) as fp:\n",
    "    soup = BeautifulSoup(fp, 'lxml')\n",
    "\n",
    "result = content.find_all(\"pubDate\")\n",
    "print(result)\"\"\""
   ]
  },
  {
   "cell_type": "code",
   "execution_count": 94,
   "metadata": {},
   "outputs": [],
   "source": []
  },
  {
   "cell_type": "markdown",
   "metadata": {},
   "source": [
    "### Examining\n",
    "\n",
    "You are now able to load and parse data from several formats. At this point, there are plenty of ways to inspect these datasets. We are going to try some simple methods to peek around the datasets. Once you have a tabular dataset ready as a DataFrame, there are quite a few convenient methods to view and explore its contents."
   ]
  },
  {
   "cell_type": "markdown",
   "metadata": {},
   "source": [
    "#### Head & tail\n",
    "\n",
    "You could start with looking at the beginning of the dataset with `head()`:"
   ]
  },
  {
   "cell_type": "code",
   "execution_count": 95,
   "metadata": {},
   "outputs": [
    {
     "data": {
      "text/plain": "                 Entity  Year  \\\n0  Ages 10 to 13 (male)  1900   \n1  Ages 10 to 13 (male)  1910   \n2  Ages 10 to 13 (male)  1920   \n3  Ages 10 to 13 (male)  1930   \n4  Ages 10 to 13 (male)  1940   \n\n   Average weekly hours worked per person by demographic group (Ramey and Francis (2009))  \\\n0                                                7.7                                        \n1                                                5.4                                        \n2                                                2.1                                        \n3                                                1.2                                        \n4                                                0.0                                        \n\n   Average weekly hours devoted to school (Ramey and Francis (2009))  \\\n0                                                NaN                   \n1                                                NaN                   \n2                                                NaN                   \n3                                                NaN                   \n4                                                NaN                   \n\n   Weekly home production time by demographic group (Ramey and Francis (2009))  \\\n0                                                NaN                             \n1                                                NaN                             \n2                                                NaN                             \n3                                                NaN                             \n4                                                NaN                             \n\n   Average weekly leisure estimates by age (Ramey and Francis (2009))  \n0                                                NaN                   \n1                                                NaN                   \n2                                                NaN                   \n3                                                NaN                   \n4                                                NaN                   ",
      "text/html": "<div>\n<style scoped>\n    .dataframe tbody tr th:only-of-type {\n        vertical-align: middle;\n    }\n\n    .dataframe tbody tr th {\n        vertical-align: top;\n    }\n\n    .dataframe thead th {\n        text-align: right;\n    }\n</style>\n<table border=\"1\" class=\"dataframe\">\n  <thead>\n    <tr style=\"text-align: right;\">\n      <th></th>\n      <th>Entity</th>\n      <th>Year</th>\n      <th>Average weekly hours worked per person by demographic group (Ramey and Francis (2009))</th>\n      <th>Average weekly hours devoted to school (Ramey and Francis (2009))</th>\n      <th>Weekly home production time by demographic group (Ramey and Francis (2009))</th>\n      <th>Average weekly leisure estimates by age (Ramey and Francis (2009))</th>\n    </tr>\n  </thead>\n  <tbody>\n    <tr>\n      <th>0</th>\n      <td>Ages 10 to 13 (male)</td>\n      <td>1900</td>\n      <td>7.7</td>\n      <td>NaN</td>\n      <td>NaN</td>\n      <td>NaN</td>\n    </tr>\n    <tr>\n      <th>1</th>\n      <td>Ages 10 to 13 (male)</td>\n      <td>1910</td>\n      <td>5.4</td>\n      <td>NaN</td>\n      <td>NaN</td>\n      <td>NaN</td>\n    </tr>\n    <tr>\n      <th>2</th>\n      <td>Ages 10 to 13 (male)</td>\n      <td>1920</td>\n      <td>2.1</td>\n      <td>NaN</td>\n      <td>NaN</td>\n      <td>NaN</td>\n    </tr>\n    <tr>\n      <th>3</th>\n      <td>Ages 10 to 13 (male)</td>\n      <td>1930</td>\n      <td>1.2</td>\n      <td>NaN</td>\n      <td>NaN</td>\n      <td>NaN</td>\n    </tr>\n    <tr>\n      <th>4</th>\n      <td>Ages 10 to 13 (male)</td>\n      <td>1940</td>\n      <td>0.0</td>\n      <td>NaN</td>\n      <td>NaN</td>\n      <td>NaN</td>\n    </tr>\n  </tbody>\n</table>\n</div>"
     },
     "execution_count": 95,
     "metadata": {},
     "output_type": "execute_result"
    }
   ],
   "source": [
    "owid_data.head()"
   ]
  },
  {
   "cell_type": "markdown",
   "metadata": {},
   "source": [
    "✏️ *What do you think happens, when you replace `head()` with `tail()` ?*"
   ]
  },
  {
   "cell_type": "code",
   "execution_count": 96,
   "metadata": {},
   "outputs": [
    {
     "data": {
      "text/plain": "               Entity  Year  \\\n295  Ages 65+ (total)  1970   \n296  Ages 65+ (total)  1980   \n297  Ages 65+ (total)  1990   \n298  Ages 65+ (total)  2000   \n299  Ages 65+ (total)  2005   \n\n     Average weekly hours worked per person by demographic group (Ramey and Francis (2009))  \\\n295                                                4.8                                        \n296                                                3.2                                        \n297                                                3.3                                        \n298                                                3.6                                        \n299                                                4.2                                        \n\n     Average weekly hours devoted to school (Ramey and Francis (2009))  \\\n295                                                NaN                   \n296                                                NaN                   \n297                                                NaN                   \n298                                                NaN                   \n299                                                NaN                   \n\n     Weekly home production time by demographic group (Ramey and Francis (2009))  \\\n295                                          26.200001                             \n296                                          24.100000                             \n297                                          25.100000                             \n298                                          26.100000                             \n299                                          24.700001                             \n\n     Average weekly leisure estimates by age (Ramey and Francis (2009))  \n295                                          59.500000                   \n296                                          63.400002                   \n297                                          62.400002                   \n298                                          60.900002                   \n299                                          61.700001                   ",
      "text/html": "<div>\n<style scoped>\n    .dataframe tbody tr th:only-of-type {\n        vertical-align: middle;\n    }\n\n    .dataframe tbody tr th {\n        vertical-align: top;\n    }\n\n    .dataframe thead th {\n        text-align: right;\n    }\n</style>\n<table border=\"1\" class=\"dataframe\">\n  <thead>\n    <tr style=\"text-align: right;\">\n      <th></th>\n      <th>Entity</th>\n      <th>Year</th>\n      <th>Average weekly hours worked per person by demographic group (Ramey and Francis (2009))</th>\n      <th>Average weekly hours devoted to school (Ramey and Francis (2009))</th>\n      <th>Weekly home production time by demographic group (Ramey and Francis (2009))</th>\n      <th>Average weekly leisure estimates by age (Ramey and Francis (2009))</th>\n    </tr>\n  </thead>\n  <tbody>\n    <tr>\n      <th>295</th>\n      <td>Ages 65+ (total)</td>\n      <td>1970</td>\n      <td>4.8</td>\n      <td>NaN</td>\n      <td>26.200001</td>\n      <td>59.500000</td>\n    </tr>\n    <tr>\n      <th>296</th>\n      <td>Ages 65+ (total)</td>\n      <td>1980</td>\n      <td>3.2</td>\n      <td>NaN</td>\n      <td>24.100000</td>\n      <td>63.400002</td>\n    </tr>\n    <tr>\n      <th>297</th>\n      <td>Ages 65+ (total)</td>\n      <td>1990</td>\n      <td>3.3</td>\n      <td>NaN</td>\n      <td>25.100000</td>\n      <td>62.400002</td>\n    </tr>\n    <tr>\n      <th>298</th>\n      <td>Ages 65+ (total)</td>\n      <td>2000</td>\n      <td>3.6</td>\n      <td>NaN</td>\n      <td>26.100000</td>\n      <td>60.900002</td>\n    </tr>\n    <tr>\n      <th>299</th>\n      <td>Ages 65+ (total)</td>\n      <td>2005</td>\n      <td>4.2</td>\n      <td>NaN</td>\n      <td>24.700001</td>\n      <td>61.700001</td>\n    </tr>\n  </tbody>\n</table>\n</div>"
     },
     "execution_count": 96,
     "metadata": {},
     "output_type": "execute_result"
    }
   ],
   "source": [
    "owid_data.tail()"
   ]
  },
  {
   "cell_type": "markdown",
   "metadata": {},
   "source": [
    "#### Describe & info\n",
    "\n",
    "You can also ask Pandas to provide some statistical descriptions (which are only applied to the columns containing numeric data):"
   ]
  },
  {
   "cell_type": "code",
   "execution_count": 97,
   "metadata": {},
   "outputs": [
    {
     "data": {
      "text/plain": "              Year  \\\ncount   300.000000   \nmean   1954.583333   \nstd      33.934962   \nmin    1900.000000   \n25%    1927.500000   \n50%    1955.000000   \n75%    1982.500000   \nmax    2005.000000   \n\n       Average weekly hours worked per person by demographic group (Ramey and Francis (2009))  \\\ncount                                         252.000000                                        \nmean                                           17.164682                                        \nstd                                            13.301397                                        \nmin                                             0.000000                                        \n25%                                             4.500000                                        \n50%                                            16.400000                                        \n75%                                            26.799999                                        \nmax                                            50.799999                                        \n\n       Average weekly hours devoted to school (Ramey and Francis (2009))  \\\ncount                                          60.000000                   \nmean                                            6.671667                   \nstd                                             6.604880                   \nmin                                             0.800000                   \n25%                                             2.075000                   \n50%                                             3.800000                   \n75%                                             8.150000                   \nmax                                            24.000000                   \n\n       Weekly home production time by demographic group (Ramey and Francis (2009))  \\\ncount                                         216.000000                             \nmean                                           20.767593                             \nstd                                            11.844738                             \nmin                                             3.700000                             \n25%                                            10.400000                             \n50%                                            20.950000                             \n75%                                            27.750001                             \nmax                                            50.400002                             \n\n       Average weekly leisure estimates by age (Ramey and Francis (2009))  \ncount                                          72.000000                   \nmean                                           43.893056                   \nstd                                             8.441570                   \nmin                                            31.600000                   \n25%                                            37.325001                   \n50%                                            41.400002                   \n75%                                            50.925000                   \nmax                                            63.400002                   ",
      "text/html": "<div>\n<style scoped>\n    .dataframe tbody tr th:only-of-type {\n        vertical-align: middle;\n    }\n\n    .dataframe tbody tr th {\n        vertical-align: top;\n    }\n\n    .dataframe thead th {\n        text-align: right;\n    }\n</style>\n<table border=\"1\" class=\"dataframe\">\n  <thead>\n    <tr style=\"text-align: right;\">\n      <th></th>\n      <th>Year</th>\n      <th>Average weekly hours worked per person by demographic group (Ramey and Francis (2009))</th>\n      <th>Average weekly hours devoted to school (Ramey and Francis (2009))</th>\n      <th>Weekly home production time by demographic group (Ramey and Francis (2009))</th>\n      <th>Average weekly leisure estimates by age (Ramey and Francis (2009))</th>\n    </tr>\n  </thead>\n  <tbody>\n    <tr>\n      <th>count</th>\n      <td>300.000000</td>\n      <td>252.000000</td>\n      <td>60.000000</td>\n      <td>216.000000</td>\n      <td>72.000000</td>\n    </tr>\n    <tr>\n      <th>mean</th>\n      <td>1954.583333</td>\n      <td>17.164682</td>\n      <td>6.671667</td>\n      <td>20.767593</td>\n      <td>43.893056</td>\n    </tr>\n    <tr>\n      <th>std</th>\n      <td>33.934962</td>\n      <td>13.301397</td>\n      <td>6.604880</td>\n      <td>11.844738</td>\n      <td>8.441570</td>\n    </tr>\n    <tr>\n      <th>min</th>\n      <td>1900.000000</td>\n      <td>0.000000</td>\n      <td>0.800000</td>\n      <td>3.700000</td>\n      <td>31.600000</td>\n    </tr>\n    <tr>\n      <th>25%</th>\n      <td>1927.500000</td>\n      <td>4.500000</td>\n      <td>2.075000</td>\n      <td>10.400000</td>\n      <td>37.325001</td>\n    </tr>\n    <tr>\n      <th>50%</th>\n      <td>1955.000000</td>\n      <td>16.400000</td>\n      <td>3.800000</td>\n      <td>20.950000</td>\n      <td>41.400002</td>\n    </tr>\n    <tr>\n      <th>75%</th>\n      <td>1982.500000</td>\n      <td>26.799999</td>\n      <td>8.150000</td>\n      <td>27.750001</td>\n      <td>50.925000</td>\n    </tr>\n    <tr>\n      <th>max</th>\n      <td>2005.000000</td>\n      <td>50.799999</td>\n      <td>24.000000</td>\n      <td>50.400002</td>\n      <td>63.400002</td>\n    </tr>\n  </tbody>\n</table>\n</div>"
     },
     "execution_count": 97,
     "metadata": {},
     "output_type": "execute_result"
    }
   ],
   "source": [
    "owid_data.describe()"
   ]
  },
  {
   "cell_type": "markdown",
   "metadata": {},
   "source": [
    "This may not seem that useful to you yet. You may want to know what kind of datatypes the different columns contain and how many values are present. For this the `info()` method will be of help:"
   ]
  },
  {
   "cell_type": "code",
   "execution_count": 98,
   "metadata": {},
   "outputs": [
    {
     "name": "stdout",
     "output_type": "stream",
     "text": [
      "<class 'pandas.core.frame.DataFrame'>\n",
      "RangeIndex: 300 entries, 0 to 299\n",
      "Data columns (total 6 columns):\n",
      " #   Column                                                                                  Non-Null Count  Dtype  \n",
      "---  ------                                                                                  --------------  -----  \n",
      " 0   Entity                                                                                  300 non-null    object \n",
      " 1   Year                                                                                    300 non-null    int64  \n",
      " 2   Average weekly hours worked per person by demographic group (Ramey and Francis (2009))  252 non-null    float64\n",
      " 3   Average weekly hours devoted to school (Ramey and Francis (2009))                       60 non-null     float64\n",
      " 4   Weekly home production time by demographic group (Ramey and Francis (2009))             216 non-null    float64\n",
      " 5   Average weekly leisure estimates by age (Ramey and Francis (2009))                      72 non-null     float64\n",
      "dtypes: float64(4), int64(1), object(1)\n",
      "memory usage: 14.2+ KB\n"
     ]
    }
   ],
   "source": [
    "owid_data.info()"
   ]
  },
  {
   "cell_type": "markdown",
   "metadata": {},
   "source": [
    "With this it is now possible to access specific columns by using their names.  But did you notice the long label for the first column? Let's rename the column `Retail & Recreation` into something short and sweet such as: `RR`:"
   ]
  },
  {
   "cell_type": "code",
   "execution_count": 99,
   "metadata": {},
   "outputs": [],
   "source": [
    "owid_data = owid_data.rename(columns={\"Average weekly leisure estimates by age (Ramey and Francis (2009))\": \"leisure\"})"
   ]
  },
  {
   "cell_type": "markdown",
   "metadata": {},
   "source": [
    "✏️ *Do you want to rename any other columns?*"
   ]
  },
  {
   "cell_type": "code",
   "execution_count": 100,
   "metadata": {},
   "outputs": [],
   "source": [
    "owid_data = owid_data.rename(columns={\"Average weekly hours worked per person by demographic group (Ramey and Francis (2009))\": \"work\", \"Average weekly leisure estimates by age (Ramey and Francis (2009))\": \"leisure\", \"Average weekly hours devoted to school (Ramey and Francis (2009))\": \"school\", \"Weekly home production time by demographic group (Ramey and Francis (2009))\": \"home-production\"})"
   ]
  },
  {
   "cell_type": "markdown",
   "metadata": {},
   "source": [
    "### Select & query\n",
    "We can select an individual column using single `[`square brackets`]`:"
   ]
  },
  {
   "cell_type": "code",
   "execution_count": 101,
   "metadata": {},
   "outputs": [
    {
     "data": {
      "text/plain": "0            NaN\n1            NaN\n2            NaN\n3            NaN\n4            NaN\n         ...    \n295    59.500000\n296    63.400002\n297    62.400002\n298    60.900002\n299    61.700001\nName: leisure, Length: 300, dtype: float64"
     },
     "execution_count": 101,
     "metadata": {},
     "output_type": "execute_result"
    }
   ],
   "source": [
    "owid_data[\"leisure\"]"
   ]
  },
  {
   "cell_type": "markdown",
   "metadata": {},
   "source": [
    "… and we can select multiple columns using nested `[[`square brackets`]]`:"
   ]
  },
  {
   "cell_type": "code",
   "execution_count": 102,
   "metadata": {},
   "outputs": [
    {
     "data": {
      "text/plain": "       leisure  Year\n0          NaN  1900\n1          NaN  1910\n2          NaN  1920\n3          NaN  1930\n4          NaN  1940\n..         ...   ...\n295  59.500000  1970\n296  63.400002  1980\n297  62.400002  1990\n298  60.900002  2000\n299  61.700001  2005\n\n[300 rows x 2 columns]",
      "text/html": "<div>\n<style scoped>\n    .dataframe tbody tr th:only-of-type {\n        vertical-align: middle;\n    }\n\n    .dataframe tbody tr th {\n        vertical-align: top;\n    }\n\n    .dataframe thead th {\n        text-align: right;\n    }\n</style>\n<table border=\"1\" class=\"dataframe\">\n  <thead>\n    <tr style=\"text-align: right;\">\n      <th></th>\n      <th>leisure</th>\n      <th>Year</th>\n    </tr>\n  </thead>\n  <tbody>\n    <tr>\n      <th>0</th>\n      <td>NaN</td>\n      <td>1900</td>\n    </tr>\n    <tr>\n      <th>1</th>\n      <td>NaN</td>\n      <td>1910</td>\n    </tr>\n    <tr>\n      <th>2</th>\n      <td>NaN</td>\n      <td>1920</td>\n    </tr>\n    <tr>\n      <th>3</th>\n      <td>NaN</td>\n      <td>1930</td>\n    </tr>\n    <tr>\n      <th>4</th>\n      <td>NaN</td>\n      <td>1940</td>\n    </tr>\n    <tr>\n      <th>...</th>\n      <td>...</td>\n      <td>...</td>\n    </tr>\n    <tr>\n      <th>295</th>\n      <td>59.500000</td>\n      <td>1970</td>\n    </tr>\n    <tr>\n      <th>296</th>\n      <td>63.400002</td>\n      <td>1980</td>\n    </tr>\n    <tr>\n      <th>297</th>\n      <td>62.400002</td>\n      <td>1990</td>\n    </tr>\n    <tr>\n      <th>298</th>\n      <td>60.900002</td>\n      <td>2000</td>\n    </tr>\n    <tr>\n      <th>299</th>\n      <td>61.700001</td>\n      <td>2005</td>\n    </tr>\n  </tbody>\n</table>\n<p>300 rows × 2 columns</p>\n</div>"
     },
     "execution_count": 102,
     "metadata": {},
     "output_type": "execute_result"
    }
   ],
   "source": [
    "owid_data[[\"leisure\", \"Year\"]]"
   ]
  },
  {
   "cell_type": "markdown",
   "metadata": {},
   "source": [
    "✏️ *Which columns interest you? Replace `RR` and `Entity` with other column labels* "
   ]
  },
  {
   "cell_type": "code",
   "execution_count": 109,
   "metadata": {},
   "outputs": [
    {
     "data": {
      "text/plain": "                    group  school\n0    Ages 10 to 13 (male)     NaN\n1    Ages 10 to 13 (male)     NaN\n2    Ages 10 to 13 (male)     NaN\n3    Ages 10 to 13 (male)     NaN\n4    Ages 10 to 13 (male)     NaN\n..                    ...     ...\n295      Ages 65+ (total)     NaN\n296      Ages 65+ (total)     NaN\n297      Ages 65+ (total)     NaN\n298      Ages 65+ (total)     NaN\n299      Ages 65+ (total)     NaN\n\n[300 rows x 2 columns]",
      "text/html": "<div>\n<style scoped>\n    .dataframe tbody tr th:only-of-type {\n        vertical-align: middle;\n    }\n\n    .dataframe tbody tr th {\n        vertical-align: top;\n    }\n\n    .dataframe thead th {\n        text-align: right;\n    }\n</style>\n<table border=\"1\" class=\"dataframe\">\n  <thead>\n    <tr style=\"text-align: right;\">\n      <th></th>\n      <th>group</th>\n      <th>school</th>\n    </tr>\n  </thead>\n  <tbody>\n    <tr>\n      <th>0</th>\n      <td>Ages 10 to 13 (male)</td>\n      <td>NaN</td>\n    </tr>\n    <tr>\n      <th>1</th>\n      <td>Ages 10 to 13 (male)</td>\n      <td>NaN</td>\n    </tr>\n    <tr>\n      <th>2</th>\n      <td>Ages 10 to 13 (male)</td>\n      <td>NaN</td>\n    </tr>\n    <tr>\n      <th>3</th>\n      <td>Ages 10 to 13 (male)</td>\n      <td>NaN</td>\n    </tr>\n    <tr>\n      <th>4</th>\n      <td>Ages 10 to 13 (male)</td>\n      <td>NaN</td>\n    </tr>\n    <tr>\n      <th>...</th>\n      <td>...</td>\n      <td>...</td>\n    </tr>\n    <tr>\n      <th>295</th>\n      <td>Ages 65+ (total)</td>\n      <td>NaN</td>\n    </tr>\n    <tr>\n      <th>296</th>\n      <td>Ages 65+ (total)</td>\n      <td>NaN</td>\n    </tr>\n    <tr>\n      <th>297</th>\n      <td>Ages 65+ (total)</td>\n      <td>NaN</td>\n    </tr>\n    <tr>\n      <th>298</th>\n      <td>Ages 65+ (total)</td>\n      <td>NaN</td>\n    </tr>\n    <tr>\n      <th>299</th>\n      <td>Ages 65+ (total)</td>\n      <td>NaN</td>\n    </tr>\n  </tbody>\n</table>\n<p>300 rows × 2 columns</p>\n</div>"
     },
     "execution_count": 109,
     "metadata": {},
     "output_type": "execute_result"
    }
   ],
   "source": [
    "owid_data = owid_data.rename(columns={\"Entity\": \"group\"})\n",
    "\n",
    "owid_data[[\"group\", \"school\"]]"
   ]
  },
  {
   "cell_type": "markdown",
   "metadata": {},
   "source": [
    "Note that the `leisure` column contains a lot of `NaN` - this stands for \"Not a Number\" and it means here that values are missing.\n",
    "\n",
    "In order to focus on the rows which do have missing data, we can squeeze in a requirement that we only want those rows, where the values in both above used columns are not missing, i.e., `notnull()`:"
   ]
  },
  {
   "cell_type": "code",
   "execution_count": 110,
   "metadata": {},
   "outputs": [
    {
     "data": {
      "text/plain": "       leisure  Year\n72   36.900002  1900\n73   36.099998  1910\n74   37.000000  1920\n75   39.500000  1930\n76   41.599998  1940\n..         ...   ...\n295  59.500000  1970\n296  63.400002  1980\n297  62.400002  1990\n298  60.900002  2000\n299  61.700001  2005\n\n[72 rows x 2 columns]",
      "text/html": "<div>\n<style scoped>\n    .dataframe tbody tr th:only-of-type {\n        vertical-align: middle;\n    }\n\n    .dataframe tbody tr th {\n        vertical-align: top;\n    }\n\n    .dataframe thead th {\n        text-align: right;\n    }\n</style>\n<table border=\"1\" class=\"dataframe\">\n  <thead>\n    <tr style=\"text-align: right;\">\n      <th></th>\n      <th>leisure</th>\n      <th>Year</th>\n    </tr>\n  </thead>\n  <tbody>\n    <tr>\n      <th>72</th>\n      <td>36.900002</td>\n      <td>1900</td>\n    </tr>\n    <tr>\n      <th>73</th>\n      <td>36.099998</td>\n      <td>1910</td>\n    </tr>\n    <tr>\n      <th>74</th>\n      <td>37.000000</td>\n      <td>1920</td>\n    </tr>\n    <tr>\n      <th>75</th>\n      <td>39.500000</td>\n      <td>1930</td>\n    </tr>\n    <tr>\n      <th>76</th>\n      <td>41.599998</td>\n      <td>1940</td>\n    </tr>\n    <tr>\n      <th>...</th>\n      <td>...</td>\n      <td>...</td>\n    </tr>\n    <tr>\n      <th>295</th>\n      <td>59.500000</td>\n      <td>1970</td>\n    </tr>\n    <tr>\n      <th>296</th>\n      <td>63.400002</td>\n      <td>1980</td>\n    </tr>\n    <tr>\n      <th>297</th>\n      <td>62.400002</td>\n      <td>1990</td>\n    </tr>\n    <tr>\n      <th>298</th>\n      <td>60.900002</td>\n      <td>2000</td>\n    </tr>\n    <tr>\n      <th>299</th>\n      <td>61.700001</td>\n      <td>2005</td>\n    </tr>\n  </tbody>\n</table>\n<p>72 rows × 2 columns</p>\n</div>"
     },
     "execution_count": 110,
     "metadata": {},
     "output_type": "execute_result"
    }
   ],
   "source": [
    "owid_data [owid_data[[\"leisure\", \"Year\"]].notnull().all(1) ] [[\"leisure\", \"Year\"]]"
   ]
  },
  {
   "cell_type": "markdown",
   "metadata": {},
   "source": [
    "✏️ *Formulate a query on another column:*"
   ]
  },
  {
   "cell_type": "code",
   "execution_count": 111,
   "metadata": {},
   "outputs": [
    {
     "data": {
      "text/plain": "        school  Year\n72    0.800000  1900\n73    1.200000  1910\n74    1.300000  1920\n75    1.700000  1930\n76    1.900000  1940\n77    1.800000  1950\n78    2.500000  1960\n79    3.500000  1970\n80    3.100000  1980\n81    2.600000  1990\n82    2.600000  2000\n83    2.700000  2005\n108   6.300000  1900\n109   9.700000  1910\n110  10.500000  1920\n111  13.900000  1930\n112  16.299999  1940\n113  18.400000  1950\n114  20.900000  1960\n115  22.299999  1970\n116  22.500000  1980\n117  23.700001  1990\n118  24.000000  2000\n119  24.000000  2005\n132   0.800000  1900\n133   2.100000  1910\n134   1.400000  1920\n135   2.200000  1930\n136   2.300000  1940\n137   1.800000  1950\n138   3.600000  1960\n139   5.500000  1970\n140   6.500000  1980\n141   8.300000  1990\n142   8.600000  2000\n143   9.300000  2005\n144   1.000000  1900\n145   2.000000  1910\n146   1.600000  1920\n147   2.700000  1930\n148   3.000000  1940\n149   4.000000  1950\n150   6.600000  1960\n151   8.400000  1970\n152   6.200000  1980\n153   6.800000  1990\n154   6.600000  2000\n155   6.800000  2005\n156   0.900000  1900\n157   2.000000  1910\n158   1.500000  1920\n159   2.500000  1930\n160   2.600000  1940\n161   2.900000  1950\n162   5.100000  1960\n163   6.900000  1970\n164   6.300000  1980\n165   7.600000  1990\n166   7.600000  2000\n167   8.100000  2005",
      "text/html": "<div>\n<style scoped>\n    .dataframe tbody tr th:only-of-type {\n        vertical-align: middle;\n    }\n\n    .dataframe tbody tr th {\n        vertical-align: top;\n    }\n\n    .dataframe thead th {\n        text-align: right;\n    }\n</style>\n<table border=\"1\" class=\"dataframe\">\n  <thead>\n    <tr style=\"text-align: right;\">\n      <th></th>\n      <th>school</th>\n      <th>Year</th>\n    </tr>\n  </thead>\n  <tbody>\n    <tr>\n      <th>72</th>\n      <td>0.800000</td>\n      <td>1900</td>\n    </tr>\n    <tr>\n      <th>73</th>\n      <td>1.200000</td>\n      <td>1910</td>\n    </tr>\n    <tr>\n      <th>74</th>\n      <td>1.300000</td>\n      <td>1920</td>\n    </tr>\n    <tr>\n      <th>75</th>\n      <td>1.700000</td>\n      <td>1930</td>\n    </tr>\n    <tr>\n      <th>76</th>\n      <td>1.900000</td>\n      <td>1940</td>\n    </tr>\n    <tr>\n      <th>77</th>\n      <td>1.800000</td>\n      <td>1950</td>\n    </tr>\n    <tr>\n      <th>78</th>\n      <td>2.500000</td>\n      <td>1960</td>\n    </tr>\n    <tr>\n      <th>79</th>\n      <td>3.500000</td>\n      <td>1970</td>\n    </tr>\n    <tr>\n      <th>80</th>\n      <td>3.100000</td>\n      <td>1980</td>\n    </tr>\n    <tr>\n      <th>81</th>\n      <td>2.600000</td>\n      <td>1990</td>\n    </tr>\n    <tr>\n      <th>82</th>\n      <td>2.600000</td>\n      <td>2000</td>\n    </tr>\n    <tr>\n      <th>83</th>\n      <td>2.700000</td>\n      <td>2005</td>\n    </tr>\n    <tr>\n      <th>108</th>\n      <td>6.300000</td>\n      <td>1900</td>\n    </tr>\n    <tr>\n      <th>109</th>\n      <td>9.700000</td>\n      <td>1910</td>\n    </tr>\n    <tr>\n      <th>110</th>\n      <td>10.500000</td>\n      <td>1920</td>\n    </tr>\n    <tr>\n      <th>111</th>\n      <td>13.900000</td>\n      <td>1930</td>\n    </tr>\n    <tr>\n      <th>112</th>\n      <td>16.299999</td>\n      <td>1940</td>\n    </tr>\n    <tr>\n      <th>113</th>\n      <td>18.400000</td>\n      <td>1950</td>\n    </tr>\n    <tr>\n      <th>114</th>\n      <td>20.900000</td>\n      <td>1960</td>\n    </tr>\n    <tr>\n      <th>115</th>\n      <td>22.299999</td>\n      <td>1970</td>\n    </tr>\n    <tr>\n      <th>116</th>\n      <td>22.500000</td>\n      <td>1980</td>\n    </tr>\n    <tr>\n      <th>117</th>\n      <td>23.700001</td>\n      <td>1990</td>\n    </tr>\n    <tr>\n      <th>118</th>\n      <td>24.000000</td>\n      <td>2000</td>\n    </tr>\n    <tr>\n      <th>119</th>\n      <td>24.000000</td>\n      <td>2005</td>\n    </tr>\n    <tr>\n      <th>132</th>\n      <td>0.800000</td>\n      <td>1900</td>\n    </tr>\n    <tr>\n      <th>133</th>\n      <td>2.100000</td>\n      <td>1910</td>\n    </tr>\n    <tr>\n      <th>134</th>\n      <td>1.400000</td>\n      <td>1920</td>\n    </tr>\n    <tr>\n      <th>135</th>\n      <td>2.200000</td>\n      <td>1930</td>\n    </tr>\n    <tr>\n      <th>136</th>\n      <td>2.300000</td>\n      <td>1940</td>\n    </tr>\n    <tr>\n      <th>137</th>\n      <td>1.800000</td>\n      <td>1950</td>\n    </tr>\n    <tr>\n      <th>138</th>\n      <td>3.600000</td>\n      <td>1960</td>\n    </tr>\n    <tr>\n      <th>139</th>\n      <td>5.500000</td>\n      <td>1970</td>\n    </tr>\n    <tr>\n      <th>140</th>\n      <td>6.500000</td>\n      <td>1980</td>\n    </tr>\n    <tr>\n      <th>141</th>\n      <td>8.300000</td>\n      <td>1990</td>\n    </tr>\n    <tr>\n      <th>142</th>\n      <td>8.600000</td>\n      <td>2000</td>\n    </tr>\n    <tr>\n      <th>143</th>\n      <td>9.300000</td>\n      <td>2005</td>\n    </tr>\n    <tr>\n      <th>144</th>\n      <td>1.000000</td>\n      <td>1900</td>\n    </tr>\n    <tr>\n      <th>145</th>\n      <td>2.000000</td>\n      <td>1910</td>\n    </tr>\n    <tr>\n      <th>146</th>\n      <td>1.600000</td>\n      <td>1920</td>\n    </tr>\n    <tr>\n      <th>147</th>\n      <td>2.700000</td>\n      <td>1930</td>\n    </tr>\n    <tr>\n      <th>148</th>\n      <td>3.000000</td>\n      <td>1940</td>\n    </tr>\n    <tr>\n      <th>149</th>\n      <td>4.000000</td>\n      <td>1950</td>\n    </tr>\n    <tr>\n      <th>150</th>\n      <td>6.600000</td>\n      <td>1960</td>\n    </tr>\n    <tr>\n      <th>151</th>\n      <td>8.400000</td>\n      <td>1970</td>\n    </tr>\n    <tr>\n      <th>152</th>\n      <td>6.200000</td>\n      <td>1980</td>\n    </tr>\n    <tr>\n      <th>153</th>\n      <td>6.800000</td>\n      <td>1990</td>\n    </tr>\n    <tr>\n      <th>154</th>\n      <td>6.600000</td>\n      <td>2000</td>\n    </tr>\n    <tr>\n      <th>155</th>\n      <td>6.800000</td>\n      <td>2005</td>\n    </tr>\n    <tr>\n      <th>156</th>\n      <td>0.900000</td>\n      <td>1900</td>\n    </tr>\n    <tr>\n      <th>157</th>\n      <td>2.000000</td>\n      <td>1910</td>\n    </tr>\n    <tr>\n      <th>158</th>\n      <td>1.500000</td>\n      <td>1920</td>\n    </tr>\n    <tr>\n      <th>159</th>\n      <td>2.500000</td>\n      <td>1930</td>\n    </tr>\n    <tr>\n      <th>160</th>\n      <td>2.600000</td>\n      <td>1940</td>\n    </tr>\n    <tr>\n      <th>161</th>\n      <td>2.900000</td>\n      <td>1950</td>\n    </tr>\n    <tr>\n      <th>162</th>\n      <td>5.100000</td>\n      <td>1960</td>\n    </tr>\n    <tr>\n      <th>163</th>\n      <td>6.900000</td>\n      <td>1970</td>\n    </tr>\n    <tr>\n      <th>164</th>\n      <td>6.300000</td>\n      <td>1980</td>\n    </tr>\n    <tr>\n      <th>165</th>\n      <td>7.600000</td>\n      <td>1990</td>\n    </tr>\n    <tr>\n      <th>166</th>\n      <td>7.600000</td>\n      <td>2000</td>\n    </tr>\n    <tr>\n      <th>167</th>\n      <td>8.100000</td>\n      <td>2005</td>\n    </tr>\n  </tbody>\n</table>\n</div>"
     },
     "execution_count": 111,
     "metadata": {},
     "output_type": "execute_result"
    }
   ],
   "source": [
    "owid_data [owid_data[[\"school\", \"Year\"]].notnull().all(1) ] [[\"school\", \"Year\"]]"
   ]
  },
  {
   "cell_type": "markdown",
   "metadata": {},
   "source": [
    "There are four related methods for accessing rows, columns, and specific values, either by integer positons (iloc and iat) or by the labels (that is what is displayed in bold above).\n",
    "\n",
    "- `loc`: access rows and columns by label\n",
    "- `iloc`: access rows and columns by integer position \n",
    "- `at`: access a single value for a row/column label pair\n",
    "- `iat`: access a single value for a row/column pair by integer position \n",
    "\n",
    "For example, this way we can get the first entry in the `owid_data` DataFrame: "
   ]
  },
  {
   "cell_type": "code",
   "execution_count": 112,
   "metadata": {},
   "outputs": [
    {
     "data": {
      "text/plain": "group              Ages 10 to 13 (male)\nYear                               1900\nwork                                7.7\nschool                              NaN\nhome-production                     NaN\nleisure                             NaN\nName: 0, dtype: object"
     },
     "execution_count": 112,
     "metadata": {},
     "output_type": "execute_result"
    }
   ],
   "source": [
    "owid_data.iloc[0]\n",
    "\n",
    "# because the index here uses integers, iloc and loc do the same"
   ]
  },
  {
   "cell_type": "markdown",
   "metadata": {},
   "source": [
    "Finally, you can also retrieve rows that match a query. With this we are retrieving the rows for women:"
   ]
  },
  {
   "cell_type": "code",
   "execution_count": 113,
   "metadata": {},
   "outputs": [
    {
     "data": {
      "text/plain": "                   group  Year  work\n12   Ages 10-13 (female)  1900   2.8\n13   Ages 10-13 (female)  1910   2.2\n14   Ages 10-13 (female)  1920   1.0\n15   Ages 10-13 (female)  1930   0.5\n16   Ages 10-13 (female)  1940   0.0\n..                   ...   ...   ...\n271    Ages 65+ (female)  1970   2.7\n272    Ages 65+ (female)  1980   1.9\n273    Ages 65+ (female)  1990   2.2\n274    Ages 65+ (female)  2000   2.4\n275    Ages 65+ (female)  2005   2.9\n\n[84 rows x 3 columns]",
      "text/html": "<div>\n<style scoped>\n    .dataframe tbody tr th:only-of-type {\n        vertical-align: middle;\n    }\n\n    .dataframe tbody tr th {\n        vertical-align: top;\n    }\n\n    .dataframe thead th {\n        text-align: right;\n    }\n</style>\n<table border=\"1\" class=\"dataframe\">\n  <thead>\n    <tr style=\"text-align: right;\">\n      <th></th>\n      <th>group</th>\n      <th>Year</th>\n      <th>work</th>\n    </tr>\n  </thead>\n  <tbody>\n    <tr>\n      <th>12</th>\n      <td>Ages 10-13 (female)</td>\n      <td>1900</td>\n      <td>2.8</td>\n    </tr>\n    <tr>\n      <th>13</th>\n      <td>Ages 10-13 (female)</td>\n      <td>1910</td>\n      <td>2.2</td>\n    </tr>\n    <tr>\n      <th>14</th>\n      <td>Ages 10-13 (female)</td>\n      <td>1920</td>\n      <td>1.0</td>\n    </tr>\n    <tr>\n      <th>15</th>\n      <td>Ages 10-13 (female)</td>\n      <td>1930</td>\n      <td>0.5</td>\n    </tr>\n    <tr>\n      <th>16</th>\n      <td>Ages 10-13 (female)</td>\n      <td>1940</td>\n      <td>0.0</td>\n    </tr>\n    <tr>\n      <th>...</th>\n      <td>...</td>\n      <td>...</td>\n      <td>...</td>\n    </tr>\n    <tr>\n      <th>271</th>\n      <td>Ages 65+ (female)</td>\n      <td>1970</td>\n      <td>2.7</td>\n    </tr>\n    <tr>\n      <th>272</th>\n      <td>Ages 65+ (female)</td>\n      <td>1980</td>\n      <td>1.9</td>\n    </tr>\n    <tr>\n      <th>273</th>\n      <td>Ages 65+ (female)</td>\n      <td>1990</td>\n      <td>2.2</td>\n    </tr>\n    <tr>\n      <th>274</th>\n      <td>Ages 65+ (female)</td>\n      <td>2000</td>\n      <td>2.4</td>\n    </tr>\n    <tr>\n      <th>275</th>\n      <td>Ages 65+ (female)</td>\n      <td>2005</td>\n      <td>2.9</td>\n    </tr>\n  </tbody>\n</table>\n<p>84 rows × 3 columns</p>\n</div>"
     },
     "execution_count": 113,
     "metadata": {},
     "output_type": "execute_result"
    }
   ],
   "source": [
    "#owid_data[owid_data['Entity'].str.contains('female')] [['Entity', \"Year\", \"Average weekly hours worked per person by demographic group (Ramey and Francis (2009))\"]]\n",
    "\n",
    "owid_data[owid_data['group'].str.contains('female')] [['group', \"Year\", \"work\"]]"
   ]
  },
  {
   "cell_type": "markdown",
   "metadata": {},
   "source": [
    "### Merge DataFrames"
   ]
  },
  {
   "cell_type": "markdown",
   "metadata": {},
   "source": [
    "Let's join some DataFrames. Lets look closer at the *anonymous* and *user* edits of the wikipedia article of `Amy_Coney_Barrett`."
   ]
  },
  {
   "cell_type": "code",
   "execution_count": 114,
   "metadata": {},
   "outputs": [],
   "source": [
    "import json\n",
    "import matplotlib.pyplot as plt\n",
    "import datetime\n",
    "\n",
    "headers = {\n",
    "    'User-Agent': 'https://github.com/YOURUSERNAME',\n",
    "    'From': 'YOURMAIL'\n",
    "}\n",
    "\n",
    "# Edpoint for getting Edits per Page\n",
    "ep1 = 'https://wikimedia.org/api/rest_v1/metrics/edits/per-page/en.wikipedia/Amy_Coney_Barrett/anonymous/daily/20200901/20201030'\n",
    "ep2 = 'https://wikimedia.org/api/rest_v1/metrics/edits/per-page/en.wikipedia/Amy_Coney_Barrett/user/daily/20200901/20201030'\n",
    "\n",
    "call1 = requests.get(ep1, headers=headers)\n",
    "response1 = call1.json()\n",
    "\n",
    "call2 = requests.get(ep2, headers=headers)\n",
    "response2 = call2.json()"
   ]
  },
  {
   "cell_type": "markdown",
   "metadata": {},
   "source": [
    "Now as we have the data, we need to extract the actual results and then `merge` the DataFrames. Check out what is meant by `left`, `right`, `inner` and `outer` -->  https://pandas.pydata.org/pandas-docs/stable/reference/api/pandas.DataFrame.merge.html"
   ]
  },
  {
   "cell_type": "code",
   "execution_count": 115,
   "metadata": {},
   "outputs": [],
   "source": [
    "anon_data = pd.json_normalize(response1, ['items', 'results'])\n",
    "user_data = pd.json_normalize(response2, ['items', 'results'])"
   ]
  },
  {
   "cell_type": "code",
   "execution_count": 121,
   "metadata": {},
   "outputs": [],
   "source": [
    "merged_data = pd.merge(anon_data, user_data, on='timestamp', how='outer')\n",
    "merged_data = merged_data.rename(columns={\"edits_x\": \"anonymous edits\", \"edits_y\": \"user edits\"})"
   ]
  },
  {
   "cell_type": "code",
   "execution_count": 123,
   "metadata": {},
   "outputs": [],
   "source": [
    "merged_data['timestamp'] = pd.to_datetime(merged_data['timestamp'])"
   ]
  },
  {
   "cell_type": "code",
   "execution_count": 125,
   "metadata": {},
   "outputs": [
    {
     "data": {
      "text/plain": "<Figure size 432x288 with 1 Axes>",
      "image/png": "[encoded data removed]"
     },
     "metadata": {
      "needs_background": "light"
     },
     "output_type": "display_data"
    }
   ],
   "source": [
    "plt.plot(merged_data['timestamp'], merged_data['user edits'], color=\"gray\")\n",
    "plt.plot(merged_data['timestamp'], merged_data['anonymous edits'], color=\"red\")\n",
    "plt.xticks(rotation=90)\n",
    "plt.legend([\"user edits\", \"anonymous edits\"])\n",
    "plt.show()"
   ]
  },
  {
   "cell_type": "code",
   "execution_count": null,
   "outputs": [],
   "source": [],
   "metadata": {
    "collapsed": false,
    "pycharm": {
     "name": "#%%\n"
    }
   }
  },
  {
   "cell_type": "markdown",
   "metadata": {},
   "source": [
    "# ⚠️ Wikipedia Edits Plot\n",
    "✏️ *Now it's time for a challenge!*\n",
    "\n",
    "Try to visualize user edits and anonymous edits of two Wikipedia language versions of an article of your choice. We probably use more Wikipedia and wikidata during the next exercises, so it's worth getting familiar."
   ]
  },
  {
   "cell_type": "code",
   "execution_count": 159,
   "metadata": {},
   "outputs": [],
   "source": [
    "#fetch_data\n",
    "headers = {\n",
    "    'User-Agent': 'https://github.com/YOURUSERNAME',\n",
    "    'From': 'YOURMAIL'\n",
    "}\n",
    "\n",
    "# Edpoint for getting Edits per Page\n",
    "ep_en_anon = 'https://wikimedia.org/api/rest_v1/metrics/edits/per-page/en.wikipedia/Data_Science/anonymous/daily/20150101/20160101'\n",
    "\n",
    "ep_de_anon = 'https://wikimedia.org/api/rest_v1/metrics/edits/per-page/de.wikipedia/Data_Science/anonymous/daily/20150101/20160101'\n",
    "\n",
    "ep_en_user = 'https://wikimedia.org/api/rest_v1/metrics/edits/per-page/en.wikipedia/Data_Science/user/daily/20150101/20160101'\n",
    "\n",
    "ep_de_user = 'https://wikimedia.org/api/rest_v1/metrics/edits/per-page/de.wikipedia/Data_Science/user/daily/20150101/20160101'\n",
    "\n",
    "call_en_anon = requests.get(ep_en_anon, headers=headers)\n",
    "response_en_anon = call_en_anon.json()\n",
    "\n",
    "call_de_anon = requests.get(ep_de_anon, headers=headers)\n",
    "response_de_anon = call_de_anon.json()\n",
    "\n",
    "call_en_user = requests.get(ep_en_user, headers=headers)\n",
    "response_en_user = call_en_user.json()\n",
    "\n",
    "call_de_anon = requests.get(ep_de_user, headers=headers)\n",
    "response_de_user = call_de_anon.json()"
   ]
  },
  {
   "cell_type": "code",
   "execution_count": 160,
   "outputs": [],
   "source": [
    "#merge\n",
    "\n",
    "en_anon_data = pd.json_normalize(response_en_anon, ['items', 'results'])\n",
    "de_anon_data = pd.json_normalize(response_de_anon, ['items', 'results'])\n",
    "en_user_data = pd.json_normalize(response_en_user, ['items', 'results'])\n",
    "de_user_data = pd.json_normalize(response_de_user, ['items', 'results'])\n",
    "\n",
    "merged_data = pd.merge(en_anon_data, de_anon_data, on='timestamp', how='outer')\n",
    "merged_data = merged_data.rename(columns={\"edits_x\": \"anonymous edits en\", \"edits_y\": \"anonymous edits de\"})\n",
    "\n",
    "merged_data = pd.merge(merged_data, en_user_data, on='timestamp', how='outer')\n",
    "merged_data = pd.merge(merged_data, de_user_data, on='timestamp', how='outer')\n",
    "merged_data = merged_data.rename(columns={\"edits_x\": \"user edits en\", \"edits_y\": \"user edits de\"})\n",
    "\n",
    "merged_data['timestamp'] = pd.to_datetime(merged_data['timestamp'])"
   ],
   "metadata": {
    "collapsed": false,
    "pycharm": {
     "name": "#%%\n"
    }
   }
  },
  {
   "cell_type": "code",
   "execution_count": 161,
   "outputs": [
    {
     "data": {
      "text/plain": "<Response [200]>"
     },
     "execution_count": 161,
     "metadata": {},
     "output_type": "execute_result"
    }
   ],
   "source": [
    "call_en_anon"
   ],
   "metadata": {
    "collapsed": false,
    "pycharm": {
     "name": "#%%\n"
    }
   }
  },
  {
   "cell_type": "code",
   "execution_count": 162,
   "outputs": [
    {
     "data": {
      "text/plain": "                    timestamp  anonymous edits en  anonymous edits de  \\\n0   2015-01-01 00:00:00+00:00                   0                   0   \n1   2015-01-02 00:00:00+00:00                   0                   0   \n2   2015-01-03 00:00:00+00:00                   0                   0   \n3   2015-01-04 00:00:00+00:00                   0                   0   \n4   2015-01-05 00:00:00+00:00                   0                   0   \n..                        ...                 ...                 ...   \n360 2015-12-27 00:00:00+00:00                   0                   0   \n361 2015-12-28 00:00:00+00:00                   0                   0   \n362 2015-12-29 00:00:00+00:00                   0                   0   \n363 2015-12-30 00:00:00+00:00                   0                   0   \n364 2015-12-31 00:00:00+00:00                   0                   0   \n\n     user edits en  user edits de  \n0                0              0  \n1                0              0  \n2                0              0  \n3                0              0  \n4                0              0  \n..             ...            ...  \n360              0              0  \n361              0              0  \n362              0              0  \n363              0              0  \n364              0              0  \n\n[365 rows x 5 columns]",
      "text/html": "<div>\n<style scoped>\n    .dataframe tbody tr th:only-of-type {\n        vertical-align: middle;\n    }\n\n    .dataframe tbody tr th {\n        vertical-align: top;\n    }\n\n    .dataframe thead th {\n        text-align: right;\n    }\n</style>\n<table border=\"1\" class=\"dataframe\">\n  <thead>\n    <tr style=\"text-align: right;\">\n      <th></th>\n      <th>timestamp</th>\n      <th>anonymous edits en</th>\n      <th>anonymous edits de</th>\n      <th>user edits en</th>\n      <th>user edits de</th>\n    </tr>\n  </thead>\n  <tbody>\n    <tr>\n      <th>0</th>\n      <td>2015-01-01 00:00:00+00:00</td>\n      <td>0</td>\n      <td>0</td>\n      <td>0</td>\n      <td>0</td>\n    </tr>\n    <tr>\n      <th>1</th>\n      <td>2015-01-02 00:00:00+00:00</td>\n      <td>0</td>\n      <td>0</td>\n      <td>0</td>\n      <td>0</td>\n    </tr>\n    <tr>\n      <th>2</th>\n      <td>2015-01-03 00:00:00+00:00</td>\n      <td>0</td>\n      <td>0</td>\n      <td>0</td>\n      <td>0</td>\n    </tr>\n    <tr>\n      <th>3</th>\n      <td>2015-01-04 00:00:00+00:00</td>\n      <td>0</td>\n      <td>0</td>\n      <td>0</td>\n      <td>0</td>\n    </tr>\n    <tr>\n      <th>4</th>\n      <td>2015-01-05 00:00:00+00:00</td>\n      <td>0</td>\n      <td>0</td>\n      <td>0</td>\n      <td>0</td>\n    </tr>\n    <tr>\n      <th>...</th>\n      <td>...</td>\n      <td>...</td>\n      <td>...</td>\n      <td>...</td>\n      <td>...</td>\n    </tr>\n    <tr>\n      <th>360</th>\n      <td>2015-12-27 00:00:00+00:00</td>\n      <td>0</td>\n      <td>0</td>\n      <td>0</td>\n      <td>0</td>\n    </tr>\n    <tr>\n      <th>361</th>\n      <td>2015-12-28 00:00:00+00:00</td>\n      <td>0</td>\n      <td>0</td>\n      <td>0</td>\n      <td>0</td>\n    </tr>\n    <tr>\n      <th>362</th>\n      <td>2015-12-29 00:00:00+00:00</td>\n      <td>0</td>\n      <td>0</td>\n      <td>0</td>\n      <td>0</td>\n    </tr>\n    <tr>\n      <th>363</th>\n      <td>2015-12-30 00:00:00+00:00</td>\n      <td>0</td>\n      <td>0</td>\n      <td>0</td>\n      <td>0</td>\n    </tr>\n    <tr>\n      <th>364</th>\n      <td>2015-12-31 00:00:00+00:00</td>\n      <td>0</td>\n      <td>0</td>\n      <td>0</td>\n      <td>0</td>\n    </tr>\n  </tbody>\n</table>\n<p>365 rows × 5 columns</p>\n</div>"
     },
     "execution_count": 162,
     "metadata": {},
     "output_type": "execute_result"
    }
   ],
   "source": [
    "merged_data"
   ],
   "metadata": {
    "collapsed": false,
    "pycharm": {
     "name": "#%%\n"
    }
   }
  },
  {
   "cell_type": "code",
   "execution_count": 163,
   "outputs": [
    {
     "data": {
      "text/plain": "<Figure size 432x288 with 1 Axes>",
      "image/png": "[encoded data removed]"
     },
     "metadata": {
      "needs_background": "light"
     },
     "output_type": "display_data"
    }
   ],
   "source": [
    "#plot\n",
    "\n",
    "plt.plot(merged_data['timestamp'], merged_data[\"anonymous edits en\"], color=\"blue\")\n",
    "plt.plot(merged_data['timestamp'], merged_data[\"anonymous edits de\"], color=\"green\")\n",
    "plt.plot(merged_data['timestamp'], merged_data[\"user edits en\"], color=\"red\")\n",
    "plt.plot(merged_data['timestamp'], merged_data[\"user edits de\"], color=\"orange\")\n",
    "plt.xticks(rotation=90)\n",
    "plt.legend([\"anonymous edits en\", \"anonymous edits de\", \"user edits en\", \"user edits de\", ])\n",
    "plt.show()"
   ],
   "metadata": {
    "collapsed": false,
    "pycharm": {
     "name": "#%%\n"
    }
   }
  },
  {
   "cell_type": "markdown",
   "metadata": {},
   "source": [
    "✏️ *Optional task using `covid_json`:*\n",
    "\n",
    "Try to visualize the positive cases per million over time for three countries of your choosing! There are several steps to it: First you need to convert the date column to a pandas date column using ```pd.to_datetime```, then you filter by the countries and finally you can visualize it."
   ]
  },
  {
   "cell_type": "code",
   "execution_count": null,
   "metadata": {},
   "outputs": [],
   "source": [
    "#for later\n",
    "\"\"\"\n",
    "\"\"\""
   ]
  },
  {
   "cell_type": "markdown",
   "metadata": {},
   "source": [
    "***\n",
    "\n",
    "#### Sources\n",
    "- [Pandas Tutorial: DataFrames in Python - DataCamp](https://www.datacamp.com/community/tutorials/pandas-tutorial-dataframe-python)\n",
    "- [Introduction to Pandas\n",
    "](https://www.ritchieng.com/pandas-introduction/)\n",
    "- [The ElementTree XML API](https://docs.python.org/2/library/xml.etree.elementtree.html)\n",
    "- [Where do Mayors Come From? Querying Wikidata with Python and SPARQL - Towards Data Science](https://towardsdatascience.com/where-do-mayors-come-from-querying-wikidata-with-python-and-sparql-91f3c0af22e2)\n",
    "- [Loading data: Drive, Sheets, and Google Cloud Storage](https://colab.research.google.com/notebooks/io.ipynb) \n",
    "- [Examining Data Using Pandas | Linux Journal](https://www.linuxjournal.com/content/examining-data-using-pandas)\n",
    "- [Wikimedia API](https://wikimedia.org/api/rest_v1/#/)\n",
    "- [The 7 most popular ways to plot data in Python](https://opensource.com/article/20/4/plot-data-python)\n",
    "- [Beautiful Soup Documentation](https://www.crummy.com/software/BeautifulSoup/bs4/doc/)"
   ]
  },
  {
   "cell_type": "markdown",
   "metadata": {},
   "source": [
    "***\n",
    "\n",
    "#### Credits\n",
    "\n",
    "This tutorial is adapted from the course [Data Visualization - Winter Term 2020/21](https://github.com/FUB-HCC/dataviz_course_2020) of HCC of Freie Universität Berlin. Many thanks to [Dr. Christoph Kinkeldey](https://www.mi.fu-berlin.de/en/inf/groups/hcc/members/postdocs/kinkeldey.html) and [Tim korjakow](https://github.com/wittenator). Please note: Originally, the couse was adapted from [Information Visualization - Summer Term 2020](https://infovis.fh-potsdam.de/tutorials/) of Marian Dörk by [Fachhochschule Potsdam](https://www.fh-potsdam.de/).\n",
    "\n",
    "Same as the original inventors, we release the notebooks under the [Creative Commons Attribution license (CC BY 4.0)](https://creativecommons.org/licenses/by/4.0/)."
   ]
  }
 ],
 "metadata": {
  "kernelspec": {
   "display_name": "Python 3 (ipykernel)",
   "language": "python",
   "name": "python3"
  },
  "language_info": {
   "codemirror_mode": {
    "name": "ipython",
    "version": 3
   },
   "file_extension": ".py",
   "mimetype": "text/x-python",
   "name": "python",
   "nbconvert_exporter": "python",
   "pygments_lexer": "ipython3",
   "version": "3.9.7"
  }
 },
 "nbformat": 4,
 "nbformat_minor": 4
}