{
 "cells": [
  {
   "cell_type": "code",
   "execution_count": 70,
   "id": "de4e5ee7",
   "metadata": {},
   "outputs": [],
   "source": [
    "# Importing required libraries.\n",
    "import pandas as pd\n",
    "import numpy as np\n",
    "import matplotlib.pyplot as plt\n",
    "\n",
    "# Visualization condition\n",
    "fig, ax = plt.subplots()\n",
    "%matplotlib inline "
   ]
  },
  {
   "cell_type": "code",
   "execution_count": 71,
   "id": "ce65b016",
   "metadata": {},
   "outputs": [
    {
     "data": {
      "text/html": [
       "<div>\n",
       "<style scoped>\n",
       "    .dataframe tbody tr th:only-of-type {\n",
       "        vertical-align: middle;\n",
       "    }\n",
       "\n",
       "    .dataframe tbody tr th {\n",
       "        vertical-align: top;\n",
       "    }\n",
       "\n",
       "    .dataframe thead th {\n",
       "        text-align: right;\n",
       "    }\n",
       "</style>\n",
       "<table border=\"1\" class=\"dataframe\">\n",
       "  <thead>\n",
       "    <tr style=\"text-align: right;\">\n",
       "      <th></th>\n",
       "      <th>CheckingAcc</th>\n",
       "      <th>Duration</th>\n",
       "      <th>CreditHistory</th>\n",
       "      <th>Purpose</th>\n",
       "      <th>CreditAmount</th>\n",
       "      <th>SavingsAcc</th>\n",
       "      <th>EmploymentStatus</th>\n",
       "      <th>InstallmentRate</th>\n",
       "      <th>PersonalStatus</th>\n",
       "      <th>OtherDebtors</th>\n",
       "      <th>...</th>\n",
       "      <th>Property</th>\n",
       "      <th>Age</th>\n",
       "      <th>OtherInstallment</th>\n",
       "      <th>Housing</th>\n",
       "      <th>ExistingCredits</th>\n",
       "      <th>Job</th>\n",
       "      <th>Dependents</th>\n",
       "      <th>Telephone</th>\n",
       "      <th>ResidenceStatus</th>\n",
       "      <th>CustomerType</th>\n",
       "    </tr>\n",
       "  </thead>\n",
       "  <tbody>\n",
       "    <tr>\n",
       "      <th>0</th>\n",
       "      <td>A11</td>\n",
       "      <td>6</td>\n",
       "      <td>A34</td>\n",
       "      <td>A43</td>\n",
       "      <td>1169</td>\n",
       "      <td>A65</td>\n",
       "      <td>A75</td>\n",
       "      <td>4</td>\n",
       "      <td>A93</td>\n",
       "      <td>A101</td>\n",
       "      <td>...</td>\n",
       "      <td>A121</td>\n",
       "      <td>67</td>\n",
       "      <td>A143</td>\n",
       "      <td>A152</td>\n",
       "      <td>2</td>\n",
       "      <td>A173</td>\n",
       "      <td>1</td>\n",
       "      <td>A192</td>\n",
       "      <td>A201</td>\n",
       "      <td>1</td>\n",
       "    </tr>\n",
       "    <tr>\n",
       "      <th>1</th>\n",
       "      <td>A12</td>\n",
       "      <td>48</td>\n",
       "      <td>A32</td>\n",
       "      <td>A43</td>\n",
       "      <td>5951</td>\n",
       "      <td>A61</td>\n",
       "      <td>A73</td>\n",
       "      <td>2</td>\n",
       "      <td>A92</td>\n",
       "      <td>A101</td>\n",
       "      <td>...</td>\n",
       "      <td>A121</td>\n",
       "      <td>22</td>\n",
       "      <td>A143</td>\n",
       "      <td>A152</td>\n",
       "      <td>1</td>\n",
       "      <td>A173</td>\n",
       "      <td>1</td>\n",
       "      <td>A191</td>\n",
       "      <td>A201</td>\n",
       "      <td>2</td>\n",
       "    </tr>\n",
       "    <tr>\n",
       "      <th>2</th>\n",
       "      <td>A14</td>\n",
       "      <td>12</td>\n",
       "      <td>A34</td>\n",
       "      <td>A46</td>\n",
       "      <td>2096</td>\n",
       "      <td>A61</td>\n",
       "      <td>A74</td>\n",
       "      <td>2</td>\n",
       "      <td>A93</td>\n",
       "      <td>A101</td>\n",
       "      <td>...</td>\n",
       "      <td>A121</td>\n",
       "      <td>49</td>\n",
       "      <td>A143</td>\n",
       "      <td>A152</td>\n",
       "      <td>1</td>\n",
       "      <td>A172</td>\n",
       "      <td>2</td>\n",
       "      <td>A191</td>\n",
       "      <td>A201</td>\n",
       "      <td>1</td>\n",
       "    </tr>\n",
       "    <tr>\n",
       "      <th>3</th>\n",
       "      <td>A11</td>\n",
       "      <td>42</td>\n",
       "      <td>A32</td>\n",
       "      <td>A42</td>\n",
       "      <td>7882</td>\n",
       "      <td>A61</td>\n",
       "      <td>A74</td>\n",
       "      <td>2</td>\n",
       "      <td>A93</td>\n",
       "      <td>A103</td>\n",
       "      <td>...</td>\n",
       "      <td>A122</td>\n",
       "      <td>45</td>\n",
       "      <td>A143</td>\n",
       "      <td>A153</td>\n",
       "      <td>1</td>\n",
       "      <td>A173</td>\n",
       "      <td>2</td>\n",
       "      <td>A191</td>\n",
       "      <td>A201</td>\n",
       "      <td>1</td>\n",
       "    </tr>\n",
       "    <tr>\n",
       "      <th>4</th>\n",
       "      <td>A11</td>\n",
       "      <td>24</td>\n",
       "      <td>A33</td>\n",
       "      <td>A40</td>\n",
       "      <td>4870</td>\n",
       "      <td>A61</td>\n",
       "      <td>A73</td>\n",
       "      <td>3</td>\n",
       "      <td>A93</td>\n",
       "      <td>A101</td>\n",
       "      <td>...</td>\n",
       "      <td>A124</td>\n",
       "      <td>53</td>\n",
       "      <td>A143</td>\n",
       "      <td>A153</td>\n",
       "      <td>2</td>\n",
       "      <td>A173</td>\n",
       "      <td>2</td>\n",
       "      <td>A191</td>\n",
       "      <td>A201</td>\n",
       "      <td>2</td>\n",
       "    </tr>\n",
       "  </tbody>\n",
       "</table>\n",
       "<p>5 rows × 21 columns</p>\n",
       "</div>"
      ],
      "text/plain": [
       "  CheckingAcc  Duration CreditHistory Purpose  CreditAmount SavingsAcc  \\\n",
       "0         A11         6           A34     A43          1169        A65   \n",
       "1         A12        48           A32     A43          5951        A61   \n",
       "2         A14        12           A34     A46          2096        A61   \n",
       "3         A11        42           A32     A42          7882        A61   \n",
       "4         A11        24           A33     A40          4870        A61   \n",
       "\n",
       "  EmploymentStatus  InstallmentRate PersonalStatus OtherDebtors  ...  \\\n",
       "0              A75                4            A93         A101  ...   \n",
       "1              A73                2            A92         A101  ...   \n",
       "2              A74                2            A93         A101  ...   \n",
       "3              A74                2            A93         A103  ...   \n",
       "4              A73                3            A93         A101  ...   \n",
       "\n",
       "   Property Age  OtherInstallment Housing ExistingCredits   Job Dependents  \\\n",
       "0      A121  67              A143    A152               2  A173          1   \n",
       "1      A121  22              A143    A152               1  A173          1   \n",
       "2      A121  49              A143    A152               1  A172          2   \n",
       "3      A122  45              A143    A153               1  A173          2   \n",
       "4      A124  53              A143    A153               2  A173          2   \n",
       "\n",
       "   Telephone ResidenceStatus CustomerType  \n",
       "0       A192            A201            1  \n",
       "1       A191            A201            2  \n",
       "2       A191            A201            1  \n",
       "3       A191            A201            1  \n",
       "4       A191            A201            2  \n",
       "\n",
       "[5 rows x 21 columns]"
      ]
     },
     "execution_count": 71,
     "metadata": {},
     "output_type": "execute_result"
    }
   ],
   "source": [
    "df = pd.read_csv('german_data.csv',sep=';')\n",
    "# To display the top 5 rows\n",
    "df.head(5)\n"
   ]
  },
  {
   "cell_type": "code",
   "execution_count": 4,
   "id": "98d25c7b",
   "metadata": {},
   "outputs": [
    {
     "data": {
      "text/html": [
       "<div>\n",
       "<style scoped>\n",
       "    .dataframe tbody tr th:only-of-type {\n",
       "        vertical-align: middle;\n",
       "    }\n",
       "\n",
       "    .dataframe tbody tr th {\n",
       "        vertical-align: top;\n",
       "    }\n",
       "\n",
       "    .dataframe thead th {\n",
       "        text-align: right;\n",
       "    }\n",
       "</style>\n",
       "<table border=\"1\" class=\"dataframe\">\n",
       "  <thead>\n",
       "    <tr style=\"text-align: right;\">\n",
       "      <th></th>\n",
       "      <th>CheckingAcc</th>\n",
       "      <th>Duration</th>\n",
       "      <th>CreditHistory</th>\n",
       "      <th>Purpose</th>\n",
       "      <th>CreditAmount</th>\n",
       "      <th>SavingsAcc</th>\n",
       "      <th>EmploymentStatus</th>\n",
       "      <th>InstallmentRate</th>\n",
       "      <th>PersonalStatus</th>\n",
       "      <th>OtherDebtors</th>\n",
       "      <th>...</th>\n",
       "      <th>Property</th>\n",
       "      <th>Age</th>\n",
       "      <th>OtherInstallment</th>\n",
       "      <th>Housing</th>\n",
       "      <th>ExistingCredits</th>\n",
       "      <th>Job</th>\n",
       "      <th>Dependents</th>\n",
       "      <th>Telephone</th>\n",
       "      <th>ResidenceStatus</th>\n",
       "      <th>CustomerType</th>\n",
       "    </tr>\n",
       "  </thead>\n",
       "  <tbody>\n",
       "    <tr>\n",
       "      <th>995</th>\n",
       "      <td>A14</td>\n",
       "      <td>12</td>\n",
       "      <td>A32</td>\n",
       "      <td>A42</td>\n",
       "      <td>1736</td>\n",
       "      <td>A61</td>\n",
       "      <td>A74</td>\n",
       "      <td>3</td>\n",
       "      <td>A92</td>\n",
       "      <td>A101</td>\n",
       "      <td>...</td>\n",
       "      <td>A121</td>\n",
       "      <td>31</td>\n",
       "      <td>A143</td>\n",
       "      <td>A152</td>\n",
       "      <td>1</td>\n",
       "      <td>A172</td>\n",
       "      <td>1</td>\n",
       "      <td>A191</td>\n",
       "      <td>A201</td>\n",
       "      <td>1</td>\n",
       "    </tr>\n",
       "    <tr>\n",
       "      <th>996</th>\n",
       "      <td>A11</td>\n",
       "      <td>30</td>\n",
       "      <td>A32</td>\n",
       "      <td>A41</td>\n",
       "      <td>3857</td>\n",
       "      <td>A61</td>\n",
       "      <td>A73</td>\n",
       "      <td>4</td>\n",
       "      <td>A91</td>\n",
       "      <td>A101</td>\n",
       "      <td>...</td>\n",
       "      <td>A122</td>\n",
       "      <td>40</td>\n",
       "      <td>A143</td>\n",
       "      <td>A152</td>\n",
       "      <td>1</td>\n",
       "      <td>A174</td>\n",
       "      <td>1</td>\n",
       "      <td>A192</td>\n",
       "      <td>A201</td>\n",
       "      <td>1</td>\n",
       "    </tr>\n",
       "    <tr>\n",
       "      <th>997</th>\n",
       "      <td>A14</td>\n",
       "      <td>12</td>\n",
       "      <td>A32</td>\n",
       "      <td>A43</td>\n",
       "      <td>804</td>\n",
       "      <td>A61</td>\n",
       "      <td>A75</td>\n",
       "      <td>4</td>\n",
       "      <td>A93</td>\n",
       "      <td>A101</td>\n",
       "      <td>...</td>\n",
       "      <td>A123</td>\n",
       "      <td>38</td>\n",
       "      <td>A143</td>\n",
       "      <td>A152</td>\n",
       "      <td>1</td>\n",
       "      <td>A173</td>\n",
       "      <td>1</td>\n",
       "      <td>A191</td>\n",
       "      <td>A201</td>\n",
       "      <td>1</td>\n",
       "    </tr>\n",
       "    <tr>\n",
       "      <th>998</th>\n",
       "      <td>A11</td>\n",
       "      <td>45</td>\n",
       "      <td>A32</td>\n",
       "      <td>A43</td>\n",
       "      <td>1845</td>\n",
       "      <td>A61</td>\n",
       "      <td>A73</td>\n",
       "      <td>4</td>\n",
       "      <td>A93</td>\n",
       "      <td>A101</td>\n",
       "      <td>...</td>\n",
       "      <td>A124</td>\n",
       "      <td>23</td>\n",
       "      <td>A143</td>\n",
       "      <td>A153</td>\n",
       "      <td>1</td>\n",
       "      <td>A173</td>\n",
       "      <td>1</td>\n",
       "      <td>A192</td>\n",
       "      <td>A201</td>\n",
       "      <td>2</td>\n",
       "    </tr>\n",
       "    <tr>\n",
       "      <th>999</th>\n",
       "      <td>A12</td>\n",
       "      <td>45</td>\n",
       "      <td>A34</td>\n",
       "      <td>A41</td>\n",
       "      <td>4576</td>\n",
       "      <td>A62</td>\n",
       "      <td>A71</td>\n",
       "      <td>3</td>\n",
       "      <td>A93</td>\n",
       "      <td>A101</td>\n",
       "      <td>...</td>\n",
       "      <td>A123</td>\n",
       "      <td>27</td>\n",
       "      <td>A143</td>\n",
       "      <td>A152</td>\n",
       "      <td>1</td>\n",
       "      <td>A173</td>\n",
       "      <td>1</td>\n",
       "      <td>A191</td>\n",
       "      <td>A201</td>\n",
       "      <td>1</td>\n",
       "    </tr>\n",
       "  </tbody>\n",
       "</table>\n",
       "<p>5 rows × 21 columns</p>\n",
       "</div>"
      ],
      "text/plain": [
       "    CheckingAcc  Duration CreditHistory Purpose  CreditAmount SavingsAcc  \\\n",
       "995         A14        12           A32     A42          1736        A61   \n",
       "996         A11        30           A32     A41          3857        A61   \n",
       "997         A14        12           A32     A43           804        A61   \n",
       "998         A11        45           A32     A43          1845        A61   \n",
       "999         A12        45           A34     A41          4576        A62   \n",
       "\n",
       "    EmploymentStatus  InstallmentRate PersonalStatus OtherDebtors  ...  \\\n",
       "995              A74                3            A92         A101  ...   \n",
       "996              A73                4            A91         A101  ...   \n",
       "997              A75                4            A93         A101  ...   \n",
       "998              A73                4            A93         A101  ...   \n",
       "999              A71                3            A93         A101  ...   \n",
       "\n",
       "     Property Age  OtherInstallment Housing ExistingCredits   Job Dependents  \\\n",
       "995      A121  31              A143    A152               1  A172          1   \n",
       "996      A122  40              A143    A152               1  A174          1   \n",
       "997      A123  38              A143    A152               1  A173          1   \n",
       "998      A124  23              A143    A153               1  A173          1   \n",
       "999      A123  27              A143    A152               1  A173          1   \n",
       "\n",
       "     Telephone ResidenceStatus CustomerType  \n",
       "995       A191            A201            1  \n",
       "996       A192            A201            1  \n",
       "997       A191            A201            1  \n",
       "998       A192            A201            2  \n",
       "999       A191            A201            1  \n",
       "\n",
       "[5 rows x 21 columns]"
      ]
     },
     "execution_count": 4,
     "metadata": {},
     "output_type": "execute_result"
    }
   ],
   "source": [
    "df.tail(5) \n"
   ]
  },
  {
   "cell_type": "code",
   "execution_count": 5,
   "id": "09598602",
   "metadata": {},
   "outputs": [
    {
     "data": {
      "text/plain": [
       "CheckingAcc         object\n",
       "Duration             int64\n",
       "CreditHistory       object\n",
       "Purpose             object\n",
       "CreditAmount         int64\n",
       "SavingsAcc          object\n",
       "EmploymentStatus    object\n",
       "InstallmentRate      int64\n",
       "PersonalStatus      object\n",
       "OtherDebtors        object\n",
       "ResidenceCurrent     int64\n",
       "Property            object\n",
       "Age                  int64\n",
       "OtherInstallment    object\n",
       "Housing             object\n",
       "ExistingCredits      int64\n",
       "Job                 object\n",
       "Dependents           int64\n",
       "Telephone           object\n",
       "ResidenceStatus     object\n",
       "CustomerType         int64\n",
       "dtype: object"
      ]
     },
     "execution_count": 5,
     "metadata": {},
     "output_type": "execute_result"
    }
   ],
   "source": [
    "# Checking the data type\n",
    "df.dtypes"
   ]
  },
  {
   "cell_type": "code",
   "execution_count": 7,
   "id": "332d8a82",
   "metadata": {
    "scrolled": true
   },
   "outputs": [
    {
     "data": {
      "text/html": [
       "<div>\n",
       "<style scoped>\n",
       "    .dataframe tbody tr th:only-of-type {\n",
       "        vertical-align: middle;\n",
       "    }\n",
       "\n",
       "    .dataframe tbody tr th {\n",
       "        vertical-align: top;\n",
       "    }\n",
       "\n",
       "    .dataframe thead th {\n",
       "        text-align: right;\n",
       "    }\n",
       "</style>\n",
       "<table border=\"1\" class=\"dataframe\">\n",
       "  <thead>\n",
       "    <tr style=\"text-align: right;\">\n",
       "      <th></th>\n",
       "      <th>CheckingAcc</th>\n",
       "      <th>CreditHistory</th>\n",
       "      <th>Purpose</th>\n",
       "      <th>SavingsAcc</th>\n",
       "      <th>EmploymentStatus</th>\n",
       "      <th>PersonalStatus</th>\n",
       "      <th>OtherDebtors</th>\n",
       "      <th>Property</th>\n",
       "      <th>OtherInstallment</th>\n",
       "      <th>Housing</th>\n",
       "      <th>Job</th>\n",
       "      <th>Telephone</th>\n",
       "      <th>ResidenceStatus</th>\n",
       "    </tr>\n",
       "  </thead>\n",
       "  <tbody>\n",
       "    <tr>\n",
       "      <th>0</th>\n",
       "      <td>A11</td>\n",
       "      <td>A34</td>\n",
       "      <td>A43</td>\n",
       "      <td>A65</td>\n",
       "      <td>A75</td>\n",
       "      <td>A93</td>\n",
       "      <td>A101</td>\n",
       "      <td>A121</td>\n",
       "      <td>A143</td>\n",
       "      <td>A152</td>\n",
       "      <td>A173</td>\n",
       "      <td>A192</td>\n",
       "      <td>A201</td>\n",
       "    </tr>\n",
       "    <tr>\n",
       "      <th>1</th>\n",
       "      <td>A12</td>\n",
       "      <td>A32</td>\n",
       "      <td>A43</td>\n",
       "      <td>A61</td>\n",
       "      <td>A73</td>\n",
       "      <td>A92</td>\n",
       "      <td>A101</td>\n",
       "      <td>A121</td>\n",
       "      <td>A143</td>\n",
       "      <td>A152</td>\n",
       "      <td>A173</td>\n",
       "      <td>A191</td>\n",
       "      <td>A201</td>\n",
       "    </tr>\n",
       "    <tr>\n",
       "      <th>2</th>\n",
       "      <td>A14</td>\n",
       "      <td>A34</td>\n",
       "      <td>A46</td>\n",
       "      <td>A61</td>\n",
       "      <td>A74</td>\n",
       "      <td>A93</td>\n",
       "      <td>A101</td>\n",
       "      <td>A121</td>\n",
       "      <td>A143</td>\n",
       "      <td>A152</td>\n",
       "      <td>A172</td>\n",
       "      <td>A191</td>\n",
       "      <td>A201</td>\n",
       "    </tr>\n",
       "    <tr>\n",
       "      <th>3</th>\n",
       "      <td>A11</td>\n",
       "      <td>A32</td>\n",
       "      <td>A42</td>\n",
       "      <td>A61</td>\n",
       "      <td>A74</td>\n",
       "      <td>A93</td>\n",
       "      <td>A103</td>\n",
       "      <td>A122</td>\n",
       "      <td>A143</td>\n",
       "      <td>A153</td>\n",
       "      <td>A173</td>\n",
       "      <td>A191</td>\n",
       "      <td>A201</td>\n",
       "    </tr>\n",
       "    <tr>\n",
       "      <th>4</th>\n",
       "      <td>A11</td>\n",
       "      <td>A33</td>\n",
       "      <td>A40</td>\n",
       "      <td>A61</td>\n",
       "      <td>A73</td>\n",
       "      <td>A93</td>\n",
       "      <td>A101</td>\n",
       "      <td>A124</td>\n",
       "      <td>A143</td>\n",
       "      <td>A153</td>\n",
       "      <td>A173</td>\n",
       "      <td>A191</td>\n",
       "      <td>A201</td>\n",
       "    </tr>\n",
       "  </tbody>\n",
       "</table>\n",
       "</div>"
      ],
      "text/plain": [
       "  CheckingAcc CreditHistory Purpose SavingsAcc EmploymentStatus  \\\n",
       "0         A11           A34     A43        A65              A75   \n",
       "1         A12           A32     A43        A61              A73   \n",
       "2         A14           A34     A46        A61              A74   \n",
       "3         A11           A32     A42        A61              A74   \n",
       "4         A11           A33     A40        A61              A73   \n",
       "\n",
       "  PersonalStatus OtherDebtors Property OtherInstallment Housing   Job  \\\n",
       "0            A93         A101     A121             A143    A152  A173   \n",
       "1            A92         A101     A121             A143    A152  A173   \n",
       "2            A93         A101     A121             A143    A152  A172   \n",
       "3            A93         A103     A122             A143    A153  A173   \n",
       "4            A93         A101     A124             A143    A153  A173   \n",
       "\n",
       "  Telephone ResidenceStatus  \n",
       "0      A192            A201  \n",
       "1      A191            A201  \n",
       "2      A191            A201  \n",
       "3      A191            A201  \n",
       "4      A191            A201  "
      ]
     },
     "execution_count": 7,
     "metadata": {},
     "output_type": "execute_result"
    }
   ],
   "source": [
    "obj_df = df.select_dtypes(include=['object']).copy()\n",
    "obj_df.head()"
   ]
  },
  {
   "cell_type": "code",
   "execution_count": 11,
   "id": "c95c3dd9",
   "metadata": {},
   "outputs": [
    {
     "data": {
      "text/plain": [
       "A14    394\n",
       "A11    274\n",
       "A12    269\n",
       "A13     63\n",
       "Name: CheckingAcc, dtype: int64"
      ]
     },
     "execution_count": 11,
     "metadata": {},
     "output_type": "execute_result"
    }
   ],
   "source": [
    "obj_df[\"CheckingAcc\"].value_counts()"
   ]
  },
  {
   "cell_type": "code",
   "execution_count": 12,
   "id": "839e13e2",
   "metadata": {},
   "outputs": [],
   "source": [
    "cleanup_nums = {\"CheckingAcc\":     {\"A11\": \"<0\", \"A12\": \"<200\",\"A13\": \">200\", \"A14\": \"no_acc\"},\n",
    "                \"CreditHistory\": {\"A30\": \"no credits\", \"A31\": \"all credits\", \"A32\": \"paid back\", \"A33\": \"delay in pay back\",\n",
    "                                  \"A34\": \" existing other credits\"},\n",
    "               \"Purpose\": {\"A40\": \"car (new)\",\"A41\": \"car (used)\",\"A42\": \"furniture/equipment\",\n",
    "                           \"A43\": \"radio/television\",\"A44\": \"domestic appliances\",\"A45\": \"repairs\",\"A46\": \"education\",\n",
    "                           \"A47\": \"(vacation - does not exist?)\",\"A48\": \"retraining\",\"A49\": \"business\",\"A410\": \"others\"},\n",
    "                \"SavingsAcc\":{\"A61\": \"<100\", \"A62\": \"100-500\",\"A63\": \"500-1000\", \"A64\": \">=1000\",\"A65\": \"no_acc\"},\n",
    "                \"EmploymentStatus\":{\"A71\": \"unemployed\", \"A72\": \"<1\",\"A73\": \"1-4\", \"A74\": \"4-7\",\"A75\": \">=7\"},\n",
    "                \"PersonalStatus\":{\"A91\": \"male : divorced/separated\", \"A92\": \"female : divorced/separated/married\",\n",
    "                                  \"A93\": \"male : single\", \"A94\": \"male : married/widowed\",\"A95\": \"female : single\"},\n",
    "                \"OtherDebtors\":{\"A101\": \"none\", \"A102\": \"co-applicant\",\"A103\": \"guarantor\"},\n",
    "                \"Property\":{\"A121\": \"real estate\", \"A122\": \"society savings\",\"A123\": \"car or other,\",\"A124\": \"no property\"},\n",
    "                \"OtherInstallment\":{\"A141\": \"bank\", \"A142\": \"stores\",\"A143\": \"none\"},\n",
    "                \"Housing\":{\"A151\": \"rent\", \"A152\": \"own\",\"A153\": \"free\"},\n",
    "                \"Job\":{\"A171\": \"unskilled - non-resident\", \"A172\": \"unskilled - resident\",\"A173\": \"skilled employee\",\"A174\": \"self-employed\"},\n",
    "                \"Telephone\":{\"A191\": \"none\", \"A192\": \"yes\"},\n",
    "                \"ResidenceStatus\":{\"A201\": \"yes\", \"A202\": \"no\"}\n",
    "}"
   ]
  },
  {
   "cell_type": "code",
   "execution_count": 19,
   "id": "962a6850",
   "metadata": {
    "scrolled": true
   },
   "outputs": [],
   "source": [
    "df1 = df.replace(cleanup_nums)"
   ]
  },
  {
   "cell_type": "code",
   "execution_count": 20,
   "id": "bf5a16db",
   "metadata": {},
   "outputs": [
    {
     "data": {
      "text/plain": [
       "CheckingAcc         object\n",
       "Duration             int64\n",
       "CreditHistory       object\n",
       "Purpose             object\n",
       "CreditAmount         int64\n",
       "SavingsAcc          object\n",
       "EmploymentStatus    object\n",
       "InstallmentRate      int64\n",
       "PersonalStatus      object\n",
       "OtherDebtors        object\n",
       "ResidenceCurrent     int64\n",
       "Property            object\n",
       "Age                  int64\n",
       "OtherInstallment    object\n",
       "Housing             object\n",
       "ExistingCredits      int64\n",
       "Job                 object\n",
       "Dependents           int64\n",
       "Telephone           object\n",
       "ResidenceStatus     object\n",
       "CustomerType         int64\n",
       "dtype: object"
      ]
     },
     "execution_count": 20,
     "metadata": {},
     "output_type": "execute_result"
    }
   ],
   "source": [
    "# Check the type of features again\n",
    "df1.dtypes"
   ]
  },
  {
   "cell_type": "code",
   "execution_count": 14,
   "id": "0a9300fe",
   "metadata": {
    "scrolled": false
   },
   "outputs": [
    {
     "data": {
      "text/plain": [
       "CheckingAcc         0\n",
       "Duration            0\n",
       "CreditHistory       0\n",
       "Purpose             0\n",
       "CreditAmount        0\n",
       "SavingsAcc          0\n",
       "EmploymentStatus    0\n",
       "InstallmentRate     0\n",
       "PersonalStatus      0\n",
       "OtherDebtors        0\n",
       "ResidenceCurrent    0\n",
       "Property            0\n",
       "Age                 0\n",
       "OtherInstallment    0\n",
       "Housing             0\n",
       "ExistingCredits     0\n",
       "Job                 0\n",
       "Dependents          0\n",
       "Telephone           0\n",
       "ResidenceStatus     0\n",
       "CustomerType        0\n",
       "dtype: int64"
      ]
     },
     "execution_count": 14,
     "metadata": {},
     "output_type": "execute_result"
    }
   ],
   "source": [
    "# Null data check\n",
    "df1.isna().sum()"
   ]
  },
  {
   "cell_type": "code",
   "execution_count": 21,
   "id": "63f38525",
   "metadata": {},
   "outputs": [],
   "source": [
    "# Dataframe - numerical values containing\n",
    "df1_num = df1.select_dtypes(include = ['int64']).copy()"
   ]
  },
  {
   "cell_type": "code",
   "execution_count": 22,
   "id": "6562ef38",
   "metadata": {},
   "outputs": [],
   "source": [
    "# Dataframe - categorical values containing\n",
    "df1_obj = df1.select_dtypes(include=['object']).copy()"
   ]
  },
  {
   "cell_type": "markdown",
   "id": "0e6459eb",
   "metadata": {},
   "source": [
    "## Distribution of numerical features\n",
    "1. Histogram \n",
    "2. Boxplot"
   ]
  },
  {
   "cell_type": "code",
   "execution_count": 27,
   "id": "21d0543d",
   "metadata": {},
   "outputs": [
    {
     "data": {
      "text/plain": [
       "array([[<AxesSubplot:title={'center':'Duration'}>,\n",
       "        <AxesSubplot:title={'center':'CreditAmount'}>,\n",
       "        <AxesSubplot:title={'center':'InstallmentRate'}>],\n",
       "       [<AxesSubplot:title={'center':'ResidenceCurrent'}>,\n",
       "        <AxesSubplot:title={'center':'Age'}>,\n",
       "        <AxesSubplot:title={'center':'ExistingCredits'}>],\n",
       "       [<AxesSubplot:title={'center':'Dependents'}>,\n",
       "        <AxesSubplot:title={'center':'CustomerType'}>, <AxesSubplot:>]],\n",
       "      dtype=object)"
      ]
     },
     "execution_count": 27,
     "metadata": {},
     "output_type": "execute_result"
    },
    {
     "data": {
      "image/png": "[encoded data removed]",
      "text/plain": [
       "<Figure size 1080x720 with 9 Axes>"
      ]
     },
     "metadata": {
      "needs_background": "light"
     },
     "output_type": "display_data"
    }
   ],
   "source": [
    "# Plot a histogram for each numerical values in the df1\n",
    "df1.hist(bins=30, figsize=(15, 10))"
   ]
  },
  {
   "cell_type": "code",
   "execution_count": 28,
   "id": "27efc75b",
   "metadata": {},
   "outputs": [
    {
     "data": {
      "image/png": "[encoded data removed]",
      "text/plain": [
       "<Figure size 1080x720 with 1 Axes>"
      ]
     },
     "metadata": {
      "needs_background": "light"
     },
     "output_type": "display_data"
    }
   ],
   "source": [
    "# Plot a boxplot for each numerical values in the df1\n",
    "# Boxplot for the column 'Duration'\n",
    "boxplot = df1.boxplot(column = ['Duration'], figsize = (15,10), boxprops = dict(color = 'red'))"
   ]
  },
  {
   "cell_type": "code",
   "execution_count": 29,
   "id": "dd376ade",
   "metadata": {},
   "outputs": [
    {
     "data": {
      "image/png": "[encoded data removed]",
      "text/plain": [
       "<Figure size 1080x720 with 1 Axes>"
      ]
     },
     "metadata": {
      "needs_background": "light"
     },
     "output_type": "display_data"
    }
   ],
   "source": [
    "# Boxplot for CreditAmount\n",
    "boxplot = df1.boxplot(column = ['CreditAmount'], figsize = (15,10), boxprops = dict(color = 'red'))"
   ]
  },
  {
   "cell_type": "code",
   "execution_count": 30,
   "id": "4dcfa388",
   "metadata": {},
   "outputs": [
    {
     "data": {
      "image/png": "[encoded data removed]",
      "text/plain": [
       "<Figure size 1080x720 with 1 Axes>"
      ]
     },
     "metadata": {
      "needs_background": "light"
     },
     "output_type": "display_data"
    }
   ],
   "source": [
    "# Boxplot for InstallmentRate\n",
    "boxplot = df1.boxplot(column = ['InstallmentRate'], figsize = (15,10), boxprops = dict(color = 'red'))"
   ]
  },
  {
   "cell_type": "code",
   "execution_count": 31,
   "id": "4c38af4d",
   "metadata": {},
   "outputs": [
    {
     "data": {
      "image/png": "[encoded data removed]",
      "text/plain": [
       "<Figure size 1080x720 with 1 Axes>"
      ]
     },
     "metadata": {
      "needs_background": "light"
     },
     "output_type": "display_data"
    }
   ],
   "source": [
    "# Boxplot for ResidenceCurrent\n",
    "boxplot = df1.boxplot(column = ['ResidenceCurrent'], figsize = (15,10), boxprops = dict(color = 'red'))"
   ]
  },
  {
   "cell_type": "code",
   "execution_count": 32,
   "id": "b70bb704",
   "metadata": {},
   "outputs": [
    {
     "data": {
      "image/png": "[encoded data removed]",
      "text/plain": [
       "<Figure size 1080x720 with 1 Axes>"
      ]
     },
     "metadata": {
      "needs_background": "light"
     },
     "output_type": "display_data"
    }
   ],
   "source": [
    "# Boxplot for Age\n",
    "boxplot = df1.boxplot(column = ['Age'], figsize = (15,10), boxprops = dict(color = 'red'))"
   ]
  },
  {
   "cell_type": "code",
   "execution_count": 33,
   "id": "7ad04a46",
   "metadata": {},
   "outputs": [
    {
     "data": {
      "image/png": "[encoded data removed]",
      "text/plain": [
       "<Figure size 1080x720 with 1 Axes>"
      ]
     },
     "metadata": {
      "needs_background": "light"
     },
     "output_type": "display_data"
    }
   ],
   "source": [
    "# Boxplot for ExistingCredits\n",
    "boxplot = df1.boxplot(column = ['ExistingCredits'], figsize = (15,10), boxprops = dict(color = 'red'))"
   ]
  },
  {
   "cell_type": "code",
   "execution_count": 34,
   "id": "fb501c45",
   "metadata": {},
   "outputs": [
    {
     "data": {
      "image/png": "[encoded data removed]",
      "text/plain": [
       "<Figure size 1080x720 with 1 Axes>"
      ]
     },
     "metadata": {
      "needs_background": "light"
     },
     "output_type": "display_data"
    }
   ],
   "source": [
    "# Boxplot for Dependents\n",
    "boxplot = df1.boxplot(column = ['Dependents'], figsize = (15,10), boxprops = dict(color = 'red'))"
   ]
  },
  {
   "cell_type": "code",
   "execution_count": 35,
   "id": "a11ae7ad",
   "metadata": {},
   "outputs": [
    {
     "data": {
      "image/png": "[encoded data removed]",
      "text/plain": [
       "<Figure size 1080x720 with 1 Axes>"
      ]
     },
     "metadata": {
      "needs_background": "light"
     },
     "output_type": "display_data"
    }
   ],
   "source": [
    "# Boxplot for CustomerType\n",
    "boxplot = df1.boxplot(column = ['CustomerType'], figsize = (15,10), boxprops = dict(color = 'red'))"
   ]
  },
  {
   "cell_type": "markdown",
   "id": "c60f76f4",
   "metadata": {},
   "source": [
    "### Distribution of Categorical features\n",
    "1. Histogram for the unique values in each feature"
   ]
  },
  {
   "cell_type": "code",
   "execution_count": 103,
   "id": "b7c3a198",
   "metadata": {
    "scrolled": true
   },
   "outputs": [
    {
     "data": {
      "text/plain": [
       "CheckingAcc         object\n",
       "CreditHistory       object\n",
       "Purpose             object\n",
       "SavingsAcc          object\n",
       "EmploymentStatus    object\n",
       "PersonalStatus      object\n",
       "OtherDebtors        object\n",
       "Property            object\n",
       "OtherInstallment    object\n",
       "Housing             object\n",
       "Job                 object\n",
       "Telephone           object\n",
       "ResidenceStatus     object\n",
       "dtype: object"
      ]
     },
     "execution_count": 103,
     "metadata": {},
     "output_type": "execute_result"
    }
   ],
   "source": [
    "df1_obj.dtypes"
   ]
  },
  {
   "cell_type": "code",
   "execution_count": 104,
   "id": "d65a7eb7",
   "metadata": {},
   "outputs": [
    {
     "data": {
      "text/plain": [
       "(array([0, 1, 2, 3]),\n",
       " [Text(0, 0, '<0'),\n",
       "  Text(1, 0, '<200'),\n",
       "  Text(2, 0, '>200'),\n",
       "  Text(3, 0, 'no_acc')])"
      ]
     },
     "execution_count": 104,
     "metadata": {},
     "output_type": "execute_result"
    },
    {
     "data": {
      "image/png": "[encoded data removed]",
      "text/plain": [
       "<Figure size 432x288 with 1 Axes>"
      ]
     },
     "metadata": {
      "needs_background": "light"
     },
     "output_type": "display_data"
    }
   ],
   "source": [
    "# Groupby unique values in CheckingAcc and barplot\n",
    "grouped = df1.groupby(by = 'CheckingAcc').size()\n",
    "grouped.plot.bar()\n",
    "plt.xticks(rotation = 45)"
   ]
  },
  {
   "cell_type": "code",
   "execution_count": 105,
   "id": "795db182",
   "metadata": {},
   "outputs": [
    {
     "data": {
      "text/plain": [
       "(array([0, 1, 2, 3, 4]),\n",
       " [Text(0, 0, ' existing other credits'),\n",
       "  Text(1, 0, 'all credits'),\n",
       "  Text(2, 0, 'delay in pay back'),\n",
       "  Text(3, 0, 'no credits'),\n",
       "  Text(4, 0, 'paid back')])"
      ]
     },
     "execution_count": 105,
     "metadata": {},
     "output_type": "execute_result"
    },
    {
     "data": {
      "image/png": "[encoded data removed]",
      "text/plain": [
       "<Figure size 432x288 with 1 Axes>"
      ]
     },
     "metadata": {
      "needs_background": "light"
     },
     "output_type": "display_data"
    }
   ],
   "source": [
    "# Groupby unique values in CreditHistory and barplot\n",
    "grouped = df1.groupby(by = 'CreditHistory').size()\n",
    "grouped.plot.bar()\n",
    "plt.xticks(rotation = 45)"
   ]
  },
  {
   "cell_type": "code",
   "execution_count": 106,
   "id": "c013611a",
   "metadata": {},
   "outputs": [
    {
     "data": {
      "text/plain": [
       "(array([0, 1, 2, 3, 4, 5, 6, 7, 8, 9]),\n",
       " [Text(0, 0, 'business'),\n",
       "  Text(1, 0, 'car (new)'),\n",
       "  Text(2, 0, 'car (used)'),\n",
       "  Text(3, 0, 'domestic appliances'),\n",
       "  Text(4, 0, 'education'),\n",
       "  Text(5, 0, 'furniture/equipment'),\n",
       "  Text(6, 0, 'others'),\n",
       "  Text(7, 0, 'radio/television'),\n",
       "  Text(8, 0, 'repairs'),\n",
       "  Text(9, 0, 'retraining')])"
      ]
     },
     "execution_count": 106,
     "metadata": {},
     "output_type": "execute_result"
    },
    {
     "data": {
      "image/png": "[encoded data removed]",
      "text/plain": [
       "<Figure size 432x288 with 1 Axes>"
      ]
     },
     "metadata": {
      "needs_background": "light"
     },
     "output_type": "display_data"
    }
   ],
   "source": [
    "# Groupby unique values in Purpose and barplot\n",
    "grouped = df1.groupby(by = 'Purpose').size()\n",
    "grouped.plot.bar()\n",
    "plt.xticks(rotation = 45)"
   ]
  },
  {
   "cell_type": "code",
   "execution_count": 143,
   "id": "55a3cc4f",
   "metadata": {
    "scrolled": true
   },
   "outputs": [
    {
     "data": {
      "text/plain": [
       "(array([0, 1, 2, 3, 4]),\n",
       " [Text(0, 0, '<100'),\n",
       "  Text(1, 0, '100-500'),\n",
       "  Text(2, 0, '500-1000'),\n",
       "  Text(3, 0, '>=1000'),\n",
       "  Text(4, 0, 'no_acc')])"
      ]
     },
     "execution_count": 143,
     "metadata": {},
     "output_type": "execute_result"
    },
    {
     "data": {
      "image/png": "[encoded data removed]",
      "text/plain": [
       "<Figure size 432x288 with 1 Axes>"
      ]
     },
     "metadata": {
      "needs_background": "light"
     },
     "output_type": "display_data"
    }
   ],
   "source": [
    "# Groupby unique values in SavingsAcc and barplot\n",
    "grouped = df1.groupby(by = 'SavingsAcc').size()\n",
    "\n",
    "# Sort the order of xticks label for graph\n",
    "grouped.index = grouped.index[[2,0,1,3,4]]\n",
    "grouped.plot.bar()\n",
    "plt.xticks(rotation = 45)"
   ]
  },
  {
   "cell_type": "code",
   "execution_count": 134,
   "id": "d9140bf1",
   "metadata": {},
   "outputs": [
    {
     "data": {
      "text/plain": [
       "(array([0, 1, 2, 3, 4]),\n",
       " [Text(0, 0, '<1'),\n",
       "  Text(1, 0, '1-4'),\n",
       "  Text(2, 0, '4-7'),\n",
       "  Text(3, 0, '>=7'),\n",
       "  Text(4, 0, 'unemployed')])"
      ]
     },
     "execution_count": 134,
     "metadata": {},
     "output_type": "execute_result"
    },
    {
     "data": {
      "image/png": "[encoded data removed]",
      "text/plain": [
       "<Figure size 432x288 with 1 Axes>"
      ]
     },
     "metadata": {
      "needs_background": "light"
     },
     "output_type": "display_data"
    }
   ],
   "source": [
    "# Groupby unique values in EmploymentStatus and barplot\n",
    "grouped = df1.groupby(by = 'EmploymentStatus').size()\n",
    "grouped.index = grouped.index[[2,0,1,3,4]]\n",
    "grouped.plot.bar()\n",
    "plt.xticks(rotation = 45)"
   ]
  },
  {
   "cell_type": "code",
   "execution_count": 88,
   "id": "83e31e49",
   "metadata": {},
   "outputs": [
    {
     "data": {
      "text/plain": [
       "(array([0, 1, 2, 3]),\n",
       " [Text(0, 0, 'female : divorced/separated/married'),\n",
       "  Text(1, 0, 'male : divorced/separated'),\n",
       "  Text(2, 0, 'male : married/widowed'),\n",
       "  Text(3, 0, 'male : single')])"
      ]
     },
     "execution_count": 88,
     "metadata": {},
     "output_type": "execute_result"
    },
    {
     "data": {
      "image/png": "[encoded data removed]",
      "text/plain": [
       "<Figure size 432x288 with 1 Axes>"
      ]
     },
     "metadata": {
      "needs_background": "light"
     },
     "output_type": "display_data"
    }
   ],
   "source": [
    "# Groupby unique values in PersonalStatus and barplot\n",
    "grouped = df1.groupby(by = 'PersonalStatus').size()\n",
    "grouped.plot.bar()\n",
    "plt.xticks(rotation = 45)"
   ]
  },
  {
   "cell_type": "code",
   "execution_count": 89,
   "id": "16b32b2a",
   "metadata": {},
   "outputs": [
    {
     "data": {
      "text/plain": [
       "(array([0, 1, 2]),\n",
       " [Text(0, 0, 'co-applicant'), Text(1, 0, 'guarantor'), Text(2, 0, 'none')])"
      ]
     },
     "execution_count": 89,
     "metadata": {},
     "output_type": "execute_result"
    },
    {
     "data": {
      "image/png": "[encoded data removed]",
      "text/plain": [
       "<Figure size 432x288 with 1 Axes>"
      ]
     },
     "metadata": {
      "needs_background": "light"
     },
     "output_type": "display_data"
    }
   ],
   "source": [
    "# Groupby unique values in OtherDebtors and barplot\n",
    "grouped = df1.groupby(by = 'OtherDebtors').size()\n",
    "grouped.plot.bar()\n",
    "plt.xticks(rotation = 45)"
   ]
  },
  {
   "cell_type": "code",
   "execution_count": 135,
   "id": "691324a3",
   "metadata": {},
   "outputs": [
    {
     "data": {
      "text/plain": [
       "(array([0, 1, 2, 3]),\n",
       " [Text(0, 0, 'car or other,'),\n",
       "  Text(1, 0, 'real estate'),\n",
       "  Text(2, 0, 'society savings'),\n",
       "  Text(3, 0, 'no property')])"
      ]
     },
     "execution_count": 135,
     "metadata": {},
     "output_type": "execute_result"
    },
    {
     "data": {
      "image/png": "[encoded data removed]",
      "text/plain": [
       "<Figure size 432x288 with 1 Axes>"
      ]
     },
     "metadata": {
      "needs_background": "light"
     },
     "output_type": "display_data"
    }
   ],
   "source": [
    "# Groupby unique values in Property and barplot\n",
    "grouped = df1.groupby(by = 'Property').size()\n",
    "grouped.index = grouped.index[[0,2,3,1]]\n",
    "grouped.plot.bar()\n",
    "plt.xticks(rotation = 45)"
   ]
  },
  {
   "cell_type": "code",
   "execution_count": 139,
   "id": "51968bd2",
   "metadata": {},
   "outputs": [
    {
     "data": {
      "text/plain": [
       "(array([0, 1, 2]),\n",
       " [Text(0, 0, 'bank'), Text(1, 0, 'stores'), Text(2, 0, 'none')])"
      ]
     },
     "execution_count": 139,
     "metadata": {},
     "output_type": "execute_result"
    },
    {
     "data": {
      "image/png": "[encoded data removed]",
      "text/plain": [
       "<Figure size 432x288 with 1 Axes>"
      ]
     },
     "metadata": {
      "needs_background": "light"
     },
     "output_type": "display_data"
    }
   ],
   "source": [
    "# Groupby unique values in OtherInstallment and barplot\n",
    "grouped = df1.groupby(by = 'OtherInstallment').size()\n",
    "grouped.index = grouped.index[[0,2,1]]\n",
    "grouped.plot.bar()\n",
    "plt.xticks(rotation = 45)"
   ]
  },
  {
   "cell_type": "code",
   "execution_count": 92,
   "id": "e41301b5",
   "metadata": {
    "scrolled": true
   },
   "outputs": [
    {
     "data": {
      "text/plain": [
       "(array([0, 1, 2]), [Text(0, 0, 'free'), Text(1, 0, 'own'), Text(2, 0, 'rent')])"
      ]
     },
     "execution_count": 92,
     "metadata": {},
     "output_type": "execute_result"
    },
    {
     "data": {
      "image/png": "[encoded data removed]",
      "text/plain": [
       "<Figure size 432x288 with 1 Axes>"
      ]
     },
     "metadata": {
      "needs_background": "light"
     },
     "output_type": "display_data"
    }
   ],
   "source": [
    "# Groupby unique values in Housing and barplot\n",
    "grouped = df1.groupby(by = 'Housing').size()\n",
    "grouped.plot.bar()\n",
    "plt.xticks(rotation = 45)"
   ]
  },
  {
   "cell_type": "code",
   "execution_count": 140,
   "id": "65771099",
   "metadata": {},
   "outputs": [
    {
     "data": {
      "text/plain": [
       "(array([0, 1, 2, 3]),\n",
       " [Text(0, 0, 'self-employed'),\n",
       "  Text(1, 0, 'skilled employee'),\n",
       "  Text(2, 0, 'unskilled - resident'),\n",
       "  Text(3, 0, 'unskilled - non-resident')])"
      ]
     },
     "execution_count": 140,
     "metadata": {},
     "output_type": "execute_result"
    },
    {
     "data": {
      "image/png": "[encoded data removed]",
      "text/plain": [
       "<Figure size 432x288 with 1 Axes>"
      ]
     },
     "metadata": {
      "needs_background": "light"
     },
     "output_type": "display_data"
    }
   ],
   "source": [
    "# Groupby unique values in Job and barplot\n",
    "grouped = df1.groupby(by = 'Job').size()\n",
    "grouped.index = grouped.index[[0,1,3,2]]\n",
    "grouped.plot.bar()\n",
    "plt.xticks(rotation = 45)"
   ]
  },
  {
   "cell_type": "code",
   "execution_count": 141,
   "id": "82b0abc8",
   "metadata": {},
   "outputs": [
    {
     "data": {
      "text/plain": [
       "(array([0, 1]), [Text(0, 0, 'yes'), Text(1, 0, 'none')])"
      ]
     },
     "execution_count": 141,
     "metadata": {},
     "output_type": "execute_result"
    },
    {
     "data": {
      "image/png": "[encoded data removed]",
      "text/plain": [
       "<Figure size 432x288 with 1 Axes>"
      ]
     },
     "metadata": {
      "needs_background": "light"
     },
     "output_type": "display_data"
    }
   ],
   "source": [
    "# Groupby unique values in Telephone and barplot\n",
    "grouped = df1.groupby(by = 'Telephone').size()\n",
    "grouped.index = grouped.index[[1,0]]\n",
    "grouped.plot.bar()\n",
    "plt.xticks(rotation = 45)"
   ]
  },
  {
   "cell_type": "code",
   "execution_count": 142,
   "id": "0bb3db3f",
   "metadata": {},
   "outputs": [
    {
     "data": {
      "text/plain": [
       "(array([0, 1]), [Text(0, 0, 'yes'), Text(1, 0, 'no')])"
      ]
     },
     "execution_count": 142,
     "metadata": {},
     "output_type": "execute_result"
    },
    {
     "data": {
      "image/png": "[encoded data removed]",
      "text/plain": [
       "<Figure size 432x288 with 1 Axes>"
      ]
     },
     "metadata": {
      "needs_background": "light"
     },
     "output_type": "display_data"
    }
   ],
   "source": [
    "# Groupby unique values in ResidenceStatus and barplot\n",
    "grouped = df1.groupby(by = 'ResidenceStatus').size()\n",
    "grouped.index = grouped.index[[1,0]]\n",
    "grouped.plot.bar()\n",
    "plt.xticks(rotation = 45)"
   ]
  },
  {
   "cell_type": "code",
   "execution_count": null,
   "id": "83172b5a",
   "metadata": {},
   "outputs": [],
   "source": []
  }
 ],
 "metadata": {
  "kernelspec": {
   "display_name": "Python 3",
   "language": "python",
   "name": "python3"
  },
  "language_info": {
   "codemirror_mode": {
    "name": "ipython",
    "version": 3
   },
   "file_extension": ".py",
   "mimetype": "text/x-python",
   "name": "python",
   "nbconvert_exporter": "python",
   "pygments_lexer": "ipython3",
   "version": "3.8.8"
  }
 },
 "nbformat": 4,
 "nbformat_minor": 5
}
