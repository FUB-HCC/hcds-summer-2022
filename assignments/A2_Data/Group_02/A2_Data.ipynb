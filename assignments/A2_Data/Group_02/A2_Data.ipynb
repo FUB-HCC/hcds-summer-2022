{
 "cells": [
  {
   "cell_type": "code",
   "execution_count": 1,
   "metadata": {
    "collapsed": true
   },
   "outputs": [],
   "source": [
    "import pandas as pd\n",
    "import numpy as np\n",
    "import seaborn as sns\n",
    "import matplotlib.pyplot as plt\n",
    "from dython.nominal import associations, cluster_correlations\n",
    "import matplotlib.gridspec as gridspec"
   ]
  },
  {
   "cell_type": "code",
   "execution_count": 2,
   "outputs": [],
   "source": [
    "# Function hub\n",
    "def plot_univariate_analysis(df, features, plot_type, plot):\n",
    "    \"\"\"\n",
    "    Plot boxplot, barplot or histogram for univariate analysis.\n",
    "    :param df: df, input dataframe\n",
    "    :param features: list, features to plot\n",
    "    :param plot_type: str, plot type\n",
    "    :param plot: plot\n",
    "    :return: -\n",
    "    \"\"\"\n",
    "    cnt = 0\n",
    "\n",
    "    for ftr in features:\n",
    "        if plot_type == 'box':\n",
    "            sns.boxplot(x=ftr, data=df, ax=axes[cnt])\n",
    "        elif plot_type == 'bar':\n",
    "            freq = df[ftr].value_counts()\n",
    "            sns.barplot(x=freq.index, y=freq.values, ax=axes[cnt])\n",
    "        elif plot_type == 'hist':\n",
    "            sns.histplot(data=df, x=ftr, bins=30, ax=axes[cnt])\n",
    "        cnt = cnt + 1\n",
    "    plot.tight_layout()"
   ],
   "metadata": {
    "collapsed": false,
    "pycharm": {
     "name": "#%%\n"
    }
   }
  },
  {
   "cell_type": "markdown",
   "source": [
    "## Data Acquisition"
   ],
   "metadata": {
    "collapsed": false,
    "pycharm": {
     "name": "#%% md\n"
    }
   }
  },
  {
   "cell_type": "markdown",
   "source": [
    "##### Data Set Information\n",
    "\n",
    "The original dataset \"german.data\" is in the form provided by Prof. Hofmann and contains categorical/symbolic attributes.\n",
    "\n",
    "The last column represents the class attribute - the goodness of the customer (1 = Good, 2 = Bad).\n",
    "\n",
    "It is worse to class a customer as good when they are bad (5), than it is to class a customer as bad when they are good (1).\n",
    "\n",
    "\n",
    "Attribute Information:\n",
    "\n",
    "Attribute 1: (qualitative)\n",
    "Status of existing checking account\n",
    "A11 : ... < 0 DM\n",
    "A12 : 0 <= ... < 200 DM\n",
    "A13 : ... >= 200 DM / salary assignments for at least 1 year\n",
    "A14 : no checking account\n",
    "\n",
    "Attribute 2: (numerical)\n",
    "Duration in month\n",
    "\n",
    "Attribute 3: (qualitative)\n",
    "Credit history\n",
    "A30 : no credits taken/ all credits paid back duly\n",
    "A31 : all credits at this bank paid back duly\n",
    "A32 : existing credits paid back duly till now\n",
    "A33 : delay in paying off in the past\n",
    "A34 : critical account/ other credits existing (not at this bank)\n",
    "\n",
    "Attribute 4: (qualitative)\n",
    "Purpose\n",
    "A40 : car (new)\n",
    "A41 : car (used)\n",
    "A42 : furniture/equipment\n",
    "A43 : radio/television\n",
    "A44 : domestic appliances\n",
    "A45 : repairs\n",
    "A46 : education\n",
    "A47 : (vacation - does not exist?)\n",
    "A48 : retraining\n",
    "A49 : business\n",
    "A410 : others\n",
    "\n",
    "Attribute 5: (numerical)\n",
    "Credit amount\n",
    "\n",
    "Attibute 6: (qualitative)\n",
    "Savings account/bonds\n",
    "A61 : ... < 100 DM\n",
    "A62 : 100 <= ... < 500 DM\n",
    "A63 : 500 <= ... < 1000 DM\n",
    "A64 : .. >= 1000 DM\n",
    "A65 : unknown/ no savings account\n",
    "\n",
    "Attribute 7: (qualitative)\n",
    "Present employment since\n",
    "A71 : unemployed\n",
    "A72 : ... < 1 year\n",
    "A73 : 1 <= ... < 4 years\n",
    "A74 : 4 <= ... < 7 years\n",
    "A75 : .. >= 7 years\n",
    "\n",
    "Attribute 8: (numerical)\n",
    "Installment rate in percentage of disposable income\n",
    "\n",
    "Attribute 9: (qualitative)\n",
    "Personal status and sex\n",
    "A91 : male : divorced/separated\n",
    "A92 : female : divorced/separated/married\n",
    "A93 : male : single\n",
    "A94 : male : married/widowed\n",
    "A95 : female : single\n",
    "\n",
    "Attribute 10: (qualitative)\n",
    "Other debtors / guarantors\n",
    "A101 : none\n",
    "A102 : co-applicant\n",
    "A103 : guarantor\n",
    "\n",
    "Attribute 11: (numerical)\n",
    "Present residence since\n",
    "\n",
    "Attribute 12: (qualitative)\n",
    "Property\n",
    "A121 : real estate\n",
    "A122 : if not A121 : building society savings agreement/ life insurance\n",
    "A123 : if not A121/A122 : car or other, not in attribute 6\n",
    "A124 : unknown / no property\n",
    "\n",
    "Attribute 13: (numerical)\n",
    "Age in years\n",
    "\n",
    "Attribute 14: (qualitative)\n",
    "Other installment plans\n",
    "A141 : bank\n",
    "A142 : stores\n",
    "A143 : none\n",
    "\n",
    "Attribute 15: (qualitative)\n",
    "Housing\n",
    "A151 : rent\n",
    "A152 : own\n",
    "A153 : for free\n",
    "\n",
    "Attribute 16: (numerical)\n",
    "Number of existing credits at this bank\n",
    "\n",
    "Attribute 17: (qualitative)\n",
    "Job\n",
    "A171 : unemployed/ unskilled - non-resident\n",
    "A172 : unskilled - resident\n",
    "A173 : skilled employee / official\n",
    "A174 : management/ self-employed/\n",
    "highly qualified employee/ officer\n",
    "\n",
    "Attribute 18: (numerical)\n",
    "Number of people being liable to provide maintenance for\n",
    "\n",
    "Attribute 19: (qualitative)\n",
    "Telephone\n",
    "A191 : none\n",
    "A192 : yes, registered under the customers name\n",
    "\n",
    "Attribute 20: (qualitative)\n",
    "foreign worker\n",
    "A201 : yes\n",
    "A202 : no\n"
   ],
   "metadata": {
    "collapsed": false,
    "pycharm": {
     "name": "#%% md\n"
    }
   }
  },
  {
   "cell_type": "markdown",
   "source": [
    "## Pre-processing"
   ],
   "metadata": {
    "collapsed": false,
    "pycharm": {
     "name": "#%% md\n"
    }
   }
  },
  {
   "cell_type": "code",
   "execution_count": 3,
   "outputs": [],
   "source": [
    "# Transform the german.data file into the CSV file format, i.e. german_processed.csv.\n",
    "\n",
    "# For errorless reading of data from the web\n",
    "import ssl\n",
    "ssl._create_default_https_context = ssl._create_unverified_context\n",
    "\n",
    "# Read in data\n",
    "df_german = pd.read_csv('https://archive.ics.uci.edu/ml/machine-learning-databases/statlog/german/german.data', sep=' ', header = None)"
   ],
   "metadata": {
    "collapsed": false,
    "pycharm": {
     "name": "#%%\n"
    }
   }
  },
  {
   "cell_type": "code",
   "execution_count": 4,
   "outputs": [
    {
     "data": {
      "text/plain": "  checking_account  duration_in_month credit_history purpose  credit_amount  \\\n0              A11                  6            A34     A43           1169   \n1              A12                 48            A32     A43           5951   \n2              A14                 12            A34     A46           2096   \n3              A11                 42            A32     A42           7882   \n4              A11                 24            A33     A40           4870   \n\n  savings_account employment_since  installment_rate status_and_sex  \\\n0             A65              A75                 4            A93   \n1             A61              A73                 2            A92   \n2             A61              A74                 2            A93   \n3             A61              A74                 2            A93   \n4             A61              A73                 3            A93   \n\n  co-applicants_guarantors  ...  property age  other_installment_plans  \\\n0                     A101  ...      A121  67                     A143   \n1                     A101  ...      A121  22                     A143   \n2                     A101  ...      A121  49                     A143   \n3                     A103  ...      A122  45                     A143   \n4                     A101  ...      A124  53                     A143   \n\n  housing existing_credits   job people_to_provide_maintenance_for  telephone  \\\n0    A152                2  A173                                 1       A192   \n1    A152                1  A173                                 1       A191   \n2    A152                1  A172                                 2       A191   \n3    A153                1  A173                                 2       A191   \n4    A153                2  A173                                 2       A191   \n\n  foreign_worker customer_goodness  \n0           A201                 1  \n1           A201                 2  \n2           A201                 1  \n3           A201                 1  \n4           A201                 2  \n\n[5 rows x 21 columns]",
      "text/html": "<div>\n<style scoped>\n    .dataframe tbody tr th:only-of-type {\n        vertical-align: middle;\n    }\n\n    .dataframe tbody tr th {\n        vertical-align: top;\n    }\n\n    .dataframe thead th {\n        text-align: right;\n    }\n</style>\n<table border=\"1\" class=\"dataframe\">\n  <thead>\n    <tr style=\"text-align: right;\">\n      <th></th>\n      <th>checking_account</th>\n      <th>duration_in_month</th>\n      <th>credit_history</th>\n      <th>purpose</th>\n      <th>credit_amount</th>\n      <th>savings_account</th>\n      <th>employment_since</th>\n      <th>installment_rate</th>\n      <th>status_and_sex</th>\n      <th>co-applicants_guarantors</th>\n      <th>...</th>\n      <th>property</th>\n      <th>age</th>\n      <th>other_installment_plans</th>\n      <th>housing</th>\n      <th>existing_credits</th>\n      <th>job</th>\n      <th>people_to_provide_maintenance_for</th>\n      <th>telephone</th>\n      <th>foreign_worker</th>\n      <th>customer_goodness</th>\n    </tr>\n  </thead>\n  <tbody>\n    <tr>\n      <th>0</th>\n      <td>A11</td>\n      <td>6</td>\n      <td>A34</td>\n      <td>A43</td>\n      <td>1169</td>\n      <td>A65</td>\n      <td>A75</td>\n      <td>4</td>\n      <td>A93</td>\n      <td>A101</td>\n      <td>...</td>\n      <td>A121</td>\n      <td>67</td>\n      <td>A143</td>\n      <td>A152</td>\n      <td>2</td>\n      <td>A173</td>\n      <td>1</td>\n      <td>A192</td>\n      <td>A201</td>\n      <td>1</td>\n    </tr>\n    <tr>\n      <th>1</th>\n      <td>A12</td>\n      <td>48</td>\n      <td>A32</td>\n      <td>A43</td>\n      <td>5951</td>\n      <td>A61</td>\n      <td>A73</td>\n      <td>2</td>\n      <td>A92</td>\n      <td>A101</td>\n      <td>...</td>\n      <td>A121</td>\n      <td>22</td>\n      <td>A143</td>\n      <td>A152</td>\n      <td>1</td>\n      <td>A173</td>\n      <td>1</td>\n      <td>A191</td>\n      <td>A201</td>\n      <td>2</td>\n    </tr>\n    <tr>\n      <th>2</th>\n      <td>A14</td>\n      <td>12</td>\n      <td>A34</td>\n      <td>A46</td>\n      <td>2096</td>\n      <td>A61</td>\n      <td>A74</td>\n      <td>2</td>\n      <td>A93</td>\n      <td>A101</td>\n      <td>...</td>\n      <td>A121</td>\n      <td>49</td>\n      <td>A143</td>\n      <td>A152</td>\n      <td>1</td>\n      <td>A172</td>\n      <td>2</td>\n      <td>A191</td>\n      <td>A201</td>\n      <td>1</td>\n    </tr>\n    <tr>\n      <th>3</th>\n      <td>A11</td>\n      <td>42</td>\n      <td>A32</td>\n      <td>A42</td>\n      <td>7882</td>\n      <td>A61</td>\n      <td>A74</td>\n      <td>2</td>\n      <td>A93</td>\n      <td>A103</td>\n      <td>...</td>\n      <td>A122</td>\n      <td>45</td>\n      <td>A143</td>\n      <td>A153</td>\n      <td>1</td>\n      <td>A173</td>\n      <td>2</td>\n      <td>A191</td>\n      <td>A201</td>\n      <td>1</td>\n    </tr>\n    <tr>\n      <th>4</th>\n      <td>A11</td>\n      <td>24</td>\n      <td>A33</td>\n      <td>A40</td>\n      <td>4870</td>\n      <td>A61</td>\n      <td>A73</td>\n      <td>3</td>\n      <td>A93</td>\n      <td>A101</td>\n      <td>...</td>\n      <td>A124</td>\n      <td>53</td>\n      <td>A143</td>\n      <td>A153</td>\n      <td>2</td>\n      <td>A173</td>\n      <td>2</td>\n      <td>A191</td>\n      <td>A201</td>\n      <td>2</td>\n    </tr>\n  </tbody>\n</table>\n<p>5 rows × 21 columns</p>\n</div>"
     },
     "execution_count": 4,
     "metadata": {},
     "output_type": "execute_result"
    }
   ],
   "source": [
    "# Add a header row with the attribute names.\n",
    "\n",
    "df_german.columns = ['checking_account', 'duration_in_month', 'credit_history', 'purpose', 'credit_amount', 'savings_account','employment_since', 'installment_rate', 'status_and_sex', 'co-applicants_guarantors', 'residence_since', 'property', 'age', 'other_installment_plans', 'housing', 'existing_credits', 'job', 'people_to_provide_maintenance_for', 'telephone', 'foreign_worker', 'customer_goodness']\n",
    "\n",
    "# Full names\n",
    "\"\"\"df_german.columns = ['Status_of_existing_checking_account', 'Duration_in_month', 'Credit_history', 'Purpose', 'Credit_amount', 'Savings_account/bonds','Present_employment_since', 'Installment_rate_in_percentage_of_disposable_income', 'Personal_status_and_sex', 'Other_debtors/guarantors', 'Present_residence_since', 'Property', 'Age_in_years', 'Other_installment_plans', 'Housing', 'Number_of_existing_credits_at_this_bank', 'Job', 'People_being_liable_to_provide_maintenance_for', 'Telephone', 'Foreign_worker', 'Customer_goodness']\"\"\"\n",
    "\n",
    "df_german.head()"
   ],
   "metadata": {
    "collapsed": false,
    "pycharm": {
     "name": "#%%\n"
    }
   }
  },
  {
   "cell_type": "code",
   "execution_count": 5,
   "outputs": [],
   "source": [
    "# Convert all categorical data points into something more human-understandable, e.g. A42 -> furniture/equipment.\n",
    "\n",
    "df_german = df_german.replace({\n",
    "                              \"A11\": \"negative\",\n",
    "                              \"A12\": \"0_to_200\",\n",
    "                              \"A13\": \"over_200\",\n",
    "                              \"A14\": \"none\",\n",
    "\n",
    "                              \"A30\": \"none_or_duly_paid\",\n",
    "                              \"A31\": \"duly_paid\",\n",
    "                              \"A32\": \"existing_duly_paid\",\n",
    "                              \"A33\": \"delayed\",\n",
    "                              \"A34\": \"critical_account\",\n",
    "\n",
    "                              \"A40\": \"car_new\",\n",
    "                              \"A41\": \"car:used\",\n",
    "                              \"A42\": \"furniture\",\n",
    "                              \"A43\": \"radio_tv\",\n",
    "                              \"A44\": \"appliances\",\n",
    "                              \"A45\": \"repairs\",\n",
    "                              \"A46\": \"education\",\n",
    "                              \"A47\": \"vacation\",\n",
    "                              \"A48\": \"retraining\",\n",
    "                              \"A49\": \"business\",\n",
    "                              \"A410\": \"other\",\n",
    "\n",
    "                              \"A61\": \"up_to_100\",\n",
    "                              \"A62\": \"100_to_500\",\n",
    "                              \"A63\": \"500_to_1000\",\n",
    "                              \"A64\": \"over_1000\",\n",
    "                              \"A65\": \"unknown\",\n",
    "\n",
    "                              \"A71\": \"unemployed\",\n",
    "                              \"A72\": \"up_to_1y\",\n",
    "                              \"A73\": \"1_to_4y\",\n",
    "                              \"A74\": \"4_to_7y\",\n",
    "                              \"A75\": \"over_7y\",\n",
    "\n",
    "                              \"A91\": \"male_separated\",\n",
    "                              \"A92\": \"female_married_separated\",\n",
    "                              \"A93\": \"male_single\",\n",
    "                              \"A94\": \"male_married\",\n",
    "                              \"A95\": \"female_single\",\n",
    "\n",
    "                              \"A101\": \"none\",\n",
    "                              \"A102\": \"co-applicant\",\n",
    "                              \"A103\": \"guarantor\",\n",
    "\n",
    "                              \"A121\": \"real_estate\",\n",
    "                              \"A122\": \"building_society_savings_agreement_or_life_insurance\", #???\n",
    "                              \"A123\": \"car_other\",\n",
    "                              \"A124\": \"none_unknown\",\n",
    "\n",
    "                              \"A141\": \"bank\",\n",
    "                              \"A142\": \"stores\",\n",
    "                              \"A143\": \"none\",\n",
    "\n",
    "                              \"A151\": \"rent\",\n",
    "                              \"A152\": \"own\",\n",
    "                              \"A153\": \"free\",\n",
    "\n",
    "                              \"A171\": \"unemployed_non-resident\",\n",
    "                              \"A172\": \"unskilled_resident\",\n",
    "                              \"A173\": \"employed\",\n",
    "                              \"A174\": \"highly_qualified_or_self-employed\",\n",
    "\n",
    "                              \"A191\": \"no\",\n",
    "                              \"A192\": \"yes\",\n",
    "\n",
    "                              \"A201\": \"yes\",\n",
    "                              \"A202\": \"no\",\n",
    "                               })\n",
    "\n",
    "df_german = df_german.replace({\"customer_goodness\": 2}, 0) # 1 = \"yes\", 0 = \"no\""
   ],
   "metadata": {
    "collapsed": false,
    "pycharm": {
     "name": "#%%\n"
    }
   }
  },
  {
   "cell_type": "code",
   "execution_count": 6,
   "outputs": [
    {
     "data": {
      "text/plain": "    checking_account  duration_in_month      credit_history    purpose  \\\n0           negative                  6    critical_account   radio_tv   \n1           0_to_200                 48  existing_duly_paid   radio_tv   \n2               none                 12    critical_account  education   \n3           negative                 42  existing_duly_paid  furniture   \n4           negative                 24             delayed    car_new   \n..               ...                ...                 ...        ...   \n995             none                 12  existing_duly_paid  furniture   \n996         negative                 30  existing_duly_paid   car:used   \n997             none                 12  existing_duly_paid   radio_tv   \n998         negative                 45  existing_duly_paid   radio_tv   \n999         0_to_200                 45    critical_account   car:used   \n\n     credit_amount savings_account employment_since  installment_rate  \\\n0             1169         unknown          over_7y                 4   \n1             5951       up_to_100          1_to_4y                 2   \n2             2096       up_to_100          4_to_7y                 2   \n3             7882       up_to_100          4_to_7y                 2   \n4             4870       up_to_100          1_to_4y                 3   \n..             ...             ...              ...               ...   \n995           1736       up_to_100          4_to_7y                 3   \n996           3857       up_to_100          1_to_4y                 4   \n997            804       up_to_100          over_7y                 4   \n998           1845       up_to_100          1_to_4y                 4   \n999           4576      100_to_500       unemployed                 3   \n\n               status_and_sex co-applicants_guarantors  ...  \\\n0                 male_single                     none  ...   \n1    female_married_separated                     none  ...   \n2                 male_single                     none  ...   \n3                 male_single                guarantor  ...   \n4                 male_single                     none  ...   \n..                        ...                      ...  ...   \n995  female_married_separated                     none  ...   \n996            male_separated                     none  ...   \n997               male_single                     none  ...   \n998               male_single                     none  ...   \n999               male_single                     none  ...   \n\n                                              property age  \\\n0                                          real_estate  67   \n1                                          real_estate  22   \n2                                          real_estate  49   \n3    building_society_savings_agreement_or_life_ins...  45   \n4                                         none_unknown  53   \n..                                                 ...  ..   \n995                                        real_estate  31   \n996  building_society_savings_agreement_or_life_ins...  40   \n997                                          car_other  38   \n998                                       none_unknown  23   \n999                                          car_other  27   \n\n     other_installment_plans housing existing_credits  \\\n0                       none     own                2   \n1                       none     own                1   \n2                       none     own                1   \n3                       none    free                1   \n4                       none    free                2   \n..                       ...     ...              ...   \n995                     none     own                1   \n996                     none     own                1   \n997                     none     own                1   \n998                     none    free                1   \n999                     none     own                1   \n\n                                   job people_to_provide_maintenance_for  \\\n0                             employed                                 1   \n1                             employed                                 1   \n2                   unskilled_resident                                 2   \n3                             employed                                 2   \n4                             employed                                 2   \n..                                 ...                               ...   \n995                 unskilled_resident                                 1   \n996  highly_qualified_or_self-employed                                 1   \n997                           employed                                 1   \n998                           employed                                 1   \n999                           employed                                 1   \n\n     telephone foreign_worker customer_goodness  \n0          yes            yes                 1  \n1           no            yes                 0  \n2           no            yes                 1  \n3           no            yes                 1  \n4           no            yes                 0  \n..         ...            ...               ...  \n995         no            yes                 1  \n996        yes            yes                 1  \n997         no            yes                 1  \n998        yes            yes                 0  \n999         no            yes                 1  \n\n[1000 rows x 21 columns]",
      "text/html": "<div>\n<style scoped>\n    .dataframe tbody tr th:only-of-type {\n        vertical-align: middle;\n    }\n\n    .dataframe tbody tr th {\n        vertical-align: top;\n    }\n\n    .dataframe thead th {\n        text-align: right;\n    }\n</style>\n<table border=\"1\" class=\"dataframe\">\n  <thead>\n    <tr style=\"text-align: right;\">\n      <th></th>\n      <th>checking_account</th>\n      <th>duration_in_month</th>\n      <th>credit_history</th>\n      <th>purpose</th>\n      <th>credit_amount</th>\n      <th>savings_account</th>\n      <th>employment_since</th>\n      <th>installment_rate</th>\n      <th>status_and_sex</th>\n      <th>co-applicants_guarantors</th>\n      <th>...</th>\n      <th>property</th>\n      <th>age</th>\n      <th>other_installment_plans</th>\n      <th>housing</th>\n      <th>existing_credits</th>\n      <th>job</th>\n      <th>people_to_provide_maintenance_for</th>\n      <th>telephone</th>\n      <th>foreign_worker</th>\n      <th>customer_goodness</th>\n    </tr>\n  </thead>\n  <tbody>\n    <tr>\n      <th>0</th>\n      <td>negative</td>\n      <td>6</td>\n      <td>critical_account</td>\n      <td>radio_tv</td>\n      <td>1169</td>\n      <td>unknown</td>\n      <td>over_7y</td>\n      <td>4</td>\n      <td>male_single</td>\n      <td>none</td>\n      <td>...</td>\n      <td>real_estate</td>\n      <td>67</td>\n      <td>none</td>\n      <td>own</td>\n      <td>2</td>\n      <td>employed</td>\n      <td>1</td>\n      <td>yes</td>\n      <td>yes</td>\n      <td>1</td>\n    </tr>\n    <tr>\n      <th>1</th>\n      <td>0_to_200</td>\n      <td>48</td>\n      <td>existing_duly_paid</td>\n      <td>radio_tv</td>\n      <td>5951</td>\n      <td>up_to_100</td>\n      <td>1_to_4y</td>\n      <td>2</td>\n      <td>female_married_separated</td>\n      <td>none</td>\n      <td>...</td>\n      <td>real_estate</td>\n      <td>22</td>\n      <td>none</td>\n      <td>own</td>\n      <td>1</td>\n      <td>employed</td>\n      <td>1</td>\n      <td>no</td>\n      <td>yes</td>\n      <td>0</td>\n    </tr>\n    <tr>\n      <th>2</th>\n      <td>none</td>\n      <td>12</td>\n      <td>critical_account</td>\n      <td>education</td>\n      <td>2096</td>\n      <td>up_to_100</td>\n      <td>4_to_7y</td>\n      <td>2</td>\n      <td>male_single</td>\n      <td>none</td>\n      <td>...</td>\n      <td>real_estate</td>\n      <td>49</td>\n      <td>none</td>\n      <td>own</td>\n      <td>1</td>\n      <td>unskilled_resident</td>\n      <td>2</td>\n      <td>no</td>\n      <td>yes</td>\n      <td>1</td>\n    </tr>\n    <tr>\n      <th>3</th>\n      <td>negative</td>\n      <td>42</td>\n      <td>existing_duly_paid</td>\n      <td>furniture</td>\n      <td>7882</td>\n      <td>up_to_100</td>\n      <td>4_to_7y</td>\n      <td>2</td>\n      <td>male_single</td>\n      <td>guarantor</td>\n      <td>...</td>\n      <td>building_society_savings_agreement_or_life_ins...</td>\n      <td>45</td>\n      <td>none</td>\n      <td>free</td>\n      <td>1</td>\n      <td>employed</td>\n      <td>2</td>\n      <td>no</td>\n      <td>yes</td>\n      <td>1</td>\n    </tr>\n    <tr>\n      <th>4</th>\n      <td>negative</td>\n      <td>24</td>\n      <td>delayed</td>\n      <td>car_new</td>\n      <td>4870</td>\n      <td>up_to_100</td>\n      <td>1_to_4y</td>\n      <td>3</td>\n      <td>male_single</td>\n      <td>none</td>\n      <td>...</td>\n      <td>none_unknown</td>\n      <td>53</td>\n      <td>none</td>\n      <td>free</td>\n      <td>2</td>\n      <td>employed</td>\n      <td>2</td>\n      <td>no</td>\n      <td>yes</td>\n      <td>0</td>\n    </tr>\n    <tr>\n      <th>...</th>\n      <td>...</td>\n      <td>...</td>\n      <td>...</td>\n      <td>...</td>\n      <td>...</td>\n      <td>...</td>\n      <td>...</td>\n      <td>...</td>\n      <td>...</td>\n      <td>...</td>\n      <td>...</td>\n      <td>...</td>\n      <td>...</td>\n      <td>...</td>\n      <td>...</td>\n      <td>...</td>\n      <td>...</td>\n      <td>...</td>\n      <td>...</td>\n      <td>...</td>\n      <td>...</td>\n    </tr>\n    <tr>\n      <th>995</th>\n      <td>none</td>\n      <td>12</td>\n      <td>existing_duly_paid</td>\n      <td>furniture</td>\n      <td>1736</td>\n      <td>up_to_100</td>\n      <td>4_to_7y</td>\n      <td>3</td>\n      <td>female_married_separated</td>\n      <td>none</td>\n      <td>...</td>\n      <td>real_estate</td>\n      <td>31</td>\n      <td>none</td>\n      <td>own</td>\n      <td>1</td>\n      <td>unskilled_resident</td>\n      <td>1</td>\n      <td>no</td>\n      <td>yes</td>\n      <td>1</td>\n    </tr>\n    <tr>\n      <th>996</th>\n      <td>negative</td>\n      <td>30</td>\n      <td>existing_duly_paid</td>\n      <td>car:used</td>\n      <td>3857</td>\n      <td>up_to_100</td>\n      <td>1_to_4y</td>\n      <td>4</td>\n      <td>male_separated</td>\n      <td>none</td>\n      <td>...</td>\n      <td>building_society_savings_agreement_or_life_ins...</td>\n      <td>40</td>\n      <td>none</td>\n      <td>own</td>\n      <td>1</td>\n      <td>highly_qualified_or_self-employed</td>\n      <td>1</td>\n      <td>yes</td>\n      <td>yes</td>\n      <td>1</td>\n    </tr>\n    <tr>\n      <th>997</th>\n      <td>none</td>\n      <td>12</td>\n      <td>existing_duly_paid</td>\n      <td>radio_tv</td>\n      <td>804</td>\n      <td>up_to_100</td>\n      <td>over_7y</td>\n      <td>4</td>\n      <td>male_single</td>\n      <td>none</td>\n      <td>...</td>\n      <td>car_other</td>\n      <td>38</td>\n      <td>none</td>\n      <td>own</td>\n      <td>1</td>\n      <td>employed</td>\n      <td>1</td>\n      <td>no</td>\n      <td>yes</td>\n      <td>1</td>\n    </tr>\n    <tr>\n      <th>998</th>\n      <td>negative</td>\n      <td>45</td>\n      <td>existing_duly_paid</td>\n      <td>radio_tv</td>\n      <td>1845</td>\n      <td>up_to_100</td>\n      <td>1_to_4y</td>\n      <td>4</td>\n      <td>male_single</td>\n      <td>none</td>\n      <td>...</td>\n      <td>none_unknown</td>\n      <td>23</td>\n      <td>none</td>\n      <td>free</td>\n      <td>1</td>\n      <td>employed</td>\n      <td>1</td>\n      <td>yes</td>\n      <td>yes</td>\n      <td>0</td>\n    </tr>\n    <tr>\n      <th>999</th>\n      <td>0_to_200</td>\n      <td>45</td>\n      <td>critical_account</td>\n      <td>car:used</td>\n      <td>4576</td>\n      <td>100_to_500</td>\n      <td>unemployed</td>\n      <td>3</td>\n      <td>male_single</td>\n      <td>none</td>\n      <td>...</td>\n      <td>car_other</td>\n      <td>27</td>\n      <td>none</td>\n      <td>own</td>\n      <td>1</td>\n      <td>employed</td>\n      <td>1</td>\n      <td>no</td>\n      <td>yes</td>\n      <td>1</td>\n    </tr>\n  </tbody>\n</table>\n<p>1000 rows × 21 columns</p>\n</div>"
     },
     "execution_count": 6,
     "metadata": {},
     "output_type": "execute_result"
    }
   ],
   "source": [
    "df_german"
   ],
   "metadata": {
    "collapsed": false,
    "pycharm": {
     "name": "#%%\n"
    }
   }
  },
  {
   "cell_type": "code",
   "execution_count": 8,
   "outputs": [],
   "source": [
    "# Submit the final processed CSV file to your group folder (hcds-summer-2022/assignments/A2_GCD_explo/GROUP).\n",
    "\n",
    "df_german.to_csv('../Group_02/df_german.csv')"
   ],
   "metadata": {
    "collapsed": false,
    "pycharm": {
     "name": "#%%\n"
    }
   }
  },
  {
   "cell_type": "markdown",
   "source": [
    " ## Data Analysis\n",
    "\n",
    "What can you say about the features?\n",
    "What are the proportions of applicants belonging to a certain feature?\n",
    "How is the distribution of a feature?\n",
    "Who is considered to have a good or bad credit risk?"
   ],
   "metadata": {
    "collapsed": false,
    "pycharm": {
     "name": "#%% md\n"
    }
   }
  },
  {
   "cell_type": "markdown",
   "source": [
    "##### Univariate exploratory analysis"
   ],
   "metadata": {
    "collapsed": false,
    "pycharm": {
     "name": "#%% md\n"
    }
   }
  },
  {
   "cell_type": "code",
   "execution_count": null,
   "outputs": [],
   "source": [
    "# Split features into categorical and numerical\n",
    "dtype = df_german.dtypes\n",
    "num_features = dtype[dtype == 'int64'].index\n",
    "cat_features = dtype[dtype == 'object'].index"
   ],
   "metadata": {
    "collapsed": false,
    "pycharm": {
     "name": "#%%\n"
    }
   }
  },
  {
   "cell_type": "code",
   "execution_count": null,
   "outputs": [],
   "source": [
    "# Univariate statistics for numerical features\n",
    "df_german[num_features].describe()"
   ],
   "metadata": {
    "collapsed": false,
    "pycharm": {
     "name": "#%%\n"
    }
   }
  },
  {
   "cell_type": "code",
   "execution_count": null,
   "outputs": [],
   "source": [
    "# Plot numerical features as histograms\n",
    "plot_hist, axes = plt.subplots(1, len(num_features))\n",
    "plot_hist.set_size_inches(25, 6)\n",
    "plot_univariate_analysis(df_german, num_features, 'hist', plot_hist)"
   ],
   "metadata": {
    "collapsed": false,
    "pycharm": {
     "name": "#%%\n"
    }
   }
  },
  {
   "cell_type": "code",
   "execution_count": null,
   "outputs": [],
   "source": [
    "# Plot numerical features as boxplots\n",
    "plot_num, axes = plt.subplots(1, len(num_features))\n",
    "plot_num.set_size_inches(25, 6)\n",
    "plot_univariate_analysis(df_german, num_features, 'box', plot_num)"
   ],
   "metadata": {
    "collapsed": false,
    "pycharm": {
     "name": "#%%\n"
    }
   }
  },
  {
   "cell_type": "code",
   "execution_count": null,
   "outputs": [],
   "source": [
    "# Mode: univariate statistic for categorical features\n",
    "pd.DataFrame(data=df_german, columns=cat_features).mode()"
   ],
   "metadata": {
    "collapsed": false,
    "pycharm": {
     "name": "#%%\n"
    }
   }
  },
  {
   "cell_type": "code",
   "execution_count": null,
   "outputs": [],
   "source": [
    "# Plot categorical features as barplots\n",
    "plot_cat, axes = plt.subplots(len(cat_features), 1)\n",
    "plot_cat.set_size_inches(25, 30)\n",
    "plot_univariate_analysis(df_german, cat_features, 'bar', plot_cat)"
   ],
   "metadata": {
    "collapsed": false,
    "pycharm": {
     "name": "#%%\n"
    }
   }
  },
  {
   "cell_type": "markdown",
   "source": [
    "#### Bivariate exploratory analysis"
   ],
   "metadata": {
    "collapsed": false,
    "pycharm": {
     "name": "#%% md\n"
    }
   }
  },
  {
   "cell_type": "code",
   "execution_count": null,
   "outputs": [],
   "source": [
    "# Calculate the correlation/strength-of-association for both categorical and continuous features in the ds:\n",
    "\n",
    "# * Pearson's R for continuous-continuous cases\n",
    "# * Correlation Ratio for categorical-continuous cases\n",
    "# * Cramer's V or Theil's U for categorical-categorical cases\n",
    "assoc_matrix = associations(dataset = df_german, nom_nom_assoc = \"cramer\", figsize = (16,10))"
   ],
   "metadata": {
    "collapsed": false,
    "pycharm": {
     "name": "#%%\n"
    }
   }
  },
  {
   "cell_type": "code",
   "execution_count": null,
   "outputs": [],
   "source": [
    "# Absolute ssociations of features with the class attribute in ascending order\n",
    "\n",
    "associations, _ = cluster_correlations(assoc_matrix[\"corr\"])\n",
    "corr = abs (round(associations[\"customer_goodness\"], 2) ).sort_values()\n",
    "plt.figure(figsize=(25, 5))\n",
    "plt.scatter(x = corr.index, y = corr.values)"
   ],
   "metadata": {
    "collapsed": false,
    "pycharm": {
     "name": "#%%\n"
    }
   }
  },
  {
   "cell_type": "code",
   "execution_count": null,
   "outputs": [],
   "source": [
    "# Association values\n",
    "corr"
   ],
   "metadata": {
    "collapsed": false,
    "pycharm": {
     "name": "#%%\n"
    }
   }
  },
  {
   "cell_type": "markdown",
   "source": [
    "##### Further preprocessing steps depend on the application in mind..."
   ],
   "metadata": {
    "collapsed": false,
    "pycharm": {
     "name": "#%% md\n"
    }
   }
  },
  {
   "cell_type": "code",
   "execution_count": null,
   "outputs": [],
   "source": [],
   "metadata": {
    "collapsed": false,
    "pycharm": {
     "name": "#%%\n"
    }
   }
  }
 ],
 "metadata": {
  "kernelspec": {
   "display_name": "Python 3",
   "language": "python",
   "name": "python3"
  },
  "language_info": {
   "codemirror_mode": {
    "name": "ipython",
    "version": 2
   },
   "file_extension": ".py",
   "mimetype": "text/x-python",
   "name": "python",
   "nbconvert_exporter": "python",
   "pygments_lexer": "ipython2",
   "version": "2.7.6"
  }
 },
 "nbformat": 4,
 "nbformat_minor": 0
}