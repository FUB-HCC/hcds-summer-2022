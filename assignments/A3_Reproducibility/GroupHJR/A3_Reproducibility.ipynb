{
 "cells": [
  {
   "cell_type": "markdown",
   "id": "56dcfbaa",
   "metadata": {},
   "source": [
    "# Reproducible model training "
   ]
  },
  {
   "cell_type": "code",
   "execution_count": 117,
   "id": "c6de66c2",
   "metadata": {},
   "outputs": [],
   "source": [
    "# Importing required libraries.\n",
    "import pandas as pd\n",
    "import numpy as np\n",
    "import matplotlib.pyplot as plt\n",
    "\n",
    "import seaborn as sns\n",
    "# Visualization condition\n",
    "fig, ax = plt.subplots()\n",
    "%matplotlib inline \n",
    "\n",
    "import warnings\n",
    "warnings.filterwarnings(\"ignore\")"
   ]
  },
  {
   "cell_type": "code",
   "execution_count": 118,
   "id": "4b9d0519",
   "metadata": {},
   "outputs": [
    {
     "data": {
      "text/html": [
       "<div>\n",
       "<style scoped>\n",
       "    .dataframe tbody tr th:only-of-type {\n",
       "        vertical-align: middle;\n",
       "    }\n",
       "\n",
       "    .dataframe tbody tr th {\n",
       "        vertical-align: top;\n",
       "    }\n",
       "\n",
       "    .dataframe thead th {\n",
       "        text-align: right;\n",
       "    }\n",
       "</style>\n",
       "<table border=\"1\" class=\"dataframe\">\n",
       "  <thead>\n",
       "    <tr style=\"text-align: right;\">\n",
       "      <th></th>\n",
       "      <th>checking account</th>\n",
       "      <th>duration in month</th>\n",
       "      <th>credit history</th>\n",
       "      <th>credit purpose</th>\n",
       "      <th>credit amount</th>\n",
       "      <th>savings account</th>\n",
       "      <th>employment since..</th>\n",
       "      <th>installment rate</th>\n",
       "      <th>status : sex</th>\n",
       "      <th>other debtors / guarantors</th>\n",
       "      <th>...</th>\n",
       "      <th>property</th>\n",
       "      <th>relationship : age</th>\n",
       "      <th>other installment plans</th>\n",
       "      <th>housing</th>\n",
       "      <th>existing credits</th>\n",
       "      <th>job</th>\n",
       "      <th>people to provide maintenance for</th>\n",
       "      <th>telephone</th>\n",
       "      <th>foreign worker</th>\n",
       "      <th>goodness</th>\n",
       "    </tr>\n",
       "  </thead>\n",
       "  <tbody>\n",
       "    <tr>\n",
       "      <th>0</th>\n",
       "      <td>laufkont</td>\n",
       "      <td>laufzeit</td>\n",
       "      <td>moral</td>\n",
       "      <td>verw</td>\n",
       "      <td>hoehe</td>\n",
       "      <td>sparkont</td>\n",
       "      <td>beszeit</td>\n",
       "      <td>rate</td>\n",
       "      <td>famges</td>\n",
       "      <td>buerge</td>\n",
       "      <td>...</td>\n",
       "      <td>verm</td>\n",
       "      <td>alter</td>\n",
       "      <td>weitkred</td>\n",
       "      <td>wohn</td>\n",
       "      <td>bishkred</td>\n",
       "      <td>beruf</td>\n",
       "      <td>pers</td>\n",
       "      <td>telef</td>\n",
       "      <td>gastarb</td>\n",
       "      <td>kredit</td>\n",
       "    </tr>\n",
       "    <tr>\n",
       "      <th>1</th>\n",
       "      <td>1</td>\n",
       "      <td>18</td>\n",
       "      <td>4</td>\n",
       "      <td>2</td>\n",
       "      <td>1049</td>\n",
       "      <td>1</td>\n",
       "      <td>2</td>\n",
       "      <td>4</td>\n",
       "      <td>2</td>\n",
       "      <td>1</td>\n",
       "      <td>...</td>\n",
       "      <td>2</td>\n",
       "      <td>21</td>\n",
       "      <td>3</td>\n",
       "      <td>1</td>\n",
       "      <td>1</td>\n",
       "      <td>3</td>\n",
       "      <td>2</td>\n",
       "      <td>1</td>\n",
       "      <td>2</td>\n",
       "      <td>1</td>\n",
       "    </tr>\n",
       "    <tr>\n",
       "      <th>2</th>\n",
       "      <td>1</td>\n",
       "      <td>9</td>\n",
       "      <td>4</td>\n",
       "      <td>0</td>\n",
       "      <td>2799</td>\n",
       "      <td>1</td>\n",
       "      <td>3</td>\n",
       "      <td>2</td>\n",
       "      <td>3</td>\n",
       "      <td>1</td>\n",
       "      <td>...</td>\n",
       "      <td>1</td>\n",
       "      <td>36</td>\n",
       "      <td>3</td>\n",
       "      <td>1</td>\n",
       "      <td>2</td>\n",
       "      <td>3</td>\n",
       "      <td>1</td>\n",
       "      <td>1</td>\n",
       "      <td>2</td>\n",
       "      <td>1</td>\n",
       "    </tr>\n",
       "    <tr>\n",
       "      <th>3</th>\n",
       "      <td>2</td>\n",
       "      <td>12</td>\n",
       "      <td>2</td>\n",
       "      <td>9</td>\n",
       "      <td>841</td>\n",
       "      <td>2</td>\n",
       "      <td>4</td>\n",
       "      <td>2</td>\n",
       "      <td>2</td>\n",
       "      <td>1</td>\n",
       "      <td>...</td>\n",
       "      <td>1</td>\n",
       "      <td>23</td>\n",
       "      <td>3</td>\n",
       "      <td>1</td>\n",
       "      <td>1</td>\n",
       "      <td>2</td>\n",
       "      <td>2</td>\n",
       "      <td>1</td>\n",
       "      <td>2</td>\n",
       "      <td>1</td>\n",
       "    </tr>\n",
       "    <tr>\n",
       "      <th>4</th>\n",
       "      <td>1</td>\n",
       "      <td>12</td>\n",
       "      <td>4</td>\n",
       "      <td>0</td>\n",
       "      <td>2122</td>\n",
       "      <td>1</td>\n",
       "      <td>3</td>\n",
       "      <td>3</td>\n",
       "      <td>3</td>\n",
       "      <td>1</td>\n",
       "      <td>...</td>\n",
       "      <td>1</td>\n",
       "      <td>39</td>\n",
       "      <td>3</td>\n",
       "      <td>1</td>\n",
       "      <td>2</td>\n",
       "      <td>2</td>\n",
       "      <td>1</td>\n",
       "      <td>1</td>\n",
       "      <td>1</td>\n",
       "      <td>1</td>\n",
       "    </tr>\n",
       "  </tbody>\n",
       "</table>\n",
       "<p>5 rows × 21 columns</p>\n",
       "</div>"
      ],
      "text/plain": [
       "  checking account duration in month credit history credit purpose  \\\n",
       "0         laufkont          laufzeit          moral           verw   \n",
       "1                1                18              4              2   \n",
       "2                1                 9              4              0   \n",
       "3                2                12              2              9   \n",
       "4                1                12              4              0   \n",
       "\n",
       "  credit amount savings account employment since.. installment rate  \\\n",
       "0         hoehe        sparkont            beszeit             rate   \n",
       "1          1049               1                  2                4   \n",
       "2          2799               1                  3                2   \n",
       "3           841               2                  4                2   \n",
       "4          2122               1                  3                3   \n",
       "\n",
       "  status : sex other debtors / guarantors  ... property relationship : age  \\\n",
       "0       famges                     buerge  ...     verm              alter   \n",
       "1            2                          1  ...        2                 21   \n",
       "2            3                          1  ...        1                 36   \n",
       "3            2                          1  ...        1                 23   \n",
       "4            3                          1  ...        1                 39   \n",
       "\n",
       "  other installment plans housing existing credits    job  \\\n",
       "0                weitkred    wohn         bishkred  beruf   \n",
       "1                       3       1                1      3   \n",
       "2                       3       1                2      3   \n",
       "3                       3       1                1      2   \n",
       "4                       3       1                2      2   \n",
       "\n",
       "  people to provide maintenance for telephone foreign worker goodness  \n",
       "0                              pers     telef        gastarb   kredit  \n",
       "1                                 2         1              2        1  \n",
       "2                                 1         1              2        1  \n",
       "3                                 2         1              2        1  \n",
       "4                                 1         1              1        1  \n",
       "\n",
       "[5 rows x 21 columns]"
      ]
     },
     "execution_count": 118,
     "metadata": {},
     "output_type": "execute_result"
    }
   ],
   "source": [
    "df = pd.read_csv('south_german_credit_data_preprocessed.csv',sep=',')\n",
    "# To display the top 5 rows\n",
    "df.head(5)"
   ]
  },
  {
   "cell_type": "code",
   "execution_count": 119,
   "id": "2770c98b",
   "metadata": {},
   "outputs": [
    {
     "data": {
      "text/html": [
       "<div>\n",
       "<style scoped>\n",
       "    .dataframe tbody tr th:only-of-type {\n",
       "        vertical-align: middle;\n",
       "    }\n",
       "\n",
       "    .dataframe tbody tr th {\n",
       "        vertical-align: top;\n",
       "    }\n",
       "\n",
       "    .dataframe thead th {\n",
       "        text-align: right;\n",
       "    }\n",
       "</style>\n",
       "<table border=\"1\" class=\"dataframe\">\n",
       "  <thead>\n",
       "    <tr style=\"text-align: right;\">\n",
       "      <th></th>\n",
       "      <th>checking account</th>\n",
       "      <th>duration in month</th>\n",
       "      <th>credit history</th>\n",
       "      <th>credit purpose</th>\n",
       "      <th>credit amount</th>\n",
       "      <th>savings account</th>\n",
       "      <th>employment since..</th>\n",
       "      <th>installment rate</th>\n",
       "      <th>status : sex</th>\n",
       "      <th>other debtors / guarantors</th>\n",
       "      <th>...</th>\n",
       "      <th>property</th>\n",
       "      <th>relationship : age</th>\n",
       "      <th>other installment plans</th>\n",
       "      <th>housing</th>\n",
       "      <th>existing credits</th>\n",
       "      <th>job</th>\n",
       "      <th>people to provide maintenance for</th>\n",
       "      <th>telephone</th>\n",
       "      <th>foreign worker</th>\n",
       "      <th>goodness</th>\n",
       "    </tr>\n",
       "  </thead>\n",
       "  <tbody>\n",
       "    <tr>\n",
       "      <th>996</th>\n",
       "      <td>1</td>\n",
       "      <td>24</td>\n",
       "      <td>2</td>\n",
       "      <td>3</td>\n",
       "      <td>1987</td>\n",
       "      <td>1</td>\n",
       "      <td>3</td>\n",
       "      <td>2</td>\n",
       "      <td>3</td>\n",
       "      <td>1</td>\n",
       "      <td>...</td>\n",
       "      <td>1</td>\n",
       "      <td>21</td>\n",
       "      <td>3</td>\n",
       "      <td>1</td>\n",
       "      <td>1</td>\n",
       "      <td>2</td>\n",
       "      <td>1</td>\n",
       "      <td>1</td>\n",
       "      <td>2</td>\n",
       "      <td>0</td>\n",
       "    </tr>\n",
       "    <tr>\n",
       "      <th>997</th>\n",
       "      <td>1</td>\n",
       "      <td>24</td>\n",
       "      <td>2</td>\n",
       "      <td>0</td>\n",
       "      <td>2303</td>\n",
       "      <td>1</td>\n",
       "      <td>5</td>\n",
       "      <td>4</td>\n",
       "      <td>3</td>\n",
       "      <td>2</td>\n",
       "      <td>...</td>\n",
       "      <td>1</td>\n",
       "      <td>45</td>\n",
       "      <td>3</td>\n",
       "      <td>2</td>\n",
       "      <td>1</td>\n",
       "      <td>3</td>\n",
       "      <td>2</td>\n",
       "      <td>1</td>\n",
       "      <td>2</td>\n",
       "      <td>0</td>\n",
       "    </tr>\n",
       "    <tr>\n",
       "      <th>998</th>\n",
       "      <td>4</td>\n",
       "      <td>21</td>\n",
       "      <td>4</td>\n",
       "      <td>0</td>\n",
       "      <td>12680</td>\n",
       "      <td>5</td>\n",
       "      <td>5</td>\n",
       "      <td>4</td>\n",
       "      <td>3</td>\n",
       "      <td>1</td>\n",
       "      <td>...</td>\n",
       "      <td>4</td>\n",
       "      <td>30</td>\n",
       "      <td>3</td>\n",
       "      <td>3</td>\n",
       "      <td>1</td>\n",
       "      <td>4</td>\n",
       "      <td>2</td>\n",
       "      <td>2</td>\n",
       "      <td>2</td>\n",
       "      <td>0</td>\n",
       "    </tr>\n",
       "    <tr>\n",
       "      <th>999</th>\n",
       "      <td>2</td>\n",
       "      <td>12</td>\n",
       "      <td>2</td>\n",
       "      <td>3</td>\n",
       "      <td>6468</td>\n",
       "      <td>5</td>\n",
       "      <td>1</td>\n",
       "      <td>2</td>\n",
       "      <td>3</td>\n",
       "      <td>1</td>\n",
       "      <td>...</td>\n",
       "      <td>4</td>\n",
       "      <td>52</td>\n",
       "      <td>3</td>\n",
       "      <td>2</td>\n",
       "      <td>1</td>\n",
       "      <td>4</td>\n",
       "      <td>2</td>\n",
       "      <td>2</td>\n",
       "      <td>2</td>\n",
       "      <td>0</td>\n",
       "    </tr>\n",
       "    <tr>\n",
       "      <th>1000</th>\n",
       "      <td>1</td>\n",
       "      <td>30</td>\n",
       "      <td>2</td>\n",
       "      <td>2</td>\n",
       "      <td>6350</td>\n",
       "      <td>5</td>\n",
       "      <td>5</td>\n",
       "      <td>4</td>\n",
       "      <td>3</td>\n",
       "      <td>1</td>\n",
       "      <td>...</td>\n",
       "      <td>2</td>\n",
       "      <td>31</td>\n",
       "      <td>3</td>\n",
       "      <td>2</td>\n",
       "      <td>1</td>\n",
       "      <td>3</td>\n",
       "      <td>2</td>\n",
       "      <td>1</td>\n",
       "      <td>2</td>\n",
       "      <td>0</td>\n",
       "    </tr>\n",
       "  </tbody>\n",
       "</table>\n",
       "<p>5 rows × 21 columns</p>\n",
       "</div>"
      ],
      "text/plain": [
       "     checking account duration in month credit history credit purpose  \\\n",
       "996                 1                24              2              3   \n",
       "997                 1                24              2              0   \n",
       "998                 4                21              4              0   \n",
       "999                 2                12              2              3   \n",
       "1000                1                30              2              2   \n",
       "\n",
       "     credit amount savings account employment since.. installment rate  \\\n",
       "996           1987               1                  3                2   \n",
       "997           2303               1                  5                4   \n",
       "998          12680               5                  5                4   \n",
       "999           6468               5                  1                2   \n",
       "1000          6350               5                  5                4   \n",
       "\n",
       "     status : sex other debtors / guarantors  ... property relationship : age  \\\n",
       "996             3                          1  ...        1                 21   \n",
       "997             3                          2  ...        1                 45   \n",
       "998             3                          1  ...        4                 30   \n",
       "999             3                          1  ...        4                 52   \n",
       "1000            3                          1  ...        2                 31   \n",
       "\n",
       "     other installment plans housing existing credits job  \\\n",
       "996                        3       1                1   2   \n",
       "997                        3       2                1   3   \n",
       "998                        3       3                1   4   \n",
       "999                        3       2                1   4   \n",
       "1000                       3       2                1   3   \n",
       "\n",
       "     people to provide maintenance for telephone foreign worker goodness  \n",
       "996                                  1         1              2        0  \n",
       "997                                  2         1              2        0  \n",
       "998                                  2         2              2        0  \n",
       "999                                  2         2              2        0  \n",
       "1000                                 2         1              2        0  \n",
       "\n",
       "[5 rows x 21 columns]"
      ]
     },
     "execution_count": 119,
     "metadata": {},
     "output_type": "execute_result"
    }
   ],
   "source": [
    "df.tail(5) "
   ]
  },
  {
   "cell_type": "markdown",
   "id": "cf8f724f",
   "metadata": {},
   "source": [
    "It looks like the top rows are good credit risk and bottom are bad. This would require shuffling the data before modelling "
   ]
  },
  {
   "cell_type": "code",
   "execution_count": 120,
   "id": "cc4ed32d",
   "metadata": {
    "scrolled": true
   },
   "outputs": [
    {
     "data": {
      "text/plain": [
       "checking account                     object\n",
       "duration in month                    object\n",
       "credit history                       object\n",
       "credit purpose                       object\n",
       "credit amount                        object\n",
       "savings account                      object\n",
       "employment since..                   object\n",
       "installment rate                     object\n",
       "status : sex                         object\n",
       "other debtors / guarantors           object\n",
       "residence since                      object\n",
       "property                             object\n",
       "relationship : age                   object\n",
       "other installment plans              object\n",
       "housing                              object\n",
       "existing credits                     object\n",
       "job                                  object\n",
       "people to provide maintenance for    object\n",
       "telephone                            object\n",
       "foreign worker                       object\n",
       "goodness                             object\n",
       "dtype: object"
      ]
     },
     "execution_count": 120,
     "metadata": {},
     "output_type": "execute_result"
    }
   ],
   "source": [
    "# Checking the data type\n",
    "df.dtypes"
   ]
  },
  {
   "cell_type": "code",
   "execution_count": 121,
   "id": "8e9524db",
   "metadata": {},
   "outputs": [],
   "source": [
    "df.columns = list(df.iloc[0,:])"
   ]
  },
  {
   "cell_type": "code",
   "execution_count": 122,
   "id": "fee52e93",
   "metadata": {},
   "outputs": [],
   "source": [
    "df = df.iloc[1:,:]"
   ]
  },
  {
   "cell_type": "code",
   "execution_count": 123,
   "id": "e83c2421",
   "metadata": {},
   "outputs": [
    {
     "data": {
      "text/html": [
       "<div>\n",
       "<style scoped>\n",
       "    .dataframe tbody tr th:only-of-type {\n",
       "        vertical-align: middle;\n",
       "    }\n",
       "\n",
       "    .dataframe tbody tr th {\n",
       "        vertical-align: top;\n",
       "    }\n",
       "\n",
       "    .dataframe thead th {\n",
       "        text-align: right;\n",
       "    }\n",
       "</style>\n",
       "<table border=\"1\" class=\"dataframe\">\n",
       "  <thead>\n",
       "    <tr style=\"text-align: right;\">\n",
       "      <th></th>\n",
       "      <th>laufkont</th>\n",
       "      <th>laufzeit</th>\n",
       "      <th>moral</th>\n",
       "      <th>verw</th>\n",
       "      <th>hoehe</th>\n",
       "      <th>sparkont</th>\n",
       "      <th>beszeit</th>\n",
       "      <th>rate</th>\n",
       "      <th>famges</th>\n",
       "      <th>buerge</th>\n",
       "      <th>...</th>\n",
       "      <th>verm</th>\n",
       "      <th>alter</th>\n",
       "      <th>weitkred</th>\n",
       "      <th>wohn</th>\n",
       "      <th>bishkred</th>\n",
       "      <th>beruf</th>\n",
       "      <th>pers</th>\n",
       "      <th>telef</th>\n",
       "      <th>gastarb</th>\n",
       "      <th>kredit</th>\n",
       "    </tr>\n",
       "  </thead>\n",
       "  <tbody>\n",
       "    <tr>\n",
       "      <th>1</th>\n",
       "      <td>1</td>\n",
       "      <td>18</td>\n",
       "      <td>4</td>\n",
       "      <td>2</td>\n",
       "      <td>1049</td>\n",
       "      <td>1</td>\n",
       "      <td>2</td>\n",
       "      <td>4</td>\n",
       "      <td>2</td>\n",
       "      <td>1</td>\n",
       "      <td>...</td>\n",
       "      <td>2</td>\n",
       "      <td>21</td>\n",
       "      <td>3</td>\n",
       "      <td>1</td>\n",
       "      <td>1</td>\n",
       "      <td>3</td>\n",
       "      <td>2</td>\n",
       "      <td>1</td>\n",
       "      <td>2</td>\n",
       "      <td>1</td>\n",
       "    </tr>\n",
       "    <tr>\n",
       "      <th>2</th>\n",
       "      <td>1</td>\n",
       "      <td>9</td>\n",
       "      <td>4</td>\n",
       "      <td>0</td>\n",
       "      <td>2799</td>\n",
       "      <td>1</td>\n",
       "      <td>3</td>\n",
       "      <td>2</td>\n",
       "      <td>3</td>\n",
       "      <td>1</td>\n",
       "      <td>...</td>\n",
       "      <td>1</td>\n",
       "      <td>36</td>\n",
       "      <td>3</td>\n",
       "      <td>1</td>\n",
       "      <td>2</td>\n",
       "      <td>3</td>\n",
       "      <td>1</td>\n",
       "      <td>1</td>\n",
       "      <td>2</td>\n",
       "      <td>1</td>\n",
       "    </tr>\n",
       "    <tr>\n",
       "      <th>3</th>\n",
       "      <td>2</td>\n",
       "      <td>12</td>\n",
       "      <td>2</td>\n",
       "      <td>9</td>\n",
       "      <td>841</td>\n",
       "      <td>2</td>\n",
       "      <td>4</td>\n",
       "      <td>2</td>\n",
       "      <td>2</td>\n",
       "      <td>1</td>\n",
       "      <td>...</td>\n",
       "      <td>1</td>\n",
       "      <td>23</td>\n",
       "      <td>3</td>\n",
       "      <td>1</td>\n",
       "      <td>1</td>\n",
       "      <td>2</td>\n",
       "      <td>2</td>\n",
       "      <td>1</td>\n",
       "      <td>2</td>\n",
       "      <td>1</td>\n",
       "    </tr>\n",
       "    <tr>\n",
       "      <th>4</th>\n",
       "      <td>1</td>\n",
       "      <td>12</td>\n",
       "      <td>4</td>\n",
       "      <td>0</td>\n",
       "      <td>2122</td>\n",
       "      <td>1</td>\n",
       "      <td>3</td>\n",
       "      <td>3</td>\n",
       "      <td>3</td>\n",
       "      <td>1</td>\n",
       "      <td>...</td>\n",
       "      <td>1</td>\n",
       "      <td>39</td>\n",
       "      <td>3</td>\n",
       "      <td>1</td>\n",
       "      <td>2</td>\n",
       "      <td>2</td>\n",
       "      <td>1</td>\n",
       "      <td>1</td>\n",
       "      <td>1</td>\n",
       "      <td>1</td>\n",
       "    </tr>\n",
       "    <tr>\n",
       "      <th>5</th>\n",
       "      <td>1</td>\n",
       "      <td>12</td>\n",
       "      <td>4</td>\n",
       "      <td>0</td>\n",
       "      <td>2171</td>\n",
       "      <td>1</td>\n",
       "      <td>3</td>\n",
       "      <td>4</td>\n",
       "      <td>3</td>\n",
       "      <td>1</td>\n",
       "      <td>...</td>\n",
       "      <td>2</td>\n",
       "      <td>38</td>\n",
       "      <td>1</td>\n",
       "      <td>2</td>\n",
       "      <td>2</td>\n",
       "      <td>2</td>\n",
       "      <td>2</td>\n",
       "      <td>1</td>\n",
       "      <td>1</td>\n",
       "      <td>1</td>\n",
       "    </tr>\n",
       "    <tr>\n",
       "      <th>...</th>\n",
       "      <td>...</td>\n",
       "      <td>...</td>\n",
       "      <td>...</td>\n",
       "      <td>...</td>\n",
       "      <td>...</td>\n",
       "      <td>...</td>\n",
       "      <td>...</td>\n",
       "      <td>...</td>\n",
       "      <td>...</td>\n",
       "      <td>...</td>\n",
       "      <td>...</td>\n",
       "      <td>...</td>\n",
       "      <td>...</td>\n",
       "      <td>...</td>\n",
       "      <td>...</td>\n",
       "      <td>...</td>\n",
       "      <td>...</td>\n",
       "      <td>...</td>\n",
       "      <td>...</td>\n",
       "      <td>...</td>\n",
       "      <td>...</td>\n",
       "    </tr>\n",
       "    <tr>\n",
       "      <th>996</th>\n",
       "      <td>1</td>\n",
       "      <td>24</td>\n",
       "      <td>2</td>\n",
       "      <td>3</td>\n",
       "      <td>1987</td>\n",
       "      <td>1</td>\n",
       "      <td>3</td>\n",
       "      <td>2</td>\n",
       "      <td>3</td>\n",
       "      <td>1</td>\n",
       "      <td>...</td>\n",
       "      <td>1</td>\n",
       "      <td>21</td>\n",
       "      <td>3</td>\n",
       "      <td>1</td>\n",
       "      <td>1</td>\n",
       "      <td>2</td>\n",
       "      <td>1</td>\n",
       "      <td>1</td>\n",
       "      <td>2</td>\n",
       "      <td>0</td>\n",
       "    </tr>\n",
       "    <tr>\n",
       "      <th>997</th>\n",
       "      <td>1</td>\n",
       "      <td>24</td>\n",
       "      <td>2</td>\n",
       "      <td>0</td>\n",
       "      <td>2303</td>\n",
       "      <td>1</td>\n",
       "      <td>5</td>\n",
       "      <td>4</td>\n",
       "      <td>3</td>\n",
       "      <td>2</td>\n",
       "      <td>...</td>\n",
       "      <td>1</td>\n",
       "      <td>45</td>\n",
       "      <td>3</td>\n",
       "      <td>2</td>\n",
       "      <td>1</td>\n",
       "      <td>3</td>\n",
       "      <td>2</td>\n",
       "      <td>1</td>\n",
       "      <td>2</td>\n",
       "      <td>0</td>\n",
       "    </tr>\n",
       "    <tr>\n",
       "      <th>998</th>\n",
       "      <td>4</td>\n",
       "      <td>21</td>\n",
       "      <td>4</td>\n",
       "      <td>0</td>\n",
       "      <td>12680</td>\n",
       "      <td>5</td>\n",
       "      <td>5</td>\n",
       "      <td>4</td>\n",
       "      <td>3</td>\n",
       "      <td>1</td>\n",
       "      <td>...</td>\n",
       "      <td>4</td>\n",
       "      <td>30</td>\n",
       "      <td>3</td>\n",
       "      <td>3</td>\n",
       "      <td>1</td>\n",
       "      <td>4</td>\n",
       "      <td>2</td>\n",
       "      <td>2</td>\n",
       "      <td>2</td>\n",
       "      <td>0</td>\n",
       "    </tr>\n",
       "    <tr>\n",
       "      <th>999</th>\n",
       "      <td>2</td>\n",
       "      <td>12</td>\n",
       "      <td>2</td>\n",
       "      <td>3</td>\n",
       "      <td>6468</td>\n",
       "      <td>5</td>\n",
       "      <td>1</td>\n",
       "      <td>2</td>\n",
       "      <td>3</td>\n",
       "      <td>1</td>\n",
       "      <td>...</td>\n",
       "      <td>4</td>\n",
       "      <td>52</td>\n",
       "      <td>3</td>\n",
       "      <td>2</td>\n",
       "      <td>1</td>\n",
       "      <td>4</td>\n",
       "      <td>2</td>\n",
       "      <td>2</td>\n",
       "      <td>2</td>\n",
       "      <td>0</td>\n",
       "    </tr>\n",
       "    <tr>\n",
       "      <th>1000</th>\n",
       "      <td>1</td>\n",
       "      <td>30</td>\n",
       "      <td>2</td>\n",
       "      <td>2</td>\n",
       "      <td>6350</td>\n",
       "      <td>5</td>\n",
       "      <td>5</td>\n",
       "      <td>4</td>\n",
       "      <td>3</td>\n",
       "      <td>1</td>\n",
       "      <td>...</td>\n",
       "      <td>2</td>\n",
       "      <td>31</td>\n",
       "      <td>3</td>\n",
       "      <td>2</td>\n",
       "      <td>1</td>\n",
       "      <td>3</td>\n",
       "      <td>2</td>\n",
       "      <td>1</td>\n",
       "      <td>2</td>\n",
       "      <td>0</td>\n",
       "    </tr>\n",
       "  </tbody>\n",
       "</table>\n",
       "<p>1000 rows × 21 columns</p>\n",
       "</div>"
      ],
      "text/plain": [
       "     laufkont laufzeit moral verw  hoehe sparkont beszeit rate famges buerge  \\\n",
       "1           1       18     4    2   1049        1       2    4      2      1   \n",
       "2           1        9     4    0   2799        1       3    2      3      1   \n",
       "3           2       12     2    9    841        2       4    2      2      1   \n",
       "4           1       12     4    0   2122        1       3    3      3      1   \n",
       "5           1       12     4    0   2171        1       3    4      3      1   \n",
       "...       ...      ...   ...  ...    ...      ...     ...  ...    ...    ...   \n",
       "996         1       24     2    3   1987        1       3    2      3      1   \n",
       "997         1       24     2    0   2303        1       5    4      3      2   \n",
       "998         4       21     4    0  12680        5       5    4      3      1   \n",
       "999         2       12     2    3   6468        5       1    2      3      1   \n",
       "1000        1       30     2    2   6350        5       5    4      3      1   \n",
       "\n",
       "      ... verm alter weitkred wohn bishkred beruf pers telef gastarb kredit  \n",
       "1     ...    2    21        3    1        1     3    2     1       2      1  \n",
       "2     ...    1    36        3    1        2     3    1     1       2      1  \n",
       "3     ...    1    23        3    1        1     2    2     1       2      1  \n",
       "4     ...    1    39        3    1        2     2    1     1       1      1  \n",
       "5     ...    2    38        1    2        2     2    2     1       1      1  \n",
       "...   ...  ...   ...      ...  ...      ...   ...  ...   ...     ...    ...  \n",
       "996   ...    1    21        3    1        1     2    1     1       2      0  \n",
       "997   ...    1    45        3    2        1     3    2     1       2      0  \n",
       "998   ...    4    30        3    3        1     4    2     2       2      0  \n",
       "999   ...    4    52        3    2        1     4    2     2       2      0  \n",
       "1000  ...    2    31        3    2        1     3    2     1       2      0  \n",
       "\n",
       "[1000 rows x 21 columns]"
      ]
     },
     "execution_count": 123,
     "metadata": {},
     "output_type": "execute_result"
    }
   ],
   "source": [
    "df"
   ]
  },
  {
   "cell_type": "code",
   "execution_count": 124,
   "id": "1d155380",
   "metadata": {},
   "outputs": [],
   "source": [
    "#The columns are in german, in the next steps we will convert the column names into English\n",
    "\n",
    "dict_col = {'laufkont': 'status',\n",
    "        'laufzeit': 'duration',\n",
    "        'moral': 'credit_history',\n",
    "       'verw':'purpose',\n",
    "       'hoehe':'amount',\n",
    "       'sparkont':'savings',\n",
    "        'beszeit':'employment_duration',\n",
    "        'rate':'installment_rate',\n",
    "        'famges':'personal_status_sex',\n",
    "        'buerge':'other_debtors',\n",
    "        'wohnzeit':'present_residence',\n",
    "        'verm':'property',\n",
    "        'alter':'age',\n",
    "        'weitkred':'other_installment_plans',\n",
    "        'wohn':'housing',\n",
    "        'bishkred':'number_credits',\n",
    "        'beruf':'job',\n",
    "        'pers':'people_liable',\n",
    "        'telef':'telephone',\n",
    "        'gastarb':'foreign_worker',\n",
    "        'kredit':'credit_risk'\n",
    "       }\n",
    "\n",
    "dict_values= {'status':   {1: 'No Account', 2:'<0 DM', 3:'0-200 DM', 4:'>=200 DM'},\n",
    "             'credit_history':     {0: 'past delay', 1:'critical/open', 2:'none open', 3:'paid open credits', 4: 'fully paid back'},\n",
    "             'purpose':     {0: 'others', 1: 'car (new)',2 : 'car (used)',3 : 'furniture/equipment',4 : 'radio/television',5: 'domestic appliances',6:'repairs',7:'education',8:'vacation',9:'retraining',10:'business'},\n",
    "             'savings':    {1: 'unknown/no savings account',2: '<100 DM',3:'100-500 DM',4:'500-1000 DM',5:'>=1000 DM'},\n",
    "             'employment_duration': {1: 'unemployed',2:'<1 yr',3: '1-3 yrs',4 :'4-6 yrs',5: '>= 7 yrs'},\n",
    "             'installment_rate':   {1: '>= 35', 2: '25-34',3 : '20-24',4 : '<20'},\n",
    "             'personal_status_sex':       {1: 'male : divorced/separated',2: 'female: non-single or male: single',3: 'male : married/widowed',4: 'female : single'},\n",
    "             'other_debtors': { 1 : 'none', 2: 'co-applicant',3 : 'guarantor'},\n",
    "             'present_residence':    {1: '< 1 yr',2 : '1-3 yrs',3 : '4-6 yrs',4 : '>= 7 yrs'},\n",
    "             'property':           {1: 'unknown / no property',2 : 'car or other',3 : 'building soc. savings agr./life insurance',4 : 'real estate'},\n",
    "             'other_installment_plans': {1 : 'bank',2 : 'stores',3 : 'none'},\n",
    "             'housing':            {1: 'for free', 2 : 'rent',3 : 'own'},\n",
    "             'job':                {1: 'unemployed/unskilled - non-resident',2 : 'unskilled - resident',3 : 'skilled employee/official',4 : 'manager/self-empl./highly qualif'},\n",
    "             'people_liable': {1 : 0,2 : 1},\n",
    "             'telephone':          {1: 0, 2:1},\n",
    "             'foreign_worker':     {1:1,2:0},\n",
    "           \n",
    "             'number_credits': {1: '0-1',2:'2-3',3: '1-3 yrs','4-5' :'>=6'}\n",
    "             }\n",
    "\n"
   ]
  },
  {
   "cell_type": "code",
   "execution_count": 125,
   "id": "46abd4f1",
   "metadata": {},
   "outputs": [],
   "source": [
    "df.rename(columns=dict_col,\n",
    "          inplace=True)\n",
    "#human readable features\n",
    "df=df.replace(dict_values)       "
   ]
  },
  {
   "cell_type": "code",
   "execution_count": 126,
   "id": "b6a4317f",
   "metadata": {},
   "outputs": [
    {
     "data": {
      "text/plain": [
       "status                     0\n",
       "duration                   0\n",
       "credit_history             0\n",
       "purpose                    0\n",
       "amount                     0\n",
       "savings                    0\n",
       "employment_duration        0\n",
       "installment_rate           0\n",
       "personal_status_sex        0\n",
       "other_debtors              0\n",
       "present_residence          0\n",
       "property                   0\n",
       "age                        0\n",
       "other_installment_plans    0\n",
       "housing                    0\n",
       "number_credits             0\n",
       "job                        0\n",
       "people_liable              0\n",
       "telephone                  0\n",
       "foreign_worker             0\n",
       "credit_risk                0\n",
       "dtype: int64"
      ]
     },
     "execution_count": 126,
     "metadata": {},
     "output_type": "execute_result"
    }
   ],
   "source": [
    "df.isna().sum()"
   ]
  },
  {
   "cell_type": "code",
   "execution_count": 127,
   "id": "37355918",
   "metadata": {},
   "outputs": [],
   "source": [
    "# Checking the data type\n",
    "df = df.apply(pd.to_numeric)"
   ]
  },
  {
   "cell_type": "markdown",
   "id": "e51f0361",
   "metadata": {},
   "source": [
    "## Distribution of numerical features\n",
    "1. Histogram \n",
    "2. Boxplot\n",
    "\n"
   ]
  },
  {
   "cell_type": "code",
   "execution_count": 128,
   "id": "174bb841",
   "metadata": {},
   "outputs": [
    {
     "data": {
      "text/plain": [
       "array([[<AxesSubplot:title={'center':'status'}>,\n",
       "        <AxesSubplot:title={'center':'duration'}>,\n",
       "        <AxesSubplot:title={'center':'credit_history'}>,\n",
       "        <AxesSubplot:title={'center':'purpose'}>,\n",
       "        <AxesSubplot:title={'center':'amount'}>],\n",
       "       [<AxesSubplot:title={'center':'savings'}>,\n",
       "        <AxesSubplot:title={'center':'employment_duration'}>,\n",
       "        <AxesSubplot:title={'center':'installment_rate'}>,\n",
       "        <AxesSubplot:title={'center':'personal_status_sex'}>,\n",
       "        <AxesSubplot:title={'center':'other_debtors'}>],\n",
       "       [<AxesSubplot:title={'center':'present_residence'}>,\n",
       "        <AxesSubplot:title={'center':'property'}>,\n",
       "        <AxesSubplot:title={'center':'age'}>,\n",
       "        <AxesSubplot:title={'center':'other_installment_plans'}>,\n",
       "        <AxesSubplot:title={'center':'housing'}>],\n",
       "       [<AxesSubplot:title={'center':'number_credits'}>,\n",
       "        <AxesSubplot:title={'center':'job'}>,\n",
       "        <AxesSubplot:title={'center':'people_liable'}>,\n",
       "        <AxesSubplot:title={'center':'telephone'}>,\n",
       "        <AxesSubplot:title={'center':'foreign_worker'}>],\n",
       "       [<AxesSubplot:title={'center':'credit_risk'}>, <AxesSubplot:>,\n",
       "        <AxesSubplot:>, <AxesSubplot:>, <AxesSubplot:>]], dtype=object)"
      ]
     },
     "execution_count": 128,
     "metadata": {},
     "output_type": "execute_result"
    },
    {
     "data": {
      "image/png": "[encoded data removed]",
      "text/plain": [
       "<Figure size 1080x720 with 25 Axes>"
      ]
     },
     "metadata": {
      "needs_background": "light"
     },
     "output_type": "display_data"
    }
   ],
   "source": [
    "# Plot a histogram for each numerical values in the df\n",
    "df.hist(bins=30, figsize=(15, 10))"
   ]
  },
  {
   "cell_type": "markdown",
   "id": "a190e250",
   "metadata": {},
   "source": [
    "Only age duration and amount are continuous features, rest are equivalent to binary/categorical nominal  variables"
   ]
  },
  {
   "cell_type": "code",
   "execution_count": 129,
   "id": "ffb524ad",
   "metadata": {},
   "outputs": [
    {
     "data": {
      "text/plain": [
       "<AxesSubplot:>"
      ]
     },
     "execution_count": 129,
     "metadata": {},
     "output_type": "execute_result"
    },
    {
     "data": {
      "image/png": "[encoded data removed]",
      "text/plain": [
       "<Figure size 432x288 with 1 Axes>"
      ]
     },
     "metadata": {
      "needs_background": "light"
     },
     "output_type": "display_data"
    }
   ],
   "source": [
    "df.boxplot('age')\n",
    "\n"
   ]
  },
  {
   "cell_type": "code",
   "execution_count": 130,
   "id": "9f94aac8",
   "metadata": {},
   "outputs": [
    {
     "data": {
      "text/plain": [
       "<AxesSubplot:>"
      ]
     },
     "execution_count": 130,
     "metadata": {},
     "output_type": "execute_result"
    },
    {
     "data": {
      "image/png": "[encoded data removed]",
      "text/plain": [
       "<Figure size 432x288 with 1 Axes>"
      ]
     },
     "metadata": {
      "needs_background": "light"
     },
     "output_type": "display_data"
    }
   ],
   "source": [
    "df.boxplot('duration')\n",
    "\n"
   ]
  },
  {
   "cell_type": "code",
   "execution_count": 131,
   "id": "fdc4db63",
   "metadata": {},
   "outputs": [
    {
     "data": {
      "text/plain": [
       "<AxesSubplot:>"
      ]
     },
     "execution_count": 131,
     "metadata": {},
     "output_type": "execute_result"
    },
    {
     "data": {
      "image/png": "[encoded data removed]",
      "text/plain": [
       "<Figure size 432x288 with 1 Axes>"
      ]
     },
     "metadata": {
      "needs_background": "light"
     },
     "output_type": "display_data"
    }
   ],
   "source": [
    "df.boxplot('amount')"
   ]
  },
  {
   "cell_type": "code",
   "execution_count": 132,
   "id": "f3402d56",
   "metadata": {},
   "outputs": [
    {
     "data": {
      "text/plain": [
       "<Figure size 432x288 with 0 Axes>"
      ]
     },
     "metadata": {},
     "output_type": "display_data"
    },
    {
     "data": {
      "image/png": "[encoded data removed]",
      "text/plain": [
       "<Figure size 419.625x360 with 1 Axes>"
      ]
     },
     "metadata": {
      "needs_background": "light"
     },
     "output_type": "display_data"
    },
    {
     "data": {
      "image/png": "[encoded data removed]",
      "text/plain": [
       "<Figure size 419.625x360 with 1 Axes>"
      ]
     },
     "metadata": {
      "needs_background": "light"
     },
     "output_type": "display_data"
    },
    {
     "data": {
      "image/png": "[encoded data removed]",
      "text/plain": [
       "<Figure size 419.625x360 with 1 Axes>"
      ]
     },
     "metadata": {
      "needs_background": "light"
     },
     "output_type": "display_data"
    },
    {
     "data": {
      "image/png": "[encoded data removed]",
      "text/plain": [
       "<Figure size 419.625x360 with 1 Axes>"
      ]
     },
     "metadata": {
      "needs_background": "light"
     },
     "output_type": "display_data"
    },
    {
     "data": {
      "image/png": "[encoded data removed]",
      "text/plain": [
       "<Figure size 419.625x360 with 1 Axes>"
      ]
     },
     "metadata": {
      "needs_background": "light"
     },
     "output_type": "display_data"
    },
    {
     "data": {
      "image/png": "[encoded data removed]",
      "text/plain": [
       "<Figure size 419.625x360 with 1 Axes>"
      ]
     },
     "metadata": {
      "needs_background": "light"
     },
     "output_type": "display_data"
    },
    {
     "data": {
      "image/png": "[encoded data removed]",
      "text/plain": [
       "<Figure size 419.625x360 with 1 Axes>"
      ]
     },
     "metadata": {
      "needs_background": "light"
     },
     "output_type": "display_data"
    },
    {
     "data": {
      "image/png": "[encoded data removed]",
      "text/plain": [
       "<Figure size 419.625x360 with 1 Axes>"
      ]
     },
     "metadata": {
      "needs_background": "light"
     },
     "output_type": "display_data"
    },
    {
     "data": {
      "image/png": "[encoded data removed]",
      "text/plain": [
       "<Figure size 419.625x360 with 1 Axes>"
      ]
     },
     "metadata": {
      "needs_background": "light"
     },
     "output_type": "display_data"
    },
    {
     "data": {
      "image/png": "[encoded data removed]",
      "text/plain": [
       "<Figure size 419.625x360 with 1 Axes>"
      ]
     },
     "metadata": {
      "needs_background": "light"
     },
     "output_type": "display_data"
    },
    {
     "data": {
      "image/png": "[encoded data removed]",
      "text/plain": [
       "<Figure size 419.625x360 with 1 Axes>"
      ]
     },
     "metadata": {
      "needs_background": "light"
     },
     "output_type": "display_data"
    },
    {
     "data": {
      "image/png": "[encoded data removed]",
      "text/plain": [
       "<Figure size 419.625x360 with 1 Axes>"
      ]
     },
     "metadata": {
      "needs_background": "light"
     },
     "output_type": "display_data"
    },
    {
     "data": {
      "image/png": "[encoded data removed]",
      "text/plain": [
       "<Figure size 419.625x360 with 1 Axes>"
      ]
     },
     "metadata": {
      "needs_background": "light"
     },
     "output_type": "display_data"
    },
    {
     "data": {
      "image/png": "[encoded data removed]",
      "text/plain": [
       "<Figure size 419.625x360 with 1 Axes>"
      ]
     },
     "metadata": {
      "needs_background": "light"
     },
     "output_type": "display_data"
    },
    {
     "data": {
      "image/png": "[encoded data removed]",
      "text/plain": [
       "<Figure size 419.625x360 with 1 Axes>"
      ]
     },
     "metadata": {
      "needs_background": "light"
     },
     "output_type": "display_data"
    },
    {
     "data": {
      "image/png": "[encoded data removed]",
      "text/plain": [
       "<Figure size 419.625x360 with 1 Axes>"
      ]
     },
     "metadata": {
      "needs_background": "light"
     },
     "output_type": "display_data"
    },
    {
     "data": {
      "image/png": "[encoded data removed]",
      "text/plain": [
       "<Figure size 419.625x360 with 1 Axes>"
      ]
     },
     "metadata": {
      "needs_background": "light"
     },
     "output_type": "display_data"
    },
    {
     "data": {
      "image/png": "[encoded data removed]",
      "text/plain": [
       "<Figure size 360x360 with 1 Axes>"
      ]
     },
     "metadata": {
      "needs_background": "light"
     },
     "output_type": "display_data"
    }
   ],
   "source": [
    "df1=df.drop(['age', 'amount','duration'], axis=1)\n",
    "for i, col in enumerate(df1.columns):\n",
    "    plt.figure(i)\n",
    "    sns.catplot(col, hue=\"credit_risk\", data=df1, kind=\"count\", \n",
    "            palette={1:\"blue\", 0:\"green\"}, ax=ax)\n",
    "    \n",
    "    "
   ]
  },
  {
   "cell_type": "code",
   "execution_count": 133,
   "id": "c43d208e",
   "metadata": {},
   "outputs": [],
   "source": [
    "#removing sex from the features\n",
    "\n",
    "data=df.drop(['personal_status_sex'], axis=1)\n",
    "data=pd.get_dummies(data,columns=['status','credit_history','purpose','savings','employment_duration',\n",
    "                           'installment_rate','other_debtors','present_residence',\n",
    "                           'property','other_installment_plans','housing','number_credits','job'\n",
    "                           ])\n",
    "\n"
   ]
  },
  {
   "cell_type": "code",
   "execution_count": 134,
   "id": "a86d06ac",
   "metadata": {},
   "outputs": [
    {
     "data": {
      "text/plain": [
       "Text(0.5, 1.0, 'Good Risk - Amount')"
      ]
     },
     "execution_count": 134,
     "metadata": {},
     "output_type": "execute_result"
    },
    {
     "data": {
      "image/png": "[encoded data removed]",
      "text/plain": [
       "<Figure size 432x288 with 2 Axes>"
      ]
     },
     "metadata": {
      "needs_background": "light"
     },
     "output_type": "display_data"
    }
   ],
   "source": [
    "plt.subplot(1, 2, 1)\n",
    "plt.hist(data[data['credit_risk']==0]['amount'])\n",
    "plt.title('Bad Risk - Amount')\n",
    "\n",
    "plt.subplot(1, 2, 2)\n",
    "plt.hist(data[data['credit_risk']==1]['amount'])\n",
    "plt.title('Good Risk - Amount')"
   ]
  },
  {
   "cell_type": "markdown",
   "id": "d8ab3c92",
   "metadata": {},
   "source": [
    "Amount is positively skewed. To remove the skewness we do a log transform"
   ]
  },
  {
   "cell_type": "code",
   "execution_count": 135,
   "id": "e7b45de5",
   "metadata": {},
   "outputs": [
    {
     "data": {
      "text/plain": [
       "<AxesSubplot:xlabel='amount', ylabel='Density'>"
      ]
     },
     "execution_count": 135,
     "metadata": {},
     "output_type": "execute_result"
    },
    {
     "data": {
      "image/png": "[encoded data removed]",
      "text/plain": [
       "<Figure size 432x288 with 1 Axes>"
      ]
     },
     "metadata": {
      "needs_background": "light"
     },
     "output_type": "display_data"
    }
   ],
   "source": [
    "log_amount = np.log(data['amount'])\n",
    "sns.distplot(log_amount,bins=20)\n",
    "\n"
   ]
  },
  {
   "cell_type": "code",
   "execution_count": 136,
   "id": "92c7e404",
   "metadata": {},
   "outputs": [],
   "source": [
    "new_data=data\n",
    "\n",
    "\n",
    "new_data['log_amount'] = round(np.log(new_data['amount']),2)\n",
    "new_data['log_age'] =  round(np.log(new_data['age']),2)\n",
    "new_data['log_duration'] = round(np.log(new_data['duration']),2)\n",
    "new_data.drop(['amount','age','duration'],axis=1,inplace=True)\n",
    "\n"
   ]
  },
  {
   "cell_type": "code",
   "execution_count": 137,
   "id": "aec86b63",
   "metadata": {},
   "outputs": [],
   "source": [
    "new_data = new_data.sample(frac=1).reset_index(drop=True)\n",
    "X=new_data.drop('credit_risk',axis=1)\n",
    "y=new_data['credit_risk']"
   ]
  },
  {
   "cell_type": "code",
   "execution_count": 138,
   "id": "f0963ec8",
   "metadata": {},
   "outputs": [],
   "source": [
    "#to keep  the ratio of class labels intact in both training and testing dataset we use a stratified sampling\n",
    "from sklearn.model_selection import train_test_split \n",
    "X_train, X_test, y_train, y_test = train_test_split(X, y, stratify=y, test_size=0.2, random_state=1)"
   ]
  },
  {
   "cell_type": "code",
   "execution_count": 139,
   "id": "e562783f",
   "metadata": {
    "scrolled": true
   },
   "outputs": [
    {
     "name": "stdout",
     "output_type": "stream",
     "text": [
      "Accuracy of the model is : 0.75\n",
      "col_0         0    1\n",
      "credit_risk         \n",
      "0            27   33\n",
      "1            17  123\n"
     ]
    }
   ],
   "source": [
    "from sklearn.linear_model import LogisticRegression\n",
    "from sklearn.metrics import accuracy_score\n",
    "reg = LogisticRegression()\n",
    "reg.fit(X_train, y_train)\n",
    "y_pred = reg.predict(X_test)\n",
    "\n",
    "print(\"Accuracy of the model is :\",accuracy_score(y_test, y_pred))\n",
    "print( pd.crosstab(y_test, y_pred))\n",
    "\n",
    "\n",
    "\n"
   ]
  },
  {
   "cell_type": "markdown",
   "id": "ca2f4330",
   "metadata": {},
   "source": [
    "# Reproducing Results"
   ]
  },
  {
   "cell_type": "markdown",
   "id": "5deb68e1",
   "metadata": {},
   "source": [
    "### Paper reading\n",
    "\"Fairness Definitions Explained\" - Sahil Verma, Julia Rubin\n",
    "\n",
    "1. Approach used in the paper\n",
    "\n",
    "1) Data processing\n",
    "- Language: Python\n",
    "- Features: total 48 features w. categorical and numerical features\n",
    "- Categorical features are converted to the sets of binary attributes\n",
    "\n",
    "2) Model \n",
    "- Logistic regression (off-the-shelf)\n",
    "\n",
    "3) Evaluation\n",
    "- Performance: 10 fold cross validation w. 90% data for training, 10% data for testing and illustrating definitions\n",
    "- Fairness evaluation: marriage status and gender combination"
   ]
  },
  {
   "cell_type": "markdown",
   "id": "38ef8c5c",
   "metadata": {},
   "source": [
    "@ Source\n",
    "\n",
    "https://towardsdatascience.com/how-to-develop-a-credit-risk-model-and-scorecard-91335fc01f03\n",
    "https://machinelearningmastery.com/how-to-configure-k-fold-cross-validation/\n",
    "https://towardsdatascience.com/what-is-one-hot-encoding-and-how-to-use-pandas-get-dummies-function-922eb9bd4970\n",
    "https://towardsdatascience.com/logistic-regression-using-python-sklearn-numpy-mnist-handwriting-recognition-matplotlib-a6b31e2b166a"
   ]
  },
  {
   "cell_type": "code",
   "execution_count": 140,
   "id": "580b5f4a",
   "metadata": {},
   "outputs": [],
   "source": [
    "# Libraries for ML\n",
    "from sklearn.linear_model import LogisticRegression\n",
    "from sklearn.model_selection import KFold, cross_val_score\n",
    "from sklearn.model_selection import cross_validate"
   ]
  },
  {
   "cell_type": "markdown",
   "id": "555c3205",
   "metadata": {},
   "source": [
    "### Reproducing the modelling"
   ]
  },
  {
   "cell_type": "code",
   "execution_count": 141,
   "id": "89d4cc5f",
   "metadata": {},
   "outputs": [],
   "source": [
    "# 1) Data processing "
   ]
  },
  {
   "cell_type": "code",
   "execution_count": 142,
   "id": "ce65b016",
   "metadata": {
    "scrolled": true
   },
   "outputs": [
    {
     "data": {
      "text/html": [
       "<div>\n",
       "<style scoped>\n",
       "    .dataframe tbody tr th:only-of-type {\n",
       "        vertical-align: middle;\n",
       "    }\n",
       "\n",
       "    .dataframe tbody tr th {\n",
       "        vertical-align: top;\n",
       "    }\n",
       "\n",
       "    .dataframe thead th {\n",
       "        text-align: right;\n",
       "    }\n",
       "</style>\n",
       "<table border=\"1\" class=\"dataframe\">\n",
       "  <thead>\n",
       "    <tr style=\"text-align: right;\">\n",
       "      <th></th>\n",
       "      <th>CheckingAcc</th>\n",
       "      <th>Duration</th>\n",
       "      <th>CreditHistory</th>\n",
       "      <th>Purpose</th>\n",
       "      <th>CreditAmount</th>\n",
       "      <th>SavingsAcc</th>\n",
       "      <th>EmploymentStatus</th>\n",
       "      <th>InstallmentRate</th>\n",
       "      <th>PersonalStatus</th>\n",
       "      <th>OtherDebtors</th>\n",
       "      <th>...</th>\n",
       "      <th>Property</th>\n",
       "      <th>Age</th>\n",
       "      <th>OtherInstallment</th>\n",
       "      <th>Housing</th>\n",
       "      <th>ExistingCredits</th>\n",
       "      <th>Job</th>\n",
       "      <th>Dependents</th>\n",
       "      <th>Telephone</th>\n",
       "      <th>ResidenceStatus</th>\n",
       "      <th>CustomerType</th>\n",
       "    </tr>\n",
       "  </thead>\n",
       "  <tbody>\n",
       "    <tr>\n",
       "      <th>0</th>\n",
       "      <td>A11</td>\n",
       "      <td>6</td>\n",
       "      <td>A34</td>\n",
       "      <td>A43</td>\n",
       "      <td>1169</td>\n",
       "      <td>A65</td>\n",
       "      <td>A75</td>\n",
       "      <td>4</td>\n",
       "      <td>A93</td>\n",
       "      <td>A101</td>\n",
       "      <td>...</td>\n",
       "      <td>A121</td>\n",
       "      <td>67</td>\n",
       "      <td>A143</td>\n",
       "      <td>A152</td>\n",
       "      <td>2</td>\n",
       "      <td>A173</td>\n",
       "      <td>1</td>\n",
       "      <td>A192</td>\n",
       "      <td>A201</td>\n",
       "      <td>1</td>\n",
       "    </tr>\n",
       "    <tr>\n",
       "      <th>1</th>\n",
       "      <td>A12</td>\n",
       "      <td>48</td>\n",
       "      <td>A32</td>\n",
       "      <td>A43</td>\n",
       "      <td>5951</td>\n",
       "      <td>A61</td>\n",
       "      <td>A73</td>\n",
       "      <td>2</td>\n",
       "      <td>A92</td>\n",
       "      <td>A101</td>\n",
       "      <td>...</td>\n",
       "      <td>A121</td>\n",
       "      <td>22</td>\n",
       "      <td>A143</td>\n",
       "      <td>A152</td>\n",
       "      <td>1</td>\n",
       "      <td>A173</td>\n",
       "      <td>1</td>\n",
       "      <td>A191</td>\n",
       "      <td>A201</td>\n",
       "      <td>2</td>\n",
       "    </tr>\n",
       "    <tr>\n",
       "      <th>2</th>\n",
       "      <td>A14</td>\n",
       "      <td>12</td>\n",
       "      <td>A34</td>\n",
       "      <td>A46</td>\n",
       "      <td>2096</td>\n",
       "      <td>A61</td>\n",
       "      <td>A74</td>\n",
       "      <td>2</td>\n",
       "      <td>A93</td>\n",
       "      <td>A101</td>\n",
       "      <td>...</td>\n",
       "      <td>A121</td>\n",
       "      <td>49</td>\n",
       "      <td>A143</td>\n",
       "      <td>A152</td>\n",
       "      <td>1</td>\n",
       "      <td>A172</td>\n",
       "      <td>2</td>\n",
       "      <td>A191</td>\n",
       "      <td>A201</td>\n",
       "      <td>1</td>\n",
       "    </tr>\n",
       "    <tr>\n",
       "      <th>3</th>\n",
       "      <td>A11</td>\n",
       "      <td>42</td>\n",
       "      <td>A32</td>\n",
       "      <td>A42</td>\n",
       "      <td>7882</td>\n",
       "      <td>A61</td>\n",
       "      <td>A74</td>\n",
       "      <td>2</td>\n",
       "      <td>A93</td>\n",
       "      <td>A103</td>\n",
       "      <td>...</td>\n",
       "      <td>A122</td>\n",
       "      <td>45</td>\n",
       "      <td>A143</td>\n",
       "      <td>A153</td>\n",
       "      <td>1</td>\n",
       "      <td>A173</td>\n",
       "      <td>2</td>\n",
       "      <td>A191</td>\n",
       "      <td>A201</td>\n",
       "      <td>1</td>\n",
       "    </tr>\n",
       "    <tr>\n",
       "      <th>4</th>\n",
       "      <td>A11</td>\n",
       "      <td>24</td>\n",
       "      <td>A33</td>\n",
       "      <td>A40</td>\n",
       "      <td>4870</td>\n",
       "      <td>A61</td>\n",
       "      <td>A73</td>\n",
       "      <td>3</td>\n",
       "      <td>A93</td>\n",
       "      <td>A101</td>\n",
       "      <td>...</td>\n",
       "      <td>A124</td>\n",
       "      <td>53</td>\n",
       "      <td>A143</td>\n",
       "      <td>A153</td>\n",
       "      <td>2</td>\n",
       "      <td>A173</td>\n",
       "      <td>2</td>\n",
       "      <td>A191</td>\n",
       "      <td>A201</td>\n",
       "      <td>2</td>\n",
       "    </tr>\n",
       "  </tbody>\n",
       "</table>\n",
       "<p>5 rows × 21 columns</p>\n",
       "</div>"
      ],
      "text/plain": [
       "  CheckingAcc  Duration CreditHistory Purpose  CreditAmount SavingsAcc  \\\n",
       "0         A11         6           A34     A43          1169        A65   \n",
       "1         A12        48           A32     A43          5951        A61   \n",
       "2         A14        12           A34     A46          2096        A61   \n",
       "3         A11        42           A32     A42          7882        A61   \n",
       "4         A11        24           A33     A40          4870        A61   \n",
       "\n",
       "  EmploymentStatus  InstallmentRate PersonalStatus OtherDebtors  ...  \\\n",
       "0              A75                4            A93         A101  ...   \n",
       "1              A73                2            A92         A101  ...   \n",
       "2              A74                2            A93         A101  ...   \n",
       "3              A74                2            A93         A103  ...   \n",
       "4              A73                3            A93         A101  ...   \n",
       "\n",
       "   Property Age  OtherInstallment Housing ExistingCredits   Job Dependents  \\\n",
       "0      A121  67              A143    A152               2  A173          1   \n",
       "1      A121  22              A143    A152               1  A173          1   \n",
       "2      A121  49              A143    A152               1  A172          2   \n",
       "3      A122  45              A143    A153               1  A173          2   \n",
       "4      A124  53              A143    A153               2  A173          2   \n",
       "\n",
       "   Telephone ResidenceStatus CustomerType  \n",
       "0       A192            A201            1  \n",
       "1       A191            A201            2  \n",
       "2       A191            A201            1  \n",
       "3       A191            A201            1  \n",
       "4       A191            A201            2  \n",
       "\n",
       "[5 rows x 21 columns]"
      ]
     },
     "execution_count": 142,
     "metadata": {},
     "output_type": "execute_result"
    }
   ],
   "source": [
    "df = pd.read_csv('german_data.csv',sep=';')\n",
    "# To display the top 5 rows\n",
    "df.head(5)\n"
   ]
  },
  {
   "cell_type": "code",
   "execution_count": 143,
   "id": "98d25c7b",
   "metadata": {},
   "outputs": [
    {
     "data": {
      "text/html": [
       "<div>\n",
       "<style scoped>\n",
       "    .dataframe tbody tr th:only-of-type {\n",
       "        vertical-align: middle;\n",
       "    }\n",
       "\n",
       "    .dataframe tbody tr th {\n",
       "        vertical-align: top;\n",
       "    }\n",
       "\n",
       "    .dataframe thead th {\n",
       "        text-align: right;\n",
       "    }\n",
       "</style>\n",
       "<table border=\"1\" class=\"dataframe\">\n",
       "  <thead>\n",
       "    <tr style=\"text-align: right;\">\n",
       "      <th></th>\n",
       "      <th>CheckingAcc</th>\n",
       "      <th>Duration</th>\n",
       "      <th>CreditHistory</th>\n",
       "      <th>Purpose</th>\n",
       "      <th>CreditAmount</th>\n",
       "      <th>SavingsAcc</th>\n",
       "      <th>EmploymentStatus</th>\n",
       "      <th>InstallmentRate</th>\n",
       "      <th>PersonalStatus</th>\n",
       "      <th>OtherDebtors</th>\n",
       "      <th>...</th>\n",
       "      <th>Property</th>\n",
       "      <th>Age</th>\n",
       "      <th>OtherInstallment</th>\n",
       "      <th>Housing</th>\n",
       "      <th>ExistingCredits</th>\n",
       "      <th>Job</th>\n",
       "      <th>Dependents</th>\n",
       "      <th>Telephone</th>\n",
       "      <th>ResidenceStatus</th>\n",
       "      <th>CustomerType</th>\n",
       "    </tr>\n",
       "  </thead>\n",
       "  <tbody>\n",
       "    <tr>\n",
       "      <th>995</th>\n",
       "      <td>A14</td>\n",
       "      <td>12</td>\n",
       "      <td>A32</td>\n",
       "      <td>A42</td>\n",
       "      <td>1736</td>\n",
       "      <td>A61</td>\n",
       "      <td>A74</td>\n",
       "      <td>3</td>\n",
       "      <td>A92</td>\n",
       "      <td>A101</td>\n",
       "      <td>...</td>\n",
       "      <td>A121</td>\n",
       "      <td>31</td>\n",
       "      <td>A143</td>\n",
       "      <td>A152</td>\n",
       "      <td>1</td>\n",
       "      <td>A172</td>\n",
       "      <td>1</td>\n",
       "      <td>A191</td>\n",
       "      <td>A201</td>\n",
       "      <td>1</td>\n",
       "    </tr>\n",
       "    <tr>\n",
       "      <th>996</th>\n",
       "      <td>A11</td>\n",
       "      <td>30</td>\n",
       "      <td>A32</td>\n",
       "      <td>A41</td>\n",
       "      <td>3857</td>\n",
       "      <td>A61</td>\n",
       "      <td>A73</td>\n",
       "      <td>4</td>\n",
       "      <td>A91</td>\n",
       "      <td>A101</td>\n",
       "      <td>...</td>\n",
       "      <td>A122</td>\n",
       "      <td>40</td>\n",
       "      <td>A143</td>\n",
       "      <td>A152</td>\n",
       "      <td>1</td>\n",
       "      <td>A174</td>\n",
       "      <td>1</td>\n",
       "      <td>A192</td>\n",
       "      <td>A201</td>\n",
       "      <td>1</td>\n",
       "    </tr>\n",
       "    <tr>\n",
       "      <th>997</th>\n",
       "      <td>A14</td>\n",
       "      <td>12</td>\n",
       "      <td>A32</td>\n",
       "      <td>A43</td>\n",
       "      <td>804</td>\n",
       "      <td>A61</td>\n",
       "      <td>A75</td>\n",
       "      <td>4</td>\n",
       "      <td>A93</td>\n",
       "      <td>A101</td>\n",
       "      <td>...</td>\n",
       "      <td>A123</td>\n",
       "      <td>38</td>\n",
       "      <td>A143</td>\n",
       "      <td>A152</td>\n",
       "      <td>1</td>\n",
       "      <td>A173</td>\n",
       "      <td>1</td>\n",
       "      <td>A191</td>\n",
       "      <td>A201</td>\n",
       "      <td>1</td>\n",
       "    </tr>\n",
       "    <tr>\n",
       "      <th>998</th>\n",
       "      <td>A11</td>\n",
       "      <td>45</td>\n",
       "      <td>A32</td>\n",
       "      <td>A43</td>\n",
       "      <td>1845</td>\n",
       "      <td>A61</td>\n",
       "      <td>A73</td>\n",
       "      <td>4</td>\n",
       "      <td>A93</td>\n",
       "      <td>A101</td>\n",
       "      <td>...</td>\n",
       "      <td>A124</td>\n",
       "      <td>23</td>\n",
       "      <td>A143</td>\n",
       "      <td>A153</td>\n",
       "      <td>1</td>\n",
       "      <td>A173</td>\n",
       "      <td>1</td>\n",
       "      <td>A192</td>\n",
       "      <td>A201</td>\n",
       "      <td>2</td>\n",
       "    </tr>\n",
       "    <tr>\n",
       "      <th>999</th>\n",
       "      <td>A12</td>\n",
       "      <td>45</td>\n",
       "      <td>A34</td>\n",
       "      <td>A41</td>\n",
       "      <td>4576</td>\n",
       "      <td>A62</td>\n",
       "      <td>A71</td>\n",
       "      <td>3</td>\n",
       "      <td>A93</td>\n",
       "      <td>A101</td>\n",
       "      <td>...</td>\n",
       "      <td>A123</td>\n",
       "      <td>27</td>\n",
       "      <td>A143</td>\n",
       "      <td>A152</td>\n",
       "      <td>1</td>\n",
       "      <td>A173</td>\n",
       "      <td>1</td>\n",
       "      <td>A191</td>\n",
       "      <td>A201</td>\n",
       "      <td>1</td>\n",
       "    </tr>\n",
       "  </tbody>\n",
       "</table>\n",
       "<p>5 rows × 21 columns</p>\n",
       "</div>"
      ],
      "text/plain": [
       "    CheckingAcc  Duration CreditHistory Purpose  CreditAmount SavingsAcc  \\\n",
       "995         A14        12           A32     A42          1736        A61   \n",
       "996         A11        30           A32     A41          3857        A61   \n",
       "997         A14        12           A32     A43           804        A61   \n",
       "998         A11        45           A32     A43          1845        A61   \n",
       "999         A12        45           A34     A41          4576        A62   \n",
       "\n",
       "    EmploymentStatus  InstallmentRate PersonalStatus OtherDebtors  ...  \\\n",
       "995              A74                3            A92         A101  ...   \n",
       "996              A73                4            A91         A101  ...   \n",
       "997              A75                4            A93         A101  ...   \n",
       "998              A73                4            A93         A101  ...   \n",
       "999              A71                3            A93         A101  ...   \n",
       "\n",
       "     Property Age  OtherInstallment Housing ExistingCredits   Job Dependents  \\\n",
       "995      A121  31              A143    A152               1  A172          1   \n",
       "996      A122  40              A143    A152               1  A174          1   \n",
       "997      A123  38              A143    A152               1  A173          1   \n",
       "998      A124  23              A143    A153               1  A173          1   \n",
       "999      A123  27              A143    A152               1  A173          1   \n",
       "\n",
       "     Telephone ResidenceStatus CustomerType  \n",
       "995       A191            A201            1  \n",
       "996       A192            A201            1  \n",
       "997       A191            A201            1  \n",
       "998       A192            A201            2  \n",
       "999       A191            A201            1  \n",
       "\n",
       "[5 rows x 21 columns]"
      ]
     },
     "execution_count": 143,
     "metadata": {},
     "output_type": "execute_result"
    }
   ],
   "source": [
    "df.tail(5) \n"
   ]
  },
  {
   "cell_type": "code",
   "execution_count": 144,
   "id": "09598602",
   "metadata": {},
   "outputs": [
    {
     "data": {
      "text/plain": [
       "CheckingAcc         object\n",
       "Duration             int64\n",
       "CreditHistory       object\n",
       "Purpose             object\n",
       "CreditAmount         int64\n",
       "SavingsAcc          object\n",
       "EmploymentStatus    object\n",
       "InstallmentRate      int64\n",
       "PersonalStatus      object\n",
       "OtherDebtors        object\n",
       "ResidenceCurrent     int64\n",
       "Property            object\n",
       "Age                  int64\n",
       "OtherInstallment    object\n",
       "Housing             object\n",
       "ExistingCredits      int64\n",
       "Job                 object\n",
       "Dependents           int64\n",
       "Telephone           object\n",
       "ResidenceStatus     object\n",
       "CustomerType         int64\n",
       "dtype: object"
      ]
     },
     "execution_count": 144,
     "metadata": {},
     "output_type": "execute_result"
    }
   ],
   "source": [
    "# Checking the data type\n",
    "df.dtypes"
   ]
  },
  {
   "cell_type": "code",
   "execution_count": 145,
   "id": "839e13e2",
   "metadata": {},
   "outputs": [],
   "source": [
    "cleanup_nums = {\"CheckingAcc\":     {\"A11\": \"<0\", \"A12\": \"<200\",\"A13\": \">200\", \"A14\": \"no_acc\"},\n",
    "                \"CreditHistory\": {\"A30\": \"no credits\", \"A31\": \"all credits\", \"A32\": \"paid back\", \"A33\": \"delay in pay back\",\n",
    "                                  \"A34\": \" existing other credits\"},\n",
    "               \"Purpose\": {\"A40\": \"car (new)\",\"A41\": \"car (used)\",\"A42\": \"furniture/equipment\",\n",
    "                           \"A43\": \"radio/television\",\"A44\": \"domestic appliances\",\"A45\": \"repairs\",\"A46\": \"education\",\n",
    "                           \"A47\": \"(vacation - does not exist?)\",\"A48\": \"retraining\",\"A49\": \"business\",\"A410\": \"others\"},\n",
    "                \"SavingsAcc\":{\"A61\": \"<100\", \"A62\": \"100-500\",\"A63\": \"500-1000\", \"A64\": \">=1000\",\"A65\": \"no_acc\"},\n",
    "                \"EmploymentStatus\":{\"A71\": \"unemployed\", \"A72\": \"<1\",\"A73\": \"1-4\", \"A74\": \"4-7\",\"A75\": \">=7\"},\n",
    "                \"PersonalStatus\":{\"A91\": \"male : divorced/separated\", \"A92\": \"female : divorced/separated/married\",\n",
    "                                  \"A93\": \"male : single\", \"A94\": \"male : married/widowed\",\"A95\": \"female : single\"},\n",
    "                \"OtherDebtors\":{\"A101\": \"none\", \"A102\": \"co-applicant\",\"A103\": \"guarantor\"},\n",
    "                \"Property\":{\"A121\": \"real estate\", \"A122\": \"society savings\",\"A123\": \"car or other,\",\"A124\": \"no property\"},\n",
    "                \"OtherInstallment\":{\"A141\": \"bank\", \"A142\": \"stores\",\"A143\": \"none\"},\n",
    "                \"Housing\":{\"A151\": \"rent\", \"A152\": \"own\",\"A153\": \"free\"},\n",
    "                \"Job\":{\"A171\": \"unskilled - non-resident\", \"A172\": \"unskilled - resident\",\"A173\": \"skilled employee\",\"A174\": \"self-employed\"},\n",
    "                \"Telephone\":{\"A191\": \"none\", \"A192\": \"yes\"},\n",
    "                \"ResidenceStatus\":{\"A201\": \"yes\", \"A202\": \"no\"}\n",
    "}"
   ]
  },
  {
   "cell_type": "code",
   "execution_count": 146,
   "id": "962a6850",
   "metadata": {
    "scrolled": true
   },
   "outputs": [],
   "source": [
    "df1 = df.replace(cleanup_nums)"
   ]
  },
  {
   "cell_type": "code",
   "execution_count": 147,
   "id": "bf5a16db",
   "metadata": {
    "scrolled": true
   },
   "outputs": [
    {
     "data": {
      "text/plain": [
       "CheckingAcc         object\n",
       "Duration             int64\n",
       "CreditHistory       object\n",
       "Purpose             object\n",
       "CreditAmount         int64\n",
       "SavingsAcc          object\n",
       "EmploymentStatus    object\n",
       "InstallmentRate      int64\n",
       "PersonalStatus      object\n",
       "OtherDebtors        object\n",
       "ResidenceCurrent     int64\n",
       "Property            object\n",
       "Age                  int64\n",
       "OtherInstallment    object\n",
       "Housing             object\n",
       "ExistingCredits      int64\n",
       "Job                 object\n",
       "Dependents           int64\n",
       "Telephone           object\n",
       "ResidenceStatus     object\n",
       "CustomerType         int64\n",
       "dtype: object"
      ]
     },
     "execution_count": 147,
     "metadata": {},
     "output_type": "execute_result"
    }
   ],
   "source": [
    "# Check the type of features again\n",
    "df1.dtypes"
   ]
  },
  {
   "cell_type": "code",
   "execution_count": 148,
   "id": "0a9300fe",
   "metadata": {
    "scrolled": true
   },
   "outputs": [
    {
     "data": {
      "text/plain": [
       "CheckingAcc         0\n",
       "Duration            0\n",
       "CreditHistory       0\n",
       "Purpose             0\n",
       "CreditAmount        0\n",
       "SavingsAcc          0\n",
       "EmploymentStatus    0\n",
       "InstallmentRate     0\n",
       "PersonalStatus      0\n",
       "OtherDebtors        0\n",
       "ResidenceCurrent    0\n",
       "Property            0\n",
       "Age                 0\n",
       "OtherInstallment    0\n",
       "Housing             0\n",
       "ExistingCredits     0\n",
       "Job                 0\n",
       "Dependents          0\n",
       "Telephone           0\n",
       "ResidenceStatus     0\n",
       "CustomerType        0\n",
       "dtype: int64"
      ]
     },
     "execution_count": 148,
     "metadata": {},
     "output_type": "execute_result"
    }
   ],
   "source": [
    "# Null data check\n",
    "df1.isna().sum()"
   ]
  },
  {
   "cell_type": "code",
   "execution_count": 149,
   "id": "c92db8fa",
   "metadata": {},
   "outputs": [],
   "source": [
    "# Dependent feature and independent features separation\n",
    "# In column 'CustomerType', 1: good, 2: Bad -> which is going to be our 'dependent feature'\n",
    "\n",
    "X = df1.drop('CustomerType', axis = 1)\n",
    "y = df1['CustomerType']"
   ]
  },
  {
   "cell_type": "code",
   "execution_count": 150,
   "id": "7438ef9c",
   "metadata": {},
   "outputs": [],
   "source": [
    "def dummy_creation(df, columns_list):\n",
    "    df_dummies = []\n",
    "    for col in columns_list:\n",
    "        df_dummies.append(pd.get_dummies(df[col], prefix = col, prefix_sep = ':'))\n",
    "    df_dummies = pd.concat(df_dummies, axis = 1)\n",
    "    df = pd.concat([df, df_dummies], axis = 1)\n",
    "    return df\n",
    "\n",
    "X = dummy_creation(X, ['CheckingAcc', 'CreditHistory', 'Purpose', 'SavingsAcc',\n",
    "       'EmploymentStatus', 'PersonalStatus', 'OtherDebtors', 'Property',\n",
    "       'OtherInstallment', 'Housing', 'Job'])"
   ]
  },
  {
   "cell_type": "code",
   "execution_count": 151,
   "id": "9673ce29",
   "metadata": {},
   "outputs": [],
   "source": [
    "# Binary attribute - values revision\n",
    "# 'Telephone'\n",
    "X['Telephone'] = X['Telephone'].replace({'none':0, 'yes': 1})\n",
    "X['ResidenceStatus'] = X['ResidenceStatus'].replace({'no': 1, 'yes': 0})"
   ]
  },
  {
   "cell_type": "code",
   "execution_count": 152,
   "id": "3f452e46",
   "metadata": {},
   "outputs": [],
   "source": [
    "X.drop(columns = ['CheckingAcc', 'CreditHistory', 'Purpose', 'SavingsAcc',\n",
    "       'EmploymentStatus', 'PersonalStatus', 'OtherDebtors', 'Property',\n",
    "       'OtherInstallment', 'Housing', 'Job'], inplace = True)"
   ]
  },
  {
   "cell_type": "code",
   "execution_count": 153,
   "id": "4cca7db7",
   "metadata": {},
   "outputs": [],
   "source": [
    "# Dataframe - numerical and binary attributes\n",
    "X_num = X.select_dtypes(include = ['int64']).copy()\n",
    "X_obj = X.select_dtypes(include = ['object']).copy()"
   ]
  },
  {
   "cell_type": "code",
   "execution_count": 154,
   "id": "dd7fe895",
   "metadata": {
    "scrolled": false
   },
   "outputs": [
    {
     "data": {
      "text/html": [
       "<div>\n",
       "<style scoped>\n",
       "    .dataframe tbody tr th:only-of-type {\n",
       "        vertical-align: middle;\n",
       "    }\n",
       "\n",
       "    .dataframe tbody tr th {\n",
       "        vertical-align: top;\n",
       "    }\n",
       "\n",
       "    .dataframe thead th {\n",
       "        text-align: right;\n",
       "    }\n",
       "</style>\n",
       "<table border=\"1\" class=\"dataframe\">\n",
       "  <thead>\n",
       "    <tr style=\"text-align: right;\">\n",
       "      <th></th>\n",
       "      <th>Duration</th>\n",
       "      <th>CreditAmount</th>\n",
       "      <th>InstallmentRate</th>\n",
       "      <th>ResidenceCurrent</th>\n",
       "      <th>Age</th>\n",
       "      <th>ExistingCredits</th>\n",
       "      <th>Dependents</th>\n",
       "      <th>Telephone</th>\n",
       "      <th>ResidenceStatus</th>\n",
       "      <th>CheckingAcc:&lt;0</th>\n",
       "      <th>...</th>\n",
       "      <th>OtherInstallment:bank</th>\n",
       "      <th>OtherInstallment:none</th>\n",
       "      <th>OtherInstallment:stores</th>\n",
       "      <th>Housing:free</th>\n",
       "      <th>Housing:own</th>\n",
       "      <th>Housing:rent</th>\n",
       "      <th>Job:self-employed</th>\n",
       "      <th>Job:skilled employee</th>\n",
       "      <th>Job:unskilled - non-resident</th>\n",
       "      <th>Job:unskilled - resident</th>\n",
       "    </tr>\n",
       "  </thead>\n",
       "  <tbody>\n",
       "    <tr>\n",
       "      <th>0</th>\n",
       "      <td>6</td>\n",
       "      <td>1169</td>\n",
       "      <td>4</td>\n",
       "      <td>4</td>\n",
       "      <td>67</td>\n",
       "      <td>2</td>\n",
       "      <td>1</td>\n",
       "      <td>1</td>\n",
       "      <td>0</td>\n",
       "      <td>1</td>\n",
       "      <td>...</td>\n",
       "      <td>0</td>\n",
       "      <td>1</td>\n",
       "      <td>0</td>\n",
       "      <td>0</td>\n",
       "      <td>1</td>\n",
       "      <td>0</td>\n",
       "      <td>0</td>\n",
       "      <td>1</td>\n",
       "      <td>0</td>\n",
       "      <td>0</td>\n",
       "    </tr>\n",
       "    <tr>\n",
       "      <th>1</th>\n",
       "      <td>48</td>\n",
       "      <td>5951</td>\n",
       "      <td>2</td>\n",
       "      <td>2</td>\n",
       "      <td>22</td>\n",
       "      <td>1</td>\n",
       "      <td>1</td>\n",
       "      <td>0</td>\n",
       "      <td>0</td>\n",
       "      <td>0</td>\n",
       "      <td>...</td>\n",
       "      <td>0</td>\n",
       "      <td>1</td>\n",
       "      <td>0</td>\n",
       "      <td>0</td>\n",
       "      <td>1</td>\n",
       "      <td>0</td>\n",
       "      <td>0</td>\n",
       "      <td>1</td>\n",
       "      <td>0</td>\n",
       "      <td>0</td>\n",
       "    </tr>\n",
       "    <tr>\n",
       "      <th>2</th>\n",
       "      <td>12</td>\n",
       "      <td>2096</td>\n",
       "      <td>2</td>\n",
       "      <td>3</td>\n",
       "      <td>49</td>\n",
       "      <td>1</td>\n",
       "      <td>2</td>\n",
       "      <td>0</td>\n",
       "      <td>0</td>\n",
       "      <td>0</td>\n",
       "      <td>...</td>\n",
       "      <td>0</td>\n",
       "      <td>1</td>\n",
       "      <td>0</td>\n",
       "      <td>0</td>\n",
       "      <td>1</td>\n",
       "      <td>0</td>\n",
       "      <td>0</td>\n",
       "      <td>0</td>\n",
       "      <td>0</td>\n",
       "      <td>1</td>\n",
       "    </tr>\n",
       "    <tr>\n",
       "      <th>3</th>\n",
       "      <td>42</td>\n",
       "      <td>7882</td>\n",
       "      <td>2</td>\n",
       "      <td>4</td>\n",
       "      <td>45</td>\n",
       "      <td>1</td>\n",
       "      <td>2</td>\n",
       "      <td>0</td>\n",
       "      <td>0</td>\n",
       "      <td>1</td>\n",
       "      <td>...</td>\n",
       "      <td>0</td>\n",
       "      <td>1</td>\n",
       "      <td>0</td>\n",
       "      <td>1</td>\n",
       "      <td>0</td>\n",
       "      <td>0</td>\n",
       "      <td>0</td>\n",
       "      <td>1</td>\n",
       "      <td>0</td>\n",
       "      <td>0</td>\n",
       "    </tr>\n",
       "    <tr>\n",
       "      <th>4</th>\n",
       "      <td>24</td>\n",
       "      <td>4870</td>\n",
       "      <td>3</td>\n",
       "      <td>4</td>\n",
       "      <td>53</td>\n",
       "      <td>2</td>\n",
       "      <td>2</td>\n",
       "      <td>0</td>\n",
       "      <td>0</td>\n",
       "      <td>1</td>\n",
       "      <td>...</td>\n",
       "      <td>0</td>\n",
       "      <td>1</td>\n",
       "      <td>0</td>\n",
       "      <td>1</td>\n",
       "      <td>0</td>\n",
       "      <td>0</td>\n",
       "      <td>0</td>\n",
       "      <td>1</td>\n",
       "      <td>0</td>\n",
       "      <td>0</td>\n",
       "    </tr>\n",
       "  </tbody>\n",
       "</table>\n",
       "<p>5 rows × 59 columns</p>\n",
       "</div>"
      ],
      "text/plain": [
       "   Duration  CreditAmount  InstallmentRate  ResidenceCurrent  Age  \\\n",
       "0         6          1169                4                 4   67   \n",
       "1        48          5951                2                 2   22   \n",
       "2        12          2096                2                 3   49   \n",
       "3        42          7882                2                 4   45   \n",
       "4        24          4870                3                 4   53   \n",
       "\n",
       "   ExistingCredits  Dependents  Telephone  ResidenceStatus  CheckingAcc:<0  \\\n",
       "0                2           1          1                0               1   \n",
       "1                1           1          0                0               0   \n",
       "2                1           2          0                0               0   \n",
       "3                1           2          0                0               1   \n",
       "4                2           2          0                0               1   \n",
       "\n",
       "   ...  OtherInstallment:bank  OtherInstallment:none  OtherInstallment:stores  \\\n",
       "0  ...                      0                      1                        0   \n",
       "1  ...                      0                      1                        0   \n",
       "2  ...                      0                      1                        0   \n",
       "3  ...                      0                      1                        0   \n",
       "4  ...                      0                      1                        0   \n",
       "\n",
       "   Housing:free  Housing:own  Housing:rent  Job:self-employed  \\\n",
       "0             0            1             0                  0   \n",
       "1             0            1             0                  0   \n",
       "2             0            1             0                  0   \n",
       "3             1            0             0                  0   \n",
       "4             1            0             0                  0   \n",
       "\n",
       "   Job:skilled employee  Job:unskilled - non-resident  \\\n",
       "0                     1                             0   \n",
       "1                     1                             0   \n",
       "2                     0                             0   \n",
       "3                     1                             0   \n",
       "4                     1                             0   \n",
       "\n",
       "   Job:unskilled - resident  \n",
       "0                         0  \n",
       "1                         0  \n",
       "2                         1  \n",
       "3                         0  \n",
       "4                         0  \n",
       "\n",
       "[5 rows x 59 columns]"
      ]
     },
     "execution_count": 154,
     "metadata": {},
     "output_type": "execute_result"
    }
   ],
   "source": [
    "X.head(5)"
   ]
  },
  {
   "cell_type": "code",
   "execution_count": 155,
   "id": "af59e506",
   "metadata": {
    "scrolled": false
   },
   "outputs": [
    {
     "name": "stdout",
     "output_type": "stream",
     "text": [
      "{'PersonalStatus:female : divorced/separated/married': 38, 'PersonalStatus:male : divorced/separated': 39, 'PersonalStatus:male : married/widowed': 40, 'PersonalStatus:male : single': 41}\n"
     ]
    }
   ],
   "source": [
    "# To retrieve the coefficients afterwards, we restore the column index number of PersonalStatus attribute\n",
    "cname = X.filter(regex='PersonalStatus').columns\n",
    "protected_index = {}\n",
    "for i in range(len(cname)): \n",
    "    protected_index[cname[i]] = X.columns.get_loc(cname[i])\n",
    "print(protected_index)"
   ]
  },
  {
   "cell_type": "markdown",
   "id": "b421e8d2",
   "metadata": {},
   "source": [
    "Even though following the instruction of the paper, the number of the features is not the same as the instruction. This is probably because of the method for converting categorical attributes into binary attributes was different."
   ]
  },
  {
   "cell_type": "code",
   "execution_count": 156,
   "id": "40d7c032",
   "metadata": {},
   "outputs": [],
   "source": [
    "# 2), 3) Modelling and evaluation - Logistic Regression "
   ]
  },
  {
   "cell_type": "code",
   "execution_count": 157,
   "id": "317e90de",
   "metadata": {},
   "outputs": [],
   "source": [
    "# Logistic Regression model\n",
    "logisticRegr = LogisticRegression()\n",
    "cv_results = cross_validate(logisticRegr, X, y, cv=10, return_estimator=True)"
   ]
  },
  {
   "cell_type": "code",
   "execution_count": 158,
   "id": "1e896210",
   "metadata": {},
   "outputs": [
    {
     "name": "stdout",
     "output_type": "stream",
     "text": [
      "{'PersonalStatus:female : divorced/separated/married': 0.11405347478630909, 'PersonalStatus:male : divorced/separated': 0.12515224474217065, 'PersonalStatus:male : married/widowed': -0.08386241379326934, 'PersonalStatus:male : single': -0.34995550086800026}\n"
     ]
    }
   ],
   "source": [
    "# Check the protected_attribute index from the dictionary\n",
    "p_index = list(protected_index.keys())\n",
    "protected_index[p_index[0]] = 0\n",
    "protected_index[p_index[1]] = 0\n",
    "protected_index[p_index[2]] = 0\n",
    "protected_index[p_index[3]] = 0\n",
    "\n",
    "for model in cv_results['estimator']:\n",
    "    protected_index[p_index[0]] += model.coef_[0][38]\n",
    "    protected_index[p_index[1]] += model.coef_[0][39]\n",
    "    protected_index[p_index[2]] += model.coef_[0][40]\n",
    "    protected_index[p_index[3]] += model.coef_[0][41]\n",
    "\n",
    "protected_index[p_index[0]] = protected_index[p_index[0]]/10\n",
    "protected_index[p_index[1]] = protected_index[p_index[1]]/10\n",
    "protected_index[p_index[2]] = protected_index[p_index[2]]/10\n",
    "protected_index[p_index[3]] = protected_index[p_index[3]]/10\n",
    "\n",
    "print(protected_index)"
   ]
  },
  {
   "cell_type": "code",
   "execution_count": 159,
   "id": "dc533027",
   "metadata": {},
   "outputs": [
    {
     "data": {
      "text/html": [
       "<div>\n",
       "<style scoped>\n",
       "    .dataframe tbody tr th:only-of-type {\n",
       "        vertical-align: middle;\n",
       "    }\n",
       "\n",
       "    .dataframe tbody tr th {\n",
       "        vertical-align: top;\n",
       "    }\n",
       "\n",
       "    .dataframe thead th {\n",
       "        text-align: right;\n",
       "    }\n",
       "</style>\n",
       "<table border=\"1\" class=\"dataframe\">\n",
       "  <thead>\n",
       "    <tr style=\"text-align: right;\">\n",
       "      <th></th>\n",
       "      <th>PersonalStatus</th>\n",
       "      <th>coef</th>\n",
       "    </tr>\n",
       "  </thead>\n",
       "  <tbody>\n",
       "    <tr>\n",
       "      <th>0</th>\n",
       "      <td>PersonalStatus:female : divorced/separated/mar...</td>\n",
       "      <td>0.114053</td>\n",
       "    </tr>\n",
       "    <tr>\n",
       "      <th>1</th>\n",
       "      <td>PersonalStatus:male : divorced/separated</td>\n",
       "      <td>0.125152</td>\n",
       "    </tr>\n",
       "    <tr>\n",
       "      <th>2</th>\n",
       "      <td>PersonalStatus:male : married/widowed</td>\n",
       "      <td>-0.083862</td>\n",
       "    </tr>\n",
       "    <tr>\n",
       "      <th>3</th>\n",
       "      <td>PersonalStatus:male : single</td>\n",
       "      <td>-0.349956</td>\n",
       "    </tr>\n",
       "  </tbody>\n",
       "</table>\n",
       "</div>"
      ],
      "text/plain": [
       "                                      PersonalStatus      coef\n",
       "0  PersonalStatus:female : divorced/separated/mar...  0.114053\n",
       "1           PersonalStatus:male : divorced/separated  0.125152\n",
       "2              PersonalStatus:male : married/widowed -0.083862\n",
       "3                       PersonalStatus:male : single -0.349956"
      ]
     },
     "execution_count": 159,
     "metadata": {},
     "output_type": "execute_result"
    }
   ],
   "source": [
    "pd.DataFrame(protected_index.items(), columns =['PersonalStatus', 'coef'])"
   ]
  },
  {
   "cell_type": "markdown",
   "id": "dec374aa",
   "metadata": {},
   "source": [
    "* The coefficients values are also different from the paper. This is probably due to the different number of features used for model training. "
   ]
  },
  {
   "cell_type": "markdown",
   "id": "321c4b9f",
   "metadata": {},
   "source": [
    "# Feedback for reproducibility\n",
    "- There are three main points to be concerned to guarantee reproducibility by the side of data scientist. They are 1) support of using data 2) support of sharing the research and 3) support understanding the research. \n",
    "\n",
    "- In case of this paper, which used the data that is uploaded in UCI ML repository so that 1), 2) support was successfully done.\n",
    "\n",
    "- However in terms of the 3) support understanding the research could be improved. Referring to the stages of reproducibility workflow, \n",
    "\n",
    "In the second stage - Data processing, the belows should be mentioned.\n",
    "1) Libraries used\n",
    "    \n",
    "2) Methods used for feature engineering\n",
    "\n",
    "3) Existence of manual status\n",
    "\n",
    "In the third stage - Data Analysis, it is helpful to share the followings.\n",
    "1) Tools/Environment/Libraries used for the selected machine learning model \n",
    "\n",
    "2) Head rows of the final analysed result table"
   ]
  }
 ],
 "metadata": {
  "kernelspec": {
   "display_name": "Python 3",
   "language": "python",
   "name": "python3"
  },
  "language_info": {
   "codemirror_mode": {
    "name": "ipython",
    "version": 3
   },
   "file_extension": ".py",
   "mimetype": "text/x-python",
   "name": "python",
   "nbconvert_exporter": "python",
   "pygments_lexer": "ipython3",
   "version": "3.8.8"
  }
 },
 "nbformat": 4,
 "nbformat_minor": 5
}
