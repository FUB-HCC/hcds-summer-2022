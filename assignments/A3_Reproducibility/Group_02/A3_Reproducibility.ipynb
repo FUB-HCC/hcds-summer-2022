{
 "cells": [
  {
   "cell_type": "code",
   "execution_count": 1,
   "id": "c26a16a0",
   "metadata": {},
   "outputs": [],
   "source": [
    "import pandas as pd\n",
    "import numpy as np\n",
    "import seaborn as sns\n",
    "import matplotlib.pyplot as plt\n",
    "import matplotlib.gridspec as gridspec\n",
    "import matplotlib.patches as mpatches\n",
    "from dython.nominal import associations, cluster_correlations\n",
    "from sklearn.model_selection import train_test_split\n",
    "from sklearn.linear_model import LogisticRegression\n",
    "from sklearn.ensemble import RandomForestClassifier\n",
    "from sklearn.metrics import confusion_matrix"
   ]
  },
  {
   "cell_type": "code",
   "execution_count": 2,
   "id": "e426d725",
   "metadata": {},
   "outputs": [],
   "source": [
    "df = pd.read_csv('../south_german_credit_data_preprocessed.csv')"
   ]
  },
  {
   "cell_type": "code",
   "execution_count": 3,
   "id": "b5793d45",
   "metadata": {},
   "outputs": [
    {
     "data": {
      "text/html": [
       "<div>\n",
       "<style scoped>\n",
       "    .dataframe tbody tr th:only-of-type {\n",
       "        vertical-align: middle;\n",
       "    }\n",
       "\n",
       "    .dataframe tbody tr th {\n",
       "        vertical-align: top;\n",
       "    }\n",
       "\n",
       "    .dataframe thead th {\n",
       "        text-align: right;\n",
       "    }\n",
       "</style>\n",
       "<table border=\"1\" class=\"dataframe\">\n",
       "  <thead>\n",
       "    <tr style=\"text-align: right;\">\n",
       "      <th></th>\n",
       "      <th>checking account</th>\n",
       "      <th>duration in month</th>\n",
       "      <th>credit history</th>\n",
       "      <th>credit purpose</th>\n",
       "      <th>credit amount</th>\n",
       "      <th>savings account</th>\n",
       "      <th>employment since..</th>\n",
       "      <th>installment rate</th>\n",
       "      <th>status : sex</th>\n",
       "      <th>other debtors / guarantors</th>\n",
       "      <th>...</th>\n",
       "      <th>property</th>\n",
       "      <th>relationship : age</th>\n",
       "      <th>other installment plans</th>\n",
       "      <th>housing</th>\n",
       "      <th>existing credits</th>\n",
       "      <th>job</th>\n",
       "      <th>people to provide maintenance for</th>\n",
       "      <th>telephone</th>\n",
       "      <th>foreign worker</th>\n",
       "      <th>goodness</th>\n",
       "    </tr>\n",
       "  </thead>\n",
       "  <tbody>\n",
       "    <tr>\n",
       "      <th>0</th>\n",
       "      <td>laufkont</td>\n",
       "      <td>laufzeit</td>\n",
       "      <td>moral</td>\n",
       "      <td>verw</td>\n",
       "      <td>hoehe</td>\n",
       "      <td>sparkont</td>\n",
       "      <td>beszeit</td>\n",
       "      <td>rate</td>\n",
       "      <td>famges</td>\n",
       "      <td>buerge</td>\n",
       "      <td>...</td>\n",
       "      <td>verm</td>\n",
       "      <td>alter</td>\n",
       "      <td>weitkred</td>\n",
       "      <td>wohn</td>\n",
       "      <td>bishkred</td>\n",
       "      <td>beruf</td>\n",
       "      <td>pers</td>\n",
       "      <td>telef</td>\n",
       "      <td>gastarb</td>\n",
       "      <td>kredit</td>\n",
       "    </tr>\n",
       "    <tr>\n",
       "      <th>1</th>\n",
       "      <td>1</td>\n",
       "      <td>18</td>\n",
       "      <td>4</td>\n",
       "      <td>2</td>\n",
       "      <td>1049</td>\n",
       "      <td>1</td>\n",
       "      <td>2</td>\n",
       "      <td>4</td>\n",
       "      <td>2</td>\n",
       "      <td>1</td>\n",
       "      <td>...</td>\n",
       "      <td>2</td>\n",
       "      <td>21</td>\n",
       "      <td>3</td>\n",
       "      <td>1</td>\n",
       "      <td>1</td>\n",
       "      <td>3</td>\n",
       "      <td>2</td>\n",
       "      <td>1</td>\n",
       "      <td>2</td>\n",
       "      <td>1</td>\n",
       "    </tr>\n",
       "    <tr>\n",
       "      <th>2</th>\n",
       "      <td>1</td>\n",
       "      <td>9</td>\n",
       "      <td>4</td>\n",
       "      <td>0</td>\n",
       "      <td>2799</td>\n",
       "      <td>1</td>\n",
       "      <td>3</td>\n",
       "      <td>2</td>\n",
       "      <td>3</td>\n",
       "      <td>1</td>\n",
       "      <td>...</td>\n",
       "      <td>1</td>\n",
       "      <td>36</td>\n",
       "      <td>3</td>\n",
       "      <td>1</td>\n",
       "      <td>2</td>\n",
       "      <td>3</td>\n",
       "      <td>1</td>\n",
       "      <td>1</td>\n",
       "      <td>2</td>\n",
       "      <td>1</td>\n",
       "    </tr>\n",
       "    <tr>\n",
       "      <th>3</th>\n",
       "      <td>2</td>\n",
       "      <td>12</td>\n",
       "      <td>2</td>\n",
       "      <td>9</td>\n",
       "      <td>841</td>\n",
       "      <td>2</td>\n",
       "      <td>4</td>\n",
       "      <td>2</td>\n",
       "      <td>2</td>\n",
       "      <td>1</td>\n",
       "      <td>...</td>\n",
       "      <td>1</td>\n",
       "      <td>23</td>\n",
       "      <td>3</td>\n",
       "      <td>1</td>\n",
       "      <td>1</td>\n",
       "      <td>2</td>\n",
       "      <td>2</td>\n",
       "      <td>1</td>\n",
       "      <td>2</td>\n",
       "      <td>1</td>\n",
       "    </tr>\n",
       "    <tr>\n",
       "      <th>4</th>\n",
       "      <td>1</td>\n",
       "      <td>12</td>\n",
       "      <td>4</td>\n",
       "      <td>0</td>\n",
       "      <td>2122</td>\n",
       "      <td>1</td>\n",
       "      <td>3</td>\n",
       "      <td>3</td>\n",
       "      <td>3</td>\n",
       "      <td>1</td>\n",
       "      <td>...</td>\n",
       "      <td>1</td>\n",
       "      <td>39</td>\n",
       "      <td>3</td>\n",
       "      <td>1</td>\n",
       "      <td>2</td>\n",
       "      <td>2</td>\n",
       "      <td>1</td>\n",
       "      <td>1</td>\n",
       "      <td>1</td>\n",
       "      <td>1</td>\n",
       "    </tr>\n",
       "  </tbody>\n",
       "</table>\n",
       "<p>5 rows × 21 columns</p>\n",
       "</div>"
      ],
      "text/plain": [
       "  checking account duration in month credit history credit purpose  \\\n",
       "0         laufkont          laufzeit          moral           verw   \n",
       "1                1                18              4              2   \n",
       "2                1                 9              4              0   \n",
       "3                2                12              2              9   \n",
       "4                1                12              4              0   \n",
       "\n",
       "  credit amount savings account employment since.. installment rate  \\\n",
       "0         hoehe        sparkont            beszeit             rate   \n",
       "1          1049               1                  2                4   \n",
       "2          2799               1                  3                2   \n",
       "3           841               2                  4                2   \n",
       "4          2122               1                  3                3   \n",
       "\n",
       "  status : sex other debtors / guarantors  ... property relationship : age  \\\n",
       "0       famges                     buerge  ...     verm              alter   \n",
       "1            2                          1  ...        2                 21   \n",
       "2            3                          1  ...        1                 36   \n",
       "3            2                          1  ...        1                 23   \n",
       "4            3                          1  ...        1                 39   \n",
       "\n",
       "  other installment plans housing existing credits    job  \\\n",
       "0                weitkred    wohn         bishkred  beruf   \n",
       "1                       3       1                1      3   \n",
       "2                       3       1                2      3   \n",
       "3                       3       1                1      2   \n",
       "4                       3       1                2      2   \n",
       "\n",
       "  people to provide maintenance for telephone foreign worker goodness  \n",
       "0                              pers     telef        gastarb   kredit  \n",
       "1                                 2         1              2        1  \n",
       "2                                 1         1              2        1  \n",
       "3                                 2         1              2        1  \n",
       "4                                 1         1              1        1  \n",
       "\n",
       "[5 rows x 21 columns]"
      ]
     },
     "execution_count": 3,
     "metadata": {},
     "output_type": "execute_result"
    }
   ],
   "source": [
    "df.head()"
   ]
  },
  {
   "cell_type": "markdown",
   "id": "4d6cd46f",
   "metadata": {},
   "source": [
    "# Explanation on the Dataset:\n",
    "\n",
    "We are gathering and combining the information from the website, codetable.txt, r-file as well as our preprocessed dset.\n",
    "\n",
    "**Checking Account**\n",
    "\n",
    "Content: status of the debtor's checking account with the bank (categorical)\n",
    "\n",
    " 1 : no checking account                       \n",
    " 2 : ... < 0 DM                                \n",
    " 3 : 0<= ... < 200 DM                          \n",
    " 4 : ... >= 200 DM / salary for at least 1 year\n",
    " \n",
    "**Duration in month**\n",
    "\n",
    "Content: credit duration in months (quantitative)\n",
    "\n",
    "**credit_history**\n",
    "\n",
    "Content: history of compliance with previous or concurrent credit contracts (categorical)\n",
    "\n",
    " 0 : delay in paying off in the past            \n",
    " 1 : critical account/other credits elsewhere   \n",
    " 2 : no credits taken/all credits paid back duly\n",
    " 3 : existing credits paid back duly till now   \n",
    " 4 : all credits at this bank paid back duly \n",
    " \n",
    "**credit_purpose**\n",
    "\n",
    "Content: purpose for which the credit is needed (categorical)\n",
    "\n",
    " 0 : others             \n",
    " 1 : car (new)          \n",
    " 2 : car (used)         \n",
    " 3 : furniture/equipment\n",
    " 4 : radio/television   \n",
    " 5 : domestic appliances\n",
    " 6 : repairs            \n",
    " 7 : education          \n",
    " 8 : vacation           \n",
    " 9 : retraining         \n",
    " 10 : business  \n",
    " \n",
    "**credit_amount**\n",
    "\n",
    "Content: credit amount in DM (quantitative; result of monotonic transformation; actual data and type of\n",
    "transformation unknown)\n",
    "\n",
    "**savings_account**\n",
    "\n",
    "Content: debtor's savings (categorical)\n",
    "\n",
    " 1 : unknown/no savings account\n",
    " 2 : ... <  100 DM             \n",
    " 3 : 100 <= ... <  500 DM      \n",
    " 4 : 500 <= ... < 1000 DM      \n",
    " 5 : ... >= 1000 DM  \n",
    " \n",
    "**employment_since**\n",
    "\n",
    "Variable name: employment_duration\n",
    "Content: duration of debtor's employment with current employer (ordinal; discretized quantitative)\n",
    "\n",
    " 1 : unemployed      \n",
    " 2 : < 1 yr          \n",
    " 3 : 1 <= ... < 4 yrs\n",
    " 4 : 4 <= ... < 7 yrs\n",
    " 5 : >= 7 yrs        \n",
    "\n",
    "**installment_rate**\n",
    "\n",
    "Variable name: installment_rate\n",
    "Content: credit installments as a percentage of debtor's disposable income (ordinal; discretized quantitative)\n",
    " 1 : >= 35         \n",
    " 2 : 25 <= ... < 35\n",
    " 3 : 20 <= ... < 25\n",
    " 4 : < 20   \n",
    " \n",
    "**status:sex**\n",
    "\n",
    "Content: combined information on sex and marital status; categorical; sex cannot be recovered from the\n",
    "variable, because male singles and female non-singles are coded with the same code (2); female widows cannot\n",
    "be easily classified, because the code table does not list them in any of the female categories\n",
    "\n",
    " 1 : male : divorced/separated           \n",
    " 2 : female : non-single or male : single\n",
    " 3 : male : married/widowed              \n",
    " 4 : female : single  \n",
    " \n",
    "**other_debtors/guruantors**\n",
    "\n",
    "Variable name: other_debtors\n",
    "Content: Is there another debtor or a guarantor for the credit? (categorical)\n",
    "\n",
    " 1 : none        \n",
    " 2 : co-applicant\n",
    " 3 : guarantor  \n",
    "\n",
    "**present_residence**\n",
    "\n",
    "Content: length of time (in years) the debtor lives in the present residence (ordinal; discretized quantitative)\n",
    "\n",
    " 1 : < 1 yr          \n",
    " 2 : 1 <= ... < 4 yrs\n",
    " 3 : 4 <= ... < 7 yrs\n",
    " 4 : >= 7 yrs \n",
    " \n",
    "**property**\n",
    "\n",
    "Content: the debtor's most valuable property, i.e. the highest possible code is used. Code 2 is used, if codes 3\n",
    "or 4 are not applicable and there is a car or any other relevant property that does not fall under variable\n",
    "sparkont. (ordinal)\n",
    "\n",
    " 1 : unknown / no property       \n",
    " 2 : car or other                             \n",
    " 3 : building soc. savings agr./life insurance\n",
    " 4 : real estate   \n",
    " \n",
    "**relationship:age**\n",
    "\n",
    "Content: age in years (quantitative)\n",
    "\n",
    "**other installment plans**\n",
    "\n",
    "Variable name: other_installment_plans\n",
    "Content: installment plans from providers other than the credit-giving bank (categorical)\n",
    "\n",
    " 1 : bank  \n",
    " 2 : stores\n",
    " 3 : none  \n",
    " \n",
    "**housing**\n",
    "\n",
    "Content: type of housing the debtor lives in (categorical)\n",
    "\n",
    " 1 : for free\n",
    " 2 : rent    \n",
    " 3 : own     \n",
    "\n",
    "**existing_credits**\n",
    "\n",
    "Variable name: number_credits\n",
    "Content: number of credits including the current one the debtor has (or had) at this bank (ordinal, discretized\n",
    "quantitative); contrary to Fahrmeir and HamerleÃ¢â‚¬â„¢s (1984) statement, the original data values are not available.\n",
    "\n",
    " 1 : 1   \n",
    " 2 : 2-3 \n",
    " 3 : 4-5 \n",
    " 4 : >= 6\n",
    " \n",
    "**job**\n",
    "\n",
    "Content: quality of debtor's job (ordinal)\n",
    "\n",
    " 1 : unemployed/unskilled - non-resident       \n",
    " 2 : unskilled - resident                      \n",
    " 3 : skilled employee/official                 \n",
    " 4 : manager/self-empl./highly qualif. employee\n",
    " \n",
    "**people to provide maintenance for**\n",
    "\n",
    "Content: number of persons who financially depend on the debtor (i.e., are entitled to maintenance) (binary,\n",
    "discretized quantitative)\n",
    "\n",
    " 1 : 3 or more\n",
    " 2 : 0 to 2   \n",
    " \n",
    "**telephone**\n",
    "\n",
    "Content: Is there a telephone landline registered on the debtor's name? (binary; remember that the data are\n",
    "from the 1970s)\n",
    "\n",
    " 1 : no                       \n",
    " 2 : yes (under customer name)\n",
    " \n",
    "**foreign worker**\n",
    "\n",
    "Content: Is the debtora foreign worker? (binary)\n",
    "\n",
    " 1 : yes\n",
    " 2 : no\n",
    " \n",
    "**credit_risk**\n",
    "\n",
    "Content: Has the credit contract been complied with (good) or not (bad) ? (binary)\n",
    "\n",
    " 0 : bad \n",
    " 1 : good\n",
    " \n",
    " ## Some Initial Thoughts on the Data\n",
    " Since this is data from the 70s, the context of the times was very different from today, and this will probably be in the data too:\n",
    " * This data was probably not even gathered computer-assisted\n",
    " * Decisions back then where done by human\n",
    " * Biases against women and minorities where substantially worse than today.\n",
    " * Things like telephone and cars were relatively common, but by no means something every household would have."
   ]
  },
  {
   "cell_type": "markdown",
   "id": "a26984b3",
   "metadata": {},
   "source": [
    "### Drop First Line"
   ]
  },
  {
   "cell_type": "code",
   "execution_count": 4,
   "id": "26862da8",
   "metadata": {},
   "outputs": [
    {
     "data": {
      "text/html": [
       "<div>\n",
       "<style scoped>\n",
       "    .dataframe tbody tr th:only-of-type {\n",
       "        vertical-align: middle;\n",
       "    }\n",
       "\n",
       "    .dataframe tbody tr th {\n",
       "        vertical-align: top;\n",
       "    }\n",
       "\n",
       "    .dataframe thead th {\n",
       "        text-align: right;\n",
       "    }\n",
       "</style>\n",
       "<table border=\"1\" class=\"dataframe\">\n",
       "  <thead>\n",
       "    <tr style=\"text-align: right;\">\n",
       "      <th></th>\n",
       "      <th>checking account</th>\n",
       "      <th>duration in month</th>\n",
       "      <th>credit history</th>\n",
       "      <th>credit purpose</th>\n",
       "      <th>credit amount</th>\n",
       "      <th>savings account</th>\n",
       "      <th>employment since..</th>\n",
       "      <th>installment rate</th>\n",
       "      <th>status : sex</th>\n",
       "      <th>other debtors / guarantors</th>\n",
       "      <th>...</th>\n",
       "      <th>property</th>\n",
       "      <th>relationship : age</th>\n",
       "      <th>other installment plans</th>\n",
       "      <th>housing</th>\n",
       "      <th>existing credits</th>\n",
       "      <th>job</th>\n",
       "      <th>people to provide maintenance for</th>\n",
       "      <th>telephone</th>\n",
       "      <th>foreign worker</th>\n",
       "      <th>goodness</th>\n",
       "    </tr>\n",
       "  </thead>\n",
       "  <tbody>\n",
       "    <tr>\n",
       "      <th>1</th>\n",
       "      <td>1</td>\n",
       "      <td>18</td>\n",
       "      <td>4</td>\n",
       "      <td>2</td>\n",
       "      <td>1049</td>\n",
       "      <td>1</td>\n",
       "      <td>2</td>\n",
       "      <td>4</td>\n",
       "      <td>2</td>\n",
       "      <td>1</td>\n",
       "      <td>...</td>\n",
       "      <td>2</td>\n",
       "      <td>21</td>\n",
       "      <td>3</td>\n",
       "      <td>1</td>\n",
       "      <td>1</td>\n",
       "      <td>3</td>\n",
       "      <td>2</td>\n",
       "      <td>1</td>\n",
       "      <td>2</td>\n",
       "      <td>1</td>\n",
       "    </tr>\n",
       "    <tr>\n",
       "      <th>2</th>\n",
       "      <td>1</td>\n",
       "      <td>9</td>\n",
       "      <td>4</td>\n",
       "      <td>0</td>\n",
       "      <td>2799</td>\n",
       "      <td>1</td>\n",
       "      <td>3</td>\n",
       "      <td>2</td>\n",
       "      <td>3</td>\n",
       "      <td>1</td>\n",
       "      <td>...</td>\n",
       "      <td>1</td>\n",
       "      <td>36</td>\n",
       "      <td>3</td>\n",
       "      <td>1</td>\n",
       "      <td>2</td>\n",
       "      <td>3</td>\n",
       "      <td>1</td>\n",
       "      <td>1</td>\n",
       "      <td>2</td>\n",
       "      <td>1</td>\n",
       "    </tr>\n",
       "    <tr>\n",
       "      <th>3</th>\n",
       "      <td>2</td>\n",
       "      <td>12</td>\n",
       "      <td>2</td>\n",
       "      <td>9</td>\n",
       "      <td>841</td>\n",
       "      <td>2</td>\n",
       "      <td>4</td>\n",
       "      <td>2</td>\n",
       "      <td>2</td>\n",
       "      <td>1</td>\n",
       "      <td>...</td>\n",
       "      <td>1</td>\n",
       "      <td>23</td>\n",
       "      <td>3</td>\n",
       "      <td>1</td>\n",
       "      <td>1</td>\n",
       "      <td>2</td>\n",
       "      <td>2</td>\n",
       "      <td>1</td>\n",
       "      <td>2</td>\n",
       "      <td>1</td>\n",
       "    </tr>\n",
       "    <tr>\n",
       "      <th>4</th>\n",
       "      <td>1</td>\n",
       "      <td>12</td>\n",
       "      <td>4</td>\n",
       "      <td>0</td>\n",
       "      <td>2122</td>\n",
       "      <td>1</td>\n",
       "      <td>3</td>\n",
       "      <td>3</td>\n",
       "      <td>3</td>\n",
       "      <td>1</td>\n",
       "      <td>...</td>\n",
       "      <td>1</td>\n",
       "      <td>39</td>\n",
       "      <td>3</td>\n",
       "      <td>1</td>\n",
       "      <td>2</td>\n",
       "      <td>2</td>\n",
       "      <td>1</td>\n",
       "      <td>1</td>\n",
       "      <td>1</td>\n",
       "      <td>1</td>\n",
       "    </tr>\n",
       "    <tr>\n",
       "      <th>5</th>\n",
       "      <td>1</td>\n",
       "      <td>12</td>\n",
       "      <td>4</td>\n",
       "      <td>0</td>\n",
       "      <td>2171</td>\n",
       "      <td>1</td>\n",
       "      <td>3</td>\n",
       "      <td>4</td>\n",
       "      <td>3</td>\n",
       "      <td>1</td>\n",
       "      <td>...</td>\n",
       "      <td>2</td>\n",
       "      <td>38</td>\n",
       "      <td>1</td>\n",
       "      <td>2</td>\n",
       "      <td>2</td>\n",
       "      <td>2</td>\n",
       "      <td>2</td>\n",
       "      <td>1</td>\n",
       "      <td>1</td>\n",
       "      <td>1</td>\n",
       "    </tr>\n",
       "  </tbody>\n",
       "</table>\n",
       "<p>5 rows × 21 columns</p>\n",
       "</div>"
      ],
      "text/plain": [
       "  checking account duration in month credit history credit purpose  \\\n",
       "1                1                18              4              2   \n",
       "2                1                 9              4              0   \n",
       "3                2                12              2              9   \n",
       "4                1                12              4              0   \n",
       "5                1                12              4              0   \n",
       "\n",
       "  credit amount savings account employment since.. installment rate  \\\n",
       "1          1049               1                  2                4   \n",
       "2          2799               1                  3                2   \n",
       "3           841               2                  4                2   \n",
       "4          2122               1                  3                3   \n",
       "5          2171               1                  3                4   \n",
       "\n",
       "  status : sex other debtors / guarantors  ... property relationship : age  \\\n",
       "1            2                          1  ...        2                 21   \n",
       "2            3                          1  ...        1                 36   \n",
       "3            2                          1  ...        1                 23   \n",
       "4            3                          1  ...        1                 39   \n",
       "5            3                          1  ...        2                 38   \n",
       "\n",
       "  other installment plans housing existing credits job  \\\n",
       "1                       3       1                1   3   \n",
       "2                       3       1                2   3   \n",
       "3                       3       1                1   2   \n",
       "4                       3       1                2   2   \n",
       "5                       1       2                2   2   \n",
       "\n",
       "  people to provide maintenance for telephone foreign worker goodness  \n",
       "1                                 2         1              2        1  \n",
       "2                                 1         1              2        1  \n",
       "3                                 2         1              2        1  \n",
       "4                                 1         1              1        1  \n",
       "5                                 2         1              1        1  \n",
       "\n",
       "[5 rows x 21 columns]"
      ]
     },
     "execution_count": 4,
     "metadata": {},
     "output_type": "execute_result"
    }
   ],
   "source": [
    "df.drop(index=df.index[0], \n",
    "        axis=0, \n",
    "        inplace=True)\n",
    "\n",
    "df.head()"
   ]
  },
  {
   "cell_type": "markdown",
   "id": "5f994aee",
   "metadata": {},
   "source": [
    "### Rename Categorical Columns to human readable values"
   ]
  },
  {
   "cell_type": "code",
   "execution_count": 5,
   "id": "2ea680d5",
   "metadata": {},
   "outputs": [],
   "source": [
    "readable_df = df.replace( {'checking account':   {'1': 'No Account', '2':'<0 DM', '3':'0-200 DM', '4':'>=200 DM'},\n",
    "             'credit history':     {'0': 'past delay', '1':'critical/open', '2':'none open', '3':'paid open rates', '4': 'fully paid back'},\n",
    "             'credit purpose':     {'0': 'others', '1': 'car (new)','2' : 'car (used)','3' : 'furniture/equipment','4' : 'radio/television','5': 'domestic appliances','6':'repairs','7':'education','8':'vacation','9':'retraining','10':'business'},\n",
    "             'savings account':    {'1': 'unknown/no savings account','2': '<100 DM','3':'100-500 DM','4':'500-1000 DM','5':'>=1000 DM'},\n",
    "             'employment since..': {'1': 'unemployed','2':'<1 yr','3': '1-3 yrs','4' :'4-6 yrs','5': '>= 7 yrs'},\n",
    "             'installment rate':   {'1': '>= 35', '2': '25-34','3' : '20-24','4' : '<20'},\n",
    "             'status : sex':       {'1': 'male : divorced/separated','2': 'female: non-single or male: single','3': 'male : married/widowed','4': 'female : single'},\n",
    "             'other debtors / guarantors': { '1' : 'none', '2': 'co-applicant','3' : 'guarantor'},\n",
    "             'residence since':    {'1': '< 1 yr','2' : '1-3 yrs','3' : '4-6 yrs','4' : '>= 7 yrs'},\n",
    "             'property':           {'1': 'unknown / no property','2' : 'car or other','3' : 'building soc. savings agr./life insurance','4' : 'real estate'},\n",
    "             'other installment plans': {'1' : 'bank','2' : 'stores','3' : 'none'},\n",
    "             'housing':            {'1': 'for free', '2' : 'rent','3' : 'own'},\n",
    "             'job':                {'1': 'unemployed/unskilled - non-resident','2' : 'unskilled - resident','3' : 'skilled employee/official','4' : 'manager/self-empl./highly qualif'},\n",
    "             'people to provide maintenance for': {'1' : '3 or more','2' : '0 to 2'},\n",
    "             'telephone':          {'1': 'no', '2':'yes'},\n",
    "             'foreign worker':     {'1':'yes','2':'no'},\n",
    "             'goodness':           {'0':'bad', '1':'good'}\n",
    "             })"
   ]
  },
  {
   "cell_type": "code",
   "execution_count": 6,
   "id": "999b1925",
   "metadata": {},
   "outputs": [
    {
     "data": {
      "text/html": [
       "<div>\n",
       "<style scoped>\n",
       "    .dataframe tbody tr th:only-of-type {\n",
       "        vertical-align: middle;\n",
       "    }\n",
       "\n",
       "    .dataframe tbody tr th {\n",
       "        vertical-align: top;\n",
       "    }\n",
       "\n",
       "    .dataframe thead th {\n",
       "        text-align: right;\n",
       "    }\n",
       "</style>\n",
       "<table border=\"1\" class=\"dataframe\">\n",
       "  <thead>\n",
       "    <tr style=\"text-align: right;\">\n",
       "      <th></th>\n",
       "      <th>checking account</th>\n",
       "      <th>duration in month</th>\n",
       "      <th>credit history</th>\n",
       "      <th>credit purpose</th>\n",
       "      <th>credit amount</th>\n",
       "      <th>savings account</th>\n",
       "      <th>employment since..</th>\n",
       "      <th>installment rate</th>\n",
       "      <th>status : sex</th>\n",
       "      <th>other debtors / guarantors</th>\n",
       "      <th>...</th>\n",
       "      <th>property</th>\n",
       "      <th>relationship : age</th>\n",
       "      <th>other installment plans</th>\n",
       "      <th>housing</th>\n",
       "      <th>existing credits</th>\n",
       "      <th>job</th>\n",
       "      <th>people to provide maintenance for</th>\n",
       "      <th>telephone</th>\n",
       "      <th>foreign worker</th>\n",
       "      <th>goodness</th>\n",
       "    </tr>\n",
       "  </thead>\n",
       "  <tbody>\n",
       "    <tr>\n",
       "      <th>1</th>\n",
       "      <td>No Account</td>\n",
       "      <td>18</td>\n",
       "      <td>fully paid back</td>\n",
       "      <td>car (used)</td>\n",
       "      <td>1049</td>\n",
       "      <td>unknown/no savings account</td>\n",
       "      <td>&lt;1 yr</td>\n",
       "      <td>&lt;20</td>\n",
       "      <td>female: non-single or male: single</td>\n",
       "      <td>none</td>\n",
       "      <td>...</td>\n",
       "      <td>car or other</td>\n",
       "      <td>21</td>\n",
       "      <td>none</td>\n",
       "      <td>for free</td>\n",
       "      <td>1</td>\n",
       "      <td>skilled employee/official</td>\n",
       "      <td>0 to 2</td>\n",
       "      <td>no</td>\n",
       "      <td>no</td>\n",
       "      <td>good</td>\n",
       "    </tr>\n",
       "    <tr>\n",
       "      <th>2</th>\n",
       "      <td>No Account</td>\n",
       "      <td>9</td>\n",
       "      <td>fully paid back</td>\n",
       "      <td>others</td>\n",
       "      <td>2799</td>\n",
       "      <td>unknown/no savings account</td>\n",
       "      <td>1-3 yrs</td>\n",
       "      <td>25-34</td>\n",
       "      <td>male : married/widowed</td>\n",
       "      <td>none</td>\n",
       "      <td>...</td>\n",
       "      <td>unknown / no property</td>\n",
       "      <td>36</td>\n",
       "      <td>none</td>\n",
       "      <td>for free</td>\n",
       "      <td>2</td>\n",
       "      <td>skilled employee/official</td>\n",
       "      <td>3 or more</td>\n",
       "      <td>no</td>\n",
       "      <td>no</td>\n",
       "      <td>good</td>\n",
       "    </tr>\n",
       "    <tr>\n",
       "      <th>3</th>\n",
       "      <td>&lt;0 DM</td>\n",
       "      <td>12</td>\n",
       "      <td>none open</td>\n",
       "      <td>retraining</td>\n",
       "      <td>841</td>\n",
       "      <td>&lt;100 DM</td>\n",
       "      <td>4-6 yrs</td>\n",
       "      <td>25-34</td>\n",
       "      <td>female: non-single or male: single</td>\n",
       "      <td>none</td>\n",
       "      <td>...</td>\n",
       "      <td>unknown / no property</td>\n",
       "      <td>23</td>\n",
       "      <td>none</td>\n",
       "      <td>for free</td>\n",
       "      <td>1</td>\n",
       "      <td>unskilled - resident</td>\n",
       "      <td>0 to 2</td>\n",
       "      <td>no</td>\n",
       "      <td>no</td>\n",
       "      <td>good</td>\n",
       "    </tr>\n",
       "    <tr>\n",
       "      <th>4</th>\n",
       "      <td>No Account</td>\n",
       "      <td>12</td>\n",
       "      <td>fully paid back</td>\n",
       "      <td>others</td>\n",
       "      <td>2122</td>\n",
       "      <td>unknown/no savings account</td>\n",
       "      <td>1-3 yrs</td>\n",
       "      <td>20-24</td>\n",
       "      <td>male : married/widowed</td>\n",
       "      <td>none</td>\n",
       "      <td>...</td>\n",
       "      <td>unknown / no property</td>\n",
       "      <td>39</td>\n",
       "      <td>none</td>\n",
       "      <td>for free</td>\n",
       "      <td>2</td>\n",
       "      <td>unskilled - resident</td>\n",
       "      <td>3 or more</td>\n",
       "      <td>no</td>\n",
       "      <td>yes</td>\n",
       "      <td>good</td>\n",
       "    </tr>\n",
       "    <tr>\n",
       "      <th>5</th>\n",
       "      <td>No Account</td>\n",
       "      <td>12</td>\n",
       "      <td>fully paid back</td>\n",
       "      <td>others</td>\n",
       "      <td>2171</td>\n",
       "      <td>unknown/no savings account</td>\n",
       "      <td>1-3 yrs</td>\n",
       "      <td>&lt;20</td>\n",
       "      <td>male : married/widowed</td>\n",
       "      <td>none</td>\n",
       "      <td>...</td>\n",
       "      <td>car or other</td>\n",
       "      <td>38</td>\n",
       "      <td>bank</td>\n",
       "      <td>rent</td>\n",
       "      <td>2</td>\n",
       "      <td>unskilled - resident</td>\n",
       "      <td>0 to 2</td>\n",
       "      <td>no</td>\n",
       "      <td>yes</td>\n",
       "      <td>good</td>\n",
       "    </tr>\n",
       "  </tbody>\n",
       "</table>\n",
       "<p>5 rows × 21 columns</p>\n",
       "</div>"
      ],
      "text/plain": [
       "  checking account duration in month   credit history credit purpose  \\\n",
       "1       No Account                18  fully paid back     car (used)   \n",
       "2       No Account                 9  fully paid back         others   \n",
       "3            <0 DM                12        none open     retraining   \n",
       "4       No Account                12  fully paid back         others   \n",
       "5       No Account                12  fully paid back         others   \n",
       "\n",
       "  credit amount             savings account employment since..  \\\n",
       "1          1049  unknown/no savings account              <1 yr   \n",
       "2          2799  unknown/no savings account            1-3 yrs   \n",
       "3           841                     <100 DM            4-6 yrs   \n",
       "4          2122  unknown/no savings account            1-3 yrs   \n",
       "5          2171  unknown/no savings account            1-3 yrs   \n",
       "\n",
       "  installment rate                        status : sex  \\\n",
       "1              <20  female: non-single or male: single   \n",
       "2            25-34              male : married/widowed   \n",
       "3            25-34  female: non-single or male: single   \n",
       "4            20-24              male : married/widowed   \n",
       "5              <20              male : married/widowed   \n",
       "\n",
       "  other debtors / guarantors  ...               property relationship : age  \\\n",
       "1                       none  ...           car or other                 21   \n",
       "2                       none  ...  unknown / no property                 36   \n",
       "3                       none  ...  unknown / no property                 23   \n",
       "4                       none  ...  unknown / no property                 39   \n",
       "5                       none  ...           car or other                 38   \n",
       "\n",
       "  other installment plans   housing existing credits  \\\n",
       "1                    none  for free                1   \n",
       "2                    none  for free                2   \n",
       "3                    none  for free                1   \n",
       "4                    none  for free                2   \n",
       "5                    bank      rent                2   \n",
       "\n",
       "                         job people to provide maintenance for telephone  \\\n",
       "1  skilled employee/official                            0 to 2        no   \n",
       "2  skilled employee/official                         3 or more        no   \n",
       "3       unskilled - resident                            0 to 2        no   \n",
       "4       unskilled - resident                         3 or more        no   \n",
       "5       unskilled - resident                            0 to 2        no   \n",
       "\n",
       "  foreign worker goodness  \n",
       "1             no     good  \n",
       "2             no     good  \n",
       "3             no     good  \n",
       "4            yes     good  \n",
       "5            yes     good  \n",
       "\n",
       "[5 rows x 21 columns]"
      ]
     },
     "execution_count": 6,
     "metadata": {},
     "output_type": "execute_result"
    }
   ],
   "source": [
    "readable_df.head()"
   ]
  },
  {
   "cell_type": "markdown",
   "id": "a10173c6",
   "metadata": {},
   "source": [
    "## Data Analysis\n",
    "### Split features into categorical and numerical"
   ]
  },
  {
   "cell_type": "code",
   "execution_count": 7,
   "id": "e09fb5d4",
   "metadata": {},
   "outputs": [],
   "source": [
    "num_cols = ['duration in month','credit amount','relationship : age','existing credits']\n",
    "for i in num_cols:\n",
    "    readable_df[i]=pd.to_numeric(readable_df[i])\n",
    "\n",
    "dtype = readable_df.dtypes\n",
    "num_features = dtype[dtype == 'int64'].index\n",
    "cat_features = dtype[dtype == 'object'].index"
   ]
  },
  {
   "cell_type": "markdown",
   "id": "93027f9d",
   "metadata": {},
   "source": [
    "### Univariate statistics for numerical features"
   ]
  },
  {
   "cell_type": "code",
   "execution_count": 8,
   "id": "794a609b",
   "metadata": {},
   "outputs": [
    {
     "data": {
      "text/html": [
       "<div>\n",
       "<style scoped>\n",
       "    .dataframe tbody tr th:only-of-type {\n",
       "        vertical-align: middle;\n",
       "    }\n",
       "\n",
       "    .dataframe tbody tr th {\n",
       "        vertical-align: top;\n",
       "    }\n",
       "\n",
       "    .dataframe thead th {\n",
       "        text-align: right;\n",
       "    }\n",
       "</style>\n",
       "<table border=\"1\" class=\"dataframe\">\n",
       "  <thead>\n",
       "    <tr style=\"text-align: right;\">\n",
       "      <th></th>\n",
       "      <th>duration in month</th>\n",
       "      <th>credit amount</th>\n",
       "      <th>relationship : age</th>\n",
       "      <th>existing credits</th>\n",
       "    </tr>\n",
       "  </thead>\n",
       "  <tbody>\n",
       "    <tr>\n",
       "      <th>count</th>\n",
       "      <td>1000.000000</td>\n",
       "      <td>1000.00000</td>\n",
       "      <td>1000.00000</td>\n",
       "      <td>1000.000000</td>\n",
       "    </tr>\n",
       "    <tr>\n",
       "      <th>mean</th>\n",
       "      <td>20.903000</td>\n",
       "      <td>3271.24800</td>\n",
       "      <td>35.54200</td>\n",
       "      <td>1.407000</td>\n",
       "    </tr>\n",
       "    <tr>\n",
       "      <th>std</th>\n",
       "      <td>12.058814</td>\n",
       "      <td>2822.75176</td>\n",
       "      <td>11.35267</td>\n",
       "      <td>0.577654</td>\n",
       "    </tr>\n",
       "    <tr>\n",
       "      <th>min</th>\n",
       "      <td>4.000000</td>\n",
       "      <td>250.00000</td>\n",
       "      <td>19.00000</td>\n",
       "      <td>1.000000</td>\n",
       "    </tr>\n",
       "    <tr>\n",
       "      <th>25%</th>\n",
       "      <td>12.000000</td>\n",
       "      <td>1365.50000</td>\n",
       "      <td>27.00000</td>\n",
       "      <td>1.000000</td>\n",
       "    </tr>\n",
       "    <tr>\n",
       "      <th>50%</th>\n",
       "      <td>18.000000</td>\n",
       "      <td>2319.50000</td>\n",
       "      <td>33.00000</td>\n",
       "      <td>1.000000</td>\n",
       "    </tr>\n",
       "    <tr>\n",
       "      <th>75%</th>\n",
       "      <td>24.000000</td>\n",
       "      <td>3972.25000</td>\n",
       "      <td>42.00000</td>\n",
       "      <td>2.000000</td>\n",
       "    </tr>\n",
       "    <tr>\n",
       "      <th>max</th>\n",
       "      <td>72.000000</td>\n",
       "      <td>18424.00000</td>\n",
       "      <td>75.00000</td>\n",
       "      <td>4.000000</td>\n",
       "    </tr>\n",
       "  </tbody>\n",
       "</table>\n",
       "</div>"
      ],
      "text/plain": [
       "       duration in month  credit amount  relationship : age  existing credits\n",
       "count        1000.000000     1000.00000          1000.00000       1000.000000\n",
       "mean           20.903000     3271.24800            35.54200          1.407000\n",
       "std            12.058814     2822.75176            11.35267          0.577654\n",
       "min             4.000000      250.00000            19.00000          1.000000\n",
       "25%            12.000000     1365.50000            27.00000          1.000000\n",
       "50%            18.000000     2319.50000            33.00000          1.000000\n",
       "75%            24.000000     3972.25000            42.00000          2.000000\n",
       "max            72.000000    18424.00000            75.00000          4.000000"
      ]
     },
     "execution_count": 8,
     "metadata": {},
     "output_type": "execute_result"
    }
   ],
   "source": [
    "readable_df[num_features].describe()"
   ]
  },
  {
   "cell_type": "code",
   "execution_count": 9,
   "id": "9ebb023b",
   "metadata": {},
   "outputs": [
    {
     "data": {
      "text/plain": [
       "array([[<AxesSubplot:title={'center':'duration in month'}>,\n",
       "        <AxesSubplot:title={'center':'credit amount'}>],\n",
       "       [<AxesSubplot:title={'center':'relationship : age'}>,\n",
       "        <AxesSubplot:title={'center':'existing credits'}>]], dtype=object)"
      ]
     },
     "execution_count": 9,
     "metadata": {},
     "output_type": "execute_result"
    },
    {
     "data": {
      "image/png": "[encoded data removed]",
      "text/plain": [
       "<Figure size 720x720 with 4 Axes>"
      ]
     },
     "metadata": {
      "needs_background": "light"
     },
     "output_type": "display_data"
    }
   ],
   "source": [
    "readable_df.hist(column=num_cols, figsize=[10,10])"
   ]
  },
  {
   "cell_type": "markdown",
   "id": "960c5114",
   "metadata": {},
   "source": [
    "### Plot numerical features as boxplots"
   ]
  },
  {
   "cell_type": "code",
   "execution_count": 10,
   "id": "96c6effd",
   "metadata": {},
   "outputs": [
    {
     "data": {
      "text/plain": [
       "<AxesSubplot:>"
      ]
     },
     "execution_count": 10,
     "metadata": {},
     "output_type": "execute_result"
    },
    {
     "data": {
      "image/png": "[encoded data removed]",
      "text/plain": [
       "<Figure size 720x720 with 1 Axes>"
      ]
     },
     "metadata": {
      "needs_background": "light"
     },
     "output_type": "display_data"
    }
   ],
   "source": [
    "readable_df.boxplot(column=num_cols, rot=45, figsize=[10,10])"
   ]
  },
  {
   "cell_type": "markdown",
   "id": "771e2935",
   "metadata": {},
   "source": [
    "### Association Matrix"
   ]
  },
  {
   "cell_type": "code",
   "execution_count": 11,
   "id": "bfa4ee41",
   "metadata": {},
   "outputs": [
    {
     "data": {
      "image/png": "[encoded data removed]",
      "text/plain": [
       "<Figure size 1152x720 with 2 Axes>"
      ]
     },
     "metadata": {
      "needs_background": "light"
     },
     "output_type": "display_data"
    }
   ],
   "source": [
    "assoc_matrix = associations(dataset = readable_df, nom_nom_assoc = \"cramer\", figsize = (16,10))"
   ]
  },
  {
   "cell_type": "markdown",
   "id": "19b21887",
   "metadata": {},
   "source": [
    "### Absolute Associations of features with the class attribute in ascending order"
   ]
  },
  {
   "cell_type": "code",
   "execution_count": 12,
   "id": "a202138f",
   "metadata": {},
   "outputs": [
    {
     "data": {
      "text/plain": [
       "<matplotlib.collections.PathCollection at 0x27273c74820>"
      ]
     },
     "execution_count": 12,
     "metadata": {},
     "output_type": "execute_result"
    },
    {
     "data": {
      "image/png": "[encoded data removed]",
      "text/plain": [
       "<Figure size 360x720 with 1 Axes>"
      ]
     },
     "metadata": {
      "needs_background": "light"
     },
     "output_type": "display_data"
    }
   ],
   "source": [
    "associations, _ = cluster_correlations(assoc_matrix[\"corr\"])\n",
    "corr = abs (round(associations[\"goodness\"], 2) ).sort_values()\n",
    "plt.figure(figsize=(5, 10))\n",
    "plt.scatter(x = corr.values, y = corr.index)"
   ]
  },
  {
   "cell_type": "code",
   "execution_count": 13,
   "id": "2a80d72d",
   "metadata": {},
   "outputs": [
    {
     "data": {
      "text/plain": [
       "job                                  0.00\n",
       "people to provide maintenance for    0.00\n",
       "residence since                      0.00\n",
       "telephone                            0.01\n",
       "installment rate                     0.05\n",
       "existing credits                     0.05\n",
       "other debtors / guarantors           0.07\n",
       "foreign worker                       0.07\n",
       "status : sex                         0.08\n",
       "relationship : age                   0.09\n",
       "other installment plans              0.10\n",
       "employment since..                   0.12\n",
       "housing                              0.13\n",
       "property                             0.14\n",
       "credit amount                        0.15\n",
       "credit purpose                       0.16\n",
       "savings account                      0.18\n",
       "duration in month                    0.21\n",
       "credit history                       0.24\n",
       "checking account                     0.35\n",
       "goodness                             1.00\n",
       "Name: goodness, dtype: float64"
      ]
     },
     "execution_count": 13,
     "metadata": {},
     "output_type": "execute_result"
    }
   ],
   "source": [
    "corr"
   ]
  },
  {
   "cell_type": "markdown",
   "id": "2400db22",
   "metadata": {},
   "source": [
    "## Classification - Random Forest"
   ]
  },
  {
   "cell_type": "markdown",
   "id": "90bedfd9",
   "metadata": {},
   "source": [
    "### Data Preparation Step"
   ]
  },
  {
   "cell_type": "markdown",
   "id": "10b732fb",
   "metadata": {},
   "source": [
    "Firstly, we don't want the sex (protected attribute):"
   ]
  },
  {
   "cell_type": "code",
   "execution_count": 14,
   "id": "6ce11c33",
   "metadata": {
    "scrolled": true
   },
   "outputs": [],
   "source": [
    "df = df.drop(columns=['status : sex'])"
   ]
  },
  {
   "cell_type": "code",
   "execution_count": 15,
   "id": "d200b994",
   "metadata": {},
   "outputs": [
    {
     "data": {
      "text/html": [
       "<div>\n",
       "<style scoped>\n",
       "    .dataframe tbody tr th:only-of-type {\n",
       "        vertical-align: middle;\n",
       "    }\n",
       "\n",
       "    .dataframe tbody tr th {\n",
       "        vertical-align: top;\n",
       "    }\n",
       "\n",
       "    .dataframe thead th {\n",
       "        text-align: right;\n",
       "    }\n",
       "</style>\n",
       "<table border=\"1\" class=\"dataframe\">\n",
       "  <thead>\n",
       "    <tr style=\"text-align: right;\">\n",
       "      <th></th>\n",
       "      <th>checking account</th>\n",
       "      <th>duration in month</th>\n",
       "      <th>credit history</th>\n",
       "      <th>credit purpose</th>\n",
       "      <th>credit amount</th>\n",
       "      <th>savings account</th>\n",
       "      <th>employment since..</th>\n",
       "      <th>installment rate</th>\n",
       "      <th>other debtors / guarantors</th>\n",
       "      <th>residence since</th>\n",
       "      <th>property</th>\n",
       "      <th>relationship : age</th>\n",
       "      <th>other installment plans</th>\n",
       "      <th>housing</th>\n",
       "      <th>existing credits</th>\n",
       "      <th>job</th>\n",
       "      <th>people to provide maintenance for</th>\n",
       "      <th>telephone</th>\n",
       "      <th>foreign worker</th>\n",
       "    </tr>\n",
       "  </thead>\n",
       "  <tbody>\n",
       "    <tr>\n",
       "      <th>0</th>\n",
       "      <td>2</td>\n",
       "      <td>30</td>\n",
       "      <td>2</td>\n",
       "      <td>3</td>\n",
       "      <td>2991</td>\n",
       "      <td>5</td>\n",
       "      <td>5</td>\n",
       "      <td>2</td>\n",
       "      <td>1</td>\n",
       "      <td>4</td>\n",
       "      <td>3</td>\n",
       "      <td>25</td>\n",
       "      <td>3</td>\n",
       "      <td>2</td>\n",
       "      <td>1</td>\n",
       "      <td>3</td>\n",
       "      <td>2</td>\n",
       "      <td>1</td>\n",
       "      <td>2</td>\n",
       "    </tr>\n",
       "    <tr>\n",
       "      <th>1</th>\n",
       "      <td>4</td>\n",
       "      <td>10</td>\n",
       "      <td>2</td>\n",
       "      <td>3</td>\n",
       "      <td>1924</td>\n",
       "      <td>1</td>\n",
       "      <td>3</td>\n",
       "      <td>1</td>\n",
       "      <td>1</td>\n",
       "      <td>4</td>\n",
       "      <td>2</td>\n",
       "      <td>38</td>\n",
       "      <td>3</td>\n",
       "      <td>2</td>\n",
       "      <td>1</td>\n",
       "      <td>3</td>\n",
       "      <td>2</td>\n",
       "      <td>2</td>\n",
       "      <td>1</td>\n",
       "    </tr>\n",
       "    <tr>\n",
       "      <th>2</th>\n",
       "      <td>2</td>\n",
       "      <td>30</td>\n",
       "      <td>0</td>\n",
       "      <td>9</td>\n",
       "      <td>4280</td>\n",
       "      <td>2</td>\n",
       "      <td>3</td>\n",
       "      <td>4</td>\n",
       "      <td>1</td>\n",
       "      <td>4</td>\n",
       "      <td>3</td>\n",
       "      <td>26</td>\n",
       "      <td>3</td>\n",
       "      <td>1</td>\n",
       "      <td>2</td>\n",
       "      <td>2</td>\n",
       "      <td>2</td>\n",
       "      <td>1</td>\n",
       "      <td>2</td>\n",
       "    </tr>\n",
       "    <tr>\n",
       "      <th>3</th>\n",
       "      <td>1</td>\n",
       "      <td>48</td>\n",
       "      <td>4</td>\n",
       "      <td>1</td>\n",
       "      <td>6143</td>\n",
       "      <td>1</td>\n",
       "      <td>5</td>\n",
       "      <td>4</td>\n",
       "      <td>1</td>\n",
       "      <td>4</td>\n",
       "      <td>4</td>\n",
       "      <td>58</td>\n",
       "      <td>2</td>\n",
       "      <td>3</td>\n",
       "      <td>2</td>\n",
       "      <td>2</td>\n",
       "      <td>2</td>\n",
       "      <td>1</td>\n",
       "      <td>2</td>\n",
       "    </tr>\n",
       "    <tr>\n",
       "      <th>4</th>\n",
       "      <td>2</td>\n",
       "      <td>15</td>\n",
       "      <td>1</td>\n",
       "      <td>0</td>\n",
       "      <td>1264</td>\n",
       "      <td>2</td>\n",
       "      <td>3</td>\n",
       "      <td>2</td>\n",
       "      <td>1</td>\n",
       "      <td>2</td>\n",
       "      <td>2</td>\n",
       "      <td>25</td>\n",
       "      <td>3</td>\n",
       "      <td>1</td>\n",
       "      <td>1</td>\n",
       "      <td>3</td>\n",
       "      <td>2</td>\n",
       "      <td>1</td>\n",
       "      <td>2</td>\n",
       "    </tr>\n",
       "    <tr>\n",
       "      <th>5</th>\n",
       "      <td>4</td>\n",
       "      <td>12</td>\n",
       "      <td>2</td>\n",
       "      <td>1</td>\n",
       "      <td>2445</td>\n",
       "      <td>5</td>\n",
       "      <td>2</td>\n",
       "      <td>2</td>\n",
       "      <td>1</td>\n",
       "      <td>4</td>\n",
       "      <td>3</td>\n",
       "      <td>26</td>\n",
       "      <td>3</td>\n",
       "      <td>1</td>\n",
       "      <td>1</td>\n",
       "      <td>3</td>\n",
       "      <td>2</td>\n",
       "      <td>2</td>\n",
       "      <td>2</td>\n",
       "    </tr>\n",
       "    <tr>\n",
       "      <th>6</th>\n",
       "      <td>4</td>\n",
       "      <td>36</td>\n",
       "      <td>2</td>\n",
       "      <td>3</td>\n",
       "      <td>3835</td>\n",
       "      <td>5</td>\n",
       "      <td>5</td>\n",
       "      <td>2</td>\n",
       "      <td>1</td>\n",
       "      <td>4</td>\n",
       "      <td>1</td>\n",
       "      <td>45</td>\n",
       "      <td>3</td>\n",
       "      <td>2</td>\n",
       "      <td>1</td>\n",
       "      <td>2</td>\n",
       "      <td>2</td>\n",
       "      <td>2</td>\n",
       "      <td>2</td>\n",
       "    </tr>\n",
       "    <tr>\n",
       "      <th>7</th>\n",
       "      <td>4</td>\n",
       "      <td>12</td>\n",
       "      <td>4</td>\n",
       "      <td>6</td>\n",
       "      <td>3565</td>\n",
       "      <td>5</td>\n",
       "      <td>2</td>\n",
       "      <td>2</td>\n",
       "      <td>1</td>\n",
       "      <td>1</td>\n",
       "      <td>2</td>\n",
       "      <td>37</td>\n",
       "      <td>3</td>\n",
       "      <td>2</td>\n",
       "      <td>2</td>\n",
       "      <td>2</td>\n",
       "      <td>1</td>\n",
       "      <td>1</td>\n",
       "      <td>2</td>\n",
       "    </tr>\n",
       "    <tr>\n",
       "      <th>8</th>\n",
       "      <td>4</td>\n",
       "      <td>24</td>\n",
       "      <td>2</td>\n",
       "      <td>3</td>\n",
       "      <td>5943</td>\n",
       "      <td>5</td>\n",
       "      <td>2</td>\n",
       "      <td>1</td>\n",
       "      <td>1</td>\n",
       "      <td>1</td>\n",
       "      <td>3</td>\n",
       "      <td>44</td>\n",
       "      <td>3</td>\n",
       "      <td>2</td>\n",
       "      <td>2</td>\n",
       "      <td>3</td>\n",
       "      <td>2</td>\n",
       "      <td>2</td>\n",
       "      <td>2</td>\n",
       "    </tr>\n",
       "    <tr>\n",
       "      <th>9</th>\n",
       "      <td>2</td>\n",
       "      <td>24</td>\n",
       "      <td>2</td>\n",
       "      <td>1</td>\n",
       "      <td>12579</td>\n",
       "      <td>1</td>\n",
       "      <td>5</td>\n",
       "      <td>4</td>\n",
       "      <td>1</td>\n",
       "      <td>2</td>\n",
       "      <td>4</td>\n",
       "      <td>44</td>\n",
       "      <td>3</td>\n",
       "      <td>3</td>\n",
       "      <td>1</td>\n",
       "      <td>4</td>\n",
       "      <td>2</td>\n",
       "      <td>2</td>\n",
       "      <td>2</td>\n",
       "    </tr>\n",
       "  </tbody>\n",
       "</table>\n",
       "</div>"
      ],
      "text/plain": [
       "  checking account duration in month credit history credit purpose  \\\n",
       "0                2                30              2              3   \n",
       "1                4                10              2              3   \n",
       "2                2                30              0              9   \n",
       "3                1                48              4              1   \n",
       "4                2                15              1              0   \n",
       "5                4                12              2              1   \n",
       "6                4                36              2              3   \n",
       "7                4                12              4              6   \n",
       "8                4                24              2              3   \n",
       "9                2                24              2              1   \n",
       "\n",
       "  credit amount savings account employment since.. installment rate  \\\n",
       "0          2991               5                  5                2   \n",
       "1          1924               1                  3                1   \n",
       "2          4280               2                  3                4   \n",
       "3          6143               1                  5                4   \n",
       "4          1264               2                  3                2   \n",
       "5          2445               5                  2                2   \n",
       "6          3835               5                  5                2   \n",
       "7          3565               5                  2                2   \n",
       "8          5943               5                  2                1   \n",
       "9         12579               1                  5                4   \n",
       "\n",
       "  other debtors / guarantors residence since property relationship : age  \\\n",
       "0                          1               4        3                 25   \n",
       "1                          1               4        2                 38   \n",
       "2                          1               4        3                 26   \n",
       "3                          1               4        4                 58   \n",
       "4                          1               2        2                 25   \n",
       "5                          1               4        3                 26   \n",
       "6                          1               4        1                 45   \n",
       "7                          1               1        2                 37   \n",
       "8                          1               1        3                 44   \n",
       "9                          1               2        4                 44   \n",
       "\n",
       "  other installment plans housing existing credits job  \\\n",
       "0                       3       2                1   3   \n",
       "1                       3       2                1   3   \n",
       "2                       3       1                2   2   \n",
       "3                       2       3                2   2   \n",
       "4                       3       1                1   3   \n",
       "5                       3       1                1   3   \n",
       "6                       3       2                1   2   \n",
       "7                       3       2                2   2   \n",
       "8                       3       2                2   3   \n",
       "9                       3       3                1   4   \n",
       "\n",
       "  people to provide maintenance for telephone foreign worker  \n",
       "0                                 2         1              2  \n",
       "1                                 2         2              1  \n",
       "2                                 2         1              2  \n",
       "3                                 2         1              2  \n",
       "4                                 2         1              2  \n",
       "5                                 2         2              2  \n",
       "6                                 2         2              2  \n",
       "7                                 1         1              2  \n",
       "8                                 2         2              2  \n",
       "9                                 2         2              2  "
      ]
     },
     "execution_count": 15,
     "metadata": {},
     "output_type": "execute_result"
    }
   ],
   "source": [
    "# Note: the data needs to be shuffled, because all the 'good'\n",
    "# scores are at the beginning\n",
    "df = df.sample(frac=1).reset_index(drop=True)\n",
    "n = len(df)\n",
    "\n",
    "# Make some training and test data:\n",
    "train_df = df.head(n = int(n*0.8))\n",
    "test_df = df.tail(n = int(n*0.2))\n",
    "\n",
    "X_train = train_df.drop(columns=['goodness'])\n",
    "y_train = train_df['goodness']\n",
    "\n",
    "X_test = test_df.drop(columns=['goodness'])\n",
    "y_test = test_df['goodness']\n",
    "\n",
    "X_train.head(n = 10)"
   ]
  },
  {
   "cell_type": "markdown",
   "id": "432b1f3c",
   "metadata": {},
   "source": [
    "### Build Model"
   ]
  },
  {
   "cell_type": "code",
   "execution_count": 16,
   "id": "2a83282a",
   "metadata": {
    "scrolled": true
   },
   "outputs": [
    {
     "name": "stdout",
     "output_type": "stream",
     "text": [
      "prediction:  ['1' '1' '1' '1' '0']\n",
      "real: \n",
      "800    1\n",
      "801    1\n",
      "802    0\n",
      "803    1\n",
      "804    0\n",
      "Name: goodness, dtype: object\n"
     ]
    }
   ],
   "source": [
    "clf = RandomForestClassifier()\n",
    "clf.fit(X_train, y_train)\n",
    "print('prediction: ', clf.predict(X_test.head(n = 5)))\n",
    "\n",
    "print('real: ', y_test.head(n = 5), sep='\\n')"
   ]
  },
  {
   "cell_type": "markdown",
   "id": "06d04599",
   "metadata": {},
   "source": [
    "### test accuracy of model"
   ]
  },
  {
   "cell_type": "code",
   "execution_count": 17,
   "id": "195ac59e",
   "metadata": {},
   "outputs": [
    {
     "data": {
      "text/plain": [
       "0.745"
      ]
     },
     "execution_count": 17,
     "metadata": {},
     "output_type": "execute_result"
    }
   ],
   "source": [
    "from sklearn.metrics import accuracy_score\n",
    "\n",
    "y_pred = clf.predict(X_test)\n",
    "\n",
    "accuracy_score(y_test, y_pred)"
   ]
  },
  {
   "cell_type": "code",
   "execution_count": 18,
   "id": "910be71b",
   "metadata": {},
   "outputs": [
    {
     "data": {
      "text/plain": [
       "0.76"
      ]
     },
     "execution_count": 18,
     "metadata": {},
     "output_type": "execute_result"
    }
   ],
   "source": [
    "# ~73% accuracy is not fantastic. What to do?\n",
    "# Let's try bootstrapping some trees :)\n",
    "\n",
    "from sklearn.ensemble import BaggingClassifier\n",
    "from sklearn.tree import DecisionTreeClassifier\n",
    "\n",
    "bag_clf = BaggingClassifier(\n",
    "    DecisionTreeClassifier(),\n",
    "    n_estimators=500,\n",
    "    max_samples=100,\n",
    "    bootstrap=True,\n",
    "    n_jobs=-1\n",
    ")\n",
    "\n",
    "bag_clf.fit(X_train, y_train)\n",
    "y_pred = bag_clf.predict(X_test)\n",
    "\n",
    "accuracy_score(y_test, y_pred)"
   ]
  },
  {
   "cell_type": "code",
   "execution_count": null,
   "id": "ee78f0f7",
   "metadata": {},
   "outputs": [],
   "source": [
    "confusion_matrix(y_test, y_pred)"
   ]
  },
  {
   "cell_type": "code",
   "execution_count": 19,
   "id": "60ba074d",
   "metadata": {},
   "outputs": [
    {
     "data": {
      "text/plain": [
       "0.725"
      ]
     },
     "execution_count": 19,
     "metadata": {},
     "output_type": "execute_result"
    }
   ],
   "source": [
    "# Hmm ~75% is not bad, but also not great.\n",
    "# How do we improve without going into overfitting territory?\n",
    "# Let's try the simplest 'Neural network': Logistic regression\n",
    "\n",
    "from sklearn.linear_model import LogisticRegression\n",
    "log_reg = LogisticRegression(max_iter=500)\n",
    "log_reg.fit(X_train, y_train)\n",
    "y_pred = log_reg.predict(X_test)\n",
    "\n",
    "accuracy_score(y_test, y_pred)"
   ]
  },
  {
   "cell_type": "code",
   "execution_count": null,
   "id": "b49d857c",
   "metadata": {},
   "outputs": [],
   "source": [
    "confusion_matrix(y_test, y_pred)"
   ]
  },
  {
   "cell_type": "code",
   "execution_count": 25,
   "id": "dab8e178",
   "metadata": {
    "pycharm": {
     "name": "#%%\n"
    }
   },
   "outputs": [],
   "source": [
    "# we are nearing ~80% accuracy\n",
    "# let's try a svm\n",
    "\n",
    "from sklearn.svm import SVC\n",
    "\n",
    "from sklearn.pipeline import make_pipeline\n",
    "from sklearn.preprocessing import StandardScaler\n",
    "\n",
    "from sklearn.svm import SVC\n",
    "clf = make_pipeline(StandardScaler(),\n",
    "        SVC(kernel='rbf', gamma=0.01, C=10))\n",
    "clf.fit(X_train, y_train)\n",
    "\n",
    "y_pred = clf.predict(X_test)"
   ]
  },
  {
   "cell_type": "code",
   "execution_count": 21,
   "id": "62beea60",
   "metadata": {},
   "outputs": [
    {
     "data": {
      "text/plain": [
       "0.73"
      ]
     },
     "execution_count": 21,
     "metadata": {},
     "output_type": "execute_result"
    }
   ],
   "source": [
    "accuracy_score(y_test, y_pred)"
   ]
  },
  {
   "cell_type": "markdown",
   "id": "97b377b8",
   "metadata": {
    "pycharm": {
     "name": "#%% md\n"
    }
   },
   "source": [
    "Wait, this averages out to less than the LogisticRegressions -> Maybe it is time to stop, and instead focus on the other tasks."
   ]
  },
  {
   "cell_type": "code",
   "execution_count": 24,
   "id": "63085e11",
   "metadata": {
    "scrolled": true
   },
   "outputs": [
    {
     "ename": "NameError",
     "evalue": "name 'confusion_matrix' is not defined",
     "output_type": "error",
     "traceback": [
      "\u001b[1;31m---------------------------------------------------------------------------\u001b[0m",
      "\u001b[1;31mNameError\u001b[0m                                 Traceback (most recent call last)",
      "Input \u001b[1;32mIn [24]\u001b[0m, in \u001b[0;36m<cell line: 1>\u001b[1;34m()\u001b[0m\n\u001b[1;32m----> 1\u001b[0m \u001b[43mconfusion_matrix\u001b[49m(y_test, y_pred)\n",
      "\u001b[1;31mNameError\u001b[0m: name 'confusion_matrix' is not defined"
     ]
    }
   ],
   "source": [
    "confusion_matrix(y_test, y_pred)"
   ]
  },
  {
   "cell_type": "markdown",
   "id": "cd159130",
   "metadata": {},
   "source": [
    "### Discussion"
   ]
  },
  {
   "cell_type": "markdown",
   "id": "49f45ebb",
   "metadata": {},
   "source": [
    "Several Points where subject of discussion within our Group:\n",
    "* Which fields should be included, and which should not? Should there be some form of correction based on unfair results? -> We decided to not use sex, and did not have the time to deeply look into the data to look for potential unfair biases based on gender, age or immigration status.\n",
    "* Should we use a random seed or set seed? A set seed  obviously increases Reproducability, however you could then optimize the seed for maximum accuracy, which falsifies the results.\n",
    "* "
   ]
  },
  {
   "cell_type": "markdown",
   "id": "a8311c9f",
   "metadata": {
    "pycharm": {
     "name": "#%% md\n"
    }
   },
   "source": [
    "# Reproducing Results"
   ]
  },
  {
   "cell_type": "code",
   "execution_count": null,
   "id": "39b87d48",
   "metadata": {
    "pycharm": {
     "name": "#%%\n"
    }
   },
   "outputs": [],
   "source": [
    "# Read in data form A2\n",
    "df_german = pd.read_csv('df_german.csv')\n",
    "df_german = df_german.drop([\"Unnamed: 0\"], axis=1)\n",
    "df_german"
   ]
  },
  {
   "cell_type": "code",
   "execution_count": null,
   "id": "b600e1e7",
   "metadata": {
    "pycharm": {
     "name": "#%%\n"
    }
   },
   "outputs": [],
   "source": [
    "# One hot encoding for binary attributes\n",
    "df_german = df_german.replace({'telephone': {'no': 0, 'yes': 1}})\n",
    "df_german = df_german.replace({'foreign_worker': {'no': 0, 'yes': 1}})\n",
    "df_german = df_german.replace({'customer_goodness': {'no': 0, 'yes': 1}})"
   ]
  },
  {
   "cell_type": "code",
   "execution_count": null,
   "id": "4fa45935",
   "metadata": {
    "pycharm": {
     "name": "#%%\n"
    }
   },
   "outputs": [],
   "source": [
    "# Separate features from target class\n",
    "X = df_german.drop('customer_goodness', axis = 1)\n",
    "y = df_german.customer_goodness"
   ]
  },
  {
   "cell_type": "code",
   "execution_count": null,
   "id": "688d3ac8",
   "metadata": {
    "pycharm": {
     "name": "#%%\n"
    }
   },
   "outputs": [],
   "source": [
    "# One hot encoding for nominal features\n",
    "dtype = X.dtypes\n",
    "cat_features = dtype[dtype == 'object'].index\n",
    "\n",
    "X = pd.get_dummies(X, columns= cat_features)"
   ]
  },
  {
   "cell_type": "code",
   "execution_count": null,
   "id": "6634e79a",
   "metadata": {
    "pycharm": {
     "name": "#%%\n"
    }
   },
   "outputs": [],
   "source": [
    "X"
   ]
  },
  {
   "cell_type": "markdown",
   "id": "873d7533",
   "metadata": {
    "pycharm": {
     "name": "#%%\n"
    }
   },
   "source": [
    "We get 59 instead of 48 attributes!!!\n",
    "\n",
    "Scaling of continuous features not mentioned in the paper, so we don't perform it. We applied the ten-fold cross-validation technique, using 90% of the data for training and the remaining 10% of the data."
   ]
  },
  {
   "cell_type": "code",
   "execution_count": null,
   "id": "e8291b35",
   "metadata": {
    "pycharm": {
     "name": "#%%\n"
    }
   },
   "outputs": [],
   "source": [
    "X_train, X_test, y_train, y_test = train_test_split(\n",
    "    X, y, test_size=0.9, random_state=0)"
   ]
  },
  {
   "cell_type": "markdown",
   "id": "5d83751e",
   "metadata": {},
   "source": [
    "### Training an off-the-shelf logistic regression classifier in Python (Scikit-Learn)"
   ]
  },
  {
   "cell_type": "code",
   "execution_count": null,
   "id": "be2fa205",
   "metadata": {
    "pycharm": {
     "name": "#%%\n"
    }
   },
   "outputs": [],
   "source": [
    "clf = LogisticRegression(random_state=0, max_iter=10000).fit(X_train, y_train)"
   ]
  },
  {
   "cell_type": "markdown",
   "id": "0b6826d8",
   "metadata": {},
   "source": [
    "### Test with testing data (accuracy)"
   ]
  },
  {
   "cell_type": "code",
   "execution_count": null,
   "id": "4d37b3b7",
   "metadata": {
    "pycharm": {
     "name": "#%%\n"
    }
   },
   "outputs": [],
   "source": [
    "clf.score(X_test, y_test)"
   ]
  },
  {
   "cell_type": "code",
   "execution_count": null,
   "id": "2f162b0b",
   "metadata": {
    "pycharm": {
     "name": "#%%\n"
    }
   },
   "outputs": [],
   "source": [
    "print(\n",
    "    \"Coefficients of the attibutes:\\nPersonal status and gender: single male:\", clf.coef_[0, X.columns.get_loc(\"status_and_sex_male_married\")],\n",
    "    \"\\nPersonal status and gender: married male:\", clf.coef_[0, X.columns.get_loc(\"status_and_sex_male_separated\")],\n",
    "    \"\\nPersonal status and gender: married/divorced female:\", clf.coef_[0, X.columns.get_loc(\"status_and_sex_male_single\")],\n",
    "    \"\\nPersonal status and gender: divorced male\", clf.coef_[0, X.columns.get_loc(\"status_and_sex_female_married_separated\")])"
   ]
  },
  {
   "cell_type": "markdown",
   "id": "0d074e37",
   "metadata": {
    "pycharm": {
     "name": "#%%\n"
    }
   },
   "source": [
    "We could not replicate the coefficients - they have very different trends than the ones mentioned in the paper"
   ]
  }
 ],
 "metadata": {
  "interpreter": {
   "hash": "9c4ddaca2407fe4287445ed2a1e4140777f44c2d3148ebadeaf593dc9c736411"
  },
  "kernelspec": {
   "display_name": "Python 3 (ipykernel)",
   "language": "python",
   "name": "python3"
  },
  "language_info": {
   "codemirror_mode": {
    "name": "ipython",
    "version": 3
   },
   "file_extension": ".py",
   "mimetype": "text/x-python",
   "name": "python",
   "nbconvert_exporter": "python",
   "pygments_lexer": "ipython3",
   "version": "3.10.4"
  }
 },
 "nbformat": 4,
 "nbformat_minor": 5
}
