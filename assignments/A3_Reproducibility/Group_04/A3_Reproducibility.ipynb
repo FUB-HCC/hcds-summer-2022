{
 "cells": [
  {
   "cell_type": "markdown",
   "id": "bd451940-36c3-4502-b6fe-cc50ed8ebb2b",
   "metadata": {},
   "source": [
    "## Import"
   ]
  },
  {
   "cell_type": "code",
   "execution_count": 1,
   "id": "ecef08a5-f166-4fdf-a148-3fb33c8f5dbd",
   "metadata": {},
   "outputs": [],
   "source": [
    "import pandas as pd\n",
    "from sklearn.model_selection import train_test_split\n",
    "from sklearn.ensemble import RandomForestClassifier, ExtraTreesClassifier\n",
    "from sklearn.metrics import classification_report"
   ]
  },
  {
   "cell_type": "markdown",
   "id": "b2a11e1d-961a-4cba-88ad-822a0915568c",
   "metadata": {},
   "source": [
    "### Reading Data"
   ]
  },
  {
   "cell_type": "code",
   "execution_count": 2,
   "id": "bdc56afb-75b4-42a4-9f99-d0bc7c1c850a",
   "metadata": {},
   "outputs": [
    {
     "data": {
      "text/html": [
       "<div>\n",
       "<style scoped>\n",
       "    .dataframe tbody tr th:only-of-type {\n",
       "        vertical-align: middle;\n",
       "    }\n",
       "\n",
       "    .dataframe tbody tr th {\n",
       "        vertical-align: top;\n",
       "    }\n",
       "\n",
       "    .dataframe thead th {\n",
       "        text-align: right;\n",
       "    }\n",
       "</style>\n",
       "<table border=\"1\" class=\"dataframe\">\n",
       "  <thead>\n",
       "    <tr style=\"text-align: right;\">\n",
       "      <th></th>\n",
       "      <th>checking account</th>\n",
       "      <th>duration in month</th>\n",
       "      <th>credit history</th>\n",
       "      <th>credit purpose</th>\n",
       "      <th>credit amount</th>\n",
       "      <th>savings account</th>\n",
       "      <th>employment since..</th>\n",
       "      <th>installment rate</th>\n",
       "      <th>status : sex</th>\n",
       "      <th>other debtors / guarantors</th>\n",
       "      <th>...</th>\n",
       "      <th>property</th>\n",
       "      <th>relationship : age</th>\n",
       "      <th>other installment plans</th>\n",
       "      <th>housing</th>\n",
       "      <th>existing credits</th>\n",
       "      <th>job</th>\n",
       "      <th>people to provide maintenance for</th>\n",
       "      <th>telephone</th>\n",
       "      <th>foreign worker</th>\n",
       "      <th>goodness</th>\n",
       "    </tr>\n",
       "  </thead>\n",
       "  <tbody>\n",
       "    <tr>\n",
       "      <th>0</th>\n",
       "      <td>laufkont</td>\n",
       "      <td>laufzeit</td>\n",
       "      <td>moral</td>\n",
       "      <td>verw</td>\n",
       "      <td>hoehe</td>\n",
       "      <td>sparkont</td>\n",
       "      <td>beszeit</td>\n",
       "      <td>rate</td>\n",
       "      <td>famges</td>\n",
       "      <td>buerge</td>\n",
       "      <td>...</td>\n",
       "      <td>verm</td>\n",
       "      <td>alter</td>\n",
       "      <td>weitkred</td>\n",
       "      <td>wohn</td>\n",
       "      <td>bishkred</td>\n",
       "      <td>beruf</td>\n",
       "      <td>pers</td>\n",
       "      <td>telef</td>\n",
       "      <td>gastarb</td>\n",
       "      <td>kredit</td>\n",
       "    </tr>\n",
       "    <tr>\n",
       "      <th>1</th>\n",
       "      <td>1</td>\n",
       "      <td>18</td>\n",
       "      <td>4</td>\n",
       "      <td>2</td>\n",
       "      <td>1049</td>\n",
       "      <td>1</td>\n",
       "      <td>2</td>\n",
       "      <td>4</td>\n",
       "      <td>2</td>\n",
       "      <td>1</td>\n",
       "      <td>...</td>\n",
       "      <td>2</td>\n",
       "      <td>21</td>\n",
       "      <td>3</td>\n",
       "      <td>1</td>\n",
       "      <td>1</td>\n",
       "      <td>3</td>\n",
       "      <td>2</td>\n",
       "      <td>1</td>\n",
       "      <td>2</td>\n",
       "      <td>1</td>\n",
       "    </tr>\n",
       "    <tr>\n",
       "      <th>2</th>\n",
       "      <td>1</td>\n",
       "      <td>9</td>\n",
       "      <td>4</td>\n",
       "      <td>0</td>\n",
       "      <td>2799</td>\n",
       "      <td>1</td>\n",
       "      <td>3</td>\n",
       "      <td>2</td>\n",
       "      <td>3</td>\n",
       "      <td>1</td>\n",
       "      <td>...</td>\n",
       "      <td>1</td>\n",
       "      <td>36</td>\n",
       "      <td>3</td>\n",
       "      <td>1</td>\n",
       "      <td>2</td>\n",
       "      <td>3</td>\n",
       "      <td>1</td>\n",
       "      <td>1</td>\n",
       "      <td>2</td>\n",
       "      <td>1</td>\n",
       "    </tr>\n",
       "    <tr>\n",
       "      <th>3</th>\n",
       "      <td>2</td>\n",
       "      <td>12</td>\n",
       "      <td>2</td>\n",
       "      <td>9</td>\n",
       "      <td>841</td>\n",
       "      <td>2</td>\n",
       "      <td>4</td>\n",
       "      <td>2</td>\n",
       "      <td>2</td>\n",
       "      <td>1</td>\n",
       "      <td>...</td>\n",
       "      <td>1</td>\n",
       "      <td>23</td>\n",
       "      <td>3</td>\n",
       "      <td>1</td>\n",
       "      <td>1</td>\n",
       "      <td>2</td>\n",
       "      <td>2</td>\n",
       "      <td>1</td>\n",
       "      <td>2</td>\n",
       "      <td>1</td>\n",
       "    </tr>\n",
       "    <tr>\n",
       "      <th>4</th>\n",
       "      <td>1</td>\n",
       "      <td>12</td>\n",
       "      <td>4</td>\n",
       "      <td>0</td>\n",
       "      <td>2122</td>\n",
       "      <td>1</td>\n",
       "      <td>3</td>\n",
       "      <td>3</td>\n",
       "      <td>3</td>\n",
       "      <td>1</td>\n",
       "      <td>...</td>\n",
       "      <td>1</td>\n",
       "      <td>39</td>\n",
       "      <td>3</td>\n",
       "      <td>1</td>\n",
       "      <td>2</td>\n",
       "      <td>2</td>\n",
       "      <td>1</td>\n",
       "      <td>1</td>\n",
       "      <td>1</td>\n",
       "      <td>1</td>\n",
       "    </tr>\n",
       "  </tbody>\n",
       "</table>\n",
       "<p>5 rows × 21 columns</p>\n",
       "</div>"
      ],
      "text/plain": [
       "  checking account duration in month credit history credit purpose  \\\n",
       "0         laufkont          laufzeit          moral           verw   \n",
       "1                1                18              4              2   \n",
       "2                1                 9              4              0   \n",
       "3                2                12              2              9   \n",
       "4                1                12              4              0   \n",
       "\n",
       "  credit amount savings account employment since.. installment rate  \\\n",
       "0         hoehe        sparkont            beszeit             rate   \n",
       "1          1049               1                  2                4   \n",
       "2          2799               1                  3                2   \n",
       "3           841               2                  4                2   \n",
       "4          2122               1                  3                3   \n",
       "\n",
       "  status : sex other debtors / guarantors  ... property relationship : age  \\\n",
       "0       famges                     buerge  ...     verm              alter   \n",
       "1            2                          1  ...        2                 21   \n",
       "2            3                          1  ...        1                 36   \n",
       "3            2                          1  ...        1                 23   \n",
       "4            3                          1  ...        1                 39   \n",
       "\n",
       "  other installment plans housing existing credits    job  \\\n",
       "0                weitkred    wohn         bishkred  beruf   \n",
       "1                       3       1                1      3   \n",
       "2                       3       1                2      3   \n",
       "3                       3       1                1      2   \n",
       "4                       3       1                2      2   \n",
       "\n",
       "  people to provide maintenance for telephone foreign worker goodness  \n",
       "0                              pers     telef        gastarb   kredit  \n",
       "1                                 2         1              2        1  \n",
       "2                                 1         1              2        1  \n",
       "3                                 2         1              2        1  \n",
       "4                                 1         1              1        1  \n",
       "\n",
       "[5 rows x 21 columns]"
      ]
     },
     "execution_count": 2,
     "metadata": {},
     "output_type": "execute_result"
    }
   ],
   "source": [
    "data = 'data/south_german_credit_data_preprocessed.csv'\n",
    "df = pd.read_csv(data)\n",
    "df.head()"
   ]
  },
  {
   "cell_type": "markdown",
   "id": "f2e48de8-3e2d-4579-9ab1-f5507ec83d80",
   "metadata": {},
   "source": [
    "## EDA"
   ]
  },
  {
   "cell_type": "code",
   "execution_count": 3,
   "id": "f390149a-7b8f-46ce-948c-c63d585d633f",
   "metadata": {},
   "outputs": [
    {
     "name": "stdout",
     "output_type": "stream",
     "text": [
      "<class 'pandas.core.frame.DataFrame'>\n",
      "RangeIndex: 1001 entries, 0 to 1000\n",
      "Data columns (total 21 columns):\n",
      " #   Column                             Non-Null Count  Dtype \n",
      "---  ------                             --------------  ----- \n",
      " 0   checking account                   1001 non-null   object\n",
      " 1   duration in month                  1001 non-null   object\n",
      " 2   credit history                     1001 non-null   object\n",
      " 3   credit purpose                     1001 non-null   object\n",
      " 4   credit amount                      1001 non-null   object\n",
      " 5   savings account                    1001 non-null   object\n",
      " 6   employment since..                 1001 non-null   object\n",
      " 7   installment rate                   1001 non-null   object\n",
      " 8   status : sex                       1001 non-null   object\n",
      " 9   other debtors / guarantors         1001 non-null   object\n",
      " 10  residence since                    1001 non-null   object\n",
      " 11  property                           1001 non-null   object\n",
      " 12  relationship : age                 1001 non-null   object\n",
      " 13  other installment plans            1001 non-null   object\n",
      " 14  housing                            1001 non-null   object\n",
      " 15  existing credits                   1001 non-null   object\n",
      " 16  job                                1001 non-null   object\n",
      " 17  people to provide maintenance for  1001 non-null   object\n",
      " 18  telephone                          1001 non-null   object\n",
      " 19  foreign worker                     1001 non-null   object\n",
      " 20  goodness                           1001 non-null   object\n",
      "dtypes: object(21)\n",
      "memory usage: 164.4+ KB\n"
     ]
    }
   ],
   "source": [
    "df.info()"
   ]
  },
  {
   "cell_type": "code",
   "execution_count": 4,
   "id": "1da359a8-cb5b-45f0-b148-01cd3d304d2b",
   "metadata": {},
   "outputs": [
    {
     "data": {
      "text/html": [
       "<div>\n",
       "<style scoped>\n",
       "    .dataframe tbody tr th:only-of-type {\n",
       "        vertical-align: middle;\n",
       "    }\n",
       "\n",
       "    .dataframe tbody tr th {\n",
       "        vertical-align: top;\n",
       "    }\n",
       "\n",
       "    .dataframe thead th {\n",
       "        text-align: right;\n",
       "    }\n",
       "</style>\n",
       "<table border=\"1\" class=\"dataframe\">\n",
       "  <thead>\n",
       "    <tr style=\"text-align: right;\">\n",
       "      <th></th>\n",
       "      <th>checking account</th>\n",
       "      <th>duration in month</th>\n",
       "      <th>credit history</th>\n",
       "      <th>credit purpose</th>\n",
       "      <th>credit amount</th>\n",
       "      <th>savings account</th>\n",
       "      <th>employment since..</th>\n",
       "      <th>installment rate</th>\n",
       "      <th>status : sex</th>\n",
       "      <th>other debtors / guarantors</th>\n",
       "      <th>...</th>\n",
       "      <th>property</th>\n",
       "      <th>relationship : age</th>\n",
       "      <th>other installment plans</th>\n",
       "      <th>housing</th>\n",
       "      <th>existing credits</th>\n",
       "      <th>job</th>\n",
       "      <th>people to provide maintenance for</th>\n",
       "      <th>telephone</th>\n",
       "      <th>foreign worker</th>\n",
       "      <th>goodness</th>\n",
       "    </tr>\n",
       "  </thead>\n",
       "  <tbody>\n",
       "    <tr>\n",
       "      <th>count</th>\n",
       "      <td>1001</td>\n",
       "      <td>1001</td>\n",
       "      <td>1001</td>\n",
       "      <td>1001</td>\n",
       "      <td>1001</td>\n",
       "      <td>1001</td>\n",
       "      <td>1001</td>\n",
       "      <td>1001</td>\n",
       "      <td>1001</td>\n",
       "      <td>1001</td>\n",
       "      <td>...</td>\n",
       "      <td>1001</td>\n",
       "      <td>1001</td>\n",
       "      <td>1001</td>\n",
       "      <td>1001</td>\n",
       "      <td>1001</td>\n",
       "      <td>1001</td>\n",
       "      <td>1001</td>\n",
       "      <td>1001</td>\n",
       "      <td>1001</td>\n",
       "      <td>1001</td>\n",
       "    </tr>\n",
       "    <tr>\n",
       "      <th>unique</th>\n",
       "      <td>5</td>\n",
       "      <td>34</td>\n",
       "      <td>6</td>\n",
       "      <td>11</td>\n",
       "      <td>924</td>\n",
       "      <td>6</td>\n",
       "      <td>6</td>\n",
       "      <td>5</td>\n",
       "      <td>5</td>\n",
       "      <td>4</td>\n",
       "      <td>...</td>\n",
       "      <td>5</td>\n",
       "      <td>54</td>\n",
       "      <td>4</td>\n",
       "      <td>4</td>\n",
       "      <td>5</td>\n",
       "      <td>5</td>\n",
       "      <td>3</td>\n",
       "      <td>3</td>\n",
       "      <td>3</td>\n",
       "      <td>3</td>\n",
       "    </tr>\n",
       "    <tr>\n",
       "      <th>top</th>\n",
       "      <td>4</td>\n",
       "      <td>24</td>\n",
       "      <td>2</td>\n",
       "      <td>3</td>\n",
       "      <td>1393</td>\n",
       "      <td>1</td>\n",
       "      <td>3</td>\n",
       "      <td>4</td>\n",
       "      <td>3</td>\n",
       "      <td>1</td>\n",
       "      <td>...</td>\n",
       "      <td>3</td>\n",
       "      <td>27</td>\n",
       "      <td>3</td>\n",
       "      <td>2</td>\n",
       "      <td>1</td>\n",
       "      <td>3</td>\n",
       "      <td>2</td>\n",
       "      <td>1</td>\n",
       "      <td>2</td>\n",
       "      <td>1</td>\n",
       "    </tr>\n",
       "    <tr>\n",
       "      <th>freq</th>\n",
       "      <td>394</td>\n",
       "      <td>184</td>\n",
       "      <td>530</td>\n",
       "      <td>280</td>\n",
       "      <td>3</td>\n",
       "      <td>603</td>\n",
       "      <td>339</td>\n",
       "      <td>476</td>\n",
       "      <td>548</td>\n",
       "      <td>907</td>\n",
       "      <td>...</td>\n",
       "      <td>332</td>\n",
       "      <td>50</td>\n",
       "      <td>814</td>\n",
       "      <td>714</td>\n",
       "      <td>633</td>\n",
       "      <td>630</td>\n",
       "      <td>845</td>\n",
       "      <td>596</td>\n",
       "      <td>963</td>\n",
       "      <td>700</td>\n",
       "    </tr>\n",
       "  </tbody>\n",
       "</table>\n",
       "<p>4 rows × 21 columns</p>\n",
       "</div>"
      ],
      "text/plain": [
       "       checking account duration in month credit history credit purpose  \\\n",
       "count              1001              1001           1001           1001   \n",
       "unique                5                34              6             11   \n",
       "top                   4                24              2              3   \n",
       "freq                394               184            530            280   \n",
       "\n",
       "       credit amount savings account employment since.. installment rate  \\\n",
       "count           1001            1001               1001             1001   \n",
       "unique           924               6                  6                5   \n",
       "top             1393               1                  3                4   \n",
       "freq               3             603                339              476   \n",
       "\n",
       "       status : sex other debtors / guarantors  ... property  \\\n",
       "count          1001                       1001  ...     1001   \n",
       "unique            5                          4  ...        5   \n",
       "top               3                          1  ...        3   \n",
       "freq            548                        907  ...      332   \n",
       "\n",
       "       relationship : age other installment plans housing existing credits  \\\n",
       "count                1001                    1001    1001             1001   \n",
       "unique                 54                       4       4                5   \n",
       "top                    27                       3       2                1   \n",
       "freq                   50                     814     714              633   \n",
       "\n",
       "         job people to provide maintenance for telephone foreign worker  \\\n",
       "count   1001                              1001      1001           1001   \n",
       "unique     5                                 3         3              3   \n",
       "top        3                                 2         1              2   \n",
       "freq     630                               845       596            963   \n",
       "\n",
       "       goodness  \n",
       "count      1001  \n",
       "unique        3  \n",
       "top           1  \n",
       "freq        700  \n",
       "\n",
       "[4 rows x 21 columns]"
      ]
     },
     "execution_count": 4,
     "metadata": {},
     "output_type": "execute_result"
    }
   ],
   "source": [
    "df.describe()"
   ]
  },
  {
   "cell_type": "code",
   "execution_count": 5,
   "id": "b221e8d6-9cea-4649-b092-394a74921922",
   "metadata": {},
   "outputs": [
    {
     "data": {
      "text/html": [
       "<div>\n",
       "<style scoped>\n",
       "    .dataframe tbody tr th:only-of-type {\n",
       "        vertical-align: middle;\n",
       "    }\n",
       "\n",
       "    .dataframe tbody tr th {\n",
       "        vertical-align: top;\n",
       "    }\n",
       "\n",
       "    .dataframe thead th {\n",
       "        text-align: right;\n",
       "    }\n",
       "</style>\n",
       "<table border=\"1\" class=\"dataframe\">\n",
       "  <thead>\n",
       "    <tr style=\"text-align: right;\">\n",
       "      <th></th>\n",
       "      <th>checking account</th>\n",
       "      <th>duration in month</th>\n",
       "      <th>credit history</th>\n",
       "      <th>credit purpose</th>\n",
       "      <th>credit amount</th>\n",
       "      <th>savings account</th>\n",
       "      <th>employment since..</th>\n",
       "      <th>installment rate</th>\n",
       "      <th>status : sex</th>\n",
       "      <th>other debtors / guarantors</th>\n",
       "      <th>...</th>\n",
       "      <th>property</th>\n",
       "      <th>relationship : age</th>\n",
       "      <th>other installment plans</th>\n",
       "      <th>housing</th>\n",
       "      <th>existing credits</th>\n",
       "      <th>job</th>\n",
       "      <th>people to provide maintenance for</th>\n",
       "      <th>telephone</th>\n",
       "      <th>foreign worker</th>\n",
       "      <th>goodness</th>\n",
       "    </tr>\n",
       "  </thead>\n",
       "  <tbody>\n",
       "    <tr>\n",
       "      <th>0</th>\n",
       "      <td>1</td>\n",
       "      <td>18</td>\n",
       "      <td>4</td>\n",
       "      <td>2</td>\n",
       "      <td>1049</td>\n",
       "      <td>1</td>\n",
       "      <td>2</td>\n",
       "      <td>4</td>\n",
       "      <td>2</td>\n",
       "      <td>1</td>\n",
       "      <td>...</td>\n",
       "      <td>2</td>\n",
       "      <td>21</td>\n",
       "      <td>3</td>\n",
       "      <td>1</td>\n",
       "      <td>1</td>\n",
       "      <td>3</td>\n",
       "      <td>2</td>\n",
       "      <td>1</td>\n",
       "      <td>2</td>\n",
       "      <td>1</td>\n",
       "    </tr>\n",
       "    <tr>\n",
       "      <th>1</th>\n",
       "      <td>1</td>\n",
       "      <td>9</td>\n",
       "      <td>4</td>\n",
       "      <td>0</td>\n",
       "      <td>2799</td>\n",
       "      <td>1</td>\n",
       "      <td>3</td>\n",
       "      <td>2</td>\n",
       "      <td>3</td>\n",
       "      <td>1</td>\n",
       "      <td>...</td>\n",
       "      <td>1</td>\n",
       "      <td>36</td>\n",
       "      <td>3</td>\n",
       "      <td>1</td>\n",
       "      <td>2</td>\n",
       "      <td>3</td>\n",
       "      <td>1</td>\n",
       "      <td>1</td>\n",
       "      <td>2</td>\n",
       "      <td>1</td>\n",
       "    </tr>\n",
       "  </tbody>\n",
       "</table>\n",
       "<p>2 rows × 21 columns</p>\n",
       "</div>"
      ],
      "text/plain": [
       "  checking account duration in month credit history credit purpose  \\\n",
       "0                1                18              4              2   \n",
       "1                1                 9              4              0   \n",
       "\n",
       "  credit amount savings account employment since.. installment rate  \\\n",
       "0          1049               1                  2                4   \n",
       "1          2799               1                  3                2   \n",
       "\n",
       "  status : sex other debtors / guarantors  ... property relationship : age  \\\n",
       "0            2                          1  ...        2                 21   \n",
       "1            3                          1  ...        1                 36   \n",
       "\n",
       "  other installment plans housing existing credits job  \\\n",
       "0                       3       1                1   3   \n",
       "1                       3       1                2   3   \n",
       "\n",
       "  people to provide maintenance for telephone foreign worker goodness  \n",
       "0                                 2         1              2        1  \n",
       "1                                 1         1              2        1  \n",
       "\n",
       "[2 rows x 21 columns]"
      ]
     },
     "execution_count": 5,
     "metadata": {},
     "output_type": "execute_result"
    }
   ],
   "source": [
    "df.drop(index=0, axis=0, inplace=True)\n",
    "df = df.reset_index(drop=True)\n",
    "df.head(2)"
   ]
  },
  {
   "cell_type": "code",
   "execution_count": 6,
   "id": "16594f7c-04bd-4934-b1cb-f10b1b7b77fc",
   "metadata": {},
   "outputs": [
    {
     "data": {
      "text/plain": [
       "1    700\n",
       "0    300\n",
       "Name: goodness, dtype: int64"
      ]
     },
     "execution_count": 6,
     "metadata": {},
     "output_type": "execute_result"
    }
   ],
   "source": [
    "# 0: \"bad\"\n",
    "# 1: \"good\"\n",
    "df['goodness'].value_counts()"
   ]
  },
  {
   "cell_type": "markdown",
   "id": "a9bf8e1c-6090-4c53-8fe0-cb8d3e794df4",
   "metadata": {},
   "source": [
    "## Spliting Data "
   ]
  },
  {
   "cell_type": "code",
   "execution_count": 21,
   "id": "b679fed6-032f-487d-805e-970b45003bf8",
   "metadata": {},
   "outputs": [],
   "source": [
    "X = df.iloc[:, :-1]\n",
    "y = df.iloc[:, -1:]\n",
    "X_train, X_test, y_train, y_test = train_test_split(X, y, \n",
    "                                                    test_size=0.15, \n",
    "                                                    random_state=42,\n",
    "                                                    stratify=y)"
   ]
  },
  {
   "cell_type": "markdown",
   "id": "f0e87f3e-34cd-4309-b382-1d4610705078",
   "metadata": {},
   "source": [
    "# Models"
   ]
  },
  {
   "cell_type": "markdown",
   "id": "745a8398-924c-4eb3-893a-2ad0d5780cfd",
   "metadata": {},
   "source": [
    "### Random Forest"
   ]
  },
  {
   "cell_type": "code",
   "execution_count": 28,
   "id": "d4c5e054-fef9-492b-ac54-e3757b62fbb6",
   "metadata": {},
   "outputs": [
    {
     "data": {
      "text/html": [
       "<style>#sk-container-id-5 {color: black;background-color: white;}#sk-container-id-5 pre{padding: 0;}#sk-container-id-5 div.sk-toggleable {background-color: white;}#sk-container-id-5 label.sk-toggleable__label {cursor: pointer;display: block;width: 100%;margin-bottom: 0;padding: 0.3em;box-sizing: border-box;text-align: center;}#sk-container-id-5 label.sk-toggleable__label-arrow:before {content: \"▸\";float: left;margin-right: 0.25em;color: #696969;}#sk-container-id-5 label.sk-toggleable__label-arrow:hover:before {color: black;}#sk-container-id-5 div.sk-estimator:hover label.sk-toggleable__label-arrow:before {color: black;}#sk-container-id-5 div.sk-toggleable__content {max-height: 0;max-width: 0;overflow: hidden;text-align: left;background-color: #f0f8ff;}#sk-container-id-5 div.sk-toggleable__content pre {margin: 0.2em;color: black;border-radius: 0.25em;background-color: #f0f8ff;}#sk-container-id-5 input.sk-toggleable__control:checked~div.sk-toggleable__content {max-height: 200px;max-width: 100%;overflow: auto;}#sk-container-id-5 input.sk-toggleable__control:checked~label.sk-toggleable__label-arrow:before {content: \"▾\";}#sk-container-id-5 div.sk-estimator input.sk-toggleable__control:checked~label.sk-toggleable__label {background-color: #d4ebff;}#sk-container-id-5 div.sk-label input.sk-toggleable__control:checked~label.sk-toggleable__label {background-color: #d4ebff;}#sk-container-id-5 input.sk-hidden--visually {border: 0;clip: rect(1px 1px 1px 1px);clip: rect(1px, 1px, 1px, 1px);height: 1px;margin: -1px;overflow: hidden;padding: 0;position: absolute;width: 1px;}#sk-container-id-5 div.sk-estimator {font-family: monospace;background-color: #f0f8ff;border: 1px dotted black;border-radius: 0.25em;box-sizing: border-box;margin-bottom: 0.5em;}#sk-container-id-5 div.sk-estimator:hover {background-color: #d4ebff;}#sk-container-id-5 div.sk-parallel-item::after {content: \"\";width: 100%;border-bottom: 1px solid gray;flex-grow: 1;}#sk-container-id-5 div.sk-label:hover label.sk-toggleable__label {background-color: #d4ebff;}#sk-container-id-5 div.sk-serial::before {content: \"\";position: absolute;border-left: 1px solid gray;box-sizing: border-box;top: 0;bottom: 0;left: 50%;z-index: 0;}#sk-container-id-5 div.sk-serial {display: flex;flex-direction: column;align-items: center;background-color: white;padding-right: 0.2em;padding-left: 0.2em;position: relative;}#sk-container-id-5 div.sk-item {position: relative;z-index: 1;}#sk-container-id-5 div.sk-parallel {display: flex;align-items: stretch;justify-content: center;background-color: white;position: relative;}#sk-container-id-5 div.sk-item::before, #sk-container-id-5 div.sk-parallel-item::before {content: \"\";position: absolute;border-left: 1px solid gray;box-sizing: border-box;top: 0;bottom: 0;left: 50%;z-index: -1;}#sk-container-id-5 div.sk-parallel-item {display: flex;flex-direction: column;z-index: 1;position: relative;background-color: white;}#sk-container-id-5 div.sk-parallel-item:first-child::after {align-self: flex-end;width: 50%;}#sk-container-id-5 div.sk-parallel-item:last-child::after {align-self: flex-start;width: 50%;}#sk-container-id-5 div.sk-parallel-item:only-child::after {width: 0;}#sk-container-id-5 div.sk-dashed-wrapped {border: 1px dashed gray;margin: 0 0.4em 0.5em 0.4em;box-sizing: border-box;padding-bottom: 0.4em;background-color: white;}#sk-container-id-5 div.sk-label label {font-family: monospace;font-weight: bold;display: inline-block;line-height: 1.2em;}#sk-container-id-5 div.sk-label-container {text-align: center;}#sk-container-id-5 div.sk-container {/* jupyter's `normalize.less` sets `[hidden] { display: none; }` but bootstrap.min.css set `[hidden] { display: none !important; }` so we also need the `!important` here to be able to override the default hidden behavior on the sphinx rendered scikit-learn.org. See: https://github.com/scikit-learn/scikit-learn/issues/21755 */display: inline-block !important;position: relative;}#sk-container-id-5 div.sk-text-repr-fallback {display: none;}</style><div id=\"sk-container-id-5\" class=\"sk-top-container\"><div class=\"sk-text-repr-fallback\"><pre>RandomForestClassifier(max_depth=2, random_state=0)</pre><b>In a Jupyter environment, please rerun this cell to show the HTML representation or trust the notebook. <br />On GitHub, the HTML representation is unable to render, please try loading this page with nbviewer.org.</b></div><div class=\"sk-container\" hidden><div class=\"sk-item\"><div class=\"sk-estimator sk-toggleable\"><input class=\"sk-toggleable__control sk-hidden--visually\" id=\"sk-estimator-id-5\" type=\"checkbox\" checked><label for=\"sk-estimator-id-5\" class=\"sk-toggleable__label sk-toggleable__label-arrow\">RandomForestClassifier</label><div class=\"sk-toggleable__content\"><pre>RandomForestClassifier(max_depth=2, random_state=0)</pre></div></div></div></div></div>"
      ],
      "text/plain": [
       "RandomForestClassifier(max_depth=2, random_state=0)"
      ]
     },
     "execution_count": 28,
     "metadata": {},
     "output_type": "execute_result"
    }
   ],
   "source": [
    "rfc = RandomForestClassifier(n_estimators=100,\n",
    "                             criterion='gini',\n",
    "                             max_depth=2,\n",
    "                             max_features='sqrt',\n",
    "                             random_state=0)\n",
    "rfc.fit(X_train, y_train.values.ravel())"
   ]
  },
  {
   "cell_type": "code",
   "execution_count": 29,
   "id": "7eea21b1-d5fe-469f-ad9f-b3206217e667",
   "metadata": {},
   "outputs": [
    {
     "data": {
      "text/plain": [
       "0.7066666666666667"
      ]
     },
     "execution_count": 29,
     "metadata": {},
     "output_type": "execute_result"
    }
   ],
   "source": [
    "rfc.score(X_test, y_test)"
   ]
  },
  {
   "cell_type": "code",
   "execution_count": 30,
   "id": "33563e0a-b3ef-499e-b18b-e133de6e7f38",
   "metadata": {},
   "outputs": [
    {
     "data": {
      "image/png": "[encoded data removed]",
      "text/plain": [
       "<Figure size 432x288 with 1 Axes>"
      ]
     },
     "metadata": {
      "needs_background": "light"
     },
     "output_type": "display_data"
    }
   ],
   "source": [
    "feat_importances = pd.Series(rfc.feature_importances_, index=X_train.columns)\n",
    "feat_importances.nlargest(20).plot(kind='barh');"
   ]
  },
  {
   "cell_type": "markdown",
   "id": "60fab08e-d1a7-49ca-ac5b-6113bb3074d6",
   "metadata": {},
   "source": [
    "### Evaluation"
   ]
  },
  {
   "cell_type": "code",
   "execution_count": 31,
   "id": "f45598da-f96c-419b-a39f-92db81a53d6c",
   "metadata": {},
   "outputs": [
    {
     "name": "stdout",
     "output_type": "stream",
     "text": [
      "              precision    recall  f1-score   support\n",
      "\n",
      "    Not good       1.00      0.02      0.04        45\n",
      "        Good       0.70      1.00      0.83       105\n",
      "\n",
      "    accuracy                           0.71       150\n",
      "   macro avg       0.85      0.51      0.44       150\n",
      "weighted avg       0.79      0.71      0.59       150\n",
      "\n"
     ]
    }
   ],
   "source": [
    "target_names = ['Not good', 'Good']\n",
    "print(classification_report(y_test, rfc.predict(X_test), target_names=target_names))"
   ]
  },
  {
   "cell_type": "markdown",
   "id": "2ce606c1-a786-4e59-af6b-9a4eca777ac4",
   "metadata": {},
   "source": [
    "### Optimization"
   ]
  },
  {
   "cell_type": "code",
   "execution_count": 32,
   "id": "72473861-85ea-44d7-b766-009dd544fa43",
   "metadata": {},
   "outputs": [],
   "source": [
    "from sklearn.model_selection import RandomizedSearchCV"
   ]
  },
  {
   "cell_type": "code",
   "execution_count": 35,
   "id": "e0771f4b-25e2-477f-99c7-939a5a937aab",
   "metadata": {},
   "outputs": [],
   "source": [
    "param_grid={'n_estimators': [200, 500, 1000],\n",
    "            'criterion': ['gini', 'entropy'],\n",
    "            'max_depth': [2, 3, 5], \n",
    "            'max_features': ['sqrt', 'log2']\n",
    "            }\n",
    "rscv_rfc = RandomizedSearchCV(rfc, param_grid, random_state=0)\n",
    "opti = rscv_rfc.fit(X_train, y_train.values.ravel())"
   ]
  },
  {
   "cell_type": "code",
   "execution_count": 36,
   "id": "e9063770-8f07-4cb4-b877-364c4499dbfe",
   "metadata": {},
   "outputs": [
    {
     "data": {
      "text/plain": [
       "{'n_estimators': 500,\n",
       " 'max_features': 'sqrt',\n",
       " 'max_depth': 5,\n",
       " 'criterion': 'entropy'}"
      ]
     },
     "execution_count": 36,
     "metadata": {},
     "output_type": "execute_result"
    }
   ],
   "source": [
    "opti.best_params_"
   ]
  },
  {
   "cell_type": "code",
   "execution_count": 37,
   "id": "4dfb4ddd-e36e-412e-a5dd-fe29802a6759",
   "metadata": {},
   "outputs": [
    {
     "data": {
      "text/plain": [
       "0.76"
      ]
     },
     "execution_count": 37,
     "metadata": {},
     "output_type": "execute_result"
    }
   ],
   "source": [
    "rscv_rfc.score(X_test, y_test)"
   ]
  },
  {
   "cell_type": "markdown",
   "id": "12e65dc9-30bd-4300-8836-4152e6cbe2d1",
   "metadata": {},
   "source": [
    "<b>After findind the best parameter value using hyper-parameter optimization (Random SearchCV) techniques, we stop further to optimizes the model accuracy. "
   ]
  },
  {
   "cell_type": "markdown",
   "id": "bad6192d-8e7a-4852-a698-e73ca3e5f6bb",
   "metadata": {},
   "source": [
    "## Extra Tree Classifier"
   ]
  },
  {
   "cell_type": "code",
   "execution_count": 38,
   "id": "e3aeb57e-afd5-461b-881c-70bf810d5a24",
   "metadata": {},
   "outputs": [
    {
     "data": {
      "text/html": [
       "<style>#sk-container-id-7 {color: black;background-color: white;}#sk-container-id-7 pre{padding: 0;}#sk-container-id-7 div.sk-toggleable {background-color: white;}#sk-container-id-7 label.sk-toggleable__label {cursor: pointer;display: block;width: 100%;margin-bottom: 0;padding: 0.3em;box-sizing: border-box;text-align: center;}#sk-container-id-7 label.sk-toggleable__label-arrow:before {content: \"▸\";float: left;margin-right: 0.25em;color: #696969;}#sk-container-id-7 label.sk-toggleable__label-arrow:hover:before {color: black;}#sk-container-id-7 div.sk-estimator:hover label.sk-toggleable__label-arrow:before {color: black;}#sk-container-id-7 div.sk-toggleable__content {max-height: 0;max-width: 0;overflow: hidden;text-align: left;background-color: #f0f8ff;}#sk-container-id-7 div.sk-toggleable__content pre {margin: 0.2em;color: black;border-radius: 0.25em;background-color: #f0f8ff;}#sk-container-id-7 input.sk-toggleable__control:checked~div.sk-toggleable__content {max-height: 200px;max-width: 100%;overflow: auto;}#sk-container-id-7 input.sk-toggleable__control:checked~label.sk-toggleable__label-arrow:before {content: \"▾\";}#sk-container-id-7 div.sk-estimator input.sk-toggleable__control:checked~label.sk-toggleable__label {background-color: #d4ebff;}#sk-container-id-7 div.sk-label input.sk-toggleable__control:checked~label.sk-toggleable__label {background-color: #d4ebff;}#sk-container-id-7 input.sk-hidden--visually {border: 0;clip: rect(1px 1px 1px 1px);clip: rect(1px, 1px, 1px, 1px);height: 1px;margin: -1px;overflow: hidden;padding: 0;position: absolute;width: 1px;}#sk-container-id-7 div.sk-estimator {font-family: monospace;background-color: #f0f8ff;border: 1px dotted black;border-radius: 0.25em;box-sizing: border-box;margin-bottom: 0.5em;}#sk-container-id-7 div.sk-estimator:hover {background-color: #d4ebff;}#sk-container-id-7 div.sk-parallel-item::after {content: \"\";width: 100%;border-bottom: 1px solid gray;flex-grow: 1;}#sk-container-id-7 div.sk-label:hover label.sk-toggleable__label {background-color: #d4ebff;}#sk-container-id-7 div.sk-serial::before {content: \"\";position: absolute;border-left: 1px solid gray;box-sizing: border-box;top: 0;bottom: 0;left: 50%;z-index: 0;}#sk-container-id-7 div.sk-serial {display: flex;flex-direction: column;align-items: center;background-color: white;padding-right: 0.2em;padding-left: 0.2em;position: relative;}#sk-container-id-7 div.sk-item {position: relative;z-index: 1;}#sk-container-id-7 div.sk-parallel {display: flex;align-items: stretch;justify-content: center;background-color: white;position: relative;}#sk-container-id-7 div.sk-item::before, #sk-container-id-7 div.sk-parallel-item::before {content: \"\";position: absolute;border-left: 1px solid gray;box-sizing: border-box;top: 0;bottom: 0;left: 50%;z-index: -1;}#sk-container-id-7 div.sk-parallel-item {display: flex;flex-direction: column;z-index: 1;position: relative;background-color: white;}#sk-container-id-7 div.sk-parallel-item:first-child::after {align-self: flex-end;width: 50%;}#sk-container-id-7 div.sk-parallel-item:last-child::after {align-self: flex-start;width: 50%;}#sk-container-id-7 div.sk-parallel-item:only-child::after {width: 0;}#sk-container-id-7 div.sk-dashed-wrapped {border: 1px dashed gray;margin: 0 0.4em 0.5em 0.4em;box-sizing: border-box;padding-bottom: 0.4em;background-color: white;}#sk-container-id-7 div.sk-label label {font-family: monospace;font-weight: bold;display: inline-block;line-height: 1.2em;}#sk-container-id-7 div.sk-label-container {text-align: center;}#sk-container-id-7 div.sk-container {/* jupyter's `normalize.less` sets `[hidden] { display: none; }` but bootstrap.min.css set `[hidden] { display: none !important; }` so we also need the `!important` here to be able to override the default hidden behavior on the sphinx rendered scikit-learn.org. See: https://github.com/scikit-learn/scikit-learn/issues/21755 */display: inline-block !important;position: relative;}#sk-container-id-7 div.sk-text-repr-fallback {display: none;}</style><div id=\"sk-container-id-7\" class=\"sk-top-container\"><div class=\"sk-text-repr-fallback\"><pre>ExtraTreesClassifier(random_state=0)</pre><b>In a Jupyter environment, please rerun this cell to show the HTML representation or trust the notebook. <br />On GitHub, the HTML representation is unable to render, please try loading this page with nbviewer.org.</b></div><div class=\"sk-container\" hidden><div class=\"sk-item\"><div class=\"sk-estimator sk-toggleable\"><input class=\"sk-toggleable__control sk-hidden--visually\" id=\"sk-estimator-id-9\" type=\"checkbox\" checked><label for=\"sk-estimator-id-9\" class=\"sk-toggleable__label sk-toggleable__label-arrow\">ExtraTreesClassifier</label><div class=\"sk-toggleable__content\"><pre>ExtraTreesClassifier(random_state=0)</pre></div></div></div></div></div>"
      ],
      "text/plain": [
       "ExtraTreesClassifier(random_state=0)"
      ]
     },
     "execution_count": 38,
     "metadata": {},
     "output_type": "execute_result"
    }
   ],
   "source": [
    "etc = ExtraTreesClassifier(n_estimators=100, random_state=0)\n",
    "etc.fit(X_train, y_train.values.ravel())"
   ]
  },
  {
   "cell_type": "code",
   "execution_count": 39,
   "id": "692bbf4b-4b66-40ad-908e-a1770282fe34",
   "metadata": {},
   "outputs": [
    {
     "name": "stdout",
     "output_type": "stream",
     "text": [
      "              precision    recall  f1-score   support\n",
      "\n",
      "    Not good       0.74      0.44      0.56        45\n",
      "        Good       0.80      0.93      0.86       105\n",
      "\n",
      "    accuracy                           0.79       150\n",
      "   macro avg       0.77      0.69      0.71       150\n",
      "weighted avg       0.78      0.79      0.77       150\n",
      "\n"
     ]
    }
   ],
   "source": [
    "print(classification_report(y_test, etc.predict(X_test), target_names=target_names))"
   ]
  },
  {
   "cell_type": "code",
   "execution_count": 40,
   "id": "e1c26aba-30bc-4a2a-9638-108fc6259851",
   "metadata": {},
   "outputs": [
    {
     "data": {
      "image/png": "[encoded data removed]",
      "text/plain": [
       "<Figure size 432x288 with 1 Axes>"
      ]
     },
     "metadata": {
      "needs_background": "light"
     },
     "output_type": "display_data"
    }
   ],
   "source": [
    "feat_importances_etc = pd.Series(etc.feature_importances_, index=X_train.columns)\n",
    "feat_importances_etc.nlargest(20).plot(kind='barh');"
   ]
  },
  {
   "cell_type": "markdown",
   "id": "ad4fee22-bf9b-4edd-8fca-606910de094d",
   "metadata": {},
   "source": [
    "### LogisticRegression"
   ]
  },
  {
   "cell_type": "code",
   "execution_count": 41,
   "id": "3d366629-d083-4370-b06f-11eefd18ffc2",
   "metadata": {},
   "outputs": [],
   "source": [
    "from sklearn.linear_model import LogisticRegression"
   ]
  },
  {
   "cell_type": "code",
   "execution_count": 43,
   "id": "1013f1b6-93d0-4381-87e3-161f5bd756e6",
   "metadata": {},
   "outputs": [
    {
     "data": {
      "text/html": [
       "<style>#sk-container-id-8 {color: black;background-color: white;}#sk-container-id-8 pre{padding: 0;}#sk-container-id-8 div.sk-toggleable {background-color: white;}#sk-container-id-8 label.sk-toggleable__label {cursor: pointer;display: block;width: 100%;margin-bottom: 0;padding: 0.3em;box-sizing: border-box;text-align: center;}#sk-container-id-8 label.sk-toggleable__label-arrow:before {content: \"▸\";float: left;margin-right: 0.25em;color: #696969;}#sk-container-id-8 label.sk-toggleable__label-arrow:hover:before {color: black;}#sk-container-id-8 div.sk-estimator:hover label.sk-toggleable__label-arrow:before {color: black;}#sk-container-id-8 div.sk-toggleable__content {max-height: 0;max-width: 0;overflow: hidden;text-align: left;background-color: #f0f8ff;}#sk-container-id-8 div.sk-toggleable__content pre {margin: 0.2em;color: black;border-radius: 0.25em;background-color: #f0f8ff;}#sk-container-id-8 input.sk-toggleable__control:checked~div.sk-toggleable__content {max-height: 200px;max-width: 100%;overflow: auto;}#sk-container-id-8 input.sk-toggleable__control:checked~label.sk-toggleable__label-arrow:before {content: \"▾\";}#sk-container-id-8 div.sk-estimator input.sk-toggleable__control:checked~label.sk-toggleable__label {background-color: #d4ebff;}#sk-container-id-8 div.sk-label input.sk-toggleable__control:checked~label.sk-toggleable__label {background-color: #d4ebff;}#sk-container-id-8 input.sk-hidden--visually {border: 0;clip: rect(1px 1px 1px 1px);clip: rect(1px, 1px, 1px, 1px);height: 1px;margin: -1px;overflow: hidden;padding: 0;position: absolute;width: 1px;}#sk-container-id-8 div.sk-estimator {font-family: monospace;background-color: #f0f8ff;border: 1px dotted black;border-radius: 0.25em;box-sizing: border-box;margin-bottom: 0.5em;}#sk-container-id-8 div.sk-estimator:hover {background-color: #d4ebff;}#sk-container-id-8 div.sk-parallel-item::after {content: \"\";width: 100%;border-bottom: 1px solid gray;flex-grow: 1;}#sk-container-id-8 div.sk-label:hover label.sk-toggleable__label {background-color: #d4ebff;}#sk-container-id-8 div.sk-serial::before {content: \"\";position: absolute;border-left: 1px solid gray;box-sizing: border-box;top: 0;bottom: 0;left: 50%;z-index: 0;}#sk-container-id-8 div.sk-serial {display: flex;flex-direction: column;align-items: center;background-color: white;padding-right: 0.2em;padding-left: 0.2em;position: relative;}#sk-container-id-8 div.sk-item {position: relative;z-index: 1;}#sk-container-id-8 div.sk-parallel {display: flex;align-items: stretch;justify-content: center;background-color: white;position: relative;}#sk-container-id-8 div.sk-item::before, #sk-container-id-8 div.sk-parallel-item::before {content: \"\";position: absolute;border-left: 1px solid gray;box-sizing: border-box;top: 0;bottom: 0;left: 50%;z-index: -1;}#sk-container-id-8 div.sk-parallel-item {display: flex;flex-direction: column;z-index: 1;position: relative;background-color: white;}#sk-container-id-8 div.sk-parallel-item:first-child::after {align-self: flex-end;width: 50%;}#sk-container-id-8 div.sk-parallel-item:last-child::after {align-self: flex-start;width: 50%;}#sk-container-id-8 div.sk-parallel-item:only-child::after {width: 0;}#sk-container-id-8 div.sk-dashed-wrapped {border: 1px dashed gray;margin: 0 0.4em 0.5em 0.4em;box-sizing: border-box;padding-bottom: 0.4em;background-color: white;}#sk-container-id-8 div.sk-label label {font-family: monospace;font-weight: bold;display: inline-block;line-height: 1.2em;}#sk-container-id-8 div.sk-label-container {text-align: center;}#sk-container-id-8 div.sk-container {/* jupyter's `normalize.less` sets `[hidden] { display: none; }` but bootstrap.min.css set `[hidden] { display: none !important; }` so we also need the `!important` here to be able to override the default hidden behavior on the sphinx rendered scikit-learn.org. See: https://github.com/scikit-learn/scikit-learn/issues/21755 */display: inline-block !important;position: relative;}#sk-container-id-8 div.sk-text-repr-fallback {display: none;}</style><div id=\"sk-container-id-8\" class=\"sk-top-container\"><div class=\"sk-text-repr-fallback\"><pre>LogisticRegression(max_iter=200, random_state=0, solver=&#x27;liblinear&#x27;, tol=0.01)</pre><b>In a Jupyter environment, please rerun this cell to show the HTML representation or trust the notebook. <br />On GitHub, the HTML representation is unable to render, please try loading this page with nbviewer.org.</b></div><div class=\"sk-container\" hidden><div class=\"sk-item\"><div class=\"sk-estimator sk-toggleable\"><input class=\"sk-toggleable__control sk-hidden--visually\" id=\"sk-estimator-id-10\" type=\"checkbox\" checked><label for=\"sk-estimator-id-10\" class=\"sk-toggleable__label sk-toggleable__label-arrow\">LogisticRegression</label><div class=\"sk-toggleable__content\"><pre>LogisticRegression(max_iter=200, random_state=0, solver=&#x27;liblinear&#x27;, tol=0.01)</pre></div></div></div></div></div>"
      ],
      "text/plain": [
       "LogisticRegression(max_iter=200, random_state=0, solver='liblinear', tol=0.01)"
      ]
     },
     "execution_count": 43,
     "metadata": {},
     "output_type": "execute_result"
    }
   ],
   "source": [
    "lr = LogisticRegression(penalty='l2',\n",
    "                        solver='liblinear', \n",
    "                        tol=1e-2, \n",
    "                        max_iter=200,\n",
    "                        random_state=0)\n",
    "lr.fit(X_train, y_train.values.ravel())"
   ]
  },
  {
   "cell_type": "markdown",
   "id": "f27a518e-e843-44e8-9c13-8402fd6c3bee",
   "metadata": {},
   "source": [
    "#### Evaluation"
   ]
  },
  {
   "cell_type": "code",
   "execution_count": 44,
   "id": "9bccbfdc-3b5e-4374-81c4-196cb4629e94",
   "metadata": {},
   "outputs": [
    {
     "name": "stdout",
     "output_type": "stream",
     "text": [
      "              precision    recall  f1-score   support\n",
      "\n",
      "    Not good       0.74      0.44      0.56        45\n",
      "        Good       0.80      0.93      0.86       105\n",
      "\n",
      "    accuracy                           0.79       150\n",
      "   macro avg       0.77      0.69      0.71       150\n",
      "weighted avg       0.78      0.79      0.77       150\n",
      "\n"
     ]
    }
   ],
   "source": [
    "print(classification_report(y_test, etc.predict(X_test), target_names=target_names))"
   ]
  }
 ],
 "metadata": {
  "kernelspec": {
   "display_name": "Python 3 (ipykernel)",
   "language": "python",
   "name": "python3"
  },
  "language_info": {
   "codemirror_mode": {
    "name": "ipython",
    "version": 3
   },
   "file_extension": ".py",
   "mimetype": "text/x-python",
   "name": "python",
   "nbconvert_exporter": "python",
   "pygments_lexer": "ipython3",
   "version": "3.9.12"
  }
 },
 "nbformat": 4,
 "nbformat_minor": 5
}
