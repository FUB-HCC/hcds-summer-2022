{
 "cells": [
  {
   "cell_type": "raw",
   "id": "37f29fb1-ba1c-4092-882d-4199c27454e9",
   "metadata": {},
   "source": [
    "import sys\n",
    "print(sys.executable)\n",
    "print(sys.version)\n",
    "print(sys.version_info)"
   ]
  },
  {
   "cell_type": "raw",
   "id": "ace0f54d-8a19-4d03-8de1-052a8c54c0cd",
   "metadata": {},
   "source": [
    "from platform import python_version\n",
    "python_version()"
   ]
  },
  {
   "cell_type": "markdown",
   "id": "670f3ef0-6ef7-4eee-8b09-9b92611643c6",
   "metadata": {},
   "source": [
    "# Task 4. Choose one of the provided common datasets to work with. (Adult Dataset)"
   ]
  },
  {
   "cell_type": "code",
   "execution_count": 1,
   "id": "05fad84a-9ad6-4d78-b849-53d2de87c3b5",
   "metadata": {},
   "outputs": [],
   "source": [
    "# Load all necessary packages\n",
    "import sys\n",
    "sys.path.insert(1, \"../\")  \n",
    "\n",
    "import numpy as np\n",
    "np.random.seed(0)\n",
    "\n",
    "from aif360.datasets import AdultDataset\n",
    "from aif360.metrics import BinaryLabelDatasetMetric\n",
    "from aif360.metrics import ClassificationMetric\n",
    "\n",
    "from aif360.algorithms.preprocessing import Reweighing\n",
    "from aif360.algorithms.preprocessing import DisparateImpactRemover\n",
    "from aif360.algorithms.postprocessing import CalibratedEqOddsPostprocessing\n",
    "from aif360.algorithms.postprocessing.reject_option_classification import RejectOptionClassification\n",
    "from aif360.algorithms.inprocessing.adversarial_debiasing import AdversarialDebiasing\n",
    "\n",
    "from IPython.display import Markdown, display"
   ]
  },
  {
   "cell_type": "code",
   "execution_count": 2,
   "id": "616de55a-3a3a-453a-ad5b-cd80c1a8123c",
   "metadata": {},
   "outputs": [
    {
     "name": "stderr",
     "output_type": "stream",
     "text": [
      "WARNING:root:Missing Data: 3620 rows removed from AdultDataset.\n"
     ]
    }
   ],
   "source": [
    "X = AdultDataset()"
   ]
  },
  {
   "cell_type": "code",
   "execution_count": 3,
   "id": "bd880b86-eb62-4722-bde1-3ef5207fc4fe",
   "metadata": {},
   "outputs": [],
   "source": [
    "import pandas as pd"
   ]
  },
  {
   "cell_type": "code",
   "execution_count": 4,
   "id": "8c63a5ff-20a9-44bb-ac3e-201513138371",
   "metadata": {},
   "outputs": [
    {
     "data": {
      "text/plain": [
       "['age', 'education-num', 'race', 'sex', 'capital-gain']"
      ]
     },
     "execution_count": 4,
     "metadata": {},
     "output_type": "execute_result"
    }
   ],
   "source": [
    "X.feature_names[:5]"
   ]
  },
  {
   "cell_type": "code",
   "execution_count": 5,
   "id": "61abe951-89ec-4925-aaba-ab95f616f51f",
   "metadata": {},
   "outputs": [
    {
     "data": {
      "text/plain": [
       "['race', 'sex']"
      ]
     },
     "execution_count": 5,
     "metadata": {},
     "output_type": "execute_result"
    }
   ],
   "source": [
    "X.protected_attribute_names"
   ]
  },
  {
   "cell_type": "markdown",
   "id": "e5a72ce2-f4f7-4c0d-b7bf-32815c6d4e09",
   "metadata": {
    "tags": []
   },
   "source": [
    "Load dataset, specifying protected attribute, and split dataset into train and test"
   ]
  },
  {
   "cell_type": "markdown",
   "id": "3600368c-e2d0-45fd-abb4-c7247a9d129d",
   "metadata": {},
   "source": [
    "# 5. Select a protected attribute from your chosen dataset for the next steps."
   ]
  },
  {
   "cell_type": "markdown",
   "id": "d1e2fb71-fe40-4b3a-bb3c-a47d3b5c8ce6",
   "metadata": {},
   "source": [
    "We are using \"Gender\" as a protected Attribute."
   ]
  },
  {
   "cell_type": "code",
   "execution_count": 6,
   "id": "1c162938-6984-4386-a56e-13a33b32691a",
   "metadata": {},
   "outputs": [
    {
     "name": "stderr",
     "output_type": "stream",
     "text": [
      "WARNING:root:Missing Data: 2809 rows removed from AdultDataset.\n"
     ]
    },
    {
     "name": "stdout",
     "output_type": "stream",
     "text": [
      "['age', 'fnlwgt', 'education-num', 'sex', 'capital-gain', 'capital-loss', 'hours-per-week', 'workclass=Federal-gov', 'workclass=Local-gov', 'workclass=Private', 'workclass=Self-emp-inc', 'workclass=Self-emp-not-inc', 'workclass=State-gov', 'workclass=Without-pay', 'occupation=Adm-clerical', 'occupation=Armed-Forces', 'occupation=Craft-repair', 'occupation=Exec-managerial', 'occupation=Farming-fishing', 'occupation=Handlers-cleaners', 'occupation=Machine-op-inspct', 'occupation=Other-service', 'occupation=Priv-house-serv', 'occupation=Prof-specialty', 'occupation=Protective-serv', 'occupation=Sales', 'occupation=Tech-support', 'occupation=Transport-moving']\n"
     ]
    }
   ],
   "source": [
    "dataset_orig = AdultDataset(\n",
    "    protected_attribute_names = ['sex'],\n",
    "    privileged_classes = [['Male']],\n",
    "    #protected_attribute_names=[\"race\", \"sex\"],           # this dataset also contains protected\n",
    "                                                 # attribute for \"sex\" which we do not\n",
    "                                                 # consider in this evaluation\n",
    "    #privileged_classes=[\"White\", \"Male\"],      # age >=25 is considered privileged\n",
    "    features_to_drop=['native-country', 'race', 'education', 'relationship', 'marital-status']\n",
    "    #features_to_keep=['race', 'capital-loss', 'education', 'education-num', 'workclass', 'age', 'fnlwgt', 'occupation',\n",
    "                      #'capital-gain', 'hours-per-week'] # ignore sex-related attributes\n",
    ")\n",
    "print(dataset_orig.feature_names)\n",
    "\n",
    "\n",
    "#privileged_groups = [{'race': 1, \"sex\": 1}]\n",
    "#unprivileged_groups = [{\"race\": 0, \"sex\": 0}]\n",
    "privileged_groups = [{'sex': 1}]\n",
    "unprivileged_groups = [{'sex': 0}]"
   ]
  },
  {
   "cell_type": "markdown",
   "id": "d72b4fdc-9a5e-4174-a1e9-fa391a541c65",
   "metadata": {},
   "source": [
    "Compute fairness metric on original training dataset"
   ]
  },
  {
   "cell_type": "markdown",
   "id": "8cab102b-32a1-4ab3-9cb8-dff858cbdf95",
   "metadata": {},
   "source": [
    "# 6. Compute multiple fairness metrics on that attribute (minimum: 4)."
   ]
  },
  {
   "cell_type": "code",
   "execution_count": null,
   "id": "65733ce2-cdd7-4f96-8188-625c60fd950f",
   "metadata": {},
   "outputs": [],
   "source": []
  },
  {
   "cell_type": "code",
   "execution_count": 7,
   "id": "c4e16e48-0168-4706-9688-5d0522dbf2c1",
   "metadata": {},
   "outputs": [],
   "source": [
    "results = {}\n",
    "difference = {}"
   ]
  },
  {
   "cell_type": "code",
   "execution_count": 8,
   "id": "cf59e156-57ee-4aa5-b673-c046421c588a",
   "metadata": {},
   "outputs": [],
   "source": [
    "fairness_metrics = [\"mean_difference\", \"average_odds_diffence\", \"balance_accuracy\", \"disparate_impact_ratio\", \"equalized_odds\", \"statistical_parity\"]\n",
    "bias_mitigation_algorithms = [\"reweighing\", \"disparate_impact_remover\", \"adversarial debiasing\",\n",
    "                              \"calibrated_eq_odds_postprocessing\", \"reject_option_classification\"]"
   ]
  },
  {
   "cell_type": "code",
   "execution_count": 9,
   "id": "c7afcc60-abe0-4e0b-bedb-38277b519f82",
   "metadata": {},
   "outputs": [],
   "source": [
    "results = {\"mean_difference\": {\"before_reweighing\": None,\n",
    "                               \"after_reweighing\": None},\n",
    "           \n",
    "           \"disparate_impact_ratio\": {\"before_reweighing\": None,\n",
    "                                      \"after_reweighing\": None,\n",
    "                                      \"before_disparate_impact_remover\": None,\n",
    "                                      \"after_disparate_impact_remover\": None,\n",
    "                                      \"before_reject_option_classification\": None,\n",
    "                                      \"after_reject_option_classification\": None,\n",
    "                                      \"before_calibrated_eq_odds_postprocessing\": None,\n",
    "                                      \"after_calibrated_eq_odds_postprocessing\": None,\n",
    "                                      \"no_adversarial_debiasing\": None,\n",
    "                                      \"adversarial_debiasing\": None},\n",
    "           \n",
    "           \"balanced_accuracy\": {\"before_calibrated_eq_odds_postprocessing\": None,\n",
    "                                \"after_calibrated_eq_odds_postprocessing\": None,\n",
    "                                 \n",
    "                                \"before_reject_option_classification\": None,\n",
    "                                \"after_reject_option_classification\": None,\n",
    "                                 \n",
    "                                \"no_adversarial_debiasing\": None,\n",
    "                                \"adversarial_debiasing\": None},\n",
    "           \n",
    "           \"average_odds_difference\": {\"before_reject_option_classification\": None,\n",
    "                                       \"after_reject_option_classification\": None,\n",
    "                                       \n",
    "                                       \"before_calibrated_eq_odds_postprocessing\": None,\n",
    "                                       \"after_calibrated_eq_odds_postprocessing\": None,\n",
    "                                       \n",
    "                                       \"no_adversarial_debiasing\": None,\n",
    "                                      \"adversarial_debiasing\": None},\n",
    "           \n",
    "           \"statistical_parity_difference\": {\"before_reject_option_classification\": None,\n",
    "                                             \"after_reject_option_classification\": None,\n",
    "                                             \n",
    "                                             \"before_calibrated_eq_odds_postprocessing\": None,\n",
    "                                             \"after_calibrated_eq_odds_postprocessing\": None},\n",
    "           \n",
    "           \"conditional_use_accuracy_equality\": {\"before_reject_option_classification\": None,\n",
    "                                  \"after_reject_option_classification\": None,\n",
    "                                                \"before_calibrated_eq_odds_postprocessing\": None,\n",
    "                                                 \"after_calibrated_eq_odds_postprocessing\": None}\n",
    "          }"
   ]
  },
  {
   "cell_type": "code",
   "execution_count": 10,
   "id": "68b77927-f989-4ef3-8c42-5bce7b6a661e",
   "metadata": {},
   "outputs": [],
   "source": [
    "for key, value in results.items():\n",
    "    for nes_key, nes_value in value.items():\n",
    "        if nes_key == \"before_reweighing\" or nes_key == \"after_reweighing\":\n",
    "            continue\n",
    "        results[key][nes_key] = {\"validation\": None, \"test\": None}"
   ]
  },
  {
   "cell_type": "code",
   "execution_count": 11,
   "id": "1cc1190f-43da-4e96-b779-7be8bd58739c",
   "metadata": {},
   "outputs": [
    {
     "data": {
      "text/plain": [
       "{'before_reweighing': None, 'after_reweighing': None}"
      ]
     },
     "execution_count": 11,
     "metadata": {},
     "output_type": "execute_result"
    }
   ],
   "source": [
    "results[\"mean_difference\"]"
   ]
  },
  {
   "cell_type": "markdown",
   "id": "9c644554-520e-42f4-b595-79c8394f499f",
   "metadata": {},
   "source": [
    "##### i. Mean difference <br> ii. Disparate Ratio without using CLassifier"
   ]
  },
  {
   "cell_type": "code",
   "execution_count": 12,
   "id": "3d0806e4-5254-4277-be3e-b8c72304c7c7",
   "metadata": {},
   "outputs": [
    {
     "data": {
      "text/plain": [
       "{'before_reweighing': None, 'after_reweighing': None}"
      ]
     },
     "execution_count": 12,
     "metadata": {},
     "output_type": "execute_result"
    }
   ],
   "source": [
    "results[\"mean_difference\"]"
   ]
  },
  {
   "cell_type": "code",
   "execution_count": 13,
   "id": "9c02e90e-8405-4d68-adb5-353a81bb9409",
   "metadata": {},
   "outputs": [],
   "source": [
    "results[\"mean_difference\"][\"before_reweighing\"]"
   ]
  },
  {
   "cell_type": "code",
   "execution_count": 14,
   "id": "f755e121-61e3-47c8-bce9-5cee5086be96",
   "metadata": {},
   "outputs": [
    {
     "data": {
      "text/markdown": [
       "#### Original training dataset"
      ],
      "text/plain": [
       "<IPython.core.display.Markdown object>"
      ]
     },
     "metadata": {},
     "output_type": "display_data"
    },
    {
     "name": "stdout",
     "output_type": "stream",
     "text": [
      "Difference in mean outcomes between unprivileged and privileged groups = -0.199110\n"
     ]
    }
   ],
   "source": [
    "metric_orig = BinaryLabelDatasetMetric(dataset_orig, \n",
    "                                             unprivileged_groups=unprivileged_groups,\n",
    "                                             privileged_groups=privileged_groups)\n",
    "#mean_diff[\"before_reweighing\"] = metric_orig_train.mean_difference()\n",
    "results[\"mean_difference\"][\"before_reweighing\"] = metric_orig.mean_difference()\n",
    "display(Markdown(\"#### Original training dataset\"))\n",
    "print(\"Difference in mean outcomes between unprivileged and privileged groups = %f\" % metric_orig.mean_difference())"
   ]
  },
  {
   "cell_type": "markdown",
   "id": "5bd58f8d-3d13-4c11-b046-f06abc361461",
   "metadata": {},
   "source": [
    "##### ii. Disparate Impact Ratio"
   ]
  },
  {
   "cell_type": "code",
   "execution_count": 15,
   "id": "52ff8438-93c2-4c63-9ab4-5bdc8ff4dfe0",
   "metadata": {},
   "outputs": [
    {
     "data": {
      "text/plain": [
       "0.3631666646822667"
      ]
     },
     "execution_count": 15,
     "metadata": {},
     "output_type": "execute_result"
    }
   ],
   "source": [
    "results[\"disparate_impact_ratio\"][\"before_reweighing\"] = metric_orig.disparate_impact()\n",
    "metric_orig.disparate_impact()"
   ]
  },
  {
   "cell_type": "markdown",
   "id": "5cdc6c09-814a-4183-8f16-0f6457cd3a67",
   "metadata": {},
   "source": [
    "### Step 4 Mitigate bias by transforming the original dataset"
   ]
  },
  {
   "cell_type": "markdown",
   "id": "f78e8734-f8a3-41c3-b615-72bbb6a8d6d3",
   "metadata": {},
   "source": [
    "# 7. Try to mitigate bias using one of the bias mitigation algorithms provided by the toolkit"
   ]
  },
  {
   "cell_type": "markdown",
   "id": "f78a942f-9ddd-4d74-b1f4-76368dec58a8",
   "metadata": {},
   "source": [
    "### Bias Mitigation Algorithm # 1: Reweighing"
   ]
  },
  {
   "cell_type": "code",
   "execution_count": 16,
   "id": "4b523d5a-b474-42bd-b27c-613c3053c222",
   "metadata": {},
   "outputs": [],
   "source": [
    "RW = Reweighing(unprivileged_groups=unprivileged_groups,\n",
    "                privileged_groups=privileged_groups)\n",
    "dataset_transf= RW.fit_transform(X)"
   ]
  },
  {
   "cell_type": "markdown",
   "id": "2f6b91eb-78fb-4697-a89e-c26925540e8a",
   "metadata": {},
   "source": [
    "##### What types of bias mitigation algorithm are available?"
   ]
  },
  {
   "cell_type": "markdown",
   "id": "de98dbe2-a0d3-46c4-b87d-986e3b499224",
   "metadata": {},
   "source": [
    "Three types of Bias Mitigation strategies:\n",
    "<ul>\n",
    "    <li>Pre-processing</li>\n",
    "    <li>In-processing</li>\n",
    "    <li>Post-processing</li>\n",
    "</ul>\n",
    "There are variety of Bias mitigation algorithms are available for each strategy, every algorithm is used to remove bias for specific metrics.In this exercise, we will apply these algorithms to mitigate Bias."
   ]
  },
  {
   "cell_type": "markdown",
   "id": "c665c152-d176-45f1-9512-d4a502332dd9",
   "metadata": {},
   "source": [
    "##### Do you see a difference between the different types of algorithms?"
   ]
  },
  {
   "cell_type": "markdown",
   "id": "6f257ce4-0f1e-44df-9aa8-90c4ac28c38d",
   "metadata": {},
   "source": [
    "Yes, some of these algorithms during pre-processing step (i.e. Reweighing), while some mitigate bias during processing and some after processing. They have a different usage and solve specific problems corresponding to different measures."
   ]
  },
  {
   "cell_type": "markdown",
   "id": "03482185-0254-4f28-8a36-81ded22a8db5",
   "metadata": {},
   "source": [
    "# 8. Compute your fairness metrics again after the mitigation step."
   ]
  },
  {
   "cell_type": "markdown",
   "id": "25f85d97-6dd7-4c8e-aeb2-51a1f63b3f26",
   "metadata": {},
   "source": [
    "##### i. Mean difference"
   ]
  },
  {
   "cell_type": "code",
   "execution_count": 17,
   "id": "fc86b410-7697-4467-8ee7-30322b3bddd2",
   "metadata": {},
   "outputs": [
    {
     "data": {
      "text/markdown": [
       "#### Transformed training dataset"
      ],
      "text/plain": [
       "<IPython.core.display.Markdown object>"
      ]
     },
     "metadata": {},
     "output_type": "display_data"
    },
    {
     "name": "stdout",
     "output_type": "stream",
     "text": [
      "Difference in mean outcomes between unprivileged and privileged groups = 0.000000\n"
     ]
    }
   ],
   "source": [
    "metric_transf = BinaryLabelDatasetMetric(dataset_transf, \n",
    "                                               unprivileged_groups=unprivileged_groups,\n",
    "                                               privileged_groups=privileged_groups)\n",
    "results[\"mean_difference\"][\"after_reweighing\"] = metric_transf.mean_difference()\n",
    "display(Markdown(\"#### Transformed training dataset\"))\n",
    "print(\"Difference in mean outcomes between unprivileged and privileged groups = %f\" % metric_transf.mean_difference())"
   ]
  },
  {
   "cell_type": "markdown",
   "id": "43968fe2-dd99-42cc-b3b3-48d023855fb5",
   "metadata": {},
   "source": [
    "##### ii. Disparate Impact after Reweighing"
   ]
  },
  {
   "cell_type": "code",
   "execution_count": 18,
   "id": "b82558b0-bcb6-4aff-9c0f-7db303c1fe6a",
   "metadata": {},
   "outputs": [
    {
     "name": "stdout",
     "output_type": "stream",
     "text": [
      "Difference in mean outcomes between unprivileged and privileged groups = 1.000000\n"
     ]
    }
   ],
   "source": [
    "results[\"disparate_impact_ratio\"][\"after_reweighing\"] = metric_transf.disparate_impact()\n",
    "print(\"Difference in mean outcomes between unprivileged and privileged groups = %f\" % metric_transf.disparate_impact())"
   ]
  },
  {
   "cell_type": "markdown",
   "id": "786764be-9955-427b-8406-540ee25148c6",
   "metadata": {},
   "source": [
    "##### <br> ii. Disparate Impact Ratio (with Disparate Impact Remover)"
   ]
  },
  {
   "cell_type": "code",
   "execution_count": 19,
   "id": "bc417b88-22a8-4a25-8b92-82d5a1f2c70e",
   "metadata": {},
   "outputs": [],
   "source": [
    "from sklearn.linear_model import LogisticRegression\n",
    "from sklearn.preprocessing import StandardScaler, MinMaxScaler\n",
    "from sklearn.metrics import accuracy_score\n",
    "from sklearn.metrics import balanced_accuracy_score"
   ]
  },
  {
   "cell_type": "code",
   "execution_count": 20,
   "id": "35ff6c5d-454e-447a-ae7c-652e7c23ed3c",
   "metadata": {},
   "outputs": [
    {
     "data": {
      "text/plain": [
       "(1.0, 0.0)"
      ]
     },
     "execution_count": 20,
     "metadata": {},
     "output_type": "execute_result"
    }
   ],
   "source": [
    "dataset_orig.favorable_label, dataset_orig.unfavorable_label"
   ]
  },
  {
   "cell_type": "code",
   "execution_count": 21,
   "id": "d78b5a41-820b-4e2c-8434-e5ce97e7525b",
   "metadata": {},
   "outputs": [
    {
     "data": {
      "text/plain": [
       "0.3631666646822667"
      ]
     },
     "execution_count": 21,
     "metadata": {},
     "output_type": "execute_result"
    }
   ],
   "source": [
    "metric_orig_new = BinaryLabelDatasetMetric(dataset_orig, unprivileged_groups=unprivileged_groups, privileged_groups=privileged_groups)\n",
    "results[\"disparate_impact_ratio\"][\"before_disparate_impact_remover\"] = metric_orig_new.disparate_impact()\n",
    "metric_orig_new.disparate_impact()"
   ]
  },
  {
   "cell_type": "markdown",
   "id": "aaa432be-98b4-482b-a322-68a07b6c0d3c",
   "metadata": {},
   "source": [
    "### Bias Mitigation Algorithm # 2: Disparate Impact Remover"
   ]
  },
  {
   "cell_type": "code",
   "execution_count": 22,
   "id": "989a79c5-d19a-4119-b730-0b21fa921037",
   "metadata": {},
   "outputs": [
    {
     "name": "stderr",
     "output_type": "stream",
     "text": [
      "WARNING:root:Missing Data: 2809 rows removed from AdultDataset.\n"
     ]
    }
   ],
   "source": [
    "ad = AdultDataset(\n",
    "protected_attribute_names = ['sex'],\n",
    "privileged_classes = [['Male']], features_to_drop=['native-country', 'race', 'education', 'relationship', 'marital-status'])"
   ]
  },
  {
   "cell_type": "code",
   "execution_count": 23,
   "id": "9dc8e6e0-06a3-4b5a-98ab-92a9eaa62100",
   "metadata": {},
   "outputs": [],
   "source": [
    "from tqdm import tqdm"
   ]
  },
  {
   "cell_type": "code",
   "execution_count": 24,
   "id": "88c9fdbd-6e35-4980-aedb-8bcfa24594e7",
   "metadata": {},
   "outputs": [],
   "source": [
    "import matplotlib.pyplot as plt\n",
    "DIs = []\n",
    "def disparate_impact_remover(ad):\n",
    "    scaler = MinMaxScaler(copy=False)\n",
    "    \n",
    "    test, train = ad.split([16281])\n",
    "    train.features = scaler.fit_transform(train.features)\n",
    "    test.features = scaler.fit_transform(test.features)\n",
    "    index = train.feature_names.index(\"sex\")\n",
    "    \n",
    "    for level in tqdm(np.linspace(0., 1., 11)):\n",
    "        di = DisparateImpactRemover(repair_level=level)\n",
    "        train_repd = di.fit_transform(train)\n",
    "        test_repd = di.fit_transform(test)\n",
    "        X_train = np.delete(train_repd.features, index, axis=1)\n",
    "        X_test = np.delete(test_repd.features, index, axis=1)\n",
    "        y_train = train_repd.labels.ravel()\n",
    "        lr = LogisticRegression(class_weight='balanced', solver='liblinear')\n",
    "        lr.fit(X_train, y_train)\n",
    "        test_repd_pred = test_repd.copy()\n",
    "        test_repd_pred.labels = lr.predict(X_test)\n",
    "        cm = BinaryLabelDatasetMetric(test_repd_pred, privileged_groups=privileged_groups, unprivileged_groups=unprivileged_groups)\n",
    "        DIs.append(cm.disparate_impact())\n",
    "    return np.mean(DIs)"
   ]
  },
  {
   "cell_type": "code",
   "execution_count": 25,
   "id": "60bef3fa-a8de-4d17-9bfe-c7e0fd078da4",
   "metadata": {},
   "outputs": [
    {
     "name": "stderr",
     "output_type": "stream",
     "text": [
      "100%|██████████████████████████████████████████████████████████████████████████████████| 11/11 [02:03<00:00, 11.22s/it]\n"
     ]
    },
    {
     "data": {
      "text/plain": [
       "0.7000620570902111"
      ]
     },
     "execution_count": 25,
     "metadata": {},
     "output_type": "execute_result"
    }
   ],
   "source": [
    "disparate_impact_ratio = disparate_impact_remover(ad)\n",
    "results[\"disparate_impact_ratio\"][\"after_disparate_impact_remover\"] = disparate_impact_ratio\n",
    "disparate_impact_ratio"
   ]
  },
  {
   "cell_type": "code",
   "execution_count": 26,
   "id": "c5dd9d1d-3356-466b-b940-589371e425fc",
   "metadata": {},
   "outputs": [
    {
     "data": {
      "image/png": "[encoded data removed]",
      "text/plain": [
       "<Figure size 432x288 with 1 Axes>"
      ]
     },
     "metadata": {
      "needs_background": "light"
     },
     "output_type": "display_data"
    }
   ],
   "source": [
    "%matplotlib inline\n",
    "plt.plot(np.linspace(0, 1, 11), DIs, marker='o')\n",
    "plt.plot([0, 1], [1, 1], 'g')\n",
    "plt.plot([0, 1], [0.7, 0.7], 'r')\n",
    "plt.ylim([0.4, 1.2])\n",
    "plt.ylabel('Disparate Impact (DI)')\n",
    "plt.xlabel('repair level')\n",
    "plt.show()"
   ]
  },
  {
   "cell_type": "markdown",
   "id": "6976b9f6-d44e-43eb-b5d5-a53bfb45d387",
   "metadata": {},
   "source": [
    "##### ii. Disparate Impact Ratio (with other Bias Mitigation Algorithms) <br>  iii. Balanced Accuracy <br> iv. Equalized Odds <br> v. Average Odds Difference <br> v. Conditional Use Accuracy Equality"
   ]
  },
  {
   "cell_type": "markdown",
   "id": "872c306f-abea-4b01-9e86-de47f624bc25",
   "metadata": {},
   "source": [
    "We will compute these values simultaneously."
   ]
  },
  {
   "cell_type": "markdown",
   "id": "5ee05ed6-92b1-4a80-aa02-f3e5916a488d",
   "metadata": {},
   "source": [
    "### Splitting the dataset into Train, Validation and Test sets"
   ]
  },
  {
   "cell_type": "code",
   "execution_count": 27,
   "id": "3c2b1090-761f-4e02-a4cb-72cdfcd2a894",
   "metadata": {},
   "outputs": [],
   "source": [
    "dataset_orig_train, dataset_orig_vt = dataset_orig.split([0.7], shuffle=True)\n",
    "dataset_orig_val, dataset_orig_test = dataset_orig_vt.split([0.5], shuffle=True)"
   ]
  },
  {
   "cell_type": "code",
   "execution_count": null,
   "id": "e85c29ca-8a51-4292-badb-f6eef696a493",
   "metadata": {},
   "outputs": [],
   "source": []
  },
  {
   "cell_type": "code",
   "execution_count": 28,
   "id": "e296c82e-0c39-45f2-acba-787408c4a203",
   "metadata": {},
   "outputs": [],
   "source": [
    "#Train classifier on original data\n",
    "def train_classifier(dataset_orig_train):\n",
    "    #Logistic Regression\n",
    "    global scale_orig\n",
    "    scale_orig = StandardScaler()\n",
    "    X_train = scale_orig.fit_transform(dataset_orig_train.features)\n",
    "    y_train = dataset_orig_train.labels.ravel()\n",
    "    w_train = dataset_orig_train.instance_weights.ravel()\n",
    "    \n",
    "    lr = LogisticRegression()\n",
    "    lr.fit(X_train, y_train, sample_weight=dataset_orig_train.instance_weights)\n",
    "    y_train_predict = lr.predict(X_train)\n",
    "    \n",
    "    # positive class index\n",
    "    pos_ind = np.where(lr.classes_ == dataset_orig_train.favorable_label)[0][0]\n",
    "    dataset_orig_train_pred = dataset_orig_train.copy()\n",
    "    dataset_orig_train_pred.labels = y_train_predict\n",
    "    return lr, dataset_orig_train_pred, pos_ind"
   ]
  },
  {
   "cell_type": "code",
   "execution_count": 29,
   "id": "bf8c2413-5cf7-42c5-9da3-d66b764da941",
   "metadata": {},
   "outputs": [],
   "source": [
    "lr, dataset_orig_train_pred, pos_ind = train_classifier(dataset_orig_train)"
   ]
  },
  {
   "cell_type": "code",
   "execution_count": 30,
   "id": "1b612d62-c978-46a1-abc1-d2e3a7fda7d8",
   "metadata": {},
   "outputs": [],
   "source": [
    "# Obtain scores for original validation and test sets\n",
    "def calculate_scores(dataset_orig_val, dataset_orig_test, classifier, pos_ind):\n",
    "    dataset_orig_val_pred = dataset_orig_val.copy(deepcopy=True)\n",
    "    X_val = scale_orig.transform(dataset_orig_val_pred.features)\n",
    "    y_val = dataset_orig_val_pred.labels\n",
    "    dataset_orig_val_pred.scores = classifier.predict_proba(X_val)[:,pos_ind].reshape(-1,1)\n",
    "\n",
    "    dataset_orig_test_pred = dataset_orig_test.copy(deepcopy=True)\n",
    "    X_test = scale_orig.transform(dataset_orig_test_pred.features)\n",
    "    y_test = dataset_orig_test_pred.labels\n",
    "    dataset_orig_test_pred.scores = classifier.predict_proba(X_test)[:,pos_ind].reshape(-1,1)\n",
    "    return (dataset_orig_val_pred, dataset_orig_test_pred), (X_val, y_val), (X_test, y_test)"
   ]
  },
  {
   "cell_type": "code",
   "execution_count": 31,
   "id": "3957ce54-0ff1-4f45-b8db-acc9e39aaff7",
   "metadata": {},
   "outputs": [],
   "source": [
    "(dataset_orig_val_pred, dataset_orig_test_pred), (X_val, y_val), (X_test, y_test) = calculate_scores(dataset_orig_val, dataset_orig_test, lr, pos_ind)"
   ]
  },
  {
   "cell_type": "code",
   "execution_count": 32,
   "id": "155ef56f-8440-487e-99a9-e411a4b09391",
   "metadata": {},
   "outputs": [],
   "source": [
    "# Find the optimal classification threshold from the validation set\n",
    "def find_optimal_clasific_thresh(dataset_orig_val, dataset_orig_val_pred):\n",
    "    num_thresh = 100\n",
    "    ba_arr = np.zeros(num_thresh)\n",
    "    class_thresh_arr = np.linspace(0.01, 0.99, num_thresh)\n",
    "    \n",
    "    for idx, class_thresh in enumerate(class_thresh_arr):\n",
    "        fav_inds = dataset_orig_val_pred.scores > class_thresh\n",
    "        #print(fav_inds[:5], dataset_orig_val_pred.scores[:5], class_thresh)\n",
    "        dataset_orig_val_pred.labels[fav_inds] = dataset_orig_val_pred.favorable_label\n",
    "        dataset_orig_val_pred.labels[~fav_inds] = dataset_orig_val_pred.unfavorable_label\n",
    "        #print(dataset_orig_val_pred.labels)\n",
    "        \n",
    "        classified_metric_orig_val = ClassificationMetric(dataset_orig_val, dataset_orig_val_pred, unprivileged_groups=unprivileged_groups,\n",
    "                                             privileged_groups=privileged_groups)\n",
    "        \n",
    "        ba_arr[idx] = 0.5*(classified_metric_orig_val.true_positive_rate() + classified_metric_orig_val.true_negative_rate())\n",
    "    \n",
    "    best_ind = np.where(ba_arr == np.max(ba_arr))[0][0]\n",
    "    best_class_thresh = class_thresh_arr[best_ind]\n",
    "    print(\"Best balanced accuracy (no reweighing) = %.4f\" % np.max(ba_arr))\n",
    "    print(\"Optimal classification threshold (no reweighing) = %.4f\" % best_class_thresh)\n",
    "    return best_class_thresh, class_thresh_arr"
   ]
  },
  {
   "cell_type": "code",
   "execution_count": 33,
   "id": "75fc0536-5761-4f0a-a7b3-6e55d6deb7fd",
   "metadata": {},
   "outputs": [
    {
     "name": "stdout",
     "output_type": "stream",
     "text": [
      "Best balanced accuracy (no reweighing) = 0.7698\n",
      "Optimal classification threshold (no reweighing) = 0.2179\n"
     ]
    }
   ],
   "source": [
    "best_class_thresh, class_thresh_arr = find_optimal_clasific_thresh(dataset_orig_val, dataset_orig_val_pred)"
   ]
  },
  {
   "cell_type": "code",
   "execution_count": 34,
   "id": "e6af21f5-15e7-43e5-a5d0-1037fbee43de",
   "metadata": {},
   "outputs": [
    {
     "data": {
      "text/plain": [
       "0.21787878787878787"
      ]
     },
     "execution_count": 34,
     "metadata": {},
     "output_type": "execute_result"
    }
   ],
   "source": [
    "best_class_thresh"
   ]
  },
  {
   "cell_type": "code",
   "execution_count": 35,
   "id": "55f02663-a8b8-4b2d-acb5-1248ae9d58f6",
   "metadata": {},
   "outputs": [],
   "source": [
    "data_train_new = dataset_orig_train.copy(deepcopy=True)"
   ]
  },
  {
   "cell_type": "code",
   "execution_count": null,
   "id": "e9653645-5cb3-4678-a57e-e8f0120cdd55",
   "metadata": {},
   "outputs": [],
   "source": []
  },
  {
   "cell_type": "markdown",
   "id": "6fa64e8e-4ec0-4a89-9fc1-1ffa635f57eb",
   "metadata": {},
   "source": [
    "### Bias Mitigation Algorithm # 3: Reject Option Class Classification"
   ]
  },
  {
   "cell_type": "code",
   "execution_count": 36,
   "id": "a5186f45-29d4-4a15-b93b-0ee4831dd8aa",
   "metadata": {},
   "outputs": [],
   "source": [
    "ROC = RejectOptionClassification(unprivileged_groups=unprivileged_groups, \n",
    "                                 privileged_groups=privileged_groups, \n",
    "                                 low_class_thresh=0.01, high_class_thresh=0.99,\n",
    "                                  num_class_thresh=100, num_ROC_margin=50,\n",
    "                                  metric_name=\"Statistical parity difference\",\n",
    "                                  metric_ub=0.05, metric_lb=-0.05)\n",
    "ROC = ROC.fit(dataset_orig_val, dataset_orig_val_pred)"
   ]
  },
  {
   "cell_type": "code",
   "execution_count": 37,
   "id": "38cada3d-3322-4137-ab72-cc7c25ebedb8",
   "metadata": {},
   "outputs": [
    {
     "name": "stdout",
     "output_type": "stream",
     "text": [
      "Optimal classification threshold (with fairness constraints) = 0.1981\n",
      "Optimal ROC margin = 0.1091\n"
     ]
    }
   ],
   "source": [
    "print(\"Optimal classification threshold (with fairness constraints) = %.4f\" % ROC.classification_threshold)\n",
    "print(\"Optimal ROC margin = %.4f\" % ROC.ROC_margin)"
   ]
  },
  {
   "cell_type": "code",
   "execution_count": 38,
   "id": "cb4e8bc7-5c36-45c9-9042-aa4cc8de2e9b",
   "metadata": {},
   "outputs": [],
   "source": [
    "from common_utils import compute_metrics\n",
    "def compute_results(data, data_pred, clf, results, key, set_name = \"validation\"):\n",
    "    \"\"\"\n",
    "    set_name-> validation or test only.\n",
    "    clf-> classifier name\n",
    "    \"\"\"\n",
    "    # Metrics for the test set\n",
    "    fav_inds = data_pred.scores > best_class_thresh\n",
    "    data_pred.labels[fav_inds] = data_pred.favorable_label\n",
    "    data_pred.labels[~fav_inds] = data_pred.unfavorable_label\n",
    "    \n",
    "    display(Markdown(\"#### \" + str(set_name) + \" set\"))\n",
    "    display(Markdown(\"##### Raw predictions - No fairness constraints, only maximizing balanced accuracy\"))\n",
    "\n",
    "    metric_valid_bef = compute_metrics(data, data_pred, \n",
    "                unprivileged_groups, privileged_groups)\n",
    "\n",
    "    results[\"balanced_accuracy\"][\"before_\" + str(key)][set_name] = metric_valid_bef[\"Balanced accuracy\"]\n",
    "    results[\"disparate_impact_ratio\"][\"before_\" + str(key)][set_name] = metric_valid_bef[\"Disparate impact\"]\n",
    "    results[\"average_odds_difference\"][\"before_\" + str(key)][set_name] = metric_valid_bef[\"Average odds difference\"]\n",
    "    results[\"conditional_use_accuracy_equality\"][\"before_\" + str(key)][set_name] = metric_valid_bef[\"Conditional Use Accuracy Equality\"]\n",
    "    results[\"statistical_parity_difference\"][\"before_\" + str(key)][set_name] = metric_valid_bef[\"Statistical parity difference\"]\n",
    "    \n",
    "    # Transform the validation set\n",
    "    data_trans_pred = clf.predict(data_pred)\n",
    "    \n",
    "    display(Markdown(\"#### \" + str(set_name) + \" set\"))\n",
    "    display(Markdown(\"##### Transformed predictions - With fairness constraints\"))\n",
    "    metric_val_aft = compute_metrics(data, data_trans_pred, unprivileged_groups, privileged_groups)\n",
    "    \n",
    "    results[\"balanced_accuracy\"][\"after_\" + str(key)][set_name] = metric_val_aft[\"Balanced accuracy\"]\n",
    "    results[\"disparate_impact_ratio\"][\"after_\" + str(key)][set_name] = metric_val_aft[\"Disparate impact\"]\n",
    "    results[\"average_odds_difference\"][\"after_\" + str(key)][set_name] = metric_val_aft[\"Average odds difference\"]\n",
    "    results[\"conditional_use_accuracy_equality\"][\"after_\" + str(key)][set_name] = metric_val_aft[\"Conditional Use Accuracy Equality\"]\n",
    "    results[\"statistical_parity_difference\"][\"after_\" + str(key)][set_name] = metric_val_aft[\"Statistical parity difference\"]\n",
    "    return results"
   ]
  },
  {
   "cell_type": "code",
   "execution_count": null,
   "id": "aba74c29-86f6-4528-8af2-a3c086c9af93",
   "metadata": {},
   "outputs": [],
   "source": []
  },
  {
   "cell_type": "code",
   "execution_count": null,
   "id": "bf23a2bb-6f5b-4ae8-8dc3-bca8276b969d",
   "metadata": {},
   "outputs": [],
   "source": []
  },
  {
   "cell_type": "code",
   "execution_count": null,
   "id": "68c6a20d-057c-4784-a6c2-4c3274ce5d75",
   "metadata": {},
   "outputs": [],
   "source": []
  },
  {
   "cell_type": "code",
   "execution_count": 39,
   "id": "816f46c9-92e7-4c56-93eb-fdfb3b124828",
   "metadata": {},
   "outputs": [
    {
     "data": {
      "text/markdown": [
       "#### test set"
      ],
      "text/plain": [
       "<IPython.core.display.Markdown object>"
      ]
     },
     "metadata": {},
     "output_type": "display_data"
    },
    {
     "data": {
      "text/markdown": [
       "##### Raw predictions - No fairness constraints, only maximizing balanced accuracy"
      ],
      "text/plain": [
       "<IPython.core.display.Markdown object>"
      ]
     },
     "metadata": {},
     "output_type": "display_data"
    },
    {
     "name": "stdout",
     "output_type": "stream",
     "text": [
      "Balanced accuracy = 0.7587\n",
      "Statistical parity difference = -0.3690\n",
      "Disparate impact = 0.2661\n",
      "Average odds difference = -0.3207\n",
      "Equal opportunity difference = -0.3739\n",
      "Theil index = 0.1074\n",
      "Conditional Use Accuracy Equality = 0.9082\n"
     ]
    },
    {
     "data": {
      "text/markdown": [
       "#### test set"
      ],
      "text/plain": [
       "<IPython.core.display.Markdown object>"
      ]
     },
     "metadata": {},
     "output_type": "display_data"
    },
    {
     "data": {
      "text/markdown": [
       "##### Transformed predictions - With fairness constraints"
      ],
      "text/plain": [
       "<IPython.core.display.Markdown object>"
      ]
     },
     "metadata": {},
     "output_type": "display_data"
    },
    {
     "name": "stdout",
     "output_type": "stream",
     "text": [
      "Balanced accuracy = 0.7324\n",
      "Statistical parity difference = -0.0354\n",
      "Disparate impact = 0.9081\n",
      "Average odds difference = 0.0268\n",
      "Equal opportunity difference = -0.0118\n",
      "Theil index = 0.1212\n",
      "Conditional Use Accuracy Equality = 0.8900\n"
     ]
    },
    {
     "data": {
      "text/markdown": [
       "#### validation set"
      ],
      "text/plain": [
       "<IPython.core.display.Markdown object>"
      ]
     },
     "metadata": {},
     "output_type": "display_data"
    },
    {
     "data": {
      "text/markdown": [
       "##### Raw predictions - No fairness constraints, only maximizing balanced accuracy"
      ],
      "text/plain": [
       "<IPython.core.display.Markdown object>"
      ]
     },
     "metadata": {},
     "output_type": "display_data"
    },
    {
     "name": "stdout",
     "output_type": "stream",
     "text": [
      "Balanced accuracy = 0.7698\n",
      "Statistical parity difference = -0.3751\n",
      "Disparate impact = 0.2604\n",
      "Average odds difference = -0.3068\n",
      "Equal opportunity difference = -0.3459\n",
      "Theil index = 0.1032\n",
      "Conditional Use Accuracy Equality = 0.9131\n"
     ]
    },
    {
     "data": {
      "text/markdown": [
       "#### validation set"
      ],
      "text/plain": [
       "<IPython.core.display.Markdown object>"
      ]
     },
     "metadata": {},
     "output_type": "display_data"
    },
    {
     "data": {
      "text/markdown": [
       "##### Transformed predictions - With fairness constraints"
      ],
      "text/plain": [
       "<IPython.core.display.Markdown object>"
      ]
     },
     "metadata": {},
     "output_type": "display_data"
    },
    {
     "name": "stdout",
     "output_type": "stream",
     "text": [
      "Balanced accuracy = 0.7409\n",
      "Statistical parity difference = -0.0490\n",
      "Disparate impact = 0.8757\n",
      "Average odds difference = 0.0331\n",
      "Equal opportunity difference = 0.0084\n",
      "Theil index = 0.1176\n",
      "Conditional Use Accuracy Equality = 0.8941\n"
     ]
    }
   ],
   "source": [
    "key = \"reject_option_classification\"\n",
    "results = compute_results(dataset_orig_test, dataset_orig_test_pred, ROC, results, key, \"test\")\n",
    "results = compute_results(dataset_orig_val, dataset_orig_val_pred, ROC, results, key, \"validation\")"
   ]
  },
  {
   "cell_type": "code",
   "execution_count": null,
   "id": "bc787647-db5d-494c-8bc8-4c35cf7d8aea",
   "metadata": {},
   "outputs": [],
   "source": []
  },
  {
   "cell_type": "code",
   "execution_count": 40,
   "id": "6768b113-886a-44d1-b81f-4c809c4149c5",
   "metadata": {},
   "outputs": [
    {
     "data": {
      "text/plain": [
       "{'mean_difference': {'before_reweighing': -0.19911019753072282,\n",
       "  'after_reweighing': 5.551115123125783e-17},\n",
       " 'disparate_impact_ratio': {'before_reweighing': 0.3631666646822667,\n",
       "  'after_reweighing': 1.0000000000000002,\n",
       "  'before_disparate_impact_remover': 0.3631666646822667,\n",
       "  'after_disparate_impact_remover': 0.7000620570902111,\n",
       "  'before_reject_option_classification': {'validation': 0.2604352651643102,\n",
       "   'test': 0.2660801329324019},\n",
       "  'after_reject_option_classification': {'validation': 0.8756599294180772,\n",
       "   'test': 0.908118054077203},\n",
       "  'before_calibrated_eq_odds_postprocessing': {'validation': None,\n",
       "   'test': None},\n",
       "  'after_calibrated_eq_odds_postprocessing': {'validation': None,\n",
       "   'test': None},\n",
       "  'no_adversarial_debiasing': {'validation': None, 'test': None},\n",
       "  'adversarial_debiasing': {'validation': None, 'test': None}},\n",
       " 'balanced_accuracy': {'before_calibrated_eq_odds_postprocessing': {'validation': None,\n",
       "   'test': None},\n",
       "  'after_calibrated_eq_odds_postprocessing': {'validation': None,\n",
       "   'test': None},\n",
       "  'before_reject_option_classification': {'validation': 0.769789602645629,\n",
       "   'test': 0.758687408499511},\n",
       "  'after_reject_option_classification': {'validation': 0.7408848822181486,\n",
       "   'test': 0.7323787858572981},\n",
       "  'no_adversarial_debiasing': {'validation': None, 'test': None},\n",
       "  'adversarial_debiasing': {'validation': None, 'test': None}},\n",
       " 'average_odds_difference': {'before_reject_option_classification': {'validation': -0.30684459455419155,\n",
       "   'test': -0.3207258325272865},\n",
       "  'after_reject_option_classification': {'validation': 0.03311988465745544,\n",
       "   'test': 0.02675032522763593},\n",
       "  'before_calibrated_eq_odds_postprocessing': {'validation': None,\n",
       "   'test': None},\n",
       "  'after_calibrated_eq_odds_postprocessing': {'validation': None,\n",
       "   'test': None},\n",
       "  'no_adversarial_debiasing': {'validation': None, 'test': None},\n",
       "  'adversarial_debiasing': {'validation': None, 'test': None}},\n",
       " 'statistical_parity_difference': {'before_reject_option_classification': {'validation': -0.3750581210385924,\n",
       "   'test': -0.36900296528366605},\n",
       "  'after_reject_option_classification': {'validation': -0.04897267803723804,\n",
       "   'test': -0.03535585799213409},\n",
       "  'before_calibrated_eq_odds_postprocessing': {'validation': None,\n",
       "   'test': None},\n",
       "  'after_calibrated_eq_odds_postprocessing': {'validation': None,\n",
       "   'test': None}},\n",
       " 'conditional_use_accuracy_equality': {'before_reject_option_classification': {'validation': 0.913104744011273,\n",
       "   'test': 0.9081728511038046},\n",
       "  'after_reject_option_classification': {'validation': 0.8941121712822899,\n",
       "   'test': 0.8899930667899237},\n",
       "  'before_calibrated_eq_odds_postprocessing': {'validation': None,\n",
       "   'test': None},\n",
       "  'after_calibrated_eq_odds_postprocessing': {'validation': None,\n",
       "   'test': None}}}"
      ]
     },
     "execution_count": 40,
     "metadata": {},
     "output_type": "execute_result"
    }
   ],
   "source": [
    "results"
   ]
  },
  {
   "cell_type": "markdown",
   "id": "bf8292ea-10e3-4334-b432-ff9cc72cfc8a",
   "metadata": {},
   "source": [
    "### Bias Mitigation Algorithm # 4: Calibrated Equilized Odds Post-processing"
   ]
  },
  {
   "cell_type": "code",
   "execution_count": 41,
   "id": "ca9daa64-94af-4dfd-8002-49b3070f83c3",
   "metadata": {},
   "outputs": [],
   "source": [
    "cost_constraint = \"fnr\" # \"fnr\", \"fpr\", \"weighted\"\n",
    "randseed = 5\n",
    "key = \"calibrated_eq_odds_postprocessing\""
   ]
  },
  {
   "cell_type": "code",
   "execution_count": 42,
   "id": "2e383d41-582c-4f4d-a906-fc41e6830985",
   "metadata": {},
   "outputs": [
    {
     "data": {
      "text/plain": [
       "'calibrated_eq_odds_postprocessing'"
      ]
     },
     "execution_count": 42,
     "metadata": {},
     "output_type": "execute_result"
    }
   ],
   "source": [
    "key"
   ]
  },
  {
   "cell_type": "code",
   "execution_count": 43,
   "id": "1a4233d6-8109-47a0-a26a-5a21fbf4520a",
   "metadata": {},
   "outputs": [],
   "source": [
    "# Odds equalizing post-processing algorithm\n",
    "# Learn parameters to equalize odds and apply to create a new dataset\n",
    "\n",
    "ceop = CalibratedEqOddsPostprocessing(privileged_groups = privileged_groups,\n",
    "                                     unprivileged_groups = unprivileged_groups,\n",
    "                                     cost_constraint=cost_constraint,\n",
    "                                     seed=randseed)\n",
    "ceop = ceop.fit(dataset_orig_val, dataset_orig_val_pred)"
   ]
  },
  {
   "cell_type": "code",
   "execution_count": 44,
   "id": "51203756-4662-40f0-8bf9-683bc1435bfa",
   "metadata": {},
   "outputs": [
    {
     "data": {
      "text/markdown": [
       "#### validation set"
      ],
      "text/plain": [
       "<IPython.core.display.Markdown object>"
      ]
     },
     "metadata": {},
     "output_type": "display_data"
    },
    {
     "data": {
      "text/markdown": [
       "##### Raw predictions - No fairness constraints, only maximizing balanced accuracy"
      ],
      "text/plain": [
       "<IPython.core.display.Markdown object>"
      ]
     },
     "metadata": {},
     "output_type": "display_data"
    },
    {
     "name": "stdout",
     "output_type": "stream",
     "text": [
      "Balanced accuracy = 0.7698\n",
      "Statistical parity difference = -0.3751\n",
      "Disparate impact = 0.2604\n",
      "Average odds difference = -0.3068\n",
      "Equal opportunity difference = -0.3459\n",
      "Theil index = 0.1032\n",
      "Conditional Use Accuracy Equality = 0.9131\n"
     ]
    },
    {
     "data": {
      "text/markdown": [
       "#### validation set"
      ],
      "text/plain": [
       "<IPython.core.display.Markdown object>"
      ]
     },
     "metadata": {},
     "output_type": "display_data"
    },
    {
     "data": {
      "text/markdown": [
       "##### Transformed predictions - With fairness constraints"
      ],
      "text/plain": [
       "<IPython.core.display.Markdown object>"
      ]
     },
     "metadata": {},
     "output_type": "display_data"
    },
    {
     "name": "stdout",
     "output_type": "stream",
     "text": [
      "Balanced accuracy = 0.5136\n",
      "Statistical parity difference = 0.0353\n",
      "Disparate impact = 164.4168\n",
      "Average odds difference = 0.1109\n",
      "Equal opportunity difference = 0.2097\n",
      "Theil index = 0.2811\n",
      "Conditional Use Accuracy Equality = 0.7535\n"
     ]
    },
    {
     "data": {
      "text/markdown": [
       "#### test set"
      ],
      "text/plain": [
       "<IPython.core.display.Markdown object>"
      ]
     },
     "metadata": {},
     "output_type": "display_data"
    },
    {
     "data": {
      "text/markdown": [
       "##### Raw predictions - No fairness constraints, only maximizing balanced accuracy"
      ],
      "text/plain": [
       "<IPython.core.display.Markdown object>"
      ]
     },
     "metadata": {},
     "output_type": "display_data"
    },
    {
     "name": "stdout",
     "output_type": "stream",
     "text": [
      "Balanced accuracy = 0.7587\n",
      "Statistical parity difference = -0.3690\n",
      "Disparate impact = 0.2661\n",
      "Average odds difference = -0.3207\n",
      "Equal opportunity difference = -0.3739\n",
      "Theil index = 0.1074\n",
      "Conditional Use Accuracy Equality = 0.9082\n"
     ]
    },
    {
     "data": {
      "text/markdown": [
       "#### test set"
      ],
      "text/plain": [
       "<IPython.core.display.Markdown object>"
      ]
     },
     "metadata": {},
     "output_type": "display_data"
    },
    {
     "data": {
      "text/markdown": [
       "##### Transformed predictions - With fairness constraints"
      ],
      "text/plain": [
       "<IPython.core.display.Markdown object>"
      ]
     },
     "metadata": {},
     "output_type": "display_data"
    },
    {
     "name": "stdout",
     "output_type": "stream",
     "text": [
      "Balanced accuracy = 0.5152\n",
      "Statistical parity difference = 0.0340\n",
      "Disparate impact = inf\n",
      "Average odds difference = 0.1100\n",
      "Equal opportunity difference = 0.2109\n",
      "Theil index = 0.2759\n",
      "Conditional Use Accuracy Equality = 0.7572\n"
     ]
    },
    {
     "name": "stderr",
     "output_type": "stream",
     "text": [
      "divide by zero encountered in double_scalars\n"
     ]
    }
   ],
   "source": [
    "results = compute_results(dataset_orig_val, dataset_orig_val_pred, ceop, results, key, \"validation\")\n",
    "results = compute_results(dataset_orig_test, dataset_orig_test_pred, ceop, results, key, \"test\")"
   ]
  },
  {
   "cell_type": "code",
   "execution_count": null,
   "id": "fad87287-a9f8-4972-b502-fd7d6c8dcd21",
   "metadata": {},
   "outputs": [],
   "source": []
  },
  {
   "cell_type": "code",
   "execution_count": null,
   "id": "6d39b78b-e9aa-4ff4-88f6-3ad3d04f9b56",
   "metadata": {},
   "outputs": [],
   "source": []
  },
  {
   "cell_type": "markdown",
   "id": "ed715464-2dcf-460d-8570-21706869cc7f",
   "metadata": {},
   "source": [
    "### Bias Mitigation Algorithm # 5: Adversarial Debiasing"
   ]
  },
  {
   "cell_type": "code",
   "execution_count": 45,
   "id": "571b0b15-bf33-4188-bba9-29f66d99432b",
   "metadata": {},
   "outputs": [],
   "source": [
    "import tensorflow.compat.v1 as tf\n",
    "tf.disable_eager_execution()"
   ]
  },
  {
   "cell_type": "markdown",
   "id": "4f7856d4-1e02-49b9-aa56-99250d98f4b0",
   "metadata": {},
   "source": [
    "### Learn plain classifier without debiasing"
   ]
  },
  {
   "cell_type": "code",
   "execution_count": 46,
   "id": "eac4e091-cca6-46a0-8f7b-e1ee54527b48",
   "metadata": {},
   "outputs": [],
   "source": [
    "sess = tf.Session()\n",
    "plain_model = AdversarialDebiasing(privileged_groups = privileged_groups,\n",
    "                          unprivileged_groups = unprivileged_groups,\n",
    "                          scope_name='plain_classifier',\n",
    "                          debias=False,\n",
    "                          sess=sess)"
   ]
  },
  {
   "cell_type": "code",
   "execution_count": 47,
   "id": "f994f3db-5185-4cb4-83fa-6b872ece2473",
   "metadata": {},
   "outputs": [
    {
     "name": "stdout",
     "output_type": "stream",
     "text": [
      "WARNING:tensorflow:From C:\\Users\\Muhammad Kaleemullah\\Learn\\HCDS\\AIF360\\lib\\site-packages\\tensorflow\\python\\util\\dispatch.py:1082: calling dropout (from tensorflow.python.ops.nn_ops) with keep_prob is deprecated and will be removed in a future version.\n",
      "Instructions for updating:\n",
      "Please use `rate` instead of `keep_prob`. Rate should be set to `rate = 1 - keep_prob`.\n"
     ]
    },
    {
     "name": "stderr",
     "output_type": "stream",
     "text": [
      "WARNING:tensorflow:From C:\\Users\\Muhammad Kaleemullah\\Learn\\HCDS\\AIF360\\lib\\site-packages\\tensorflow\\python\\util\\dispatch.py:1082: calling dropout (from tensorflow.python.ops.nn_ops) with keep_prob is deprecated and will be removed in a future version.\n",
      "Instructions for updating:\n",
      "Please use `rate` instead of `keep_prob`. Rate should be set to `rate = 1 - keep_prob`.\n"
     ]
    },
    {
     "name": "stdout",
     "output_type": "stream",
     "text": [
      "epoch 0; iter: 0; batch classifier loss: 9717.597656\n",
      "epoch 0; iter: 200; batch classifier loss: 1683.914307\n",
      "epoch 1; iter: 0; batch classifier loss: 1020.804810\n",
      "epoch 1; iter: 200; batch classifier loss: 506.089935\n",
      "epoch 2; iter: 0; batch classifier loss: 371.355499\n",
      "epoch 2; iter: 200; batch classifier loss: 58.479904\n",
      "epoch 3; iter: 0; batch classifier loss: 21.216331\n",
      "epoch 3; iter: 200; batch classifier loss: 23.025063\n",
      "epoch 4; iter: 0; batch classifier loss: 6.952297\n",
      "epoch 4; iter: 200; batch classifier loss: 8.819536\n",
      "epoch 5; iter: 0; batch classifier loss: 33.037903\n",
      "epoch 5; iter: 200; batch classifier loss: 10.148924\n",
      "epoch 6; iter: 0; batch classifier loss: 12.987305\n",
      "epoch 6; iter: 200; batch classifier loss: 15.437355\n",
      "epoch 7; iter: 0; batch classifier loss: 19.756351\n",
      "epoch 7; iter: 200; batch classifier loss: 12.284184\n",
      "epoch 8; iter: 0; batch classifier loss: 4.045803\n",
      "epoch 8; iter: 200; batch classifier loss: 1.600029\n",
      "epoch 9; iter: 0; batch classifier loss: 2.335610\n",
      "epoch 9; iter: 200; batch classifier loss: 7.625293\n",
      "epoch 10; iter: 0; batch classifier loss: 2.182370\n",
      "epoch 10; iter: 200; batch classifier loss: 2.559530\n",
      "epoch 11; iter: 0; batch classifier loss: 2.236117\n",
      "epoch 11; iter: 200; batch classifier loss: 4.409019\n",
      "epoch 12; iter: 0; batch classifier loss: 6.754817\n",
      "epoch 12; iter: 200; batch classifier loss: 2.711848\n",
      "epoch 13; iter: 0; batch classifier loss: 1.870519\n",
      "epoch 13; iter: 200; batch classifier loss: 1.155688\n",
      "epoch 14; iter: 0; batch classifier loss: 1.793584\n",
      "epoch 14; iter: 200; batch classifier loss: 2.190674\n",
      "epoch 15; iter: 0; batch classifier loss: 0.955516\n",
      "epoch 15; iter: 200; batch classifier loss: 0.659689\n",
      "epoch 16; iter: 0; batch classifier loss: 0.965531\n",
      "epoch 16; iter: 200; batch classifier loss: 0.938168\n",
      "epoch 17; iter: 0; batch classifier loss: 0.592662\n",
      "epoch 17; iter: 200; batch classifier loss: 1.275784\n",
      "epoch 18; iter: 0; batch classifier loss: 0.957201\n",
      "epoch 18; iter: 200; batch classifier loss: 0.531131\n",
      "epoch 19; iter: 0; batch classifier loss: 0.706019\n",
      "epoch 19; iter: 200; batch classifier loss: 0.532257\n",
      "epoch 20; iter: 0; batch classifier loss: 0.658238\n",
      "epoch 20; iter: 200; batch classifier loss: 0.449639\n",
      "epoch 21; iter: 0; batch classifier loss: 0.353221\n",
      "epoch 21; iter: 200; batch classifier loss: 0.651453\n",
      "epoch 22; iter: 0; batch classifier loss: 0.443239\n",
      "epoch 22; iter: 200; batch classifier loss: 0.540544\n",
      "epoch 23; iter: 0; batch classifier loss: 0.621861\n",
      "epoch 23; iter: 200; batch classifier loss: 0.348187\n",
      "epoch 24; iter: 0; batch classifier loss: 0.614001\n",
      "epoch 24; iter: 200; batch classifier loss: 0.566307\n",
      "epoch 25; iter: 0; batch classifier loss: 0.492213\n",
      "epoch 25; iter: 200; batch classifier loss: 0.667251\n",
      "epoch 26; iter: 0; batch classifier loss: 0.579091\n",
      "epoch 26; iter: 200; batch classifier loss: 0.551905\n",
      "epoch 27; iter: 0; batch classifier loss: 0.708068\n",
      "epoch 27; iter: 200; batch classifier loss: 0.587763\n",
      "epoch 28; iter: 0; batch classifier loss: 0.503871\n",
      "epoch 28; iter: 200; batch classifier loss: 0.459592\n",
      "epoch 29; iter: 0; batch classifier loss: 0.488092\n",
      "epoch 29; iter: 200; batch classifier loss: 0.545043\n",
      "epoch 30; iter: 0; batch classifier loss: 0.530822\n",
      "epoch 30; iter: 200; batch classifier loss: 0.458210\n",
      "epoch 31; iter: 0; batch classifier loss: 0.546902\n",
      "epoch 31; iter: 200; batch classifier loss: 0.503213\n",
      "epoch 32; iter: 0; batch classifier loss: 0.452186\n",
      "epoch 32; iter: 200; batch classifier loss: 0.537277\n",
      "epoch 33; iter: 0; batch classifier loss: 0.512681\n",
      "epoch 33; iter: 200; batch classifier loss: 0.673653\n",
      "epoch 34; iter: 0; batch classifier loss: 0.443920\n",
      "epoch 34; iter: 200; batch classifier loss: 0.473099\n",
      "epoch 35; iter: 0; batch classifier loss: 0.448286\n",
      "epoch 35; iter: 200; batch classifier loss: 0.565006\n",
      "epoch 36; iter: 0; batch classifier loss: 0.491647\n",
      "epoch 36; iter: 200; batch classifier loss: 0.527439\n",
      "epoch 37; iter: 0; batch classifier loss: 0.501150\n",
      "epoch 37; iter: 200; batch classifier loss: 0.514222\n",
      "epoch 38; iter: 0; batch classifier loss: 0.491220\n",
      "epoch 38; iter: 200; batch classifier loss: 0.420328\n",
      "epoch 39; iter: 0; batch classifier loss: 0.563507\n",
      "epoch 39; iter: 200; batch classifier loss: 0.455146\n",
      "epoch 40; iter: 0; batch classifier loss: 0.523592\n",
      "epoch 40; iter: 200; batch classifier loss: 0.467854\n",
      "epoch 41; iter: 0; batch classifier loss: 0.533738\n",
      "epoch 41; iter: 200; batch classifier loss: 0.502749\n",
      "epoch 42; iter: 0; batch classifier loss: 0.470770\n",
      "epoch 42; iter: 200; batch classifier loss: 0.430686\n",
      "epoch 43; iter: 0; batch classifier loss: 0.488070\n",
      "epoch 43; iter: 200; batch classifier loss: 0.370518\n",
      "epoch 44; iter: 0; batch classifier loss: 0.371467\n",
      "epoch 44; iter: 200; batch classifier loss: 0.511223\n",
      "epoch 45; iter: 0; batch classifier loss: 0.463549\n",
      "epoch 45; iter: 200; batch classifier loss: 0.565239\n",
      "epoch 46; iter: 0; batch classifier loss: 0.453756\n",
      "epoch 46; iter: 200; batch classifier loss: 0.513347\n",
      "epoch 47; iter: 0; batch classifier loss: 0.447887\n",
      "epoch 47; iter: 200; batch classifier loss: 0.467868\n",
      "epoch 48; iter: 0; batch classifier loss: 0.392149\n",
      "epoch 48; iter: 200; batch classifier loss: 0.518212\n",
      "epoch 49; iter: 0; batch classifier loss: 0.464209\n",
      "epoch 49; iter: 200; batch classifier loss: 0.516530\n"
     ]
    },
    {
     "data": {
      "text/plain": [
       "<aif360.algorithms.inprocessing.adversarial_debiasing.AdversarialDebiasing at 0x15359559bb0>"
      ]
     },
     "execution_count": 47,
     "metadata": {},
     "output_type": "execute_result"
    }
   ],
   "source": [
    "plain_model.fit(dataset_orig_train)"
   ]
  },
  {
   "cell_type": "code",
   "execution_count": 48,
   "id": "d7d4bbd6-f368-4fdd-8434-4f1ea1d7bad3",
   "metadata": {},
   "outputs": [],
   "source": [
    "# Apply the plain model to test data\n",
    "dataset_nodebiasing_train = plain_model.predict(dataset_orig_train)\n",
    "dataset_nodebiasing_val = plain_model.predict(dataset_orig_val)\n",
    "dataset_nodebiasing_test = plain_model.predict(dataset_orig_test)"
   ]
  },
  {
   "cell_type": "markdown",
   "id": "e1a2d784-bd84-467d-8de4-604bdf4b7b38",
   "metadata": {},
   "source": [
    "##### Validation and Test data"
   ]
  },
  {
   "cell_type": "code",
   "execution_count": 49,
   "id": "19c98b37-006b-4c00-aaf4-7f5e2e7b8beb",
   "metadata": {},
   "outputs": [
    {
     "name": "stdout",
     "output_type": "stream",
     "text": [
      "Balanced accuracy = 0.6138\n",
      "Statistical parity difference = -0.0480\n",
      "Disparate impact = 0.5351\n",
      "Average odds difference = 0.0133\n",
      "Equal opportunity difference = 0.0362\n",
      "Theil index = 0.2169\n",
      "Conditional Use Accuracy Equality = 0.7953\n",
      "Balanced accuracy = 0.6119\n",
      "Statistical parity difference = -0.0593\n",
      "Disparate impact = 0.4325\n",
      "Average odds difference = -0.0158\n",
      "Equal opportunity difference = -0.0117\n",
      "Theil index = 0.2151\n",
      "Conditional Use Accuracy Equality = 0.7972\n"
     ]
    }
   ],
   "source": [
    "#For Validation Set\n",
    "metric_val_bef = compute_metrics(dataset_orig_val, dataset_nodebiasing_val, unprivileged_groups, privileged_groups)\n",
    "\n",
    "results[\"balanced_accuracy\"][\"no_adversarial_debiasing\"][\"validation\"] = metric_val_bef[\"Balanced accuracy\"]\n",
    "results[\"disparate_impact_ratio\"][\"no_adversarial_debiasing\"][\"validation\"] = metric_val_bef[\"Disparate impact\"]\n",
    "results[\"average_odds_difference\"][\"no_adversarial_debiasing\"][\"validation\"] = metric_val_bef[\"Average odds difference\"]\n",
    "\n",
    "#For Test Set\n",
    "metric_test_bef = compute_metrics(dataset_orig_test, dataset_nodebiasing_test, unprivileged_groups, privileged_groups)\n",
    "\n",
    "results[\"balanced_accuracy\"][\"no_adversarial_debiasing\"][\"test\"] = metric_test_bef[\"Balanced accuracy\"]\n",
    "results[\"disparate_impact_ratio\"][\"no_adversarial_debiasing\"][\"test\"] = metric_test_bef[\"Disparate impact\"]\n",
    "results[\"average_odds_difference\"][\"no_adversarial_debiasing\"][\"test\"] = metric_test_bef[\"Average odds difference\"]"
   ]
  },
  {
   "cell_type": "code",
   "execution_count": 50,
   "id": "b38cda87-83d3-49e9-b75e-d1edca5200b7",
   "metadata": {},
   "outputs": [
    {
     "data": {
      "text/plain": [
       "{'validation': 0.5350618068190373, 'test': 0.4324549822129314}"
      ]
     },
     "execution_count": 50,
     "metadata": {},
     "output_type": "execute_result"
    }
   ],
   "source": [
    "results[\"disparate_impact_ratio\"][\"no_adversarial_debiasing\"]"
   ]
  },
  {
   "cell_type": "markdown",
   "id": "3d1abcd7-497f-46d5-9d62-440c106bbfb8",
   "metadata": {},
   "source": [
    "### Apply in-processing algorithm Adversarial Learning"
   ]
  },
  {
   "cell_type": "code",
   "execution_count": 51,
   "id": "c21b3291-6fee-44b6-9fb8-72853a52c58f",
   "metadata": {},
   "outputs": [],
   "source": [
    "sess.close()\n",
    "tf.reset_default_graph()"
   ]
  },
  {
   "cell_type": "code",
   "execution_count": 52,
   "id": "bed1416e-6811-43c0-9692-c606d5ab02ae",
   "metadata": {},
   "outputs": [],
   "source": [
    "from sklearn.preprocessing import MinMaxScaler"
   ]
  },
  {
   "cell_type": "code",
   "execution_count": 53,
   "id": "9c254e5e-1179-43cf-8d4c-a3377ee84353",
   "metadata": {},
   "outputs": [],
   "source": [
    "min_max_scaler = MinMaxScaler()\n",
    "dataset_orig_train.features = min_max_scaler.fit_transform(dataset_orig_train.features)\n",
    "dataset_orig_test.features = min_max_scaler.transform(dataset_orig_test.features)"
   ]
  },
  {
   "cell_type": "code",
   "execution_count": 54,
   "id": "fa2f9c19-51ca-4974-a1b2-4646ead9513b",
   "metadata": {},
   "outputs": [],
   "source": [
    "sess = tf.Session()\n",
    "# Learn parameters with debias set to True\n",
    "debiased_model = AdversarialDebiasing(privileged_groups = privileged_groups,\n",
    "                          unprivileged_groups = unprivileged_groups,\n",
    "                          scope_name='debiased_classifier',\n",
    "                          debias=True,\n",
    "                          sess=sess)"
   ]
  },
  {
   "cell_type": "code",
   "execution_count": 55,
   "id": "97efa30b-e44c-46f3-975d-d40fe968ce44",
   "metadata": {},
   "outputs": [
    {
     "name": "stdout",
     "output_type": "stream",
     "text": [
      "epoch 0; iter: 0; batch classifier loss: 0.724594; batch adversarial loss: 0.622324\n",
      "epoch 0; iter: 200; batch classifier loss: 0.499030; batch adversarial loss: 0.700274\n",
      "epoch 1; iter: 0; batch classifier loss: 0.558683; batch adversarial loss: 0.684437\n",
      "epoch 1; iter: 200; batch classifier loss: 0.564505; batch adversarial loss: 0.709375\n",
      "epoch 2; iter: 0; batch classifier loss: 0.501950; batch adversarial loss: 0.689728\n",
      "epoch 2; iter: 200; batch classifier loss: 0.516908; batch adversarial loss: 0.624278\n",
      "epoch 3; iter: 0; batch classifier loss: 0.429721; batch adversarial loss: 0.628376\n",
      "epoch 3; iter: 200; batch classifier loss: 0.409068; batch adversarial loss: 0.595432\n",
      "epoch 4; iter: 0; batch classifier loss: 0.425982; batch adversarial loss: 0.680038\n",
      "epoch 4; iter: 200; batch classifier loss: 0.387533; batch adversarial loss: 0.606346\n",
      "epoch 5; iter: 0; batch classifier loss: 0.412521; batch adversarial loss: 0.631997\n",
      "epoch 5; iter: 200; batch classifier loss: 0.385408; batch adversarial loss: 0.641629\n",
      "epoch 6; iter: 0; batch classifier loss: 0.383620; batch adversarial loss: 0.610418\n",
      "epoch 6; iter: 200; batch classifier loss: 0.317920; batch adversarial loss: 0.645696\n",
      "epoch 7; iter: 0; batch classifier loss: 0.410608; batch adversarial loss: 0.594784\n",
      "epoch 7; iter: 200; batch classifier loss: 0.405384; batch adversarial loss: 0.576401\n",
      "epoch 8; iter: 0; batch classifier loss: 0.395769; batch adversarial loss: 0.611432\n",
      "epoch 8; iter: 200; batch classifier loss: 0.344215; batch adversarial loss: 0.603874\n",
      "epoch 9; iter: 0; batch classifier loss: 0.466413; batch adversarial loss: 0.646487\n",
      "epoch 9; iter: 200; batch classifier loss: 0.369491; batch adversarial loss: 0.622446\n",
      "epoch 10; iter: 0; batch classifier loss: 0.440575; batch adversarial loss: 0.569299\n",
      "epoch 10; iter: 200; batch classifier loss: 0.365449; batch adversarial loss: 0.511800\n",
      "epoch 11; iter: 0; batch classifier loss: 0.351508; batch adversarial loss: 0.617434\n",
      "epoch 11; iter: 200; batch classifier loss: 0.376112; batch adversarial loss: 0.659367\n",
      "epoch 12; iter: 0; batch classifier loss: 0.330830; batch adversarial loss: 0.576688\n",
      "epoch 12; iter: 200; batch classifier loss: 0.382483; batch adversarial loss: 0.637369\n",
      "epoch 13; iter: 0; batch classifier loss: 0.397208; batch adversarial loss: 0.573923\n",
      "epoch 13; iter: 200; batch classifier loss: 0.375628; batch adversarial loss: 0.581749\n",
      "epoch 14; iter: 0; batch classifier loss: 0.514178; batch adversarial loss: 0.615793\n",
      "epoch 14; iter: 200; batch classifier loss: 0.379910; batch adversarial loss: 0.568947\n",
      "epoch 15; iter: 0; batch classifier loss: 0.323159; batch adversarial loss: 0.614514\n",
      "epoch 15; iter: 200; batch classifier loss: 0.403419; batch adversarial loss: 0.585826\n",
      "epoch 16; iter: 0; batch classifier loss: 0.350112; batch adversarial loss: 0.606795\n",
      "epoch 16; iter: 200; batch classifier loss: 0.286765; batch adversarial loss: 0.630818\n",
      "epoch 17; iter: 0; batch classifier loss: 0.352226; batch adversarial loss: 0.582753\n",
      "epoch 17; iter: 200; batch classifier loss: 0.354372; batch adversarial loss: 0.608321\n",
      "epoch 18; iter: 0; batch classifier loss: 0.444092; batch adversarial loss: 0.648243\n",
      "epoch 18; iter: 200; batch classifier loss: 0.291672; batch adversarial loss: 0.632069\n",
      "epoch 19; iter: 0; batch classifier loss: 0.289088; batch adversarial loss: 0.637753\n",
      "epoch 19; iter: 200; batch classifier loss: 0.382613; batch adversarial loss: 0.617731\n",
      "epoch 20; iter: 0; batch classifier loss: 0.416843; batch adversarial loss: 0.579536\n",
      "epoch 20; iter: 200; batch classifier loss: 0.412577; batch adversarial loss: 0.556095\n",
      "epoch 21; iter: 0; batch classifier loss: 0.398252; batch adversarial loss: 0.673920\n",
      "epoch 21; iter: 200; batch classifier loss: 0.388455; batch adversarial loss: 0.697317\n",
      "epoch 22; iter: 0; batch classifier loss: 0.284790; batch adversarial loss: 0.638820\n",
      "epoch 22; iter: 200; batch classifier loss: 0.300043; batch adversarial loss: 0.624977\n",
      "epoch 23; iter: 0; batch classifier loss: 0.367095; batch adversarial loss: 0.612367\n",
      "epoch 23; iter: 200; batch classifier loss: 0.375834; batch adversarial loss: 0.590489\n",
      "epoch 24; iter: 0; batch classifier loss: 0.367175; batch adversarial loss: 0.604936\n",
      "epoch 24; iter: 200; batch classifier loss: 0.400551; batch adversarial loss: 0.591579\n",
      "epoch 25; iter: 0; batch classifier loss: 0.299259; batch adversarial loss: 0.669505\n",
      "epoch 25; iter: 200; batch classifier loss: 0.413841; batch adversarial loss: 0.654291\n",
      "epoch 26; iter: 0; batch classifier loss: 0.302332; batch adversarial loss: 0.591385\n",
      "epoch 26; iter: 200; batch classifier loss: 0.336423; batch adversarial loss: 0.618860\n",
      "epoch 27; iter: 0; batch classifier loss: 0.394497; batch adversarial loss: 0.608452\n",
      "epoch 27; iter: 200; batch classifier loss: 0.367476; batch adversarial loss: 0.588454\n",
      "epoch 28; iter: 0; batch classifier loss: 0.369097; batch adversarial loss: 0.599104\n",
      "epoch 28; iter: 200; batch classifier loss: 0.428489; batch adversarial loss: 0.672505\n",
      "epoch 29; iter: 0; batch classifier loss: 0.409258; batch adversarial loss: 0.620594\n",
      "epoch 29; iter: 200; batch classifier loss: 0.372215; batch adversarial loss: 0.570267\n",
      "epoch 30; iter: 0; batch classifier loss: 0.561483; batch adversarial loss: 0.554985\n",
      "epoch 30; iter: 200; batch classifier loss: 0.390812; batch adversarial loss: 0.592849\n",
      "epoch 31; iter: 0; batch classifier loss: 0.428587; batch adversarial loss: 0.639035\n",
      "epoch 31; iter: 200; batch classifier loss: 0.299187; batch adversarial loss: 0.561099\n",
      "epoch 32; iter: 0; batch classifier loss: 0.412028; batch adversarial loss: 0.576464\n",
      "epoch 32; iter: 200; batch classifier loss: 0.374650; batch adversarial loss: 0.580966\n",
      "epoch 33; iter: 0; batch classifier loss: 0.410138; batch adversarial loss: 0.655297\n",
      "epoch 33; iter: 200; batch classifier loss: 0.326647; batch adversarial loss: 0.652741\n",
      "epoch 34; iter: 0; batch classifier loss: 0.399738; batch adversarial loss: 0.574305\n",
      "epoch 34; iter: 200; batch classifier loss: 0.371492; batch adversarial loss: 0.579393\n",
      "epoch 35; iter: 0; batch classifier loss: 0.376793; batch adversarial loss: 0.655716\n",
      "epoch 35; iter: 200; batch classifier loss: 0.382470; batch adversarial loss: 0.656693\n",
      "epoch 36; iter: 0; batch classifier loss: 0.469160; batch adversarial loss: 0.570444\n",
      "epoch 36; iter: 200; batch classifier loss: 0.360812; batch adversarial loss: 0.615316\n",
      "epoch 37; iter: 0; batch classifier loss: 0.391683; batch adversarial loss: 0.602090\n",
      "epoch 37; iter: 200; batch classifier loss: 0.386075; batch adversarial loss: 0.536440\n",
      "epoch 38; iter: 0; batch classifier loss: 0.347656; batch adversarial loss: 0.648653\n",
      "epoch 38; iter: 200; batch classifier loss: 0.426541; batch adversarial loss: 0.615176\n",
      "epoch 39; iter: 0; batch classifier loss: 0.377466; batch adversarial loss: 0.675407\n",
      "epoch 39; iter: 200; batch classifier loss: 0.397819; batch adversarial loss: 0.595519\n",
      "epoch 40; iter: 0; batch classifier loss: 0.404484; batch adversarial loss: 0.648015\n",
      "epoch 40; iter: 200; batch classifier loss: 0.364260; batch adversarial loss: 0.625480\n",
      "epoch 41; iter: 0; batch classifier loss: 0.473441; batch adversarial loss: 0.649225\n",
      "epoch 41; iter: 200; batch classifier loss: 0.429641; batch adversarial loss: 0.623124\n",
      "epoch 42; iter: 0; batch classifier loss: 0.422652; batch adversarial loss: 0.569606\n",
      "epoch 42; iter: 200; batch classifier loss: 0.284379; batch adversarial loss: 0.643160\n",
      "epoch 43; iter: 0; batch classifier loss: 0.346091; batch adversarial loss: 0.580044\n",
      "epoch 43; iter: 200; batch classifier loss: 0.359229; batch adversarial loss: 0.559218\n",
      "epoch 44; iter: 0; batch classifier loss: 0.379358; batch adversarial loss: 0.668145\n",
      "epoch 44; iter: 200; batch classifier loss: 0.365824; batch adversarial loss: 0.584840\n",
      "epoch 45; iter: 0; batch classifier loss: 0.486404; batch adversarial loss: 0.629842\n",
      "epoch 45; iter: 200; batch classifier loss: 0.333832; batch adversarial loss: 0.618420\n",
      "epoch 46; iter: 0; batch classifier loss: 0.321917; batch adversarial loss: 0.633047\n",
      "epoch 46; iter: 200; batch classifier loss: 0.353946; batch adversarial loss: 0.546119\n",
      "epoch 47; iter: 0; batch classifier loss: 0.534584; batch adversarial loss: 0.600762\n",
      "epoch 47; iter: 200; batch classifier loss: 0.485475; batch adversarial loss: 0.585786\n",
      "epoch 48; iter: 0; batch classifier loss: 0.344719; batch adversarial loss: 0.597093\n",
      "epoch 48; iter: 200; batch classifier loss: 0.322452; batch adversarial loss: 0.567270\n",
      "epoch 49; iter: 0; batch classifier loss: 0.357829; batch adversarial loss: 0.612862\n",
      "epoch 49; iter: 200; batch classifier loss: 0.321504; batch adversarial loss: 0.597745\n"
     ]
    },
    {
     "data": {
      "text/plain": [
       "<aif360.algorithms.inprocessing.adversarial_debiasing.AdversarialDebiasing at 0x1535aeb3d30>"
      ]
     },
     "execution_count": 55,
     "metadata": {},
     "output_type": "execute_result"
    }
   ],
   "source": [
    "debiased_model.fit(dataset_orig_train)"
   ]
  },
  {
   "cell_type": "code",
   "execution_count": null,
   "id": "d6b41b48-d589-4299-a648-efe194255a4a",
   "metadata": {},
   "outputs": [],
   "source": []
  },
  {
   "cell_type": "code",
   "execution_count": 56,
   "id": "f2bff60c-2a10-462c-b1f0-5fa9f6e9d13b",
   "metadata": {},
   "outputs": [],
   "source": [
    "# Apply the plain model to test data\n",
    "dataset_debiasing_train = debiased_model.predict(dataset_orig_train)\n",
    "dataset_debiasing_val = debiased_model.predict(dataset_orig_val)\n",
    "dataset_debiasing_test = debiased_model.predict(dataset_orig_test)"
   ]
  },
  {
   "cell_type": "markdown",
   "id": "1029ad0e-6a28-48d5-afb0-73c2bee08785",
   "metadata": {},
   "source": [
    "##### Validation and Test Data after implementing Adversarial Debiasing"
   ]
  },
  {
   "cell_type": "code",
   "execution_count": 57,
   "id": "6b3619e1-1233-4d8b-8d95-9bceeb9b24e9",
   "metadata": {},
   "outputs": [
    {
     "name": "stdout",
     "output_type": "stream",
     "text": [
      "Balanced accuracy = 0.5844\n",
      "Statistical parity difference = -0.0323\n",
      "Disparate impact = 0.5474\n",
      "Average odds difference = 0.0156\n",
      "Equal opportunity difference = 0.0357\n",
      "Theil index = 0.2353\n",
      "Conditional Use Accuracy Equality = 0.7821\n",
      "Balanced accuracy = 0.6890\n",
      "Statistical parity difference = -0.1068\n",
      "Disparate impact = 0.4029\n",
      "Average odds difference = -0.0627\n",
      "Equal opportunity difference = -0.0987\n",
      "Theil index = 0.1686\n",
      "Conditional Use Accuracy Equality = 0.8340\n"
     ]
    }
   ],
   "source": [
    "#For Transformed Validation Set\n",
    "metric_transf_val_bef = compute_metrics(dataset_orig_val, dataset_debiasing_val, unprivileged_groups, privileged_groups)\n",
    "\n",
    "results[\"balanced_accuracy\"][\"adversarial_debiasing\"][\"validation\"] = metric_transf_val_bef[\"Balanced accuracy\"]\n",
    "results[\"disparate_impact_ratio\"][\"adversarial_debiasing\"][\"validation\"] = metric_transf_val_bef[\"Disparate impact\"]\n",
    "results[\"average_odds_difference\"][\"adversarial_debiasing\"][\"validation\"] = metric_transf_val_bef[\"Average odds difference\"]\n",
    "\n",
    "#For Transformed Test Set\n",
    "metric_transf_test_bef = compute_metrics(dataset_orig_test, dataset_debiasing_test, unprivileged_groups, privileged_groups)\n",
    "\n",
    "results[\"balanced_accuracy\"][\"adversarial_debiasing\"][\"test\"] = metric_transf_test_bef[\"Balanced accuracy\"]\n",
    "results[\"disparate_impact_ratio\"][\"adversarial_debiasing\"][\"test\"] = metric_transf_test_bef[\"Disparate impact\"]\n",
    "results[\"average_odds_difference\"][\"adversarial_debiasing\"][\"test\"] = metric_transf_test_bef[\"Average odds difference\"]"
   ]
  },
  {
   "cell_type": "code",
   "execution_count": 58,
   "id": "89a76ba4-d1ca-48f8-9cd0-d39759023561",
   "metadata": {},
   "outputs": [
    {
     "data": {
      "text/plain": [
       "{'mean_difference': {'before_reweighing': -0.19911019753072282,\n",
       "  'after_reweighing': 5.551115123125783e-17},\n",
       " 'disparate_impact_ratio': {'before_reweighing': 0.3631666646822667,\n",
       "  'after_reweighing': 1.0000000000000002,\n",
       "  'before_disparate_impact_remover': 0.3631666646822667,\n",
       "  'after_disparate_impact_remover': 0.7000620570902111,\n",
       "  'before_reject_option_classification': {'validation': 0.2604352651643102,\n",
       "   'test': 0.2660801329324019},\n",
       "  'after_reject_option_classification': {'validation': 0.8756599294180772,\n",
       "   'test': 0.908118054077203},\n",
       "  'before_calibrated_eq_odds_postprocessing': {'validation': 0.2604352651643102,\n",
       "   'test': 0.2660801329324019},\n",
       "  'after_calibrated_eq_odds_postprocessing': {'validation': 164.4168494953927,\n",
       "   'test': inf},\n",
       "  'no_adversarial_debiasing': {'validation': 0.5350618068190373,\n",
       "   'test': 0.4324549822129314},\n",
       "  'adversarial_debiasing': {'validation': 0.547441062667039,\n",
       "   'test': 0.40288282495411865}},\n",
       " 'balanced_accuracy': {'before_calibrated_eq_odds_postprocessing': {'validation': 0.769789602645629,\n",
       "   'test': 0.758687408499511},\n",
       "  'after_calibrated_eq_odds_postprocessing': {'validation': 0.5135945050948493,\n",
       "   'test': 0.5151653286650396},\n",
       "  'before_reject_option_classification': {'validation': 0.769789602645629,\n",
       "   'test': 0.758687408499511},\n",
       "  'after_reject_option_classification': {'validation': 0.7408848822181486,\n",
       "   'test': 0.7323787858572981},\n",
       "  'no_adversarial_debiasing': {'validation': 0.6137879741824445,\n",
       "   'test': 0.6119091690733626},\n",
       "  'adversarial_debiasing': {'validation': 0.5844020865352686,\n",
       "   'test': 0.6890114847572932}},\n",
       " 'average_odds_difference': {'before_reject_option_classification': {'validation': -0.30684459455419155,\n",
       "   'test': -0.3207258325272865},\n",
       "  'after_reject_option_classification': {'validation': 0.03311988465745544,\n",
       "   'test': 0.02675032522763593},\n",
       "  'before_calibrated_eq_odds_postprocessing': {'validation': -0.30684459455419155,\n",
       "   'test': -0.3207258325272865},\n",
       "  'after_calibrated_eq_odds_postprocessing': {'validation': 0.11092315891034132,\n",
       "   'test': 0.11004638218923933},\n",
       "  'no_adversarial_debiasing': {'validation': 0.013309793460935491,\n",
       "   'test': -0.01577905779423479},\n",
       "  'adversarial_debiasing': {'validation': 0.01557926869110099,\n",
       "   'test': -0.06269910775062423}},\n",
       " 'statistical_parity_difference': {'before_reject_option_classification': {'validation': -0.3750581210385924,\n",
       "   'test': -0.36900296528366605},\n",
       "  'after_reject_option_classification': {'validation': -0.04897267803723804,\n",
       "   'test': -0.03535585799213409},\n",
       "  'before_calibrated_eq_odds_postprocessing': {'validation': -0.3750581210385924,\n",
       "   'test': -0.36900296528366605},\n",
       "  'after_calibrated_eq_odds_postprocessing': {'validation': 0.03532573486714066,\n",
       "   'test': 0.03400447427293065}},\n",
       " 'conditional_use_accuracy_equality': {'before_reject_option_classification': {'validation': 0.913104744011273,\n",
       "   'test': 0.9081728511038046},\n",
       "  'after_reject_option_classification': {'validation': 0.8941121712822899,\n",
       "   'test': 0.8899930667899237},\n",
       "  'before_calibrated_eq_odds_postprocessing': {'validation': 0.913104744011273,\n",
       "   'test': 0.9081728511038046},\n",
       "  'after_calibrated_eq_odds_postprocessing': {'validation': 0.7534808735160486,\n",
       "   'test': 0.7572118904671254}}}"
      ]
     },
     "execution_count": 58,
     "metadata": {},
     "output_type": "execute_result"
    }
   ],
   "source": [
    "results"
   ]
  },
  {
   "cell_type": "code",
   "execution_count": 59,
   "id": "5885a836-98f8-49e8-974b-cec400183e73",
   "metadata": {},
   "outputs": [
    {
     "data": {
      "text/plain": [
       "{'before_reweighing': -0.19911019753072282,\n",
       " 'after_reweighing': 5.551115123125783e-17}"
      ]
     },
     "execution_count": 59,
     "metadata": {},
     "output_type": "execute_result"
    }
   ],
   "source": [
    "results[\"mean_difference\"]"
   ]
  },
  {
   "cell_type": "code",
   "execution_count": 60,
   "id": "9de0223a-6a72-455c-a573-b035fda12561",
   "metadata": {},
   "outputs": [
    {
     "data": {
      "text/plain": [
       "{'before_reject_option_classification': {'validation': -0.3750581210385924,\n",
       "  'test': -0.36900296528366605},\n",
       " 'after_reject_option_classification': {'validation': -0.04897267803723804,\n",
       "  'test': -0.03535585799213409},\n",
       " 'before_calibrated_eq_odds_postprocessing': {'validation': -0.3750581210385924,\n",
       "  'test': -0.36900296528366605},\n",
       " 'after_calibrated_eq_odds_postprocessing': {'validation': 0.03532573486714066,\n",
       "  'test': 0.03400447427293065}}"
      ]
     },
     "execution_count": 60,
     "metadata": {},
     "output_type": "execute_result"
    }
   ],
   "source": [
    "results[\"statistical_parity_difference\"]"
   ]
  },
  {
   "cell_type": "code",
   "execution_count": 61,
   "id": "64af9816-01d6-4b3f-b272-9eebf267819e",
   "metadata": {},
   "outputs": [],
   "source": [
    "import pandas as pd"
   ]
  },
  {
   "cell_type": "markdown",
   "id": "41f4fa63-caeb-43da-92da-2eafb157d147",
   "metadata": {},
   "source": [
    "### 9. Compare your pre- and post mitigation metrics."
   ]
  },
  {
   "cell_type": "markdown",
   "id": "e111b63d-4461-477b-a525-8a2ed5ac9321",
   "metadata": {},
   "source": [
    "#### Fairness Metric 1: Mean Difference"
   ]
  },
  {
   "cell_type": "code",
   "execution_count": 62,
   "id": "3fdad294-5bac-42f1-b968-64fbbc9e2288",
   "metadata": {},
   "outputs": [
    {
     "data": {
      "text/html": [
       "<div>\n",
       "<style scoped>\n",
       "    .dataframe tbody tr th:only-of-type {\n",
       "        vertical-align: middle;\n",
       "    }\n",
       "\n",
       "    .dataframe tbody tr th {\n",
       "        vertical-align: top;\n",
       "    }\n",
       "\n",
       "    .dataframe thead tr th {\n",
       "        text-align: left;\n",
       "    }\n",
       "</style>\n",
       "<table border=\"1\" class=\"dataframe\">\n",
       "  <thead>\n",
       "    <tr>\n",
       "      <th></th>\n",
       "      <th colspan=\"2\" halign=\"left\">Reweighing (Pre-processing)</th>\n",
       "    </tr>\n",
       "    <tr>\n",
       "      <th></th>\n",
       "      <th>before</th>\n",
       "      <th>after</th>\n",
       "    </tr>\n",
       "  </thead>\n",
       "  <tbody>\n",
       "    <tr>\n",
       "      <th>Mean Difference</th>\n",
       "      <td>-0.19911</td>\n",
       "      <td>5.551115e-17</td>\n",
       "    </tr>\n",
       "  </tbody>\n",
       "</table>\n",
       "</div>"
      ],
      "text/plain": [
       "                Reweighing (Pre-processing)              \n",
       "                                     before         after\n",
       "Mean Difference                    -0.19911  5.551115e-17"
      ]
     },
     "execution_count": 62,
     "metadata": {},
     "output_type": "execute_result"
    }
   ],
   "source": [
    "mean_diff = pd.DataFrame(results[\"mean_difference\"], index = [\"Mean Difference\"])\n",
    "header = [[\"Reweighing (Pre-processing)\", \"Reweighing (Pre-processing)\"],\n",
    "          [\"before\", \"after\"]]\n",
    "mean_diff.columns = header\n",
    "mean_diff"
   ]
  },
  {
   "cell_type": "markdown",
   "id": "542725d9-784e-43a5-bf7d-d47cdff62fda",
   "metadata": {},
   "source": [
    "As we can see that <b>Reweighing</b> (Bias Mitigation Algorithm) works well on the <b> Mean Difference</b> Fairness metric. It reduces it exponentially."
   ]
  },
  {
   "cell_type": "markdown",
   "id": "eb271053-20d6-4b59-b890-a926988f235c",
   "metadata": {},
   "source": [
    "#### Fairness Metric 2: Disparate Impact Ratio"
   ]
  },
  {
   "cell_type": "markdown",
   "id": "a71cdca8-8eb2-4051-a69b-2bbec07eb2b8",
   "metadata": {},
   "source": [
    "#### Comparision of Bias Mitigation Algorithms:\n",
    "<ol>\n",
    "    <li>Reweighing <b>(Pre-Processing)</b></li>\n",
    "    <li>Disparate Impact Remover <b>(Pre-Processing)</b></li>\n",
    "    <li>Reject Option Classifier <b>(Post-Processing)</b></li>\n",
    "    <li>Calibrated Equalised Odds <b>(Post-Processing)</b></li>\n",
    "    <li>Adversarial Debaising <b>(In-Processing)</b></li>\n",
    "</ol>"
   ]
  },
  {
   "cell_type": "code",
   "execution_count": 63,
   "id": "14466acc-1e8a-455e-8139-f6dba39b4ae5",
   "metadata": {},
   "outputs": [
    {
     "data": {
      "text/html": [
       "<div>\n",
       "<style scoped>\n",
       "    .dataframe tbody tr th:only-of-type {\n",
       "        vertical-align: middle;\n",
       "    }\n",
       "\n",
       "    .dataframe tbody tr th {\n",
       "        vertical-align: top;\n",
       "    }\n",
       "\n",
       "    .dataframe thead tr th {\n",
       "        text-align: left;\n",
       "    }\n",
       "</style>\n",
       "<table border=\"1\" class=\"dataframe\">\n",
       "  <thead>\n",
       "    <tr>\n",
       "      <th></th>\n",
       "      <th colspan=\"4\" halign=\"left\">Pre-Processing</th>\n",
       "      <th colspan=\"4\" halign=\"left\">Post-Processing</th>\n",
       "      <th colspan=\"2\" halign=\"left\">In-Processing</th>\n",
       "    </tr>\n",
       "    <tr>\n",
       "      <th></th>\n",
       "      <th colspan=\"2\" halign=\"left\">Reweighing</th>\n",
       "      <th colspan=\"2\" halign=\"left\">Disparate Impact Remover</th>\n",
       "      <th colspan=\"2\" halign=\"left\">Reject Option Classifier</th>\n",
       "      <th colspan=\"2\" halign=\"left\">Calibrated Equalised Odds</th>\n",
       "      <th colspan=\"2\" halign=\"left\">Adversarial Debaising</th>\n",
       "    </tr>\n",
       "    <tr>\n",
       "      <th></th>\n",
       "      <th>Before</th>\n",
       "      <th>After</th>\n",
       "      <th>Before</th>\n",
       "      <th>After</th>\n",
       "      <th>Before</th>\n",
       "      <th>After</th>\n",
       "      <th>Before</th>\n",
       "      <th>After</th>\n",
       "      <th>No Effect</th>\n",
       "      <th>After Effect</th>\n",
       "    </tr>\n",
       "  </thead>\n",
       "  <tbody>\n",
       "    <tr>\n",
       "      <th>validation</th>\n",
       "      <td>0.363167</td>\n",
       "      <td>1.0</td>\n",
       "      <td>0.363167</td>\n",
       "      <td>0.700062</td>\n",
       "      <td>0.260435</td>\n",
       "      <td>0.875660</td>\n",
       "      <td>0.260435</td>\n",
       "      <td>164.416849</td>\n",
       "      <td>0.535062</td>\n",
       "      <td>0.547441</td>\n",
       "    </tr>\n",
       "    <tr>\n",
       "      <th>test</th>\n",
       "      <td>0.363167</td>\n",
       "      <td>1.0</td>\n",
       "      <td>0.363167</td>\n",
       "      <td>0.700062</td>\n",
       "      <td>0.266080</td>\n",
       "      <td>0.908118</td>\n",
       "      <td>0.266080</td>\n",
       "      <td>inf</td>\n",
       "      <td>0.432455</td>\n",
       "      <td>0.402883</td>\n",
       "    </tr>\n",
       "  </tbody>\n",
       "</table>\n",
       "</div>"
      ],
      "text/plain": [
       "           Pre-Processing                                           \\\n",
       "               Reweighing       Disparate Impact Remover             \n",
       "                   Before After                   Before     After   \n",
       "validation       0.363167   1.0                 0.363167  0.700062   \n",
       "test             0.363167   1.0                 0.363167  0.700062   \n",
       "\n",
       "                    Post-Processing                                      \\\n",
       "           Reject Option Classifier           Calibrated Equalised Odds   \n",
       "                             Before     After                    Before   \n",
       "validation                 0.260435  0.875660                  0.260435   \n",
       "test                       0.266080  0.908118                  0.266080   \n",
       "\n",
       "                               In-Processing               \n",
       "                       Adversarial Debaising               \n",
       "                 After             No Effect After Effect  \n",
       "validation  164.416849              0.535062     0.547441  \n",
       "test               inf              0.432455     0.402883  "
      ]
     },
     "execution_count": 63,
     "metadata": {},
     "output_type": "execute_result"
    }
   ],
   "source": [
    "disparate_impact_ratio = pd.DataFrame(results[\"disparate_impact_ratio\"])\n",
    "header = [[\"Pre-Processing\", \"Pre-Processing\", \"Pre-Processing\", \"Pre-Processing\", \"Post-Processing\", \"Post-Processing\",\n",
    "           \"Post-Processing\", \"Post-Processing\", \"In-Processing\", \"In-Processing\"], \n",
    "          [\"Reweighing\", \"Reweighing\", \"Disparate Impact Remover\", \"Disparate Impact Remover\",\"Reject Option Classifier\",\n",
    "           \"Reject Option Classifier\", \"Calibrated Equalised Odds\", \"Calibrated Equalised Odds\", \"Adversarial Debaising\", \"Adversarial Debaising\"],\n",
    "          [\"Before\", \"After\", \"Before\", \"After\", \"Before\", \"After\", \"Before\", \"After\", \"No Effect\", \"After Effect\"]]\n",
    "disparate_impact_ratio.columns = header\n",
    "disparate_impact_ratio"
   ]
  },
  {
   "cell_type": "markdown",
   "id": "2fbf64d4-4630-458e-a7b9-5fe6430461ee",
   "metadata": {},
   "source": [
    "When it comes to <b>Disparate Impact Ratio</b> Fiarness metric, <b>Reweighing</b> outperforms other algorithms to increase the disparate impact."
   ]
  },
  {
   "cell_type": "code",
   "execution_count": 64,
   "id": "947e5521-08c5-4be6-9c1f-d835797c8b4e",
   "metadata": {},
   "outputs": [
    {
     "data": {
      "text/plain": [
       "dict_keys(['mean_difference', 'disparate_impact_ratio', 'balanced_accuracy', 'average_odds_difference', 'statistical_parity_difference', 'conditional_use_accuracy_equality'])"
      ]
     },
     "execution_count": 64,
     "metadata": {},
     "output_type": "execute_result"
    }
   ],
   "source": [
    "results.keys()"
   ]
  },
  {
   "cell_type": "code",
   "execution_count": 65,
   "id": "1565a853-4ac5-4909-bb7e-dd1eaa44389e",
   "metadata": {},
   "outputs": [
    {
     "data": {
      "text/plain": [
       "dict_keys(['before_calibrated_eq_odds_postprocessing', 'after_calibrated_eq_odds_postprocessing', 'before_reject_option_classification', 'after_reject_option_classification', 'no_adversarial_debiasing', 'adversarial_debiasing'])"
      ]
     },
     "execution_count": 65,
     "metadata": {},
     "output_type": "execute_result"
    }
   ],
   "source": [
    "results[\"balanced_accuracy\"].keys()"
   ]
  },
  {
   "cell_type": "markdown",
   "id": "d54ff0dc-24c3-462d-86a8-7b722fbbe301",
   "metadata": {},
   "source": [
    "#### Fairness Metric 3: Balanced Accuracy"
   ]
  },
  {
   "cell_type": "markdown",
   "id": "6e23e028-54e8-41e1-bff8-f8b9f08bccea",
   "metadata": {},
   "source": [
    "#### Comparision of Bias Mitigation Algorithms:\n",
    "<ol>\n",
    "    <li>Reject Option Classifier <b>(Post-Processing)</b></li>\n",
    "    <li>Calibrated Equalised Odds <b>(Post-Processing)</b></li>\n",
    "    <li>Adversarial Debaising <b>(In-Processing)</b></li>\n",
    "</ol>"
   ]
  },
  {
   "cell_type": "code",
   "execution_count": 66,
   "id": "1192db91-55cc-43f2-9ee8-1163bf601e9e",
   "metadata": {},
   "outputs": [
    {
     "data": {
      "text/html": [
       "<div>\n",
       "<style scoped>\n",
       "    .dataframe tbody tr th:only-of-type {\n",
       "        vertical-align: middle;\n",
       "    }\n",
       "\n",
       "    .dataframe tbody tr th {\n",
       "        vertical-align: top;\n",
       "    }\n",
       "\n",
       "    .dataframe thead tr th {\n",
       "        text-align: left;\n",
       "    }\n",
       "</style>\n",
       "<table border=\"1\" class=\"dataframe\">\n",
       "  <thead>\n",
       "    <tr>\n",
       "      <th></th>\n",
       "      <th colspan=\"4\" halign=\"left\">Post-Processing</th>\n",
       "      <th colspan=\"2\" halign=\"left\">In-Processing</th>\n",
       "    </tr>\n",
       "    <tr>\n",
       "      <th></th>\n",
       "      <th colspan=\"2\" halign=\"left\">Reject Option Classifier</th>\n",
       "      <th colspan=\"2\" halign=\"left\">Calibrated Equalised Odds</th>\n",
       "      <th colspan=\"2\" halign=\"left\">Adversarial Debaising</th>\n",
       "    </tr>\n",
       "    <tr>\n",
       "      <th></th>\n",
       "      <th>Before</th>\n",
       "      <th>After</th>\n",
       "      <th>Before</th>\n",
       "      <th>After</th>\n",
       "      <th>No Effect</th>\n",
       "      <th>After Effect</th>\n",
       "    </tr>\n",
       "  </thead>\n",
       "  <tbody>\n",
       "    <tr>\n",
       "      <th>validation</th>\n",
       "      <td>0.769790</td>\n",
       "      <td>0.513595</td>\n",
       "      <td>0.769790</td>\n",
       "      <td>0.740885</td>\n",
       "      <td>0.613788</td>\n",
       "      <td>0.584402</td>\n",
       "    </tr>\n",
       "    <tr>\n",
       "      <th>test</th>\n",
       "      <td>0.758687</td>\n",
       "      <td>0.515165</td>\n",
       "      <td>0.758687</td>\n",
       "      <td>0.732379</td>\n",
       "      <td>0.611909</td>\n",
       "      <td>0.689011</td>\n",
       "    </tr>\n",
       "  </tbody>\n",
       "</table>\n",
       "</div>"
      ],
      "text/plain": [
       "                    Post-Processing                                      \\\n",
       "           Reject Option Classifier           Calibrated Equalised Odds   \n",
       "                             Before     After                    Before   \n",
       "validation                 0.769790  0.513595                  0.769790   \n",
       "test                       0.758687  0.515165                  0.758687   \n",
       "\n",
       "                             In-Processing               \n",
       "                     Adversarial Debaising               \n",
       "               After             No Effect After Effect  \n",
       "validation  0.740885              0.613788     0.584402  \n",
       "test        0.732379              0.611909     0.689011  "
      ]
     },
     "execution_count": 66,
     "metadata": {},
     "output_type": "execute_result"
    }
   ],
   "source": [
    "balanced_accuracy = pd.DataFrame(results[\"balanced_accuracy\"])\n",
    "header = [[\"Post-Processing\", \"Post-Processing\",\n",
    "           \"Post-Processing\", \"Post-Processing\", \"In-Processing\", \"In-Processing\"], \n",
    "          [\"Reject Option Classifier\",\"Reject Option Classifier\", \"Calibrated Equalised Odds\", \"Calibrated Equalised Odds\",\n",
    "           \"Adversarial Debaising\", \"Adversarial Debaising\"],\n",
    "          [\"Before\", \"After\", \"Before\", \"After\", \"No Effect\", \"After Effect\"]]\n",
    "balanced_accuracy.columns = header\n",
    "balanced_accuracy"
   ]
  },
  {
   "cell_type": "markdown",
   "id": "3f35a584-5d64-4c09-818d-a1e91560e4c8",
   "metadata": {},
   "source": [
    "<b>Calibrated Equalised Odds</b> Algorithm performs better than other two algorithms in the <b>Balanced Accuracy</b> metric. The balanced accuracy dropped slightly from <b>77%</b> to just <b>74%</b> in validation set whereas <b>76</b> to <b>73%</b> in the test set while using <b>Calibrated Equalised Odds</b>"
   ]
  },
  {
   "cell_type": "markdown",
   "id": "f5c878c7-82ff-4b0e-953f-a0bde29b0db4",
   "metadata": {},
   "source": [
    "#### Fairness Metric 4: Average Odds Difference"
   ]
  },
  {
   "cell_type": "markdown",
   "id": "e3f1fe30-dd64-4cc2-9d56-1d01d2a3db84",
   "metadata": {},
   "source": [
    "#### Comparision of Bias Mitigation Algorithms:\n",
    "<ol>\n",
    "    <li>Reject Option Classifier <b>(Post-Processing)</b></li>\n",
    "    <li>Calibrated Equalised Odds <b>(Post-Processing)</b></li>\n",
    "    <li>Adversarial Debaising <b>(In-Processing)</b></li>\n",
    "</ol>"
   ]
  },
  {
   "cell_type": "code",
   "execution_count": 67,
   "id": "9c75495f-601d-4f10-8a73-e503dee774f1",
   "metadata": {},
   "outputs": [
    {
     "data": {
      "text/html": [
       "<div>\n",
       "<style scoped>\n",
       "    .dataframe tbody tr th:only-of-type {\n",
       "        vertical-align: middle;\n",
       "    }\n",
       "\n",
       "    .dataframe tbody tr th {\n",
       "        vertical-align: top;\n",
       "    }\n",
       "\n",
       "    .dataframe thead tr th {\n",
       "        text-align: left;\n",
       "    }\n",
       "</style>\n",
       "<table border=\"1\" class=\"dataframe\">\n",
       "  <thead>\n",
       "    <tr>\n",
       "      <th></th>\n",
       "      <th colspan=\"4\" halign=\"left\">Post-Processing</th>\n",
       "      <th colspan=\"2\" halign=\"left\">In-Processing</th>\n",
       "    </tr>\n",
       "    <tr>\n",
       "      <th></th>\n",
       "      <th colspan=\"2\" halign=\"left\">Reject Option Classifier</th>\n",
       "      <th colspan=\"2\" halign=\"left\">Calibrated Equalised Odds</th>\n",
       "      <th colspan=\"2\" halign=\"left\">Adversarial Debaising</th>\n",
       "    </tr>\n",
       "    <tr>\n",
       "      <th></th>\n",
       "      <th>Before</th>\n",
       "      <th>After</th>\n",
       "      <th>Before</th>\n",
       "      <th>After</th>\n",
       "      <th>No Effect</th>\n",
       "      <th>After Effect</th>\n",
       "    </tr>\n",
       "  </thead>\n",
       "  <tbody>\n",
       "    <tr>\n",
       "      <th>validation</th>\n",
       "      <td>-0.306845</td>\n",
       "      <td>0.03312</td>\n",
       "      <td>-0.306845</td>\n",
       "      <td>0.110923</td>\n",
       "      <td>0.013310</td>\n",
       "      <td>0.015579</td>\n",
       "    </tr>\n",
       "    <tr>\n",
       "      <th>test</th>\n",
       "      <td>-0.320726</td>\n",
       "      <td>0.02675</td>\n",
       "      <td>-0.320726</td>\n",
       "      <td>0.110046</td>\n",
       "      <td>-0.015779</td>\n",
       "      <td>-0.062699</td>\n",
       "    </tr>\n",
       "  </tbody>\n",
       "</table>\n",
       "</div>"
      ],
      "text/plain": [
       "                    Post-Processing                                     \\\n",
       "           Reject Option Classifier          Calibrated Equalised Odds   \n",
       "                             Before    After                    Before   \n",
       "validation                -0.306845  0.03312                 -0.306845   \n",
       "test                      -0.320726  0.02675                 -0.320726   \n",
       "\n",
       "                             In-Processing               \n",
       "                     Adversarial Debaising               \n",
       "               After             No Effect After Effect  \n",
       "validation  0.110923              0.013310     0.015579  \n",
       "test        0.110046             -0.015779    -0.062699  "
      ]
     },
     "execution_count": 67,
     "metadata": {},
     "output_type": "execute_result"
    }
   ],
   "source": [
    "average_odds_diff = pd.DataFrame(results[\"average_odds_difference\"])\n",
    "header = [[\"Post-Processing\", \"Post-Processing\",\n",
    "           \"Post-Processing\", \"Post-Processing\", \"In-Processing\", \"In-Processing\"], \n",
    "          [\"Reject Option Classifier\",\"Reject Option Classifier\", \"Calibrated Equalised Odds\", \"Calibrated Equalised Odds\",\n",
    "           \"Adversarial Debaising\", \"Adversarial Debaising\"],\n",
    "          [\"Before\", \"After\", \"Before\", \"After\", \"No Effect\", \"After Effect\"]]\n",
    "average_odds_diff.columns = header\n",
    "average_odds_diff"
   ]
  },
  {
   "cell_type": "markdown",
   "id": "2012afbc-e736-4c35-97c9-00d19276b15a",
   "metadata": {},
   "source": [
    "We got the lowest <b>Average Odds Difference (Equalised)</b> Fairness metric when using <b>Adversarial Debaising</b>/"
   ]
  },
  {
   "cell_type": "code",
   "execution_count": null,
   "id": "660d0743-744c-4b44-a9ce-ad7ea1ece420",
   "metadata": {},
   "outputs": [],
   "source": []
  },
  {
   "cell_type": "markdown",
   "id": "48fec063-824a-49f2-95c4-c4ebd7661515",
   "metadata": {},
   "source": [
    "#### Fairness Metric 5: Statistical Parity Difference"
   ]
  },
  {
   "cell_type": "markdown",
   "id": "3c56b786-74a1-43b8-bfe0-ccbc1baf99f3",
   "metadata": {},
   "source": [
    "#### Comparision of Bias Mitigation Algorithms:\n",
    "<ol>\n",
    "    <li>Reject Option Classifier <b>(Post-Processing)</b></li>\n",
    "    <li>Calibrated Equalised Odds <b>(Post-Processing)</b></li>\n",
    "</ol>"
   ]
  },
  {
   "cell_type": "markdown",
   "id": "6db40509-15eb-4d55-b064-a16c4f2bb154",
   "metadata": {},
   "source": [
    "#### Reject Option Classification vs Calibrated Equalised Odds Difference"
   ]
  },
  {
   "cell_type": "code",
   "execution_count": 68,
   "id": "d1925c78-cadd-4583-8e39-fb88c622b36c",
   "metadata": {},
   "outputs": [
    {
     "data": {
      "text/html": [
       "<div>\n",
       "<style scoped>\n",
       "    .dataframe tbody tr th:only-of-type {\n",
       "        vertical-align: middle;\n",
       "    }\n",
       "\n",
       "    .dataframe tbody tr th {\n",
       "        vertical-align: top;\n",
       "    }\n",
       "\n",
       "    .dataframe thead tr th {\n",
       "        text-align: left;\n",
       "    }\n",
       "</style>\n",
       "<table border=\"1\" class=\"dataframe\">\n",
       "  <thead>\n",
       "    <tr>\n",
       "      <th></th>\n",
       "      <th colspan=\"2\" halign=\"left\">Reject Option Classification</th>\n",
       "      <th colspan=\"2\" halign=\"left\">Calibrated Equalised Odds Difference</th>\n",
       "    </tr>\n",
       "    <tr>\n",
       "      <th></th>\n",
       "      <th>before_using</th>\n",
       "      <th>after_using</th>\n",
       "      <th>before_using</th>\n",
       "      <th>after_using</th>\n",
       "    </tr>\n",
       "  </thead>\n",
       "  <tbody>\n",
       "    <tr>\n",
       "      <th>validation</th>\n",
       "      <td>-0.375058</td>\n",
       "      <td>-0.048973</td>\n",
       "      <td>-0.375058</td>\n",
       "      <td>0.035326</td>\n",
       "    </tr>\n",
       "    <tr>\n",
       "      <th>test</th>\n",
       "      <td>-0.369003</td>\n",
       "      <td>-0.035356</td>\n",
       "      <td>-0.369003</td>\n",
       "      <td>0.034004</td>\n",
       "    </tr>\n",
       "  </tbody>\n",
       "</table>\n",
       "</div>"
      ],
      "text/plain": [
       "           Reject Option Classification              \\\n",
       "                           before_using after_using   \n",
       "validation                    -0.375058   -0.048973   \n",
       "test                          -0.369003   -0.035356   \n",
       "\n",
       "           Calibrated Equalised Odds Difference              \n",
       "                                   before_using after_using  \n",
       "validation                            -0.375058    0.035326  \n",
       "test                                  -0.369003    0.034004  "
      ]
     },
     "execution_count": 68,
     "metadata": {},
     "output_type": "execute_result"
    }
   ],
   "source": [
    "spd = pd.DataFrame(results[\"statistical_parity_difference\"])\n",
    "header = [[\"Reject Option Classification\", \"Reject Option Classification\", \"Calibrated Equalised Odds Difference\", \"Calibrated Equalised Odds Difference\"],\n",
    "          [\"before_using\", \"after_using\", \"before_using\", \"after_using\"]]\n",
    "spd.columns = header\n",
    "spd"
   ]
  },
  {
   "cell_type": "markdown",
   "id": "269c678a-d43a-4aa2-809a-3a458e505f97",
   "metadata": {},
   "source": [
    "It can be seen that if we take the absolute differences <b>Calibrated Equalised Odds Difference</b> performs better than <b>Reject Option Classification</b> to reduce the bias between privilleged and unprivilleged groups."
   ]
  },
  {
   "cell_type": "markdown",
   "id": "fa9f417f-454d-4e05-9c9c-5b0817a8c750",
   "metadata": {},
   "source": [
    "#### Fairness Metric 5: Conditional Use Accuracy Equality"
   ]
  },
  {
   "cell_type": "markdown",
   "id": "780604fc-85f7-4bdd-be74-9a45cfb453a5",
   "metadata": {},
   "source": [
    "#### Comparision of Bias Mitigation Algorithms:\n",
    "<ol>\n",
    "    <li>Reject Option Classifier <b>(Post-Processing)</b></li>\n",
    "    <li>Calibrated Equalised Odds <b>(Post-Processing)</b></li>\n",
    "</ol>"
   ]
  },
  {
   "cell_type": "markdown",
   "id": "036607f4-52cc-4433-a593-88dcaf4bbcbb",
   "metadata": {},
   "source": [
    "#### Reject Option Classification vs Calibrated Equalised Odds Difference"
   ]
  },
  {
   "cell_type": "code",
   "execution_count": 69,
   "id": "75c8168b-e485-48fc-9466-a70684e7c9da",
   "metadata": {},
   "outputs": [
    {
     "data": {
      "text/html": [
       "<div>\n",
       "<style scoped>\n",
       "    .dataframe tbody tr th:only-of-type {\n",
       "        vertical-align: middle;\n",
       "    }\n",
       "\n",
       "    .dataframe tbody tr th {\n",
       "        vertical-align: top;\n",
       "    }\n",
       "\n",
       "    .dataframe thead tr th {\n",
       "        text-align: left;\n",
       "    }\n",
       "</style>\n",
       "<table border=\"1\" class=\"dataframe\">\n",
       "  <thead>\n",
       "    <tr>\n",
       "      <th></th>\n",
       "      <th colspan=\"4\" halign=\"left\">Post-Processing</th>\n",
       "    </tr>\n",
       "    <tr>\n",
       "      <th></th>\n",
       "      <th colspan=\"2\" halign=\"left\">Reject Option Classification</th>\n",
       "      <th colspan=\"2\" halign=\"left\">Calibrated Equalised Odds</th>\n",
       "    </tr>\n",
       "    <tr>\n",
       "      <th></th>\n",
       "      <th>Before</th>\n",
       "      <th>After</th>\n",
       "      <th>Before</th>\n",
       "      <th>After</th>\n",
       "    </tr>\n",
       "  </thead>\n",
       "  <tbody>\n",
       "    <tr>\n",
       "      <th>validation</th>\n",
       "      <td>0.913105</td>\n",
       "      <td>0.894112</td>\n",
       "      <td>0.913105</td>\n",
       "      <td>0.753481</td>\n",
       "    </tr>\n",
       "    <tr>\n",
       "      <th>test</th>\n",
       "      <td>0.908173</td>\n",
       "      <td>0.889993</td>\n",
       "      <td>0.908173</td>\n",
       "      <td>0.757212</td>\n",
       "    </tr>\n",
       "  </tbody>\n",
       "</table>\n",
       "</div>"
      ],
      "text/plain": [
       "                        Post-Processing                                      \\\n",
       "           Reject Option Classification           Calibrated Equalised Odds   \n",
       "                                 Before     After                    Before   \n",
       "validation                     0.913105  0.894112                  0.913105   \n",
       "test                           0.908173  0.889993                  0.908173   \n",
       "\n",
       "                      \n",
       "                      \n",
       "               After  \n",
       "validation  0.753481  \n",
       "test        0.757212  "
      ]
     },
     "execution_count": 69,
     "metadata": {},
     "output_type": "execute_result"
    }
   ],
   "source": [
    "cond_use_acc_eq = pd.DataFrame(results[\"conditional_use_accuracy_equality\"])\n",
    "header = [[\"Post-Processing\", \"Post-Processing\",\n",
    "           \"Post-Processing\", \"Post-Processing\"], \n",
    "          [\"Reject Option Classification\",\"Reject Option Classification\", \"Calibrated Equalised Odds\", \"Calibrated Equalised Odds\"],\n",
    "          [\"Before\", \"After\", \"Before\", \"After\"]]\n",
    "cond_use_acc_eq.columns = header\n",
    "cond_use_acc_eq"
   ]
  },
  {
   "cell_type": "code",
   "execution_count": 70,
   "id": "c80999a8-08ce-45cb-aab1-3b8167c6e766",
   "metadata": {},
   "outputs": [
    {
     "data": {
      "text/plain": [
       "dict_keys(['before_reject_option_classification', 'after_reject_option_classification', 'before_calibrated_eq_odds_postprocessing', 'after_calibrated_eq_odds_postprocessing'])"
      ]
     },
     "execution_count": 70,
     "metadata": {},
     "output_type": "execute_result"
    }
   ],
   "source": [
    "results[\"conditional_use_accuracy_equality\"].keys()"
   ]
  },
  {
   "cell_type": "markdown",
   "id": "45b53f81-7ba9-4851-ab4d-e6d39b75d22b",
   "metadata": {},
   "source": [
    "We got the best accuracy when using <b>Reject Option Classificatio</b>, there is just a slight decrease in <b>Conditional Use Accuracy Equality</b>. Wehreas in <b>Calibrated Equalised Odds</b>, this accuracy decreased significantly."
   ]
  },
  {
   "cell_type": "code",
   "execution_count": null,
   "id": "e8ff3525-b503-4bac-9c4c-9aff91bf6415",
   "metadata": {},
   "outputs": [],
   "source": []
  },
  {
   "cell_type": "markdown",
   "id": "7a6a4f7f-1711-41bc-bea3-4978aaaaf793",
   "metadata": {},
   "source": [
    "### <b> Repeat steps 6 to 9 again for at least four different bias mitigation algorithms. </b> After that, you can also look into a different protected attribute."
   ]
  },
  {
   "cell_type": "markdown",
   "id": "6a422b76-721e-413c-a662-d2d6f97e4df7",
   "metadata": {},
   "source": [
    "### Fairness Tools Overview"
   ]
  },
  {
   "cell_type": "markdown",
   "id": "7f6cd96f-e22b-449e-bf21-fcbd8a2fa7b9",
   "metadata": {},
   "source": [
    "Do a research on other fairness tools that are currently available. What are their use cases? Have some of them been used in the development of commercial products? Take a closer look on at least three other tools.\n",
    "\n",
    "Document your findings."
   ]
  },
  {
   "cell_type": "markdown",
   "id": "a0795d21-ad49-4581-81c0-e89351c0699f",
   "metadata": {},
   "source": [
    "#### AI Fairness Tools"
   ]
  },
  {
   "cell_type": "markdown",
   "id": "05884203-debf-4baf-b6a7-96dfd4b9303c",
   "metadata": {},
   "source": [
    "##### Aequitas"
   ]
  },
  {
   "cell_type": "markdown",
   "id": "1bc194cb-a1e5-4daf-8abc-0b46f51e0c84",
   "metadata": {},
   "source": [
    "<b>Aequitas</b> is an open source bias and fairness audit toolkit that was released in 2018. It is designed to enable developers to seamlessly test models for a series of bias and fairness metrics in relation to multiple population sub-groups."
   ]
  },
  {
   "cell_type": "markdown",
   "id": "b53ff268-190c-47cf-98af-1332eb2569da",
   "metadata": {},
   "source": [
    "##### Microsoft Fair Learn"
   ]
  },
  {
   "cell_type": "markdown",
   "id": "9b76db19-fcfe-4782-b6e5-53616fc88a27",
   "metadata": {},
   "source": [
    "As part of <b>Microsoft Fair Learn</b>, this is a general-purpose methodology for approaching fairness. Using binary classification, the method applies constraints to reduce fair classification to a sequence of cost-sensitive classification problems. Whose solutions yield a randomized classifier with the lowest (empirical) error subject to the desired constraints."
   ]
  },
  {
   "cell_type": "markdown",
   "id": "a6151bc7-56b4-41a1-b59e-af05daa17173",
   "metadata": {},
   "source": [
    "##### What-if Tool"
   ]
  },
  {
   "cell_type": "markdown",
   "id": "c9ae38da-66ee-45cb-a891-60cf2ee17841",
   "metadata": {},
   "source": [
    "The <b>What-if Tool</b> from Google is an open-source TensorBoard web application which lets users analyse an ML model without writing code. It visualises counterfactuals so that users can compare a data-point to the most similar point where the model predicts a different result. In addition, users can explore the effects of different classification thresholds, taking into account constraints such as different numerical fairness criteria.  There are a number of demos available – showing how the different functions work on pre-trained models. "
   ]
  },
  {
   "cell_type": "markdown",
   "id": "cf93445e-bd4b-42db-9e1e-6769f479d164",
   "metadata": {},
   "source": [
    "##### Deon"
   ]
  },
  {
   "cell_type": "markdown",
   "id": "a00765b6-5860-47b2-a60e-2e2bc598317b",
   "metadata": {},
   "source": [
    "An ethics checklist for responsible data science, <b>Deon</b> represents a starting point for teams to evaluate considerations related to advanced analytics and machine learning applications from data collection through deployment."
   ]
  },
  {
   "cell_type": "markdown",
   "id": "7ef22473-fa6c-45d7-839c-0aad83ab2b92",
   "metadata": {},
   "source": [
    "##### Model Cards"
   ]
  },
  {
   "cell_type": "markdown",
   "id": "8dec2b59-fc28-4ac8-bd19-b9b827f64bed",
   "metadata": {},
   "source": [
    "As machine learning applications are becoming increasingly ubiquitous, Google Research put forward the idea of <b>Model Cards</b> to confirm that the intent of a given model matches its use case. This credential is similar to the documentation of a car’s crash test rating in different environmental conditions. Model Cards can help stakeholders to <b>understand conditions under which the model is safe and appropriate to implement.</b>"
   ]
  },
  {
   "cell_type": "markdown",
   "id": "02c7e9ab-7757-428f-82f0-030e4cd038fc",
   "metadata": {},
   "source": [
    "### Summary"
   ]
  },
  {
   "cell_type": "markdown",
   "id": "27435498-8870-4d9a-9f31-5311ff0d0743",
   "metadata": {},
   "source": [
    "All the Bias Mitigation Algorithms works well according to their usability. They are not supposed to satify for all metrics, their functionality is limited to their use case to solve or mitigate specific type of bias in data. In our Adult dataset, <b>Reweighing</b> performs better to reduce <b>mean_difference</b> and increase <b>disparate impact ratio</b>, while Adversarial Debaising works well to reduce <b>Average Odds Difference</b> between privilled and unprivilleged groups."
   ]
  },
  {
   "cell_type": "code",
   "execution_count": null,
   "id": "ca566822-e072-4a3f-8a68-9cc7b2767603",
   "metadata": {},
   "outputs": [],
   "source": []
  }
 ],
 "metadata": {
  "kernelspec": {
   "display_name": "Python 3 (ipykernel)",
   "language": "python",
   "name": "python3"
  },
  "language_info": {
   "codemirror_mode": {
    "name": "ipython",
    "version": 3
   },
   "file_extension": ".py",
   "mimetype": "text/x-python",
   "name": "python",
   "nbconvert_exporter": "python",
   "pygments_lexer": "ipython3",
   "version": "3.9.0"
  }
 },
 "nbformat": 4,
 "nbformat_minor": 5
}
