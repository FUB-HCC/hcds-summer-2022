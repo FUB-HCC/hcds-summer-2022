{
 "cells": [
  {
   "cell_type": "markdown",
   "id": "670f3ef0-6ef7-4eee-8b09-9b92611643c6",
   "metadata": {},
   "source": [
    "# Task 4. Choose one of the provided common datasets to work with. (Adult Dataset)"
   ]
  },
  {
   "cell_type": "code",
   "execution_count": 1,
   "id": "05fad84a-9ad6-4d78-b849-53d2de87c3b5",
   "metadata": {},
   "outputs": [],
   "source": [
    "# Load all necessary packages\n",
    "import sys\n",
    "sys.path.insert(1, \"../\")  \n",
    "\n",
    "import numpy as np\n",
    "np.random.seed(0)\n",
    "\n",
    "from aif360.datasets import AdultDataset\n",
    "from aif360.metrics import BinaryLabelDatasetMetric\n",
    "from aif360.metrics import ClassificationMetric\n",
    "\n",
    "from aif360.algorithms.preprocessing import Reweighing\n",
    "from aif360.algorithms.preprocessing import DisparateImpactRemover\n",
    "from aif360.algorithms.postprocessing.reject_option_classification import RejectOptionClassification\n",
    "from aif360.algorithms.inprocessing.adversarial_debiasing import AdversarialDebiasing\n",
    "\n",
    "from IPython.display import Markdown, display"
   ]
  },
  {
   "cell_type": "code",
   "execution_count": 2,
   "id": "616de55a-3a3a-453a-ad5b-cd80c1a8123c",
   "metadata": {},
   "outputs": [
    {
     "name": "stderr",
     "output_type": "stream",
     "text": [
      "WARNING:root:Missing Data: 3620 rows removed from AdultDataset.\n"
     ]
    }
   ],
   "source": [
    "X = AdultDataset()"
   ]
  },
  {
   "cell_type": "code",
   "execution_count": 3,
   "id": "bd880b86-eb62-4722-bde1-3ef5207fc4fe",
   "metadata": {},
   "outputs": [],
   "source": [
    "import pandas as pd"
   ]
  },
  {
   "cell_type": "code",
   "execution_count": 4,
   "id": "8c63a5ff-20a9-44bb-ac3e-201513138371",
   "metadata": {},
   "outputs": [
    {
     "data": {
      "text/plain": [
       "['age', 'education-num', 'race', 'sex', 'capital-gain']"
      ]
     },
     "execution_count": 4,
     "metadata": {},
     "output_type": "execute_result"
    }
   ],
   "source": [
    "X.feature_names[:5]"
   ]
  },
  {
   "cell_type": "code",
   "execution_count": 5,
   "id": "61abe951-89ec-4925-aaba-ab95f616f51f",
   "metadata": {},
   "outputs": [
    {
     "data": {
      "text/plain": [
       "['race', 'sex']"
      ]
     },
     "execution_count": 5,
     "metadata": {},
     "output_type": "execute_result"
    }
   ],
   "source": [
    "X.protected_attribute_names"
   ]
  },
  {
   "cell_type": "markdown",
   "id": "e5a72ce2-f4f7-4c0d-b7bf-32815c6d4e09",
   "metadata": {
    "tags": []
   },
   "source": [
    "Load dataset, specifying protected attribute, and split dataset into train and test"
   ]
  },
  {
   "cell_type": "markdown",
   "id": "3600368c-e2d0-45fd-abb4-c7247a9d129d",
   "metadata": {},
   "source": [
    "# 5. Select a protected attribute from your chosen dataset for the next steps."
   ]
  },
  {
   "cell_type": "markdown",
   "id": "d1e2fb71-fe40-4b3a-bb3c-a47d3b5c8ce6",
   "metadata": {},
   "source": [
    "We are using \"Gender\" as a protected Attribute."
   ]
  },
  {
   "cell_type": "code",
   "execution_count": 6,
   "id": "1c162938-6984-4386-a56e-13a33b32691a",
   "metadata": {},
   "outputs": [
    {
     "name": "stderr",
     "output_type": "stream",
     "text": [
      "WARNING:root:Missing Data: 2809 rows removed from AdultDataset.\n"
     ]
    },
    {
     "name": "stdout",
     "output_type": "stream",
     "text": [
      "['age', 'fnlwgt', 'education-num', 'sex', 'capital-gain', 'capital-loss', 'hours-per-week', 'workclass=Federal-gov', 'workclass=Local-gov', 'workclass=Private', 'workclass=Self-emp-inc', 'workclass=Self-emp-not-inc', 'workclass=State-gov', 'workclass=Without-pay', 'occupation=Adm-clerical', 'occupation=Armed-Forces', 'occupation=Craft-repair', 'occupation=Exec-managerial', 'occupation=Farming-fishing', 'occupation=Handlers-cleaners', 'occupation=Machine-op-inspct', 'occupation=Other-service', 'occupation=Priv-house-serv', 'occupation=Prof-specialty', 'occupation=Protective-serv', 'occupation=Sales', 'occupation=Tech-support', 'occupation=Transport-moving']\n"
     ]
    }
   ],
   "source": [
    "dataset_orig = AdultDataset(\n",
    "    protected_attribute_names = ['sex'],\n",
    "    privileged_classes = [['Male']],\n",
    "    #protected_attribute_names=[\"race\", \"sex\"],           # this dataset also contains protected\n",
    "                                                 # attribute for \"sex\" which we do not\n",
    "                                                 # consider in this evaluation\n",
    "    #privileged_classes=[\"White\", \"Male\"],      # age >=25 is considered privileged\n",
    "    features_to_drop=['native-country', 'race', 'education', 'relationship', 'marital-status']\n",
    "    #features_to_keep=['race', 'capital-loss', 'education', 'education-num', 'workclass', 'age', 'fnlwgt', 'occupation',\n",
    "                      #'capital-gain', 'hours-per-week'] # ignore sex-related attributes\n",
    ")\n",
    "print(dataset_orig.feature_names)\n",
    "\n",
    "\n",
    "#privileged_groups = [{'race': 1, \"sex\": 1}]\n",
    "#unprivileged_groups = [{\"race\": 0, \"sex\": 0}]\n",
    "privileged_groups = [{'sex': 1}]\n",
    "unprivileged_groups = [{'sex': 0}]"
   ]
  },
  {
   "cell_type": "markdown",
   "id": "d72b4fdc-9a5e-4174-a1e9-fa391a541c65",
   "metadata": {},
   "source": [
    "Compute fairness metric on original training dataset"
   ]
  },
  {
   "cell_type": "markdown",
   "id": "8cab102b-32a1-4ab3-9cb8-dff858cbdf95",
   "metadata": {},
   "source": [
    "# 6. Compute multiple fairness metrics on that attribute (minimum: 4)."
   ]
  },
  {
   "cell_type": "code",
   "execution_count": 7,
   "id": "c4e16e48-0168-4706-9688-5d0522dbf2c1",
   "metadata": {},
   "outputs": [],
   "source": [
    "results = {}\n",
    "difference = {}"
   ]
  },
  {
   "cell_type": "code",
   "execution_count": 9,
   "id": "c7afcc60-abe0-4e0b-bedb-38277b519f82",
   "metadata": {},
   "outputs": [],
   "source": [
    "results = {\"mean_difference\": {\"before_reweighing\": None,\n",
    "                               \"after_reweighing\": None},\n",
    "           \n",
    "           \"disparate_impact_ratio\": {\"before_reweighing\": None,\n",
    "                                      \"after_reweighing\": None,\n",
    "                                      \"before_disparate_impact_remover\": None,\n",
    "                                      \"after_disparate_impact_remover\": None,\n",
    "                                      \"before_reject_option_classification\": None,\n",
    "                                      \"after_reject_option_classification\": None,\n",
    "                                      \"no_adversarial_debiasing\": None,\n",
    "                                      \"adversarial_debiasing\": None},\n",
    "           \n",
    "           \"balanced_accuracy\": {\"before_reject_option_classification\": None,\n",
    "                                \"after_reject_option_classification\": None,\n",
    "                                 \n",
    "                                \"no_adversarial_debiasing\": None,\n",
    "                                \"adversarial_debiasing\": None},\n",
    "           \n",
    "           \"average_odds_difference\": {\"before_reject_option_classification\": None,\n",
    "                                       \"after_reject_option_classification\": None,\n",
    "                                       \n",
    "                                       \"no_adversarial_debiasing\": None,\n",
    "                                      \"adversarial_debiasing\": None},\n",
    "           \n",
    "           \"statistical_parity_difference\": {\"before_reject_option_classification\": None,\n",
    "                                             \"after_reject_option_classification\": None},\n",
    "           \n",
    "           \"conditional_use_accuracy_equality\": {\"before_reject_option_classification\": None,\n",
    "                                  \"after_reject_option_classification\": None}\n",
    "          }"
   ]
  },
  {
   "cell_type": "code",
   "execution_count": 10,
   "id": "68b77927-f989-4ef3-8c42-5bce7b6a661e",
   "metadata": {},
   "outputs": [],
   "source": [
    "for key, value in results.items():\n",
    "    for nes_key, nes_value in value.items():\n",
    "        if nes_key == \"before_reweighing\" or nes_key == \"after_reweighing\":\n",
    "            continue\n",
    "        results[key][nes_key] = {\"validation\": None, \"test\": None}"
   ]
  },
  {
   "cell_type": "code",
   "execution_count": 11,
   "id": "1cc1190f-43da-4e96-b779-7be8bd58739c",
   "metadata": {},
   "outputs": [
    {
     "data": {
      "text/plain": [
       "{'before_reweighing': None, 'after_reweighing': None}"
      ]
     },
     "execution_count": 11,
     "metadata": {},
     "output_type": "execute_result"
    }
   ],
   "source": [
    "results[\"mean_difference\"]"
   ]
  },
  {
   "cell_type": "markdown",
   "id": "9c644554-520e-42f4-b595-79c8394f499f",
   "metadata": {},
   "source": [
    "##### i. Mean difference <br> ii. Disparate Ratio without using CLassifier"
   ]
  },
  {
   "cell_type": "code",
   "execution_count": 12,
   "id": "3d0806e4-5254-4277-be3e-b8c72304c7c7",
   "metadata": {},
   "outputs": [
    {
     "data": {
      "text/plain": [
       "{'before_reweighing': None, 'after_reweighing': None}"
      ]
     },
     "execution_count": 12,
     "metadata": {},
     "output_type": "execute_result"
    }
   ],
   "source": [
    "results[\"mean_difference\"]"
   ]
  },
  {
   "cell_type": "code",
   "execution_count": 13,
   "id": "9c02e90e-8405-4d68-adb5-353a81bb9409",
   "metadata": {},
   "outputs": [],
   "source": [
    "results[\"mean_difference\"][\"before_reweighing\"]"
   ]
  },
  {
   "cell_type": "code",
   "execution_count": 67,
   "id": "f755e121-61e3-47c8-bce9-5cee5086be96",
   "metadata": {},
   "outputs": [
    {
     "name": "stdout",
     "output_type": "stream",
     "text": [
      "Difference in mean outcomes between unprivileged and privileged groups = -0.199110\n"
     ]
    }
   ],
   "source": [
    "metric_orig = BinaryLabelDatasetMetric(dataset_orig, \n",
    "                                             unprivileged_groups=unprivileged_groups,\n",
    "                                             privileged_groups=privileged_groups)\n",
    "#mean_diff[\"before_reweighing\"] = metric_orig_train.mean_difference()\n",
    "results[\"mean_difference\"][\"before_reweighing\"] = metric_orig.mean_difference()\n",
    "print(\"Difference in mean outcomes between unprivileged and privileged groups = %f\" % metric_orig.mean_difference())"
   ]
  },
  {
   "cell_type": "markdown",
   "id": "5bd58f8d-3d13-4c11-b046-f06abc361461",
   "metadata": {},
   "source": [
    "##### ii. Disparate Impact Ratio"
   ]
  },
  {
   "cell_type": "code",
   "execution_count": 15,
   "id": "52ff8438-93c2-4c63-9ab4-5bdc8ff4dfe0",
   "metadata": {},
   "outputs": [
    {
     "data": {
      "text/plain": [
       "0.3631666646822667"
      ]
     },
     "execution_count": 15,
     "metadata": {},
     "output_type": "execute_result"
    }
   ],
   "source": [
    "results[\"disparate_impact_ratio\"][\"before_reweighing\"] = metric_orig.disparate_impact()\n",
    "metric_orig.disparate_impact()"
   ]
  },
  {
   "cell_type": "markdown",
   "id": "5cdc6c09-814a-4183-8f16-0f6457cd3a67",
   "metadata": {},
   "source": [
    "### Step 4 Mitigate bias by transforming the original dataset"
   ]
  },
  {
   "cell_type": "markdown",
   "id": "f78e8734-f8a3-41c3-b615-72bbb6a8d6d3",
   "metadata": {},
   "source": [
    "# 7. Try to mitigate bias using one of the bias mitigation algorithms provided by the toolkit"
   ]
  },
  {
   "cell_type": "markdown",
   "id": "f78a942f-9ddd-4d74-b1f4-76368dec58a8",
   "metadata": {},
   "source": [
    "### Bias Mitigation Algorithm # 1: Reweighing"
   ]
  },
  {
   "cell_type": "code",
   "execution_count": 16,
   "id": "4b523d5a-b474-42bd-b27c-613c3053c222",
   "metadata": {},
   "outputs": [],
   "source": [
    "RW = Reweighing(unprivileged_groups=unprivileged_groups,\n",
    "                privileged_groups=privileged_groups)\n",
    "dataset_transf= RW.fit_transform(X)"
   ]
  },
  {
   "cell_type": "markdown",
   "id": "2f6b91eb-78fb-4697-a89e-c26925540e8a",
   "metadata": {},
   "source": [
    "##### What types of bias mitigation algorithm are available?"
   ]
  },
  {
   "cell_type": "markdown",
   "id": "de98dbe2-a0d3-46c4-b87d-986e3b499224",
   "metadata": {},
   "source": [
    "Three types of Bias Mitigation strategies:\n",
    "<ul>\n",
    "    <li>Pre-processing</li>\n",
    "    <li>In-processing</li>\n",
    "    <li>Post-processing</li>\n",
    "</ul>"
   ]
  },
  {
   "cell_type": "markdown",
   "id": "c665c152-d176-45f1-9512-d4a502332dd9",
   "metadata": {},
   "source": [
    "##### Do you see a difference between the different types of algorithms?"
   ]
  },
  {
   "cell_type": "markdown",
   "id": "6f257ce4-0f1e-44df-9aa8-90c4ac28c38d",
   "metadata": {},
   "source": [
    "Yes, their strategies are different as clear from their names."
   ]
  },
  {
   "cell_type": "markdown",
   "id": "03482185-0254-4f28-8a36-81ded22a8db5",
   "metadata": {},
   "source": [
    "# 8. Compute your fairness metrics again after the mitigation step."
   ]
  },
  {
   "cell_type": "markdown",
   "id": "25f85d97-6dd7-4c8e-aeb2-51a1f63b3f26",
   "metadata": {},
   "source": [
    "##### i. Mean difference"
   ]
  },
  {
   "cell_type": "code",
   "execution_count": 68,
   "id": "fc86b410-7697-4467-8ee7-30322b3bddd2",
   "metadata": {
    "tags": []
   },
   "outputs": [
    {
     "name": "stdout",
     "output_type": "stream",
     "text": [
      "Difference in mean outcomes between unprivileged and privileged groups = 0.000000\n"
     ]
    }
   ],
   "source": [
    "metric_transf = BinaryLabelDatasetMetric(dataset_transf, \n",
    "                                               unprivileged_groups=unprivileged_groups,\n",
    "                                               privileged_groups=privileged_groups)\n",
    "results[\"mean_difference\"][\"after_reweighing\"] = metric_transf.mean_difference()\n",
    "print(\"Difference in mean outcomes between unprivileged and privileged groups = %f\" % metric_transf.mean_difference())"
   ]
  },
  {
   "cell_type": "markdown",
   "id": "43968fe2-dd99-42cc-b3b3-48d023855fb5",
   "metadata": {},
   "source": [
    "##### ii. Disparate Impact after Reweighing"
   ]
  },
  {
   "cell_type": "code",
   "execution_count": 18,
   "id": "b82558b0-bcb6-4aff-9c0f-7db303c1fe6a",
   "metadata": {},
   "outputs": [
    {
     "name": "stdout",
     "output_type": "stream",
     "text": [
      "Difference in mean outcomes between unprivileged and privileged groups = 1.000000\n"
     ]
    }
   ],
   "source": [
    "results[\"disparate_impact_ratio\"][\"after_reweighing\"] = metric_transf.disparate_impact()\n",
    "print(\"Difference in mean outcomes between unprivileged and privileged groups = %f\" % metric_transf.disparate_impact())"
   ]
  },
  {
   "cell_type": "markdown",
   "id": "786764be-9955-427b-8406-540ee25148c6",
   "metadata": {},
   "source": [
    "##### <br> ii. Disparate Impact Ratio (with Disparate Impact Remover)"
   ]
  },
  {
   "cell_type": "code",
   "execution_count": 19,
   "id": "bc417b88-22a8-4a25-8b92-82d5a1f2c70e",
   "metadata": {},
   "outputs": [],
   "source": [
    "from sklearn.linear_model import LogisticRegression\n",
    "from sklearn.preprocessing import StandardScaler, MinMaxScaler\n",
    "from sklearn.metrics import accuracy_score\n",
    "from sklearn.metrics import balanced_accuracy_score"
   ]
  },
  {
   "cell_type": "code",
   "execution_count": 20,
   "id": "35ff6c5d-454e-447a-ae7c-652e7c23ed3c",
   "metadata": {},
   "outputs": [
    {
     "data": {
      "text/plain": [
       "(1.0, 0.0)"
      ]
     },
     "execution_count": 20,
     "metadata": {},
     "output_type": "execute_result"
    }
   ],
   "source": [
    "dataset_orig.favorable_label, dataset_orig.unfavorable_label"
   ]
  },
  {
   "cell_type": "code",
   "execution_count": 21,
   "id": "d78b5a41-820b-4e2c-8434-e5ce97e7525b",
   "metadata": {},
   "outputs": [
    {
     "data": {
      "text/plain": [
       "0.3631666646822667"
      ]
     },
     "execution_count": 21,
     "metadata": {},
     "output_type": "execute_result"
    }
   ],
   "source": [
    "metric_orig_new = BinaryLabelDatasetMetric(dataset_orig, unprivileged_groups=unprivileged_groups, privileged_groups=privileged_groups)\n",
    "results[\"disparate_impact_ratio\"][\"before_disparate_impact_remover\"] = metric_orig_new.disparate_impact()\n",
    "metric_orig_new.disparate_impact()"
   ]
  },
  {
   "cell_type": "markdown",
   "id": "aaa432be-98b4-482b-a322-68a07b6c0d3c",
   "metadata": {},
   "source": [
    "### Bias Mitigation Algorithm # 2: Disparate Impact Remover"
   ]
  },
  {
   "cell_type": "code",
   "execution_count": 22,
   "id": "989a79c5-d19a-4119-b730-0b21fa921037",
   "metadata": {},
   "outputs": [
    {
     "name": "stderr",
     "output_type": "stream",
     "text": [
      "WARNING:root:Missing Data: 2809 rows removed from AdultDataset.\n"
     ]
    }
   ],
   "source": [
    "ad = AdultDataset(\n",
    "protected_attribute_names = ['sex'],\n",
    "privileged_classes = [['Male']], features_to_drop=['native-country', 'race', 'education', 'relationship', 'marital-status'])"
   ]
  },
  {
   "cell_type": "code",
   "execution_count": 23,
   "id": "9dc8e6e0-06a3-4b5a-98ab-92a9eaa62100",
   "metadata": {},
   "outputs": [],
   "source": [
    "from tqdm import tqdm"
   ]
  },
  {
   "cell_type": "code",
   "execution_count": 24,
   "id": "88c9fdbd-6e35-4980-aedb-8bcfa24594e7",
   "metadata": {},
   "outputs": [],
   "source": [
    "import matplotlib.pyplot as plt\n",
    "DIs = []\n",
    "def disparate_impact_remover(ad):\n",
    "    scaler = MinMaxScaler(copy=False)\n",
    "    \n",
    "    test, train = ad.split([16281])\n",
    "    train.features = scaler.fit_transform(train.features)\n",
    "    test.features = scaler.fit_transform(test.features)\n",
    "    index = train.feature_names.index(\"sex\")\n",
    "    \n",
    "    for level in tqdm(np.linspace(0., 1., 11)):\n",
    "        di = DisparateImpactRemover(repair_level=level)\n",
    "        train_repd = di.fit_transform(train)\n",
    "        test_repd = di.fit_transform(test)\n",
    "        X_train = np.delete(train_repd.features, index, axis=1)\n",
    "        X_test = np.delete(test_repd.features, index, axis=1)\n",
    "        y_train = train_repd.labels.ravel()\n",
    "        lr = LogisticRegression(class_weight='balanced', solver='liblinear')\n",
    "        lr.fit(X_train, y_train)\n",
    "        test_repd_pred = test_repd.copy()\n",
    "        test_repd_pred.labels = lr.predict(X_test)\n",
    "        cm = BinaryLabelDatasetMetric(test_repd_pred, privileged_groups=privileged_groups, unprivileged_groups=unprivileged_groups)\n",
    "        DIs.append(cm.disparate_impact())\n",
    "    return np.mean(DIs)"
   ]
  },
  {
   "cell_type": "code",
   "execution_count": 25,
   "id": "60bef3fa-a8de-4d17-9bfe-c7e0fd078da4",
   "metadata": {},
   "outputs": [
    {
     "name": "stderr",
     "output_type": "stream",
     "text": [
      "100%|██████████████████████████████████████████████████████████████████████████████████| 11/11 [02:08<00:00, 11.64s/it]\n"
     ]
    },
    {
     "data": {
      "text/plain": [
       "0.7000620570902111"
      ]
     },
     "execution_count": 25,
     "metadata": {},
     "output_type": "execute_result"
    }
   ],
   "source": [
    "disparate_impact_ratio = disparate_impact_remover(ad)\n",
    "results[\"disparate_impact_ratio\"][\"after_disparate_impact_remover\"] = disparate_impact_ratio\n",
    "disparate_impact_ratio"
   ]
  },
  {
   "cell_type": "code",
   "execution_count": 26,
   "id": "c5dd9d1d-3356-466b-b940-589371e425fc",
   "metadata": {},
   "outputs": [
    {
     "data": {
      "image/png": "[encoded data removed]",
      "text/plain": [
       "<Figure size 432x288 with 1 Axes>"
      ]
     },
     "metadata": {
      "needs_background": "light"
     },
     "output_type": "display_data"
    }
   ],
   "source": [
    "%matplotlib inline\n",
    "plt.plot(np.linspace(0, 1, 11), DIs, marker='o')\n",
    "plt.plot([0, 1], [1, 1], 'g')\n",
    "plt.plot([0, 1], [0.7, 0.7], 'r')\n",
    "plt.ylim([0.4, 1.2])\n",
    "plt.ylabel('Disparate Impact (DI)')\n",
    "plt.xlabel('repair level')\n",
    "plt.show()"
   ]
  },
  {
   "cell_type": "markdown",
   "id": "6976b9f6-d44e-43eb-b5d5-a53bfb45d387",
   "metadata": {},
   "source": [
    "##### ii. Disparate Impact Ratio (with other Bias Mitigation Algorithms) <br>  iii. Balanced Accuracy <br> iv. Equalized Odds <br> v. Average Odds Difference <br> v. Conditional Use Accuracy Equality"
   ]
  },
  {
   "cell_type": "markdown",
   "id": "872c306f-abea-4b01-9e86-de47f624bc25",
   "metadata": {},
   "source": [
    "We will compute these values simultaneously."
   ]
  },
  {
   "cell_type": "markdown",
   "id": "5ee05ed6-92b1-4a80-aa02-f3e5916a488d",
   "metadata": {},
   "source": [
    "### Splitting the dataset into Train, Validation and Test sets"
   ]
  },
  {
   "cell_type": "code",
   "execution_count": 27,
   "id": "3c2b1090-761f-4e02-a4cb-72cdfcd2a894",
   "metadata": {},
   "outputs": [],
   "source": [
    "dataset_orig_train, dataset_orig_vt = dataset_orig.split([0.7], shuffle=True)\n",
    "dataset_orig_val, dataset_orig_test = dataset_orig_vt.split([0.5], shuffle=True)"
   ]
  },
  {
   "cell_type": "code",
   "execution_count": null,
   "id": "e85c29ca-8a51-4292-badb-f6eef696a493",
   "metadata": {},
   "outputs": [],
   "source": []
  },
  {
   "cell_type": "code",
   "execution_count": 28,
   "id": "e296c82e-0c39-45f2-acba-787408c4a203",
   "metadata": {},
   "outputs": [],
   "source": [
    "#Train classifier on original data\n",
    "def train_classifier(dataset_orig_train):\n",
    "    #Logistic Regression\n",
    "    global scale_orig\n",
    "    scale_orig = StandardScaler()\n",
    "    X_train = scale_orig.fit_transform(dataset_orig_train.features)\n",
    "    y_train = dataset_orig_train.labels.ravel()\n",
    "    w_train = dataset_orig_train.instance_weights.ravel()\n",
    "    \n",
    "    lr = LogisticRegression()\n",
    "    lr.fit(X_train, y_train, sample_weight=dataset_orig_train.instance_weights)\n",
    "    y_train_predict = lr.predict(X_train)\n",
    "    \n",
    "    # positive class index\n",
    "    pos_ind = np.where(lr.classes_ == dataset_orig_train.favorable_label)[0][0]\n",
    "    dataset_orig_train_pred = dataset_orig_train.copy()\n",
    "    dataset_orig_train_pred.labels = y_train_predict\n",
    "    return lr, dataset_orig_train_pred, pos_ind"
   ]
  },
  {
   "cell_type": "code",
   "execution_count": 29,
   "id": "bf8c2413-5cf7-42c5-9da3-d66b764da941",
   "metadata": {},
   "outputs": [],
   "source": [
    "lr, dataset_orig_train_pred, pos_ind = train_classifier(dataset_orig_train)"
   ]
  },
  {
   "cell_type": "code",
   "execution_count": 30,
   "id": "1b612d62-c978-46a1-abc1-d2e3a7fda7d8",
   "metadata": {},
   "outputs": [],
   "source": [
    "# Obtain scores for original validation and test sets\n",
    "def calculate_scores(dataset_orig_val, dataset_orig_test, classifier, pos_ind):\n",
    "    dataset_orig_val_pred = dataset_orig_val.copy(deepcopy=True)\n",
    "    X_val = scale_orig.transform(dataset_orig_val_pred.features)\n",
    "    y_val = dataset_orig_val_pred.labels\n",
    "    dataset_orig_val_pred.scores = classifier.predict_proba(X_val)[:,pos_ind].reshape(-1,1)\n",
    "\n",
    "    dataset_orig_test_pred = dataset_orig_test.copy(deepcopy=True)\n",
    "    X_test = scale_orig.transform(dataset_orig_test_pred.features)\n",
    "    y_test = dataset_orig_test_pred.labels\n",
    "    dataset_orig_test_pred.scores = classifier.predict_proba(X_test)[:,pos_ind].reshape(-1,1)\n",
    "    return (dataset_orig_val_pred, dataset_orig_test_pred), (X_val, y_val), (X_test, y_test)"
   ]
  },
  {
   "cell_type": "code",
   "execution_count": 31,
   "id": "3957ce54-0ff1-4f45-b8db-acc9e39aaff7",
   "metadata": {},
   "outputs": [],
   "source": [
    "(dataset_orig_val_pred, dataset_orig_test_pred), (X_val, y_val), (X_test, y_test) = calculate_scores(dataset_orig_val, dataset_orig_test, lr, pos_ind)"
   ]
  },
  {
   "cell_type": "code",
   "execution_count": 32,
   "id": "155ef56f-8440-487e-99a9-e411a4b09391",
   "metadata": {},
   "outputs": [],
   "source": [
    "# Find the optimal classification threshold from the validation set\n",
    "def find_optimal_clasific_thresh(dataset_orig_val, dataset_orig_val_pred):\n",
    "    num_thresh = 100\n",
    "    ba_arr = np.zeros(num_thresh)\n",
    "    class_thresh_arr = np.linspace(0.01, 0.99, num_thresh)\n",
    "    \n",
    "    for idx, class_thresh in enumerate(class_thresh_arr):\n",
    "        fav_inds = dataset_orig_val_pred.scores > class_thresh\n",
    "        #print(fav_inds[:5], dataset_orig_val_pred.scores[:5], class_thresh)\n",
    "        dataset_orig_val_pred.labels[fav_inds] = dataset_orig_val_pred.favorable_label\n",
    "        dataset_orig_val_pred.labels[~fav_inds] = dataset_orig_val_pred.unfavorable_label\n",
    "        #print(dataset_orig_val_pred.labels)\n",
    "        \n",
    "        classified_metric_orig_val = ClassificationMetric(dataset_orig_val, dataset_orig_val_pred, unprivileged_groups=unprivileged_groups,\n",
    "                                             privileged_groups=privileged_groups)\n",
    "        \n",
    "        ba_arr[idx] = 0.5*(classified_metric_orig_val.true_positive_rate() + classified_metric_orig_val.true_negative_rate())\n",
    "    \n",
    "    best_ind = np.where(ba_arr == np.max(ba_arr))[0][0]\n",
    "    best_class_thresh = class_thresh_arr[best_ind]\n",
    "    print(\"Best balanced accuracy (no reweighing) = %.4f\" % np.max(ba_arr))\n",
    "    print(\"Optimal classification threshold (no reweighing) = %.4f\" % best_class_thresh)\n",
    "    return best_class_thresh, class_thresh_arr"
   ]
  },
  {
   "cell_type": "code",
   "execution_count": 33,
   "id": "75fc0536-5761-4f0a-a7b3-6e55d6deb7fd",
   "metadata": {},
   "outputs": [
    {
     "name": "stdout",
     "output_type": "stream",
     "text": [
      "Best balanced accuracy (no reweighing) = 0.7698\n",
      "Optimal classification threshold (no reweighing) = 0.2179\n"
     ]
    }
   ],
   "source": [
    "best_class_thresh, class_thresh_arr = find_optimal_clasific_thresh(dataset_orig_val, dataset_orig_val_pred)"
   ]
  },
  {
   "cell_type": "code",
   "execution_count": 34,
   "id": "e6af21f5-15e7-43e5-a5d0-1037fbee43de",
   "metadata": {},
   "outputs": [
    {
     "data": {
      "text/plain": [
       "0.21787878787878787"
      ]
     },
     "execution_count": 34,
     "metadata": {},
     "output_type": "execute_result"
    }
   ],
   "source": [
    "best_class_thresh"
   ]
  },
  {
   "cell_type": "code",
   "execution_count": 35,
   "id": "55f02663-a8b8-4b2d-acb5-1248ae9d58f6",
   "metadata": {},
   "outputs": [],
   "source": [
    "data_train_new = dataset_orig_train.copy(deepcopy=True)"
   ]
  },
  {
   "cell_type": "code",
   "execution_count": null,
   "id": "e9653645-5cb3-4678-a57e-e8f0120cdd55",
   "metadata": {},
   "outputs": [],
   "source": []
  },
  {
   "cell_type": "markdown",
   "id": "6fa64e8e-4ec0-4a89-9fc1-1ffa635f57eb",
   "metadata": {},
   "source": [
    "### Bias Mitigation Algorithm # 3: Reject Option Class Classification"
   ]
  },
  {
   "cell_type": "code",
   "execution_count": 36,
   "id": "a5186f45-29d4-4a15-b93b-0ee4831dd8aa",
   "metadata": {},
   "outputs": [],
   "source": [
    "ROC = RejectOptionClassification(unprivileged_groups=unprivileged_groups, \n",
    "                                 privileged_groups=privileged_groups, \n",
    "                                 low_class_thresh=0.01, high_class_thresh=0.99,\n",
    "                                  num_class_thresh=100, num_ROC_margin=50,\n",
    "                                  metric_name=\"Statistical parity difference\",\n",
    "                                  metric_ub=0.05, metric_lb=-0.05)\n",
    "ROC = ROC.fit(dataset_orig_val, dataset_orig_val_pred)"
   ]
  },
  {
   "cell_type": "code",
   "execution_count": 37,
   "id": "38cada3d-3322-4137-ab72-cc7c25ebedb8",
   "metadata": {},
   "outputs": [
    {
     "name": "stdout",
     "output_type": "stream",
     "text": [
      "Optimal classification threshold (with fairness constraints) = 0.1981\n",
      "Optimal ROC margin = 0.1091\n"
     ]
    }
   ],
   "source": [
    "print(\"Optimal classification threshold (with fairness constraints) = %.4f\" % ROC.classification_threshold)\n",
    "print(\"Optimal ROC margin = %.4f\" % ROC.ROC_margin)"
   ]
  },
  {
   "cell_type": "code",
   "execution_count": 38,
   "id": "cb4e8bc7-5c36-45c9-9042-aa4cc8de2e9b",
   "metadata": {},
   "outputs": [],
   "source": [
    "from common_utils import compute_metrics\n",
    "def compute_results(data, data_pred, clf, results, key, set_name = \"validation\"):\n",
    "    \"\"\"\n",
    "    set_name-> validation or test only.\n",
    "    clf-> classifier name\n",
    "    \"\"\"\n",
    "    # Metrics for the test set\n",
    "    fav_inds = data_pred.scores > best_class_thresh\n",
    "    data_pred.labels[fav_inds] = data_pred.favorable_label\n",
    "    data_pred.labels[~fav_inds] = data_pred.unfavorable_label\n",
    "    \n",
    "    display(Markdown(\"#### \" + str(set_name) + \" set\"))\n",
    "    display(Markdown(\"##### Raw predictions - No fairness constraints, only maximizing balanced accuracy\"))\n",
    "\n",
    "    metric_valid_bef = compute_metrics(data, data_pred, \n",
    "                unprivileged_groups, privileged_groups)\n",
    "\n",
    "    results[\"balanced_accuracy\"][\"before_\" + str(key)][set_name] = metric_valid_bef[\"Balanced accuracy\"]\n",
    "    results[\"disparate_impact_ratio\"][\"before_\" + str(key)][set_name] = metric_valid_bef[\"Disparate impact\"]\n",
    "    results[\"average_odds_difference\"][\"before_\" + str(key)][set_name] = metric_valid_bef[\"Average odds difference\"]\n",
    "    results[\"conditional_use_accuracy_equality\"][\"before_\" + str(key)][set_name] = metric_valid_bef[\"Conditional Use Accuracy Equality\"]\n",
    "    results[\"statistical_parity_difference\"][\"before_\" + str(key)][set_name] = metric_valid_bef[\"Statistical parity difference\"]\n",
    "    \n",
    "    # Transform the validation set\n",
    "    data_trans_pred = clf.predict(data_pred)\n",
    "    \n",
    "    display(Markdown(\"#### \" + str(set_name) + \" set\"))\n",
    "    display(Markdown(\"##### Transformed predictions - With fairness constraints\"))\n",
    "    metric_val_aft = compute_metrics(data, data_trans_pred, unprivileged_groups, privileged_groups)\n",
    "    \n",
    "    results[\"balanced_accuracy\"][\"after_\" + str(key)][set_name] = metric_val_aft[\"Balanced accuracy\"]\n",
    "    results[\"disparate_impact_ratio\"][\"after_\" + str(key)][set_name] = metric_val_aft[\"Disparate impact\"]\n",
    "    results[\"average_odds_difference\"][\"after_\" + str(key)][set_name] = metric_val_aft[\"Average odds difference\"]\n",
    "    results[\"conditional_use_accuracy_equality\"][\"after_\" + str(key)][set_name] = metric_val_aft[\"Conditional Use Accuracy Equality\"]\n",
    "    results[\"statistical_parity_difference\"][\"after_\" + str(key)][set_name] = metric_val_aft[\"Statistical parity difference\"]\n",
    "    return results"
   ]
  },
  {
   "cell_type": "code",
   "execution_count": null,
   "id": "aba74c29-86f6-4528-8af2-a3c086c9af93",
   "metadata": {},
   "outputs": [],
   "source": []
  },
  {
   "cell_type": "code",
   "execution_count": null,
   "id": "bf23a2bb-6f5b-4ae8-8dc3-bca8276b969d",
   "metadata": {},
   "outputs": [],
   "source": []
  },
  {
   "cell_type": "code",
   "execution_count": null,
   "id": "68c6a20d-057c-4784-a6c2-4c3274ce5d75",
   "metadata": {},
   "outputs": [],
   "source": []
  },
  {
   "cell_type": "code",
   "execution_count": 39,
   "id": "816f46c9-92e7-4c56-93eb-fdfb3b124828",
   "metadata": {},
   "outputs": [
    {
     "data": {
      "text/markdown": [
       "#### test set"
      ],
      "text/plain": [
       "<IPython.core.display.Markdown object>"
      ]
     },
     "metadata": {},
     "output_type": "display_data"
    },
    {
     "data": {
      "text/markdown": [
       "##### Raw predictions - No fairness constraints, only maximizing balanced accuracy"
      ],
      "text/plain": [
       "<IPython.core.display.Markdown object>"
      ]
     },
     "metadata": {},
     "output_type": "display_data"
    },
    {
     "name": "stdout",
     "output_type": "stream",
     "text": [
      "Balanced accuracy = 0.7587\n",
      "Statistical parity difference = -0.3690\n",
      "Disparate impact = 0.2661\n",
      "Average odds difference = -0.3207\n",
      "Equal opportunity difference = -0.3739\n",
      "Theil index = 0.1074\n",
      "Conditional Use Accuracy Equality = 0.9082\n"
     ]
    },
    {
     "data": {
      "text/markdown": [
       "#### test set"
      ],
      "text/plain": [
       "<IPython.core.display.Markdown object>"
      ]
     },
     "metadata": {},
     "output_type": "display_data"
    },
    {
     "data": {
      "text/markdown": [
       "##### Transformed predictions - With fairness constraints"
      ],
      "text/plain": [
       "<IPython.core.display.Markdown object>"
      ]
     },
     "metadata": {},
     "output_type": "display_data"
    },
    {
     "name": "stdout",
     "output_type": "stream",
     "text": [
      "Balanced accuracy = 0.7324\n",
      "Statistical parity difference = -0.0354\n",
      "Disparate impact = 0.9081\n",
      "Average odds difference = 0.0268\n",
      "Equal opportunity difference = -0.0118\n",
      "Theil index = 0.1212\n",
      "Conditional Use Accuracy Equality = 0.8900\n"
     ]
    },
    {
     "data": {
      "text/markdown": [
       "#### validation set"
      ],
      "text/plain": [
       "<IPython.core.display.Markdown object>"
      ]
     },
     "metadata": {},
     "output_type": "display_data"
    },
    {
     "data": {
      "text/markdown": [
       "##### Raw predictions - No fairness constraints, only maximizing balanced accuracy"
      ],
      "text/plain": [
       "<IPython.core.display.Markdown object>"
      ]
     },
     "metadata": {},
     "output_type": "display_data"
    },
    {
     "name": "stdout",
     "output_type": "stream",
     "text": [
      "Balanced accuracy = 0.7698\n",
      "Statistical parity difference = -0.3751\n",
      "Disparate impact = 0.2604\n",
      "Average odds difference = -0.3068\n",
      "Equal opportunity difference = -0.3459\n",
      "Theil index = 0.1032\n",
      "Conditional Use Accuracy Equality = 0.9131\n"
     ]
    },
    {
     "data": {
      "text/markdown": [
       "#### validation set"
      ],
      "text/plain": [
       "<IPython.core.display.Markdown object>"
      ]
     },
     "metadata": {},
     "output_type": "display_data"
    },
    {
     "data": {
      "text/markdown": [
       "##### Transformed predictions - With fairness constraints"
      ],
      "text/plain": [
       "<IPython.core.display.Markdown object>"
      ]
     },
     "metadata": {},
     "output_type": "display_data"
    },
    {
     "name": "stdout",
     "output_type": "stream",
     "text": [
      "Balanced accuracy = 0.7409\n",
      "Statistical parity difference = -0.0490\n",
      "Disparate impact = 0.8757\n",
      "Average odds difference = 0.0331\n",
      "Equal opportunity difference = 0.0084\n",
      "Theil index = 0.1176\n",
      "Conditional Use Accuracy Equality = 0.8941\n"
     ]
    }
   ],
   "source": [
    "key = \"reject_option_classification\"\n",
    "results = compute_results(dataset_orig_test, dataset_orig_test_pred, ROC, results, key, \"test\")\n",
    "results = compute_results(dataset_orig_val, dataset_orig_val_pred, ROC, results, key, \"validation\")"
   ]
  },
  {
   "cell_type": "code",
   "execution_count": null,
   "id": "bc787647-db5d-494c-8bc8-4c35cf7d8aea",
   "metadata": {},
   "outputs": [],
   "source": []
  },
  {
   "cell_type": "code",
   "execution_count": 40,
   "id": "6768b113-886a-44d1-b81f-4c809c4149c5",
   "metadata": {},
   "outputs": [
    {
     "data": {
      "text/plain": [
       "{'mean_difference': {'before_reweighing': -0.19911019753072282,\n",
       "  'after_reweighing': 5.551115123125783e-17},\n",
       " 'disparate_impact_ratio': {'before_reweighing': 0.3631666646822667,\n",
       "  'after_reweighing': 1.0000000000000002,\n",
       "  'before_disparate_impact_remover': 0.3631666646822667,\n",
       "  'after_disparate_impact_remover': 0.7000620570902111,\n",
       "  'before_reject_option_classification': {'validation': 0.2604352651643102,\n",
       "   'test': 0.2660801329324019},\n",
       "  'after_reject_option_classification': {'validation': 0.8756599294180772,\n",
       "   'test': 0.908118054077203},\n",
       "  'no_adversarial_debiasing': {'validation': None, 'test': None},\n",
       "  'adversarial_debiasing': {'validation': None, 'test': None}},\n",
       " 'balanced_accuracy': {'before_reject_option_classification': {'validation': 0.769789602645629,\n",
       "   'test': 0.758687408499511},\n",
       "  'after_reject_option_classification': {'validation': 0.7408848822181486,\n",
       "   'test': 0.7323787858572981},\n",
       "  'no_adversarial_debiasing': {'validation': None, 'test': None},\n",
       "  'adversarial_debiasing': {'validation': None, 'test': None}},\n",
       " 'average_odds_difference': {'before_reject_option_classification': {'validation': -0.30684459455419155,\n",
       "   'test': -0.3207258325272865},\n",
       "  'after_reject_option_classification': {'validation': 0.03311988465745544,\n",
       "   'test': 0.02675032522763593},\n",
       "  'no_adversarial_debiasing': {'validation': None, 'test': None},\n",
       "  'adversarial_debiasing': {'validation': None, 'test': None}},\n",
       " 'statistical_parity_difference': {'before_reject_option_classification': {'validation': -0.3750581210385924,\n",
       "   'test': -0.36900296528366605},\n",
       "  'after_reject_option_classification': {'validation': -0.04897267803723804,\n",
       "   'test': -0.03535585799213409}},\n",
       " 'conditional_use_accuracy_equality': {'before_reject_option_classification': {'validation': 0.913104744011273,\n",
       "   'test': 0.9081728511038046},\n",
       "  'after_reject_option_classification': {'validation': 0.8941121712822899,\n",
       "   'test': 0.8899930667899237}}}"
      ]
     },
     "execution_count": 40,
     "metadata": {},
     "output_type": "execute_result"
    }
   ],
   "source": [
    "results"
   ]
  },
  {
   "cell_type": "code",
   "execution_count": null,
   "id": "6d39b78b-e9aa-4ff4-88f6-3ad3d04f9b56",
   "metadata": {},
   "outputs": [],
   "source": []
  },
  {
   "cell_type": "markdown",
   "id": "ed715464-2dcf-460d-8570-21706869cc7f",
   "metadata": {},
   "source": [
    "### Bias Mitigation Algorithm # 4: Adversarial Debiasing"
   ]
  },
  {
   "cell_type": "code",
   "execution_count": 41,
   "id": "571b0b15-bf33-4188-bba9-29f66d99432b",
   "metadata": {},
   "outputs": [],
   "source": [
    "import tensorflow.compat.v1 as tf\n",
    "tf.disable_eager_execution()"
   ]
  },
  {
   "cell_type": "markdown",
   "id": "4f7856d4-1e02-49b9-aa56-99250d98f4b0",
   "metadata": {},
   "source": [
    "### Learn plain classifier without debiasing"
   ]
  },
  {
   "cell_type": "code",
   "execution_count": 42,
   "id": "eac4e091-cca6-46a0-8f7b-e1ee54527b48",
   "metadata": {},
   "outputs": [],
   "source": [
    "sess = tf.Session()\n",
    "plain_model = AdversarialDebiasing(privileged_groups = privileged_groups,\n",
    "                          unprivileged_groups = unprivileged_groups,\n",
    "                          scope_name='plain_classifier',\n",
    "                          debias=False,\n",
    "                          sess=sess)"
   ]
  },
  {
   "cell_type": "code",
   "execution_count": 43,
   "id": "f994f3db-5185-4cb4-83fa-6b872ece2473",
   "metadata": {},
   "outputs": [
    {
     "name": "stdout",
     "output_type": "stream",
     "text": [
      "WARNING:tensorflow:From C:\\Users\\Muhammad Kaleemullah\\Learn\\HCDS\\AIF360\\lib\\site-packages\\tensorflow\\python\\util\\dispatch.py:1082: calling dropout (from tensorflow.python.ops.nn_ops) with keep_prob is deprecated and will be removed in a future version.\n",
      "Instructions for updating:\n",
      "Please use `rate` instead of `keep_prob`. Rate should be set to `rate = 1 - keep_prob`.\n"
     ]
    },
    {
     "name": "stderr",
     "output_type": "stream",
     "text": [
      "WARNING:tensorflow:From C:\\Users\\Muhammad Kaleemullah\\Learn\\HCDS\\AIF360\\lib\\site-packages\\tensorflow\\python\\util\\dispatch.py:1082: calling dropout (from tensorflow.python.ops.nn_ops) with keep_prob is deprecated and will be removed in a future version.\n",
      "Instructions for updating:\n",
      "Please use `rate` instead of `keep_prob`. Rate should be set to `rate = 1 - keep_prob`.\n"
     ]
    },
    {
     "name": "stdout",
     "output_type": "stream",
     "text": [
      "epoch 0; iter: 0; batch classifier loss: 2110.022949\n",
      "epoch 0; iter: 200; batch classifier loss: 1075.156250\n",
      "epoch 1; iter: 0; batch classifier loss: 590.782166\n",
      "epoch 1; iter: 200; batch classifier loss: 104.426483\n",
      "epoch 2; iter: 0; batch classifier loss: 63.359669\n",
      "epoch 2; iter: 200; batch classifier loss: 36.754791\n",
      "epoch 3; iter: 0; batch classifier loss: 15.428070\n",
      "epoch 3; iter: 200; batch classifier loss: 71.418976\n",
      "epoch 4; iter: 0; batch classifier loss: 4.325503\n",
      "epoch 4; iter: 200; batch classifier loss: 4.068932\n",
      "epoch 5; iter: 0; batch classifier loss: 10.688557\n",
      "epoch 5; iter: 200; batch classifier loss: 5.539436\n",
      "epoch 6; iter: 0; batch classifier loss: 2.729113\n",
      "epoch 6; iter: 200; batch classifier loss: 5.789263\n",
      "epoch 7; iter: 0; batch classifier loss: 3.516009\n",
      "epoch 7; iter: 200; batch classifier loss: 9.215786\n",
      "epoch 8; iter: 0; batch classifier loss: 1.632131\n",
      "epoch 8; iter: 200; batch classifier loss: 5.470144\n",
      "epoch 9; iter: 0; batch classifier loss: 2.422668\n",
      "epoch 9; iter: 200; batch classifier loss: 3.072185\n",
      "epoch 10; iter: 0; batch classifier loss: 4.374203\n",
      "epoch 10; iter: 200; batch classifier loss: 2.590156\n",
      "epoch 11; iter: 0; batch classifier loss: 1.067096\n",
      "epoch 11; iter: 200; batch classifier loss: 2.784273\n",
      "epoch 12; iter: 0; batch classifier loss: 1.150063\n",
      "epoch 12; iter: 200; batch classifier loss: 1.310045\n",
      "epoch 13; iter: 0; batch classifier loss: 1.371148\n",
      "epoch 13; iter: 200; batch classifier loss: 0.990221\n",
      "epoch 14; iter: 0; batch classifier loss: 0.812685\n",
      "epoch 14; iter: 200; batch classifier loss: 0.561954\n",
      "epoch 15; iter: 0; batch classifier loss: 0.546215\n",
      "epoch 15; iter: 200; batch classifier loss: 1.116394\n",
      "epoch 16; iter: 0; batch classifier loss: 0.538821\n",
      "epoch 16; iter: 200; batch classifier loss: 0.473125\n",
      "epoch 17; iter: 0; batch classifier loss: 1.306736\n",
      "epoch 17; iter: 200; batch classifier loss: 0.734116\n",
      "epoch 18; iter: 0; batch classifier loss: 0.534088\n",
      "epoch 18; iter: 200; batch classifier loss: 0.651270\n",
      "epoch 19; iter: 0; batch classifier loss: 0.583338\n",
      "epoch 19; iter: 200; batch classifier loss: 0.623884\n",
      "epoch 20; iter: 0; batch classifier loss: 0.544361\n",
      "epoch 20; iter: 200; batch classifier loss: 0.530518\n",
      "epoch 21; iter: 0; batch classifier loss: 0.590812\n",
      "epoch 21; iter: 200; batch classifier loss: 0.532467\n",
      "epoch 22; iter: 0; batch classifier loss: 0.578887\n",
      "epoch 22; iter: 200; batch classifier loss: 0.644988\n",
      "epoch 23; iter: 0; batch classifier loss: 0.631592\n",
      "epoch 23; iter: 200; batch classifier loss: 0.520457\n",
      "epoch 24; iter: 0; batch classifier loss: 0.597916\n",
      "epoch 24; iter: 200; batch classifier loss: 0.537825\n",
      "epoch 25; iter: 0; batch classifier loss: 0.501442\n",
      "epoch 25; iter: 200; batch classifier loss: 0.596317\n",
      "epoch 26; iter: 0; batch classifier loss: 0.474383\n",
      "epoch 26; iter: 200; batch classifier loss: 0.564270\n",
      "epoch 27; iter: 0; batch classifier loss: 0.547016\n",
      "epoch 27; iter: 200; batch classifier loss: 0.431341\n",
      "epoch 28; iter: 0; batch classifier loss: 0.415305\n",
      "epoch 28; iter: 200; batch classifier loss: 0.512419\n",
      "epoch 29; iter: 0; batch classifier loss: 0.559415\n",
      "epoch 29; iter: 200; batch classifier loss: 0.549424\n",
      "epoch 30; iter: 0; batch classifier loss: 0.492466\n",
      "epoch 30; iter: 200; batch classifier loss: 0.505372\n",
      "epoch 31; iter: 0; batch classifier loss: 0.463680\n",
      "epoch 31; iter: 200; batch classifier loss: 0.482675\n",
      "epoch 32; iter: 0; batch classifier loss: 0.436545\n",
      "epoch 32; iter: 200; batch classifier loss: 0.464271\n",
      "epoch 33; iter: 0; batch classifier loss: 0.511503\n",
      "epoch 33; iter: 200; batch classifier loss: 0.515191\n",
      "epoch 34; iter: 0; batch classifier loss: 0.484704\n",
      "epoch 34; iter: 200; batch classifier loss: 0.618816\n",
      "epoch 35; iter: 0; batch classifier loss: 0.498874\n",
      "epoch 35; iter: 200; batch classifier loss: 0.413328\n",
      "epoch 36; iter: 0; batch classifier loss: 0.462896\n",
      "epoch 36; iter: 200; batch classifier loss: 0.467719\n",
      "epoch 37; iter: 0; batch classifier loss: 0.516558\n",
      "epoch 37; iter: 200; batch classifier loss: 0.472480\n",
      "epoch 38; iter: 0; batch classifier loss: 0.447715\n",
      "epoch 38; iter: 200; batch classifier loss: 0.429350\n",
      "epoch 39; iter: 0; batch classifier loss: 0.461343\n",
      "epoch 39; iter: 200; batch classifier loss: 0.509472\n",
      "epoch 40; iter: 0; batch classifier loss: 0.546179\n",
      "epoch 40; iter: 200; batch classifier loss: 0.532679\n",
      "epoch 41; iter: 0; batch classifier loss: 0.527431\n",
      "epoch 41; iter: 200; batch classifier loss: 0.500599\n",
      "epoch 42; iter: 0; batch classifier loss: 0.475421\n",
      "epoch 42; iter: 200; batch classifier loss: 0.477337\n",
      "epoch 43; iter: 0; batch classifier loss: 0.455226\n",
      "epoch 43; iter: 200; batch classifier loss: 0.485964\n",
      "epoch 44; iter: 0; batch classifier loss: 0.471031\n",
      "epoch 44; iter: 200; batch classifier loss: 0.582096\n",
      "epoch 45; iter: 0; batch classifier loss: 0.589509\n",
      "epoch 45; iter: 200; batch classifier loss: 0.494347\n",
      "epoch 46; iter: 0; batch classifier loss: 0.565848\n",
      "epoch 46; iter: 200; batch classifier loss: 0.431163\n",
      "epoch 47; iter: 0; batch classifier loss: 0.514128\n",
      "epoch 47; iter: 200; batch classifier loss: 0.537441\n",
      "epoch 48; iter: 0; batch classifier loss: 0.475920\n",
      "epoch 48; iter: 200; batch classifier loss: 0.470410\n",
      "epoch 49; iter: 0; batch classifier loss: 0.537327\n",
      "epoch 49; iter: 200; batch classifier loss: 0.432271\n"
     ]
    },
    {
     "data": {
      "text/plain": [
       "<aif360.algorithms.inprocessing.adversarial_debiasing.AdversarialDebiasing at 0x1305cde4940>"
      ]
     },
     "execution_count": 43,
     "metadata": {},
     "output_type": "execute_result"
    }
   ],
   "source": [
    "plain_model.fit(dataset_orig_train)"
   ]
  },
  {
   "cell_type": "code",
   "execution_count": 44,
   "id": "d7d4bbd6-f368-4fdd-8434-4f1ea1d7bad3",
   "metadata": {},
   "outputs": [],
   "source": [
    "# Apply the plain model to test data\n",
    "dataset_nodebiasing_train = plain_model.predict(dataset_orig_train)\n",
    "dataset_nodebiasing_val = plain_model.predict(dataset_orig_val)\n",
    "dataset_nodebiasing_test = plain_model.predict(dataset_orig_test)"
   ]
  },
  {
   "cell_type": "markdown",
   "id": "e1a2d784-bd84-467d-8de4-604bdf4b7b38",
   "metadata": {},
   "source": [
    "##### Validation and Test data"
   ]
  },
  {
   "cell_type": "code",
   "execution_count": 45,
   "id": "19c98b37-006b-4c00-aaf4-7f5e2e7b8beb",
   "metadata": {},
   "outputs": [
    {
     "name": "stdout",
     "output_type": "stream",
     "text": [
      "Balanced accuracy = 0.5916\n",
      "Statistical parity difference = -0.0386\n",
      "Disparate impact = 0.5666\n",
      "Average odds difference = 0.0169\n",
      "Equal opportunity difference = 0.0443\n",
      "Theil index = 0.2308\n",
      "Conditional Use Accuracy Equality = 0.7857\n",
      "Balanced accuracy = 0.5964\n",
      "Statistical parity difference = -0.0556\n",
      "Disparate impact = 0.4225\n",
      "Average odds difference = -0.0130\n",
      "Equal opportunity difference = -0.0016\n",
      "Theil index = 0.2248\n",
      "Conditional Use Accuracy Equality = 0.7905\n"
     ]
    }
   ],
   "source": [
    "#For Validation Set\n",
    "metric_val_bef = compute_metrics(dataset_orig_val, dataset_nodebiasing_val, unprivileged_groups, privileged_groups)\n",
    "\n",
    "results[\"balanced_accuracy\"][\"no_adversarial_debiasing\"][\"validation\"] = metric_val_bef[\"Balanced accuracy\"]\n",
    "results[\"disparate_impact_ratio\"][\"no_adversarial_debiasing\"][\"validation\"] = metric_val_bef[\"Disparate impact\"]\n",
    "results[\"average_odds_difference\"][\"no_adversarial_debiasing\"][\"validation\"] = metric_val_bef[\"Average odds difference\"]\n",
    "\n",
    "#For Test Set\n",
    "metric_test_bef = compute_metrics(dataset_orig_test, dataset_nodebiasing_test, unprivileged_groups, privileged_groups)\n",
    "\n",
    "results[\"balanced_accuracy\"][\"no_adversarial_debiasing\"][\"test\"] = metric_test_bef[\"Balanced accuracy\"]\n",
    "results[\"disparate_impact_ratio\"][\"no_adversarial_debiasing\"][\"test\"] = metric_test_bef[\"Disparate impact\"]\n",
    "results[\"average_odds_difference\"][\"no_adversarial_debiasing\"][\"test\"] = metric_test_bef[\"Average odds difference\"]"
   ]
  },
  {
   "cell_type": "code",
   "execution_count": 46,
   "id": "b38cda87-83d3-49e9-b75e-d1edca5200b7",
   "metadata": {},
   "outputs": [
    {
     "data": {
      "text/plain": [
       "{'validation': 0.5665808969186792, 'test': 0.422540392741735}"
      ]
     },
     "execution_count": 46,
     "metadata": {},
     "output_type": "execute_result"
    }
   ],
   "source": [
    "results[\"disparate_impact_ratio\"][\"no_adversarial_debiasing\"]"
   ]
  },
  {
   "cell_type": "markdown",
   "id": "3d1abcd7-497f-46d5-9d62-440c106bbfb8",
   "metadata": {},
   "source": [
    "### Apply in-processing algorithm Adversarial Learning"
   ]
  },
  {
   "cell_type": "code",
   "execution_count": 47,
   "id": "c21b3291-6fee-44b6-9fb8-72853a52c58f",
   "metadata": {},
   "outputs": [],
   "source": [
    "sess.close()\n",
    "tf.reset_default_graph()"
   ]
  },
  {
   "cell_type": "code",
   "execution_count": 48,
   "id": "bed1416e-6811-43c0-9692-c606d5ab02ae",
   "metadata": {},
   "outputs": [],
   "source": [
    "from sklearn.preprocessing import MinMaxScaler"
   ]
  },
  {
   "cell_type": "code",
   "execution_count": 49,
   "id": "9c254e5e-1179-43cf-8d4c-a3377ee84353",
   "metadata": {},
   "outputs": [],
   "source": [
    "min_max_scaler = MinMaxScaler()\n",
    "dataset_orig_train.features = min_max_scaler.fit_transform(dataset_orig_train.features)\n",
    "dataset_orig_test.features = min_max_scaler.transform(dataset_orig_test.features)"
   ]
  },
  {
   "cell_type": "code",
   "execution_count": 50,
   "id": "fa2f9c19-51ca-4974-a1b2-4646ead9513b",
   "metadata": {},
   "outputs": [],
   "source": [
    "sess = tf.Session()\n",
    "# Learn parameters with debias set to True\n",
    "debiased_model = AdversarialDebiasing(privileged_groups = privileged_groups,\n",
    "                          unprivileged_groups = unprivileged_groups,\n",
    "                          scope_name='debiased_classifier',\n",
    "                          debias=True,\n",
    "                          sess=sess)"
   ]
  },
  {
   "cell_type": "code",
   "execution_count": 51,
   "id": "97efa30b-e44c-46f3-975d-d40fe968ce44",
   "metadata": {},
   "outputs": [
    {
     "name": "stdout",
     "output_type": "stream",
     "text": [
      "epoch 0; iter: 0; batch classifier loss: 0.700844; batch adversarial loss: 0.658227\n",
      "epoch 0; iter: 200; batch classifier loss: 0.557421; batch adversarial loss: 0.660927\n",
      "epoch 1; iter: 0; batch classifier loss: 0.556059; batch adversarial loss: 0.624996\n",
      "epoch 1; iter: 200; batch classifier loss: 0.430199; batch adversarial loss: 0.611600\n",
      "epoch 2; iter: 0; batch classifier loss: 0.416515; batch adversarial loss: 0.619277\n",
      "epoch 2; iter: 200; batch classifier loss: 0.443796; batch adversarial loss: 0.542040\n",
      "epoch 3; iter: 0; batch classifier loss: 0.362688; batch adversarial loss: 0.604321\n",
      "epoch 3; iter: 200; batch classifier loss: 0.386386; batch adversarial loss: 0.629878\n",
      "epoch 4; iter: 0; batch classifier loss: 0.509934; batch adversarial loss: 0.647309\n",
      "epoch 4; iter: 200; batch classifier loss: 0.434534; batch adversarial loss: 0.590168\n",
      "epoch 5; iter: 0; batch classifier loss: 0.394803; batch adversarial loss: 0.618623\n",
      "epoch 5; iter: 200; batch classifier loss: 0.485907; batch adversarial loss: 0.571761\n",
      "epoch 6; iter: 0; batch classifier loss: 0.298590; batch adversarial loss: 0.542116\n",
      "epoch 6; iter: 200; batch classifier loss: 0.428970; batch adversarial loss: 0.594186\n",
      "epoch 7; iter: 0; batch classifier loss: 0.424376; batch adversarial loss: 0.565147\n",
      "epoch 7; iter: 200; batch classifier loss: 0.465944; batch adversarial loss: 0.572430\n",
      "epoch 8; iter: 0; batch classifier loss: 0.380371; batch adversarial loss: 0.610808\n",
      "epoch 8; iter: 200; batch classifier loss: 0.401035; batch adversarial loss: 0.598094\n",
      "epoch 9; iter: 0; batch classifier loss: 0.489591; batch adversarial loss: 0.561671\n",
      "epoch 9; iter: 200; batch classifier loss: 0.389804; batch adversarial loss: 0.583167\n",
      "epoch 10; iter: 0; batch classifier loss: 0.355504; batch adversarial loss: 0.594727\n",
      "epoch 10; iter: 200; batch classifier loss: 0.393480; batch adversarial loss: 0.597464\n",
      "epoch 11; iter: 0; batch classifier loss: 0.319668; batch adversarial loss: 0.572542\n",
      "epoch 11; iter: 200; batch classifier loss: 0.461262; batch adversarial loss: 0.615321\n",
      "epoch 12; iter: 0; batch classifier loss: 0.346808; batch adversarial loss: 0.644561\n",
      "epoch 12; iter: 200; batch classifier loss: 0.410902; batch adversarial loss: 0.599363\n",
      "epoch 13; iter: 0; batch classifier loss: 0.332693; batch adversarial loss: 0.570667\n",
      "epoch 13; iter: 200; batch classifier loss: 0.339621; batch adversarial loss: 0.609825\n",
      "epoch 14; iter: 0; batch classifier loss: 0.382957; batch adversarial loss: 0.603727\n",
      "epoch 14; iter: 200; batch classifier loss: 0.358245; batch adversarial loss: 0.561524\n",
      "epoch 15; iter: 0; batch classifier loss: 0.320625; batch adversarial loss: 0.621759\n",
      "epoch 15; iter: 200; batch classifier loss: 0.444808; batch adversarial loss: 0.648924\n",
      "epoch 16; iter: 0; batch classifier loss: 0.324527; batch adversarial loss: 0.611944\n",
      "epoch 16; iter: 200; batch classifier loss: 0.400366; batch adversarial loss: 0.568328\n",
      "epoch 17; iter: 0; batch classifier loss: 0.495205; batch adversarial loss: 0.543295\n",
      "epoch 17; iter: 200; batch classifier loss: 0.408700; batch adversarial loss: 0.608082\n",
      "epoch 18; iter: 0; batch classifier loss: 0.369467; batch adversarial loss: 0.607112\n",
      "epoch 18; iter: 200; batch classifier loss: 0.328454; batch adversarial loss: 0.617566\n",
      "epoch 19; iter: 0; batch classifier loss: 0.355690; batch adversarial loss: 0.636128\n",
      "epoch 19; iter: 200; batch classifier loss: 0.346787; batch adversarial loss: 0.527946\n",
      "epoch 20; iter: 0; batch classifier loss: 0.294973; batch adversarial loss: 0.633928\n",
      "epoch 20; iter: 200; batch classifier loss: 0.376611; batch adversarial loss: 0.559390\n",
      "epoch 21; iter: 0; batch classifier loss: 0.396036; batch adversarial loss: 0.616948\n",
      "epoch 21; iter: 200; batch classifier loss: 0.364322; batch adversarial loss: 0.608513\n",
      "epoch 22; iter: 0; batch classifier loss: 0.451348; batch adversarial loss: 0.695009\n",
      "epoch 22; iter: 200; batch classifier loss: 0.480268; batch adversarial loss: 0.628409\n",
      "epoch 23; iter: 0; batch classifier loss: 0.355452; batch adversarial loss: 0.674119\n",
      "epoch 23; iter: 200; batch classifier loss: 0.379765; batch adversarial loss: 0.600123\n",
      "epoch 24; iter: 0; batch classifier loss: 0.305328; batch adversarial loss: 0.642418\n",
      "epoch 24; iter: 200; batch classifier loss: 0.303985; batch adversarial loss: 0.597173\n",
      "epoch 25; iter: 0; batch classifier loss: 0.315898; batch adversarial loss: 0.629391\n",
      "epoch 25; iter: 200; batch classifier loss: 0.439420; batch adversarial loss: 0.605113\n",
      "epoch 26; iter: 0; batch classifier loss: 0.317016; batch adversarial loss: 0.669847\n",
      "epoch 26; iter: 200; batch classifier loss: 0.338477; batch adversarial loss: 0.643012\n",
      "epoch 27; iter: 0; batch classifier loss: 0.333534; batch adversarial loss: 0.657998\n",
      "epoch 27; iter: 200; batch classifier loss: 0.374892; batch adversarial loss: 0.558380\n",
      "epoch 28; iter: 0; batch classifier loss: 0.422138; batch adversarial loss: 0.610694\n",
      "epoch 28; iter: 200; batch classifier loss: 0.417115; batch adversarial loss: 0.577207\n",
      "epoch 29; iter: 0; batch classifier loss: 0.344120; batch adversarial loss: 0.546884\n",
      "epoch 29; iter: 200; batch classifier loss: 0.392528; batch adversarial loss: 0.595786\n",
      "epoch 30; iter: 0; batch classifier loss: 0.327942; batch adversarial loss: 0.542514\n",
      "epoch 30; iter: 200; batch classifier loss: 0.345289; batch adversarial loss: 0.621904\n",
      "epoch 31; iter: 0; batch classifier loss: 0.353799; batch adversarial loss: 0.615509\n",
      "epoch 31; iter: 200; batch classifier loss: 0.362498; batch adversarial loss: 0.602757\n",
      "epoch 32; iter: 0; batch classifier loss: 0.396324; batch adversarial loss: 0.548500\n",
      "epoch 32; iter: 200; batch classifier loss: 0.368035; batch adversarial loss: 0.605071\n",
      "epoch 33; iter: 0; batch classifier loss: 0.330573; batch adversarial loss: 0.603411\n",
      "epoch 33; iter: 200; batch classifier loss: 0.432515; batch adversarial loss: 0.608441\n",
      "epoch 34; iter: 0; batch classifier loss: 0.370034; batch adversarial loss: 0.590534\n",
      "epoch 34; iter: 200; batch classifier loss: 0.336396; batch adversarial loss: 0.605310\n",
      "epoch 35; iter: 0; batch classifier loss: 0.365502; batch adversarial loss: 0.660656\n",
      "epoch 35; iter: 200; batch classifier loss: 0.383744; batch adversarial loss: 0.607323\n",
      "epoch 36; iter: 0; batch classifier loss: 0.347293; batch adversarial loss: 0.591969\n",
      "epoch 36; iter: 200; batch classifier loss: 0.316155; batch adversarial loss: 0.627881\n",
      "epoch 37; iter: 0; batch classifier loss: 0.343760; batch adversarial loss: 0.666077\n",
      "epoch 37; iter: 200; batch classifier loss: 0.422766; batch adversarial loss: 0.545449\n",
      "epoch 38; iter: 0; batch classifier loss: 0.428614; batch adversarial loss: 0.654340\n",
      "epoch 38; iter: 200; batch classifier loss: 0.390952; batch adversarial loss: 0.592939\n",
      "epoch 39; iter: 0; batch classifier loss: 0.446446; batch adversarial loss: 0.586073\n",
      "epoch 39; iter: 200; batch classifier loss: 0.413101; batch adversarial loss: 0.564792\n",
      "epoch 40; iter: 0; batch classifier loss: 0.299067; batch adversarial loss: 0.641739\n",
      "epoch 40; iter: 200; batch classifier loss: 0.404677; batch adversarial loss: 0.586643\n",
      "epoch 41; iter: 0; batch classifier loss: 0.404181; batch adversarial loss: 0.637364\n",
      "epoch 41; iter: 200; batch classifier loss: 0.495223; batch adversarial loss: 0.556300\n",
      "epoch 42; iter: 0; batch classifier loss: 0.412575; batch adversarial loss: 0.669891\n",
      "epoch 42; iter: 200; batch classifier loss: 0.336107; batch adversarial loss: 0.621040\n",
      "epoch 43; iter: 0; batch classifier loss: 0.374141; batch adversarial loss: 0.585501\n",
      "epoch 43; iter: 200; batch classifier loss: 0.307683; batch adversarial loss: 0.595782\n",
      "epoch 44; iter: 0; batch classifier loss: 0.408143; batch adversarial loss: 0.600815\n",
      "epoch 44; iter: 200; batch classifier loss: 0.329504; batch adversarial loss: 0.702502\n",
      "epoch 45; iter: 0; batch classifier loss: 0.288200; batch adversarial loss: 0.630015\n",
      "epoch 45; iter: 200; batch classifier loss: 0.353320; batch adversarial loss: 0.570523\n",
      "epoch 46; iter: 0; batch classifier loss: 0.356578; batch adversarial loss: 0.598439\n",
      "epoch 46; iter: 200; batch classifier loss: 0.390601; batch adversarial loss: 0.555776\n",
      "epoch 47; iter: 0; batch classifier loss: 0.387459; batch adversarial loss: 0.593785\n",
      "epoch 47; iter: 200; batch classifier loss: 0.321557; batch adversarial loss: 0.596192\n",
      "epoch 48; iter: 0; batch classifier loss: 0.391074; batch adversarial loss: 0.623422\n",
      "epoch 48; iter: 200; batch classifier loss: 0.543881; batch adversarial loss: 0.605235\n",
      "epoch 49; iter: 0; batch classifier loss: 0.466873; batch adversarial loss: 0.594370\n",
      "epoch 49; iter: 200; batch classifier loss: 0.382008; batch adversarial loss: 0.574074\n"
     ]
    },
    {
     "data": {
      "text/plain": [
       "<aif360.algorithms.inprocessing.adversarial_debiasing.AdversarialDebiasing at 0x1305e405ee0>"
      ]
     },
     "execution_count": 51,
     "metadata": {},
     "output_type": "execute_result"
    }
   ],
   "source": [
    "debiased_model.fit(dataset_orig_train)"
   ]
  },
  {
   "cell_type": "code",
   "execution_count": null,
   "id": "d6b41b48-d589-4299-a648-efe194255a4a",
   "metadata": {},
   "outputs": [],
   "source": []
  },
  {
   "cell_type": "code",
   "execution_count": 52,
   "id": "f2bff60c-2a10-462c-b1f0-5fa9f6e9d13b",
   "metadata": {},
   "outputs": [],
   "source": [
    "# Apply the plain model to test data\n",
    "dataset_debiasing_train = debiased_model.predict(dataset_orig_train)\n",
    "dataset_debiasing_val = debiased_model.predict(dataset_orig_val)\n",
    "dataset_debiasing_test = debiased_model.predict(dataset_orig_test)"
   ]
  },
  {
   "cell_type": "markdown",
   "id": "1029ad0e-6a28-48d5-afb0-73c2bee08785",
   "metadata": {},
   "source": [
    "##### Validation and Test Data after implementing Adversarial Debiasing"
   ]
  },
  {
   "cell_type": "code",
   "execution_count": 53,
   "id": "6b3619e1-1233-4d8b-8d95-9bceeb9b24e9",
   "metadata": {},
   "outputs": [
    {
     "name": "stdout",
     "output_type": "stream",
     "text": [
      "Balanced accuracy = 0.5839\n",
      "Statistical parity difference = -0.0403\n",
      "Disparate impact = 0.5806\n",
      "Average odds difference = 0.0057\n",
      "Equal opportunity difference = 0.0238\n",
      "Theil index = 0.2356\n",
      "Conditional Use Accuracy Equality = 0.7828\n",
      "Balanced accuracy = 0.6777\n",
      "Statistical parity difference = -0.0571\n",
      "Disparate impact = 0.6390\n",
      "Average odds difference = 0.0057\n",
      "Equal opportunity difference = 0.0006\n",
      "Theil index = 0.1753\n",
      "Conditional Use Accuracy Equality = 0.8286\n"
     ]
    }
   ],
   "source": [
    "#For Transformed Validation Set\n",
    "metric_transf_val_bef = compute_metrics(dataset_orig_val, dataset_debiasing_val, unprivileged_groups, privileged_groups)\n",
    "\n",
    "results[\"balanced_accuracy\"][\"adversarial_debiasing\"][\"validation\"] = metric_transf_val_bef[\"Balanced accuracy\"]\n",
    "results[\"disparate_impact_ratio\"][\"adversarial_debiasing\"][\"validation\"] = metric_transf_val_bef[\"Disparate impact\"]\n",
    "results[\"average_odds_difference\"][\"adversarial_debiasing\"][\"validation\"] = metric_transf_val_bef[\"Average odds difference\"]\n",
    "\n",
    "#For Transformed Test Set\n",
    "metric_transf_test_bef = compute_metrics(dataset_orig_test, dataset_debiasing_test, unprivileged_groups, privileged_groups)\n",
    "\n",
    "results[\"balanced_accuracy\"][\"adversarial_debiasing\"][\"test\"] = metric_transf_test_bef[\"Balanced accuracy\"]\n",
    "results[\"disparate_impact_ratio\"][\"adversarial_debiasing\"][\"test\"] = metric_transf_test_bef[\"Disparate impact\"]\n",
    "results[\"average_odds_difference\"][\"adversarial_debiasing\"][\"test\"] = metric_transf_test_bef[\"Average odds difference\"]"
   ]
  },
  {
   "cell_type": "code",
   "execution_count": 54,
   "id": "89a76ba4-d1ca-48f8-9cd0-d39759023561",
   "metadata": {},
   "outputs": [
    {
     "data": {
      "text/plain": [
       "{'mean_difference': {'before_reweighing': -0.19911019753072282,\n",
       "  'after_reweighing': 5.551115123125783e-17},\n",
       " 'disparate_impact_ratio': {'before_reweighing': 0.3631666646822667,\n",
       "  'after_reweighing': 1.0000000000000002,\n",
       "  'before_disparate_impact_remover': 0.3631666646822667,\n",
       "  'after_disparate_impact_remover': 0.7000620570902111,\n",
       "  'before_reject_option_classification': {'validation': 0.2604352651643102,\n",
       "   'test': 0.2660801329324019},\n",
       "  'after_reject_option_classification': {'validation': 0.8756599294180772,\n",
       "   'test': 0.908118054077203},\n",
       "  'no_adversarial_debiasing': {'validation': 0.5665808969186792,\n",
       "   'test': 0.422540392741735},\n",
       "  'adversarial_debiasing': {'validation': 0.5806067146567365,\n",
       "   'test': 0.6390036720521413}},\n",
       " 'balanced_accuracy': {'before_reject_option_classification': {'validation': 0.769789602645629,\n",
       "   'test': 0.758687408499511},\n",
       "  'after_reject_option_classification': {'validation': 0.7408848822181486,\n",
       "   'test': 0.7323787858572981},\n",
       "  'no_adversarial_debiasing': {'validation': 0.5916360754482672,\n",
       "   'test': 0.5963722232030191},\n",
       "  'adversarial_debiasing': {'validation': 0.5839181911052325,\n",
       "   'test': 0.677652452898165}},\n",
       " 'average_odds_difference': {'before_reject_option_classification': {'validation': -0.30684459455419155,\n",
       "   'test': -0.3207258325272865},\n",
       "  'after_reject_option_classification': {'validation': 0.03311988465745544,\n",
       "   'test': 0.02675032522763593},\n",
       "  'no_adversarial_debiasing': {'validation': 0.016949837534377614,\n",
       "   'test': -0.012986192382170353},\n",
       "  'adversarial_debiasing': {'validation': 0.005660006803351134,\n",
       "   'test': 0.005695430794428}},\n",
       " 'statistical_parity_difference': {'before_reject_option_classification': {'validation': -0.3750581210385924,\n",
       "   'test': -0.36900296528366605},\n",
       "  'after_reject_option_classification': {'validation': -0.04897267803723804,\n",
       "   'test': -0.03535585799213409}},\n",
       " 'conditional_use_accuracy_equality': {'before_reject_option_classification': {'validation': 0.913104744011273,\n",
       "   'test': 0.9081728511038046},\n",
       "  'after_reject_option_classification': {'validation': 0.8941121712822899,\n",
       "   'test': 0.8899930667899237}}}"
      ]
     },
     "execution_count": 54,
     "metadata": {},
     "output_type": "execute_result"
    }
   ],
   "source": [
    "results"
   ]
  },
  {
   "cell_type": "code",
   "execution_count": 55,
   "id": "5885a836-98f8-49e8-974b-cec400183e73",
   "metadata": {},
   "outputs": [
    {
     "data": {
      "text/plain": [
       "{'before_reweighing': -0.19911019753072282,\n",
       " 'after_reweighing': 5.551115123125783e-17}"
      ]
     },
     "execution_count": 55,
     "metadata": {},
     "output_type": "execute_result"
    }
   ],
   "source": [
    "results[\"mean_difference\"]"
   ]
  },
  {
   "cell_type": "code",
   "execution_count": 56,
   "id": "9de0223a-6a72-455c-a573-b035fda12561",
   "metadata": {},
   "outputs": [
    {
     "data": {
      "text/plain": [
       "{'before_reject_option_classification': {'validation': -0.3750581210385924,\n",
       "  'test': -0.36900296528366605},\n",
       " 'after_reject_option_classification': {'validation': -0.04897267803723804,\n",
       "  'test': -0.03535585799213409}}"
      ]
     },
     "execution_count": 56,
     "metadata": {},
     "output_type": "execute_result"
    }
   ],
   "source": [
    "results[\"statistical_parity_difference\"]"
   ]
  },
  {
   "cell_type": "code",
   "execution_count": 57,
   "id": "64af9816-01d6-4b3f-b272-9eebf267819e",
   "metadata": {},
   "outputs": [],
   "source": [
    "import pandas as pd"
   ]
  },
  {
   "cell_type": "markdown",
   "id": "41f4fa63-caeb-43da-92da-2eafb157d147",
   "metadata": {},
   "source": [
    "### 9. Compare your pre- and post mitigation metrics."
   ]
  },
  {
   "cell_type": "markdown",
   "id": "e111b63d-4461-477b-a525-8a2ed5ac9321",
   "metadata": {},
   "source": [
    "#### Fairness Metric 1: Mean Difference"
   ]
  },
  {
   "cell_type": "code",
   "execution_count": 58,
   "id": "3fdad294-5bac-42f1-b968-64fbbc9e2288",
   "metadata": {},
   "outputs": [
    {
     "data": {
      "text/html": [
       "<div>\n",
       "<style scoped>\n",
       "    .dataframe tbody tr th:only-of-type {\n",
       "        vertical-align: middle;\n",
       "    }\n",
       "\n",
       "    .dataframe tbody tr th {\n",
       "        vertical-align: top;\n",
       "    }\n",
       "\n",
       "    .dataframe thead tr th {\n",
       "        text-align: left;\n",
       "    }\n",
       "</style>\n",
       "<table border=\"1\" class=\"dataframe\">\n",
       "  <thead>\n",
       "    <tr>\n",
       "      <th></th>\n",
       "      <th colspan=\"2\" halign=\"left\">Reweighing (Pre-processing)</th>\n",
       "    </tr>\n",
       "    <tr>\n",
       "      <th></th>\n",
       "      <th>before</th>\n",
       "      <th>after</th>\n",
       "    </tr>\n",
       "  </thead>\n",
       "  <tbody>\n",
       "    <tr>\n",
       "      <th>Mean Difference</th>\n",
       "      <td>-0.19911</td>\n",
       "      <td>5.551115e-17</td>\n",
       "    </tr>\n",
       "  </tbody>\n",
       "</table>\n",
       "</div>"
      ],
      "text/plain": [
       "                Reweighing (Pre-processing)              \n",
       "                                     before         after\n",
       "Mean Difference                    -0.19911  5.551115e-17"
      ]
     },
     "execution_count": 58,
     "metadata": {},
     "output_type": "execute_result"
    }
   ],
   "source": [
    "mean_diff = pd.DataFrame(results[\"mean_difference\"], index = [\"Mean Difference\"])\n",
    "header = [[\"Reweighing (Pre-processing)\", \"Reweighing (Pre-processing)\"],\n",
    "          [\"before\", \"after\"]]\n",
    "mean_diff.columns = header\n",
    "mean_diff"
   ]
  },
  {
   "cell_type": "markdown",
   "id": "542725d9-784e-43a5-bf7d-d47cdff62fda",
   "metadata": {},
   "source": [
    "As we can see that <b>Reweighing</b> (Bias Mitigation Algorithm) works well on the <b> Mean Difference</b> Fairness metric. It reduces it exponentially."
   ]
  },
  {
   "cell_type": "markdown",
   "id": "eb271053-20d6-4b59-b890-a926988f235c",
   "metadata": {},
   "source": [
    "#### Fairness Metric 2: Disparate Impact Ratio"
   ]
  },
  {
   "cell_type": "markdown",
   "id": "a71cdca8-8eb2-4051-a69b-2bbec07eb2b8",
   "metadata": {},
   "source": [
    "#### Comparision of Bias Mitigation Algorithms:\n",
    "<ol>\n",
    "    <li>Reweighing <b>(Pre-Processing)</b></li>\n",
    "    <li>Disparate Impact Remover <b>(Pre-Processing)</b></li>\n",
    "    <li>Reject Option Classifier <b>(Post-Processing)</b></li>\n",
    "    <li>Adversarial Debaising <b>(In-Processing)</b></li>\n",
    "</ol>"
   ]
  },
  {
   "cell_type": "code",
   "execution_count": 59,
   "id": "14466acc-1e8a-455e-8139-f6dba39b4ae5",
   "metadata": {},
   "outputs": [
    {
     "data": {
      "text/html": [
       "<div>\n",
       "<style scoped>\n",
       "    .dataframe tbody tr th:only-of-type {\n",
       "        vertical-align: middle;\n",
       "    }\n",
       "\n",
       "    .dataframe tbody tr th {\n",
       "        vertical-align: top;\n",
       "    }\n",
       "\n",
       "    .dataframe thead tr th {\n",
       "        text-align: left;\n",
       "    }\n",
       "</style>\n",
       "<table border=\"1\" class=\"dataframe\">\n",
       "  <thead>\n",
       "    <tr>\n",
       "      <th></th>\n",
       "      <th colspan=\"4\" halign=\"left\">Pre-Processing</th>\n",
       "      <th colspan=\"2\" halign=\"left\">Post-Processing</th>\n",
       "      <th colspan=\"2\" halign=\"left\">In-Processing</th>\n",
       "    </tr>\n",
       "    <tr>\n",
       "      <th></th>\n",
       "      <th colspan=\"2\" halign=\"left\">Reweighing</th>\n",
       "      <th colspan=\"2\" halign=\"left\">Disparate Impact Remover</th>\n",
       "      <th colspan=\"2\" halign=\"left\">Reject Option Classifier</th>\n",
       "      <th colspan=\"2\" halign=\"left\">Adversarial Debaising</th>\n",
       "    </tr>\n",
       "    <tr>\n",
       "      <th></th>\n",
       "      <th>Before</th>\n",
       "      <th>After</th>\n",
       "      <th>Before</th>\n",
       "      <th>After</th>\n",
       "      <th>Before</th>\n",
       "      <th>After</th>\n",
       "      <th>No Effect</th>\n",
       "      <th>After Effect</th>\n",
       "    </tr>\n",
       "  </thead>\n",
       "  <tbody>\n",
       "    <tr>\n",
       "      <th>validation</th>\n",
       "      <td>0.363167</td>\n",
       "      <td>1.0</td>\n",
       "      <td>0.363167</td>\n",
       "      <td>0.700062</td>\n",
       "      <td>0.260435</td>\n",
       "      <td>0.875660</td>\n",
       "      <td>0.566581</td>\n",
       "      <td>0.580607</td>\n",
       "    </tr>\n",
       "    <tr>\n",
       "      <th>test</th>\n",
       "      <td>0.363167</td>\n",
       "      <td>1.0</td>\n",
       "      <td>0.363167</td>\n",
       "      <td>0.700062</td>\n",
       "      <td>0.266080</td>\n",
       "      <td>0.908118</td>\n",
       "      <td>0.422540</td>\n",
       "      <td>0.639004</td>\n",
       "    </tr>\n",
       "  </tbody>\n",
       "</table>\n",
       "</div>"
      ],
      "text/plain": [
       "           Pre-Processing                                           \\\n",
       "               Reweighing       Disparate Impact Remover             \n",
       "                   Before After                   Before     After   \n",
       "validation       0.363167   1.0                 0.363167  0.700062   \n",
       "test             0.363167   1.0                 0.363167  0.700062   \n",
       "\n",
       "                    Post-Processing                   In-Processing  \\\n",
       "           Reject Option Classifier           Adversarial Debaising   \n",
       "                             Before     After             No Effect   \n",
       "validation                 0.260435  0.875660              0.566581   \n",
       "test                       0.266080  0.908118              0.422540   \n",
       "\n",
       "                         \n",
       "                         \n",
       "           After Effect  \n",
       "validation     0.580607  \n",
       "test           0.639004  "
      ]
     },
     "execution_count": 59,
     "metadata": {},
     "output_type": "execute_result"
    }
   ],
   "source": [
    "disparate_impact_ratio = pd.DataFrame(results[\"disparate_impact_ratio\"])\n",
    "header = [[\"Pre-Processing\", \"Pre-Processing\", \"Pre-Processing\", \"Pre-Processing\", \"Post-Processing\", \"Post-Processing\", \n",
    "           \"In-Processing\", \"In-Processing\"], \n",
    "          [\"Reweighing\", \"Reweighing\", \"Disparate Impact Remover\", \"Disparate Impact Remover\",\"Reject Option Classifier\",\n",
    "           \"Reject Option Classifier\", \"Adversarial Debaising\", \"Adversarial Debaising\"],\n",
    "          [\"Before\", \"After\", \"Before\", \"After\", \"Before\", \"After\", \"No Effect\", \"After Effect\"]]\n",
    "disparate_impact_ratio.columns = header\n",
    "disparate_impact_ratio"
   ]
  },
  {
   "cell_type": "markdown",
   "id": "2fbf64d4-4630-458e-a7b9-5fe6430461ee",
   "metadata": {},
   "source": [
    "When it comes to <b>Disparate Impact Ratio</b> Fiarness metric, <b>Reweighing</b> outperforms other algorithms to increase the disparate impact."
   ]
  },
  {
   "cell_type": "code",
   "execution_count": 60,
   "id": "947e5521-08c5-4be6-9c1f-d835797c8b4e",
   "metadata": {},
   "outputs": [
    {
     "data": {
      "text/plain": [
       "dict_keys(['mean_difference', 'disparate_impact_ratio', 'balanced_accuracy', 'average_odds_difference', 'statistical_parity_difference', 'conditional_use_accuracy_equality'])"
      ]
     },
     "execution_count": 60,
     "metadata": {},
     "output_type": "execute_result"
    }
   ],
   "source": [
    "results.keys()"
   ]
  },
  {
   "cell_type": "code",
   "execution_count": 61,
   "id": "1565a853-4ac5-4909-bb7e-dd1eaa44389e",
   "metadata": {},
   "outputs": [
    {
     "data": {
      "text/plain": [
       "dict_keys(['before_reject_option_classification', 'after_reject_option_classification', 'no_adversarial_debiasing', 'adversarial_debiasing'])"
      ]
     },
     "execution_count": 61,
     "metadata": {},
     "output_type": "execute_result"
    }
   ],
   "source": [
    "results[\"balanced_accuracy\"].keys()"
   ]
  },
  {
   "cell_type": "markdown",
   "id": "d54ff0dc-24c3-462d-86a8-7b722fbbe301",
   "metadata": {},
   "source": [
    "#### Fairness Metric 3: Balanced Accuracy"
   ]
  },
  {
   "cell_type": "markdown",
   "id": "6e23e028-54e8-41e1-bff8-f8b9f08bccea",
   "metadata": {},
   "source": [
    "#### Comparision of Bias Mitigation Algorithms:\n",
    "<ol>\n",
    "    <li>Reject Option Classifier <b>(Post-Processing)</b></li>\n",
    "    <li>Adversarial Debaising <b>(In-Processing)</b></li>\n",
    "</ol>"
   ]
  },
  {
   "cell_type": "code",
   "execution_count": 62,
   "id": "1192db91-55cc-43f2-9ee8-1163bf601e9e",
   "metadata": {},
   "outputs": [
    {
     "data": {
      "text/html": [
       "<div>\n",
       "<style scoped>\n",
       "    .dataframe tbody tr th:only-of-type {\n",
       "        vertical-align: middle;\n",
       "    }\n",
       "\n",
       "    .dataframe tbody tr th {\n",
       "        vertical-align: top;\n",
       "    }\n",
       "\n",
       "    .dataframe thead tr th {\n",
       "        text-align: left;\n",
       "    }\n",
       "</style>\n",
       "<table border=\"1\" class=\"dataframe\">\n",
       "  <thead>\n",
       "    <tr>\n",
       "      <th></th>\n",
       "      <th colspan=\"2\" halign=\"left\">Post-Processing</th>\n",
       "      <th colspan=\"2\" halign=\"left\">In-Processing</th>\n",
       "    </tr>\n",
       "    <tr>\n",
       "      <th></th>\n",
       "      <th colspan=\"2\" halign=\"left\">Reject Option Classifier</th>\n",
       "      <th colspan=\"2\" halign=\"left\">Adversarial Debaising</th>\n",
       "    </tr>\n",
       "    <tr>\n",
       "      <th></th>\n",
       "      <th>Before</th>\n",
       "      <th>After</th>\n",
       "      <th>No Effect</th>\n",
       "      <th>After Effect</th>\n",
       "    </tr>\n",
       "  </thead>\n",
       "  <tbody>\n",
       "    <tr>\n",
       "      <th>validation</th>\n",
       "      <td>0.769790</td>\n",
       "      <td>0.740885</td>\n",
       "      <td>0.591636</td>\n",
       "      <td>0.583918</td>\n",
       "    </tr>\n",
       "    <tr>\n",
       "      <th>test</th>\n",
       "      <td>0.758687</td>\n",
       "      <td>0.732379</td>\n",
       "      <td>0.596372</td>\n",
       "      <td>0.677652</td>\n",
       "    </tr>\n",
       "  </tbody>\n",
       "</table>\n",
       "</div>"
      ],
      "text/plain": [
       "                    Post-Processing                   In-Processing  \\\n",
       "           Reject Option Classifier           Adversarial Debaising   \n",
       "                             Before     After             No Effect   \n",
       "validation                 0.769790  0.740885              0.591636   \n",
       "test                       0.758687  0.732379              0.596372   \n",
       "\n",
       "                         \n",
       "                         \n",
       "           After Effect  \n",
       "validation     0.583918  \n",
       "test           0.677652  "
      ]
     },
     "execution_count": 62,
     "metadata": {},
     "output_type": "execute_result"
    }
   ],
   "source": [
    "balanced_accuracy = pd.DataFrame(results[\"balanced_accuracy\"])\n",
    "header = [[\"Post-Processing\", \"Post-Processing\", \"In-Processing\", \"In-Processing\"], \n",
    "          [\"Reject Option Classifier\",\"Reject Option Classifier\", \"Adversarial Debaising\", \"Adversarial Debaising\"],\n",
    "          [\"Before\", \"After\", \"No Effect\", \"After Effect\"]]\n",
    "balanced_accuracy.columns = header\n",
    "balanced_accuracy"
   ]
  },
  {
   "cell_type": "markdown",
   "id": "3f35a584-5d64-4c09-818d-a1e91560e4c8",
   "metadata": {},
   "source": [
    "<b>Reject Option Classifier</b> Algorithm performs better than adversarial Debiasing algorithms in the <b>Balanced Accuracy</b> metric."
   ]
  },
  {
   "cell_type": "markdown",
   "id": "f5c878c7-82ff-4b0e-953f-a0bde29b0db4",
   "metadata": {},
   "source": [
    "#### Fairness Metric 4: Average Odds Difference"
   ]
  },
  {
   "cell_type": "markdown",
   "id": "e3f1fe30-dd64-4cc2-9d56-1d01d2a3db84",
   "metadata": {},
   "source": [
    "#### Comparision of Bias Mitigation Algorithms:\n",
    "<ol>\n",
    "    <li>Reject Option Classifier <b>(Post-Processing)</b></li>\n",
    "    <li>Adversarial Debaising <b>(In-Processing)</b></li>\n",
    "</ol>"
   ]
  },
  {
   "cell_type": "code",
   "execution_count": 63,
   "id": "9c75495f-601d-4f10-8a73-e503dee774f1",
   "metadata": {},
   "outputs": [
    {
     "data": {
      "text/html": [
       "<div>\n",
       "<style scoped>\n",
       "    .dataframe tbody tr th:only-of-type {\n",
       "        vertical-align: middle;\n",
       "    }\n",
       "\n",
       "    .dataframe tbody tr th {\n",
       "        vertical-align: top;\n",
       "    }\n",
       "\n",
       "    .dataframe thead tr th {\n",
       "        text-align: left;\n",
       "    }\n",
       "</style>\n",
       "<table border=\"1\" class=\"dataframe\">\n",
       "  <thead>\n",
       "    <tr>\n",
       "      <th></th>\n",
       "      <th colspan=\"2\" halign=\"left\">Post-Processing</th>\n",
       "      <th colspan=\"2\" halign=\"left\">In-Processing</th>\n",
       "    </tr>\n",
       "    <tr>\n",
       "      <th></th>\n",
       "      <th colspan=\"2\" halign=\"left\">Reject Option Classifier</th>\n",
       "      <th colspan=\"2\" halign=\"left\">Adversarial Debaising</th>\n",
       "    </tr>\n",
       "    <tr>\n",
       "      <th></th>\n",
       "      <th>Before</th>\n",
       "      <th>After</th>\n",
       "      <th>No Effect</th>\n",
       "      <th>After Effect</th>\n",
       "    </tr>\n",
       "  </thead>\n",
       "  <tbody>\n",
       "    <tr>\n",
       "      <th>validation</th>\n",
       "      <td>-0.306845</td>\n",
       "      <td>0.03312</td>\n",
       "      <td>0.016950</td>\n",
       "      <td>0.005660</td>\n",
       "    </tr>\n",
       "    <tr>\n",
       "      <th>test</th>\n",
       "      <td>-0.320726</td>\n",
       "      <td>0.02675</td>\n",
       "      <td>-0.012986</td>\n",
       "      <td>0.005695</td>\n",
       "    </tr>\n",
       "  </tbody>\n",
       "</table>\n",
       "</div>"
      ],
      "text/plain": [
       "                    Post-Processing                  In-Processing  \\\n",
       "           Reject Option Classifier          Adversarial Debaising   \n",
       "                             Before    After             No Effect   \n",
       "validation                -0.306845  0.03312              0.016950   \n",
       "test                      -0.320726  0.02675             -0.012986   \n",
       "\n",
       "                         \n",
       "                         \n",
       "           After Effect  \n",
       "validation     0.005660  \n",
       "test           0.005695  "
      ]
     },
     "execution_count": 63,
     "metadata": {},
     "output_type": "execute_result"
    }
   ],
   "source": [
    "average_odds_diff = pd.DataFrame(results[\"average_odds_difference\"])\n",
    "header = [[\"Post-Processing\", \"Post-Processing\", \"In-Processing\", \"In-Processing\"], \n",
    "          [\"Reject Option Classifier\",\"Reject Option Classifier\", \"Adversarial Debaising\", \"Adversarial Debaising\"],\n",
    "          [\"Before\", \"After\", \"No Effect\", \"After Effect\"]]\n",
    "average_odds_diff.columns = header\n",
    "average_odds_diff"
   ]
  },
  {
   "cell_type": "markdown",
   "id": "2012afbc-e736-4c35-97c9-00d19276b15a",
   "metadata": {},
   "source": [
    "We got the lowest <b>Average Odds Difference (Equalised)</b> Fairness metric when using <b>Adversarial Debaising</b>/"
   ]
  },
  {
   "cell_type": "code",
   "execution_count": null,
   "id": "660d0743-744c-4b44-a9ce-ad7ea1ece420",
   "metadata": {},
   "outputs": [],
   "source": []
  },
  {
   "cell_type": "markdown",
   "id": "48fec063-824a-49f2-95c4-c4ebd7661515",
   "metadata": {},
   "source": [
    "#### Fairness Metric 5: Statistical Parity Difference"
   ]
  },
  {
   "cell_type": "markdown",
   "id": "3c56b786-74a1-43b8-bfe0-ccbc1baf99f3",
   "metadata": {},
   "source": [
    "#### Comparision of Bias Mitigation Algorithms:\n",
    "<ol>\n",
    "    <li>Reject Option Classifier <b>(Post-Processing)</b></li>\n",
    "</ol>"
   ]
  },
  {
   "cell_type": "markdown",
   "id": "6db40509-15eb-4d55-b064-a16c4f2bb154",
   "metadata": {},
   "source": [
    "#### Reject Option Classification"
   ]
  },
  {
   "cell_type": "code",
   "execution_count": 64,
   "id": "d1925c78-cadd-4583-8e39-fb88c622b36c",
   "metadata": {},
   "outputs": [
    {
     "data": {
      "text/html": [
       "<div>\n",
       "<style scoped>\n",
       "    .dataframe tbody tr th:only-of-type {\n",
       "        vertical-align: middle;\n",
       "    }\n",
       "\n",
       "    .dataframe tbody tr th {\n",
       "        vertical-align: top;\n",
       "    }\n",
       "\n",
       "    .dataframe thead tr th {\n",
       "        text-align: left;\n",
       "    }\n",
       "</style>\n",
       "<table border=\"1\" class=\"dataframe\">\n",
       "  <thead>\n",
       "    <tr>\n",
       "      <th></th>\n",
       "      <th colspan=\"2\" halign=\"left\">Reject Option Classification</th>\n",
       "    </tr>\n",
       "    <tr>\n",
       "      <th></th>\n",
       "      <th>before_using</th>\n",
       "      <th>after_using</th>\n",
       "    </tr>\n",
       "  </thead>\n",
       "  <tbody>\n",
       "    <tr>\n",
       "      <th>validation</th>\n",
       "      <td>-0.375058</td>\n",
       "      <td>-0.048973</td>\n",
       "    </tr>\n",
       "    <tr>\n",
       "      <th>test</th>\n",
       "      <td>-0.369003</td>\n",
       "      <td>-0.035356</td>\n",
       "    </tr>\n",
       "  </tbody>\n",
       "</table>\n",
       "</div>"
      ],
      "text/plain": [
       "           Reject Option Classification            \n",
       "                           before_using after_using\n",
       "validation                    -0.375058   -0.048973\n",
       "test                          -0.369003   -0.035356"
      ]
     },
     "execution_count": 64,
     "metadata": {},
     "output_type": "execute_result"
    }
   ],
   "source": [
    "spd = pd.DataFrame(results[\"statistical_parity_difference\"])\n",
    "header = [[\"Reject Option Classification\", \"Reject Option Classification\"],\n",
    "          [\"before_using\", \"after_using\"]]\n",
    "spd.columns = header\n",
    "spd"
   ]
  },
  {
   "cell_type": "markdown",
   "id": "269c678a-d43a-4aa2-809a-3a458e505f97",
   "metadata": {},
   "source": []
  },
  {
   "cell_type": "markdown",
   "id": "fa9f417f-454d-4e05-9c9c-5b0817a8c750",
   "metadata": {},
   "source": [
    "#### Fairness Metric 5: Conditional Use Accuracy Equality"
   ]
  },
  {
   "cell_type": "markdown",
   "id": "780604fc-85f7-4bdd-be74-9a45cfb453a5",
   "metadata": {},
   "source": [
    "#### Comparision of Bias Mitigation Algorithms:\n",
    "<ol>\n",
    "    <li>Reject Option Classifier <b>(Post-Processing)</b></li>\n",
    "</ol>"
   ]
  },
  {
   "cell_type": "markdown",
   "id": "036607f4-52cc-4433-a593-88dcaf4bbcbb",
   "metadata": {},
   "source": [
    "#### Reject Option Classification vs Calibrated Equalised Odds Difference"
   ]
  },
  {
   "cell_type": "code",
   "execution_count": 65,
   "id": "75c8168b-e485-48fc-9466-a70684e7c9da",
   "metadata": {},
   "outputs": [
    {
     "data": {
      "text/html": [
       "<div>\n",
       "<style scoped>\n",
       "    .dataframe tbody tr th:only-of-type {\n",
       "        vertical-align: middle;\n",
       "    }\n",
       "\n",
       "    .dataframe tbody tr th {\n",
       "        vertical-align: top;\n",
       "    }\n",
       "\n",
       "    .dataframe thead tr th {\n",
       "        text-align: left;\n",
       "    }\n",
       "</style>\n",
       "<table border=\"1\" class=\"dataframe\">\n",
       "  <thead>\n",
       "    <tr>\n",
       "      <th></th>\n",
       "      <th colspan=\"2\" halign=\"left\">Post-Processing</th>\n",
       "    </tr>\n",
       "    <tr>\n",
       "      <th></th>\n",
       "      <th colspan=\"2\" halign=\"left\">Reject Option Classification</th>\n",
       "    </tr>\n",
       "    <tr>\n",
       "      <th></th>\n",
       "      <th>Before</th>\n",
       "      <th>After</th>\n",
       "    </tr>\n",
       "  </thead>\n",
       "  <tbody>\n",
       "    <tr>\n",
       "      <th>validation</th>\n",
       "      <td>0.913105</td>\n",
       "      <td>0.894112</td>\n",
       "    </tr>\n",
       "    <tr>\n",
       "      <th>test</th>\n",
       "      <td>0.908173</td>\n",
       "      <td>0.889993</td>\n",
       "    </tr>\n",
       "  </tbody>\n",
       "</table>\n",
       "</div>"
      ],
      "text/plain": [
       "                        Post-Processing          \n",
       "           Reject Option Classification          \n",
       "                                 Before     After\n",
       "validation                     0.913105  0.894112\n",
       "test                           0.908173  0.889993"
      ]
     },
     "execution_count": 65,
     "metadata": {},
     "output_type": "execute_result"
    }
   ],
   "source": [
    "cond_use_acc_eq = pd.DataFrame(results[\"conditional_use_accuracy_equality\"])\n",
    "header = [[\"Post-Processing\", \"Post-Processing\"], \n",
    "          [\"Reject Option Classification\",\"Reject Option Classification\"],\n",
    "          [\"Before\", \"After\"]]\n",
    "cond_use_acc_eq.columns = header\n",
    "cond_use_acc_eq"
   ]
  },
  {
   "cell_type": "code",
   "execution_count": 66,
   "id": "c80999a8-08ce-45cb-aab1-3b8167c6e766",
   "metadata": {},
   "outputs": [
    {
     "data": {
      "text/plain": [
       "dict_keys(['before_reject_option_classification', 'after_reject_option_classification'])"
      ]
     },
     "execution_count": 66,
     "metadata": {},
     "output_type": "execute_result"
    }
   ],
   "source": [
    "results[\"conditional_use_accuracy_equality\"].keys()"
   ]
  },
  {
   "cell_type": "markdown",
   "id": "45b53f81-7ba9-4851-ab4d-e6d39b75d22b",
   "metadata": {},
   "source": [
    "We got the best accuracy when using <b>Reject Option Classificatio</b>, there is just a slight decrease in <b>Conditional Use Accuracy Equality</b>."
   ]
  },
  {
   "cell_type": "code",
   "execution_count": null,
   "id": "e8ff3525-b503-4bac-9c4c-9aff91bf6415",
   "metadata": {},
   "outputs": [],
   "source": []
  },
  {
   "cell_type": "markdown",
   "id": "7a6a4f7f-1711-41bc-bea3-4978aaaaf793",
   "metadata": {},
   "source": [
    "### <b> Repeat steps 6 to 9 again for at least four different bias mitigation algorithms. </b> After that, you can also look into a different protected attribute."
   ]
  },
  {
   "cell_type": "markdown",
   "id": "6a422b76-721e-413c-a662-d2d6f97e4df7",
   "metadata": {},
   "source": [
    "### Fairness Tools Overview"
   ]
  },
  {
   "cell_type": "markdown",
   "id": "7f6cd96f-e22b-449e-bf21-fcbd8a2fa7b9",
   "metadata": {},
   "source": [
    "Do a research on other fairness tools that are currently available. What are their use cases? Have some of them been used in the development of commercial products? Take a closer look on at least three other tools.\n",
    "\n",
    "Document your findings."
   ]
  },
  {
   "cell_type": "markdown",
   "id": "a0795d21-ad49-4581-81c0-e89351c0699f",
   "metadata": {},
   "source": [
    "#### AI Fairness Tools"
   ]
  },
  {
   "cell_type": "markdown",
   "id": "a6151bc7-56b4-41a1-b59e-af05daa17173",
   "metadata": {},
   "source": [
    "##### What-if Tool"
   ]
  },
  {
   "cell_type": "markdown",
   "id": "c9ae38da-66ee-45cb-a891-60cf2ee17841",
   "metadata": {},
   "source": [
    "The <b>What-if Tool</b> from Google is an open-source TensorBoard web application which lets users analyse an ML model without writing code. It visualises counterfactuals so that users can compare a data-point to the most similar point where the model predicts a different result. In addition, users can explore the effects of different classification thresholds, taking into account constraints such as different numerical fairness criteria.  There are a number of demos available – showing how the different functions work on pre-trained models. "
   ]
  },
  {
   "cell_type": "markdown",
   "id": "cf93445e-bd4b-42db-9e1e-6769f479d164",
   "metadata": {},
   "source": [
    "##### Deon"
   ]
  },
  {
   "cell_type": "markdown",
   "id": "a00765b6-5860-47b2-a60e-2e2bc598317b",
   "metadata": {},
   "source": [
    "An ethics checklist for responsible data science, <b>Deon</b> represents a starting point for teams to evaluate considerations related to advanced analytics and machine learning applications from data collection through deployment."
   ]
  },
  {
   "cell_type": "markdown",
   "id": "7ef22473-fa6c-45d7-839c-0aad83ab2b92",
   "metadata": {},
   "source": [
    "##### Model Cards"
   ]
  },
  {
   "cell_type": "markdown",
   "id": "8dec2b59-fc28-4ac8-bd19-b9b827f64bed",
   "metadata": {},
   "source": [
    "As machine learning applications are becoming increasingly ubiquitous, Google Research put forward the idea of <b>Model Cards</b> to confirm that the intent of a given model matches its use case. This credential is similar to the documentation of a car’s crash test rating in different environmental conditions. Model Cards can help stakeholders to <b>understand conditions under which the model is safe and appropriate to implement.</b>"
   ]
  },
  {
   "cell_type": "markdown",
   "id": "02c7e9ab-7757-428f-82f0-030e4cd038fc",
   "metadata": {},
   "source": [
    "### Summary"
   ]
  },
  {
   "cell_type": "markdown",
   "id": "cc2d0064-95aa-4614-a804-aed4d341d68c",
   "metadata": {},
   "source": [
    "Different Bias Mitigation algorithms works to satisfy diffrent metrics since their functionalities are limited to specific scenario. In this particular case, Reweighing does well to reduce mean_difference and increase disparate impact ratio, while adversarial debaising works well to reduce Average Odds Difference between priviledged and unpriviledged groups."
   ]
  },
  {
   "cell_type": "code",
   "execution_count": null,
   "id": "a75a2f14-a763-4104-bcbb-f7f068252f7a",
   "metadata": {},
   "outputs": [],
   "source": []
  }
 ],
 "metadata": {
  "kernelspec": {
   "display_name": "Python 3 (ipykernel)",
   "language": "python",
   "name": "python3"
  },
  "language_info": {
   "codemirror_mode": {
    "name": "ipython",
    "version": 3
   },
   "file_extension": ".py",
   "mimetype": "text/x-python",
   "name": "python",
   "nbconvert_exporter": "python",
   "pygments_lexer": "ipython3",
   "version": "3.9.0"
  }
 },
 "nbformat": 4,
 "nbformat_minor": 5
}
