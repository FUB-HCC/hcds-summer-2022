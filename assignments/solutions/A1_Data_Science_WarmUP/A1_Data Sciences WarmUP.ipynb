{
 "cells": [
  {
   "cell_type": "markdown",
   "id": "1f66dcc3",
   "metadata": {},
   "source": [
    "# A1 - Data Science WarmUP [SOLUTION]"
   ]
  },
  {
   "cell_type": "markdown",
   "id": "126eda42",
   "metadata": {},
   "source": [
    "Let's get the braincells going and the heartbeat running, since we will learn many new and interesting things this semester. \n",
    "\n",
    "We skip the whole Hello-World game, because in this master course we wanna reach for the universe. "
   ]
  },
  {
   "cell_type": "code",
   "execution_count": 1,
   "id": "be112b35",
   "metadata": {},
   "outputs": [
    {
     "data": {
      "text/html": [
       "<div>\n",
       "<style scoped>\n",
       "    .dataframe tbody tr th:only-of-type {\n",
       "        vertical-align: middle;\n",
       "    }\n",
       "\n",
       "    .dataframe tbody tr th {\n",
       "        vertical-align: top;\n",
       "    }\n",
       "\n",
       "    .dataframe thead th {\n",
       "        text-align: right;\n",
       "    }\n",
       "</style>\n",
       "<table border=\"1\" class=\"dataframe\">\n",
       "  <thead>\n",
       "    <tr style=\"text-align: right;\">\n",
       "      <th></th>\n",
       "      <th>timestamp</th>\n",
       "      <th>all-editor-types</th>\n",
       "      <th>anonymous</th>\n",
       "      <th>group-bot</th>\n",
       "      <th>name-bot</th>\n",
       "      <th>user</th>\n",
       "    </tr>\n",
       "  </thead>\n",
       "  <tbody>\n",
       "    <tr>\n",
       "      <th>0</th>\n",
       "      <td>2020-01-01T00:00:00.000Z</td>\n",
       "      <td>0</td>\n",
       "      <td>0</td>\n",
       "      <td>0</td>\n",
       "      <td>0</td>\n",
       "      <td>0</td>\n",
       "    </tr>\n",
       "    <tr>\n",
       "      <th>1</th>\n",
       "      <td>2020-01-02T00:00:00.000Z</td>\n",
       "      <td>0</td>\n",
       "      <td>0</td>\n",
       "      <td>0</td>\n",
       "      <td>0</td>\n",
       "      <td>0</td>\n",
       "    </tr>\n",
       "    <tr>\n",
       "      <th>2</th>\n",
       "      <td>2020-01-03T00:00:00.000Z</td>\n",
       "      <td>0</td>\n",
       "      <td>0</td>\n",
       "      <td>0</td>\n",
       "      <td>0</td>\n",
       "      <td>0</td>\n",
       "    </tr>\n",
       "    <tr>\n",
       "      <th>3</th>\n",
       "      <td>2020-01-04T00:00:00.000Z</td>\n",
       "      <td>0</td>\n",
       "      <td>0</td>\n",
       "      <td>0</td>\n",
       "      <td>0</td>\n",
       "      <td>0</td>\n",
       "    </tr>\n",
       "    <tr>\n",
       "      <th>4</th>\n",
       "      <td>2020-01-05T00:00:00.000Z</td>\n",
       "      <td>3</td>\n",
       "      <td>0</td>\n",
       "      <td>0</td>\n",
       "      <td>0</td>\n",
       "      <td>3</td>\n",
       "    </tr>\n",
       "    <tr>\n",
       "      <th>...</th>\n",
       "      <td>...</td>\n",
       "      <td>...</td>\n",
       "      <td>...</td>\n",
       "      <td>...</td>\n",
       "      <td>...</td>\n",
       "      <td>...</td>\n",
       "    </tr>\n",
       "    <tr>\n",
       "      <th>269</th>\n",
       "      <td>2020-09-26T00:00:00.000Z</td>\n",
       "      <td>6</td>\n",
       "      <td>0</td>\n",
       "      <td>0</td>\n",
       "      <td>0</td>\n",
       "      <td>6</td>\n",
       "    </tr>\n",
       "    <tr>\n",
       "      <th>270</th>\n",
       "      <td>2020-09-27T00:00:00.000Z</td>\n",
       "      <td>10</td>\n",
       "      <td>0</td>\n",
       "      <td>0</td>\n",
       "      <td>0</td>\n",
       "      <td>10</td>\n",
       "    </tr>\n",
       "    <tr>\n",
       "      <th>271</th>\n",
       "      <td>2020-09-28T00:00:00.000Z</td>\n",
       "      <td>12</td>\n",
       "      <td>0</td>\n",
       "      <td>0</td>\n",
       "      <td>0</td>\n",
       "      <td>12</td>\n",
       "    </tr>\n",
       "    <tr>\n",
       "      <th>272</th>\n",
       "      <td>2020-09-29T00:00:00.000Z</td>\n",
       "      <td>7</td>\n",
       "      <td>0</td>\n",
       "      <td>0</td>\n",
       "      <td>0</td>\n",
       "      <td>7</td>\n",
       "    </tr>\n",
       "    <tr>\n",
       "      <th>273</th>\n",
       "      <td>2020-09-30T00:00:00.000Z</td>\n",
       "      <td>9</td>\n",
       "      <td>0</td>\n",
       "      <td>0</td>\n",
       "      <td>0</td>\n",
       "      <td>9</td>\n",
       "    </tr>\n",
       "  </tbody>\n",
       "</table>\n",
       "<p>274 rows × 6 columns</p>\n",
       "</div>"
      ],
      "text/plain": [
       "                    timestamp  all-editor-types  anonymous  group-bot  \\\n",
       "0    2020-01-01T00:00:00.000Z                 0          0          0   \n",
       "1    2020-01-02T00:00:00.000Z                 0          0          0   \n",
       "2    2020-01-03T00:00:00.000Z                 0          0          0   \n",
       "3    2020-01-04T00:00:00.000Z                 0          0          0   \n",
       "4    2020-01-05T00:00:00.000Z                 3          0          0   \n",
       "..                        ...               ...        ...        ...   \n",
       "269  2020-09-26T00:00:00.000Z                 6          0          0   \n",
       "270  2020-09-27T00:00:00.000Z                10          0          0   \n",
       "271  2020-09-28T00:00:00.000Z                12          0          0   \n",
       "272  2020-09-29T00:00:00.000Z                 7          0          0   \n",
       "273  2020-09-30T00:00:00.000Z                 9          0          0   \n",
       "\n",
       "     name-bot  user  \n",
       "0           0     0  \n",
       "1           0     0  \n",
       "2           0     0  \n",
       "3           0     0  \n",
       "4           0     3  \n",
       "..        ...   ...  \n",
       "269         0     6  \n",
       "270         0    10  \n",
       "271         0    12  \n",
       "272         0     7  \n",
       "273         0     9  \n",
       "\n",
       "[274 rows x 6 columns]"
      ]
     },
     "execution_count": 1,
     "metadata": {},
     "output_type": "execute_result"
    }
   ],
   "source": [
    "# We need to add the necessary packages and get a glance sight at the data\n",
    "\n",
    "import pandas as pd\n",
    "edits_data = pd.read_csv(\"page-edits-data.csv\", index_col=0)\n",
    "edits_data"
   ]
  },
  {
   "cell_type": "markdown",
   "id": "4b6638bf",
   "metadata": {},
   "source": [
    "### I.      Let's reach for the stars "
   ]
  },
  {
   "cell_type": "markdown",
   "id": "9c0af44c",
   "metadata": {},
   "source": [
    "We will visualize the ratio of editor types using different kinds of charts, first using pandas itself and then matplotlib. First, we have to prepare the data a bit. Second, we calculate the sum() per column, make a Dataframe to_frame() out of it (cause it returns a Series), and then drop the first three rows using iloc[], cause we don't need them."
   ]
  },
  {
   "cell_type": "code",
   "execution_count": 1,
   "id": "143138bd",
   "metadata": {},
   "outputs": [
    {
     "ename": "NameError",
     "evalue": "name 'edits_data' is not defined",
     "output_type": "error",
     "traceback": [
      "\u001b[1;31m---------------------------------------------------------------------------\u001b[0m",
      "\u001b[1;31mNameError\u001b[0m                                 Traceback (most recent call last)",
      "\u001b[1;32m<ipython-input-1-9bd669365bfb>\u001b[0m in \u001b[0;36m<module>\u001b[1;34m\u001b[0m\n\u001b[1;32m----> 1\u001b[1;33m \u001b[0mplot_data\u001b[0m \u001b[1;33m=\u001b[0m \u001b[0medits_data\u001b[0m\u001b[1;33m.\u001b[0m\u001b[0msum\u001b[0m\u001b[1;33m(\u001b[0m\u001b[1;33m)\u001b[0m\u001b[1;33m.\u001b[0m\u001b[0mto_frame\u001b[0m\u001b[1;33m(\u001b[0m\u001b[0mname\u001b[0m\u001b[1;33m=\u001b[0m\u001b[1;34m\"groups\"\u001b[0m\u001b[1;33m)\u001b[0m\u001b[1;33m.\u001b[0m\u001b[0miloc\u001b[0m\u001b[1;33m[\u001b[0m\u001b[1;36m2\u001b[0m\u001b[1;33m:\u001b[0m\u001b[1;33m]\u001b[0m\u001b[1;33m\u001b[0m\u001b[1;33m\u001b[0m\u001b[0m\n\u001b[0m",
      "\u001b[1;31mNameError\u001b[0m: name 'edits_data' is not defined"
     ]
    }
   ],
   "source": [
    "plot_data = edits_data.sum().to_frame(name=\"groups\").iloc[2:]"
   ]
  },
  {
   "cell_type": "markdown",
   "id": "4f93b540",
   "metadata": {},
   "source": [
    "### II.     Data Wrangling"
   ]
  },
  {
   "cell_type": "markdown",
   "id": "797ea56f",
   "metadata": {},
   "source": [
    "### III.     Wikipedia Edits Plot"
   ]
  },
  {
   "cell_type": "code",
   "execution_count": null,
   "id": "5b26483a",
   "metadata": {},
   "outputs": [],
   "source": []
  }
 ],
 "metadata": {
  "kernelspec": {
   "display_name": "Python 3",
   "language": "python",
   "name": "python3"
  },
  "language_info": {
   "codemirror_mode": {
    "name": "ipython",
    "version": 3
   },
   "file_extension": ".py",
   "mimetype": "text/x-python",
   "name": "python",
   "nbconvert_exporter": "python",
   "pygments_lexer": "ipython3",
   "version": "3.8.8"
  }
 },
 "nbformat": 4,
 "nbformat_minor": 5
}
